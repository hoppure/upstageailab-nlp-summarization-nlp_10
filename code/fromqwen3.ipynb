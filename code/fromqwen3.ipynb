{
 "cells": [
  {
   "cell_type": "code",
   "execution_count": null,
   "id": "1934cb7c",
   "metadata": {},
   "outputs": [],
   "source": [
    "# from langchain_ollama import ChatOllama\n",
    "import pandas as pd\n",
    "import os\n",
    "import time\n",
    "from tqdm import tqdm\n",
    "from rouge import Rouge # 모델의 성능을 평가하기 위한 라이브러리입니다.\n",
    "from openai import OpenAI # openai==1.2.0\n",
    "from langchain_community.llms.solar import Solar\n",
    "from langchain_community.llms import Ollama\n",
    "from langchain_core.prompts import ChatPromptTemplate\n",
    "from langchain_upstage import ChatUpstage\n",
    "from langchain_ollama import ChatOllama\n",
    "\n"
   ]
  },
  {
   "cell_type": "code",
   "execution_count": 19,
   "id": "7a09a01f",
   "metadata": {},
   "outputs": [],
   "source": [
    "qwen3 = ChatOllama(model=\"qwen3:8b\", base_url=\"http://localhost:11434\")\n",
    "solar = ChatUpstage(api_key=\"up_PK0oMn7jOozEKicWiEnGw3nImMiuE\")\n",
    "\n"
   ]
  },
  {
   "cell_type": "code",
   "execution_count": null,
   "id": "0906ee2d",
   "metadata": {},
   "outputs": [
    {
     "data": {
      "text/plain": [
       "AIMessage(content='Bonjour, comment ça va?', additional_kwargs={'refusal': None}, response_metadata={'token_usage': {'completion_tokens': 9, 'prompt_tokens': 42, 'total_tokens': 51, 'completion_tokens_details': None, 'prompt_tokens_details': None}, 'model_name': 'solar-mini-250422', 'system_fingerprint': None, 'id': 'bb979dcd-42ac-4ade-800f-3da617bf6e09', 'service_tier': None, 'finish_reason': 'stop', 'logprobs': None}, id='run--50a05a16-808d-4efe-b42b-a7f6abacc45f-0', usage_metadata={'input_tokens': 42, 'output_tokens': 9, 'total_tokens': 51, 'input_token_details': {}, 'output_token_details': {}})"
      ]
     },
     "execution_count": 14,
     "metadata": {},
     "output_type": "execute_result"
    }
   ],
   "source": [
    "prompt = ChatPromptTemplate.from_messages(\n",
    "    [\n",
    "        (\"system\", \"You are an expert in the field of dialogue summarization. \" \\\n",
    "    \"Please summarize the following dialogue to only a sentnce in korean.\"),\n",
    "        (\"human\", \"Dialogue:\\n{dialogue}\\n\\nSummary:\\n\"),\n",
    "    ]\n",
    ")\n",
    "\n",
    "chain = prompt | qwen3\n",
    "chain = prompt | solar\n",
    "\n",
    "chain.invoke({\"dialogue\": })"
   ]
  },
  {
   "cell_type": "code",
   "execution_count": null,
   "id": "8503b418",
   "metadata": {},
   "outputs": [],
   "source": [
    "llm = ChatOpenAI()\n"
   ]
  },
  {
   "cell_type": "code",
   "execution_count": null,
   "id": "b2be8665",
   "metadata": {},
   "outputs": [],
   "source": []
  },
  {
   "cell_type": "code",
   "execution_count": null,
   "id": "bcfa2906",
   "metadata": {},
   "outputs": [],
   "source": []
  }
 ],
 "metadata": {
  "kernelspec": {
   "display_name": "py12",
   "language": "python",
   "name": "python3"
  },
  "language_info": {
   "codemirror_mode": {
    "name": "ipython",
    "version": 3
   },
   "file_extension": ".py",
   "mimetype": "text/x-python",
   "name": "python",
   "nbconvert_exporter": "python",
   "pygments_lexer": "ipython3",
   "version": "3.12.10"
  }
 },
 "nbformat": 4,
 "nbformat_minor": 5
}
