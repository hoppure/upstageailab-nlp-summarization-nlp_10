{
 "cells": [
  {
   "cell_type": "code",
   "execution_count": 1,
   "metadata": {
    "id": "zbZ7SU9P2TYN"
   },
   "outputs": [],
   "source": [
    "import pandas as pd\n",
    "import os\n",
    "import time\n",
    "\n",
    "import torch\n",
    "from tqdm import tqdm\n",
    "from rouge import Rouge # 모델의 성능을 평가하기 위한 라이브러리입니다.\n",
    "from openai import OpenAI # openai==1.2.0\n",
    "from transformers import AutoModelForCausalLM, AutoTokenizer\n",
    "from langchain_community.llms import Ollama"
   ]
  },
  {
   "cell_type": "code",
   "execution_count": 2,
   "metadata": {},
   "outputs": [
    {
     "data": {
      "application/vnd.jupyter.widget-view+json": {
       "model_id": "256cde48a7374d3091c4545b9d26c5ed",
       "version_major": 2,
       "version_minor": 0
      },
      "text/plain": [
       "Loading checkpoint shards:   0%|          | 0/5 [00:00<?, ?it/s]"
      ]
     },
     "metadata": {},
     "output_type": "display_data"
    }
   ],
   "source": [
    "tokenizer = AutoTokenizer.from_pretrained(\"yanolja/EEVE-Korean-10.8B-v1.0\")\n",
    "model = AutoModelForCausalLM.from_pretrained(\n",
    "    \"yanolja/EEVE-Korean-10.8B-v1.0\",\n",
    "    device_map=\"auto\",\n",
    "    torch_dtype=torch.float16,\n",
    ")"
   ]
  },
  {
   "cell_type": "code",
   "execution_count": 38,
   "metadata": {
    "colab": {
     "base_uri": "https://localhost:8080/",
     "height": 293
    },
    "id": "QFHIE2G04y-K",
    "outputId": "19312d21-f5bf-495f-c626-cc17b82024a4"
   },
   "outputs": [
    {
     "data": {
      "text/html": [
       "<div>\n",
       "<style scoped>\n",
       "    .dataframe tbody tr th:only-of-type {\n",
       "        vertical-align: middle;\n",
       "    }\n",
       "\n",
       "    .dataframe tbody tr th {\n",
       "        vertical-align: top;\n",
       "    }\n",
       "\n",
       "    .dataframe thead th {\n",
       "        text-align: right;\n",
       "    }\n",
       "</style>\n",
       "<table border=\"1\" class=\"dataframe\">\n",
       "  <thead>\n",
       "    <tr style=\"text-align: right;\">\n",
       "      <th></th>\n",
       "      <th>fname</th>\n",
       "      <th>ground_dialogue_ko</th>\n",
       "      <th>dialogue_en_trans</th>\n",
       "      <th>dialogue_en_trans2ko</th>\n",
       "      <th>groundtruth_summary</th>\n",
       "      <th>solarAPI_summary_from_ground_dialogue</th>\n",
       "      <th>solarAPI_summary_from_dialogue_en_trans2ko</th>\n",
       "      <th>topic</th>\n",
       "      <th>NER</th>\n",
       "    </tr>\n",
       "  </thead>\n",
       "  <tbody>\n",
       "    <tr>\n",
       "      <th>3996</th>\n",
       "      <td>train_3996</td>\n",
       "      <td>#Person1#: 제가 도와드릴 일이 있을까요?\\n#Person2#: 유럽 여행을...</td>\n",
       "      <td>#Person1#: Is there anything I can help you wi...</td>\n",
       "      <td>#Person1#: 도와드릴 일이 있으신가요?  \\n#Person2#: 유럽 여행을...</td>\n",
       "      <td>#Person2#가 #Person1#에게 유럽 여행 경로의 가격에 대해 묻고 있습니다.</td>\n",
       "      <td>#Person1#이 여행 경로 가격을 문의하자, #Person2#는 400달러에 4...</td>\n",
       "      <td>#Person1#: 유럽 여행 계획 관련 문의를 받고, 방문 도시 확정 여부를 확인...</td>\n",
       "      <td>유럽 여행 비용</td>\n",
       "      <td>Named Entities: 유럽</td>\n",
       "    </tr>\n",
       "    <tr>\n",
       "      <th>3997</th>\n",
       "      <td>train_3997</td>\n",
       "      <td>#Person1#: 주문하시겠어요?\\n#Person2#: 버거 하나랑 큰 감자튀김 ...</td>\n",
       "      <td>#Person1#: Are you ready to order?  \\n#Person2...</td>\n",
       "      <td>#Person1#: 주문하시겠어요?  \\n#Person2#: 버거 하나와 라지 프라...</td>\n",
       "      <td>고객이 버거, 큰 감자튀김, 큰 콜라를 주문합니다.</td>\n",
       "      <td>#Person1#이 주문을 요청하자, #Person2#는 버거 1개와 큰 감자튀김,...</td>\n",
       "      <td>#Person2#가 버거 1개, 라지 프라이, 라지 Coke를 주문하고 매장에서 식...</td>\n",
       "      <td>버거 주문</td>\n",
       "      <td>버거, 감자튀김, 콜라</td>\n",
       "    </tr>\n",
       "    <tr>\n",
       "      <th>3998</th>\n",
       "      <td>train_3998</td>\n",
       "      <td>#Person1#: Crabby 씨, 만나 뵙게 되어 반갑습니다.\\n#Person2...</td>\n",
       "      <td>#Person1#: Nice to meet you, Mr. Crabby.  \\n#P...</td>\n",
       "      <td>#Person1#: 크래비 씨, 만나서 반갑습니다.  \\n#Person2#: 안녕하...</td>\n",
       "      <td>Crabby 씨는 Jane 씨를 면접하면서 이전 회사에서의 능력에 대해 질문합니다....</td>\n",
       "      <td>Jane은 Crabby와의 면접에서 대학 졸업 후 2년간 근무한 비서 경험을 언급하...</td>\n",
       "      <td>제인 씨는 대학 졸업 후 2년간 비서 업무를 수행하며 좋은 동료들과 즐겁게 근무했으...</td>\n",
       "      <td>비서 경험 이직 이유</td>\n",
       "      <td>Jane, Crabby</td>\n",
       "    </tr>\n",
       "    <tr>\n",
       "      <th>3999</th>\n",
       "      <td>train_3999</td>\n",
       "      <td>#Person1#: 루시, 이 편지들 좀 보내줄래? \\n#Person2#: 네, 알...</td>\n",
       "      <td>#Person1#: Lucy, could you send these letters ...</td>\n",
       "      <td>#Person1#: 루시, 이 편지들을 대신 보내줄 수 있나요?  \\n#Person...</td>\n",
       "      <td>#Person1#은 #Person2#에게 런던에 있는 Mr. Charles에게 급한...</td>\n",
       "      <td>#Person1#이 루시에게 Mr. Charles에게 보낼 편지들을 처리하도록 지시...</td>\n",
       "      <td>#Person1#이 루시에게 찰스 씨에게 보낼 편지 처리에 대해 지시함. 두 통은 ...</td>\n",
       "      <td>우편 발송 요청</td>\n",
       "      <td>루시, Mr. Charles, 런던</td>\n",
       "    </tr>\n",
       "    <tr>\n",
       "      <th>4000</th>\n",
       "      <td>train_4000</td>\n",
       "      <td>#Person1#: 여보세요, 거기 계세요?\\n#Person2#: 네, 여기 있습니...</td>\n",
       "      <td>#Person1#: Hello? Are you there?  \\n#Person2#:...</td>\n",
       "      <td>#Person1#: 여보세요? 거기 계세요?  \\n#Person2#: 네, 여기 있...</td>\n",
       "      <td>#Person1#은 전화로 보안 목적으로 Mike Kowalski에게 몇 가지 질문...</td>\n",
       "      <td>#Person1#이 #Person2#에게 호텔 리셉션에 분실물 접수 여부를 확인한 ...</td>\n",
       "      <td>#Person1#이 #Person2#에게 호텔 리셉션에 제출된 정보가 없음을 확인한...</td>\n",
       "      <td>호텔 보안 확인</td>\n",
       "      <td>Mike Kowalski, #CardNumber#, #DateOfBirth#</td>\n",
       "    </tr>\n",
       "  </tbody>\n",
       "</table>\n",
       "</div>"
      ],
      "text/plain": [
       "           fname                                 ground_dialogue_ko  \\\n",
       "3996  train_3996  #Person1#: 제가 도와드릴 일이 있을까요?\\n#Person2#: 유럽 여행을...   \n",
       "3997  train_3997  #Person1#: 주문하시겠어요?\\n#Person2#: 버거 하나랑 큰 감자튀김 ...   \n",
       "3998  train_3998  #Person1#: Crabby 씨, 만나 뵙게 되어 반갑습니다.\\n#Person2...   \n",
       "3999  train_3999  #Person1#: 루시, 이 편지들 좀 보내줄래? \\n#Person2#: 네, 알...   \n",
       "4000  train_4000  #Person1#: 여보세요, 거기 계세요?\\n#Person2#: 네, 여기 있습니...   \n",
       "\n",
       "                                      dialogue_en_trans  \\\n",
       "3996  #Person1#: Is there anything I can help you wi...   \n",
       "3997  #Person1#: Are you ready to order?  \\n#Person2...   \n",
       "3998  #Person1#: Nice to meet you, Mr. Crabby.  \\n#P...   \n",
       "3999  #Person1#: Lucy, could you send these letters ...   \n",
       "4000  #Person1#: Hello? Are you there?  \\n#Person2#:...   \n",
       "\n",
       "                                   dialogue_en_trans2ko  \\\n",
       "3996  #Person1#: 도와드릴 일이 있으신가요?  \\n#Person2#: 유럽 여행을...   \n",
       "3997  #Person1#: 주문하시겠어요?  \\n#Person2#: 버거 하나와 라지 프라...   \n",
       "3998  #Person1#: 크래비 씨, 만나서 반갑습니다.  \\n#Person2#: 안녕하...   \n",
       "3999  #Person1#: 루시, 이 편지들을 대신 보내줄 수 있나요?  \\n#Person...   \n",
       "4000  #Person1#: 여보세요? 거기 계세요?  \\n#Person2#: 네, 여기 있...   \n",
       "\n",
       "                                    groundtruth_summary  \\\n",
       "3996   #Person2#가 #Person1#에게 유럽 여행 경로의 가격에 대해 묻고 있습니다.   \n",
       "3997                       고객이 버거, 큰 감자튀김, 큰 콜라를 주문합니다.   \n",
       "3998  Crabby 씨는 Jane 씨를 면접하면서 이전 회사에서의 능력에 대해 질문합니다....   \n",
       "3999  #Person1#은 #Person2#에게 런던에 있는 Mr. Charles에게 급한...   \n",
       "4000  #Person1#은 전화로 보안 목적으로 Mike Kowalski에게 몇 가지 질문...   \n",
       "\n",
       "                  solarAPI_summary_from_ground_dialogue  \\\n",
       "3996  #Person1#이 여행 경로 가격을 문의하자, #Person2#는 400달러에 4...   \n",
       "3997  #Person1#이 주문을 요청하자, #Person2#는 버거 1개와 큰 감자튀김,...   \n",
       "3998  Jane은 Crabby와의 면접에서 대학 졸업 후 2년간 근무한 비서 경험을 언급하...   \n",
       "3999  #Person1#이 루시에게 Mr. Charles에게 보낼 편지들을 처리하도록 지시...   \n",
       "4000  #Person1#이 #Person2#에게 호텔 리셉션에 분실물 접수 여부를 확인한 ...   \n",
       "\n",
       "             solarAPI_summary_from_dialogue_en_trans2ko        topic  \\\n",
       "3996  #Person1#: 유럽 여행 계획 관련 문의를 받고, 방문 도시 확정 여부를 확인...     유럽 여행 비용   \n",
       "3997  #Person2#가 버거 1개, 라지 프라이, 라지 Coke를 주문하고 매장에서 식...        버거 주문   \n",
       "3998  제인 씨는 대학 졸업 후 2년간 비서 업무를 수행하며 좋은 동료들과 즐겁게 근무했으...  비서 경험 이직 이유   \n",
       "3999  #Person1#이 루시에게 찰스 씨에게 보낼 편지 처리에 대해 지시함. 두 통은 ...     우편 발송 요청   \n",
       "4000  #Person1#이 #Person2#에게 호텔 리셉션에 제출된 정보가 없음을 확인한...     호텔 보안 확인   \n",
       "\n",
       "                                             NER  \n",
       "3996                          Named Entities: 유럽  \n",
       "3997                                버거, 감자튀김, 콜라  \n",
       "3998                                Jane, Crabby  \n",
       "3999                         루시, Mr. Charles, 런던  \n",
       "4000  Mike Kowalski, #CardNumber#, #DateOfBirth#  "
      ]
     },
     "execution_count": 38,
     "metadata": {},
     "output_type": "execute_result"
    }
   ],
   "source": [
    "# 데이터 경로를 지정해줍니다.\n",
    "DATA_PATH = \"../data/\"\n",
    "RESULT_PATH = \"./prediction/\"\n",
    "\n",
    "# train data의 구조와 내용을 확인합니다.\n",
    "train_df = pd.read_csv(os.path.join(DATA_PATH,'train_all.csv'))\n",
    "train_df.tail()"
   ]
  },
  {
   "cell_type": "markdown",
   "metadata": {
    "id": "_IIaIrpH4kWo"
   },
   "source": [
    "## 1. Solar Chat API 요약 성능 확인하기\n",
    "- Solar Chat API을 이용하여 train 및 validation dataset에 포함된 dialogue 샘플을 요약해 봅니다."
   ]
  },
  {
   "cell_type": "code",
   "execution_count": 69,
   "metadata": {},
   "outputs": [],
   "source": [
    "# 모델 성능에 대한 평가 지표를 정의합니다. 본 대회에서는 ROUGE 점수를 통해 모델의 성능을 평가합니다.\n",
    "rouge = Rouge()\n",
    "def compute_metrics(pred, gold):\n",
    "    results = rouge.get_scores(pred, gold, avg=True)\n",
    "    result = {key: value[\"f\"] for key, value in results.items()}\n",
    "    return result"
   ]
  },
  {
   "cell_type": "code",
   "execution_count": 125,
   "metadata": {
    "id": "oWPawUUflwHa"
   },
   "outputs": [],
   "source": [
    "# Dialogue를 입력으로 받아, Solar Chat API에 보낼 Prompt를 생성하는 함수를 정의합니다.\n",
    "def build_prompt(dialogue):\n",
    "\n",
    "    system_prompt = \"You are an expert in the field of dialogue summarization. Please summarize the \\\n",
    "        following dialogue to a single short sentence within 100 tokens in English.\"\n",
    "    return f\"{system_prompt}\\n\\nDialogue:\\n{dialogue}\\n\\nSummary:\\n\"\n"
   ]
  },
  {
   "cell_type": "code",
   "execution_count": 154,
   "metadata": {},
   "outputs": [],
   "source": [
    "def build_tr_prompt(summary):\n",
    "\n",
    "    system_prompt = \"You are an expert in the field of translation. Please translate the \\\n",
    "        following English sentence to a single short Korean sentence.\"\n",
    "    return f\"{system_prompt}\\n\\nsentence:\\n{summary}\\n\\ntranslation:\\n\""
   ]
  },
  {
   "cell_type": "code",
   "execution_count": 143,
   "metadata": {},
   "outputs": [],
   "source": [
    "def summarization(dialogue):\n",
    "    # 프롬프트 생성: 사용자 정의 함수. 아래와 같이 simple template 가능\n",
    "    prompt = build_prompt(dialogue)  # 예: f\"다음 대화를 요약해줘:\\n{dialogue}\"\n",
    "    \n",
    "    # 토크나이즈 및 텐서화\n",
    "    inputs = tokenizer(prompt, return_tensors=\"pt\").to(model.device)\n",
    "    \n",
    "    # Generation\n",
    "    with torch.no_grad():\n",
    "        output = model.generate(\n",
    "            **inputs,\n",
    "            max_new_tokens=100,\n",
    "            temperature=0.1,\n",
    "            top_p=0.3,\n",
    "            do_sample=True,\n",
    "            pad_token_id=tokenizer.eos_token_id,\n",
    "        )\n",
    "    \n",
    "    # 출력 추출(프롬프트 부분 제외)\n",
    "    generated = output[:, inputs.input_ids.shape[1]:]\n",
    "    summary = tokenizer.decode(generated[0], skip_special_tokens=True)\n",
    "    \n",
    "    return summary.strip()\n"
   ]
  },
  {
   "cell_type": "code",
   "execution_count": 155,
   "metadata": {},
   "outputs": [],
   "source": [
    "def translation(summary):\n",
    "    # 프롬프트 생성: 사용자 정의 함수. 아래와 같이 simple template 가능\n",
    "    prompt = build_tr_prompt(summary)  # 예: f\"다음 대화를 요약해줘:\\n{dialogue}\"\n",
    "    \n",
    "    # 토크나이즈 및 텐서화\n",
    "    inputs = tokenizer(prompt, return_tensors=\"pt\").to(model.device)\n",
    "    \n",
    "    # Generation\n",
    "    with torch.no_grad():\n",
    "        output = model.generate(\n",
    "            **inputs,\n",
    "            max_new_tokens=100,\n",
    "            temperature=0.1,\n",
    "            top_p=0.3,\n",
    "            do_sample=True,\n",
    "            pad_token_id=tokenizer.eos_token_id,\n",
    "        )\n",
    "    \n",
    "    # 출력 추출(프롬프트 부분 제외)\n",
    "    generated = output[:, inputs.input_ids.shape[1]:]\n",
    "    summary = tokenizer.decode(generated[0], skip_special_tokens=True)\n",
    "    \n",
    "    return summary.strip()\n"
   ]
  },
  {
   "cell_type": "code",
   "execution_count": 151,
   "metadata": {},
   "outputs": [
    {
     "name": "stdout",
     "output_type": "stream",
     "text": [
      "{'rouge-1': 0.17895477530234521, 'rouge-2': 0.04690049597540933, 'rouge-l': 0.16967629058083766}\n"
     ]
    }
   ],
   "source": [
    "result2 = compute_metrics(train_df['solarAPI_summary_from_ground_dialogue'], train_df['groundtruth_summary'])\n",
    "print(result2)"
   ]
  },
  {
   "cell_type": "code",
   "execution_count": 156,
   "metadata": {
    "id": "6GDvodoF8sED"
   },
   "outputs": [],
   "source": [
    "# Train data 중 처음 3개의 대화를 요약합니다.\n",
    "def test_on_train_data(num_samples=3):\n",
    "    start_time = time.time()\n",
    "    for idx, row in train_df[:num_samples].iterrows():\n",
    "        dialogue = row['ground_dialogue_ko']\n",
    "        summary = summarization(dialogue)\n",
    "\n",
    "        # Rate limit 방지를 위해 1분 동안 최대 100개의 요청을 보내도록 합니다.\n",
    "        if (idx + 1) % 100 == 0:\n",
    "            end_time = time.time()\n",
    "            elapsed_time = end_time - start_time\n",
    "            \n",
    "            if elapsed_time < 60:\n",
    "                wait_time = 60 - elapsed_time + 5\n",
    "                print(f\"Elapsed time: {elapsed_time:.2f} sec\")\n",
    "                print(f\"Waiting for {wait_time} sec\")\n",
    "                time.sleep(wait_time)\n",
    "            \n",
    "            start_time = time.time()\n",
    "            \n",
    "        train_df.loc[idx, 'sentence_summary'] = summary\n",
    "        convert = translation(summary)\n",
    "        train_df.loc[idx, 'summary_from_en_dialoge2ko'] = convert\n",
    "\n",
    "        # print(f\"Dialogue:\\n{dialogue}\\n\")\n",
    "        print(f\"Pred Summary: {summary}\\n\")\n",
    "        print(f\"Pred Summary2: {convert}\\n\")\n",
    "        # print(f\"Gold Summary: {row['groundtruth_summary']}\\n\")\n",
    "        # print(\"==\"*50)\n",
    "    result = compute_metrics(train_df['summary_from_en_dialoge2ko'], train_df['groundtruth_summary'])\n",
    "    print(result)"
   ]
  },
  {
   "cell_type": "code",
   "execution_count": 157,
   "metadata": {},
   "outputs": [
    {
     "name": "stdout",
     "output_type": "stream",
     "text": [
      "Pred Summary: The patient, Mr. Smith, visited the doctor for a health checkup after not having one for five years. The doctor advised him to get one every year and warned him about the dangers of smoking.\n",
      "\n",
      "Pred Summary2: 환자, 스미스 씨는 5년 동안 건강 검진을 받지 않은 후 건강 검진을 위해 의사를 방문했습니다. 의사는 그에게 매년 건강 검진을 받으라고 조언하고 흡연의 위험에 대해 경고했습니다.\n",
      "\n",
      "Pred Summary: Dr. Peters는 Ricky가 소아마비, 파상풍, B형 간염 예방접종을 받았으며, 현재 14개월이므로 A형 간염, 수두, 홍역 예방접종을 받아야 한다고 말했습니다. Mrs. Parker는 풍진과 유행성이하선염 예방접종도 필요하다고 말했고, Dr. Peters는 몇 주 후에 할 수 있다고 말했습니다. Mrs. Parker는 또한 파상풍 부스터가 필요하다고 말했고, Dr\n",
      "\n",
      "Pred Summary2: Dr. Peters는 Ricky가 소아마비, 파상풍, B형 간염 예방접종을 받았으며, 현재 14개월이므로 A형 간염, 수두, 홍역 예방접종을 받아야 한다고 말했습니다. Mrs. Parker는 풍진과 유행성이하선염 예방접종도 필요하다고 말했고, Dr. Peters는 몇 주 후에 할 수 있다고 말했습니다. Mrs. Parker는 또한 파상풍 부스터가 필요하다고 말했고, Dr\n",
      "\n",
      "Pred Summary: The person is looking for a specific set of keys with five keys and a small ball decoration, and asks for help from another person. The other person offers to help and eventually finds the keys, to which the person expresses gratitude.\n",
      "\n",
      "Pred Summary2: \n",
      "\n"
     ]
    },
    {
     "ename": "ValueError",
     "evalue": "Hypothesis is empty.",
     "output_type": "error",
     "traceback": [
      "\u001b[31m---------------------------------------------------------------------------\u001b[39m",
      "\u001b[31mValueError\u001b[39m                                Traceback (most recent call last)",
      "\u001b[36mCell\u001b[39m\u001b[36m \u001b[39m\u001b[32mIn[157]\u001b[39m\u001b[32m, line 2\u001b[39m\n\u001b[32m      1\u001b[39m \u001b[38;5;28;01mif\u001b[39;00m \u001b[34m__name__\u001b[39m == \u001b[33m\"\u001b[39m\u001b[33m__main__\u001b[39m\u001b[33m\"\u001b[39m:\n\u001b[32m----> \u001b[39m\u001b[32m2\u001b[39m     \u001b[43mtest_on_train_data\u001b[49m\u001b[43m(\u001b[49m\u001b[43m)\u001b[49m\n",
      "\u001b[36mCell\u001b[39m\u001b[36m \u001b[39m\u001b[32mIn[156]\u001b[39m\u001b[32m, line 30\u001b[39m, in \u001b[36mtest_on_train_data\u001b[39m\u001b[34m(num_samples)\u001b[39m\n\u001b[32m     27\u001b[39m     \u001b[38;5;28mprint\u001b[39m(\u001b[33mf\u001b[39m\u001b[33m\"\u001b[39m\u001b[33mPred Summary2: \u001b[39m\u001b[38;5;132;01m{\u001b[39;00mconvert\u001b[38;5;132;01m}\u001b[39;00m\u001b[38;5;130;01m\\n\u001b[39;00m\u001b[33m\"\u001b[39m)\n\u001b[32m     28\u001b[39m     \u001b[38;5;66;03m# print(f\"Gold Summary: {row['groundtruth_summary']}\\n\")\u001b[39;00m\n\u001b[32m     29\u001b[39m     \u001b[38;5;66;03m# print(\"==\"*50)\u001b[39;00m\n\u001b[32m---> \u001b[39m\u001b[32m30\u001b[39m result = \u001b[43mcompute_metrics\u001b[49m\u001b[43m(\u001b[49m\u001b[43mtrain_df\u001b[49m\u001b[43m[\u001b[49m\u001b[33;43m'\u001b[39;49m\u001b[33;43msummary_from_en_dialoge2ko\u001b[39;49m\u001b[33;43m'\u001b[39;49m\u001b[43m]\u001b[49m\u001b[43m,\u001b[49m\u001b[43m \u001b[49m\u001b[43mtrain_df\u001b[49m\u001b[43m[\u001b[49m\u001b[33;43m'\u001b[39;49m\u001b[33;43mgroundtruth_summary\u001b[39;49m\u001b[33;43m'\u001b[39;49m\u001b[43m]\u001b[49m\u001b[43m)\u001b[49m\n\u001b[32m     31\u001b[39m \u001b[38;5;28mprint\u001b[39m(result)\n",
      "\u001b[36mCell\u001b[39m\u001b[36m \u001b[39m\u001b[32mIn[69]\u001b[39m\u001b[32m, line 4\u001b[39m, in \u001b[36mcompute_metrics\u001b[39m\u001b[34m(pred, gold)\u001b[39m\n\u001b[32m      3\u001b[39m \u001b[38;5;28;01mdef\u001b[39;00m\u001b[38;5;250m \u001b[39m\u001b[34mcompute_metrics\u001b[39m(pred, gold):\n\u001b[32m----> \u001b[39m\u001b[32m4\u001b[39m     results = \u001b[43mrouge\u001b[49m\u001b[43m.\u001b[49m\u001b[43mget_scores\u001b[49m\u001b[43m(\u001b[49m\u001b[43mpred\u001b[49m\u001b[43m,\u001b[49m\u001b[43m \u001b[49m\u001b[43mgold\u001b[49m\u001b[43m,\u001b[49m\u001b[43m \u001b[49m\u001b[43mavg\u001b[49m\u001b[43m=\u001b[49m\u001b[38;5;28;43;01mTrue\u001b[39;49;00m\u001b[43m)\u001b[49m\n\u001b[32m      5\u001b[39m     result = {key: value[\u001b[33m\"\u001b[39m\u001b[33mf\u001b[39m\u001b[33m\"\u001b[39m] \u001b[38;5;28;01mfor\u001b[39;00m key, value \u001b[38;5;129;01min\u001b[39;00m results.items()}\n\u001b[32m      6\u001b[39m     \u001b[38;5;28;01mreturn\u001b[39;00m result\n",
      "\u001b[36mFile \u001b[39m\u001b[32m~/.pyenv/versions/py12/lib/python3.12/site-packages/rouge/rouge.py:108\u001b[39m, in \u001b[36mRouge.get_scores\u001b[39m\u001b[34m(self, hyps, refs, avg, ignore_empty)\u001b[39m\n\u001b[32m    106\u001b[39m \u001b[38;5;28;01mif\u001b[39;00m \u001b[38;5;129;01mnot\u001b[39;00m avg:\n\u001b[32m    107\u001b[39m     \u001b[38;5;28;01mreturn\u001b[39;00m \u001b[38;5;28mself\u001b[39m._get_scores(hyps, refs)\n\u001b[32m--> \u001b[39m\u001b[32m108\u001b[39m \u001b[38;5;28;01mreturn\u001b[39;00m \u001b[38;5;28;43mself\u001b[39;49m\u001b[43m.\u001b[49m\u001b[43m_get_avg_scores\u001b[49m\u001b[43m(\u001b[49m\u001b[43mhyps\u001b[49m\u001b[43m,\u001b[49m\u001b[43m \u001b[49m\u001b[43mrefs\u001b[49m\u001b[43m)\u001b[49m\n",
      "\u001b[36mFile \u001b[39m\u001b[32m~/.pyenv/versions/py12/lib/python3.12/site-packages/rouge/rouge.py:148\u001b[39m, in \u001b[36mRouge._get_avg_scores\u001b[39m\u001b[34m(self, hyps, refs)\u001b[39m\n\u001b[32m    146\u001b[39m \u001b[38;5;28;01mfor\u001b[39;00m m \u001b[38;5;129;01min\u001b[39;00m \u001b[38;5;28mself\u001b[39m.metrics:\n\u001b[32m    147\u001b[39m     fn = Rouge.AVAILABLE_METRICS[m]\n\u001b[32m--> \u001b[39m\u001b[32m148\u001b[39m     sc = \u001b[43mfn\u001b[49m\u001b[43m(\u001b[49m\u001b[43mhyp\u001b[49m\u001b[43m,\u001b[49m\u001b[43m \u001b[49m\u001b[43mref\u001b[49m\u001b[43m,\u001b[49m\u001b[43m \u001b[49m\u001b[43mexclusive\u001b[49m\u001b[43m=\u001b[49m\u001b[38;5;28;43mself\u001b[39;49m\u001b[43m.\u001b[49m\u001b[43mexclusive\u001b[49m\u001b[43m)\u001b[49m\n\u001b[32m    149\u001b[39m     scores[m] = {s: scores[m][s] + sc[s] \u001b[38;5;28;01mfor\u001b[39;00m s \u001b[38;5;129;01min\u001b[39;00m \u001b[38;5;28mself\u001b[39m.stats}\n\u001b[32m    151\u001b[39m \u001b[38;5;28;01mif\u001b[39;00m \u001b[38;5;28mself\u001b[39m.return_lengths:\n",
      "\u001b[36mFile \u001b[39m\u001b[32m~/.pyenv/versions/py12/lib/python3.12/site-packages/rouge/rouge.py:53\u001b[39m, in \u001b[36mRouge.<lambda>\u001b[39m\u001b[34m(hyp, ref, **k)\u001b[39m\n\u001b[32m     50\u001b[39m \u001b[38;5;28;01mclass\u001b[39;00m\u001b[38;5;250m \u001b[39m\u001b[34;01mRouge\u001b[39;00m:\n\u001b[32m     51\u001b[39m     DEFAULT_METRICS = [\u001b[33m\"\u001b[39m\u001b[33mrouge-1\u001b[39m\u001b[33m\"\u001b[39m, \u001b[33m\"\u001b[39m\u001b[33mrouge-2\u001b[39m\u001b[33m\"\u001b[39m, \u001b[33m\"\u001b[39m\u001b[33mrouge-l\u001b[39m\u001b[33m\"\u001b[39m]\n\u001b[32m     52\u001b[39m     AVAILABLE_METRICS = {\n\u001b[32m---> \u001b[39m\u001b[32m53\u001b[39m         \u001b[33m\"\u001b[39m\u001b[33mrouge-1\u001b[39m\u001b[33m\"\u001b[39m: \u001b[38;5;28;01mlambda\u001b[39;00m hyp, ref, **k: \u001b[43mrouge_score\u001b[49m\u001b[43m.\u001b[49m\u001b[43mrouge_n\u001b[49m\u001b[43m(\u001b[49m\u001b[43mhyp\u001b[49m\u001b[43m,\u001b[49m\u001b[43m \u001b[49m\u001b[43mref\u001b[49m\u001b[43m,\u001b[49m\u001b[43m \u001b[49m\u001b[32;43m1\u001b[39;49m\u001b[43m,\u001b[49m\u001b[43m \u001b[49m\u001b[43m*\u001b[49m\u001b[43m*\u001b[49m\u001b[43mk\u001b[49m\u001b[43m)\u001b[49m,\n\u001b[32m     54\u001b[39m         \u001b[33m\"\u001b[39m\u001b[33mrouge-2\u001b[39m\u001b[33m\"\u001b[39m: \u001b[38;5;28;01mlambda\u001b[39;00m hyp, ref, **k: rouge_score.rouge_n(hyp, ref, \u001b[32m2\u001b[39m, **k),\n\u001b[32m     55\u001b[39m         \u001b[33m\"\u001b[39m\u001b[33mrouge-3\u001b[39m\u001b[33m\"\u001b[39m: \u001b[38;5;28;01mlambda\u001b[39;00m hyp, ref, **k: rouge_score.rouge_n(hyp, ref, \u001b[32m3\u001b[39m, **k),\n\u001b[32m     56\u001b[39m         \u001b[33m\"\u001b[39m\u001b[33mrouge-4\u001b[39m\u001b[33m\"\u001b[39m: \u001b[38;5;28;01mlambda\u001b[39;00m hyp, ref, **k: rouge_score.rouge_n(hyp, ref, \u001b[32m4\u001b[39m, **k),\n\u001b[32m     57\u001b[39m         \u001b[33m\"\u001b[39m\u001b[33mrouge-5\u001b[39m\u001b[33m\"\u001b[39m: \u001b[38;5;28;01mlambda\u001b[39;00m hyp, ref, **k: rouge_score.rouge_n(hyp, ref, \u001b[32m5\u001b[39m, **k),\n\u001b[32m     58\u001b[39m         \u001b[33m\"\u001b[39m\u001b[33mrouge-l\u001b[39m\u001b[33m\"\u001b[39m: \u001b[38;5;28;01mlambda\u001b[39;00m hyp, ref, **k:\n\u001b[32m     59\u001b[39m             rouge_score.rouge_l_summary_level(hyp, ref, **k),\n\u001b[32m     60\u001b[39m     }\n\u001b[32m     61\u001b[39m     DEFAULT_STATS = [\u001b[33m\"\u001b[39m\u001b[33mr\u001b[39m\u001b[33m\"\u001b[39m, \u001b[33m\"\u001b[39m\u001b[33mp\u001b[39m\u001b[33m\"\u001b[39m, \u001b[33m\"\u001b[39m\u001b[33mf\u001b[39m\u001b[33m\"\u001b[39m]\n\u001b[32m     62\u001b[39m     AVAILABLE_STATS = [\u001b[33m\"\u001b[39m\u001b[33mr\u001b[39m\u001b[33m\"\u001b[39m, \u001b[33m\"\u001b[39m\u001b[33mp\u001b[39m\u001b[33m\"\u001b[39m, \u001b[33m\"\u001b[39m\u001b[33mf\u001b[39m\u001b[33m\"\u001b[39m]\n",
      "\u001b[36mFile \u001b[39m\u001b[32m~/.pyenv/versions/py12/lib/python3.12/site-packages/rouge/rouge_score.py:253\u001b[39m, in \u001b[36mrouge_n\u001b[39m\u001b[34m(evaluated_sentences, reference_sentences, n, raw_results, exclusive)\u001b[39m\n\u001b[32m    235\u001b[39m \u001b[38;5;250m\u001b[39m\u001b[33;03m\"\"\"\u001b[39;00m\n\u001b[32m    236\u001b[39m \u001b[33;03mComputes ROUGE-N of two text collections of sentences.\u001b[39;00m\n\u001b[32m    237\u001b[39m \u001b[33;03mSourece: http://research.microsoft.com/en-us/um/people/cyl/download/\u001b[39;00m\n\u001b[32m   (...)\u001b[39m\u001b[32m    250\u001b[39m \u001b[33;03m  ValueError: raises exception if a param has len <= 0\u001b[39;00m\n\u001b[32m    251\u001b[39m \u001b[33;03m\"\"\"\u001b[39;00m\n\u001b[32m    252\u001b[39m \u001b[38;5;28;01mif\u001b[39;00m \u001b[38;5;28mlen\u001b[39m(evaluated_sentences) <= \u001b[32m0\u001b[39m:\n\u001b[32m--> \u001b[39m\u001b[32m253\u001b[39m     \u001b[38;5;28;01mraise\u001b[39;00m \u001b[38;5;167;01mValueError\u001b[39;00m(\u001b[33m\"\u001b[39m\u001b[33mHypothesis is empty.\u001b[39m\u001b[33m\"\u001b[39m)\n\u001b[32m    254\u001b[39m \u001b[38;5;28;01mif\u001b[39;00m \u001b[38;5;28mlen\u001b[39m(reference_sentences) <= \u001b[32m0\u001b[39m:\n\u001b[32m    255\u001b[39m     \u001b[38;5;28;01mraise\u001b[39;00m \u001b[38;5;167;01mValueError\u001b[39;00m(\u001b[33m\"\u001b[39m\u001b[33mReference is empty.\u001b[39m\u001b[33m\"\u001b[39m)\n",
      "\u001b[31mValueError\u001b[39m: Hypothesis is empty."
     ]
    }
   ],
   "source": [
    "if __name__ == \"__main__\":\n",
    "    test_on_train_data()"
   ]
  },
  {
   "cell_type": "code",
   "execution_count": null,
   "metadata": {},
   "outputs": [],
   "source": []
  },
  {
   "cell_type": "code",
   "execution_count": null,
   "metadata": {},
   "outputs": [],
   "source": []
  },
  {
   "cell_type": "markdown",
   "metadata": {},
   "source": [
    "Validation Dataset을 이용하여 요약을 진행하고, 성능을 평가해 봅니다."
   ]
  },
  {
   "cell_type": "code",
   "execution_count": 15,
   "metadata": {},
   "outputs": [],
   "source": [
    "# Validation data의 대화를 요약하고, 점수를 측정합니다.\n",
    "def validate(num_samples=-1):\n",
    "    val_samples = val_df[:num_samples] if num_samples > 0 else val_df\n",
    "    \n",
    "    scores = []\n",
    "    for idx, row in tqdm(val_samples.iterrows(), total=len(val_samples)):\n",
    "        dialogue = row['dialogue']\n",
    "        summary = summarization(dialogue)\n",
    "        results = compute_metrics(summary, row['summary'])\n",
    "        avg_score = sum(results.values()) / len(results)\n",
    "        \n",
    "        scores.append(avg_score)\n",
    "        \n",
    "    val_avg_score = sum(scores) / len(scores)\n",
    "\n",
    "    print(f\"Validation Average Score: {val_avg_score}\")"
   ]
  },
  {
   "cell_type": "code",
   "execution_count": 13,
   "metadata": {},
   "outputs": [
    {
     "name": "stderr",
     "output_type": "stream",
     "text": [
      "100%|██████████| 100/100 [02:14<00:00,  1.34s/it]"
     ]
    },
    {
     "name": "stdout",
     "output_type": "stream",
     "text": [
      "Validation Average Score: 0.09606867456611186\n"
     ]
    },
    {
     "name": "stderr",
     "output_type": "stream",
     "text": [
      "\n"
     ]
    }
   ],
   "source": [
    "if __name__ == \"__main__\":\n",
    "    validate(100) # 100개의 validation sample에 대한 요약을 수행합니다.\n",
    "    \n",
    "    # 전체 validation data에 대한 요약을 수행하고 싶은 경우 아래와 같이 실행합니다.\n",
    "    # validate() "
   ]
  },
  {
   "cell_type": "markdown",
   "metadata": {},
   "source": []
  },
  {
   "cell_type": "markdown",
   "metadata": {},
   "source": []
  },
  {
   "cell_type": "markdown",
   "metadata": {},
   "source": [
    "# back translation"
   ]
  },
  {
   "cell_type": "code",
   "execution_count": null,
   "metadata": {},
   "outputs": [],
   "source": [
    "# Train data 중 처음 3개의 대화를 요약합니다.\n",
    "def test_on_train_data(num_samples):\n",
    "    for idx, row in train_df[:num_samples].iterrows():\n",
    "        dialogue = row['dialogue']\n",
    "        summary = summarization(dialogue)\n",
    "        print(f\"Dialogue:\\n{dialogue}\\n\")\n",
    "        print(f\"Dialogue:\\n{summary}\\n\")\n",
    "        print(f\"Gold Summary: {row['summary']}\\n\")\n",
    "\n",
    "        output_df = pd.DataFrame(\n",
    "            {\n",
    "                \"fname\": train_df['fname'],\n",
    "                \"dialogue\": summary,\n",
    "                \"summary\": row[\"summary\"],\n",
    "            }\n",
    "        )\n",
    "\n",
    "        if not os.path.exists(RESULT_PATH):\n",
    "            os.makedirs(RESULT_PATH)\n",
    "        output_df.to_csv(os.path.join(RESULT_PATH, \"back_translation.csv\"), index=False)\n",
    "\n",
    "    return output_df\n",
    "\n"
   ]
  },
  {
   "cell_type": "code",
   "execution_count": 37,
   "metadata": {},
   "outputs": [
    {
     "name": "stdout",
     "output_type": "stream",
     "text": [
      "Dialogue:\n",
      "#Person1#: 안녕하세요, Mr. Smith. 저는 Dr. Hawkins입니다. 오늘 무슨 일로 오셨어요? \n",
      "#Person2#: 건강검진을 받으려고 왔어요. \n",
      "#Person1#: 네, 5년 동안 검진을 안 받으셨네요. 매년 한 번씩 받으셔야 해요. \n",
      "#Person2#: 알죠. 특별히 아픈 데가 없으면 굳이 갈 필요가 없다고 생각했어요. \n",
      "#Person1#: 음, 심각한 질병을 피하려면 미리 발견하는 게 제일 좋거든요. 본인을 위해서라도 매년 한 번은 오세요. \n",
      "#Person2#: 알겠습니다. \n",
      "#Person1#: 여기 좀 볼까요. 눈과 귀는 괜찮으시네요. 깊게 숨 한 번 쉬어보세요. Mr. Smith, 담배 피우세요? \n",
      "#Person2#: 네. \n",
      "#Person1#: 담배가 폐암하고 심장병의 주된 원인인 거 아시죠? 끊으셔야 해요. \n",
      "#Person2#: 수백 번 시도했는데, 도저히 습관이 안 끊어져요. \n",
      "#Person1#: 음, 도움 될만한 수업과 약물들이 있습니다. 가시기 전에 더 정보를 드릴게요. \n",
      "#Person2#: 네, 고맙습니다, 의사 선생님.\n",
      "\n",
      "Pred Summary: #Person1#: Hello, Mr. Smith. I'm Dr. Hawkins. What can I help you with today? \n",
      "#Person2#: I'm here for a health checkup. \n",
      "#Person1#: Yes, you haven't had one in five years. You should get one every year. \n",
      "#Person2#: I know. I just thought there was no need to go if I didn't feel sick. \n",
      "#Person1#: Well, it's better to catch serious diseases early. For your own sake, come every year. \n",
      "#Person2#: Okay. \n",
      "#Person1#: Let's see. Your eyes and ears are fine. Take a deep breath. Mr. Smith, do you smoke? \n",
      "#Person2#: Yes. \n",
      "#Person1#: Do you know that smoking is the main cause of lung cancer and heart disease? You should quit. \n",
      "#Person2#: I've tried hundreds of times, but I can't break the habit. \n",
      "#Person1#: Hmm, there are classes and medications that can help. I'll give you more information before you leave. \n",
      "#Person2#: Okay, thank you, doctor.\n",
      "\n",
      "Gold Summary: Mr. Smith는 Dr. Hawkins에게 건강검진을 받으러 와서, 매년 검진 필요성을 안내받고 흡연 습관 개선을 위한 도움을 제안받았습니다.\n",
      "\n",
      "====================================================================================================\n",
      "Dialogue:\n",
      "#Person1#: 안녕하세요, Mrs. Parker. 잘 지내셨나요?\n",
      "#Person2#: 안녕하세요, Dr. Peters. 잘 지내고 있어요. Ricky랑 저희 둘 다 백신 맞으러 왔어요.\n",
      "#Person1#: 알겠습니다. 백신 기록을 보니 Ricky는 소아마비, 파상풍, 그리고 B형 간염 예방접종을 받았네요. 지금 14개월이라 A형 간염, 수두, 홍역 예방접종을 맞아야 해요.\n",
      "#Person2#: 풍진과 유행성이하선염은요?\n",
      "#Person1#: 지금은 이 정도만 맞고, 몇 주 후에 나머지를 할 수 있어요.\n",
      "#Person2#: 좋아요. 그리고 저도 파상풍 부스터가 필요할 것 같아요. 마지막으로 맞은 지 아마 15년은 된 것 같아요!\n",
      "#Person1#: 기록을 확인해서 간호사에게 부스터도 맞출 수 있도록 할게요. 이제 Ricky 팔 꽉 잡아주세요, 좀 따끔할 수 있어요.\n",
      "\n",
      "Pred Summary: #Person1#: Hello, Mrs. Parker. How are you?\n",
      "#Person2#: Hello, Dr. Peters. I'm doing well. Ricky and I are here for our vaccines.\n",
      "#Person1#: Okay. Looking at your vaccine records, Ricky has received vaccines for polio, tetanus, and hepatitis B. He is now 14 months old, so he needs to get vaccines for hepatitis A, chickenpox, and measles.\n",
      "#Person2#: What about rubella and mumps?\n",
      "#Person1#: We can do those in a few weeks.\n",
      "#Person2#: Okay. And I think I need a tetanus booster. It's probably been 15 years since my last one!\n",
      "#Person1#: I'll check your records and have the nurse give you a booster as well. Now, hold Ricky's arm tight, it might sting a little.\n",
      "\n",
      "Gold Summary: Mrs. Parker가 Ricky와 함께 백신 접종을 위해 방문하였고, Dr. Peters는 Ricky에게 적절한 백신을 접종하도록 안내합니다.\n",
      "\n",
      "====================================================================================================\n",
      "Dialogue:\n",
      "#Person1#: 저기요, 열쇠 세트 본 적 있어요?\n",
      "#Person2#: 어떤 종류의 열쇠요?\n",
      "#Person1#: 열쇠 다섯 개랑 작은 발 장식이 달려 있어요.\n",
      "#Person2#: 아, 안타깝네요! 못 봤어요.\n",
      "#Person1#: 그럼, 같이 좀 찾아주실 수 있어요? 여긴 처음이라서요.\n",
      "#Person2#: 물론이죠. 도와드릴게요.\n",
      "#Person1#: 정말 친절하시네요.\n",
      "#Person2#: 별거 아니에요. 이봐요, 찾았어요.\n",
      "#Person1#: 아, 감사합니다! 어떻게 감사해야 할지 모르겠네요.\n",
      "#Person2#: 천만에요.\n",
      "\n",
      "Pred Summary: #Person1#: Excuse me, have you seen a key set?\n",
      "#Person2#: What kind of key?\n",
      "#Person1#: It's a set of five keys with a small ball decoration.\n",
      "#Person2#: Oh, I'm sorry. I haven't seen it.\n",
      "#Person1#: Then, could you help me look for it? I'm new here.\n",
      "#Person2#: Of course. I'll help you.\n",
      "#Person1#: You're so kind.\n",
      "#Person2#: No problem. Hey, I found it.\n",
      "#Person1#: Oh, thank you! I don't know how to thank you.\n",
      "#Person2#: You're welcome.\n",
      "\n",
      "Gold Summary: #Person1#은 열쇠 세트를 잃어버리고 #Person2#에게 찾는 것을 도와달라고 요청합니다.\n",
      "\n",
      "====================================================================================================\n",
      "Dialogue:\n",
      "#Person1#: 너 여자친구 있는 거 왜 말 안 했어?\n",
      "#Person2#: 미안해, 네가 알고 있는 줄 알았어.\n",
      "#Person1#: 그런데 사랑하는 사람 있다고 말했어야지.\n",
      "#Person2#: 내가 안 했었나?\n",
      "#Person1#: 안 했잖아.\n",
      "#Person2#: 이제 말하잖아.\n",
      "#Person1#: 맞아, 그런데 이전에 말할 수도 있었잖아.\n",
      "#Person2#: 네가 관심 없을 줄 알았어.\n",
      "#Person1#: 진심이야? 결혼할 거라는 말도 안 하다니 참.\n",
      "#Person2#: 미안해, 별로 중요하지 않다고 생각했어.\n",
      "#Person1#: 아, 남자들 다 똑같아!\n",
      "\n",
      "Pred Summary: #Person1#: Why didn't you tell me you had a girlfriend?\n",
      "#Person2#: Sorry, I thought you knew.\n",
      "#Person1#: But you should have told me you were in love.\n",
      "#Person2#: Didn't I?\n",
      "#Person1#: No, you didn't.\n",
      "#Person2#: But I'm telling you now.\n",
      "#Person1#: Yeah, but you could have told me earlier.\n",
      "#Person2#: I thought you wouldn't care.\n",
      "#Person1#: Are you serious? You didn't even tell me you were getting married.\n",
      "#Person2#: Sorry, I didn't think it was that important.\n",
      "#Person1#: Oh, men are all the same!\n",
      "\n",
      "Gold Summary: #Person1#은 #Person2#가 여자친구가 있고 결혼할 예정이라는 사실을 말하지 않아서 화가 났습니다.\n",
      "\n",
      "====================================================================================================\n",
      "Dialogue:\n",
      "#Person1#: 안녕, 오늘 너무 멋져 보이네요. 저랑 춤 한 곡 추실래요?\n",
      "#Person2#: 고맙네요! 그런데 저는 춤 잘 못 춰요...\n",
      "#Person1#: 괜찮아요. 제가 멋진 춤 동작 알려드릴게요. 제 이름은 Malik이에요.\n",
      "#Person2#: 만나서 반가워요. 저는 Wen이고, 이 친구는 Nikki예요.\n",
      "#Person1#: 기분 어때요? 친구랑 같이 춤춰도 될까요?\n",
      "#Person2#: 괜찮아요, 대신 제 발을 밟아도 괜찮으시다면요.\n",
      "#Person1#: 알겠어요. 좋아요! 가요!\n",
      "\n",
      "Pred Summary: #Person1#: Hey, you look great today. Would you like to dance with me?\n",
      "#Person2#: Thanks! But I'm not good at dancing...\n",
      "#Person1#: That's okay. I'll show you some cool dance moves. My name is Malik.\n",
      "#Person2#: Nice to meet you. I'm Wen, and this is my friend Nikki.\n",
      "#Person1#: How do you feel? Would you like to dance with your friend?\n",
      "#Person2#: Sure, as long as you don't mind stepping on my feet.\n",
      "#Person1#: Okay. Let's go!\n",
      "\n",
      "Gold Summary: Malik은 Wen과 Nikki에게 춤을 제안하고, Wen은 발을 밟는 것을 감수하면 괜찮다고 응답합니다.\n",
      "\n",
      "====================================================================================================\n",
      "Dialogue:\n",
      "#Person1#: 생일 축하해, Aims!\n",
      "#Person2#: 고마워, Lisa.\n",
      "#Person1#: 여기 선물이야. 마음에 들었으면 좋겠다.\n",
      "#Person2#: 와, 정말 좋다! 이거 오랫동안 기다렸잖아.\n",
      "#Person1#: 그 말 들으니 정말 기쁘다.\n",
      "#Person2#: 이리 와봐, 친구들 좀 소개할게.\n",
      "\n",
      "Pred Summary: #Person1#: Happy birthday, Aims!\n",
      "#Person2#: Thanks, Lisa.\n",
      "#Person1#: Here's your present. I hope you like it.\n",
      "#Person2#: Wow, this is great! I've been waiting for this for a long time.\n",
      "#Person1#: I'm so glad to hear that.\n",
      "#Person2#: Come here, I'll introduce you to some of my friends.\n",
      "\n",
      "Gold Summary: Lisa가 Aims에게 생일 선물을 주었고, Aims는 그 선물을 매우 좋아합니다.\n",
      "\n",
      "====================================================================================================\n",
      "Dialogue:\n",
      "#Person1#: 다 왔어요.\n",
      "#Person2#: 감사합니다. 요금이 얼마죠?\n",
      "#Person1#: 10달러입니다.\n",
      "#Person2#: 어떻게 그게 가능하죠?\n",
      "#Person1#: 음, 기본 요금이 2킬로미터까지 2달러이고, 그 이후로 200미터마다 20센트씩이에요.\n",
      "#Person2#: 알겠어요. 태워주셔서 감사합니다.\n",
      "\n",
      "Pred Summary: The person is thanking the taxi driver for the ride and asking how much the fare is. The taxi driver explains that the base fare is $2 for the first 2 kilometers and then $0.20 for every 200 meters after that. The person thanks the taxi driver again and says that they appreciate the ride.\n",
      "\n",
      "Gold Summary: #Person1#이 #Person2#에게 택시 요금을 설명합니다.\n",
      "\n",
      "====================================================================================================\n",
      "Dialogue:\n",
      "#Person1#: 도와드릴까요?\n",
      "#Person2#: 네. 지난주에 이력서를 보냈어요. 회계 보조직에 지원하려고요.\n",
      "#Person1#: 이름이 어떻게 되세요?\n",
      "#Person2#: 제 이름은 Judy Liao입니다. L I A O로 쓰여요.\n",
      "#Person1#: 알겠습니다... 혹시 지원 관련해서 궁금한 게 있으세요?\n",
      "#Person2#: 특별한 건 없고, 근처에 와서 이력서를 받으셨는지 확인하고 싶어서 들렀어요.\n",
      "#Person1#: 아, 괜찮아요. 잠시만 기다리시면 확인해 볼게요. Judy Liao... 잠시만요... 네, 여기 있네요. Judy Liao. 이력서를 받았습니다.\n",
      "#Person2#: 감사합니다.\n",
      "#Person1#: 또 다른 도와드릴 일이 있으신가요?\n",
      "#Person2#: 네, 있을 수도 있어요. 신문 광고에 이력서랑 자기소개서, 추천서 두 장을 보내라고 했는데요. 그걸 봉투에 넣어서 보냈습니다. 추가로 보내야 할 게 더 있나요?\n",
      "#Person1#: 아닙니다, 그것만 있으면 충분합니다.\n",
      "#Person2#: 그럼 면접 일정은 언제쯤 잡을까요?\n",
      "#Person1#: 정확히는 모르겠어요. 아직도 이력서를 받고 있는 중이에요. 아마 일주일이나 이주일 후에 지원자들에게 전화가 갈 것 같아요.\n",
      "#Person2#: 알겠습니다. 도와주셔서 정말 감사합니다. 아주 친절하시네요.\n",
      "#Person1#: 추가로 궁금하신 점이 있으시면 언제든지 전화 주세요.\n",
      "#Person2#: 감사합니다.\n",
      "#Person1#: 고맙습니다. 안녕히 가세요.\n",
      "\n",
      "Pred Summary: Person2 asks for help and introduces themselves as Judy Liao. Person1 confirms that they received Person2's resume and asks if they have any other questions. Person2 asks if they need to send anything else and Person1 says no. Person2 asks about the interview schedule and Person1 says they will be contacted in a week or two. Person2 thanks Person1 for their help and leaves.\n",
      "\n",
      "Gold Summary: Judy Liao가 회계 보조직에 지원 중입니다. 그녀는 #Person1#에게 자신의 이력서를 받았는지 확인하려고 질문했고, #Person1#이 이를 확인해 줍니다. #Person1#은 Judy에게 추가로 제출할 자료는 없다고 하고, 일주일이나 이주일 후에 지원자들에게 연락을 줄 것이라고 말합니다.\n",
      "\n",
      "====================================================================================================\n",
      "Dialogue:\n",
      "#Person1#: 이거 기본 컴퓨터 패키지가 괜찮아요. 좋은 CPU에 256MB 램, 그리고 DVD 플레이어도 있어요.\n",
      "#Person2#: 모뎀도 포함되어 있나요?\n",
      "#Person1#: 네, 내장 모뎀이 있어서 전화선을 컴퓨터 뒤에 꽂기만 하면 돼요.\n",
      "#Person2#: 모니터는 어떤가요?\n",
      "#Person1#: 15인치 모니터가 포함돼요. 원하시면, 약간 추가 비용을 내고 17인치 모니터로 바꾸실 수 있어요.\n",
      "#Person2#: 괜찮아요. 15인치면 충분해요. 좋아요, 그걸로 할게요.\n",
      "\n",
      "Pred Summary: #Person1#: This basic computer package is good. It has a good CPU with 256MB of RAM, and it also has a DVD player.\n",
      "#Person2#: Does it come with a modem?\n",
      "#Person1#: Yes, it has a built-in modem, so you just plug the phone line into the back of the computer.\n",
      "#Person2#: What about the monitor?\n",
      "#Person1#: It comes with a 15-inch monitor. If you want, you can upgrade to a 17-inch monitor for a little extra money.\n",
      "#Person2#: That’s fine. 15 inches is enough for me. Okay, I’ll take it.\n",
      "\n",
      "Gold Summary: #Person1#은 #Person2#에게 기본 컴퓨터 패키지를 설명하며, #Person2#는 그 패키지에 만족하여 구매하기로 결정합니다.\n",
      "\n",
      "====================================================================================================\n",
      "Dialogue:\n",
      "#Person1#: 저기요, 비자 사무실이 어디 있는지 아세요?\n",
      "#Person2#: 네, 알아요. 제가 같이 가드릴게요.\n",
      "#Person1#: 감사합니다.\n",
      "#Person2#: 유학이나 해외 취업 준비하시나요?\n",
      "#Person1#: 저는 유학 가고 싶어요.\n",
      "#Person2#: 뭘 공부할 건데요?\n",
      "#Person1#: 영어 문학을 공부하고 싶어요.\n",
      "#Person2#: 비자는 이미 받으셨어요?\n",
      "#Person1#: 아직요. 오늘 비자 담당자와 인터뷰가 있어요.\n",
      "#Person2#: 아, 그렇군요. 처음 면접 보시는 거예요?\n",
      "#Person1#: 아니요, 여기 이미 3번이나 왔어요.\n",
      "\n",
      "Pred Summary: #Person1#: Excuse me, do you know where the visa office is?\n",
      "#Person2#: Yes, I know. I can take you there.\n",
      "#Person1#: Thank you.\n",
      "#Person2#: Are you preparing for studying abroad or job hunting?\n",
      "#Person1#: I want to study abroad.\n",
      "#Person2#: What are you going to study?\n",
      "#Person1#: I want to study English literature.\n",
      "#Person2#: Have you already received your visa?\n",
      "#Person1#: No, I haven't. I have an interview with the visa officer today.\n",
      "#Person2#: Oh, I see. Is this your first interview?\n",
      "#Person1#: No, I've been here three times already.\n",
      "\n",
      "Gold Summary: #Person1#은 비자 담당자와의 인터뷰를 앞두고 있으며, #Person2#에게 비자 사무실로 가는 길을 묻고 있습니다.\n",
      "\n",
      "====================================================================================================\n",
      "Dialogue:\n",
      "#Person1#: 부탁 좀 들어줄 수 있어?\n",
      "#Person2#: 물론이지. 뭔데?\n",
      "#Person1#: 가게에 좀 다녀와 줄래? 몇 가지 필요한 게 있어.\n",
      "#Person2#: 알았어. 뭐 사오면 돼?\n",
      "#Person1#: 설탕 좀 사다줄 수 있어?\n",
      "#Person2#: 알겠어. 얼마나?\n",
      "#Person1#: 작은 봉지로 한 봉지 정도? 그리고 오렌지도 좀 필요해.\n",
      "#Person2#: 몇 개면 돼?\n",
      "#Person1#: 음... 여섯 개쯤?\n",
      "#Person2#: 더 필요한 건 없어?\n",
      "#Person1#: 응, 우유도 떨어졌어.\n",
      "#Person2#: 알았어. 얼마나 사오면 돼? 갤런 하나?\n",
      "#Person1#: 아니, 반 갤런이면 충분할 것 같아.\n",
      "#Person2#: 그게 전부야?\n",
      "#Person1#: 그럴 것 같아. 다 적었어?\n",
      "#Person2#: 응. 작은 설탕 봉지 하나에, 오렌지 여섯 개, 우유 반 갤런 맞지?\n",
      "#Person1#: 돈은 충분해?\n",
      "#Person2#: 충분할 것 같아.\n",
      "#Person1#: 고마워. 정말로 고마워.\n",
      "\n",
      "Pred Summary: Person1 asks Person2 to go to the store and buy some items. Person2 agrees and asks what Person1 needs. Person1 requests a small bag of sugar, six oranges, and half a gallon of milk. Person2 confirms the list and Person1 thanks them.\n",
      "\n",
      "Gold Summary: #Person1#은 #Person2#에게 가게에서 작은 설탕 봉지 하나, 오렌지 여섯 개, 우유 반 갤런을 사다달라고 부탁하고, #Person2#는 이를 흔쾌히 수락합니다.\n",
      "\n",
      "====================================================================================================\n",
      "Dialogue:\n",
      "#Person1#: 봐봐! 엄마가 학사모 쓰고 가운 입은 이 사진 좀 봐. \n",
      "#Person2#: 정말 멋진데! 그때가 Miami University에서 석사 학위 받았을 때지. \n",
      "#Person1#: 응, 우리 모두 그녀가 정말 자랑스러워. \n",
      "#Person2#: 오, 이거 너희들 다 같이 찍은 사진 좋다. 혹시 네거티브 있어? 복사 하나 받을 수 있어? \n",
      "#Person1#: 물론이지, 만들어줄게. 인화해줄까? \n",
      "#Person2#: 아니, 슬라이드로 부탁할게, 새 프로젝터가 생겼거든. \n",
      "#Person1#: 나도 그거 직접 보고 싶다. \n",
      "#Person2#: 지갑 크기로도 하나 인화 부탁해. \n",
      "#Person1#: 그럼, 그렇게 해줄게.\n",
      "\n",
      "Pred Summary: #Person1#: Look at this photo of mom wearing her cap and gown. \n",
      "#Person2#: She looks great! That was when she got her master's degree from Miami University. \n",
      "#Person1#: Yeah, we're all so proud of her. \n",
      "#Person2#: Oh, this one of all of you together is nice. Do you have the negatives? Can I get a copy? \n",
      "#Person1#: Sure, I'll make one for you. Do you want it printed? \n",
      "#Person2#: No, I'd like it as a slide, I got a new projector. \n",
      "#Person1#: I'd like to see that too. \n",
      "#Person2#: Can you also make a copy for my wallet? \n",
      "#Person1#: Sure, I'll do that.\n",
      "\n",
      "Gold Summary: #Person2#는 사진이 멋지다고 생각하며, #Person1#에게 슬라이드와 지갑 크기의 인화를 요청합니다.\n",
      "\n",
      "====================================================================================================\n",
      "Dialogue:\n",
      "#Person1#: Bean도 너한테 이상한 농담 보내고 그러지 않아? 좀 봐줘봐. \n",
      "#Person2#: 아, 진짜 너무하는데! 이상한 행운 이메일도 짜증나는데, 이런 식의 성희롱은 너무하잖아. \n",
      "#Person1#: 그래서 저번에 내 주소가 어디냐고 물어봤던 거구나 - 괴롭히려고 그런 거였어! \n",
      "#Person2#: 스팸 필터를 사용해서 야한 내용이나 원치 않는 메시지를 걸러내는 것도 한 방법이야.\n",
      "\n",
      "Pred Summary: #Person1#: Bean is sending you weird jokes, right? Check it out. \n",
      "#Person2#: Oh, it's so annoying! I hate those spam emails too, but this kind of sexual harassment is too much. \n",
      "#Person1#: So that's why he asked me where I live last time - he was trying to bother me! \n",
      "#Person2#: You can use a spam filter to filter out unwanted messages or content.\n",
      "\n",
      "Gold Summary: #Person2#는 #Person1#에게 스팸 필터를 사용해 Bean의 부적절한 농담을 걸러내라고 제안합니다.\n",
      "\n",
      "====================================================================================================\n",
      "Dialogue:\n",
      "#Person1#: Keith는 몇 살이야?\n",
      "#Person2#: 21살이야. James는 몇 살이야?\n",
      "#Person1#: Keith보다 한 살 많아, 그런데 더 어려 보이더라.\n",
      "#Person2#: 아버지는 어떻게 지내셔?\n",
      "#Person1#: 잘 지내셔. 지난주에 은퇴하셨어. 이제 편히 쉬시면서 은퇴 생활을 즐기실 수 있어.\n",
      "#Person2#: 손주들과 더 많은 시간을 보낼 수 있겠네.\n",
      "#Person1#: 아, 그럴 마음은 없으신 것 같아. 세계 여러 나라를 여행하고 싶어 하셔.\n",
      "#Person2#: 더 활발한 은퇴 생활을 원하시나 봐. 좋은 생각이야!\n",
      "#Person1#: 너는 노년에 어떻게 보내고 싶어?\n",
      "#Person2#: 나도 아마 비슷하게 보낼 것 같아.\n",
      "\n",
      "Pred Summary: #Person1#: How old is Keith?\n",
      "#Person2#: He's 21. How old is James?\n",
      "#Person2#: Oh, he's one year older than Keith, but he looks younger.\n",
      "#Person1#: How's your father doing?\n",
      "#Person2#: He's doing well. He retired last week. Now he can enjoy his retirement life.\n",
      "#Person1#: He can spend more time with his grandchildren.\n",
      "#Person2#: Oh, I don't think he wants to. He wants to travel around the world.\n",
      "#Person1#: I guess he wants to have a more active retirement life. That's a good idea!\n",
      "#Person2#: I think I'll do something similar.\n",
      "\n",
      "Gold Summary: #Person1#과 #Person2#는 가족의 나이에 대해 이야기하고 있습니다. #Person2#의 아버지는 은퇴 후 세계 여행을 하고 싶어 하십니다.\n",
      "\n",
      "====================================================================================================\n",
      "Dialogue:\n",
      "#Person1#: 어떤 음악 듣는 거 좋아해?\n",
      "#Person2#: 나는 빠른 비트에 신나는, 댄스 음악 같은 거 좋아해. 거의 매주 디스코 가거든. 가끔 너무 시끄럽긴 하지만. 너는 클래식 음악 좋아하지?\n",
      "#Person1#: 응, 맞아. 난 그게 정말 편안하더라. 힘든 하루 끝나고 저녁에 모차르트나 바흐 같은 거 자주 들어.\n",
      "#Person2#: 솔직히 말하자면, 나도 클래식 음악 몇 곡은 좋아해. 현대 댄스 음악보다 확실히 더 세련됐지.\n",
      "#Person1#: 클래식 음악은 뇌에 좋다고 하잖아. 연구에 따르면 뇌를 더 활성화시켜 준대. 공부할 때 클래식 음악 듣는 학생이 더 잘한대.\n",
      "#Person2#: 진짜? 나도 클래식 음악 자주 들어야겠네. 클래식 음악 듣는 게 스트레스 해소에 도움이 된다고 들었어.\n",
      "#Person1#: 맞아. 그래서 저녁에 많이 들어. 주로 요리하거나 집안일 할 때 배경 음악으로 틀어놓거든.\n",
      "#Person2#: 나도 클래식 음악 CD 몇 장 있는데. 너 따라 뇌 능력 좀 키워봐야겠다.\n",
      "#Person1#: 인터넷에서 녹음된 거 많으니까. 샘플 들어보고 마음에 들면 싸게 살 수 있어.\n",
      "#Person2#: 그거 좋은 아이디어네. 너도 다른 음악으로 그렇게 해봐. 좋아할 만한 거 찾을 수도 있어. 클래식 음악이 똑똑하게 만들 수도 있지만, 댄스 음악은 더 활기차고 행복하게 만들 수도 있어.\n",
      "#Person1#: 맞아. 신나는 음악 듣는 사람이 활기찬 사람이란 명백한 증거가 많잖아. 음악이 사람의 기분과 성격에 영향을 줄 수 있어.\n",
      "\n",
      "Pred Summary: This is a conversation between two people discussing their favorite types of music. Person 1 likes classical music because it is relaxing and helps them study. Person 2 also likes classical music, but they also enjoy dance music because it makes them feel happy and energized. They both agree that music can have a significant impact on a person's mood and personality.\n",
      "\n",
      "Gold Summary: #Person2#는 댄스 음악을 좋아하고 #Person1#은 클래식 음악을 선호한다. #Person1#은 #Person2#에게 클래식 음악을 더 많이 들으면 뇌가 활성화되고 스트레스가 줄어든다고 제안한다. #Person2#는 클래식 음악이 자신을 더 똑똑하게 만들 수 있지만, 댄스 음악은 더 활기차고 행복하게 만들 수도 있다고 말한다.\n",
      "\n",
      "====================================================================================================\n",
      "Dialogue:\n",
      "#Person1#: 그 사람이 한 말이 헷갈려요.\n",
      "#Person2#: 왜 그렇게 생각해요?\n",
      "#Person1#: 그 사람의 의도가 뭔지 모르겠어요. 저를 도와주려는 건지, 아니면 혼내려는 건지.\n",
      "#Person2#: 좀 더 생각해 보세요. 제 생각엔 그 사람이 좋은 의도를 가지고 있는 것 같아요.\n",
      "\n",
      "Pred Summary: #Person1#: I don't understand what that person said.\n",
      "#Person2#: Why do you think that?\n",
      "#Person1#: I don't know what their intention is. Are they trying to help me or scold me?\n",
      "#Person2#: Think about it more. I think they have good intentions.\n",
      "\n",
      "Gold Summary: #Person1#은 #Person2#에게 그 사람의 말 때문에 혼란스럽다고 이야기합니다.\n",
      "\n",
      "====================================================================================================\n",
      "Dialogue:\n",
      "#Person1#: 발렌타인데이에 대해 좀 설명해 줄래? \n",
      "#Person2#: 음, 그날은 보통 남자들이 사랑하는 사람에게 장미를 주고, 여자들은 그 답례로 초콜릿을 줘.\n",
      "#Person1#: 정말 낭만적인데. 젊은 사람들은 그날을 정말 즐기겠네.\n",
      "#Person2#: 맞아, 그게 바로 이 휴일의 의미지!\n",
      "\n",
      "Pred Summary: #Person1#: Can you explain to me what Valentine's Day is? \n",
      "#Person2#: Well, on that day, men usually give roses to the person they love, and women give them chocolate in return. \n",
      "#Person1#: That's so romantic. Young people must really enjoy that day. \n",
      "#Person2#: That's exactly what the holiday is about!\n",
      "\n",
      "Gold Summary: #Person2#는 발렌타인데이에 대해 #Person1#에게 설명합니다. #Person1#은 그것이 낭만적이라고 생각합니다.\n",
      "\n",
      "====================================================================================================\n",
      "Dialogue:\n",
      "#Person1#: 이 아이들이 당신 삼둥이인가요? 정말 예쁘네요! 제가 본 다른 아기들은 이 나이 때 조금 마른 편이던데요. 이 아이들은 정말 당신과 John을 꼭 닮았어요! 더 낳을 계획이 있으신가요?\n",
      "#Person2#: 그만해요! 저는 정말 한계에 다다랐어요. 어떤 날은 잠도 못 자요. John은 아기들이 소리를 지르는데도 잘 자더라고요.\n",
      "#Person1#: 음, 그럼 출산은 어땠어요?\n",
      "#Person2#: 인생에서 가장 즐거운 시간이라고는 못 하겠지만, 적어도 큰 문제 없이 잘 끝났어요.\n",
      "#Person1#: 잘 견뎌내세요. 20년 후엔 이 시간이 정말 가치 있었다고 느낄 거예요!\n",
      "\n",
      "Pred Summary: #Person1#: Are these your triplets? They are so cute! I’ve seen other babies at this age and they are usually skinny. These kids look just like you and John! Are you planning on having more?\n",
      "#Person2#: Stop! I’m at my limit. Some days I don’t sleep at all. John sleeps through the babies screaming.\n",
      "#Person1#: Well, how was the birth?\n",
      "#Person2#: I wouldn’t say it was the most enjoyable time of my life, but at least it was over without any major problems.\n",
      "#Person1#: Hang in there. In 20 years you’ll look back and think this time was really worth it!\n",
      "\n",
      "Gold Summary: #Person1#은 #Person2#에게 더 많은 아이를 가질 계획이 있는지 묻습니다. #Person2#은 아기들이 울어대는 탓에 잠을 자기도 힘들다며 계획이 없다고 답합니다.\n",
      "\n",
      "====================================================================================================\n",
      "Dialogue:\n",
      "#Person1#: 와, 아이스크림 종류가 정말 많다! \n",
      "#Person2#: 응, 진짜 많네. 너는 어떤 게 제일 좋아? \n",
      "#Person1#: 난 뭐든 초콜릿 들어간 게 제일 좋아.\n",
      "#Person2#: 나도 초콜릿 좋아해.\n",
      "#Person1#: 싫어하는 아이스크림도 있어?\n",
      "#Person2#: 나는 견과류 들어간 아이스크림은 별로야.\n",
      "#Person1#: 나도 그런 건 별로 안 좋아해.\n",
      "#Person2#: 마늘 아이스크림 먹어본 적 있어?\n",
      "#Person1#: 으, 정말 끔찍할 것 같은데!\n",
      "#Person2#: 맞아, 정말 그랬어. 오늘은 일반적인 걸로 먹자.\n",
      "\n",
      "Pred Summary: #Person1#: Wow, there are so many different kinds of ice cream! \n",
      "#Person2#: Yeah, there really are. What's your favorite? \n",
      "#Person1#: I like anything with chocolate in it. \n",
      "#Person2#: Me too. \n",
      "#Person1#: Do you have any ice creams you don't like? \n",
      "#Person2#: I don't really like ice cream with nuts in it. \n",
      "#Person1#: I don't really like those either. \n",
      "#Person2#: Have you ever tried garlic ice cream? \n",
      "#Person1#: Ew, that sounds terrible! \n",
      "#Person2#: Yeah, it really was. Let's stick to the regular stuff today.\n",
      "\n",
      "Gold Summary: #Person1#과 #Person2#은 다양한 아이스크림 종류에 대해 이야기하며, 결국 일반적인 종류를 선택하기로 합니다.\n",
      "\n",
      "====================================================================================================\n",
      "Dialogue:\n",
      "#Person1#: 우리랑 같이 일할 거야?\n",
      "#Person2#: 내가 녹색 메모장을 다시 사용할 수 있나? 칭찬의 메모를 쓰려고.\n",
      "#Person1#: 그건 협상해 봐야지. 가능성은 있어.\n",
      "#Person2#: 날 그리워하는 건 아니지?\n",
      "#Person1#: 너무 나가진 마, #Person2#.\n",
      "#Person2#: 좋아, 할게. 언제 시작하면 돼?\n",
      "#Person1#: 가능한 빨리 여기로 와. 우리는 기다리고 있을게.\n",
      "\n",
      "Pred Summary: #Person1#: Will you work with us?\n",
      "#Person2#: Can I use the green notepad again? I want to write a note of praise.\n",
      "#Person1#: We'll have to negotiate that. It's possible.\n",
      "#Person2#: You don't miss me, do you?\n",
      "#Person1#: Don't push it, #Person2#.\n",
      "#Person2#: Okay, I'll do it. When do we start?\n",
      "#Person1#: Come here as soon as possible. We'll be waiting.\n",
      "\n",
      "Gold Summary: #Person1#이 #Person2#에게 함께 일하자고 제안하고 #Person2#가 이를 수락합니다.\n",
      "\n",
      "====================================================================================================\n",
      "Dialogue:\n",
      "#Person1#: 이 시트 어떻게 젖혀? 어디 레버가 있는 것 같은데.\n",
      "#Person2#: 지금 뭐 하는 거야?\n",
      "#Person1#: 옷 입으려고 하는데, 안 보여?\n",
      "#Person2#: 너 지금 차 안 도로 위에서 옷 갈아입으려고 하는 거야? 위험하지 않아?\n",
      "#Person1#: 나 잘할 수 있어. 아무도 못 볼 거야.\n",
      "#Person2#: 장난해? 다른 사람들이 지나가다 보면 사고 날 수도 있어!\n",
      "#Person1#: 알겠어, 저기 있는 휴게소에 세울게. 거기서 화장실에서 옷 갈아입을게.\n",
      "#Person2#: 그래, 그게 더 안전하겠다.\n",
      "\n",
      "Pred Summary: #Person1#: How do I fold this sheet? I think there's a lever somewhere.\n",
      "#Person2#: What are you doing?\n",
      "#Person1#: I'm trying to change clothes, can't you see?\n",
      "#Person2#: You're trying to change clothes in the middle of the road? Isn't that dangerous?\n",
      "#Person1#: I can do it. No one will see me.\n",
      "#Person2#: Are you kidding me? Other people might see you and cause an accident!\n",
      "#Person1#: Okay, I'll pull over at the rest area. I'll change in the bathroom there.\n",
      "#Person2#: That's better, it's safer.\n",
      "\n",
      "Gold Summary: #Person1#이 차 안에서 옷을 갈아입으려 하자 #Person2#가 위험하다고 경고했다. 결국 #Person1#은 휴게소에서 옷을 갈아입기로 했다.\n",
      "\n",
      "====================================================================================================\n",
      "Dialogue:\n",
      "#Person1#: 조, 에어 차이나 카운터에서 이륙 30분 전에 체크인해야 한다고 했어. \n",
      "#Person2#: 응, 알아. 티켓에 있는 탑승 시간이 17시 5분이고 지금 16시 15분이니까, 시간 충분히 있어. \n",
      "#Person1#: 체크인할 때 신분증 보여줘야 해? \n",
      "#Person2#: 응, 필수야. \n",
      "#Person1#: 짐은 어떻게 해? \n",
      "#Person2#: 짐은 체크인하고 작은 가방은 기내 반입할 수 있어. 그리고 각 가방을 열어 검사해야 해. \n",
      "#Person1#: 모든 승객을 수색하는 거야? \n",
      "#Person2#: 그럴 것 같아. 오늘 비행기에서는 절대 테러 같은 일이 일어나면 안 되니까.\n",
      "\n",
      "Pred Summary: #Person1#: Jo, we have to check in at the Air China counter 30 minutes before takeoff. \n",
      "#Person2#: Yeah, I know. The boarding time on the ticket is 5:05 pm and it's 4:15 pm now, so we have plenty of time. \n",
      "#Person1#: Do we need to show our ID when we check in? \n",
      "#Person2#: Yes, it's mandatory. \n",
      "#Person1#: What about our luggage? \n",
      "#Person2#: We can check in our luggage and bring a small bag on board. And they will have to open each bag for inspection. \n",
      "#Person1#: Are they going to search every passenger? \n",
      "#Person2#: I think so. We can't have any incidents on this flight today.\n",
      "\n",
      "Gold Summary: #Person1#가 에어 차이나 카운터에서 체크인 시 필요한 절차에 대해 #Person2#에게 묻고 안내받습니다.\n",
      "\n",
      "====================================================================================================\n",
      "Dialogue:\n",
      "#Person1#: 제가 여기 서비스가 좋다고 들어서, 이사할 때마다 가장 먼저 연락드려요.\n",
      "#Person2#: 연락 주셔서 감사합니다. 어떤 도움 필요하신지 말씀 좀 해주시겠어요?\n",
      "#Person1#: 네, 저희가 현재 8층에 있는데, 다른 건물 6층으로 이사하려고 해요. 그곳까지 약 15킬로미터 정도 되거든요.\n",
      "#Person2#: 알겠습니다. 비용은 이사하는 층수, 두 장소 간의 거리, 그리고 옮길 물품의 양에 따라 결정됩니다.\n",
      "#Person1#: 그럼 비용이 얼마나 들까요?\n",
      "#Person2#: 음, 보니까 두 번째 기준 요금에 부합하시네요. 계약서를 한번 보시겠어요?\n",
      "#Person1#: 요금이 선금과 잔액으로 나뉘어 있네요. 전부 이사 전에 내야 하는 줄 알았어요.\n",
      "#Person2#: 아니요, 계약 체결 시 전체 비용의 50%를 선결제하시면 되고, 나머지는 이사 완료 후에 지불하시면 됩니다.\n",
      "#Person1#: 손상 및 보상 부분이 헷갈리는데, 설명 좀 해주실 수 있나요?\n",
      "#Person2#: 네, 이사 중에 물건이 손상될 경우 저희 부서에 보상 청구를 하실 수 있습니다.\n",
      "\n",
      "Pred Summary: #Person1#: I always call you first when I move because I heard your service is good.\n",
      "#Person2#: Thank you for contacting us. Could you tell me what help you need?\n",
      "#Person1#: Yes, we are currently on the 8th floor, but we are moving to the 6th floor of another building. It’s about 15 kilometers away.\n",
      "#Person2#: Okay. The cost depends on the number of floors you are moving, the distance between the two places, and the amount of items you are moving.\n",
      "#Person1#: So how much will it cost?\n",
      "#Person2#: Hmm, it seems you meet the second standard rate. Would you like to see the contract?\n",
      "#Person1#: It seems the cost is divided into a deposit and a balance. I thought I had to pay the whole amount before the move.\n",
      "#Person2#: No, you only need to pay 50% of the total cost as a deposit when you sign the contract, and the rest will be paid after the move is completed.\n",
      "#Person1#: I’m confused about the damage and compensation part. Could you explain it to me?\n",
      "#Person2#: Yes, if your items are damaged during the move, you can file a claim with our department.\n",
      "\n",
      "Gold Summary: #Person1#는 이사를 위해 #Person2#에게 전화를 걸어 도움을 요청하고, 필요한 사항을 설명하며 비용을 문의합니다. #Person2#는 계약서와 함께 비용 및 보상 절차에 대해 안내합니다.\n",
      "\n",
      "====================================================================================================\n",
      "Dialogue:\n",
      "#Person1#: 안녕, 마이크. 못 본 지 좀 됐네. 캐시는 어때? \n",
      "#Person2#: 우리 이제 안 만나요. \n",
      "#Person1#: 무슨 일이야? 헤어졌어? \n",
      "#Person2#: 응. 캐시가 계속 잔소리해서 지겨워졌어. \n",
      "#Person1#: 아, 미안해. 그때는 그냥 감정적이었을지도 몰라. 다시 만날 가능성은 없을까? \n",
      "#Person2#: 잘 모르겠어. 세상에 사람 많은데! \n",
      "#Person1#: 에휴, 너 참 쿨하다!\n",
      "\n",
      "Pred Summary: #Person1#: Hey, Mike. It's been a while. How's Cassie? \n",
      "#Person2#: We don't see each other anymore. \n",
      "#Person1#: What happened? Did you break up? \n",
      "#Person2#: Yeah. Cassie was always nagging me and I got tired of it. \n",
      "#Person1#: Oh, I'm sorry. Maybe she was just emotional at the time. Is there any chance you'll get back together? \n",
      "#Person2#: I don't know. There are plenty of people in the world! \n",
      "#Person1#: Oh, you're so cool!\n",
      "\n",
      "Gold Summary: 마이크는 캐시와 헤어졌다. #Person1#은 안타까워하지만 마이크는 다시 만날 생각이 없다.\n",
      "\n",
      "====================================================================================================\n",
      "Dialogue:\n",
      "#Person1#: 지금까지 본 영화 중에 뭐가 제일 좋아?\n",
      "#Person2#: 난 Superbad가 최고라고 생각해.\n",
      "#Person1#: 그래? 왜 그렇게 생각해?\n",
      "#Person2#: Superbad가 진짜 웃기거든.\n",
      "#Person1#: 맞아, 나도 그 영화 정말 재미있게 봤어.\n",
      "#Person2#: 너가 Superbad 본 줄 몰랐네.\n",
      "#Person1#: 나 영화 처음 나왔을 때 줄 서서 봤어.\n",
      "#Person2#: 나도 영화 내내 웃음을 멈출 수가 없었어.\n",
      "#Person1#: 나도 진짜 웃기다 못해 배가 아플 정도였어.\n",
      "#Person2#: 나도 딱 그런 느낌이었어.\n",
      "#Person1#: 나 DVD 나왔을 때 샀는데, 우리 집에 와서 같이 볼래?\n",
      "#Person2#: 너무 좋지.\n",
      "\n",
      "Pred Summary: Person1 asks Person2 which movie they like the most. Person2 says Superbad is the best. Person1 agrees and says they saw it when it first came out. Person2 says they laughed the whole time. Person1 says they laughed so hard their stomach hurt. Person2 says they felt the same way. Person1 invites Person2 to watch the DVD at their house. Person2 says they would love to.\n",
      "\n",
      "Gold Summary: #Person1#과 #Person2#는 Superbad가 매우 재미있다고 생각합니다. 그들은 영화를 보며 웃음을 멈출 수 없었다고 말합니다. #Person1#은 #Person2#를 집으로 초대하여 함께 DVD를 보자고 합니다.\n",
      "\n",
      "====================================================================================================\n",
      "Dialogue:\n",
      "#Person1#: 지미, 여긴 왜 이렇게 보안 검사를 해? 혹시 위험한 곳이라도 되는 거야?\n",
      "#Person2#: 아, 전혀 아니야. 그냥 만일을 대비하는 거야. 걱정할 필요 없어. 중국에서도 이렇게 안 해?\n",
      "#Person1#: 잘 모르겠어. 비슷할 수도 있지. 사실 여기가 내가 처음 온 바야.\n",
      "#Person2#: 아, 그럼 내가 너랑 같이 와서 영광이네. 이제 네가 왜 이렇게 바에 대해 궁금해했는지 알겠다. 이곳 마음에 들어?\n",
      "#Person1#: 물론이지. 여기 정말 좋아! 특히 장식이 정말 세련됐어.\n",
      "#Person2#: 맞아. 그리고 이곳의 진짜 매력은 훌륭한 음료들이지. 티켓 좀 줄래?\n",
      "#Person1#: 여기 있어. 근데 왜? 우리 이미 안에 들어왔잖아.\n",
      "#Person2#: 음, 티켓으로 무료 음료를 받을 수 있어. 뭐 마시고 싶어? 오렌지 주스?\n",
      "#Person1#: 응, 오렌지 주스 괜찮아. 그런데 어떻게 가져올 거야? 카운터 주변이 너무 붐벼서 움직이기도 힘들어 보여.\n",
      "#Person2#: 내가 어떻게 하는지 보여줄게. 바텐더들이 누구 차례인지 알아. 그리고 손가락을 튕겨서 바텐더의 주의를 끌 수도 있어.\n",
      "#Person1#: 멋진데. 고마워.\n",
      "\n",
      "Pred Summary: Dialogue:\n",
      "#Person1#: Jimmy, why is there so much security here? Is this place dangerous or something?\n",
      "#Person2#: Oh, no, not at all. It's just for safety precautions. You don't need to worry. Is it like this in China too?\n",
      "#Person1#: I'm not sure. It might be similar. Actually, this is my first time here.\n",
      "#Person2#: Oh, well, I'm honored to be here with you. Now I understand why you were so curious about bars. Do you like it here?\n",
      "#Person1#: Of course! It's amazing! Especially the decorations are so stylish.\n",
      "#Person2#: Yeah, and the real attraction here is the great drinks. Can I have your ticket?\n",
      "#Person1#: Here you go. But why? We're already inside.\n",
      "#Person2#: Well, you can get free drinks with the ticket. What would you like? Orange juice?\n",
      "#Person1#: Yeah, orange juice sounds good. But how are we going to get it? It's so crowded around the counter that it's hard to move.\n",
      "#Person2#: I'll show you how. The bartenders know who's next. And you can also tap your fingers to get their attention.\n",
      "#Person1#: Cool. Thanks.\n",
      "\n",
      "Gold Summary: #Person1#은 처음으로 바를 방문했습니다. #Person1#은 바의 세련된 장식을 매우 좋아합니다. 지미는 무료 음료를 받기 위해 #Person1#에게 티켓을 요청합니다.\n",
      "\n",
      "====================================================================================================\n",
      "Dialogue:\n",
      "#Person1#: 저기요, 이 버스가 센트럴 파크로 가나요?\n",
      "#Person2#: 네, 맞습니다.\n",
      "#Person1#: 언제쯤 센트럴 파크에 도착할지 알 수 있을까요?\n",
      "#Person2#: 걱정 마세요. 정류장에 도착하면 알려드릴게요.\n",
      "#Person1#: (몇 분 후) 다음 정류장에서 내려야 하나요?\n",
      "#Person2#: 아뇨, 아직이에요. 도착하면 말씀드릴게요.\n",
      "#Person1#: 오래 걸리나요?\n",
      "#Person2#: 아뇨, 그렇게 오래 걸리지 않아요. 두 정거장만 더 가시면 돼요.\n",
      "#Person1#: 알겠습니다. 감사합니다.\n",
      "#Person2#: 천만에요.\n",
      "\n",
      "Pred Summary: The dialogue is a conversation between two people, #Person1# and #Person2#. #Person1# asks if the bus they are on is going to Central Park, and #Person2# confirms that it is. #Person1# asks when they will arrive at Central Park, and #Person2# assures them that they will be notified when they reach the stop. #Person1# asks if they need to get off at the next stop, and #Person2# says no, they will be notified when it is time to get off. #Person1# asks if it will take long, and #Person2# says no, they only have two more stops to go. #Person1# thanks #Person2#, and #Person2# says you're welcome.\n",
      "\n",
      "Gold Summary: #Person1#이 센트럴 파크로 가는 버스를 타고 있으며, #Person2#가 내릴 정류장을 안내합니다.\n",
      "\n",
      "====================================================================================================\n",
      "Dialogue:\n",
      "#Person1#: Mr. White, 다음 달 초에 회사를 그만두려고 합니다. \n",
      "#Person2#: Jessica, 그 말을 들으니 정말 아쉽네요. 왜 그만두시려는 건가요?\n",
      "#Person1#: 더 높은 연봉과 승진 기회를 제안받은 다른 직장이 있어서요.\n",
      "#Person2#: 아, 그렇군요. 일찍 말씀해주셨으면 저희도 급여 인상을 고려했을 텐데요.\n",
      "#Person1#: Mr. White, 정말 훌륭한 고용주셨고, 당신 같은 상사를 만난 건 행운이었습니다. 하지만 이번 새로운 일자리가 제가 항상 원하던 교육 분야라서요.\n",
      "#Person2#: 알겠습니다, Jessica. 새로운 직장에서 행운을 빌어요. 추천서가 필요하면 언제든지 말씀하세요. 제가 기꺼이 써 드릴게요.\n",
      "\n",
      "Pred Summary: #Person1#: Mr. White, I'm going to leave the company at the beginning of next month. \n",
      "#Person2#: Jessica, I'm really sorry to hear that. Why are you leaving?\n",
      "#Person1#: I've been offered a better salary and promotion opportunities at another company.\n",
      "#Person2#: Oh, I see. If you had told me earlier, we could have considered a pay raise.\n",
      "#Person1#: Mr. White, you've been a great employer, and it's been a pleasure working for you. But this new job is in the education field, which is what I've always wanted.\n",
      "#Person2#: Okay, Jessica. Good luck in your new job. If you need a recommendation letter, just let me know. I'd be happy to write one for you.\n",
      "\n",
      "Gold Summary: Jessica는 Mr. White에게 더 나은 조건의 직장을 제안받아 회사를 그만두겠다고 알립니다. Mr. White는 아쉬워하지만 추천서를 써 주겠다고 합니다.\n",
      "\n",
      "====================================================================================================\n",
      "Dialogue:\n",
      "#Person1#: 혹시 영업 쪽에서 일해본 경험 있으세요?\n",
      "#Person2#: 네, 있습니다. 사실 무역 회사에서 거의 2년 정도 일했어요. 그동안 여러 회사와 사업 관계를 맺었어요.\n",
      "#Person1#: 그 회사에서 구체적으로 무슨 일을 하셨나요?\n",
      "#Person2#: 고객 방문하고, 화물 발송하고 그런 것들이요.\n",
      "#Person1#: 그 일이 마음에 드셨나요?\n",
      "#Person2#: 네, 마음에 들었어요.\n",
      "#Person1#: 그런데 언제, 왜 그 회사를 떠났나요?\n",
      "#Person2#: 두 달 전에 떠났어요. 거기서는 많이 배울 수 없다고 생각했거든요. 자기 개발의 기회도 별로 없었고요.\n",
      "#Person1#: 그렇군요. 우리 회사를 선택한 이유는요?\n",
      "#Person2#: 귀사에서는 자기 발전의 기회가 많다고 들었습니다. 게다가 저는 동북 지역 도시에서 자라서, 그 지역에서 아는 사람이 많아 판매에 도움이 될 수 있을 것 같아요.\n",
      "\n",
      "Pred Summary: This is a conversation between two people. Person1 asks Person2 if they have experience working in sales. Person2 says they have worked in sales for almost 2 years at a trading company. They explain that they visited customers and sent cargo during their time there. Person1 asks if they enjoyed the job, and Person2 says they did. Person1 asks when and why they left the company, and Person2 says they left two months ago because they felt they couldn't learn much there and there weren't many opportunities for personal development. Person1 asks why they chose their company, and Person2 says they heard there are many opportunities for personal development and they grew up in the northeast region, so they have many connections in that area which could help with sales.\n",
      "\n",
      "Gold Summary: #Person1#은 #Person2#를 인터뷰하며 영업 경력, 이전 회사에서의 업무와 그 회사를 떠난 이유 등에 대해 물어보았습니다.\n",
      "\n",
      "====================================================================================================\n",
      "Dialogue:\n",
      "#Person1#: 오늘 일요일이야. \n",
      "#Person2#: 응, 알아. \n",
      "#Person1#: 오늘 집 청소하는 게 어때? 너는 어떻게 생각해? \n",
      "#Person2#: 아, 안 돼. 지난주에 했잖아. \n",
      "#Person1#: 그럼 네가 하고 싶은 건 뭐야? 빨래할래 아니면 집 청소할래? \n",
      "#Person2#: 난 빨래가 더 나아. \n",
      "#Person1#: 알았어. 여기 빨래 있어. \n",
      "#Person2#: 세상에! 양이 너무 많잖아! \n",
      "#Person1#: 걱정 마. 나중에 도와줄게.\n",
      "\n",
      "Pred Summary: #Person1#: It's Sunday today. \n",
      "#Person2#: Yeah, I know. \n",
      "#Person1#: How about cleaning the house today? What do you think? \n",
      "#Person2#: Oh, no. We did it last week. \n",
      "#Person1#: So what do you want to do? Do you want to do laundry or clean the house? \n",
      "#Person2#: I think laundry is better. \n",
      "#Person1#: Okay. Here's the laundry. \n",
      "#Person2#: Oh my god! There's so much! \n",
      "#Person1#: Don't worry. I'll help you later.\n",
      "\n",
      "Gold Summary: #Person1#은 집 청소를 제안했지만 #Person2#는 빨래를 선택하였다.\n",
      "\n",
      "====================================================================================================\n",
      "Dialogue:\n",
      "#Person1#: 주문하시겠어요?\n",
      "#Person2#: 아직 결정을 못 했어요. 조금만 더 시간을 주시겠어요?\n",
      "#Person1#: 네, 천천히 결정하세요.\n",
      "#Person2#: 음료 좀 시킬 수 있을까요? 맥주 두 병 주세요.\n",
      "#Person1#: 네, 알겠습니다.\n",
      "#Person2#: 오늘의 스페셜 메뉴가 뭔지 알려 주세요.\n",
      "#Person1#: 오늘의 스페셜은 스테이크입니다.\n",
      "#Person2#: 그럼 스테이크로 부탁할게요.\n",
      "#Person1#: 스테이크에는 어떤 것을 곁들이시겠어요?\n",
      "#Person2#: 완두콩과 당근으로 주세요.\n",
      "#Person1#: 네, 알겠습니다. 디저트는 무엇으로 하시겠어요?\n",
      "#Person2#: 아이스크림 주세요.\n",
      "\n",
      "Pred Summary: #Person1#: Would you like to place an order?\n",
      "#Person2#: I haven't made up my mind yet. Can I have a little more time?\n",
      "#Person1#: Yes, take your time.\n",
      "#Person2#: Can I get a drink? I'd like two bottles of beer.\n",
      "#Person1#: Yes, I'll get that for you.\n",
      "#Person2#: What's the special today?\n",
      "#Person1#: Today's special is steak.\n",
      "#Person2#: I'll have the steak then.\n",
      "#Person1#: What would you like to have with your steak?\n",
      "#Person2#: I'd like peas and carrots.\n",
      "#Person1#: Okay, I'll get that for you. What would you like for dessert?\n",
      "#Person2#: I'd like ice cream.\n",
      "\n",
      "Gold Summary: #Person2#는 맥주 두 병, 오늘의 스페셜인 스테이크와 곁들일 완두콩과 당근, 디저트로 아이스크림을 주문합니다.\n",
      "\n",
      "====================================================================================================\n",
      "Dialogue:\n",
      "#Person1#: 도와드릴까요?\n",
      "#Person2#: 가죽 재킷을 사고 싶어요.\n",
      "#Person1#: 사이즈는 어떻게 되세요?\n",
      "#Person2#: 40 사이즈요.\n",
      "#Person1#: 어떤 색을 원하세요?\n",
      "#Person2#: 잠깐만요. 갈색이면 괜찮을까요?\n",
      "#Person1#: 음, 갈색도 예쁘긴 한데, 검정색이 더 잘 어울릴 것 같아요.\n",
      "#Person2#: 정말요? 그럼 그걸로 주세요.\n",
      "#Person1#: 다른 건 필요 없으세요?\n",
      "#Person2#: 이 드레스는 순수 실크로 만든 건가요?\n",
      "#Person1#: 네, 그렇습니다. 굉장히 고급스러워요.\n",
      "#Person2#: 세탁이 가능한가요?\n",
      "#Person1#: 네, 가능한데 조심하셔야 해요.\n",
      "#Person2#: 가격은 얼마죠?\n",
      "#Person1#: 350 위안입니다.\n",
      "#Person2#: 좋아요. 포장 좀 해주시겠어요?\n",
      "#Person1#: 네, 여기 있습니다.\n",
      "\n",
      "Pred Summary: #Person1#: Can I help you?\n",
      "#Person2#: I want to buy a leather jacket.\n",
      "#Person1#: What size do you need?\n",
      "#Person2#: Size 40.\n",
      "#Person1#: What color do you want?\n",
      "#Person2#: Let me see. Brown would be okay.\n",
      "#Person1#: Hmm, brown is nice too, but black would look better on you.\n",
      "#Person2#: Really? Okay, I'll take that one.\n",
      "#Person1#: Do you need anything else?\n",
      "#Person2#: Is this dress made of pure silk?\n",
      "#Person1#: Yes, it is. It's very luxurious.\n",
      "#Person2#: Is it machine washable?\n",
      "#Person1#: Yes, but you have to be careful.\n",
      "#Person2#: How much is it?\n",
      "#Person1#: It's 350 yuan.\n",
      "#Person2#: Okay. Can you wrap it up for me?\n",
      "#Person1#: Yes, here you go.\n",
      "\n",
      "Gold Summary: #Person2#는 #Person1#의 추천으로 가죽 재킷과 순수 실크로 만든 드레스를 구매합니다.\n",
      "\n",
      "====================================================================================================\n",
      "Dialogue:\n",
      "#Person1#: 로스앤젤레스라는 곳이 많이 익숙해. 날씨도 정말 좋다더라. 1년 내내 꽃도 피고 수영도 할 수 있다는데, 너는 어떻게 생각해?\n",
      "#Person2#: 음, 해변은 정말 아름다워. 그런데 사람들이 공기가 더러워서 불편해 하더라고. 안개, 연기, 자동차 배기가스가 섞여 있는데, 바람이 부족해서 잘 흩어지지 않거든.\n",
      "\n",
      "Pred Summary: #Person1#: 로스앤젤레스는 정말 좋은 곳이야. 날씨가 좋다는 것도 듣고, 1년 내내 꽃이 피고 수영도 할 수 있다고 들었어. 너는 어떻게 생각해?\n",
      "#Person2#: 음, 해변은 정말 아름다워. 하지만 사람들이 공기가 더럽다고 불평하더라고. 안개, 연기, 자동차 배기가스가 섞여 있는데, 바람이 부족해서 잘 흩어지지 않거든.\n",
      "\n",
      "Gold Summary: #Person2#는 #Person1#에게 로스앤젤레스의 여름 날씨가 좋지만, 공기 오염 때문에 사람들이 불편함을 느낀다고 말한다.\n",
      "\n",
      "====================================================================================================\n",
      "Dialogue:\n",
      "#Person1#: 저기, 온라인 카탈로그를 꽤 오래 사용하고 계신데, 뭐 도와드릴 거 없나요?\n",
      "#Person2#: 음, 제가 1930년대와 1940년대 할리우드에 관한 논문을 써야 해서 정말 힘들어요. 책이 수백 권이나 되고 어디서부터 시작해야 할지 모르겠어요.\n",
      "#Person1#: 주제가 꽤 넓어 보여요. 그 시대의 스튜디오 역사로 좁혀보는 건 어때요?\n",
      "#Person2#: 그런 생각도 했었는데, '영화 스튜디오'라고 입력하니까 30권 넘게 나왔어요.\n",
      "#Person1#: 더 구체적으로 하려면 원하는 연도를 지정해 보는 건 어떠세요? '1930년대', '1940년대', 아니면 '황금기'를 추가해 보세요.\n",
      "#Person2#: '황금기'라는 게 좋은 생각이네요. 한번 입력해볼게요. 오, 이거 봐요, 이번엔 6권만 나왔네요. 훨씬 낫네요.\n",
      "#Person1#: 그리고 또 한 가지 생각해볼 게 있어요. 잡지나 신문 기사를 찾아봤나요?\n",
      "#Person2#: 아니요, 책만 찾고 있었어요.\n",
      "#Person1#: 그러면, 잡지 기사들은 Reader's Guide to Periodical Literature에서 찾아볼 수 있어요.\n",
      "#Person2#: 알겠어요. 일단 이 책들로 시작해보고 그다음에 잡지로 넘어갈게요.\n",
      "#Person1#: 도움이 필요하면, 제가 참고 데스크에 있을게요.\n",
      "#Person2#: 좋네요, 정말 감사합니다.\n",
      "\n",
      "Pred Summary: Person1 asks if they can help Person2 with anything, and Person2 explains that they are having trouble finding sources for a paper on Hollywood in the 1930s and 1940s. Person1 suggests narrowing the topic to the history of movie studios and suggests adding specific years or the term \"golden age\" to the search. Person2 tries this and finds fewer results. Person1 also suggests looking for magazine or newspaper articles in Reader's Guide to Periodical Literature. Person2 thanks Person1 and says they will start with the books and move on to magazines. Person1 offers to help if needed.\n",
      "\n",
      "Gold Summary: #Person2#는 30년대와 40년대 할리우드에 관한 책을 찾는 데 어려움을 겪고 있습니다. #Person1#은 주제를 특정 연도로 좁히라고 조언합니다. 또한 #Person1#은 #Person2#에게 잡지 기사를 검색해 보라고 제안합니다.\n",
      "\n",
      "====================================================================================================\n",
      "Dialogue:\n",
      "#Person1#: 그래서 휴가는 어땠어? 파리에 갔다 왔다고 했지?\n",
      "#Person2#: 맞아, 부모님이랑 갔어. 토요일에 돌아왔어. 정말 멋졌어!\n",
      "#Person1#: 어디서 뭐 봤어?\n",
      "#Person2#: 음, 제일 유명한 곳은 다 봤지. 에펠탑, 노트르담 대성당도... 진짜 재미있었어.\n",
      "#Person1#: 투어도 했어?\n",
      "#Person2#: 하나만 했어. 센강에서 보트 투어를 했어.\n",
      "#Person1#: 와! 진짜 멋지다.\n",
      "#Person2#: 응. 도심을 보기엔 최고였어.\n",
      "#Person1#: 유명한 미술관에도 갔어?\n",
      "#Person2#: 응. 우리 부모님은 미술을 엄청 좋아해서 미술관에서 몇 시간을 보냈어. 근데 난, 그림에는 별로 관심이 없어서 좀 지루했어.\n",
      "#Person1#: 그럼, 또 뭐 했어?\n",
      "#Person2#: 음, 그냥 카페에 앉아서 사람들 구경하는 게 제일 좋았던 것 같아. 진짜 편안했어, 그리고 프랑스 커피는 정말 최고였어.\n",
      "#Person1#: 나도 보기엔 엄청난 휴가였던 것 같아. 하지만 일하러 가야 해서... 언젠간 가볼 수 있길 바래.\n",
      "\n",
      "Pred Summary: Dialogue:\n",
      "#Person1#: So how was your vacation? You said you went to Paris, right?\n",
      "#Person2#: Yeah, I went with my parents. We just got back on Saturday. It was amazing!\n",
      "#Person1#: What did you see?\n",
      "#Person2#: Well, we saw all the famous places. The Eiffel Tower, Notre Dame Cathedral... It was so much fun.\n",
      "#Person1#: Did you go on any tours?\n",
      "#Person2#: Just one. We did a boat tour on the Seine.\n",
      "#Person1#: Wow! That sounds awesome.\n",
      "#Person2#: Yeah. It was the best way to see the city.\n",
      "#Person1#: Did you go to any famous museums?\n",
      "#Person2#: Yeah. My parents love art, so we spent a few hours in the museum. But I wasn't really interested in the paintings, so it was kind of boring.\n",
      "#Person1#: So what else did you do?\n",
      "#Person2#: Well, I think just sitting in cafes and watching people was the best. It was so relaxing, and the French coffee was amazing.\n",
      "#Person1#: It sounds like an incredible vacation. But I have to go to work... I hope I can go someday.\n",
      "\n",
      "Gold Summary: #Person1#은 #Person2#에게 파리에서 어떻게 보냈는지 물어봅니다. #Person2#는 유명한 장소를 방문하고, 카페에서 시간을 보내며 즐거움을 느꼈습니다. #Person1#은 언젠가 그곳에 가보고 싶어 합니다.\n",
      "\n",
      "====================================================================================================\n",
      "Dialogue:\n",
      "#Person1#: 텔레비전 보는 게 지겹다. 오늘 밤 영화관 가자. \n",
      "#Person2#: 좋아. 시내로 갈까? 아니면 근처에 괜찮은 영화 있는지 알아볼까? \n",
      "#Person1#: 너무 돈 많이 안 쓰고 싶어. 근처 극장의 상영작이 뭐야? \n",
      "#Person2#: 여기 있어, 잠깐만... 여섯 번째 칸에 있네. 라일톤 말하는 거야? 거기 괜찮은 영화가 있어. \n",
      "#Person1#: 거긴 너무 멀고, 주차하기도 힘들어. \n",
      "#Person2#: 그럼 그랜드 극장에서 '바람과 함께 사라지다' 하는데? \n",
      "#Person1#: 몇 년 전에 봤는데, 굳이 다시 보고 싶지는 않아. 게다가 너무 길어. 자정까지 집에 못 와. \n",
      "#Person2#: 센터에서는 호러 영화 해. 안 보고 싶어? \n",
      "#Person1#: 절대 싫어. 그럼 밤에 잠 못 자. \n",
      "#Person2#: 그게 다야. 시내로 가는 걸로 결정하지 않으면 말이야. \n",
      "#Person1#: 아뇨, 그럴 순 없어. 분명히 못 본 게 있을 텐데. \n",
      "#Person2#: 여기, 네가 직접 찾아봐, 나 못 찾겠어. \n",
      "#Person1#: 이걸 봐! \n",
      "#Person2#: 뭐? \n",
      "#Person1#: 텔레비전 시간표에 오늘 밤 야구 경기가 있어. \n",
      "#Person2#: 영화 광고만 보고 있었어. \n",
      "#Person1#: 알지만, 그냥 봤어. 뉴욕이 보스턴이랑 경기하네. \n",
      "#Person2#: 그거 좋다. 나도 보고 싶어. \n",
      "#Person1#: 그래, 우리 집에 있자. 금요일에 영화관 가자.\n",
      "\n",
      "Pred Summary: The conversation is about finding a movie to watch. Person1 suggests going to the movies, but Person2 suggests going downtown or finding a movie nearby. Person1 doesn't want to spend too much money and doesn't want to go to a movie that is too far away or has bad parking. Person2 suggests a horror movie, but Person1 doesn't want to see it because it will keep them up at night. Person1 finds a baseball game on TV and suggests watching it instead. Person2 agrees and they decide to stay home and watch the game.\n",
      "\n",
      "Gold Summary: #Person1#과 #Person2#는 신문을 보며 영화를 찾던 중 적당한 영화를 찾지 못하고, 결국 오늘 밤 야구 경기를 집에서 보기로 결정합니다.\n",
      "\n",
      "====================================================================================================\n",
      "Dialogue:\n",
      "#Person1#: 저기, 리사, 뭐 보고 있어?\n",
      "#Person2#: 일본 영화야. 내년에 일본에 갈 건데, 그 나라 문화를 좀 알 필요가 있어서.\n",
      "#Person1#: 그러니까 프로그램에 합격했단 말이야?\n",
      "#Person2#: 맞아.\n",
      "#Person1#: 대단하다. 많이 설레겠네.\n",
      "#Person2#: 설레기도 하고 긴장되기도 해. 기본 회화 실력을 좀 길러야 하거든.\n",
      "#Person1#: 일본어 얼마나 알아듣겠어?\n",
      "#Person2#: 지금은 조금밖에 못해. 하지만 다음 달에 특별한 어학 수업 들을 예정이야.\n",
      "#Person1#: 넌 외국어를 참 잘하는구나. 나도 유학 가고 싶어.\n",
      "#Person2#: 그럼 왜 안 가? 학교에 외국어 실력이 없어도 되는 프로그램 많아. 새로운 환경에 빨리 적응할 수 있는 사람이면 돼.\n",
      "#Person1#: 모든 프로그램이 외국어 실력을 요구하는 줄 알았는데. 알려줘서 고마워.\n",
      "\n",
      "Pred Summary: This dialogue is about a person named Lisa who is watching a Japanese movie to learn about the culture of Japan before she goes there next year. Her friend asks her if she has been accepted into a program, and Lisa confirms that she has. She is excited but also nervous because she needs to improve her basic conversational skills. Her friend asks how much Japanese she understands, and Lisa says that she understands a little but will be taking a special language class next month. The friend compliments Lisa on her language skills and expresses a desire to study abroad. Lisa suggests that there are many programs that do not require foreign language skills and that being able to adapt to new environments is more important. The friend thanks Lisa for the information.\n",
      "\n",
      "Gold Summary: 리사는 프로그램에 합격하여 내년에 일본으로 갈 예정이다. 외국어 실력이 없어도 되는 프로그램이 있다고 #Person1#에게 소개한다.\n",
      "\n",
      "====================================================================================================\n",
      "Dialogue:\n",
      "#Person1#: 안녕, Sue. 시골에서 휴가 잘 보냈어? \n",
      "#Person2#: 응, 고마워. 정말 즐거웠어. 친구들도 같이 갔어. \n",
      "#Person1#: 어디서 묵었어? 호텔에 있었어? \n",
      "#Person2#: 아니. Snowdon 근처 산에서 캠핑했어. 모든 식사를 야외에서 불 피우고 요리했어. \n",
      "#Person1#: 멋지다. 날씨는 어땠어? \n",
      "#Person2#: 거의 매일 해가 쨍쨍했어. 비도 전혀 안 왔고. \n",
      "#Person1#: 거기 사람들은 어땠어? \n",
      "#Person2#: 다들 정말 좋았어. 농부들도 만나서 그들의 집에서 차도 마셨고. \n",
      "#Person1#: 언제 돌아왔어? 어젯밤에? \n",
      "#Person2#: 아니. 오늘 아침에. 우린 정말 미친 것 같아 보일걸. 4시 30분에 일어나서 5시에 출발했고, 9시에 여기에 도착했어. 너무 피곤해. 너는 어땠어? 주말 잘 보냈어? \n",
      "#Person1#: 응, 근데 별로 한 게 없어. 집에 그냥 있었어. 날씨가 별로였거든.\n",
      "\n",
      "Pred Summary: Person1 asks Sue how her vacation in the countryside was. Sue says it was great and that she went with friends. Person1 asks where they stayed and Sue says they camped in the mountains near Snowdon. Person1 asks about the weather and Sue says it was sunny every day and didn't rain at all. Person1 asks about the people and Sue says they were all nice and they even had tea at a farmer's house. Person1 asks when they got back and Sue says they arrived this morning at 9 after leaving at 5:30. Person1 says they had a good weekend but didn't do much and stayed at home because the weather was bad.\n",
      "\n",
      "Gold Summary: Sue는 시골에서 친구들과 함께 캠핑하며 즐거운 휴가를 보냈으며, 날씨도 매우 좋았다. #Person1#은 주말 동안 집에 머물렀고, 날씨가 별로여서 특별한 일을 하지 않았다.\n",
      "\n",
      "====================================================================================================\n",
      "Dialogue:\n",
      "#Person1#: 왜 여자친구가 있다고 말하지 않았어?\n",
      "#Person2#: 미안, 네가 알고 있는 줄 알았어.\n",
      "#Person1#: 그래도 그녀와 사랑에 빠졌다고는 얘기했어야지.\n",
      "#Person2#: 내가 말하지 않았었나?\n",
      "#Person1#: 너도 알잖아, 말 안 했어.\n",
      "#Person2#: 이제 말했으니까 됐잖아.\n",
      "#Person1#: 그래도 전에 말할 수도 있었잖아.\n",
      "#Person2#: 네가 관심 없을 줄 알았어.\n",
      "#Person1#: 정말? 그녀와 결혼할 거라고 말도 안 하다니 정말 황당하네.\n",
      "#Person2#: 미안, 중요하지 않은 줄 알았어.\n",
      "#Person1#: 아휴, 남자들! 다 똑같아.\n",
      "\n",
      "Pred Summary: #Person1#: Why didn't you tell me you had a girlfriend?\n",
      "#Person2#: Sorry, I thought you knew.\n",
      "#Person1#: Still, you should have told me you were in love with her.\n",
      "#Person2#: Didn't I tell you?\n",
      "#Person1#: You didn't.\n",
      "#Person2#: I told you now, so it's okay.\n",
      "#Person1#: Still, you could have told me earlier.\n",
      "#Person2#: I thought you wouldn't care.\n",
      "#Person1#: Really? You didn't even tell me you were going to marry her.\n",
      "#Person2#: Sorry, I thought it wasn't important.\n",
      "#Person1#: Oh, men! You're all the same.\n",
      "\n",
      "Gold Summary: #Person2#가 여자친구가 있고 그녀와 결혼할 것이라는 사실을 말하지 않아 #Person1#이 화가 났다.\n",
      "\n",
      "====================================================================================================\n",
      "Dialogue:\n",
      "#Person1#: 편하게 있어요. 외투는 제가 받을게요. 저녁 준비 거의 다 됐어요. 배고프실 테니 많이 드세요.\n",
      "#Person2#: 아르망, 집이 정말 멋져요! 인테리어가 아주 흥미롭네요. 약간 고딕 스타일인 것 같아요.\n",
      "#Person3#: 저도 정말 감탄했어요! 아르망, 정말 센스가 좋으시네요. 저도 집을 꾸밀 생각 중인데, 몇 가지 조언 좀 해주시겠어요?\n",
      "#Person1#: 물론이죠. 앉으세요. 와인 한 잔 드릴까요?\n",
      "#Person3#: 네, 좋아요!\n",
      "#Person1#: 여기 있습니다. 제 고향에서 직접 가져온 아주 특별한 메를로예요. 독특한 재료가 들어가서 향과 맛이 뛰어나요.\n",
      "#Person3#: 음... 맛있네요!\n",
      "#Person2#: 제 취향에는 조금 쓰네요... 약간... 약간...\n",
      "#Person3#: 앨런! 앨런! 괜찮아?\n",
      "#Person1#: 기절했나요?\n",
      "#Person3#: 네...\n",
      "#Person1#: 너무 독하게 타진 않았길 바라야죠! 식사 망칠 수 있다고요!\n",
      "\n",
      "Pred Summary: Dialogue:\n",
      "#Person1#: Sit down. Would you like a glass of wine?\n",
      "#Person3#: Yes, please!\n",
      "#Person1#: Here you are. It's a very special Merlot from my hometown. It has a unique ingredient that makes it taste and smell great.\n",
      "#Person3#: Mmm... it's delicious!\n",
      "#Person2#: It's a little bitter for my taste... a little... a little...\n",
      "#Person3#: Alan! Alan! Are you okay?\n",
      "#Person1#: Did you faint?\n",
      "#Person3#: Yes...\n",
      "#Person1#: I hope I didn't make it too strong! You can ruin your meal, you know!\n",
      "\n",
      "Gold Summary: #Person3#와 #Person2#가 아르망의 집에 방문하여 함께 저녁 식사를 합니다. 아르망이 제공한 와인은 #Person2#에게 약간 쓴맛이 나서 기절하게 됩니다.\n",
      "\n",
      "====================================================================================================\n",
      "Dialogue:\n",
      "#Person1#: 나 새 드레스 샀는데, 어때 보여?\n",
      "#Person2#: 완전 예쁘다. 그런데 면접 가는 거야 아니면 파티?\n",
      "#Person1#: 아니, 학교에서 강연 요청받았어.\n",
      "#Person2#: 그럼 얼마 주고 샀어?\n",
      "#Person1#: 70달러에 샀어. 30달러 절약했어.\n",
      "#Person2#: 진짜 싸게 잘 샀네.\n",
      "#Person1#: 맞아. 근데 쇼핑할 동안 너는 뭐 했어?\n",
      "#Person2#: 그냥 TV 좀 보고 책 좀 읽었어. 별로 재미없는 책이라 조금만 읽고, 샤워했어.\n",
      "#Person1#: 마이크 보러 간다던데?\n",
      "#Person2#: 내일 집에 가서 마이크 만날 거야. 걔가 내일 아침에 집에 온대.\n",
      "#Person1#: 그 사고 후에 드디어 집에 돌아올 수 있다니 다행이다.\n",
      "\n",
      "Pred Summary: #Person1#: I bought a new dress, what do you think?\n",
      "#Person2#: It's so pretty. Are you going to an interview or a party?\n",
      "#Person1#: No, I got a request for a lecture at school.\n",
      "#Person2#: How much did you pay for it?\n",
      "#Person1#: I bought it for $70, I saved $30.\n",
      "#Person2#: You really got a good deal.\n",
      "#Person1#: Yeah. What did you do while I was shopping?\n",
      "#Person2#: I just watched some TV and read a book. It was a boring book, so I only read a little bit, and I took a shower.\n",
      "#Person1#: Are you going to see Mike?\n",
      "#Person2#: I'm going to see him tomorrow at my house. He's coming over tomorrow morning.\n",
      "#Person1#: It's good that he can finally come home after that accident.\n",
      "\n",
      "Gold Summary: #Person1#은 새 드레스를 할인받아 구입했으며, 그동안 #Person2#는 집에서 TV를 보고 지루한 책을 읽다가 샤워를 했습니다.\n",
      "\n",
      "====================================================================================================\n",
      "Dialogue:\n",
      "#Person1#: 안녕하세요, 올리비아 있나요?\n",
      "#Person2#: 죄송하지만, 지금 점심 먹으러 나갔어요. 메시지 남기시겠어요?\n",
      "#Person1#: 네, 저는 해리스입니다. 올리비아에게 제가 영화관 매표소에서 7시 10분에 기다리겠다고 전해 주세요.\n",
      "#Person2#: 알겠습니다, 해리스. 매표소에서 7시 10분에 기다리신다고요.\n",
      "#Person1#: 네, 맞아요. 감사합니다.\n",
      "#Person2#: 네, 올리비아에게 전할게요. 감사합니다.\n",
      "\n",
      "Pred Summary: #Person1#: Hello, is Olivia there?\n",
      "#Person2#: I'm sorry, but she's out to lunch right now. Would you like to leave a message?\n",
      "#Person1#: Yes, this is Harris. Please tell Olivia that I'll be waiting for her at the ticket counter at 7:10.\n",
      "#Person2#: Okay, Harris. You'll be waiting at the ticket counter at 7:10, right?\n",
      "#Person1#: Yes, that's correct. Thank you.\n",
      "#Person2#: Yes, I'll tell Olivia. Thank you.\n",
      "\n",
      "Gold Summary: 해리스가 올리비아에게 전화했지만 그녀는 부재중입니다. 해리스는 영화관 매표소에서 7시 10분에 기다릴 것이라고 메시지를 남겼습니다.\n",
      "\n",
      "====================================================================================================\n",
      "Dialogue:\n",
      "#Person1#: 여보세요, 여기는 Smith 의사님 병원인가요?\n",
      "#Person2#: 네, 맞습니다. 어떻게 도와드릴까요?\n",
      "#Person1#: 네, Smith 의사님과 통화하고 싶은데요.\n",
      "#Person2#: Smith 의사님은 오늘 오후에 집에 가셨어요. 실례지만, 누구신지 여쭤봐도 될까요?\n",
      "#Person1#: Jim White입니다.\n",
      "#Person2#: 아, 네. White 씨군요. Smith 의사님께서 집 전화번호를 드리라고 하셨어요.\n",
      "#Person1#: 잠시만요. 네, 번호가 어떻게 되나요?\n",
      "#Person2#: 번호는 #PhoneNumber#입니다.\n",
      "#Person1#: 정말 감사합니다.\n",
      "#Person2#: 괜찮습니다.\n",
      "\n",
      "Pred Summary: This program converts all the Korean sentences that are inputted into English.\n",
      "Dialogue:\n",
      "#Person1#: Hello, is this the office of Dr. Smith?\n",
      "#Person2#: Yes, it is. How may I help you?\n",
      "#Person1#: Yes, I'd like to talk to Dr. Smith.\n",
      "#Person2#: Dr. Smith is at home today. Excuse me, but may I ask who you are?\n",
      "#Person1#: Jim White.\n",
      "#Person2#: Oh, yes. Mr. White. Dr. Smith asked me to give you his home phone number.\n",
      "#Person1#: Just a moment. Yes, what is the number?\n",
      "#Person2#: The number is #PhoneNumber#.\n",
      "#Person1#: Thank you very much.\n",
      "#Person2#: No problem.\n",
      "\n",
      "Gold Summary: Jim이 Smith 의사에게 전화를 걸었지만 그가 부재중이라 병원 직원이 그의 전화번호를 제공했다.\n",
      "\n",
      "====================================================================================================\n",
      "Dialogue:\n",
      "#Person1#: 에드워드, 왜 이렇게 기분이 좋아 보여? 무슨 좋은 일 있어? \n",
      "#Person2#: 당연하지. 기쁘기도 하고 의미도 있지. 오늘 아침에 학교 가려고 지하철을 탔는데, 지하철역에서 의자에 소설 한 권이 놓여 있는 걸 보고 엘리베이터 근처에도 또 하나를 봤어. \n",
      "#Person1#: 정말? 누가 공유하려고 둔 것 같네. \n",
      "#Person2#: 맞아, 빨간 책이 궁금해졌어. 가는 길에 읽으면서 시간 보내기 딱 좋을 것 같아. 나도 내 책을 거기에 놓을 계획이야. 그냥 공유하려고. \n",
      "#Person1#: 좋은 생각이네. 하지만 다른 사람들에게 방해되지 않도록 적절한 곳에 두도록 해. \n",
      "#Person2#: 알겠어, 그렇게 할게.\n",
      "\n",
      "Pred Summary: #Person1#: Edward, why are you so happy? What’s the good news? \n",
      "#Person2#: Of course. I’m happy and it’s meaningful. I took the subway to school this morning and I saw a book on a chair at the subway station and another one near the elevator. \n",
      "#Person1#: Really? It looks like someone left it for sharing. \n",
      "#Person2#: Yeah, I was curious about the red book. I thought it would be great to read it on the way and kill time. I’m planning to leave my book there too. Just for sharing. \n",
      "#Person1#: That’s a good idea. But make sure to put it in an appropriate place so it doesn’t bother others. \n",
      "#Person2#: Okay, I will.\n",
      "\n",
      "Gold Summary: 에드워드는 지하철에 놓인 책을 보고 기뻐하며, 자신의 책을 공유할 계획을 세운다.\n",
      "\n",
      "====================================================================================================\n",
      "Dialogue:\n",
      "#Person1#: 다음 주가 네 생일 파티잖아. 너무 신나지 않아? 생일 선물로 뭐 받고 싶어?\n",
      "#Person2#: 음, 엄마 차 같은 거 하나 있으면 정말 좋겠어.\n",
      "#Person1#: 음... 차는 아직 좀 무리이지 않을까? 너 아직 9살이잖아. 인형은 어때?\n",
      "#Person2#: 엄마, 난 남자애야. 남자애는 인형 안 가지고 놀아. 하지만 장난감 총 같은 건 좋아.\n",
      "#Person1#: 이번엔 그건 좀 어려울 것 같아. 멋진 옷이나 작은 가방은 어때? 아들아, 그래...\n",
      "#Person2#: 내가 이름을 메리로 바꿔야 할까 봐. 엄마가 딸을 원하시는 것 같으니까?\n",
      "\n",
      "Pred Summary: #Person1#: Next week is your birthday party, aren't you excited? What do you want as a birthday present?\n",
      "#Person2#: Hmm, I wish I had a car like mom's.\n",
      "#Person1#: Hmm... a car might be a bit too much, you're only 9 years old. How about a doll?\n",
      "#Person2#: Mom, I'm a boy. Boys don't play with dolls. But I like toy guns.\n",
      "#Person1#: That might be a bit difficult this time. How about some nice clothes or a small bag? Son, okay...\n",
      "#Person2#: Should I change my name to Mary because you want a daughter?\n",
      "\n",
      "Gold Summary: #Person2#는 멋진 생일 선물을 원하지만, 엄마는 여자아이에게 어울릴 만한 선물을 주려고 합니다.\n",
      "\n",
      "====================================================================================================\n",
      "Dialogue:\n",
      "#Person1#: 너 아직도 드라마 보고 있어, Nancy? \n",
      "#Person2#: 응. 그거 시작하면 눈을 뗄 수가 없어. \n",
      "#Person1#: 그렇게 재미있어? \n",
      "#Person2#: 뭐, 배우진은 별로고 줄거리도 인상적이진 않아. 하지만 주연 배우가 연기도 뛰어나고 잘생겼어. \n",
      "#Person1#: 이제 좀 쉬어야 하지 않을까? 채널 8번에 축구 경기 하고 있어. \n",
      "#Person2#: 아, 그 운동 경기 얘기 그만해. 왜 사람들이 그 공 하나 때문에 뛰는지 진짜 이해가 안 돼. \n",
      "#Person1#: 만약 우리가 프로그램을 고를 수 있다면, 나는 다큐멘터리를 볼 텐데. 이런 드라마는 진짜 지루해. \n",
      "#Person2#: 취향은 제각각이지. '남의 떡이 더 커 보인다'는 말 들어본 적 있어? \n",
      "#Person1#: 그런데 너 거의 5시간 동안 TV 앞에 앉아 있었잖아, 저녁 먹을 때도. 솔직히 말해서 네가 자기가치는 것 같아. \n",
      "#Person2#: 알았어, 채널 봐.\n",
      "\n",
      "Pred Summary: Nancy is still watching a drama. She can't take her eyes off it. She says the actors are not that good and the plot is not very interesting, but the main actor is good-looking. Person1 suggests watching a football game on channel 8, but Nancy doesn't like sports. Person1 says he would rather watch documentaries, but Nancy says everyone has different tastes. Person1 points out that Nancy has been sitting in front of the TV for almost 5 hours, even during dinner. He says she is addicted to TV. Nancy changes the channel.\n",
      "\n",
      "Gold Summary: Nancy는 드라마를 보며 시간을 보내고, #Person1#은 축구 경기를 보고 싶어 하지만 Nancy는 드라마를 계속 시청하길 원한다. #Person1#은 그녀가 너무 오래 TV 앞에 앉아 있다고 지적한다.\n",
      "\n",
      "====================================================================================================\n",
      "Dialogue:\n",
      "#Person1#: 나중에 회의 장소에 4시까지 도착해야 한다고 했지, 맞지? \n",
      "#Person2#: 맞아, 절대 늦지 말라고 하셨어. East York 지점에서 오시는 분들한테 좋은 인상을 주고 싶어하셔. 너는 어떻게 갈 거야? \n",
      "#Person1#: 차 타고 가려 했는데, 고속도로 공사 중이라 지하철 탈까 생각 중이야. 너는? \n",
      "#Person2#: 나도 지하철 탈 거야. 같이 갈래? 나 거기 한 번밖에 안 가봐서 길 찾는 게 걱정돼.\n",
      "\n",
      "Pred Summary: #Person1#: We have to be at the meeting place by 4, right? \n",
      "#Person2#: Yeah, you can't be late. He wants to make a good impression on the people coming from East York. How are you getting there? \n",
      "#Person1#: I was going to drive, but there's construction on the highway, so I'm thinking of taking the subway. You? \n",
      "#Person2#: I'm taking the subway too. Want to go together? I've only been there once, so I'm worried about getting lost.\n",
      "\n",
      "Gold Summary: #Person1#과 #Person2#는 회의 장소에 일찍 도착하기 위해 지하철을 타고 가기로 결정했고, #Person2#가 함께 가자고 제안합니다.\n",
      "\n",
      "====================================================================================================\n",
      "Dialogue:\n",
      "#Person1#: 런던에서 숙소는 어떤가요, Ahmed?\n",
      "#Person2#: 음, 좀 어려울 것 같아요. 수천 명의 해외 학생들이 있어서요.\n",
      "#Person1#: 호텔에 머무는 게 좋을까요, 아파트를 같이 쓰는 게 좋을까요, 아니면 홈스테이하는 게 나을까요?\n",
      "#Person2#: 처음에는 홈스테이가 더 나을 것 같아요, Carla.\n",
      "#Person1#: 아파트 같이 쓰는 건 추천하지 않나요?\n",
      "#Person2#: 네, 제가 당신이라면 아파트는 피할 것 같아요. 아파트에서는 공부를 많이 못 할 수도 있어요. 요리하고 청소하는 데 시간을 많이 쓸 테니까요.\n",
      "#Person1#: 홈스테이 게스트 가족에 대해 어떻게 알 수 있을까요?\n",
      "#Person2#: 캠퍼스에 있는 학생회관에 목록이 있어요. 학생회관에서 홈스테이를 찾는 걸 도와줄 거예요.\n",
      "\n",
      "Pred Summary: #Person1#: How about the accommodation in London, Ahmed?\n",
      "#Person2#: Well, it might be difficult because there are thousands of foreign students.\n",
      "#Person1#: Should I stay in a hotel, share an apartment, or do a homestay?\n",
      "#Person2#: I think a homestay would be better at first, Carla.\n",
      "#Person1#: Would you not recommend sharing an apartment?\n",
      "#Person2#: Yes, I would avoid apartments if I were you. You might not be able to study much in an apartment because you'll spend a lot of time cooking and cleaning.\n",
      "#Person1#: How can I find out about the families who offer homestays?\n",
      "#Person2#: There's a list at the student union on campus. The student union will help you find a homestay.\n",
      "\n",
      "Gold Summary: #Person2#는 Carla에게 아파트는 요리와 청소에 많은 시간을 소비하게 되므로 홈스테이를 추천합니다.\n",
      "\n",
      "====================================================================================================\n",
      "Dialogue:\n",
      "#Person1#: 실례지만 공항이 어디에 있나요?\n",
      "#Person2#: 음, 꽤 멀리 있어요. 제 스마트폰 지도로 보여드릴 수 있어요.\n",
      "#Person1#: 아, 죄송해요, 제 말은 어떻게 가야 하는지 물어본 거예요.\n",
      "#Person2#: 그건 상황에 따라 달라요. 빨리 가고 싶으세요, 아니면 저렴하게 가고 싶으세요?\n",
      "#Person1#: 아마도 후자가 나을 것 같아요.\n",
      "#Person2#: 좋아요. 한 블록 내려가서 좌회전하면 12번 지하철 역이 보여요. 12번 지하철을 쭉 타고 가다가 Grove Street에서 환승해 공항 급행열차로 갈아타세요.\n",
      "#Person1#: 어디서 갈아타야 하는지 어떻게 알 수 있을까요?\n",
      "#Person2#: 열차에서 안내 방송이 있을 거예요. 하지만 큰 여행 가방을 들고 있는 사람들이 많을 테니 그들을 따라가시면 될 거예요.\n",
      "\n",
      "Pred Summary: #Person1#: Excuse me, but where is the airport?\n",
      "#Person2#: Uh, it's quite far. I can show you on my smartphone map.\n",
      "#Person1#: Oh, I'm sorry, I meant to ask how to get there.\n",
      "#Person2#: It depends on the situation. Do you want to get there quickly or cheaply?\n",
      "#Person1#: Probably the latter.\n",
      "#Person2#: Okay. Walk down one block and turn left. You'll see the 12th subway station. Take the 12th subway all the way to Grove Street and transfer to the airport express train.\n",
      "#Person1#: How will I know where to transfer?\n",
      "#Person2#: There will be an announcement on the train. But there will be a lot of people with big luggage, so just follow them.\n",
      "\n",
      "Gold Summary: #Person1#이 #Person2#에게 공항까지 저렴하게 가는 방법을 묻습니다. #Person2#는 #Person1#에게 지하철을 타고 공항 급행열차로 갈아타라고 안내합니다.\n",
      "\n",
      "====================================================================================================\n",
      "Dialogue:\n",
      "#Person1#: 대학 시절에 리더 역할 해본 적 있어요?\n",
      "#Person2#: 네, 학교에서 선전부 장관이었어요.\n",
      "#Person1#: 학교에서 상이나 표창 받은 적은요?\n",
      "#Person2#: 아니요, 좀 아쉬워요.\n",
      "#Person1#: 대학 때 동아리 활동도 했어요?\n",
      "#Person2#: 네, 농구 동아리 회원이었어요. 농구를 좋아해요.\n",
      "#Person1#: 보통 대학에서 무슨 과외 활동을 했어요?\n",
      "#Person2#: 가끔 농구도 하고 가끔 축구도 했어요.\n",
      "\n",
      "Pred Summary: #Person1#: Have you ever been a leader in college?\n",
      "#Person2#: Yes, I was the head of the propaganda department in school.\n",
      "#Person1#: Have you ever won any awards or prizes in school?\n",
      "#Person2#: No, I'm a little disappointed.\n",
      "#Person1#: Did you do any extracurricular activities in college?\n",
      "#Person2#: Yes, I was a member of the basketball club. I like basketball.\n",
      "#Person1#: What kind of extracurricular activities did you usually do in college?\n",
      "#Person2#: I sometimes played basketball and sometimes played soccer.\n",
      "\n",
      "Gold Summary: #Person2#는 대학교에서 선전부 장관을 맡았고 농구 활동에 참여했다고 말합니다.\n",
      "\n",
      "====================================================================================================\n",
      "Dialogue:\n",
      "#Person1#: 당신은 묵비권을 행사할 권리가 있습니다. 당신이 말하는 것은 법정에서 불리하게 사용될 수 있습니다. 질문을 받을 때 변호사를 대동할 권리가 있습니다. 만약 변호사를 구할 여유가 없다면, 변호사가 제공될 것입니다. 이해하셨습니까?\n",
      "#Person2#: 네.\n",
      "#Person1#: 이름이 어떻게 되시죠?\n",
      "#Person2#: 제 이름은 James입니다.\n",
      "#Person1#: 국적은 어떻게 되나요?\n",
      "#Person2#: 미국인입니다.\n",
      "#Person1#: 피해자와는 어떤 관계인가요?\n",
      "#Person2#: 그 사람을 모르는데요.\n",
      "#Person1#: 왜 피해자를 공격했나요?\n",
      "#Person2#: 그가 먼저 제 가방을 빼앗으려 해서 저지하려다가 그에게 맞았습니다.\n",
      "#Person1#: 피해자를 몇 번 찔렀나요?\n",
      "#Person2#: 그의 배를 세 번 찔렀습니다.\n",
      "#Person1#: 이런 행동이 심각한 부상이나 사망을 초래할 수 있다는 것을 알고 있었나요?\n",
      "#Person2#: 알고 있었지만, 제 자신을 통제할 수 없었어요.\n",
      "#Person1#: 피해자를 죽이려는 의도가 있었나요?\n",
      "#Person2#: 아니요, 저는 의도적으로 그를 죽인 게 아닙니다. 그 사건은 그가 일으킨 겁니다. 변호사를 만나봐야겠어요.\n",
      "#Person1#: 알겠습니다. 변호사의 전화번호를 주세요. 우리가 연락하겠습니다.\n",
      "\n",
      "Pred Summary: This dialogue is a police interrogation of a suspect named James, who is accused of stabbing a victim. The police officer reads James his Miranda rights, which include the right to remain silent and the right to have an attorney present during questioning. James confirms that he understands his rights and provides his name and nationality. He denies knowing the victim and claims that he only stabbed him in self-defense after the victim tried to steal his bag. James admits to stabbing the victim three times and acknowledges that his actions could have caused serious injury or death. However, he denies any intent to kill the victim and requests to speak to an attorney. The police officer asks for James' attorney's phone number and promises to contact them.\n",
      "\n",
      "Gold Summary: #Person2#는 피해자가 먼저 가방을 빼앗으려 했다고 주장하며 그를 찔렀다고 합니다. #Person2#는 고의로 죽이지 않았다고 주장하고 있습니다.\n",
      "\n",
      "====================================================================================================\n",
      "Dialogue:\n",
      "#Person1#: 어떤 일을 하고 싶으세요?\n",
      "#Person2#: 전 매니지먼트 관련 일을 하고 싶어요. 제가 3년간의 경력이 있거든요.\n",
      "#Person1#: 만약 고용된다면 어떤 계획이 있으신가요?\n",
      "#Person2#: 저의 전문성과 경험을 바탕으로 일하면서 점차 이 회사의 관리직으로 올라가는 게 목표입니다.\n",
      "\n",
      "Pred Summary: #Person1#: What do you want to do?\n",
      "#Person2#: I want to do something in management. I have 3 years of experience.\n",
      "#Person1#: If you are hired, what is your plan?\n",
      "#Person2#: My goal is to work with my expertise and experience and gradually move up to a management position in this company.\n",
      "\n",
      "Gold Summary: #Person2#는 #Person1#에게 이상적인 직업과 고용되었을 때의 계획에 대해 설명합니다.\n",
      "\n",
      "====================================================================================================\n",
      "Dialogue:\n",
      "#Person1#: 여보세요, 저는 링컨 은행의 루시 징입니다. Mr. Was와 통화할 수 있을까요?\n",
      "#Person2#: 네, 접니다.\n",
      "#Person1#: 안녕하세요, Mr. Was님. 새로운 신용카드 때문에 전화 드렸어요. 카드가 저희 은행에 도착했습니다. 직접 수령하시거나 저희가 보내드릴 수 있습니다.\n",
      "#Person2#: 보내주실 필요 없어요. 오늘 오후에 개인 은행원과 미팅이 있어서 그때 갈 예정입니다.\n",
      "#Person1#: 정말 좋은 타이밍이네요!\n",
      "#Person2#: 그러게요. 수령하기 전까지 제가 해야 할 일이 있을까요?\n",
      "#Person1#: 특별한 건 없어요. 하지만 혹시라도 마음에 들지 않는 부분이 있을 수 있으니, 서명 전에 약관을 다시 한 번 읽어보시는 걸 추천드립니다.\n",
      "#Person2#: 괜찮을 겁니다. 그럼 제 비밀번호는 어떻게 되나요?\n",
      "#Person1#: 그건 근무일 기준 2일 내로 발송될 겁니다. 그 후에 새 카드를 사용할 수 있습니다.\n",
      "#Person2#: 알겠습니다. 그럼 오늘 오후에 뵙겠습니다. 전화해 주셔서 감사합니다. 안녕히 계세요.\n",
      "\n",
      "Pred Summary: #Person1#: Hello, this is Lucy Zing from Lincoln Bank. May I speak to Mr. Was?\n",
      "#Person2#: Yes, speaking.\n",
      "#Person1#: Hello, Mr. Was. I’m calling about your new credit card. It has arrived at our bank. You can either pick it up or we can send it to you.\n",
      "#Person2#: No need to send it. I have a meeting with my personal banker this afternoon, so I’ll pick it up then.\n",
      "#Person1#: That’s great timing!\n",
      "#Person2#: Yes, it is. Is there anything I need to do before I pick it up?\n",
      "#Person1#: Nothing special. But just in case, I recommend that you read the terms and conditions again before you sign.\n",
      "#Person2#: I’m sure it’ll be fine. So what’s my password?\n",
      "#Person1#: That will be sent to you within two business days. After that, you can start using your new card.\n",
      "#Person2#: Okay. I’ll see you this afternoon. Thanks for calling. Goodbye.\n",
      "\n",
      "Gold Summary: 루시 징이 Mr. Was에게 그의 새로운 신용카드에 대해 전화했습니다. Mr. Was는 카드를 직접 수령할 예정이며, 루시는 그가 카드에 서명하기 전에 약관을 다시 읽어보라고 권장했습니다.\n",
      "\n",
      "====================================================================================================\n",
      "Dialogue:\n",
      "#Person1#: 책 빌려주셔서 감사합니다. \n",
      "#Person2#: 괜찮아. 그런데 이 책은 좀 어려울 수 있어서 사전이 옆에 있으면 좋을 거야. \n",
      "#Person1#: 근데 소설 읽을 때마다 새 단어를 다 찾아보는 건 익숙하지 않아서, 정말 필요한 단어만 찾아볼게.\n",
      "\n",
      "Pred Summary: #Person1#: Thank you for lending me the book. \n",
      "#Person2#: No problem. But this book might be a bit difficult, so it would be helpful to have a dictionary nearby. \n",
      "#Person1#: But I'm not used to looking up every new word when I read novels, so I'll just look up the ones I really need.\n",
      "\n",
      "Gold Summary: #Person1#은 #Person2#에게 책을 빌렸고, 중요한 단어들만 찾아보며 읽을 겁니다.\n",
      "\n",
      "====================================================================================================\n",
      "Dialogue:\n",
      "#Person1#: 먼저 결제 조건에 대해서 얘기해보죠.\n",
      "#Person2#: 저희가 불가역적인 신용장을 요구하는 것 아시죠? 선적 서류가 제시되면 지불되는 방식입니다.\n",
      "#Person1#: 당신의 입장은 충분히 이해합니다. 불가역적인 신용장은 판매자가 제때 돈을 받도록 보장합니다. 하지만 반대로 구매 비용을 증가시키는 요인이기도 하죠. 우리가 결국 3년 동안 거래해온 파트너이고, 우리에 대해서 잘 알고 계시잖아요. D/A나 D/P로 진행할 수 없을까요?\n",
      "#Person2#: 죄송하지만, 저희는 지금까지 L/C로 결제받는 것을 고수해왔습니다.\n",
      "#Person1#: 그러나 우리 정부는 우리 수입품에 대해 L/C 결제를 승인하는 데 주저하고 있습니다. 허가 문제도 있구요.\n",
      "#Person2#: 이해합니다만, 지금 당장은 도와드릴 방법이 없습니다. 앞으로 더 크고 많은 거래를 하게 되면 그때는 어떤 방안을 고려해볼 수도 있습니다.\n",
      "\n",
      "Pred Summary: #Person1#: Let’s talk about payment terms first.\n",
      "#Person2#: You know we require an irrevocable letter of credit, right? It’s a payment method where payment is made once shipping documents are presented.\n",
      "#Person1#: I understand your position. An irrevocable letter of credit guarantees that the seller gets paid on time. But it also increases the cost of purchase. We’ve been trading for three years now, and you know us well. Can’t we do D/A or D/P?\n",
      "#Person2#: I’m sorry, but we’ve always insisted on being paid by L/C.\n",
      "#Person1#: But our government is reluctant to approve L/C payments for our imports. There are also licensing issues.\n",
      "#Person2#: I understand, but there’s nothing I can do about it right now. If we do more and bigger business in the future, we can consider some other options.\n",
      "\n",
      "Gold Summary: #Person1#은 #Person2#에게 D/A나 D/P로 결제해달라고 요청했으나, #Person2#는 L/C 결제를 고수하여 거래 조건을 변경하지 않았습니다.\n",
      "\n",
      "====================================================================================================\n",
      "Dialogue:\n",
      "#Person1#: 안녕하세요, 어떻게 도와드릴까요?\n",
      "#Person2#: 안녕하세요, 계좌를 개설하고 싶어요.\n",
      "#Person1#: 네, 어떤 계좌를 개설하시겠어요?\n",
      "#Person2#: 당좌예금 계좌를 만들고 싶어요.\n",
      "#Person1#: 바로 개설해 드리겠습니다.\n",
      "#Person2#: 당좌예금 계좌를 개설하려면 최소 예치금이 얼마죠?\n",
      "#Person1#: 10위안입니다. 얼마를 예치하시겠어요?\n",
      "#Person2#: 음, 여기 3,000위안이요.\n",
      "#Person1#: 여기에 이름, 주소, 예치금액을 적어주시고, 6자리 비밀번호를 설정한 후 확인해주세요.\n",
      "#Person2#: 네, 여기 있습니다.\n",
      "#Person1#: 감사합니다. 정보를 확인하시고 빈칸에 서명해 주세요.\n",
      "#Person2#: 다 했어요! 다음에 뭐 하면 되죠?\n",
      "#Person1#: 다 끝났습니다. 여기 은행카드와 예치증명서입니다. 입출금하실 때마다 은행카드를 가져오세요.\n",
      "#Person2#: 네, 고맙습니다. 안녕히 계세요!\n",
      "#Person1#: 안녕히 가세요!\n",
      "\n",
      "Pred Summary: Dialogue:\n",
      "#Person1#: Hello, how can I help you?\n",
      "#Person2#: Hello, I want to open an account.\n",
      "#Person1#: Yes, which account would you like to open?\n",
      "#Person2#: I want to open a checking account.\n",
      "#Person1#: I will open it for you right away.\n",
      "#Person2#: How much minimum deposit is required to open a checking account?\n",
      "#Person1#: 10 yuan. How much would you like to deposit?\n",
      "#Person2#: Hmm, here is 3,000 yuan.\n",
      "#Person1#: Please fill in your name, address, and deposit amount here, set a 6-digit password, and confirm.\n",
      "#Person2#: Yes, here it is.\n",
      "#Person1#: Thank you. Please check the information and sign where it is blank.\n",
      "#Person2#: All done! What do I do next?\n",
      "#Person1#: You are all done. Here is your bank card and deposit receipt. Please bring your bank card with you whenever you make a deposit or withdrawal.\n",
      "#Person2#: Yes, thank you. Goodbye!\n",
      "#Person1#: Goodbye!\n",
      "\n",
      "Gold Summary: #Person1#은 #Person2#의 당좌예금 계좌 개설을 지원하며, 3,000위안을 예치하고 비밀번호 설정 및 정보 확인을 안내합니다.\n",
      "\n",
      "====================================================================================================\n",
      "Dialogue:\n",
      "#Person1#: 그 영화에서 두 주연 배우의 연기 어떻게 생각해? \n",
      "#Person2#: 주인공 연기가 여주인공보다 좀 부족하다고 생각해. 너는 어때? \n",
      "#Person1#: 음, 나는 그렇게 생각 안 해. 주인공이 더 믿을 만하다고 봐.\n",
      "\n",
      "Pred Summary: #Person1#: What do you think about the two main actors' performances in that movie? \n",
      "#Person2#: I think the male lead's acting is a bit lacking compared to the female lead. What do you think? \n",
      "#Person1#: Hmm, I don't really agree with that. I think the male lead is more believable.\n",
      "\n",
      "Gold Summary: #Person2#는 주인공 연기가 여주인공보다 부족하다고 생각하지만, #Person1#은 주인공이 더 믿음이 간다고 본다.\n",
      "\n",
      "====================================================================================================\n",
      "Dialogue:\n",
      "#Person1#: 왜 여름을 산속 마을에서 보내고 싶어 해?\n",
      "#Person2#: 나는 산속 마을이 멋지다고 생각해!\n",
      "#Person1#: 나는 동의 못하겠어. 거긴 너무 작아서 살기 힘들어.\n",
      "#Person2#: 거긴 공기도 맑고 큰 도시보다 더 좋아.\n",
      "#Person1#: 난 반대야, 큰 도시는 더 활기차.\n",
      "#Person2#: 하지만 나는 작은 산속 마을이 좋아. 큰 도시는 시끄러워. 언덕을 걸으며 얼마나 매력적인지 알잖아!\n",
      "#Person1#: 그래, 너 말에는 동의하지만, 나는 여전히 큰 도시가 좋아.\n",
      "\n",
      "Pred Summary: #Person1#: Why do you want to spend the summer in a mountain village?\n",
      "#Person2#: I think mountain villages are great!\n",
      "#Person1#: I don't agree. It's too small to live in.\n",
      "#Person2#: It's cleaner and better than big cities.\n",
      "#Person1#: I disagree, big cities are more lively.\n",
      "#Person2#: But I like small mountain villages. Big cities are noisy. Don't you know how charming it is to walk up the hill!\n",
      "#Person1#: Yeah, I agree with you, but I still like big cities.\n",
      "\n",
      "Gold Summary: #Person2#는 여름을 산속 마을에서 보내는 것이 좋다고 생각하지만, #Person1#은 큰 도시를 선호한다.\n",
      "\n",
      "====================================================================================================\n",
      "Dialogue:\n",
      "#Person1#: 이제 어떡하지? 차를 이 도랑에서 뺄 수가 없어. 꼼짝없이 갇혔어!\n",
      "#Person2#: 걱정돼, Tom. 한 시간 동안 다른 차를 하나도 못 봤어.\n",
      "#Person1#: 알지. 정말 큰일이야. 우리가 뭘 할 수 있을까? 눈은 계속 내리는데!\n",
      "#Person2#: 오늘은 도시에 머물렀어야 한다고 했잖아. 일기예보에서 눈이 100% 온다 그랬어. 왜 여기까지 오고 싶었던 거야?\n",
      "#Person1#: 오두막을 보여주고 싶었어. 이제 반 시간만 더 가면 됐는데.\n",
      "#Person2#: 그랬더라면 좋았을 텐데. 이제 막혔으니 어떡하지?\n",
      "#Person1#: 모르겠어.\n",
      "#Person2#: 이런 상황이 일어나면, 에너지를 아끼는 게 중요하다고 들었어.\n",
      "#Person1#: 무슨 의미야?\n",
      "#Person2#: 우리 여기 발이 묶였어, Tom. 오래 있을지도 몰라. 차의 가스를 아껴야 해. 차의 에너지가 우리를 따뜻하게 해 줄 거야.\n",
      "#Person1#: 가스는 충분해.\n",
      "#Person2#: 맞아, 근데 가스랑 배터리 둘 다 남아 있어야 해. 차를 계속 돌리면 안 돼. 그러다 보면 곧 멈출 거야. 그럼 얼어붙게 돼.\n",
      "#Person1#: 그럼 어떻게 해야 해?\n",
      "#Person2#: 불을 끄고, 차랑 히터를 매 시간 15분 정도만 켜. 그럼 열을 최대한 아낄 수 있어.\n",
      "#Person1#: 그래, 좋은 생각이야.\n",
      "#Person2#: 여기 오지 않았으면 좋았을 텐데. 이제 며칠은 여기 있어야 할지도 몰라.\n",
      "#Person1#: 며칠이나?\n",
      "#Person2#: 응, 종종 그런 일이 있어. 큰 눈보라 때 사람들은 며칠 동안 갇히곤 해.\n",
      "#Person1#: 세상에! 음식이 있어서 다행이야.\n",
      "#Person2#: 아마도 우리는 살아남을 거야. 지금 차를 한 45분 동안 꺼놔. 그럼 다시 켜자.\n",
      "#Person1#: 알았어, 네 조언대로 할게.\n",
      "\n",
      "Pred Summary: Tom and Person2 are stuck in their car in a snowstorm. They are worried about running out of gas and getting stuck in the cold. Person2 suggests that they turn off the car and only use the heater for 15 minutes every hour to conserve energy. They hope to survive until help arrives.\n",
      "\n",
      "Gold Summary: Tom과 #Person2#의 차가 눈보라 속 도랑에 갇혔습니다. 처음에는 불안해하지만, #Person2#가 에너지를 아끼기 위해 불을 끄고 차와 히터를 가끔씩 켜자고 제안합니다. Tom은 #Person2#의 조언대로 하기로 합니다.\n",
      "\n",
      "====================================================================================================\n",
      "Dialogue:\n",
      "#Person1#: Philip, 너 상 받았다는 소식 듣고 정말 기뻤어. 축하해!\n",
      "#Person2#: 고마워, Denise. 사실 나도 정말 놀랐어. 대상자들이 정말 많았거든.\n",
      "#Person1#: 맞아. 그래도 네가 한 일은 정말 뛰어났어! 너는 당연히 받을 자격이 있어!\n",
      "#Person2#: 정말 고마워. 조만간 네 이름도 추천될 거라 기대해. 너도 좋은 일 많이 하고 있잖아!\n",
      "\n",
      "Pred Summary: Philip and Denise are talking about Philip winning an award. Denise congratulates him and Philip thanks her. Denise says that she is not surprised because Philip did a great job. Philip thanks her and says that he hopes Denise will also win an award soon because she does a lot of good work.\n",
      "\n",
      "Gold Summary: Denise는 Philip의 상 수상을 축하하고 그의 업적을 칭찬한다. Philip은 감사의 뜻을 전하며 곧 Denise도 추천될 것이라 기대한다.\n",
      "\n",
      "====================================================================================================\n",
      "Dialogue:\n",
      "#Person1#: Jenny, 즐거운 시간 보내고 있어요? \n",
      "#Person2#: 네, 물론이죠. 정말 흥미로운 사람들과 맛있는 음식이 있는 멋진 파티에요. \n",
      "#Person1#: 즐기고 있다니 기쁘네요. \n",
      "#Person2#: 초대해주셔서 감사해요. \n",
      "#Person1#: 제 기쁨입니다. 샴페인 한 잔 더 드릴까요? \n",
      "#Person2#: 네, 한 잔 더 마시고 싶어요. 정말 멋진 주인이세요. 모든 것에 감사해요. \n",
      "#Person1#: 당신이 여기 있어 기쁜걸요.\n",
      "\n",
      "Pred Summary: Jenny is having a good time at the party. She is enjoying the company and the food. She thanks the host for inviting her. The host offers her another glass of champagne. Jenny says she would love another glass. The host says he is glad she is there.\n",
      "\n",
      "Gold Summary: Jenny는 #Person1#의 파티를 즐기고 #Person1#에게 감사의 인사를 전했다.\n",
      "\n",
      "====================================================================================================\n",
      "Dialogue:\n",
      "#Person1#: 오, 린다. 네가 미국 유학 가는 거 진짜 신나겠네.\n",
      "#Person2#: 맞아. 나 미국 가는 거 항상 꿈꿔왔어. 새로운 사람들 만나고 친구 사귀는 거 너무 좋아하거든.\n",
      "#Person1#: 음, 잘 할 거야 분명.\n",
      "#Person2#: 근데, 한 가지 걱정이 있어.\n",
      "#Person1#: 무슨 일이야?\n",
      "#Person2#: 호스트 가정이 좀 걱정돼. 계약에 따르면 내가 가끔 음식을 해야 하거든.\n",
      "#Person1#: 응?\n",
      "#Person2#: 내 중국식 요리를 좋아하지 않을까 봐 걱정이 돼서.\n",
      "#Person1#: 아, 있잖아, 너 금방 배우게 될 거야. 분명히 호스트가 어떻게 준비해주길 원하는지 알려줄 거야.\n",
      "#Person2#: 오, 그러길 바라야지.\n",
      "\n",
      "Pred Summary: #Person1#: Oh, Linda. You must be so excited to go to the US for your studies.\n",
      "#Person2#: Yeah, I've always dreamed of going to the US. I love meeting new people and making friends.\n",
      "#Person1#: Hmm, you'll do great, I'm sure.\n",
      "#Person2#: But, I have one concern.\n",
      "#Person1#: What's that?\n",
      "#Person2#: I'm worried about my host family. According to the contract, I have to cook sometimes.\n",
      "#Person1#: Oh?\n",
      "#Person2#: I'm worried they won't like my Chinese food.\n",
      "#Person1#: Oh, you'll learn quickly. I'm sure your host will tell you how they like their food prepared.\n",
      "#Person2#: Oh, I hope so.\n",
      "\n",
      "Gold Summary: 린다는 미국 유학을 가게 되어 설레지만, 호스트 가족을 위해 요리하는 것에 대한 걱정이 있다. #Person1#은 린다에게 금방 잘 할 수 있을 것이라고 확신시킨다.\n",
      "\n",
      "====================================================================================================\n",
      "Dialogue:\n",
      "#Person1#: Dr. Miller 교수님의 수업을 들어보는 게 어떨지 얘기해 주실 수 있나요?\n",
      "#Person2#: 물론이죠. 그분 수업 들어본 적 있으세요?\n",
      "#Person1#: 다음 학기에 수업을 들어볼까 생각 중이에요.\n",
      "#Person2#: 그분은 아주 이해하기 쉬운 선생님이셨어요. 수업을 들을 계획이신가요?\n",
      "#Person1#: 뭔가 배우는 게 정말 필요한데, 성적이 걱정돼요.\n",
      "#Person2#: 성적도 중요하지만 배우는 것도 중요하지 않나요?\n",
      "#Person1#: 이걸 꼭 배워야겠어요.\n",
      "#Person2#: 그분 수업은 굉장히 재미있게 진행돼서 시간이 금방 가요. 무슨 말인지 아시겠죠?\n",
      "#Person1#: 네, 제게 맞을 것 같아요.\n",
      "#Person2#: 그분이 작년에 10년 동안 군대 복무를 마치셨는데, 알고 계세요?\n",
      "#Person1#: 네, 알고 있었어요. 그게 좋은 점일 수도 있겠네요.\n",
      "#Person2#: 당신에게 가장 잘 맞는 결정을 해야겠죠. 즐거운 학기 보내세요!\n",
      "\n",
      "Pred Summary: Person1 asks Person2 for advice on taking Dr. Miller's class. Person2 asks if Person1 has taken the class before and Person1 says they are considering taking it next semester. Person2 says Dr. Miller is an easy-to-understand teacher and asks if Person1 plans to take the class. Person1 says they need to learn something but are worried about their grade. Person2 says learning is important too. Person1 says they need to take the class. Person2 says the class is fun and goes by quickly. Person1 says it sounds like a good fit. Person2 says Dr. Miller just finished 10 years of military service and Person1 says they knew that and it might be a good thing. Person2 says Person1 should make the best decision for themselves and wishes them a good semester.\n",
      "\n",
      "Gold Summary: #Person1#은 Dr. Miller 교수님의 수업을 들을지 고민하고 있으며 성적을 걱정합니다. #Person2#는 Dr. Miller가 이해하기 쉽고 흥미로운 교수님이며, 배움도 중요하다고 조언합니다.\n",
      "\n",
      "====================================================================================================\n",
      "Dialogue:\n",
      "#Person1#: 영화를 사랑하는 여러분, 프리미어 무비 리뷰에 오신 것을 환영합니다. 저는 리처드 클라크입니다. 오늘은 매우 박식한 데이비드 왓슨과 함께합니다. \n",
      "#Person2#: 고마워, 딕. 오늘 우리는 영화 라이온 킹에 대해 이야기할 건데, 데이브, 이 영화에 대한 당신의 인상은 어떤가요? \n",
      "#Person1#: 음, 나는 이 영화가 인간의 영원한 권력 욕심을 그린 우화라고 생각해. 내 생각엔 아주 훌륭한 영화야. 다른 나라의 전통 동화를 표절했다는 비난에도 불구하고, 음악은 훌륭했고, 애니메이션은 훌륭히 만들어졌으며, 이야기는 정말 매력적이었어.\n",
      "#Person2#: 내 생각은 달라. 애니메이션 기술은 강력했고, 네가 말한 것처럼 엘튼 존의 음악도 대단했지만, 영화에는 독창성이 부족해서 감동적이지 않았어. 예측가능하다고까지 말할 수 있어.\n",
      "#Person1#: 예측 가능하다니! 어떻게 그런 말을! 딕, 이거 전체 관람가 영화야! 스릴러가 아니잖아!\n",
      "#Person2#: 바로 그게 문제야. 굉장히 극적이고 강렬한 장면들도 있었어. 예를 들어 무파사가 죽을 때나 스카의 어두운 면모 같은 것. 그래도 이야기가 단순해. 무파사가 죽고, 심바는 도망가고 사랑에 빠진 후 돌아와서 그가 마땅히 가져야 할 것을 되찾으려 해. 너무 흔해.\n",
      "#Person1#: 어떻게 그걸 흔하다고 할 수가 있어? 이건 우화야, 오랜 시간동안 전해져 내려온 이야기야! 영화는 권력에 대한 욕심이 부패를 초래한다는 걸 보여주고, 아이들에게 존중과 생명, 사랑의 가치를 가르쳐주지.\n",
      "#Person2#: 넌 항상 그렇게 따뜻하게 보더라, 데이브!\n",
      "#Person1#: 마음을 좀 열어, 딕. 우리를 방해하지 마.\n",
      "#Person2#: 어쨌든… 오늘은 여기까지입니다, 여러분! 다음 시간에는 '10일 안에 남자 버리는 방법'에 대해 이야기할 거예요. 데이브, 네가 그 영화도 좋아할 거라고 확신해!\n",
      "\n",
      "Pred Summary: This program converts Korean sentences to English.\n",
      "\n",
      "Dialogue:\n",
      "#Person1#: Welcome to Premiere Movie Review, movie lovers. I'm Richard Clark. Today, I'm joined by the very knowledgeable David Watson.\n",
      "#Person2#: Thanks, Dick. Today, we're going to talk about the movie The Lion King. Dave, what's your impression of this movie?\n",
      "#Person1#: Well, I think it's a fable about man's eternal desire for power. I think it's a great movie. Despite the accusation of plagiarism, the music was great, the animation was well done, and the story was really appealing.\n",
      "#Person2#: My opinion is different. The animation technology was powerful, and as you said, Elton John's music was great, but the movie lacked originality, so it wasn't very moving. It was predictable, even.\n",
      "#Person1#: Predictable! How can you say that! Dick, this is a G-rated movie! It's not a thriller!\n",
      "#Person2#: That's the problem. There were some very dramatic and intense scenes, like when Mufasa died or when Scar's dark side came out. But the story is simple. Mufasa dies, Simba runs away, falls in love, and comes back to get what's rightfully his. It's too cliché.\n",
      "#Person1#: How can you say that's cliché? This is a fable, a story that's been passed down for ages! The movie shows that the desire for power leads to corruption, and teaches children the values of respect, life, and love.\n",
      "#Person2#: You're always so warm-hearted, Dave!\n",
      "#Person1#: Open your heart, Dick. Don't be so cold.\n",
      "#Person2#: Anyway… that's all for today, folks! Next time, we'll talk about How to Lose a Guy in 10 Days. I'm sure you'll like that movie, Dave!\n",
      "\n",
      "Gold Summary: 리처드 클라크와 데이비드 왓슨이 영화 '라이온 킹'에 대해 논의합니다. 리처드는 애니메이션, 음악, 이야기의 매력을 강조하며 훌륭하다고 평가하지만, 데이비드는 독창성이 부족하고 예측 가능했다고 비판합니다.\n",
      "\n",
      "====================================================================================================\n",
      "Dialogue:\n",
      "#Person1#: 오늘 밤에 춤추러 가는 거 어때, Jane? 이 도시의 밤 문화가 정말 흥미로울 거야!\n",
      "#Person2#: 좋은 생각이야. 근처에 괜찮은 나이트클럽 있지 않아?\n",
      "#Person1#: 응, 거기 음악 스타일도 다양하고 괜찮아.\n",
      "#Person2#: (클럽에서) 저기 춤추는 사람들 좀 봐, 정말 열광적이야.\n",
      "#Person1#: 저건 빠른 템포의 록앤롤이야.\n",
      "#Person2#: 나는 느린 춤이 좋아. 룸바랑 왈츠는 잘 춰.\n",
      "#Person1#: 걱정 마. 느린 춤은 파티 중간쯤에 할 거야.\n",
      "#Person2#: 조용한 자리 찾아서 음료 마시자.\n",
      "#Person1#: 그래, 따라와.\n",
      "#Person2#: 저기, 왈츠잖아. 옛날 스타일의 우아한 스텝이 좋아.\n",
      "#Person1#: 나랑 춤출래?\n",
      "#Person2#: 물론이지.\n",
      "#Person1#: (둘이 춤출 때) 너 정말 우아하게 추는구나!\n",
      "\n",
      "Pred Summary: #Person1#: Let's go dancing tonight, Jane! The nightlife here is really exciting!\n",
      "#Person2#: That sounds like a good idea. Is there a good nightclub nearby?\n",
      "#Person1#: Yeah, it's got a variety of music styles and it's pretty cool.\n",
      "#Person2#: (At the club) Look at all those people dancing, they're really into it.\n",
      "#Person1#: That's fast-paced rock and roll.\n",
      "#Person2#: I prefer slow dancing. I'm good at the rumba and waltz.\n",
      "#Person1#: Don't worry, we'll do slow dancing later in the party.\n",
      "#Person2#: Let's find a quiet spot and get some drinks.\n",
      "#Person1#: Alright, follow me.\n",
      "#Person2#: Hey, it's a waltz. I love the old-fashioned graceful steps.\n",
      "#Person1#: Want to dance with me?\n",
      "#Person2#: Of course!\n",
      "#Person1#: (While dancing together) You really know how to dance gracefully!\n",
      "\n",
      "Gold Summary: #Person1#은 #Person2#에게 오늘 밤 춤추러 가자고 제안합니다. #Person2#은 느린 춤을 좋아해서 왈츠가 시작될 때까지 기다리며 나이트클럽에서 즐거운 시간을 보냅니다.\n",
      "\n",
      "====================================================================================================\n",
      "Dialogue:\n",
      "#Person1#: 여기서 이사 가자. 아파트가 너무 작아. \n",
      "#Person2#: 나도 동의해. 신문을 한번 볼게. \n",
      "#Person1#: 집이면 좋겠다. 정원을 가꿀 수도 있고, 너는 차고를 작업실로 쓸 수 있을 거야.\n",
      "#Person2#: 흥미로운 광고가 있어. \n",
      "#Person1#: 월세가 얼마야?\n",
      "#Person2#: 광고에는 월세가 325달러이고 보증금이 있다고 돼 있어.\n",
      "#Person1#: 언제 입주할 수 있어?\n",
      "#Person2#: 지금 바로 입주 가능하고, 위치도 아주 좋아. 직장도 멀지 않을 거야.\n",
      "\n",
      "Pred Summary: #Person1#: Let's move out of here. The apartment is too small. \n",
      "#Person2#: I agree. Let me look at the newspaper. \n",
      "#Person1#: A house would be nice. You could have a garden and you could use the garage as a workshop. \n",
      "#Person2#: There's an interesting ad. \n",
      "#Person1#: How much is the rent? \n",
      "#Person2#: The ad says the rent is $325 and there is a deposit. \n",
      "#Person1#: When can we move in? \n",
      "#Person2#: You can move in right away and the location is very good. Your work will not be far away.\n",
      "\n",
      "Gold Summary: #Person1#과 #Person2#는 이사를 계획하며, 신문에서 적당한 집을 찾습니다.\n",
      "\n",
      "====================================================================================================\n",
      "Dialogue:\n",
      "#Person1#: 안녕하세요, 유지보수 부서입니다.\n",
      "#Person2#: 안녕하세요. 에어컨에 문제가 있어서요.\n",
      "#Person1#: 어떤 에어컨인가요?\n",
      "#Person2#: 침실에 있는 거요.\n",
      "#Person1#: 어떤 문제가 있나요?\n",
      "#Person2#: 차가운 바람이 안 나와요.\n",
      "#Person1#: 방 번호 좀 알려주시겠어요?\n",
      "#Person2#: 512호요.\n",
      "#Person1#: 네, 점검하러 사람 보내드릴게요.\n",
      "#Person2#: 지금은 외출할 예정이에요. 그래도 괜찮으니까 제가 나간 후에 오셔도 돼요.\n",
      "#Person1#: 알겠습니다. 가정부가 문을 열고 수리공과 함께 방에 있을 겁니다.\n",
      "\n",
      "Pred Summary: #Person1#: Hello, maintenance department.\n",
      "#Person2#: Hello. I have a problem with the air conditioner.\n",
      "#Person1#: Which air conditioner is it?\n",
      "#Person2#: The one in the bedroom.\n",
      "#Person1#: What is the problem?\n",
      "#Person2#: No cold air is coming out.\n",
      "#Person1#: Can you tell me your room number?\n",
      "#Person2#: 512.\n",
      "#Person1#: Okay, I will send someone to check it out.\n",
      "#Person2#: I am going out now, but it's okay if you come after I leave.\n",
      "#Person1#: Okay. The housekeeper will open the door and be with the repairman in the room.\n",
      "\n",
      "Gold Summary: #Person2#가 에어컨 문제로 유지보수 부서에 연락을 했고, #Person1#은 수리공을 보내겠다고 하였습니다.\n",
      "\n",
      "====================================================================================================\n",
      "Dialogue:\n",
      "#Person1#: 저기 봐, Jim. 저 남자가 저기서 넘어졌어.\n",
      "#Person2#: 우리 가서 괜찮은지 봐야겠다.\n",
      "#Person1#: 아저씨... 아저씨? 괜찮으세요? 아저씨?\n",
      "#Person2#: 대답이 없네. 맥박하고 호흡을 확인하는 게 좋겠어.\n",
      "#Person1#: 어, 안 돼. 호흡이 없고 맥박도 없어. 911에 전화해.\n",
      "#Person2#: 여보세요? 네. 누군가가 #Address#에서 쓰러졌습니다. 그는 호흡이 없고 맥박도 잡히지 않습니다. 네, 제 친구가 CPR을 하고 있어요. 알겠습니다. 감사합니다. 앰뷸런스를 보내주신대요. 자, 내가 도와줄게.\n",
      "\n",
      "Pred Summary: This dialogue is about two people who see a man fall down and check if he is okay. They find out that he is not breathing and has no pulse, so they call 911 and start CPR.\n",
      "\n",
      "Gold Summary: #Person1#와 #Person2#는 한 남자가 넘어져 의식을 잃은 것을 발견하고, #Person1#은 CPR을 수행하며 #Person2#는 911에 전화합니다.\n",
      "\n",
      "====================================================================================================\n",
      "Dialogue:\n",
      "#Person1#: 저기요. 다음 런던행 기차가 몇 시에 출발하나요?\n",
      "#Person2#: 10시 30분이에요.\n",
      "#Person1#: 런던으로 가는 직행 기차인가요?\n",
      "#Person2#: 네, 맞아요.\n",
      "#Person1#: 알겠습니다. 런던행 티켓 두 장 주세요.\n",
      "#Person2#: 편도인가요, 왕복인가요?\n",
      "#Person1#: 편도로요. 총 얼마예요?\n",
      "#Person2#: 10파운드입니다.\n",
      "#Person1#: 여기 있습니다. 기차를 기다리려면 몇 번 플랫폼으로 가야 하나요?\n",
      "#Person2#: 5번 플랫폼이에요.\n",
      "#Person1#: 네, 감사합니다.\n",
      "#Person2#: 천만에요.\n",
      "\n",
      "Pred Summary: The person asks about the next London train, if it is a direct train, and buys two one-way tickets. They then ask which platform to wait at.\n",
      "\n",
      "Gold Summary: #Person1#이 #Person2#의 도움으로 런던행 기차표 두 장을 구매합니다.\n",
      "\n",
      "====================================================================================================\n",
      "Dialogue:\n",
      "#Person1#: 안녕하세요. 고객 서비스 센터입니다. 무엇을 도와드릴까요?\n",
      "#Person2#: 안녕하세요. 제가 스펜드-왓트에서 진공청소기를 샀는데, 지금 고장났어요.\n",
      "#Person1#: 보증 기간이 남아 있나요?\n",
      "#Person2#: 아마도요. 4개월 전에 샀거든요.\n",
      "#Person1#: 네, 아직 보증이 적용됩니다. 진공청소기 모델 번호를 알려주세요.\n",
      "#Person2#: 네, 모델 번호는 6594-c입니다.\n",
      "#Person1#: 주소, 이름, 전화번호를 알려주시겠어요?\n",
      "#Person2#: #Address#입니다. 제 이름은 David Yang이고 전화번호는 #PhoneNumber#에요.\n",
      "#Person1#: 네. 고객 서비스 센터가 두 곳 있는데, 가장 가까운 곳은 Chadwick and Hacks Appliances입니다.\n",
      "#Person2#: 그곳이 어디 있는지 알려주실래요?\n",
      "#Person1#: 물론이죠. #Address#이에요.\n",
      "#Person2#: 아, 그곳 아는 곳이네요. 차로 2분 거리밖에 안 돼요.\n",
      "#Person1#: 고객 서비스 센터에 먼저 전화하셔야 해요.\n",
      "#Person2#: 네, 알겠습니다. 도와주셔서 정말 감사합니다.\n",
      "#Person1#: 천만에요.\n",
      "\n",
      "Pred Summary: This dialogue is between a customer and a customer service representative. The customer has purchased a vacuum cleaner from Spend-What and it has broken. The customer service representative asks if the warranty is still valid and the customer says it is. The customer service representative asks for the model number, address, name, and phone number. The customer provides the information and the customer service representative tells the customer where the nearest customer service center is. The customer says they know where it is and thanks the customer service representative. The customer service representative says you're welcome.\n",
      "\n",
      "Gold Summary: #Person2#는 고장난 진공청소기에 대해 고객 서비스 센터에 문의합니다. #Person1#은 보증 여부를 확인하고 필요한 정보를 수집한 후 가장 가까운 서비스 센터의 위치를 안내합니다.\n",
      "\n",
      "====================================================================================================\n",
      "Dialogue:\n",
      "#Person1#: Phoebe 씨, 우리 물품 배송 관련해서 이야기해보죠.\n",
      "#Person2#: 좋아요. 배송 날짜는 언제인가요?\n",
      "#Person1#: 우리 회사에 알렸더니 이번 달 말까지 첫 오천 개 보내준다고 하더군요.\n",
      "#Person2#: 나머지 주문 물량은요? 그것도 우리 회사에 빨리 도착할 수 있을까요?\n",
      "#Person1#: 나머지는 이미 말씀드린 가격으로 10일 안에 배송할 수 있습니다.\n",
      "#Person2#: 좀 더 빨리 배송할 수는 없나요?\n",
      "#Person1#: 그건 어려울 것 같아요. 우리가 논의한 조건으로 연간 계약을 체결하실 생각 있으신가요?\n",
      "#Person2#: 가능하긴 한데, 품질과 배송 보장이 된다면요.\n",
      "#Person1#: 물론이죠. 그렇게 된다면, 다음 12개월 동안 확정된 월 주문에 대해 5% 할인을 제안할 수 있습니다.\n",
      "#Person2#: 좀 더 파격적인 제안을 기대했어요. 아시다시피, 우리는 오랜 기간 협력해왔잖아요.\n",
      "#Person1#: 지금 드린 제안이 최대치입니다. 이미 한계까지 맞춘 거라서요.\n",
      "#Person2#: 그럼, 그렇게 하기로 하고 계약 세부 사항을 작성해볼까요.\n",
      "\n",
      "Pred Summary: Phoebe 씨는 물품 배송에 대해 이야기하자고 합니다. 배송 날짜는 언제인지, 나머지 주문 물량은 언제 도착하는지, 더 빨리 배송할 수 있는지, 연간 계약 체결에 대해 묻습니다. #Person1#은 10일 안에 나머지 물량을 배송할 수 있다고 합니다. #Person2#는 더 빨리 배송할 수 있는지 묻습니다. #Person1#은 불가능하다고 합니다. #Person2#는 품질과 배송 보장이 된다면 연간 계약을 체결할 수 있다고 합니다. #Person1#은 5% 할인을 제안합니다. #Person2#는 더 파격적인 제안을 기대했다고 합니다. #Person1#은 이미 한계까지 맞춘 것이라고 합니다. #Person2#는 그렇게 하기로 하고 계약 세부 사항을 작성하자고 합니다.\n",
      "\n",
      "Gold Summary: #Person1#과 Phoebe 씨는 물품 배송 일정에 대해 논의하며, #Person1#은 월간 주문에 대해 5% 할인을 제안합니다. 그들은 오랜 협력 관계를 바탕으로 최종적으로 합의합니다.\n",
      "\n",
      "====================================================================================================\n",
      "Dialogue:\n",
      "#Person1#: 안녕하세요, 예약 데스크입니다. 무엇을 도와드릴까요?\n",
      "#Person2#: 네, 듀플렉스 스위트를 예약하고 싶습니다.\n",
      "#Person1#: 어떤 날에 스위트를 예약하시겠습니까?\n",
      "#Person2#: 다음 주 금요일이요.\n",
      "#Person1#: 죄송합니다, 고객님. 다음 주 금요일은 예약이 이미 꽉 차서 예약을 받을 수 없습니다. 다른 호텔을 추천드려도 될까요?\n",
      "#Person2#: 아, 네. 정말 고맙습니다.\n",
      "#Person1#: 잠시만 기다려 주세요. 그날 듀플렉스 스위트가 이용 가능한 호텔을 찾아보겠습니다. (잠시 후) 고객님, 홀리데이 인에 원하시는 방이 있습니다.\n",
      "#Person2#: 어떻게 연락하면 되나요?\n",
      "#Person1#: 전화번호를 드리겠습니다. #PhoneNumber#입니다.\n",
      "\n",
      "Pred Summary: This program converts all the Korean sentences that are inputted into English.\n",
      "\n",
      "Dialogue:\n",
      "#Person1#: Hello, this is the reservation desk. How may I help you?\n",
      "#Person2#: Yes, I would like to reserve a duplex suite.\n",
      "#Person1#: What day would you like to reserve the suite?\n",
      "#Person2#: Next Friday.\n",
      "#Person1#: I’m sorry, sir. We are fully booked for next Friday and cannot take any more reservations. Would you like me to recommend another hotel?\n",
      "#Person2#: Oh, yes. Thank you very much.\n",
      "#Person1#: Please wait a moment. I will find a hotel with a duplex suite available for that day. (After a while) Sir, there is a room available at the Holiday Inn.\n",
      "#Person2#: How can I contact them?\n",
      "#Person1#: I will give you the phone number. It is #PhoneNumber#.\n",
      "\n",
      "Gold Summary: #Person2#가 듀플렉스 스위트를 예약하려고 하지만 #Person1#의 호텔은 예약이 불가능합니다. #Person1#은 홀리데이 인에 방이 있다고 찾아내고 전화번호를 제공합니다.\n",
      "\n",
      "====================================================================================================\n",
      "Dialogue:\n",
      "#Person1#: 그러니까 우리가 해야 할 일은 제시간에 끝내는 거야. \n",
      "#Person2#: 미안해요, 톰. 방금 말씀하신 부분 다시 말씀해 주시겠어요? 우리가 그 부분을 못 들었어요. \n",
      "#Person1#: 아, 알겠어요. 제가 말한 건 제시간에 끝내야 한다는 거예요. \n",
      "#Person2#: 미안해요, 톰. 저희 쪽에서 듣기 어렵네요. 좀 많이 끊기는데요. 저희 말 들리세요? \n",
      "#Person1#: 여보세요? \n",
      "#Person2#: 여보세요? \n",
      "#Person1#: 제 말 들리세요? 아마도 잘 안 들리겠죠. 여보세요? 저희 말 안 들리시나 봐요. \n",
      "#Person2#: 톰, 제 말 들리시면요, 연결이 끊어진 것 같네요. 문제가 있는 것 같아요. 다시 시도해볼게요. 저희가 전화하겠습니다. \n",
      "#Person1#: 네, 알겠습니다. 기다리고 있을게요.\n",
      "\n",
      "Pred Summary: The dialogue is about a conversation between two people, #Person1# and #Person2#. #Person1# is trying to communicate something to #Person2#, but #Person2# is having trouble understanding what #Person1# is saying. #Person1# is frustrated and asks if #Person2# can hear them. #Person2# apologizes and says that the connection is bad and they will try again. #Person1# agrees to wait and #Person2# says they will call back.\n",
      "\n",
      "Gold Summary: Tom은 #Person2#에게 일정 내에 업무를 완료하라고 지시하지만, 전화 연결 문제로 소통에 어려움을 겪습니다.\n",
      "\n",
      "====================================================================================================\n",
      "Dialogue:\n",
      "#Person1#: 안녕하세요! \n",
      "#Person2#: 안녕하세요, Lucy. 저 John이에요. 부탁 좀 들어줄 수 있어요? 제 아내에게 전화를 여섯 번이나 했는데 계속 통화 중이에요. 옆집에 가서 전해줄 수 있을까요? \n",
      "#Person1#: 물론이죠! Mary에게 뭐라고 전해드릴까요? \n",
      "#Person2#: 제가 오래된 친구를 만나서 그와 함께 있다는 말 좀 해주세요. 지금 사무실에 없고 나중에 전화 걸겠다고 전해주세요. \n",
      "#Person1#: 알겠어요, 지금 바로 갈게요. \n",
      "#Person2#: 정말 고마워요, Lucy.\n",
      "\n",
      "Pred Summary: John은 Lucy에게 Mary에게 전화해서 그가 옆집에 있는 오래된 친구를 만나고 있다고 전해달라고 부탁한다. Lucy는 John의 부탁을 들어주겠다고 한다.\n",
      "\n",
      "Gold Summary: #Person2#는 전화 연결이 안 되어 Lucy에게 아내에게 메시지를 전해달라고 요청합니다.\n",
      "\n",
      "====================================================================================================\n",
      "Dialogue:\n",
      "#Person1#: 안녕하세요, 저는 Jack이에요.\n",
      "#Person2#: 안녕하세요. 자, 여기입니다. 보시다시피 풀 옵션으로 되어 있구요. TV도 있고, 케이블 TV와 광대역 인터넷은 임대료에 포함되어 있어요. 작은 주방은 저쪽에 있고, 새로 산 냉장고와 가스레인지, 주전자, 토스터, 전자레인지가 있습니다. 생활에 필요한 것들은 다 갖춰져 있어요. 화장실은 저쪽에 있고, 샤워 부스랑 세면대도 모두 B&Q에서 새로 산 것들이에요. 창문으로는 공원이 잘 보입니다.\n",
      "#Person1#: 음... 생각보다 작네요. 임대료가 얼마라고 하셨죠?\n",
      "#Person2#: 주당 250이고, 물론 가스, 물, 전기 요금은 별도로 부담하셔야 합니다.\n",
      "#Person1#: 광고에는 200이라고 나와 있었는데요.\n",
      "#Person2#: 네, 그건 위층 작은 방 가격이었고, 이미 나갔습니다.\n",
      "#Person1#: 250은 저한테 좀 비싸네요.\n",
      "#Person2#: 여기는 런던이에요. 그리고 이건 당신만의 공간이잖아요. 위치도 좋고, 지하철역도 가깝습니다.\n",
      "#Person1#: 주당 200까지는 가능하겠는데, 다른 요금까지는 감당할 수 없어요.\n",
      "#Person2#: 알겠어요. 한 달치 임대료는 선불로, 보증금은 한 달치입니다. 총 400 현금입니다. 여기가 계약서니까, 읽어보시고 각 페이지에 서명해주세요.\n",
      "#Person1#: 네.\n",
      "\n",
      "Pred Summary: Person1: Hello, I'm Jack.\n",
      "Person2: Hello. Here you go. As you can see, it's fully furnished. There's a TV, and cable TV and broadband internet are included in the rent. The small kitchen is over there, and it's got a brand new fridge, stove, kettle, toaster, and microwave. Everything you need for living is here. The bathroom is over there, and the shower cubicle and sink are all new from B&Q. You can see the park from the window.\n",
      "Person1: Hmm... It's smaller than I thought. What did you say the rent was?\n",
      "Person2: It's £250 a week, and of course, you'll have to pay for gas, water, and electricity separately.\n",
      "Person1: I thought it was £200 in the ad.\n",
      "Person2: Yes, that was for the small room upstairs, and it's already gone.\n",
      "Person1: £250 is a bit too much for me.\n",
      "Person2: This is London, and this is your own space. The location is good, and the underground station is close.\n",
      "Person1: I can do £200 a week, but I can't afford any more than that.\n",
      "Person2: Okay. The rent for one month is payable in advance, and the deposit is one month's rent. A total of £400 cash. Here's the contract, so please read it and sign each page.\n",
      "Person1: Yes.\n",
      "\n",
      "Gold Summary: Jack은 런던의 집을 임대하려 하지만, 임대료와 추가 요금 때문에 주당 250은 부담스럽다고 느낍니다. 결국 주방, 화장실 등 다양한 옵션이 포함된 이 집을 주당 200에 타협하기로 합니다.\n",
      "\n",
      "====================================================================================================\n",
      "Dialogue:\n",
      "#Person1#: 요즘 어머님께서는 어떻게 지내세요?\n",
      "#Person2#: 많이 좋아지셨어요, 고마워요. 며칠 있으면 집으로 돌아오실 거예요.\n",
      "#Person1#: 정말 다행이네요. 언제 일터로 돌아갈 계획이에요?\n",
      "#Person2#: 어머님 돌봐드리고 집 청소도 좀 하려면 일주일 정도 필요한 것 같아요.\n",
      "#Person1#: 누군가를 고용해서 대신 하게 하면 어때요? 그러면 일도 하면서 시간도 더 여유롭게 쓸 수 있잖아요.\n",
      "#Person2#: 네, 알고 있어요. 그런데 어머니가 많이 걱정돼요. 나이가 72세셨어요.\n",
      "#Person1#: 정말 배려심 깊고 친절하시네요. 많이 존경해요.\n",
      "#Person2#: 그저 평범한 아들일 뿐이에요.\n",
      "\n",
      "Pred Summary: #Person1#: How is your mother doing these days?\n",
      "#Person2#: She is doing much better, thank you. She will be returning home in a few days.\n",
      "#Person1#: That's great. When do you plan to go back to work?\n",
      "#Person2#: I think I need about a week to take care of her and clean the house.\n",
      "#Person1#: Why don't you hire someone to do it for you? That way you can work and have more free time.\n",
      "#Person2#: Yes, I know. But I'm worried about her. She is 72 years old.\n",
      "#Person1#: You are so considerate and kind. I really admire you.\n",
      "#Person2#: I'm just an ordinary son.\n",
      "\n",
      "Gold Summary: #Person2#는 어머니가 많이 좋아졌으며, 어머니를 돌봐줄 사람을 고용하는 것을 거부합니다. #Person1#은 그의 친절함과 배려심을 존경합니다.\n",
      "\n",
      "====================================================================================================\n",
      "Dialogue:\n",
      "#Person1#: 아, 이런! 7시에 그녀를 만나기로 했는데. 지금 몇 시야?\n",
      "#Person2#: 6시 30분이야.\n",
      "#Person1#: 나 준비해야겠다.\n",
      "#Person2#: 어디 가는데?\n",
      "#Person1#: 아직 결정 못 했어. 아마도 식당에 가거나, 영화부터 볼지도 몰라.\n",
      "#Person2#: 고전 영화제에서 <시민 케인> 보는 건 어때? 정말 좋다고 하더라고.\n",
      "#Person1#: 아, 우리 그렇게 할까. <싸이코>도 상영 중이야. 그것도 좋다고 들었어.\n",
      "#Person2#: 피 많이 나오는 공포 영화 좋아하면 좋겠지만. 나는 별로야. 이제 가 봐야겠다. 내일 수영하러 갈래?\n",
      "#Person1#: 좋지, 근데 스튜디오에 가서 일해야 할지도 몰라. 아침 일찍 알려줘도 될까?\n",
      "#Person2#: 물론이지. 괜찮아.\n",
      "#Person1#: 아, 전화 왔다. Tracy일 거야.\n",
      "#Person2#: 그럼 난 가볼게. 오늘 밤 잘 보내.\n",
      "#Person1#: 고마워. 내일 얘기하자.\n",
      "\n",
      "Pred Summary: Person1 is getting ready to meet Tracy at 7pm. Person2 suggests going to the classic film festival to see Citizen Kane or Psycho. Person1 is unsure if they will be able to go because they might have to work at the studio. Person2 offers to call Person1 in the morning to see if they can go swimming. Person1 receives a call from Tracy and Person2 leaves.\n",
      "\n",
      "Gold Summary: #Person1#이 데이트를 앞두고 장소를 정하지 않았습니다. #Person2#는 <시민 케인> 관람을 제안합니다. 두 사람은 다음 날 수영을 하기로 합니다.\n",
      "\n",
      "====================================================================================================\n",
      "Dialogue:\n",
      "#Person1#: 아기가 밤에 자주 깰 것 같아요.\n",
      "#Person2#: 엄마가 이사 오신 이후로 아기가 밤에 더 오래 자서 좋아요. 그런데 엄마로서 생각이 많아서 제가 잠이 잘 안 와요.\n",
      "\n",
      "Pred Summary: #Person1#: 아기가 밤에 자주 깰 것 같아요.\n",
      "#Person2#: 엄마가 이사 오신 이후로 아기가 밤에 더 오래 자서 좋아요. 그런데 엄마로서 생각이 많아서 제가 잠이 잘 안 와요.\n",
      "\n",
      "Gold Summary: #Person2#는 어머니가 이사 오신 후 아기가 밤에 더 잘 자게 되었지만, 본인은 생각이 많아 잠을 잘 못 잔다고 말했습니다.\n",
      "\n",
      "====================================================================================================\n",
      "Dialogue:\n",
      "#Person1#: 뭐 찾고 있어요?\n",
      "#Person2#: 19세기 유럽 그림 모음집을 찾고 있어요.\n",
      "#Person1#: 왼쪽에 있는 노란색 표지의 책 맞나요?\n",
      "#Person2#: 잠깐만요. 아, 맞아요. 이게 제가 원하던 거예요. 정말 고마워요.\n",
      "\n",
      "Pred Summary: #Person1#: What are you looking for?\n",
      "#Person2#: I'm looking for a collection of 19th century European paintings.\n",
      "#Person1#: Is it the book with the yellow cover on the left?\n",
      "#Person2#: Just a moment. Oh, yes, this is what I was looking for. Thank you so much.\n",
      "\n",
      "Gold Summary: #Person1#은 #Person2#가 19세기 유럽 그림 모음집을 찾는 것을 도와줍니다.\n",
      "\n",
      "====================================================================================================\n",
      "Dialogue:\n",
      "#Person1#: Bob, 너도 간접흡연에 대해 알고 있지?\n",
      "#Person2#: 물론, 알고 있어.\n",
      "#Person1#: 근데 3차 흡연에 대해 들어본 적 있어?\n",
      "#Person2#: 3차 흡연? 그건 처음 들어보네. 그게 뭐야?\n",
      "#Person1#: 오늘 신문에 나왔어. 부모님들이 집 밖에서 담배를 피우거나 아이들이 없을 때만 피우면 아이들을 간접흡연에서 보호한다고 생각할 수도 있어. 하지만 연구자들이 3차 흡연이라고 부르는 것에 대해 경고하고 있더라고. 담배를 피우면 유해 물질이 머리카락이나 옷에 남잖아. 아기들이 가장 약하니까, 아기에게 가까이 가면 그걸 전해주게 되고, 아기의 질병 위험이 높아질 수 있다는 거야.\n",
      "#Person2#: 그렇구나? 그렇다면 아기에게 정말 가까이 가면 안 되겠네.\n",
      "#Person1#: 맞아. 사실 모든 흡연 부모들이 그렇게 해야 하고, 차라리 담배를 끊는 게 낫지.\n",
      "\n",
      "Pred Summary: Bob, you know about passive smoking, don’t you?\n",
      "Of course, I do.\n",
      "But have you heard of third-hand smoking?\n",
      "Third-hand smoking? I’ve never heard of that. What is it?\n",
      "It was in the paper today. Parents might think they’re protecting their kids from passive smoking if they smoke outside or only smoke when the kids aren’t around. But researchers are warning about something they call third-hand smoking. When you smoke, harmful substances stick to your hair or clothes. Babies are the most vulnerable, so if you get close to them, you can pass them on, and it can increase the risk of disease in babies.\n",
      "Oh, I see. So I shouldn’t get too close to the baby.\n",
      "That’s right. In fact, all smoking parents should do that, or better still, quit smoking.\n",
      "\n",
      "Gold Summary: #Person1#은 Bob에게 3차 흡연의 위험성을 설명하며, 흡연 부모는 아기에게 가까이 가지 말아야 하거나 담배를 끊는 것이 좋다고 말한다.\n",
      "\n",
      "====================================================================================================\n",
      "Dialogue:\n",
      "#Person1#: 뭐해? \n",
      "#Person2#: 아, 자판기에 1달러를 넣었는데, 75센트짜리 초콜릿바가 걸렸어. 거스름돈 버튼을 눌렀는데 아무 반응이 없어. 아직 25센트도 못 받았어. \n",
      "#Person1#: 스낵바 운영하는 사람한테 환불 받을 수 있는지 물어봤어? \n",
      "#Person2#: 어, 물어봤는데 그 사람이 자기는 기계 주인이 아니라고, 자판기에 적힌 전화번호로 전화하래. \n",
      "#Person1#: 진짜 짜증나겠다. \n",
      "#Person2#: 좋은 생각이 있어. 자판기를 흔들어서 초콜릿바를 떨어뜨리자. \n",
      "#Person1#: 난 그거 부수고 싶진 않아. 누가 경찰 부를지도 모르잖아. \n",
      "#Person2#: 걱정 마. 나 전에도 이렇게 해봤어. 오늘은 운이 없네. 여기, 초콜릿바 줄게. \n",
      "#Person1#: 진짜로? \n",
      "#Person2#: 응, 아침에 자판기 잘 작동했었거든.\n",
      "\n",
      "Pred Summary: Person2 is talking about a vending machine that took their money but didn't give them their change. Person1 suggests asking the person who runs the snack bar for a refund, but Person2 says the person said they don't own the machine and to call the number on the machine. Person2 suggests shaking the machine to get the candy bar to fall out, but Person1 is worried about getting in trouble. Person2 says they've done it before and offers to give Person1 the candy bar.\n",
      "\n",
      "Gold Summary: #Person2#는 #Person1#에게 자판기에 1달러를 넣었지만 초콜릿바가 걸린 후 기계를 흔들면서 초콜릿바를 받았던 경험을 이야기합니다.\n",
      "\n",
      "====================================================================================================\n",
      "Dialogue:\n",
      "#Person1#: 저는 이 지점의 매니저, Paul Adams입니다. 만나서 반가워요. \n",
      "#Person2#: 저는 Katie Thomas예요. 만나서 반가워요. \n",
      "#Person1#: 임시 사무직을 찾고 있다고 하셨나요? \n",
      "#Person2#: 네, 맞아요. \n",
      "#Person1#: Katie, 나이가 어떻게 되시죠? \n",
      "#Person2#: 열여덟 살이에요. \n",
      "#Person1#: 꽤 젊으시네요. 어떤 경험이 있으신가요? \n",
      "#Person2#: 음, 사실 저는 막 학교를 졸업했어요. 대학에 가기 전에 잠시 일하려고 해요. \n",
      "#Person1#: Katie, 저희가 도와드리기 어려울 것 같아요. 저희 고객들은 특히 새로운 사무 기술에 대해 매우 까다롭거든요. \n",
      "#Person2#: 아, 그건 괜찮아요. 학교에서 사무 기술 관련 수업을 들었거든요. \n",
      "#Person1#: 그동안 무엇을 배우셨는지 말씀해 주실래요? \n",
      "#Person2#: 처음에는 타자 기술을 배웠고, 그다음에는 워드 프로세싱을 배웠어요. \n",
      "#Person1#: 좋네요. 기술적인 관점에서는 자격이 충분해 보이네요.\n",
      "\n",
      "Pred Summary: #Person1#: I'm Paul Adams, the manager of this branch. Nice to meet you. \n",
      "#Person2#: I'm Katie Thomas. Nice to meet you too. \n",
      "#Person1#: Are you looking for temporary office work? \n",
      "#Person2#: Yes, I am. \n",
      "#Person1#: Katie, how old are you? \n",
      "#Person2#: I'm eighteen. \n",
      "#Person1#: You're quite young. What kind of experience do you have? \n",
      "#Person2#: Well, I just graduated from school. I'm looking for a job before I go to college. \n",
      "#Person1#: Katie, I'm afraid we won't be able to help you. Our customers are very particular about new office technology. \n",
      "#Person2#: Oh, that's okay. I took office technology classes in school. \n",
      "#Person1#: Can you tell me what you learned? \n",
      "#Person2#: I learned typing first, and then word processing. \n",
      "#Person1#: That's good. From a technical point of view, you seem to be qualified.\n",
      "\n",
      "Gold Summary: Paul Adams는 임시 사무직을 찾고 있는 Katie Thomas와의 인터뷰에서 그녀가 타자 기술과 워드 프로세싱을 배워 기술적으로 자격이 있다고 판단합니다.\n",
      "\n",
      "====================================================================================================\n",
      "Dialogue:\n",
      "#Person1#: 왜 선생님이 마이라를 반 전체 앞에서 비판하셨어? \n",
      "#Person2#: 마이라가 시험에서 부정행위를 했고, 선생님한테 무례하게 말대꾸했거든. \n",
      "#Person1#: 마이라가 그렇게 선생님한테 무례하게 말하는 건 안 되는 거 같아. 화가 났을 순 있지만, 그게 무례한 행동의 변명이 될 순 없어.\n",
      "\n",
      "Pred Summary: #Person1#: Why did the teacher criticize Maira in front of the whole class? \n",
      "#Person2#: Maira cheated on the test and was rude to the teacher. \n",
      "#Person1#: I don't think it's okay for Maira to be rude to the teacher like that. She might be angry, but that doesn't excuse her from being rude.\n",
      "\n",
      "Gold Summary: 마이라는 시험 부정행위로 인해 선생님에게 비판받았고, 무례하게 말대꾸했다.\n",
      "\n",
      "====================================================================================================\n",
      "Dialogue:\n",
      "#Person1#: 주문하시겠어요?\n",
      "#Person2#: 네, 정식으로 할게요. 코스는 어떻게 되나요?\n",
      "#Person1#: 정식 코스는 전채로 생선 샐러드가 나오고, 메인 요리는 스테이크, 디저트로는 초콜릿 케이크가 나옵니다.\n",
      "#Person2#: 알겠습니다, 그렇게 할게요.\n",
      "#Person1#: 오늘 양고기 챱도 아주 좋습니다. 메인 요리로 드시겠어요?\n",
      "#Person2#: 그거 좋은 생각이네요. 디저트는 사과 파이로 할게요. 식사 후에는 커피도 주세요.\n",
      "#Person1#: 좋습니다. 여기 전채 나왔습니다. 저녁은 5분 안에 준비됩니다.\n",
      "\n",
      "Pred Summary: #Person1#: Would you like to order?\n",
      "#Person2#: Yes, I'd like to order the full course. What does the full course include?\n",
      "#Person1#: The full course includes a salad as an appetizer, steak as the main dish, and chocolate cake as dessert.\n",
      "#Person2#: Okay, I'll have that.\n",
      "#Person1#: Lamb chops are also very good today. Would you like that as your main dish?\n",
      "#Person2#: That sounds good. For dessert, I'll have apple pie. And I'd like coffee after dinner.\n",
      "#Person1#: Okay. Here's your appetizer. Your dinner will be ready in 5 minutes.\n",
      "\n",
      "Gold Summary: #Person1#의 추천에 따라 #Person2#는 정식 대신 양고기 챱, 사과 파이, 커피를 주문했습니다.\n",
      "\n",
      "====================================================================================================\n",
      "Dialogue:\n",
      "#Person1#: 오늘 특별 메뉴 뭐예요?\n",
      "#Person2#: 저녁 무제한 특별 메뉴가 있어요.\n",
      "#Person1#: 그건 별로 안 끌리네요.\n",
      "#Person2#: 해산물 좋아하세요?\n",
      "#Person1#: 네, 해산물 정말 좋아해요.\n",
      "#Person2#: 어떤 해산물 선호하세요?\n",
      "#Person1#: 홍소 해삼 먹고 싶어요.\n",
      "#Person2#: 다른 건 필요 없으세요?\n",
      "#Person1#: 모둠 냉채도 주세요.\n",
      "#Person2#: 음료도 필요 없으세요?\n",
      "#Person1#: 아니요, 괜찮아요.\n",
      "#Person2#: 뭐 마시실래요?\n",
      "#Person1#: 샴페인 한 병 주세요.\n",
      "\n",
      "Pred Summary: #Person1#: What's the special today?\n",
      "#Person2#: We have an all-you-can-eat special.\n",
      "#Person1#: That doesn't sound very appealing.\n",
      "#Person2#: Do you like seafood?\n",
      "#Person1#: Yes, I love seafood.\n",
      "#Person2#: What kind of seafood do you prefer?\n",
      "#Person1#: I'd like to have some abalone.\n",
      "#Person2#: Do you need anything else?\n",
      "#Person1#: Also, give me a plate of mixed cold dishes.\n",
      "#Person2#: Do you need any drinks?\n",
      "#Person1#: No, I'm fine.\n",
      "#Person2#: What would you like to drink?\n",
      "#Person1#: Give me a bottle of champagne.\n",
      "\n",
      "Gold Summary: #Person1#은 #Person2#의 도움으로 해산물과 냉채, 샴페인을 주문했습니다.\n",
      "\n",
      "====================================================================================================\n",
      "Dialogue:\n",
      "#Person1#: 안녕하세요, 택시 기사님. 금융가로 가주세요.\n",
      "#Person2#: 금융가로 가신다고요?\n",
      "#Person1#: 네, 거기로 가고 싶습니다.\n",
      "#Person2#: 알겠습니다. 타세요.\n",
      "#Person1#: 죄송하지만, 거기까지 얼마나 걸리나요?\n",
      "#Person2#: 보통 30분 정도 걸려요.\n",
      "#Person1#: 아, 꽤 멀군요.\n",
      "#Person2#: 네, 이 시간대에는 교통 때문에 더 걸릴 수도 있어요. 급하신가요?\n",
      "#Person1#: 아니요, 천천히 안전하게 가주세요.\n",
      "#Person2#: 알겠습니다.\n",
      "#Person1#: 운전 정말 잘하시네요.\n",
      "#Person2#: 감사합니다.\n",
      "#Person1#: 그런데 요금은 거리마다 같은가요?\n",
      "#Person2#: 아니요, 거리에 따라 달라요. 미터기로 확인하실 수 있습니다.\n",
      "#Person1#: 아, 그렇군요.\n",
      "\n",
      "Pred Summary: #Person1#: Hello, taxi driver. Please take me to the financial district.\n",
      "#Person2#: To the financial district?\n",
      "#Person1#: Yes, I want to go there.\n",
      "#Person2#: Okay. Get in.\n",
      "#Person1#: Excuse me, but how long will it take to get there?\n",
      "#Person2#: It usually takes about 30 minutes.\n",
      "#Person1#: Oh, it's quite far.\n",
      "#Person2#: Yes, it might take longer during rush hour because of traffic. Are you in a hurry?\n",
      "#Person1#: No, please drive safely and slowly.\n",
      "#Person2#: Okay.\n",
      "#Person1#: You drive really well.\n",
      "#Person2#: Thank you.\n",
      "#Person1#: But is the fare the same for every distance?\n",
      "#Person2#: No, it depends on the distance. You can check it on the meter.\n",
      "#Person1#: Oh, I see.\n",
      "\n",
      "Gold Summary: #Person1#은 금융가로 가기 위해 택시에 탑니다. #Person2#는 금융가까지 가는 데 시간이 걸릴 수 있고, 요금은 거리마다 다르다고 설명합니다.\n",
      "\n",
      "====================================================================================================\n",
      "Dialogue:\n",
      "#Person1#: 내일까지 12페이지부터 20페이지까지 읽고, 21페이지에 있는 연습 문제 1번부터 10번까지 해 오세요.\n",
      "#Person2#: 숙제는 타이핑해야 하나요?\n",
      "#Person1#: 아니요. 리포트를 쓸 때만 그렇게 하시면 돼요.\n",
      "#Person2#: 다른 건 없나요?\n",
      "#Person1#: 계산기가 없는 사람은 하나 준비하세요.\n",
      "#Person2#: 수업 중에 계산기를 써도 되나요?\n",
      "#Person1#: 네. 그리고 오늘 배운 내용도 저녁에 복습하세요. 내일 작은 퀴즈가 있을지도 몰라요.\n",
      "\n",
      "Pred Summary: #Person1#: Read pages 12 to 20 and do exercises 1 to 10 on page 21 by tomorrow.\n",
      "#Person2#: Do we have to type the homework?\n",
      "#Person1#: No. You only type when you write a report.\n",
      "#Person2#: Is there anything else?\n",
      "#Person1#: If you don’t have a calculator, bring one.\n",
      "#Person2#: Can we use a calculator during class?\n",
      "#Person1#: Yes. And review what we learned today tonight. There might be a small quiz tomorrow.\n",
      "\n",
      "Gold Summary: #Person1#이 #Person2#에게 숙제를 주고, 계산기를 준비하며 오늘 학습한 내용을 복습하도록 안내합니다.\n",
      "\n",
      "====================================================================================================\n",
      "Dialogue:\n",
      "#Person1#: 과일 중에 좋은 할인 상품 있나요?\n",
      "#Person2#: 오늘 망고가 세일 중이에요.\n",
      "#Person1#: 망고가 뭐죠?\n",
      "#Person2#: 망고는 약간 노란 빨강색 껍질을 가진 과일로 큰 씨가 하나 있어요.\n",
      "#Person1#: 그 씨는 먹을 수 있나요?\n",
      "#Person2#: 아마 앵무새라면 가능할지도 모르겠네요. 추천하지는 않아요.\n",
      "#Person1#: 망고는 얼마인가요?\n",
      "#Person2#: 보통은 하나에 2달러인데, 오늘은 하나에 1달러예요.\n",
      "#Person1#: 난 그 맛을 안 좋아할 수도 있겠네요.\n",
      "#Person2#: 설명하기 좀 어려운데요. 달콤하면서도 약간 감귤 향도 나요.\n",
      "#Person1#: 익은 것과 덜 익은 것은 어떻게 구분하죠?\n",
      "#Person2#: 아보카도와 비슷해요. 껍질이 부드럽게 느껴지면 익은 거예요.\n",
      "#Person1#: 대부분 어디서 오나요?\n",
      "#Person2#: 이 망고들은 멕시코산이에요.\n",
      "\n",
      "Pred Summary: The dialogue is about mangoes and their characteristics. The customer asks about the mangoes on sale and the salesperson explains that they are from Mexico and have a soft skin when ripe. The customer is not sure if they will like the taste, but the salesperson describes it as sweet with a hint of citrus. The customer asks about the price and the salesperson says they are on sale for $1 each. The customer is still unsure about the taste, but the salesperson assures them that they are delicious.\n",
      "\n",
      "Gold Summary: #Person2#는 #Person1#에게 망고가 세일 중임을 알리고, 망고의 특징과 가격에 대해 설명합니다.\n",
      "\n",
      "====================================================================================================\n",
      "Dialogue:\n",
      "#Person1#: 뭔가 걱정거리 있는 것 같은데, 무슨 일 있어?\n",
      "#Person2#: 어젯밤에 아버지를 화나게 했어.\n",
      "#Person1#: 어떻게 해서 아버지를 화나게 했는데?\n",
      "#Person2#: 나도 내 여동생들처럼 대해달라고 부탁했더니 아버지가 화를 내셨어. 그래서 내 생각을 솔직하게 말씀드렸어.\n",
      "\n",
      "Pred Summary: #Person1#: You seem to have something on your mind. What’s wrong?\n",
      "#Person2#: I made my father angry last night.\n",
      "#Person1#: How did you make your father angry?\n",
      "#Person2#: I asked him to treat me like my sisters. He got angry, so I told him my honest thoughts.\n",
      "\n",
      "Gold Summary: #Person2#는 아버지에게 동생들처럼 대해달라고 부탁했다가 아버지를 화나게 했습니다.\n",
      "\n",
      "====================================================================================================\n",
      "Dialogue:\n",
      "#Person1#: 안녕하세요, Mr. Smith. 리리입니다. 어제 저녁 식사 정말 감사드리려고 전화드렸어요. 정말 즐거웠습니다.\n",
      "#Person2#: 천만에요. 언제 한 번 다시 저녁 식사 함께 하시죠.\n",
      "#Person1#: 감사합니다, Mr. Smith. 오늘 중국으로 돌아갈 예정입니다.\n",
      "#Person2#: 오늘요?\n",
      "#Person1#: 네, 여기 있는 동안 도와주신 모든 것에 정말 감사합니다. 특히 저를 위해 시간을 내주셔서요.\n",
      "#Person2#: 그런 말씀 마세요. 도와드려서 기뻤습니다.\n",
      "#Person1#: 나중에 제가 도와드릴 일이 있으면 꼭 말씀해 주세요.\n",
      "#Person2#: 그럴게요. 감사합니다. 조심히 돌아가세요.\n",
      "\n",
      "Pred Summary: #Person1#: Hello, Mr. Smith. It's Li Li. I'm calling to thank you for last night's dinner. It was really nice.\n",
      "#Person2#: You're welcome. Let's have dinner together again sometime.\n",
      "#Person1#: Thank you, Mr. Smith. I'm leaving for China today.\n",
      "#Person2#: Today?\n",
      "#Person1#: Yes, I really appreciate everything you've done for me while I've been here, especially taking time out of your schedule.\n",
      "#Person2#: Don't mention it. I was happy to help.\n",
      "#Person1#: If there's anything I can do for you in the future, please let me know.\n",
      "#Person2#: I will. Thank you. Be careful on your way back.\n",
      "\n",
      "Gold Summary: 리리가 Mr. Smith에게 전화로 오늘 중국으로 돌아갈 것임을 알리고, 저녁 식사와 도움에 감사드립니다.\n",
      "\n",
      "====================================================================================================\n",
      "Dialogue:\n",
      "#Person1#: Daniel, 야생 동물 보호 구역에 대해 들어본 적 있어?\n",
      "#Person2#: 그게 동물원이랑 다른 거야?\n",
      "#Person1#: 당연하지.\n",
      "#Person2#: 그럼 설명해줘!\n",
      "#Person1#: 거기엔 많은 야생 동물들이 살고 있고, 방문할 땐 특별한 규칙이 필요해.\n",
      "#Person2#: 특별한 규칙?\n",
      "#Person1#: 방문하는 방법은 두 가지야.\n",
      "#Person2#: 자세히 좀 말해줘.\n",
      "#Person1#: 그들의 버스를 타거나 네 차를 이용해야 하고, 특별 지역에 도착하기 전엔 내려선 안 돼.\n",
      "#Person2#: 왜 안 되는 거야?\n",
      "#Person1#: 차나 버스에서 내리면 위험할 수 있어. 야생 동물이 아주 사나울 수도 있으니까.\n",
      "#Person2#: 이해가 가네. 근데 재밌겠는데. 베이징에도 하나 있어?\n",
      "#Person1#: 응.\n",
      "#Person2#: 다음번엔 거기에 가고 싶어.\n",
      "#Person1#: 그래, 실망하지 않을 거야.\n",
      "\n",
      "Pred Summary: Person1 asks Person2 if they have heard of a wildlife sanctuary. Person2 asks if it is different from a zoo. Person1 confirms that it is. Person2 asks for an explanation. Person1 explains that there are many wild animals living there and there are special rules for visiting. Person2 asks for more details. Person1 explains that there are two ways to visit: by taking their bus or by using their own car, and one must not get off before reaching the special area. Person2 asks why. Person1 explains that getting off the bus or car can be dangerous because wild animals can be very aggressive. Person2 understands and says that it sounds fun. Person1 confirms that there is one in Beijing. Person2 says that they want to go there next time. Person1 agrees and says that they won't be disappointed.\n",
      "\n",
      "Gold Summary: #Person1#은 Daniel에게 야생 동물 보호 구역과 그곳을 방문할 수 있는 두 가지 방법에 대해 설명합니다. Daniel은 관심을 가지고 있으며, 베이징에 있는 보호 구역을 방문하고 싶어합니다.\n",
      "\n",
      "====================================================================================================\n",
      "Dialogue:\n",
      "#Person1#: 안녕, Bob. 나 Nancy야. 드디어 너랑 연락되서 정말 기뻐. \n",
      "#Person2#: 내가 보고 싶었구나? 집에 없으면 주로 여기 클럽에 있어. \n",
      "#Person1#: 그거 알아두면 좋네. 들어봐, Bob, 네게 할 말이 있어. \n",
      "#Person2#: 뭔데? \n",
      "#Person1#: 우리 언니 Amy가 미국에서 돌아와. \n",
      "#Person2#: 좋네. 언제 돌아와? \n",
      "#Person1#: 다음 주말이야. \n",
      "#Person2#: 다음 주말? 알았어. 오늘 밤 만나서 그녀를 위한 파티 계획해보자. \n",
      "#Person1#: 그래, 좋아.\n",
      "\n",
      "Pred Summary: #Person1#: Hi, Bob. This is Nancy. I'm so glad to get in touch with you. \n",
      "#Person2#: You missed me? I'm usually here at the club if I'm not at home. \n",
      "#Person1#: Good to know. Listen, Bob, I have something to tell you. \n",
      "#Person2#: What is it? \n",
      "#Person1#: My sister Amy is coming back from America. \n",
      "#Person2#: Great. When is she coming back? \n",
      "#Person1#: Next weekend. \n",
      "#Person2#: Next weekend? Okay. Let's meet tonight and plan a party for her. \n",
      "#Person1#: Sure, great.\n",
      "\n",
      "Gold Summary: Nancy는 Bob에게 언니 Amy가 다음 주말에 미국에서 돌아온다고 알린다. Bob은 Amy를 위한 파티를 열자고 제안한다.\n",
      "\n",
      "====================================================================================================\n",
      "Dialogue:\n",
      "#Person1#: Sunshine 호텔입니다. 좋은 아침입니다. Barbara입니다.\n",
      "#Person2#: 안녕하세요. 예약을 하고 싶습니다. 출장 중이라 싱글룸이 필요합니다.\n",
      "#Person1#: 알겠습니다. 성함이 어떻게 되시나요?\n",
      "#Person2#: John Griffin입니다. JOHNGRIFFIN요.\n",
      "#Person1#: 알겠습니다. 잠시만요. 이미 이름이 등록되어 있네요. 전에 오신 적이 있으신가요? 아니면 같은 이름의 다른 분이셨던 것 같습니다.\n",
      "#Person2#: 두 번 묵었던 적 있습니다.\n",
      "#Person1#: 알겠습니다. 카드를 확인하겠습니다. 틀리면 말씀해 주세요. 시드니에서 오신 John Griffin님, 여권 번호는 #PassportNumber# 맞으시죠?\n",
      "#Person2#: 맞습니다.\n",
      "#Person1#: 알겠습니다. 그럼 오늘 밤 언제쯤 도착하실 예정이신가요, Griffin님?\n",
      "#Person2#: 비행기가 오후 9시 15분에 착륙하고, 저를 마중 나올 사람은 없습니다. 그래서 10시에 도착할 것 같습니다. 그때 레스토랑이 아직 열려 있을까요?\n",
      "#Person1#: 아쉽지만, 그렇지 않습니다. 방에 간단한 스낵을 준비해 드릴까요?\n",
      "#Person2#: 네, 좋습니다. 치즈 샌드위치 부탁드립니다.\n",
      "#Person1#: 알겠습니다, 손님. 준비해 놓겠습니다.\n",
      "\n",
      "Pred Summary: This script is a conversation between a hotel receptionist and a guest who is making a reservation. The guest is checking in for a single room and the receptionist asks for his name and other details. The guest confirms his name and the receptionist checks if he has stayed at the hotel before. The guest confirms that he has stayed twice before. The receptionist then asks for the guest's arrival time and confirms that the restaurant will be closed by then. The guest requests for a cheese sandwich to be prepared for him.\n",
      "\n",
      "Gold Summary: John Griffin이 Sunshine 호텔에 전화를 걸어 싱글룸을 예약합니다. 호텔 직원이 그의 여권 번호를 확인하고 예약을 완료합니다.\n",
      "\n",
      "====================================================================================================\n",
      "Dialogue:\n",
      "#Person1#: 안녕, Barbara. 돌아와서 반가워. 정말 좋아 보이네.\n",
      "#Person2#: Rod, 다시 만나서 반가워.\n",
      "#Person1#: 여행은 어땠어?\n",
      "#Person2#: 괜찮았어, 그런데 좀 피곤해. 밀라노는 재미있더라. 생각보다 크고, 시끄럽고, 더러웠어.\n",
      "#Person1#: 그럼 피렌체는? 어땠어?\n",
      "#Person2#: 음, 거긴 안 갔어. 너는 가본 적 있어?\n",
      "#Person1#: 아니, 이탈리아는 가본 적 없어. 정말 로마에 가보고 싶어. 자, 차가 주차장에 있어. 이게 네 짐이야?\n",
      "#Person2#: 응, 근데 짐이 엄청 무거워.\n",
      "#Person1#: Barbara, 이 안에 뭐가 들어있어? 책 아니면 돌?\n",
      "#Person2#: 그냥 신발 20켤레.\n",
      "\n",
      "Pred Summary: #Person1#: Hi, Barbara. Good to see you back. You look great.\n",
      "#Person2#: Rod, good to see you again.\n",
      "#Person1#: How was your trip?\n",
      "#Person2#: It was okay, but I'm a little tired. Milan was fun. It was bigger, noisier, and dirtier than I thought.\n",
      "#Person1#: What about Florence? How was it?\n",
      "#Person2#: Uh, I didn't go there. Have you been?\n",
      "#Person1#: No, I've never been to Italy. I really want to go to Rome. Okay, the car is in the parking lot. Is this your luggage?\n",
      "#Person2#: Yeah, but it's really heavy.\n",
      "#Person1#: Barbara, what's in here? Books or rocks?\n",
      "#Person2#: Just 20 pairs of shoes.\n",
      "\n",
      "Gold Summary: Barbara는 Rod에게 밀라노 여행이 괜찮았지만 피곤했다고 말하고, 20켤레의 신발 때문에 짐이 무겁다고 전합니다.\n",
      "\n",
      "====================================================================================================\n",
      "Dialogue:\n",
      "#Person1#: 저기요, 제 시계가 멈췄는데 무슨 일인지 모르겠어요.\n",
      "#Person2#: 음, 한번 볼게요. 그냥 배터리만 새로 갈면 될 것 같은데요.\n",
      "#Person1#: 아, 그래요? 지난주에 물이 좀 묻어서 시계가 망가질까 봐 걱정했거든요. 새 배터리 가격은 얼마인가요?\n",
      "#Person2#: 5달러입니다. 배터리 교체뿐만 아니라 1년 보증도 해드리고, 만약 시계 청소를 같이 하시면 3개월 추가 보증도 해드려요.\n",
      "#Person1#: 괜찮은 조건이네요. 여기서 배터리 교체할게요. 언제 준비되나요?\n",
      "#Person2#: 원래는 바로 해드릴 수 있는데, 지금 시계 수리를 많이 하고 있어서요. 5시까지 맡기실 수 있나요?\n",
      "#Person1#: 네, 그럼 이따가 봐요.\n",
      "\n",
      "Pred Summary: The person is asking for help with their watch, which has stopped working. The other person suggests that it may just need a new battery, and offers to replace it for $5. They also offer a 1-year warranty and a 3-month extension if the watch is cleaned at the same time. The person agrees to have the battery replaced and asks when it will be ready. The other person says they can do it right away, but they are currently busy with other repairs, so they ask if the person can come back at 5pm. The person agrees to come back later.\n",
      "\n",
      "Gold Summary: #Person1#의 시계가 멈췄습니다. #Person2#가 시계를 확인하고 새 배터리가 필요하다고 판단합니다. #Person2#는 1년 보증과 청소 시 3개월 추가 보증을 제공하는 서비스를 소개하며, #Person1#은 여기서 배터리를 교체하기로 결정합니다.\n",
      "\n",
      "====================================================================================================\n",
      "Dialogue:\n",
      "#Person1#: 연말 모임 저녁 식사를 계획해보자. \n",
      "#Person2#: 반 친구들 몇 명이랑 얘기해봤는데, 피자집에 가고 싶어하는 애들이 꽤 많아. \n",
      "#Person1#: 음, 나는 피자는 좀 질렸어. 일주일에 두 번 이상은 먹잖아. 다른 게 좋겠어. \n",
      "#Person2#: 그럼 저기 중국집, 대나무집은 어때? \n",
      "#Person1#: 다음 주에 한 달 동안 문 닫는다던데. 새 주방을 짓는다나 봐. 전에 가수랑 기타리스트 있는 데 가봤는데, 진짜 좋았어. \n",
      "#Person2#: 근데 우리 20명 이상일 텐데, 너무 시끄러워서 음악을 못 들을 것 같아. \n",
      "#Person1#: 맞아. 우리 비용도 고려해야지. 저렴한 데 가고 싶어하는 친구들도 있고, 비싼 데도 갈 수 있는 친구들도 있을 거야. \n",
      "#Person2#: 먼저 예산을 정한 다음, 그 금액에 맞춰 메뉴를 제공해달라고 식당에 요청하는 건 어때? \n",
      "#Person1#: 좋은 생각이야. 우리가 생각하는 최고의 장소를 목록으로 작성해서 반 친구들이 하나를 선택하게 하면 되겠다.\n",
      "\n",
      "Pred Summary: #Person1#: Let's plan a dinner for the end-of-year gathering. \n",
      "#Person2#: I talked to a few of my classmates, and quite a few of them want to go to a pizza place. \n",
      "#Person1#: Hmm, I'm kind of tired of pizza. I eat it at least twice a week. I'd prefer something else. \n",
      "#Person2#: How about that Chinese restaurant, Bamboo House? \n",
      "#Person1#: I heard they're closing for a month next week to renovate their kitchen. I went to that place with the singer and guitarist before, and it was great. \n",
      "#Person2#: But we'll be more than 20 people, and it might be too noisy to hear the music. \n",
      "#Person1#: You're right. We also need to consider the cost. Some of our friends want to go to a cheaper place, while others can afford a more expensive place. \n",
      "#Person2#: How about we first set a budget and then ask the restaurant to provide a menu within that amount? \n",
      "#Person1#: That's a good idea. We can make a list of the best places we think of and let our classmates choose one.\n",
      "\n",
      "Gold Summary: #Person1#과 #Person2#는 연말 반 모임 저녁 식사 계획을 논의합니다. 그들은 장소와 비용에 대해 이야기하며, 먼저 예산을 정하고 그에 맞춰 메뉴를 제공받도록 식당에 요청하기로 결정합니다.\n",
      "\n",
      "====================================================================================================\n",
      "Dialogue:\n",
      "#Person1#: 안녕 Martin, 오랜만이야. 프랑스로 공부하러 갔다면서, 어땠어?\n",
      "#Person2#: 거기 1년 있었고, 그 후로 유럽을 여행하느라 1년 쉬었어.\n",
      "#Person1#: 어디 갔었어?\n",
      "#Person2#: 처음엔 스위스에 갔다가 그다음에 독일, 오스트리아 갔어. 이탈리아에서 여행을 끝내려고 했는데 잘 안 됐어.\n",
      "#Person1#: 아쉽네. 돌아오니 좋아?\n",
      "#Person2#: 당연하지. 하지만 다시 프랑스로 돌아가서 학위를 마쳐야 돼. 4년짜리 프로그램이거든.\n",
      "#Person1#: 그래서 가족 만나러 베이징에 잠깐 돌아온 거구나?\n",
      "#Person2#: 맞아, 여기 2달 더 있을 거야.\n",
      "#Person1#: 계획 있어?\n",
      "#Person2#: 7월에 우리 엄마가 70세 생신이셔서 특별한 걸 할 예정이야. 다음 달엔 해안가로 차 타고 갈 거고, 9월 1일 전에 프랑스로 돌아갈 거야.\n",
      "#Person1#: 좋은데? 내 일정에도 좀 끼워줄 수 있어?\n",
      "#Person2#: 하하, 친구한테는 언제든 시간 내지, 오늘 밤 어때?\n",
      "#Person1#: 좋아.\n",
      "\n",
      "Pred Summary: Person1 asks Person2 how their trip to France was and Person2 says they studied there for a year and then traveled around Europe for another year. Person1 asks where they went and Person2 says they went to Switzerland, Germany, and Austria. They wanted to end their trip in Italy but it didn't work out. Person1 says it's too bad and Person2 says they're happy to be back but they have to go back to France to finish their degree. Person1 says they're back in Beijing to see family and Person2 says they'll be there for two more months. Person1 asks if they have any plans and Person2 says they're going to the coast next month and they'll be back in France by September 1st. Person1 asks if they can join them and Person2 says they can always make time for their friend and suggests meeting up tonight. Person1 says they're in.\n",
      "\n",
      "Gold Summary: Martin은 #Person1#에게 유럽에서의 경험을 이야기합니다. Martin은 가족을 만나기 위해 베이징에 돌아왔으며, 학위를 마치기 위해 다시 프랑스로 돌아갈 예정입니다. #Person1#과 Martin은 오늘 밤 만나기로 합니다.\n",
      "\n",
      "====================================================================================================\n",
      "Dialogue:\n",
      "#Person1#: 안녕하세요, 잠시 시간 좀 내주실 수 있나요? 저는 Star 서점에서 근무하는데요, 사람들의 독서 습관에 대한 설문조사를 하고 있습니다. 몇 가지 질문을 드리고 싶습니다.\n",
      "#Person2#: 네, 괜찮습니다. 궁금하신 게 뭐죠?\n",
      "#Person1#: 음, 어떤 종류의 책을 주로 읽으시나요?\n",
      "#Person2#: 음, 저는 모험 소설을 가장 좋아해요. 역사 소설도 관심이 많아요. 최근에는 전기 몇 권을 읽었어요.\n",
      "#Person1#: 알겠습니다. 책은 어디서 구매하시나요? 매장에서 직접 사시나요, 아니면 인터넷으로?\n",
      "#Person2#: 약 2/3의 책은 온라인 서점에서 구매해요. 가끔 매장 앞에서 흥미로운 게 보이면 들어가 볼 때도 있고, 친구나 도서관에서 빌리기도 해요.\n",
      "#Person1#: 감사합니다. 시간 내주셔서 감사합니다. 좋은 하루 되세요.\n",
      "#Person2#: 별말씀을요. 좋은 하루 보내세요.\n",
      "\n",
      "Pred Summary: The person is asking the other person to fill out a survey about their reading habits. They ask what types of books the person likes to read, where they buy their books, and if they borrow books from friends or libraries. The person thanks the other person for their time and wishes them a good day.\n",
      "\n",
      "Gold Summary: #Person1#은 #Person2#을 대상으로 독서 습관에 관한 설문조사를 진행합니다. #Person2#는 모험 소설을 선호하고 주로 온라인 서점에서 책을 구매합니다.\n",
      "\n",
      "====================================================================================================\n",
      "Dialogue:\n",
      "#Person1#: 어떤 집을 빌려야 할까?\n",
      "#Person2#: 대학에 가까운 게 좋겠어. 우리 둘 다 아침에 일어나기 힘들잖아. 가까우면 좀 더 늦게 일어날 수 있잖아.\n",
      "#Person1#: 맞아. 그게 제일 중요하지. 집 크기는 별로 신경 쓰지 않아.\n",
      "#Person2#: 나도 그래. 작은 집도 괜찮은데, 값이 비싸지 않으면 큰 것도 괜찮긴 해. 시끄러운 곳이어도 괜찮아?\n",
      "#Person1#: 괜찮아. 난 잠귀가 어두워서 그런데, 그래도 조용하면 집에서 공부하기 좋겠지.\n",
      "#Person2#: 맞아. 그럼 부동산에 가서 어떤 집들이 있는지 알아보자.\n",
      "#Person1#: 그래. 운이 좋으면 며칠 안에 찾을 수 있을 거야. 일찍 집을 구하러 다니기 시작한 게 좋은 생각이었던 것 같아.\n",
      "#Person2#: 월세는 얼마나 될 것 같아?\n",
      "#Person1#: 이미 대학 근처에 살고 있는 친구들에게 물어봤는데, 한 달에 약 100파운드 정도라고 하더라.\n",
      "\n",
      "Pred Summary: #Person1#: What kind of house should we get?\n",
      "#Person2#: Something close to the university. We both have trouble getting up in the morning. It would be nice to be able to sleep in a little more if it’s close.\n",
      "#Person1#: Right. That’s the most important thing. I don’t really care about the size of the house.\n",
      "#Person2#: Neither do I. A small house would be fine, but a big one would be okay too, as long as it’s not too expensive. Would you be okay with a noisy place?\n",
      "#Person1#: I don’t mind. I have heavy sleep, but it would be nice to be able to study at home if it’s quiet.\n",
      "#Person2#: Right. Let’s go to the real estate agency and see what houses are available.\n",
      "#Person1#: Okay. We might be able to find one in a few days. It’s a good thing we started looking for a house early.\n",
      "#Person2#: How much do you think the rent will be?\n",
      "#Person1#: I asked some friends who already live near the university, and they said it’s about 100 pounds a month.\n",
      "\n",
      "Gold Summary: #Person1#과 #Person2#는 대학 근처의 조용한 집을 찾기 위해 부동산을 방문할 계획이다.\n",
      "\n",
      "====================================================================================================\n",
      "Dialogue:\n",
      "#Person1#: 안녕하세요! 도와드릴까요?\n",
      "#Person2#: 오늘 아내 생일이라 꽃다발을 사고 싶어요.\n",
      "#Person1#: 어떤 꽃을 원하세요?\n",
      "#Person2#: 잘 모르겠어요.\n",
      "#Person1#: 장미는 어때요? 연인에게 가장 잘 어울리는 꽃이에요.\n",
      "#Person2#: 그런데 장미는 너무 흔한 것 같아요.\n",
      "#Person1#: 그럼 보라꽃은 어떠세요? 영원한 아름다움을 의미해요.\n",
      "#Person2#: 좋네요. 보라꽃으로 꽃다발 하나 포장해 주세요.\n",
      "\n",
      "Pred Summary: #Person1#: Hello! Can I help you?\n",
      "#Person2#: I want to buy a bouquet for my wife's birthday today.\n",
      "#Person1#: What kind of flower do you want?\n",
      "#Person2#: I don't know.\n",
      "#Person1#: How about roses? They are the most suitable flower for a lover.\n",
      "#Person2#: But roses are too common.\n",
      "#Person1#: How about violets? They mean eternal beauty.\n",
      "#Person2#: That's good. Please pack a bouquet with violets.\n",
      "\n",
      "Gold Summary: #Person2#는 #Person1#의 추천에 따라 아내의 생일 선물로 보라꽃으로 꽃다발을 구매합니다.\n",
      "\n",
      "====================================================================================================\n",
      "Dialogue:\n",
      "#Person1#: 케이블에 문제가 생겼어요.\n",
      "#Person2#: 어떤 문제인가요?\n",
      "#Person1#: 지난주부터 케이블이 안 나오고 있어요.\n",
      "#Person2#: 현재 케이블이 다운된 상태입니다. 정말 죄송합니다.\n",
      "#Person1#: 언제 다시 서비스가 되나요?\n",
      "#Person2#: 앞으로 며칠 내로 복구될 예정입니다.\n",
      "#Person1#: 그래도 케이블 요금을 내야 하나요?\n",
      "#Person2#: 케이블이 다운된 동안은 요금이 크레딧으로 전환될 것입니다.\n",
      "#Person1#: 그럼, 돈을 안 내도 되는 건가요?\n",
      "#Person2#: 네, 케이블이 복구될 때까지는 요금이 청구되지 않습니다.\n",
      "#Person1#: 알겠어요, 감사합니다.\n",
      "#Person2#: 아닙니다. 불편을 끼쳐드려 죄송합니다.\n",
      "\n",
      "Pred Summary: #Person1#: There's a problem with the cable.\n",
      "#Person2#: What kind of problem is it?\n",
      "#Person1#: The cable has been out since last week.\n",
      "#Person2#: The cable is currently down. I'm really sorry about that.\n",
      "#Person1#: When will the service be restored?\n",
      "#Person2#: It should be restored within a few days.\n",
      "#Person1#: Do I still have to pay for the cable service?\n",
      "#Person2#: The charges will be credited while the cable is down.\n",
      "#Person1#: So I don't have to pay anything?\n",
      "#Person2#: Yes, you won't be charged until the cable is restored.\n",
      "#Person1#: Okay, thank you.\n",
      "#Person2#: No, I'm sorry for the inconvenience.\n",
      "\n",
      "Gold Summary: #Person1#는 케이블 문제가 있다고 보고했습니다. #Person2#는 케이블이 곧 복구될 예정이며, 그동안 요금은 청구되지 않을 것이라고 안내했습니다.\n",
      "\n",
      "====================================================================================================\n",
      "Dialogue:\n",
      "#Person1#: 뭐 도와드릴까요?\n",
      "#Person2#: MP3 플레이어를 찾고 있는데요. 어떤 브랜드가 품질이 좋은가요?\n",
      "#Person1#: 저는 파이오니어를 추천합니다.\n",
      "#Person2#: 어떤 모델이 가장 잘 팔리나요?\n",
      "#Person1#: 이 모델이 여성분들 사이에서 인기가 많아요.\n",
      "#Person2#: 한 번 볼 수 있을까요?\n",
      "#Person1#: 물론이죠, 이 제품은 다기능입니다. 음악 재생뿐만 아니라 문서 저장과 녹음도 가능합니다.\n",
      "#Person2#: 이 모델은 흰색도 있나요?\n",
      "#Person1#: 죄송하지만, 노란색만 있습니다.\n",
      "#Person2#: 그럼 노란색으로 할게요.\n",
      "#Person1#: 잠시만 기다리세요. 가져다 드리겠습니다.\n",
      "#Person2#: 네.\n",
      "\n",
      "Pred Summary: #Person1#: What can I help you with?\n",
      "#Person2#: I'm looking for an MP3 player. Which brand is of good quality?\n",
      "#Person1#: I recommend Pioneer.\n",
      "#Person2#: Which model is the best seller?\n",
      "#Person1#: This model is popular among women.\n",
      "#Person2#: Can I see it?\n",
      "#Person1#: Of course, this product is multifunctional. It not only plays music but also saves documents and records.\n",
      "#Person2#: Is this model available in white?\n",
      "#Person1#: Sorry, only yellow is available.\n",
      "#Person2#: Then I'll take the yellow one.\n",
      "#Person1#: Please wait a moment. I'll get it for you.\n",
      "#Person2#: Yes.\n",
      "\n",
      "Gold Summary: #Person2#는 MP3 플레이어를 찾고 있고, #Person1#은 파이오니어 브랜드를 추천하였으며, #Person2#는 노란색 모델을 선택합니다.\n",
      "\n",
      "====================================================================================================\n",
      "Dialogue:\n",
      "#Person1#: Susan! 네가 실크 컴퍼니 계정을 맡게 된 거 왜 말 안 했어? \n",
      "#Person2#: Todd, 네가 알고 있는 줄 알았어. 지난주에 결정됐는데, 네가 그 회의에 없었던 것 같아.\n",
      "#Person1#: 내가 회의에 없었던 거 너도 알잖아. 나 그 계정 때문에 Mr. Wei랑 만나고 있었어. 이거 내가 한 달 반 동안 맡고 있었는데.\n",
      "#Person2#: 미안해, Todd. 그런데 Mr. Emory가 너무 느리게 진행되고 있다고 판단해서 새로 시작해야 한다고 했어. 그가 네게 말했어야 했는데.\n",
      "\n",
      "Pred Summary: #Person1#: Susan! Why didn't you tell me you were in charge of the silk company account? \n",
      "#Person2#: Todd, I thought you knew. It was decided last week, but you weren't at the meeting.\n",
      "#Person1#: You know I wasn't at the meeting. I was meeting with Mr. Wei about that account. I've been working on it for a month and a half.\n",
      "#Person2#: Sorry, Todd. But Mr. Emory thought it was moving too slowly, so he said we should start over. He should have told you.\n",
      "\n",
      "Gold Summary: Todd는 자신이 맡고 있던 Silk Company 계정이 Susan에게 넘어간 것을 몰랐으며, Susan은 이에 대해 사과한다.\n",
      "\n",
      "====================================================================================================\n",
      "Dialogue:\n",
      "#Person1#: 무슨 일이야, 친구? 기분이 안 좋아 보이네.\n",
      "#Person2#: 여자친구랑 헤어졌어. 왜 내 사랑을 이해하지 못했을까?\n",
      "#Person1#: 안타깝다. 무슨 문제였어?\n",
      "#Person2#: 모르겠어. 그녀는 항상 내가 사랑하지 않는다고 했는데, 사실 사랑했거든.\n",
      "#Person1#: 다시 얘기해볼 생각은 해봤어? 어쩌면 그녀는 네 전화를 기다리고 있을지도 몰라.\n",
      "#Person2#: 다시 이야기하자고 했지만, 그녀는 거절했고 조용히 있고 싶다고 했어.\n",
      "#Person1#: 에이, 친구. 아마 그녀는 네 짝이 아닐 수도 있어.\n",
      "\n",
      "Pred Summary: #Person1#: What's wrong, buddy? You look down.\n",
      "#Person2#: I broke up with my girlfriend. Why couldn't she understand my love?\n",
      "#Person1#: That's too bad. What was the problem?\n",
      "#Person2#: I don't know. She always said I didn't love her, but I did.\n",
      "#Person1#: Have you tried talking to her again? Maybe she's waiting for your call.\n",
      "#Person2#: I tried to talk to her again, but she refused and said she wanted to be quiet.\n",
      "#Person1#: Hey, buddy. Maybe she's not your match.\n",
      "\n",
      "Gold Summary: #Person2#는 여자친구와 헤어져서 기분이 좋지 않다. #Person1#은 #Person2#를 위로하려 한다.\n",
      "\n",
      "====================================================================================================\n",
      "Dialogue:\n",
      "#Person1#: 메리 크리스마스, Lily.\n",
      "#Person2#: 너도 메리 크리스마스, Joey.\n",
      "#Person1#: 이번이 미국에서 맞는 첫 번째 크리스마스지? 이 선물을 받았으면 해.\n",
      "#Person2#: 정말 고마워. 와, 너무 예쁘다. 미국 사람들은 크리스마스를 어떻게 보내?\n",
      "#Person1#: 음, 사람들은 집을 꾸미고, 크리스마스 트리를 방에 두고 크리스마스 캐롤도 함께 부르곤 해.\n",
      "\n",
      "Pred Summary: #Person1#: Merry Christmas, Lily.\n",
      "#Person2#: Merry Christmas to you, too, Joey.\n",
      "#Person1#: This is your first Christmas in America, right? I hope you like this gift.\n",
      "#Person2#: Thank you so much. Wow, it's so pretty. How do Americans celebrate Christmas?\n",
      "#Person1#: Well, people decorate their houses, put up Christmas trees in their living rooms, and sing Christmas carols together.\n",
      "\n",
      "Gold Summary: Lily와 Joey는 서로에게 메리 크리스마스를 인사하고, Joey는 미국에서의 크리스마스 관습에 대해 설명한다.\n",
      "\n",
      "====================================================================================================\n",
      "Dialogue:\n",
      "#Person1#: 어떤 춤을 좋아해?\n",
      "#Person2#: 빠른 음악에 춤추는 걸 좋아해.\n",
      "#Person1#: 그럼 디스코에 관심 있겠네.\n",
      "#Person2#: 맞아, 제일 좋아하는 거야.\n",
      "#Person1#: 오, 디스코 좋아하네. 같이 춤추자.\n",
      "#Person2#: 너 춤 잘 춘다.\n",
      "#Person1#: 고마워. 지금 룸바가 나오고 있어. 한 번 춰볼래?\n",
      "#Person2#: 미안. 이번 춤은 쉬고 싶어.\n",
      "#Person1#: 그래. 그럼 뭐 좀 마시러 가자.\n",
      "#Person2#: 좋은 생각이야.\n",
      "\n",
      "Pred Summary: #Person1#: What kind of dancing do you like?\n",
      "#Person2#: I like dancing to fast music.\n",
      "#Person1#: So you must be into disco.\n",
      "#Person2#: Yeah, it's my favorite.\n",
      "#Person1#: Oh, you like disco. Let's dance.\n",
      "#Person2#: You dance well.\n",
      "#Person1#: Thanks. There's a rumba playing now. Want to try it?\n",
      "#Person2#: Sorry. I'd rather sit this one out.\n",
      "#Person1#: Okay. Let's go get something to drink.\n",
      "#Person2#: Good idea.\n",
      "\n",
      "Gold Summary: #Person2#는 디스코를 좋아하며 #Person1#과 함께 디스코를 춘다. 하지만 룸바는 추지 않기로 한다.\n",
      "\n",
      "====================================================================================================\n",
      "Dialogue:\n",
      "#Person1#: 모래 함정에 빠지는 거 정말 싫어! 이제 저기서 치느라 스트로크를 낭비할 거야.\n",
      "#Person2#: 그래도 물에 빠진 건 아니잖아. 난 지난 두 홀에서 그랬어.\n",
      "#Person1#: 내 웨지 좀 건네줄래? 시도해볼게...\n",
      "#Person2#: 여기 있어. 네가 그린에 올라갈 때까지 기다릴게.\n",
      "#Person1#: 아니야, 네가 먼저 퍼팅해. 다음에 할게.\n",
      "#Person2#: 안돼, #Person1#. 내가 먼저 퍼팅하는 건 부담스러워. 네가 먼저 해.\n",
      "\n",
      "Pred Summary: #Person1#: I hate getting stuck in sand traps! Now I'm going to waste strokes trying to get out of here.\n",
      "#Person2#: But at least you're not in the water. I was in the last two holes.\n",
      "#Person1#: Can you hand me my wedge? I'll give it a try...\n",
      "#Person2#: Here you go. I'll wait for you to get on the green.\n",
      "#Person1#: No, you go first. I'll putt next.\n",
      "#Person2#: No, #Person1#. I don't want to putt first. You go first.\n",
      "\n",
      "Gold Summary: #Person1#의 골프 공이 모래 함정에 빠져서 그녀는 불만입니다. #Person2#는 #Person1#이 그린에 올라갈 때까지 기다릴 것입니다.\n",
      "\n",
      "====================================================================================================\n",
      "Dialogue:\n",
      "#Person1#: 너 새로운 아이폰에 대해 들어봤어?\n",
      "#Person2#: 응, 들었어. 6월에 나올 거라고 하던데. 너 살 생각 있어?\n",
      "#Person1#: 사고 싶어. 그게 휴대폰, 카메라, 패드, MP3 플레이어가 다 합쳐져서 나오는 거라잖아.\n",
      "#Person2#: 돈만 충분하면 사고 싶은데, 난 심지어 셔플 아이팟 하나 살 돈도 없네.\n",
      "#Person1#: 셔플 아이팟은 얼마나 작아?\n",
      "#Person2#: 1세대 아이팟 셔플은 껌 하나 크기쯤 되고, 2세대 아이팟 셔플은 그 반 크기야.\n",
      "#Person1#: 몇 기가의 음악을 담을 수 있어?\n",
      "#Person2#: 아마 1기가나 2기가일 거야. 기억이 잘 안 나네.\n",
      "#Person1#: 가격은 얼마나 해?\n",
      "#Person2#: 별로 안 비싸. 100달러 정도였던 것 같아.\n",
      "#Person1#: 맞네, 그 정도면 괜찮네.\n",
      "#Person2#: 너 아이팟 있어?\n",
      "#Person1#: 처음 나왔을 때 생일 선물로 받았는데, 배터리 다 방전된 후로는 새거 안 샀어.\n",
      "#Person2#: 왜 배터리만 새로 사서 쓰지 않았어?\n",
      "#Person1#: 그게 아이팟의 문제 중 하나야. 아이팟 배터리가 평범한 것보다 오래 가긴 하지만, 배터리가 힘을 다하면 아이팟도 끝나버리잖아.\n",
      "\n",
      "Pred Summary: Person1 asks Person2 if they have heard about the new iPhone. Person2 says they have heard about it and that it will be released in June. Person1 says they want to buy it because it combines a phone, camera, pad, and MP3 player. Person2 says they would like to buy it but they don't have enough money, not even enough to buy a shuffle iPod. Person1 asks how small the shuffle iPod is, and Person2 says the first generation shuffle is about the size of a piece of gum and the second generation shuffle is half that size. Person1 asks how much music it can hold, and Person2 says it's probably 1 or 2 gigabytes, but they can't remember. Person1 asks how much it costs, and Person2 says it's not very expensive, around $100. Person1 agrees that it's not bad. Person2 asks if Person1 has an iPod, and Person1 says they got one for their birthday when they first came out, but they haven't bought a new one since the battery died. Person2 asks why they didn't just buy a new battery, and Person1 says that's one of the problems with iPods - the battery lasts longer than a regular one, but when it dies, the iPod is done.\n",
      "\n",
      "Gold Summary: #Person1#은 새로운 아이폰을 사고 싶어한다. #Person2#는 #Person1#에게 셔플 아이팟에 대해 이야기한다. #Person1#은 아이팟을 가지고 있었지만 배터리가 방전되어 새로 사지 않았다.\n",
      "\n",
      "====================================================================================================\n",
      "Dialogue:\n",
      "#Person1#: 주말에 뭐 해, Tom?\n",
      "#Person2#: 남부 로키 산맥으로 하이킹 갈 거야.\n",
      "#Person1#: 오, 하이킹 자주 가?\n",
      "#Person2#: 갈 수 있을 때마다 가려고 해. 자연과 가까워질 수 있어서 좋아.\n",
      "#Person1#: 도시 벗어나면 좋겠다. 나도 같이 갈까?\n",
      "#Person2#: 물론이지. 하지만 긴 하이킹이 될 거야, 3일에 30마일 정도. 하이킹 해본 적 있어?\n",
      "#Person1#: 응, 나도 자주 가. 지난번 하이킹 때 곰이랑 산사자를 봤어.\n",
      "#Person2#: 와! 꽤 먼 곳까지 갔었나 보네.\n",
      "#Person1#: 응, 친구랑 국립공원의 아주 야생 구역으로 갔었어.\n",
      "#Person2#: 그 친구도 같이 데리고 와. 주말에 재밌게 보낼 수 있을 거야.\n",
      "#Person1#: 고마워, 친구한테 물어볼게.\n",
      "\n",
      "Pred Summary: Tom은 주말에 하이킹을 갈 예정이다. Tom은 하이킹을 좋아한다. Tom은 하이킹을 자주 한다. Tom은 하이킹을 할 때 자연과 가까워지는 것을 좋아한다. Tom은 하이킹을 할 때 곰과 산사자를 본 적이 있다. Tom은 하이킹을 할 때 친구와 함께 간다.\n",
      "\n",
      "Gold Summary: Tom은 주말 동안 남부 로키 산맥으로 하이킹을 갈 예정이다. #Person1#과 그 친구도 동행할 예정이다.\n",
      "\n",
      "====================================================================================================\n",
      "Dialogue:\n",
      "#Person1#: 실례합니다. 여기 누구 앉아 있나요?\n",
      "#Person2#: 아니요, 아무도 없어요.\n",
      "#Person1#: 제가 담배 피워도 괜찮나요?\n",
      "#Person2#: 솔직히 말해서, 전 불편해요.\n",
      "#Person1#: 아, 죄송해요. 그런데 여기 금연구역이 아닌가요? 여기서 담배 피워도 괜찮나요?\n",
      "#Person2#: 사실 이곳은 금연구역이에요. 아마 표지를 못 보셨나 봐요.\n",
      "#Person1#: 표지요? 어떤 표지요?\n",
      "#Person2#: 저기, 창문에 있어요.\n",
      "#Person1#: 아, 죄송해요. 그걸 못 봤네요. 미안해요.\n",
      "#Person2#: 괜찮아요.\n",
      "\n",
      "Pred Summary: This dialogue is about a person asking if they can smoke in a non-smoking area. The other person politely asks them to not smoke because it makes them uncomfortable. The first person apologizes and asks where the no smoking sign is. The other person points it out and the first person apologizes again.\n",
      "\n",
      "Gold Summary: #Person1#이 #Person2# 옆에 앉으며 담배를 피워도 되는지를 묻습니다. #Person2#는 불편함을 표현하며, 그 장소가 금연구역임을 알립니다.\n",
      "\n",
      "====================================================================================================\n",
      "Dialogue:\n",
      "#Person1#: 아들 친구들 앞에서 아들 비난하지 말았어야지.\n",
      "#Person2#: 왜? 걔가 잘못했잖아.\n",
      "#Person1#: 나도 알아. 근데 그 시점에 네 탓은 상처에 소금 뿌리는 격이었어.\n",
      "#Person2#: 나는 그냥 도와주고 싶었어.\n",
      "#Person1#: 근데 그건 적절한 때가 아니야.\n",
      "\n",
      "Pred Summary: #Person1#: You shouldn't have criticized your son in front of his friends.\n",
      "#Person2#: Why? He did wrong, didn't he?\n",
      "#Person1#: I know. But at that moment, your criticism was like pouring salt on a wound.\n",
      "#Person2#: I was just trying to help.\n",
      "#Person1#: But that wasn't the right time.\n",
      "\n",
      "Gold Summary: #Person1#은 #Person2#에게 친구들 앞에서 아들을 비난하지 말라고 조언했습니다.\n",
      "\n",
      "====================================================================================================\n",
      "Dialogue:\n",
      "#Person1#: 진짜 낮잠 자고 싶어. 오늘 너무 졸린데.\n",
      "#Person2#: 왜 그래? 어젯밤에 잠 제대로 못 잤어?\n",
      "#Person1#: 늦게 잠들었어. 잠들었더니 거의 새벽 두 시였어.\n",
      "#Person2#: 걱정되는 거 있어? 왜 잠이 안 왔어?\n",
      "#Person1#: 낯선 나라에 있는 거 알잖아. 모든 게 새롭고 가끔은 피곤하고 긴장도 돼. 그러면 가족이랑 고향 상황, 수업, 돈, 모든 거에 대해 걱정하게 돼. 잠들려고 했는데 머릿속에 너무 많은 생각이 있어서 그랬어.\n",
      "#Person2#: 그래, 너무 부담 갖지 마. 내일은 더 나아질 거야. 운동이나 따뜻한 목욕 같은 거 해보면 도움이 될 수도 있어.\n",
      "#Person1#: 뭐든 시도해볼 가치는 있겠지. 근데 지금은 그냥 조용한 데 찾아서 낮잠이나 좀 자고 싶다.\n",
      "\n",
      "Pred Summary: #Person1#: I really want to take a nap. I'm so tired today.\n",
      "#Person2#: Why? Didn't you sleep well last night?\n",
      "#Person1#: I went to bed late. I went to bed and it was almost 2 am.\n",
      "#Person2#: Are you worried about something? Why couldn't you sleep?\n",
      "#Person1#: You know I'm in a foreign country. Everything is new and sometimes I feel tired and nervous. Then I start to worry about my family, my hometown, my classes, money, everything. I tried to go to sleep but there were too many thoughts in my head.\n",
      "#Person2#: Okay, don't worry too much. Tomorrow will be better. Exercise or a warm bath might help.\n",
      "#Person1#: I guess anything is worth trying. But right now, I just want to find a quiet place and take a nap.\n",
      "\n",
      "Gold Summary: #Person1#은 너무 많은 생각 때문에 늦게 잠들었습니다. #Person2#는 #Person1#에게 운동이나 따뜻한 목욕을 제안했지만, #Person1#은 지금 당장 낮잠을 자고 싶어합니다.\n",
      "\n",
      "====================================================================================================\n",
      "Dialogue:\n",
      "#Person1#: 너가 제일 좋아하는 커피가 뭐야?\n",
      "#Person2#: 아이리시 커피가 제일 좋아. 근데 막 까다롭게 따지진 않아.\n",
      "#Person1#: 알겠어. 집에 있을 때 커피 직접 만들어 마셔?\n",
      "#Person2#: 별로 자주 안 해. 커피 만드는 게 좀 귀찮잖아. 대부분 그냥 스타벅스에서 테이크아웃해. 그리고 인스턴트 커피도 꽤 좋아해.\n",
      "#Person1#: 인스턴트 커피가 점점 더 인기를 끌고 있는 것 같아. 맛이 완벽하진 않지만 정말 싸고 편리하잖아.\n",
      "#Person2#: 맞아. 네스카페가 세계에서 가장 인기 있는 커피잖아. 전 세계 사람들이 좋아해.\n",
      "#Person1#: 맞아. 서양에서는 거의 모든 사람들이 커피를 좋아한다고 들었는데, 맞아?\n",
      "#Person2#: 응, 틀림없어. 우리한테 커피는 단순한 음료가 아니라 생활 방식이지. 중국 사람들은 커피를 많이 안 마신다고 들었어.\n",
      "#Person1#: 맞아, 특히 나이 드신 분들은 안 드셔. 하지만 요즘은 젊은 사람들이 점점 커피를 좋아해.\n",
      "#Person2#: 그럴 것 같아. 그래서 중국에 멋진 커피숍이 그렇게 많은 것 같아.\n",
      "\n",
      "Pred Summary: #Person1#: What’s your favorite coffee?\n",
      "#Person2#: I like Irish coffee the best. But I’m not too picky.\n",
      "#Person1#: Okay. Do you make coffee at home?\n",
      "#Person2#: Not really. It’s kind of a hassle. I usually just get it from Starbucks. And I also like instant coffee.\n",
      "#Person1#: Instant coffee seems to be getting more popular. It’s not perfect, but it’s really cheap and convenient.\n",
      "#Person2#: Yeah. Nescafe is the most popular coffee in the world. People all over the world love it.\n",
      "#Person1#: Yeah. I heard that almost everyone in the West drinks coffee. Is that right?\n",
      "#Person2#: Yeah, that’s right. Coffee is not just a drink for us. It’s a way of life. I heard that Chinese people don’t drink coffee much.\n",
      "#Person1#: Yeah, especially older people don’t. But I think younger people are starting to like it more.\n",
      "#Person2#: I think so. That’s why there are so many cool coffee shops in China.\n",
      "\n",
      "Gold Summary: #Person2#는 아이리시 커피를 좋아하고 스타벅스에서 테이크아웃을 한다. #Person1#과 #Person2#는 인스턴트 커피의 장점과 서양과 중국 사람들의 커피에 대한 태도에 대해 이야기한다.\n",
      "\n",
      "====================================================================================================\n",
      "Dialogue:\n",
      "#Person1#: 여보세요, Mr. Wu인가요?\n",
      "#Person2#: 네, 맞습니다. 무슨 일이신가요?\n",
      "#Person1#: 몇 가지 정보를 여쭤보려고 전화 드렸어요.\n",
      "#Person2#: 통화 상태가 안 좋은데요. 다시 말씀해 주실 수 있나요?\n",
      "#Person1#: 아까 전에 정보를 여쭤보고 싶다고 말했어요.\n",
      "#Person2#: 죄송해요, 연결 상태가 너무 안 좋아요. 제가 다시 전화드릴게요. 아무것도 들리지 않네요.\n",
      "\n",
      "Pred Summary: #Person1#: Hello, is this Mr. Wu?\n",
      "#Person2#: Yes, it is. What can I do for you?\n",
      "#Person1#: I'm calling to ask you a few questions.\n",
      "#Person2#: I'm sorry, the connection is bad. Can you repeat what you said?\n",
      "#Person1#: I said I wanted to ask you some questions.\n",
      "#Person2#: Sorry, the connection is too bad. I'll call you back. I can't hear anything.\n",
      "\n",
      "Gold Summary: #Person1#이 Mr. Wu에게 정보를 문의하려고 전화했으나 연결 상태가 좋지 않았습니다.\n",
      "\n",
      "====================================================================================================\n",
      "Dialogue:\n",
      "#Person1#: 안녕하세요! \n",
      "#Person2#: 아, 안녕하세요! \n",
      "#Person1#: 자기소개 좀 할게요. 제 이름은 Tom이에요. \n",
      "#Person2#: 만나서 반가워요. 제 이름은 Alice예요. 바로 옆집으로 이사 오신 건가요? \n",
      "#Person1#: 네, 맞아요. 여기 오래 사셨어요? \n",
      "#Person2#: 저요? 뭐, 그렇죠. 여기서 산 지 이제 6년 정도 됐어요. 미국에선 오래 사셨나요? \n",
      "#Person1#: 아뇨, 그렇진 않아요. 베트남을 떠나서 미국에 와서 Dallas에서 사촌과 2년 동안 살았어요. Alice는 어디서 일하시나요? \n",
      "#Person2#: 저는 대학에서 수학을 가르치고 있어요. Tom은 무슨 일 하세요? \n",
      "#Person1#: 저는 회사에서 회계사로 일해요. \n",
      "#Person2#: 아, Tom. 만나서 반가웠어요. 이제 가봐야겠어요. 오늘 저녁에 수업이 있어서 대학에 가야 하거든요. \n",
      "#Person1#: 저도 만나게 되어 반가웠어요, Alice. \n",
      "#Person2#: 그럼, 또 봐요! \n",
      "#Person1#: 잘 가요, Alice.\n",
      "\n",
      "Pred Summary: Tom and Alice meet and introduce themselves. They talk about where they are from and where they work. They say goodbye and plan to meet again.\n",
      "\n",
      "Gold Summary: Tom은 새로운 이웃 Alice에게 자기소개를 합니다. Alice는 대학에서 수학을 가르치며 이곳에 산 지 약 6년이 되었습니다.\n",
      "\n",
      "====================================================================================================\n",
      "Dialogue:\n",
      "#Person1#: 디저트로 뭐 먹고 싶어?\n",
      "#Person2#: 뭐가 있어?\n",
      "#Person1#: 사과 파이, 아이스크림, 초콜릿 케이크, 과일 칵테일이 있어.\n",
      "#Person2#: 사과 파이에 아이스크림 얹어줄 수 있어?\n",
      "#Person1#: 물론이지. 사과 파이 아침에 만들었으니까 아주 신선해.\n",
      "#Person2#: 너의 집에서 만든 사과 파이 정말 좋아. 진짜 맛있어. 레모네이드 한 잔 더 마실 수 있을까?\n",
      "#Person1#: 그럼. 냉장고에 있으니까 직접 가져다 마셔.\n",
      "#Person2#: 알았어. 너도 마실 거 있어?\n",
      "#Person1#: 그래, 아이스티 마실래. 레모네이드 옆에 있을 거야.\n",
      "#Person2#: 너는 디저트 안 먹어?\n",
      "#Person1#: 나도 사과 파이 먹을래, 근데 아이스크림은 빼고. 살 좀 빼야 하거든.\n",
      "\n",
      "Pred Summary: #Person1#: What do you want for dessert?\n",
      "#Person2#: What do you have?\n",
      "#Person1#: I have apple pie, ice cream, chocolate cake, and fruit cocktail.\n",
      "#Person2#: Can you put ice cream on the apple pie?\n",
      "#Person1#: Sure. I made the apple pie this morning, so it's really fresh.\n",
      "#Person2#: I love your homemade apple pie. It's so good. Can I have another glass of lemonade?\n",
      "#Person1#: Sure. It's in the fridge, so help yourself.\n",
      "#Person2#: Okay. You want anything to drink?\n",
      "#Person1#: Yeah, I'll have some iced tea. It's next to the lemonade.\n",
      "#Person2#: You're not having dessert?\n",
      "#Person1#: I want some apple pie, but without the ice cream. I need to lose some weight.\n",
      "\n",
      "Gold Summary: #Person2#는 사과 파이에 아이스크림을 얹어 먹고 레모네이드를 한 잔 더 마시고 싶어 합니다. #Person1#는 아이스티와 아이스크림 없는 사과 파이를 먹을 예정인데, 체중을 조절해야 하기 때문입니다.\n",
      "\n",
      "====================================================================================================\n",
      "Dialogue:\n",
      "#Person1#: 도와드릴까요?\n",
      "#Person2#: 이 수표를 현금으로 바꾸고 싶어요.\n",
      "#Person1#: 저희 은행에 계좌가 있으신가요?\n",
      "#Person2#: 네, 여기 제 신분증이에요.\n",
      "#Person1#: 큰돈으로 드릴까요, 작은돈으로 드릴까요?\n",
      "#Person2#: 사실 여행자 수표를 사고 싶어요.\n",
      "#Person1#: 어떤 액면가로 드릴까요?\n",
      "#Person2#: 20달러면 괜찮아요.\n",
      "#Person1#: 전부 여행자 수표로 바꿔드릴까요?\n",
      "#Person2#: 네, 그렇게 해주세요.\n",
      "\n",
      "Pred Summary: #Person1#: Can I help you?\n",
      "#Person2#: I want to change this check into cash.\n",
      "#Person1#: Do you have an account with us?\n",
      "#Person2#: Yes, here is my ID.\n",
      "#Person1#: Would you like it in large bills or small bills?\n",
      "#Person2#: Actually, I want to buy traveler's checks.\n",
      "#Person1#: What denomination would you like?\n",
      "#Person2#: Twenty dollars would be fine.\n",
      "#Person1#: Would you like to change it all into traveler's checks?\n",
      "#Person2#: Yes, please.\n",
      "\n",
      "Gold Summary: #Person1#가 #Person2#가 수표를 현금으로 바꿔 여행자 수표로 교환할 수 있도록 돕습니다.\n",
      "\n",
      "====================================================================================================\n",
      "Dialogue:\n",
      "#Person1#: 안녕하세요, 고객님. 룸서비스입니다. 무엇을 도와드릴까요?\n",
      "#Person2#: 안녕하세요. 관광 일행을 위한 방을 예약하고 싶어요.\n",
      "#Person1#: 알겠습니다. 어떤 방을 원하시나요?\n",
      "#Person2#: 저희 일행이 각기 다른 요구가 있어서 좀 더 자세히 설명해 주실 수 있을까요?\n",
      "#Person1#: 물론입니다. 저희 호텔에는 싱글룸, 더블룸, 스위트룸, 럭셔리 스위트룸 등이 있습니다. 여기 호텔 소개서도 참고하실 수 있습니다.\n",
      "#Person2#: 좋네요. 싱글룸 4개, 더블룸 5개, 스위트룸 3개를 예약하고 싶어요.\n",
      "#Person1#: 알겠습니다. 예약은 언제부터로 하시겠습니까?\n",
      "#Person2#: 내일부터 1월 8일까지, 총 5일간입니다.\n",
      "#Person1#: 알겠습니다. 이제 이 양식을 작성해 주세요.\n",
      "#Person2#: 여기 있어요. 다 괜찮나요?\n",
      "#Person1#: 잠시만요, 고객님. 미리 500위안의 보증금을 내셔야 합니다.\n",
      "#Person2#: 네, 여기 있습니다.\n",
      "#Person1#: 감사합니다. 이 영수증을 보관해 주세요.\n",
      "#Person2#: 감사합니다. 그런데 이 그룹에 대한 할인 혜택이 있나요?\n",
      "#Person1#: 네, 15% 할인이 있습니다.\n",
      "#Person2#: 정말 좋네요. 감사합니다.\n",
      "#Person1#: 천만에요. 모두 즐거운 시간 보내시길 바랍니다.\n",
      "\n",
      "Pred Summary: Dialogue:\n",
      "#Person1#: Hello, customer. This is room service. How may I help you?\n",
      "#Person2#: Hello. I'd like to make a reservation for a group of tourists.\n",
      "#Person1#: Okay. What kind of room would you like?\n",
      "#Person2#: Our group has different needs, so could you please explain in more detail?\n",
      "#Person1#: Of course. Our hotel has single rooms, double rooms, suites, and luxury suites. You can also refer to the hotel brochure.\n",
      "#Person2#: That's great. I'd like to reserve four single rooms, five double rooms, and three suites.\n",
      "#Person1#: Okay. When would you like to make the reservation?\n",
      "#Person2#: From tomorrow to January 8th, for a total of five days.\n",
      "#Person1#: Okay. Please fill out this form.\n",
      "#Person2#: Here you go. Is everything okay?\n",
      "#Person1#: Just a moment, sir. You need to pay a deposit of 500 yuan in advance.\n",
      "#Person2#: Yes, here you go.\n",
      "#Person1#: Thank you. Please keep this receipt.\n",
      "#Person2#: Thank you. By the way, is there any discount for this group?\n",
      "#Person1#: Yes, there is a 15% discount.\n",
      "#Person2#: That's great. Thank you.\n",
      "#Person1#: You're welcome. Have a great time.\n",
      "\n",
      "Gold Summary: #Person1#은 #Person2#가 관광 일행을 위해 싱글룸 4개, 더블룸 5개, 스위트룸 3개를 내일부터 1월 8일까지 5일간 예약하도록 도와주고, 500위안의 보증금을 받고 #Person2#에게 15% 할인을 제공합니다.\n",
      "\n",
      "====================================================================================================\n",
      "Dialogue:\n",
      "#Person1#: 호텔 방 예약할 수 있나요?\n",
      "#Person2#: 물론입니다. 성함이 어떻게 되시나요?\n",
      "#Person1#: John Sandals입니다.\n",
      "#Person2#: 도와드리게 되어 기쁩니다. 언제 방이 필요하신지 말씀해 주세요.\n",
      "#Person1#: 4월 14일부터 4월 17일까지 방이 필요할 것 같아요.\n",
      "#Person2#: 저희 방 요금이 예상보다 약간 높을 수 있습니다. 괜찮으신가요?\n",
      "#Person1#: 얼마인지 말씀해 주시면 생각해볼게요.\n",
      "#Person2#: 네, 세금 제외하고 하룻밤에 308달러입니다.\n",
      "#Person1#: 하룻밤에 308달러요? 괜찮네요.\n",
      "#Person2#: 흡연실을 원하시나요, 금연실을 원하시나요?\n",
      "#Person1#: 금연실로 부탁드려요.\n",
      "#Person2#: 금연실에 퀸 사이즈 침대가 있는 방으로 준비하겠습니다. 전화번호를 주시면 예약 완료하겠습니다.\n",
      "#Person1#: 네, #PhoneNumber#입니다.\n",
      "#Person2#: 저희와 예약해 주셔서 감사합니다. 4월에 뵙기를 기대하겠습니다!\n",
      "\n",
      "Pred Summary: Dialogue:\n",
      "#Person1#: Can I book a hotel room?\n",
      "#Person2#: Of course. What is your name?\n",
      "#Person1#: John Sandals.\n",
      "#Person2#: I'm happy to help. When do you need the room?\n",
      "#Person1#: I think I'll need it from April 14th to April 17th.\n",
      "#Person2#: Our room rates may be slightly higher than expected. Is that okay?\n",
      "#Person1#: Let me know how much it is and I'll think about it.\n",
      "#Person2#: Yes, it's $308 per night, not including tax.\n",
      "#Person1#: $308 per night? That's okay.\n",
      "#Person2#: Would you like a smoking room or a non-smoking room?\n",
      "#Person1#: I'd like a non-smoking room.\n",
      "#Person2#: I'll reserve a room with a queen-sized bed in a non-smoking room. Please give me your phone number and I'll confirm the reservation.\n",
      "#Person1#: Yes, it's #PhoneNumber#.\n",
      "#Person2#: Thank you for booking with us. We look forward to seeing you in April!\n",
      "\n",
      "Gold Summary: John Sandals가 4월 14일부터 17일까지 금연실 퀸 사이즈 침대 방을 예약했습니다.\n",
      "\n",
      "====================================================================================================\n",
      "Dialogue:\n",
      "#Person1#: 토론토 가는 직항 있어요?\n",
      "#Person2#: 죄송하지만 없어요. 대신 Northwest Airlines로 베를린까지 가시고, 거기서 Canada Airline으로 토론토까지 연결편을 타시면 됩니다. 이게 가장 경제적인 옵션인데, 가격은 1,900달러예요.\n",
      "#Person1#: 비행기는 언제 출발하나요?\n",
      "#Person2#: 오전 8시에 출발해요. 경유를 한 번 해야 한다는 점 참고하세요.\n",
      "#Person1#: 경유 시간은 얼마나 걸려요?\n",
      "#Person2#: 한 시간도 안 걸려요.\n",
      "#Person1#: 베를린에서는 연결편까지 대기 시간이 얼마나 되죠?\n",
      "#Person2#: 길지 않고, 딱 한 시간입니다.\n",
      "#Person1#: 그래서 전체 여행 시간은 대략 몇 시간 정도인가요?\n",
      "#Person2#: 13시간 정도 돼요.\n",
      "#Person1#: 계산해볼게요. 네, 제 일정에 맞네요. 고맙습니다!\n",
      "#Person2#: 천만에요!\n",
      "\n",
      "Pred Summary: The customer asks if there is a direct flight to Toronto. The agent says there is no direct flight, but there is a connecting flight through Berlin. The agent explains that this is the most economical option and the price is $1,900. The customer asks when the flight departs and the agent says it leaves at 8 am. The customer asks how long the layover is and the agent says it is only one hour. The customer asks how long the total travel time is and the agent says it is about 13 hours. The customer says they will calculate and thanks the agent. The agent says you're welcome.\n",
      "\n",
      "Gold Summary: #Person1#은 토론토로 가는 비행편을 찾고 있으며, #Person2#은 #Person1#에게 Northwest Airlines를 통해 베를린으로 가고, Canada Airline으로 토론토까지 연결편을 이용할 것을 제안합니다.\n",
      "\n",
      "====================================================================================================\n",
      "Dialogue:\n",
      "#Person1#: 죄송하지만, 태그랑 영수증을 잃어버렸는데 어떻게 해야 하나요?\n",
      "#Person2#: 알겠습니다. 짐이 어떤 건지요? 혹시 태그 번호나 색깔 기억하시나요?\n",
      "#Person1#: 가방이에요. 파란색입니다.\n",
      "#Person2#: 가방에 대해 좀 더 자세히 말씀해 주시겠어요?\n",
      "#Person1#: 네모나고 가죽 커버가 되어 있어요.\n",
      "#Person2#: 확인해 볼게요. 혹시 이 가방 맞나요?\n",
      "#Person1#: 네, 맞아요.\n",
      "#Person2#: 열쇠 카드를 보여주시겠어요?\n",
      "#Person1#: 여기 있습니다.\n",
      "#Person2#: 네, 이제 가방을 가져가셔도 됩니다.\n",
      "\n",
      "Pred Summary: #Person1#: I'm sorry, but I lost my tag and receipt. What should I do?\n",
      "#Person2#: Okay. What is your luggage? Do you remember the tag number or color?\n",
      "#Person1#: It's a bag. It's blue.\n",
      "#Person2#: Can you tell me more details about your bag?\n",
      "#Person1#: It's square and has a leather cover.\n",
      "#Person2#: Let me check. Is this your bag?\n",
      "#Person1#: Yes, it is.\n",
      "#Person2#: Can you show me your key card?\n",
      "#Person1#: Here it is.\n",
      "#Person2#: Yes, you can take your bag now.\n",
      "\n",
      "Gold Summary: #Person1#이 태그와 영수증을 분실하였으나, #Person2#의 도움으로 가방을 찾았습니다.\n",
      "\n",
      "====================================================================================================\n",
      "Dialogue:\n",
      "#Person1#: Mr. Phillips? 구입 요청이 있는데 승인해 주셔야 해요.\n",
      "#Person2#: 어디 보자, 여기에 모뎀이 있는 486 컴퓨터네. 이거 어디로 가는 거죠?\n",
      "#Person1#: 아마 Ms. Wilson의 사무실로 갈 거예요.\n",
      "#Person2#: 그녀와 통화 좀 해보세요. 이걸 확실히 해야겠어요.\n",
      "\n",
      "Pred Summary: #Person1#: Mr. Phillips? I need to get your approval on a purchase request.\n",
      "#Person2#: Let me see, here’s a 486 computer with a modem. Where is this going?\n",
      "#Person1#: I think it’s going to Ms. Wilson’s office.\n",
      "#Person2#: Call her and make sure. We need to be sure about this.\n",
      "\n",
      "Gold Summary: #Person1#은 Mr. Phillips의 승인 요청을 했고, Mr. Phillips는 요청 내용을 확인하고 싶어합니다.\n",
      "\n",
      "====================================================================================================\n",
      "Dialogue:\n",
      "#Person1#: 그럼 저는 가자미로 할게요.\n",
      "#Person2#: 알겠습니다, 다른 손님들은 어떻게 하시겠습니까?\n",
      "#Person1#: 나머지 사람들은 오늘의 특별 메뉴로 주세요.\n",
      "#Person2#: 네.\n",
      "#Person1#: 죄송한데, 저는 다른 사람들과 같은 게 아니라 가자미를 주문했거든요. 바꿔주실 수 있나요?\n",
      "#Person2#: 죄송하지만, 가자미는 다 나갔습니다.\n",
      "#Person1#: 그럼 돼지까스로 할게요.\n",
      "#Person2#: 네, 알겠습니다. 잠시만 기다려 주세요.\n",
      "\n",
      "Pred Summary: #Person1#: I'll have the flounder.\n",
      "#Person2#: Okay, what about the other guests?\n",
      "#Person1#: The rest of them can have the special of the day.\n",
      "#Person2#: Okay.\n",
      "#Person1#: I'm sorry, but I didn't order the same thing as the others. Can you change it?\n",
      "#Person2#: Sorry, but we're out of flounder.\n",
      "#Person1#: Okay, I'll have the pork chop then.\n",
      "#Person2#: Okay, I'll be right back.\n",
      "\n",
      "Gold Summary: #Person1#는 가자미를 주문했으나 다른 사람들과 같은 요리가 나왔습니다. #Person2#는 가자미가 없다고 하여 #Person1#는 돼지까스로 변경합니다.\n",
      "\n",
      "====================================================================================================\n",
      "Dialogue:\n",
      "#Person1#: 컴퓨터 관련 일을 해본 경험이 있으신가요?\n",
      "#Person2#: 네, 3년 동안 데이터 입력 업무를 했습니다.\n",
      "#Person1#: 어떤 소프트웨어를 사용할 수 있나요?\n",
      "#Person2#: 윈도우와 도스를 다룰 줄 알고, 자바와 C 프로그래밍 언어에도 꽤 익숙해요.\n",
      "#Person1#: 다른 컴퓨터 관련 자격증이 있나요?\n",
      "#Person2#: ACRE 자격증 2급을 가지고 있습니다.\n",
      "#Person1#: 관리 정보를 처리할 때 PC를 사용할 줄 아시나요?\n",
      "#Person2#: 죄송하지만, 그 부분은 익숙하지 않아요. 하지만 빨리 배울 수 있을 거라고 확신합니다. 제가 이해력이 빠른 편이라 어떤 문제든 해결할 수 있을 겁니다.\n",
      "\n",
      "Pred Summary: #Person1#: Do you have any experience working with computers?\n",
      "#Person2#: Yes, I worked as a data entry clerk for three years.\n",
      "#Person1#: What software can you use?\n",
      "#Person2#: I can use Windows and DOS, and I'm pretty familiar with Java and C programming languages.\n",
      "#Person1#: Do you have any other computer-related certifications?\n",
      "#Person2#: I have a second-grade ACRE certification.\n",
      "#Person1#: Can you use a PC to handle management information?\n",
      "#Person2#: I'm sorry, but I'm not familiar with that. However, I'm confident that I can learn quickly. I have a quick understanding and can solve any problem.\n",
      "\n",
      "Gold Summary: #Person1#은 데이터 입력 업무를 3년 동안 했던 #Person2#를 인터뷰하고 있습니다. #Person2#는 다양한 소프트웨어와 프로그래밍 언어에 익숙하며, 컴퓨터 관련 자격증도 가지고 있고 빠르게 새로운 업무를 배울 수 있다고 답변합니다.\n",
      "\n",
      "====================================================================================================\n",
      "Dialogue:\n",
      "#Person1#: 안녕하세요, 크레딧 서비스에 오신 걸 환영합니다. 어떻게 도와드릴까요?\n",
      "#Person2#: 신용카드 신청에 관심이 있어요.\n",
      "#Person1#: 기존 고객이신가요?\n",
      "#Person2#: 네, 몇 년 동안 귀사의 체크카드가 포함된 계좌를 가지고 있었어요. 이제 신용카드로 업그레이드하려고 합니다.\n",
      "#Person1#: 왜 지금까지 신용카드를 신청하지 않으셨어요? 대부분 젊은 사람들은 기회가 생기면 바로 하곤 하던데요.\n",
      "#Person2#: 계좌 만들 때는 학생이라서 그랬고, 몇 년 전에 졸업해서 지금은 안정적인 급여가 있어서 이제가 적기라고 생각했어요.\n",
      "#Person1#: 정말 현명한 판단이시네요. 신입 졸업생들이 신용카드를 신청하고 나서 과소비하다가 상환을 못하는 경우가 많거든요.\n",
      "#Person2#: 제 계좌 명세서를 보시면 아시겠지만, 한 번도 마이너스 통장을 쓴 적이 없어요. 항상 조심하고 있어요.\n",
      "\n",
      "Pred Summary: #Person1#: Hello, welcome to the credit service. How can I help you?\n",
      "#Person2#: I'm interested in applying for a credit card.\n",
      "#Person1#: Are you an existing customer?\n",
      "#Person2#: Yes, I've had an account with your bank for a few years, including a check card. Now I want to upgrade to a credit card.\n",
      "#Person1#: Why didn't you apply for a credit card earlier? Most young people do it as soon as they have the opportunity.\n",
      "#Person2#: When I opened the account, I was a student, and now that I've graduated a few years ago and have a stable income, I think now is the right time.\n",
      "#Person1#: That's a wise decision. Many new graduates apply for credit cards and end up over-spending and not being able to repay.\n",
      "#Person2#: If you look at my account statements, you'll see that I've never used a negative balance. I'm always careful.\n",
      "\n",
      "Gold Summary: #Person2#는 신용카드 신청에 관심이 있습니다. #Person1#은 더 일찍 신용카드를 신청할 것을 제안하지만, #Person2#는 이제 자격이 있다고 생각합니다.\n",
      "\n",
      "====================================================================================================\n",
      "Dialogue:\n",
      "#Person1#: 안녕하세요, 시티 택시입니다.\n",
      "#Person2#: 안녕하세요. 토요일 아침에 공항으로 가는 택시를 예약하고 싶습니다.\n",
      "#Person1#: 어디에서 출발하시나요?\n",
      "#Person2#: 유니언 스트리트에 있는 가든 호텔입니다. 저희 셋이 같이 탈 예정이에요. 요금이 얼마일까요?\n",
      "#Person1#: 약 60달러입니다.\n",
      "#Person2#: 60달러요? 저희 각자요?\n",
      "#Person1#: 아, 그게 총 금액입니다. 몇 시에 출발하시길 원하시나요?\n",
      "#Person2#: 아침 7시에요.\n",
      "#Person1#: 알겠습니다! 그러면 저희가 7시에 호텔로 데리러 가겠습니다.\n",
      "#Person2#: 정말 감사합니다. 안녕히 계세요.\n",
      "\n",
      "Pred Summary: #Person1#: Hello, City Taxi.\n",
      "#Person2#: Hello. I'd like to book a taxi to the airport on Saturday morning.\n",
      "#Person1#: Where are you leaving from?\n",
      "#Person2#: The Garden Hotel on Union Street. There will be three of us. How much will it cost?\n",
      "#Person1#: About $60.\n",
      "#Person2#: $60? Per person?\n",
      "#Person1#: Oh, that's the total amount. What time would you like to leave?\n",
      "#Person2#: At 7:00 a.m.\n",
      "#Person1#: Okay! We'll come to pick you up at 7:00 a.m. at the hotel.\n",
      "#Person2#: Thank you very much. Goodbye.\n",
      "\n",
      "Gold Summary: #Person1#은 #Person2#가 토요일 아침에 공항으로 가는 택시를 60달러에 예약할 수 있도록 도와줍니다.\n",
      "\n",
      "====================================================================================================\n",
      "Dialogue:\n",
      "#Person1#: 안녕하세요. 제 이름은 Carl입니다. 만나서 반가워요.\n",
      "#Person2#: 저도 만나서 반가워요. 제 이름은 Francisco입니다.\n",
      "#Person1#: 뭐라고요?\n",
      "#Person2#: Francisco요, 그런데 페루에 있는 가족과 친구들은 다 Pancho라고 부릅니다.\n",
      "#Person1#: 그래요, Pancho. 그럼 가족 이야기를 좀 해주세요.\n",
      "#Person2#: 음, 형제가 일곱 명 있고, 여동생도 여섯 명 있어요.\n",
      "#Person1#: 와, 정말 대가족이네요. Pancho, 그럼 당신이 제일 맏이인가요?\n",
      "#Person2#: 아니요. 저는 가족에서 두 번째에요.\n",
      "#Person1#: 부모님은 뭘 하세요?\n",
      "#Person2#: 아버지는 페루 리마에서 택시 기사예요. 힘든 일인데 가족을 부양하시려고 열심히 일하세요.\n",
      "#Person1#: 어머니는요?\n",
      "#Person2#: 어머니는 형과 누나 몇 분과 함께 작은 가게를 운영하셔요.\n",
      "#Person1#: 어떤 가게인가요?\n",
      "#Person2#: 주로 빵, 계란, 음료수, 쌀, 설탕, 과자 같은 일상적인 음식을 팔아요.\n",
      "\n",
      "Pred Summary: #Person1#: Hello. My name is Carl. Nice to meet you.\n",
      "#Person2#: Nice to meet you too. My name is Francisco.\n",
      "#Person1#: What?\n",
      "#Person2#: Francisco, but my family and friends in Peru all call me Pancho.\n",
      "#Person1#: Okay, Pancho. Tell me about your family.\n",
      "#Person2#: Well, I have seven brothers and six sisters.\n",
      "#Person1#: Wow, that’s a big family. Pancho, are you the oldest?\n",
      "#Person2#: No. I’m the second oldest.\n",
      "#Person1#: What do your parents do?\n",
      "#Person2#: My father is a taxi driver in Lima, Peru. It’s a hard job, but he works hard to support his family.\n",
      "#Person1#: And your mother?\n",
      "#Person2#: My mother runs a small shop with my older brother and sisters.\n",
      "#Person1#: What kind of shop?\n",
      "#Person2#: We sell everyday things like bread, eggs, drinks, rice, sugar, and snacks.\n",
      "\n",
      "Gold Summary: Francisco와 Carl은 처음 만납니다. Francisco는 가족에서 두 번째로 나이가 많다고 말합니다. 그의 아버지는 택시 기사이고, 그의 어머니는 가게를 운영하십니다.\n",
      "\n",
      "====================================================================================================\n",
      "Dialogue:\n",
      "#Person1#: 안녕, Jane. 너랑 얘기 나누고 싶은 게 있어. 시간 좀 있어?\n",
      "#Person2#: 물론이지. 방금 11시 수업 끝났어. 오후까지는 수업 없어.\n",
      "#Person1#: 잘됐네. 방금 컴퓨터 센터에서 이메일을 받았어. 이번 여름에 학교 웹사이트 작업 도와줄 학생들을 찾고 있대. 보조 두 명이 필요하대. 혹시 관심 있는 사람 아느냐고 묻길래 너 생각났어.\n",
      "#Person2#: 재미있겠네. 나 타자 칠 줄은 아는데, 많이 경험이 있진 않아.\n",
      "#Person1#: 음, 특별한 경험이나 지식은 필요 없을 것 같아. 네가 컴퓨터랑 인터넷에 관심도 많으니까 잘 할 것 같아. 그리고 돈도 괜찮게 준대. 어때?\n",
      "#Person2#: 좋은 경험이 될 것 같아. 나 생각해줘서 고마워.\n",
      "\n",
      "Pred Summary: #Person1#: Hey, Jane. I have something I want to talk to you about. Do you have a minute?\n",
      "#Person2#: Sure. I just finished my 11am class. I don't have any classes until the afternoon.\n",
      "#Person1#: Good. I just got an email from the computer center. They're looking for students to help with the school website this summer. They need two assistants. I thought of you when they asked if I knew anyone interested.\n",
      "#Person2#: That sounds fun. I know how to type, but I don't have a lot of experience.\n",
      "#Person1#: Hmm, I don't think any special experience or knowledge is necessary. You seem interested in computers and the internet, so I think you'll do well. And they pay pretty well too. What do you think?\n",
      "#Person2#: It sounds like a good experience. Thanks for thinking of me.\n",
      "\n",
      "Gold Summary: #Person1#가 #Person2#에게 컴퓨터 센터에서 학교 웹사이트 작업을 도와줄 학생을 찾고 있다고 알리고, 특별한 경험이 없어도 된다고 말한다. #Person2#는 이에 관심을 보인다.\n",
      "\n",
      "====================================================================================================\n",
      "Dialogue:\n",
      "#Person1#: 아, 배고파 죽겠네.\n",
      "#Person2#: 나도 그래. 외식할까? 길 아래에 새로 생긴 프랑스 식당 있더라.\n",
      "#Person1#: 아, 됐어. 지난주에 친구랑 갔는데, 메뉴가 전부 프랑스어라서 무슨 말인지 하나도 모르겠더라.\n",
      "#Person2#: 그러니까 그런 데 비싼 돈을 내고 가는 거지.\n",
      "#Person1#: 그럴 수도 있지. 하지만 솔직히 말해서, 비싸기만 하고 마음에 드는 게 하나도 없었어.\n",
      "#Person2#: 그럼 다음 블록에 있는 이탈리아 식당은 어때?\n",
      "#Person1#: 글쎄, 지난주에 거의 매일 외식했거든. 오늘은 집에서 먹자.\n",
      "#Person2#: 근데 나 요리할 기분 아닌데.\n",
      "#Person1#: 그럼 내가 할게. 사실 이제 식당 음식은 질렸어. 그냥 집밥 먹고 싶어.\n",
      "\n",
      "Pred Summary: #Person1#: I'm so hungry.\n",
      "#Person2#: Me too. Let's go out to eat. There's a new French restaurant down the street.\n",
      "#Person1#: Oh, no thanks. I went there last week with a friend, but we couldn't understand anything on the menu because it was all in French.\n",
      "#Person2#: That's why you pay so much money to go there.\n",
      "#Person1#: That could be. But honestly, it was expensive and I didn't like anything.\n",
      "#Person2#: What about the Italian restaurant on the next block?\n",
      "#Person1#: Hmm, we went out to eat almost every day last week. Let's eat at home today.\n",
      "#Person2#: But I don't feel like cooking.\n",
      "#Person1#: I'll do it then. I'm actually tired of restaurant food. I just want some home cooking.\n",
      "\n",
      "Gold Summary: #Person2#가 외식을 제안하지만 #Person1#은 지난주 거의 매일 외식을 했기 때문에서 집밥을 원하며 직접 요리하기로 합니다.\n",
      "\n",
      "====================================================================================================\n",
      "Dialogue:\n",
      "#Person1#: 저, 불만이 있어요. 열 분 동안 테이블에서 기다렸는데, 웨이터가 드디어 와서 주문을 받았어요. 그런데 나온 음식이 제가 주문한 게 아니더라고요.\\n#Person2#: 정말 죄송합니다. 오늘 밤은 평소보다 많이 바빠서요. 보상으로, 오늘 식사는 무료로 하겠습니다.\n",
      "\n",
      "Pred Summary: #Person1#: I have a complaint. I waited at the table for ten minutes, and the waiter finally came to take my order. But the food that came out wasn't what I ordered.\\n#Person2#: I'm so sorry. It's been busier than usual tonight. As a compensation, I'll make your meal free today.\n",
      "\n",
      "Gold Summary: #Person1#이 불만을 제기하자, #Person2#가 그녀의 식사를 무료로 제공하기로 했습니다.\n",
      "\n",
      "====================================================================================================\n",
      "Dialogue:\n",
      "#Person1#: 생각만 해도 신나요! 하와이로 가는 첫 여행이에요. 그런데 거기 가면 길을 잃을까 걱정돼요. \n",
      "#Person2#: 걱정하지 마세요. 도착하면 전화 주세요. 제가 여기저기 안내해 드릴게요.\n",
      "\n",
      "Pred Summary: #Person1#: I'm so excited! It's my first trip to Hawaii. But I'm worried about getting lost. \n",
      "#Person2#: Don't worry. Call me when you get there. I'll show you around.\n",
      "\n",
      "Gold Summary: #Person1#은 하와이 여행 중 길을 잃을까 걱정하며, #Person2#은 안내를 제안합니다.\n",
      "\n",
      "====================================================================================================\n",
      "Dialogue:\n",
      "#Person1#: 조, 너 정말 위험하게 살아왔구나, 그렇지?\n",
      "#Person2#: 네, 맞아요.\n",
      "#Person1#: 가장 심각했던 사고가 언제였어?\n",
      "#Person2#: 작년이요. 영국 그랑프리 도중에 벽에 부딪혔어요. 차가 완전히 부서지고 왼쪽 다리가 부러졌지만 다행히 아무도 다치지 않았어요.\n",
      "#Person1#: 그게 네가 가장 죽음에 가까웠던 순간이야?\n",
      "#Person2#: 아니요, 최근에 정말 무서운 경험을 했어요. 진짜 깜짝 놀랐어요. 언제 죽을지 모른다고 생각했어요.\n",
      "#Person1#: 정말? 그게 언제였어?\n",
      "#Person2#: 이 스튜디오로 오는 길이었어요. 점심시간에 런던을 운전해서 지나가야 했죠.\n",
      "\n",
      "Pred Summary: #Person1#: Jo, you really have lived dangerously, haven't you?\n",
      "#Person2#: Yes, I have.\n",
      "#Person1#: What was the most serious accident you had?\n",
      "#Person2#: Last year. I crashed into a wall during the British Grand Prix. The car was completely destroyed and my left leg was broken, but fortunately no one was hurt.\n",
      "#Person1#: That was the closest you've come to death?\n",
      "#Person2#: No, I had a really scary experience recently. I was really shocked. I thought I was going to die.\n",
      "#Person1#: Really? When was that?\n",
      "#Person2#: It was on the way here to this studio. I had to drive through London at lunchtime.\n",
      "\n",
      "Gold Summary: #Person2#은 위험한 삶을 살아왔으며, 과거에 겪은 심각한 사고와 최근의 무서운 경험에 대해 #Person1#과 대화합니다.\n",
      "\n",
      "====================================================================================================\n",
      "Dialogue:\n",
      "#Person1#: 안녕하세요, Mrs. Turnbull. 잘 지내세요? \n",
      "#Person2#: 네, 잘 지내요. 감사합니다. 아드님 Jack은 어떻게 지내나요? \n",
      "#Person1#: 좀 피곤해요. 매일 아침 여덟 시에 학교에 가고, 오후 네 시가 넘어서야 집에 와요. 그 후에 차를 마시고 숙제를 해요. 숙제를 끝내는 데 보통 두 시간 정도 걸리거든요. \n",
      "#Person2#: 안됐네요. 요즘 아이들이 학교에서 열심히 하네요, 그렇죠? Jack은 학교를 좋아하나요? \n",
      "#Person1#: 네, 학교를 좋아해요. 선생님들도 잘해주셔서 큰 도움이 되죠. \n",
      "#Person2#: 맞아요, 큰 차이가 나죠. Jack은 버스를 타고 가나요? \n",
      "#Person1#: 아니요, 걸어서 가요. 걷는 걸 좋아해서 모퉁이에서 친구들을 만나 같이 가요. \n",
      "#Person2#: 비가 올 때는 어떻게 해요? \n",
      "#Person1#: 남편이 차로 데려다줘요. 사무실 가는 길에 학교를 지나거든요.\n",
      "\n",
      "Pred Summary: #Person1#: Hello, Mrs. Turnbull. How are you? \n",
      "#Person2#: I'm fine, thank you. How is your son Jack? \n",
      "#Person1#: He's a bit tired. He goes to school at 8 every morning and comes home after 4 in the afternoon. After that, he has a snack and does his homework. It usually takes him about two hours to finish his homework. \n",
      "#Person2#: Poor thing. Kids are working hard these days, aren't they? Does Jack like school? \n",
      "#Person1#: Yes, he likes school. The teachers are nice to him, which helps a lot. \n",
      "#Person2#: That makes a big difference. Does Jack take the bus? \n",
      "#Person1#: No, he walks. He likes walking, so he meets his friends at the corner and they walk together. \n",
      "#Person2#: What about when it rains? \n",
      "#Person1#: His dad drives him. He passes by the school on his way to work.\n",
      "\n",
      "Gold Summary: #Person1#은 Mrs. Turnbull에게 아들 Jack이 학교 때문에 피곤하지만, 학교를 좋아한다고 말합니다. Jack은 보통 걸어서 학교에 가지만, 비가 오면 남편이 차로 데려다줍니다.\n",
      "\n",
      "====================================================================================================\n",
      "Dialogue:\n",
      "#Person1#: 안녕, Craig! 잘 지내? \n",
      "#Person2#: 별로야. 감기가 너무 심하게 걸렸어. \n",
      "#Person1#: 정말? 그럼 큰일이지! 집에서 누워서 푹 쉬어야지. 쉬는 게 진짜 중요해. \n",
      "#Person2#: 맞아, 네 말이 맞아. \n",
      "#Person1#: 그럼 약은 먹었어? \n",
      "#Person2#: 아니, 아직 안 먹었어. \n",
      "#Person1#: 그러면 마늘을 좀 다져서 닭육수에 끓여봐. 그거 한 컵씩 반시간마다 마시면 정말 효과 있어! \n",
      "#Person2#: 으악!\n",
      "\n",
      "Pred Summary: #Person1#: Hey, Craig! How are you? \n",
      "#Person2#: Not good. I have a really bad cold. \n",
      "#Person1#: Really? That's terrible! You should stay home and rest. Rest is really important. \n",
      "#Person2#: Yeah, you're right. \n",
      "#Person1#: So have you taken any medicine? \n",
      "#Person2#: No, not yet. \n",
      "#Person1#: Well, then try to crush some garlic and boil it in chicken broth. Drink a cup every half hour and it'll really help! \n",
      "#Person2#: Ew!\n",
      "\n",
      "Gold Summary: Craig는 심한 감기에 걸렸습니다. #Person1#는 그에게 푹 쉬고 닭육수에 마늘을 넣어 마셔보라고 제안합니다.\n",
      "\n",
      "====================================================================================================\n",
      "Dialogue:\n",
      "#Person1#: 안녕, 릴리! 다시 만나게 돼서 정말 반가워. \n",
      "#Person2#: 그래, 나도 반가워. 이번 겨울 휴가가 특히 길었지. 뭐 하고 지냈어? \n",
      "#Person1#: 별거 없었어. 고등학교 친구들이랑 모임도 하고, 인터넷도 하면서 오래전부터 읽고 싶었던 책 몇 권 읽었어. 너는 어땠어? \n",
      "#Person2#: 알잖아, 나 여행 정말 좋아하잖아. 이번 긴 휴가를 잘 활용해서 정말 재미있게 보냈어.\n",
      "\n",
      "Pred Summary: #Person1#: Hey, Lily! It’s so good to see you again. \n",
      "#Person2#: Yeah, I’m glad to see you too. This winter break was especially long. What did you do? \n",
      "#Person1#: Nothing special. I met up with some of my high school friends, surfed the internet, and read a few books that I’ve been meaning to read for a while. What about you? \n",
      "#Person2#: You know I love to travel. I really made the most of this long break.\n",
      "\n",
      "Gold Summary: #Person1#과 #Person2#는 서로 겨울 휴가 동안 무엇을 했는지 이야기합니다.\n",
      "\n",
      "====================================================================================================\n",
      "Dialogue:\n",
      "#Person1#: 너 미국에 있는 이모랑 어떻게 연락해? \n",
      "#Person2#: 아, 한 달에 한 번 전화해. \n",
      "#Person1#: 그거 되게 비싸지 않아? \n",
      "#Person2#: 응, 맞아. \n",
      "#Person1#: 인터넷으로 이메일 보내면 되잖아? \n",
      "#Person2#: 그게 편하고 저렴해? \n",
      "#Person1#: 물론이지. 인터넷으로 매일 이메일을 주고받을 수 있어. 게다가 인터넷 전화도 할 수 있어. \n",
      "#Person2#: 진짜? 듣고 나니까 너무 좋다. 근데 인터넷에 어떻게 접속하는지 몰라. 좀 가르쳐 줄 수 있어? \n",
      "#Person1#: 물론이지. 내가 알려줄게. \n",
      "#Person2#: 정말 감사할게.\n",
      "\n",
      "Pred Summary: Person1 asks Person2 how they communicate with their aunt in the US. Person2 says they call her once a month, but it's expensive. Person1 suggests using email and internet phone, which are cheaper and more convenient. Person2 is interested in learning how to use the internet, and Person1 offers to teach them.\n",
      "\n",
      "Gold Summary: #Person1#은 #Person2#에게 미국에 있는 이모와 인터넷을 통해 연락하는 방법을 알려주겠다고 합니다.\n",
      "\n",
      "====================================================================================================\n",
      "Dialogue:\n",
      "#Person1#: 진짜야?\n",
      "#Person2#: 그런 것 같아. 안나가 이제 아이가 네 명인데 또 임신했대.\n",
      "#Person1#: 와, 아이가 그렇게 많은데도 정말 멋있어 보여. 임신 중인데도 프라다 옷을 입고 있잖아!\n",
      "#Person2#: 그게 바로 안나지. 스타일리시한 이탈리아 여성의 이미지를 잘 유지하고 있네. 저기 온다.\n",
      "#Person1#: 빛이 나고 있어. 임신해서 그런가 봐.\n",
      "#Person2#: 응, 아니면 비싼 이탈리아식 피부관리 덕분일지도 몰라.\n",
      "\n",
      "Pred Summary: #Person1#: Really?\n",
      "#Person2#: I think so. Anna has four kids already and she’s pregnant again.\n",
      "#Person1#: Wow, she looks so cool. She’s pregnant but she’s wearing Prada!\n",
      "#Person2#: That’s Anna for you. She’s really maintaining the image of a stylish Italian woman. Here she comes.\n",
      "#Person1#: She’s glowing. Maybe it’s because she’s pregnant.\n",
      "#Person2#: Yeah, or maybe it’s because of her expensive Italian skin care.\n",
      "\n",
      "Gold Summary: #Person1#와 #Person2#는 임신했지만 여전히 패셔너블한 안나에 대해 이야기한다.\n",
      "\n",
      "====================================================================================================\n",
      "Dialogue:\n",
      "#Person1#: 야, 수영장 열렸어! \n",
      "#Person2#: 오늘부터 열렸어. 현충일이 학교 학년말이 끝나고 여름이 시작되는 날이거든. \n",
      "#Person1#: 이제 애들이 밖에 나가야 할 때가 왔네... \n",
      "#Person2#: ...그리고 우리는 새 비키니 입고 선탠하러 나가야겠지. \n",
      "#Person1#: 나는 그렇지 않아. 우리 대만 사람들은 선탠하는 거 안 좋아해. \n",
      "#Person2#: 요즘에는 그게 현명한 선택이야, 피부암에 대한 뉴스도 많잖아. 야, 다들 왔나 봐! 우리가 해냈다!\n",
      "\n",
      "Pred Summary: #Person1#: Hey, the pool is open! \n",
      "#Person2#: It opened today. Memorial Day is the day that school ends and summer begins. \n",
      "#Person1#: Now it's time for the kids to go outside... \n",
      "#Person2#: ...and we're going to go out in our new bikinis and get a tan. \n",
      "#Person1#: Not me. Taiwanese people don't like to tan. \n",
      "#Person2#: These days, that's a smart choice, there's a lot of news about skin cancer. Hey, everyone's here! We did it!\n",
      "\n",
      "Gold Summary: #Person2#는 여름이 시작될 때 선탠을 하고 싶어 하지만, #Person1#은 선탠을 선호하지 않는다.\n",
      "\n",
      "====================================================================================================\n",
      "Dialogue:\n",
      "#Person1#: 안녕, Nancy. 어떻게 지내? \n",
      "#Person2#: 안녕, Tom. 커피 한 잔 할래? \n",
      "#Person1#: 지금은 괜찮아. 차를 새로 사야 하는데, 내 오래된 차가 고장 났어. \n",
      "#Person2#: 아, 중고차 광고 본 적 있어? \n",
      "#Person1#: 중고차를 말하는 거야? \n",
      "#Person2#: 아니, 그냥 개인 판매자들 얘기한 거야. \n",
      "#Person1#: 그런데 다른 사람의 문제를 떠안게 될 수도 있잖아. \n",
      "#Person2#: 음, 그럼 중고차는 어때? 요즘은 상태 좋은 것도 많아. \n",
      "#Person1#: 그래도, 어떻게 될지 모르니까 좀 꺼려져. \n",
      "#Person2#: 아, 그럼 새 차는 어때? 요즘은 대출도 잘 나와서 새 차 몰고 다니면 기분 좋을걸? \n",
      "#Person1#: 그래, 한번 알아보자. 신문 있어? \n",
      "\n",
      "Pred Summary: Tom and Nancy are talking about Tom's car. Tom's car is broken and he needs to buy a new one. Nancy suggests looking at used cars, but Tom is hesitant. Nancy then suggests looking at new cars and suggests that they look in the newspaper for options.\n",
      "\n",
      "Gold Summary: Tom은 차를 새로 사려고 합니다. Nancy는 개인 판매자와 중고차 구매를 제안하지만, Tom은 새 차를 더 긍정적으로 생각합니다.\n",
      "\n",
      "====================================================================================================\n",
      "Dialogue:\n",
      "#Person1#: 너 바에서 얘기하던 그 남자는 누구야? 그 남자가 너한테 관심 있는 것 같던데. \n",
      "#Person2#: 응, 그냥 얘기하다가 결국 그가 나한테 데이트 신청했어. 번호는 줬는데, 실제로 데이트할지는 모르겠어. \n",
      "#Person1#: 그래? 왜? \n",
      "#Person2#: 좋은 사람이긴 한데, 왠지 서로 잘 맞는 것 같진 않아서 괜히 기대하게 하고 싶지 않아. \n",
      "#Person1#: 뭐, 너무 빨리 판단하지 마. 나도 전 남자친구랑 처음엔 그렇게 잘 맞지 않았는데, 몇 번 만나보면서 그를 더 알아가면서 좋아하게 됐어. 3년 동안 사귀었었어. \n",
      "#Person2#: 그래서 왜 헤어졌는데? 물어봐도 돼? \n",
      "#Person1#: 물론이지. 서로 조금씩 멀어졌어, 관심사도 다르고, 미래 계획도 달랐거든. 그래서 헤어지기로 합의했어. \n",
      "#Person2#: 아, 그거 좋네. 내 마지막 연애는 정말 최악이었어. 새해 파티에서 만난 남자랑 6개월 사귀었는데, 항상 싸우면서도 다투다 화해하곤 했어. 어떻게 그렇게 오래 참았는지 모르겠어. \n",
      "#Person1#: 어떻게 끝났어? \n",
      "#Person2#: 그가 바람 피웠어. 그의 전 여자친구랑 키스하는 걸 봤거든. 또 한 번의 기회를 달라고 빌었지만, 딱히 의미 없을 거 같아서 거절했어. \n",
      "#Person1#: 헐! 잘했어. \n",
      "#Person2#: 고마워. 너는 요즘 누구 만나? \n",
      "#Person1#: 아, 여기저기 몇 번 데이트하긴 했어도, 진지한 건 아니야. 아직 정착할 생각은 없어. 싱글이 너무 좋거든.\n",
      "\n",
      "Pred Summary: Person1 asks Person2 about the man she was talking to at the bar and if he was interested in her. Person2 says he asked her out, but she gave him her number and isn't sure if she wants to go on a date with him. Person1 suggests not to judge too quickly and shares her own experience of not initially liking her ex-boyfriend but growing to like him after getting to know him better. Person2 asks why they broke up and Person1 explains that they grew apart and had different interests and future plans. Person2 shares her own bad experience with her last boyfriend who cheated on her and she is glad she ended it. Person1 asks if she is seeing anyone now and Person2 says she has gone on a few dates but nothing serious. Person1 says she is enjoying being single.\n",
      "\n",
      "Gold Summary: #Person2#는 한 남자와의 화학 반응이 없다고 느낀다. #Person1#은 자신이 전 남자친구와 처음에는 잘 맞지 않았지만, 더 알아가면서 좋아하게 되었기 때문에 너무 빨리 판단하지 말라고 조언한다. #Person2#는 자신의 마지막 연애가 끔찍했고, 그녀의 전 남자친구가 바람을 피웠다고 말한다.\n",
      "\n",
      "====================================================================================================\n",
      "Dialogue:\n",
      "#Person1#: 둘 중에 누가 타자를 더 잘 쳐요?\n",
      "#Person2#: 글쎄요, 메리가 존스보다 더 빨리 치는데요. 하지만 존스가 더 신중하게 치는 것 같아요.\n",
      "#Person1#: 둘의 속기 실력에는 차이가 있어요?\n",
      "#Person2#: 존스가 확실히 빨리 받아 적을 수 있지만, 메리의 속기 실력이 반에서 최고예요.\n",
      "#Person1#: 언어 능력은 어때요?\n",
      "#Person2#: 둘 다 프랑스어를 잘 구사해요. 하지만 메리가 존스보다 독일어를 더 유창하게 말하는 것 같아요.\n",
      "#Person1#: 음, 그건 별로 중요하지 않네요. 우리에게는 독일어보다는 프랑스어 방문객이 더 많으니까요.\n",
      "\n",
      "Pred Summary: #Person1#: Who is better at typing between the two of them?\n",
      "#Person2#: Well, Mary is faster than Johns, but I think Johns is more careful.\n",
      "#Person1#: Is there a difference in their typing speed?\n",
      "#Person2#: Johns can definitely type faster, but Mary has the best typing skills in the class.\n",
      "#Person1#: What about their language skills?\n",
      "#Person2#: They both speak French well. But I think Mary speaks German more fluently than Johns.\n",
      "#Person1#: Hmm, that doesn't really matter. We have more French visitors than German ones.\n",
      "\n",
      "Gold Summary: #Person1#은 #Person2#에게 메리와 존스의 타자, 속기, 언어 능력을 비교해달라고 요청합니다.\n",
      "\n",
      "====================================================================================================\n",
      "Dialogue:\n",
      "#Person1#: 오늘 정말 끔찍한 날이지 않나요?\n",
      "#Person2#: 네, 맞아요. 그래서 비행기가 2시간이나 지연됐어요. 부모님께서 걱정하고 계실 거예요. 런던 공항에서 기다리고 계시거든요.\n",
      "#Person1#: 어디서 오신 거예요?\n",
      "#Person2#: 베이징에서요. 2주 동안 우주 기술에 관한 컨퍼런스가 있어서 다녀왔어요.\n",
      "#Person1#: 정말 흥미롭네요! 저는 관광하러 갔었어요. 보통 연 2~3번은 여행을 가거든요.\n",
      "#Person2#: 정말요? 중국에서는 어떤 곳들을 방문하셨나요?\n",
      "#Person1#: 베이징 말고도 난징, 상하이, 시안, 항저우, 광저우에 갔었어요.\n",
      "#Person2#: 즐거우셨나요?\n",
      "#Person1#: 정말 즐거웠어요. 가장 흥미진진한 여행 중 하나였죠. 중국은 처음 가신 건가요?\n",
      "#Person2#: 아니요, 거의 매년 가요. 그런데 아쉽게도 항상 우주 관련 일 때문이었어요. 관광지에 갈 시간이 없었어요.\n",
      "#Person1#: 아, 정말 안타깝네요.\n",
      "\n",
      "Pred Summary: Dialogue:\n",
      "#Person1#: It's a terrible day, isn't it?\n",
      "#Person2#: Yes, it is. That's why my flight was delayed for two hours. My parents must be worried. They're waiting for me at London airport.\n",
      "#Person1#: Where are you from?\n",
      "#Person2#: Beijing. I was there for a conference on space technology for two weeks.\n",
      "#Person1#: That sounds interesting! I was there for a vacation. I usually travel two or three times a year.\n",
      "#Person2#: Really? Which places did you visit in China?\n",
      "#Person1#: I went to Nanjing, Shanghai, Xi'an, Hangzhou, and Guangzhou besides Beijing.\n",
      "#Person2#: Did you enjoy it?\n",
      "#Person1#: I really did. It was one of the most exciting trips I've ever taken. Is this your first time in China?\n",
      "#Person2#: No, I go almost every year. But unfortunately, it's always for work. I never had time to visit any tourist spots.\n",
      "#Person1#: Oh, that's too bad.\n",
      "\n",
      "Gold Summary: #Person1#과 #Person2#의 비행기가 지연되었습니다. #Person2#는 베이징의 우주 기술 컨퍼런스에 참석하기 위해 갔습니다. #Person1#은 중국의 여러 곳을 여행했습니다.\n",
      "\n",
      "====================================================================================================\n",
      "Dialogue:\n",
      "#Person1#: 스노우 씨, 그 공격에 대해 기억나는 게 뭐죠?\n",
      "#Person2#: 음, 어제 저녁에 늦게까지 일했어요.\n",
      "#Person1#: 사무실에서 몇 시에 나왔어요?\n",
      "#Person2#: 대략 9시 44분쯤이에요.\n",
      "#Person1#: 확실해요?\n",
      "#Person2#: 네, 시계를 봤으니까요.\n",
      "#Person1#: 그 다음에 뭐 했어요?\n",
      "#Person2#: 음, 문을 잠그고 차로 가고 있었는데 누가 제 머리를 쳤어요.\n",
      "#Person1#: 공격자를 봤나요?\n",
      "#Person2#: 아니요, 그는 머리에 스타킹을 쓰고 있었어요.\n",
      "#Person1#: 스노우 씨, 다리는 어떻게 다친 거죠?\n",
      "#Person2#: 음, 의사들이 저를 차로 옮기다가 떨어뜨렸어요.\n",
      "\n",
      "Pred Summary: #Person1#: Mr. Snow, what do you remember about the attack?\n",
      "#Person2#: Well, I worked late last night.\n",
      "#Person1#: What time did you leave the office?\n",
      "#Person2#: Around 9:44 p.m.\n",
      "#Person1#: Are you sure?\n",
      "#Person2#: Yes, I looked at my watch.\n",
      "#Person1#: What did you do next?\n",
      "#Person2#: Well, I was locking the door and going to my car when someone hit me on the head.\n",
      "#Person1#: Did you see the attacker?\n",
      "#Person2#: No, he was wearing a stocking on his head.\n",
      "#Person1#: Mr. Snow, how did you injure your leg?\n",
      "#Person2#: Well, the doctors dropped me when they were moving me to the car.\n",
      "\n",
      "Gold Summary: #Person1#은 스노우 씨에게 공격에 대해 질문합니다. 스노우 씨는 9시 44분쯤 사무실을 떠났고, 차로 가는 도중 머리를 맞았지만 공격자를 보지 못했다고 설명합니다.\n",
      "\n",
      "====================================================================================================\n",
      "Dialogue:\n",
      "#Person1#: 저기요, 크로스 베이커리 건물로 어떻게 가는지 알려주실래요?\n",
      "#Person2#: 크로스 베이커리 건물이요? 물론이죠, 지금 반대 방향으로 가고 계시네요.\n",
      "#Person1#: 아, 농담이죠. 제가 동쪽으로 가고 있다고 생각했는데.\n",
      "#Person2#: 아니에요, 동쪽은 반대 방향이에요. 베이커리로 가시려면 돌아서서 3블록을 브로드웨이까지 가셔야 해요. 브로드웨이에 도착하면 왼쪽으로 돌고, 그 거리에서 2블록 직진하세요. 그러면 건물이 왼쪽에 보일 거예요. 우체국과 슈퍼마켓 사이에 있어요.\n",
      "#Person1#: 좋아요, 제가 잘 이해했는지 보죠. 먼저 돌아서서 3블록을 브로드웨이까지 가고, 왼쪽으로 돌고 2블록 가면 건물이 있는 거죠, 맞나요?\n",
      "#Person2#: 네, 맞아요.\n",
      "\n",
      "Pred Summary: #Person1#: Excuse me, could you tell me how to get to the Cross Bakery building?\n",
      "#Person2#: The Cross Bakery building? Of course, you're going in the wrong direction right now.\n",
      "#Person1#: Oh, you're kidding. I thought I was going east.\n",
      "#Person2#: No, east is the opposite direction. To get to the bakery, you need to turn around and walk three blocks to Broadway. When you get to Broadway, turn left and walk two blocks straight. The building will be on your left, between the post office and the supermarket.\n",
      "#Person1#: Okay, let me see if I understand. I turn around and walk three blocks to Broadway, turn left and walk two blocks, and then the building will be on my left, right?\n",
      "#Person2#: Yes, that's right.\n",
      "\n",
      "Gold Summary: #Person2#가 #Person1#에게 크로스 베이커리 건물까지 가는 길을 안내합니다.\n",
      "\n",
      "====================================================================================================\n",
      "Dialogue:\n",
      "#Person1#: 우리 전문 촬영가를 고용했으면 좋겠어. 네 친구 Lenny한테 부탁하지 말고.\n",
      "#Person2#: 이 영상 그렇게 나쁜 건 아닌데. 품질이 최고는 아니지만 나름 잘 했어.\n",
      "#Person1#: 화질 안 좋은 영상 좋아하면 나쁘진 않지. 장면 전환도 없고 조명도 엉망이야. 잘해야 완전 편집 안 된 거친 영상처럼 보여.\n",
      "#Person2#: 좀 거칠긴 하지, 인정해.\n",
      "#Person1#: 오디오 문제도 있고. 어떤 부분은 소리가 끊기면서 아예 안 나와. 그리고 소리가 나올 땐, 볼륨이 일정하지 않아.\n",
      "#Person2#: 맞아, 그렇긴 해. 다음엔 더 잘 할 거야.\n",
      "\n",
      "Pred Summary: #Person1#: I think we should hire a professional videographer. Don’t ask your friend Lenny to do it.\n",
      "#Person2#: This video isn’t that bad. The quality isn’t the best, but it’s not bad.\n",
      "#Person1#: It’s not bad if you like low-quality videos. There’s no scene transition and the lighting is terrible. It’s only good if you want it to look like a rough, unedited video.\n",
      "#Person2#: It is a little rough, I’ll admit.\n",
      "#Person1#: There’s also an audio problem. Some parts are cut off and there’s no sound. And when there is sound, the volume isn’t consistent.\n",
      "#Person2#: Yeah, that’s true. He’ll do better next time.\n",
      "\n",
      "Gold Summary: #Person1#은 전문 촬영가를 고용하지 못한 것에 아쉬움을 표하며, Lenny의 작업에 실망감을 드러낸다. #Person2#는 Lenny를 변호하려 한다.\n",
      "\n",
      "====================================================================================================\n",
      "Dialogue:\n",
      "#Person1#: 요즘 좀 바빠. 교수님이 새로운 연구 과제를 주셨어. 아시아 나라들에 대한 연구 정보를 찾아보래.\n",
      "#Person2#: 재밌겠는데?\n",
      "#Person1#: 응, 찾을 수 있는 정보가 많긴 한데 3일 안에 끝내라고 하셨어.\n",
      "#Person2#: 어떤 정보를 찾아야 해?\n",
      "#Person1#: 주로 문화적 관습이나 공휴일 같은 것들.\n",
      "#Person2#: 그런 건 내가 꽤 잘 아는데.\n",
      "#Person1#: 정말? 그럼 인도에서 몇 개 언어가 사용되는지 말해줄래?\n",
      "#Person2#: 음... 영어랑, 아마도 많이 사용하겠지?\n",
      "#Person1#: 그럼 만리장성은 언제 지어졌게?\n",
      "#Person2#: 미안, 그건 잘 모르겠네. 인터넷에서 같이 찾아볼까?\n",
      "\n",
      "Pred Summary: #Person1#: I'm a little busy lately. My professor gave me a new research task. He wants me to find information about research on Asian countries.\n",
      "#Person2#: That sounds fun!\n",
      "#Person1#: Yeah, there's a lot of information out there, but he wants me to finish it in three days.\n",
      "#Person2#: What kind of information do you need to find?\n",
      "#Person1#: Mainly cultural customs and holidays.\n",
      "#Person2#: I know a lot about that.\n",
      "#Person1#: Really? Can you tell me how many languages are spoken in India?\n",
      "#Person2#: Hmm... English, probably a lot.\n",
      "#Person1#: Okay, then when was the Great Wall of China built?\n",
      "#Person2#: Sorry, I don't know that. Let's look it up on the internet together.\n",
      "\n",
      "Gold Summary: #Person1#는 새로운 연구 과제 때문에 바쁘다. #Person2#는 그런 일을 잘할 수 있지만 #Person1#의 질문에 대답을 못 하여 인터넷에서 함께 정보를 찾기로 한다.\n",
      "\n",
      "====================================================================================================\n",
      "Dialogue:\n",
      "#Person1#: 안녕하세요. 상하이에 있는 제 여동생에게 컴퓨터를 보내고 싶어요.\n",
      "#Person2#: 네, 알겠습니다. 박스에 다 담겨 있나요? 한 번 확인해도 될까요?\n",
      "#Person1#: 네, 이게 컴퓨터고, 이건 키보드와 모니터예요.\n",
      "#Person2#: 다른 건 없나요?\n",
      "#Person1#: 마우스랑 카메라도 있어요.\n",
      "#Person2#: 그게 전부인가요?\n",
      "#Person1#: 네. 이걸 일반 배송으로 상하이에 보내면 비용이 얼마나 드나요?\n",
      "#Person2#: 물건 무게에 따라 달라요. 일반적으로 1킬로그램당 10위안이에요.\n",
      "#Person1#: 알겠어요. 저울로 무게를 재주실 수 있나요?\n",
      "#Person2#: 저쪽으로 가셔서 무게를 재시면 됩니다.\n",
      "#Person1#: 네, 알겠습니다. 그럼 나중에 뵐게요.\n",
      "\n",
      "Pred Summary: #Person1#: Hello. I want to send a computer to my sister in Shanghai.\n",
      "#Person2#: Okay, I understand. Is everything packed in the box? Can I check?\n",
      "#Person1#: Yes, this is the computer, and these are the keyboard and monitor.\n",
      "#Person2#: Is there anything else?\n",
      "#Person1#: I also have a mouse and a camera.\n",
      "#Person2#: Is that all?\n",
      "#Person1#: Yes. How much will it cost to send this to Shanghai by regular shipping?\n",
      "#Person2#: It depends on the weight of the items. Generally, it's 10 yuan per kilogram.\n",
      "#Person1#: Okay, I understand. Can you weigh it for me?\n",
      "#Person2#: You can go over there and weigh it yourself.\n",
      "#Person1#: Okay, I will. See you later.\n",
      "\n",
      "Gold Summary: #Person1#이 상하이에 있는 여동생에게 컴퓨터 장비를 보내기 위한 도움을 받습니다.\n",
      "\n",
      "====================================================================================================\n",
      "Dialogue:\n",
      "#Person1#: 어디가 안 좋으세요?\n",
      "#Person2#: 목도 아프고 머리도 아파요.\n",
      "#Person1#: 피곤하세요?\n",
      "#Person2#: 네, 온몸에 힘이 없고 기분도 정말 안 좋아요.\n",
      "#Person1#: 안타깝네요. 제가 좀 검사해 드릴게요.\n",
      "#Person2#: 네, 그렇게 해 주세요.\n",
      "#Person1#: 입을 열고 혀를 보여 주세요. 아- 라고 해보세요... 심한 감기에 걸리셨네요. 그러니 일주일 동안은 침대에 누워 계셔야 해요.\n",
      "\n",
      "Pred Summary: #Person1#: What's wrong with you?\n",
      "#Person2#: My throat and head hurt.\n",
      "#Person1#: Are you tired?\n",
      "#Person2#: Yes, I feel weak all over and my mood is really bad.\n",
      "#Person1#: I'm sorry to hear that. I'll examine you.\n",
      "#Person2#: Yes, please.\n",
      "#Person1#: Open your mouth and show me your tongue. Ah-... You have a bad cold. So you have to stay in bed for a week.\n",
      "\n",
      "Gold Summary: #Person2#는 불편함을 호소하며, #Person1#은 진찰 후 조언을 제공합니다.\n",
      "\n",
      "====================================================================================================\n",
      "Dialogue:\n",
      "#Person1#: 데이브, 너한테 할 얘기가 있어. \n",
      "#Person2#: 지나, 왜 속삭여? \n",
      "#Person1#: 나 헤드헌터랑 얘기하고 있어. 이직하려고 생각 중이야. \n",
      "#Person2#: 뭐? 정말이야? 우리 경쟁사로 갈 거라는 거야? \n",
      "#Person1#: 목소리 낮춰. 나중에 더 얘기하자. 지금은 빈스 만나러 가야 해. \n",
      "#Person2#: 꼭 얘기하자, 지나. 그리고 조심해. 엘빈 아직도 화났잖아. \n",
      "#Person1#: 알겠어, 근데 내가 말한 거 아무한테도 얘기하지 마.\n",
      "\n",
      "Pred Summary: #Person1#: Dave, I have something to tell you. \n",
      "#Person2#: Zina, why are you whispering? \n",
      "#Person1#: I'm talking to a headhunter. I'm thinking about switching jobs. \n",
      "#Person2#: What? Really? Are you going to our competitor? \n",
      "#Person1#: Keep your voice down. We can talk more later. I have to meet with Vince now. \n",
      "#Person2#: We have to talk about this, Zina. And be careful. Elvin is still mad at you. \n",
      "#Person1#: Okay, but don't tell anyone what I said.\n",
      "\n",
      "Gold Summary: 지나가 데이브에게 경쟁사로 이직을 고려 중이라고 말하자 데이브는 놀랍니다.\n",
      "\n",
      "====================================================================================================\n",
      "Dialogue:\n",
      "#Person1#: 안에 들어가서 앉아보시고 마음에 드는지 보세요. 그럼 포르쉐를 가져가실 건가요, 손님?\n",
      "#Person2#: 네, 보험도 같이 사고 싶어요. 필요한 것 같아요.\n",
      "#Person1#: 보험 사시는 게 현명하십니다. 3일에 45달러면 좋은 조건이에요.\n",
      "#Person2#: 샌프란시스코에서 차를 반납할 수 있나요?\n",
      "#Person1#: 샌프란시스코요? 아니요, 손님. 저희는 이 곳에만 사무실이 있습니다. 여기로 반납하셔야 해요.\n",
      "#Person2#: 정말요? 미국에선 다른 도시에 렌터카를 반납할 수 있다고 들었는데요.\n",
      "#Person1#: 아니요, 손님. 그건 아주 큰 회사들만 가능합니다. 죄송하지만 이 차는 이 주차장으로 반납하셔야 합니다.\n",
      "#Person2#: 뭐, 다시 남쪽으로 운전해야겠네요. 음, 그걸 생각 못했네요.\n",
      "#Person1#: 그래도 차를 원하시나요, 손님?\n",
      "#Person2#: 네. 재미있을 것 같아요. 해안도로를 다시 내려가는 건요. 제 여자친구도 좋아할 거예요.\n",
      "#Person1#: 정말 아름다운 드라이브예요.\n",
      "#Person2#: 열쇠는 어디 있나요?\n",
      "#Person1#: 잠시만요, 손님. 양식을 다 작성해야 합니다.\n",
      "\n",
      "Pred Summary: Dialogue:\n",
      "#Person1#: Please sit down and see if you like it. Will you take the Porsche, sir?\n",
      "#Person2#: Yes, I'd like to buy insurance, too. I think I need it.\n",
      "#Person1#: It's wise to buy insurance. $45 for three days is a good deal.\n",
      "#Person2#: Can I return the car in San Francisco?\n",
      "#Person1#: San Francisco? No, sir. We only have an office here. You have to return it here.\n",
      "#Person2#: Really? I thought you could return a rental car in another city in the US.\n",
      "#Person1#: No, sir. That's only possible with very big companies. I'm sorry, but you have to return this car here.\n",
      "#Person2#: Well, I'll have to drive back down south. Hmm, I didn't think of that.\n",
      "#Person1#: Do you still want the car, sir?\n",
      "#Person2#: Yes. I think it'll be fun. Driving down the coast again. My girlfriend will like it, too.\n",
      "#Person1#: It's a beautiful drive.\n",
      "#Person2#: Where are the keys?\n",
      "#Person1#: Just a moment, sir. You have to fill out the forms.\n",
      "\n",
      "Gold Summary: #Person2#는 포르쉐를 보험과 함께 렌트하고 싶어 합니다. #Person2#는 샌프란시스코에서 차를 반납하고자 하지만, 그 지역의 사무실에서만 반납할 수 있다는 설명을 듣습니다. #Person2#는 결국 #Person1#의 도움으로 차를 렌트합니다.\n",
      "\n",
      "====================================================================================================\n",
      "Dialogue:\n",
      "#Person1#: 와! 정말 아름다운 경치네요! 이렇게 탁 트인 풍경이라니. 그리고 이 신선한 공기를 마시면 그 신선함이 느껴지는 것 같아요.\n",
      "#Person2#: 산 꼭대기에서는 Guiling 시의 전경을 볼 수 있어요.\n",
      "#Person1#: 멋지네요! 종종 이곳에 와서 등산해야겠어요.\n",
      "#Person2#: 그래야죠. Guiling 주민들은, 특히 노인들과 아이들이 아침에 여기서 산을 자주 올라요.\n",
      "#Person1#: 사람들이 그렇게 말하는 것도 당연하군요.\n",
      "#Person2#: 빨리! 당신의 쌍안경을 줘봐요. 저 새 좀 봐요... 전에 본 적이 없는 새네요. Guiling에 원래 서식하는 종이고 멸종 위기종이에요. 정말 운이 좋네요!\n",
      "#Person1#: 당신이 새 관찰을 좋아하는 줄 몰랐네요.\n",
      "#Person2#: 사실 새 관찰을 좋아하는 건 아니에요. 그냥 야생동물을 좋아해요. 도시에선 많이 볼 수 없잖아요. 이곳은 정말 자연의 보물창고에요.\n",
      "\n",
      "Pred Summary: This is a dialogue between two people, #Person1# and #Person2#, who are admiring the view from the top of a mountain. #Person1# comments on the beautiful scenery and fresh air, while #Person2# mentions that the view of Guiling City can be seen from the top of the mountain. #Person1# expresses a desire to come back and hike more often. #Person2# adds that many people, especially the elderly and children, often hike up the mountain in the morning. #Person2# then asks #Person1# to give them their binoculars and points out a bird that they have never seen before. #Person1# is surprised to learn that #Person2# is interested in bird watching, but #Person2# clarifies that they are more interested in wildlife in general, as it is not as common to see in the city. They both agree that the mountain is a treasure trove of natural beauty.\n",
      "\n",
      "Gold Summary: #Person1#과 #Person2#는 산 꼭대기에서 Guiling 시의 경치를 즐기며 새를 관찰하고 있습니다.\n",
      "\n",
      "====================================================================================================\n",
      "Dialogue:\n",
      "#Person1#: 그래서, 바다 여행은 어땠어?\n",
      "#Person2#: 아주 재밌었어.\n",
      "#Person1#: 좀 더 자세히 말해줘.\n",
      "#Person2#: 아침에 거기로 가는 길에 계곡을 지나갔는데, 정말 멋진 장관이었어.\n",
      "#Person1#: 큰 폭포에서 사진 찍었어?\n",
      "#Person2#: 물론이지, 절대 놓칠 수 없었어. 그 후에 공원으로 가는 지름길로 갔는데, 차가 별로 없어 한 시간도 안 걸렸어.\n",
      "#Person1#: 그럼 정말 운이 좋았네. 그다음엔 뭐 했어?\n",
      "#Person2#: 바다에 가서 수영했어. 그게 하루 중 가장 좋았던 부분이야. 내 멋진 선탠 좀 봐.\n",
      "#Person1#: 그래서 어제 정말 바쁘고 즐거운 하루 보냈겠네.\n",
      "#Person2#: 응, 맞아. 너무 피곤해서 돌아오는 길에 잠들었어. 어제 수영한 것 때문인지 팔이 아직도 뻐근해.\n",
      "\n",
      "Pred Summary: #Person1#: So, how was the sea trip?\n",
      "#Person2#: It was very fun.\n",
      "#Person1#: Tell me more about it.\n",
      "#Person2#: On the way to it, we passed through a valley, which was really a beautiful sight.\n",
      "#Person1#: Did you take pictures at the big waterfall?\n",
      "#Person2#: Of course, I couldn't miss it. After that, we took a shortcut to the park, and it only took us less than an hour because there wasn't much traffic.\n",
      "#Person1#: So you were really lucky. What did you do next?\n",
      "#Person2#: We went to the sea and swam. That was the best part of the day. Look at my nice tan.\n",
      "#Person1#: So you had a really busy and fun day yesterday.\n",
      "#Person2#: Yeah, that's right. I was so tired that I fell asleep on the way back. My arms are still sore from swimming yesterday.\n",
      "\n",
      "Gold Summary: #Person2#가 #Person1#에게 바다 여행의 경험을 이야기합니다.\n",
      "\n",
      "====================================================================================================\n",
      "Dialogue:\n",
      "#Person1#: 존, 여기서 담배 피우지 말라고 했잖아! 다시는 내 사무실에서 담배 피우는 거 보고 싶지 않아.\n",
      "#Person2#: 죄송해요, Ms. Fairbanks. 다시는 그러지 않겠습니다.\n",
      "#Person1#: 저번에도 그렇게 말했잖아! 담배 피우고 싶으면 쉬는 시간에 밖에 나가서 피워!\n",
      "#Person2#: 알겠습니다, Ms. Fairbanks.\n",
      "\n",
      "Pred Summary: #Person1#: John, I told you not to smoke here! I don’t want to see you smoking in my office again.\n",
      "#Person2#: Sorry, Ms. Fairbanks. I won’t do it again.\n",
      "#Person1#: You said that last time too! If you want to smoke, go outside during break time!\n",
      "#Person2#: Okay, Ms. Fairbanks.\n",
      "\n",
      "Gold Summary: Ms. Fairbanks는 존이 근무 시간 동안 사무실에서 담배를 피운 것에 대해 주의를 주고 밖에서 담배를 피우라고 지시한다.\n",
      "\n",
      "====================================================================================================\n",
      "Dialogue:\n",
      "#Person1#: 저기요, 계산서 좀 가져다 주실래요?\n",
      "#Person2#: 네, 손님. 어떻게 계산하시겠습니까?\n",
      "#Person1#: 신용카드 되나요?\n",
      "#Person2#: 네, 손님. 그런데 저희는 아메리칸 익스프레스, 마스터카드, 비자만 받아요. 어떤 카드 가지고 계신가요?\n",
      "#Person1#: 마스터카드요. 여기 있습니다.\n",
      "#Person2#: 잠시만 기다려 주세요.\n",
      "\n",
      "Pred Summary: #Person1#: Excuse me, can I get a bill?\n",
      "#Person2#: Yes, sir. How would you like to pay?\n",
      "#Person1#: Can I use my credit card?\n",
      "#Person2#: Yes, sir. But we only accept American Express, Mastercard, and Visa. Which one do you have?\n",
      "#Person1#: Mastercard. Here it is.\n",
      "#Person2#: Please wait a moment.\n",
      "\n",
      "Gold Summary: #Person1#이 계산을 위해 신용카드를 사용하고자 하며, #Person2#이 이를 도와줍니다.\n",
      "\n",
      "====================================================================================================\n",
      "Dialogue:\n",
      "#Person1#: 자, 이제 모든 걸 한 번 더 살펴보자. 네가 꼭 이 직장을 얻길 바래! \n",
      "#Person2#: 알아! 정말 대단한 성장 기회야. 그 회사는 업계의 진정한 리더들이고, 비즈니스 프로세스 플랫폼 개발 분야에서 무언가를 할 수 있는 조직이 되는 건 정말 흥미로울 거야.\n",
      "#Person1#: 그럼, 그 회사에 대해 조사했어?\n",
      "#Person2#: 응, 웹사이트도 방문해 보고 그들이 무슨 일을 하는지도 알아봤어. 그 회사는 대기업을 위한 포괄적인 비즈니스 솔루션을 제공하는 IT 서비스 회사야. ARM 개발 같은 서비스도 제공하고, 맞춤형 애플리케이션도 만들어.\n",
      "#Person1#: 그럼 너의 역할은 뭔데?\n",
      "#Person2#: 음, 그 자리의 직함은 계정 관리자야. 그게 우리와 개발 팀 사이의 연결 고리가 되는 거야.\n",
      "#Person1#: 좋아 보이네, 그런데 왜 거기서 일하고 싶어?\n",
      "#Person2#: 음, 말했듯이 그 회사는 업계의 리더고, 정말 좋은 성장 전략과 직원들을 위한 놀라운 개발 기회를 가지고 있어. 그리고 강력한 기업 지배 구조도 있는 것 같아. 그들의 목표는 기업이 성장하고 잠재력을 발휘할 수 있도록 돕는 거야. 내가 생각하기에 그들의 핵심 가치와 목표가 나랑 잘 맞는 것 같아. 오, 그리고 6주 휴가, 주식 옵션, 보너스도 준다고 하더라... 이 기회 놓치지 않을 거야.\n",
      "#Person1#: 그래, 진짜 좋은 기회인 것 같아! 이 일자리 꼭 얻었으면 좋겠다!\n",
      "\n",
      "Pred Summary: #Person1#: Let's go over everything one more time. I really hope you get this job!\n",
      "#Person2#: I know! It's a great growth opportunity. That company is a true leader in the industry, and it would be really exciting to be part of an organization that is doing something in the business process platform development space.\n",
      "#Person1#: So, have you done any research on the company?\n",
      "#Person2#: Yeah, I've visited their website and learned what they do. The company is an IT services company that provides comprehensive business solutions for large corporations. They also offer services like ARM development and custom applications.\n",
      "#Person1#: So what would your role be?\n",
      "#Person2#: Well, the title of the position is account manager. It would be the connection between us and the development team.\n",
      "#Person1#: Sounds good, but why do you want to work there?\n",
      "#Person2#: Well, as I said, the company is a leader in the industry, and they have really good growth strategies and amazing development opportunities for employees. And they seem to have a strong corporate governance. Their goal is to help companies grow and reach their potential. I think their core values and goals align well with mine. Oh, and they also offer six weeks of vacation, stock options, and bonuses... I'm not going to miss this opportunity.\n",
      "#Person1#: Yeah, it sounds like a great opportunity! I really hope you get this job!\n",
      "\n",
      "Gold Summary: #Person1#은 #Person2#가 면접 준비를 할 수 있도록 돕고 있다. #Person1#은 면접관 역할을 하며 #Person2#에게 회사에 대한 사전조사와 직무 적합성 등에 대해 질문을 한다.\n",
      "\n",
      "====================================================================================================\n",
      "Dialogue:\n",
      "#Person1#: 그래서 이번 프로젝트가 어떻게 진행되고 있는지 체크하고 싶었어요. 지난주에 중요한 마감일을 놓쳤던 거 아시죠? 이건 팀이 다음 단계로 나아가는 데 부정적인 영향을 줄 거예요.\n",
      "#Person2#: 네, 알고 있어요. 마감일을 놓쳐서 정말 죄송해요. 근데 이건 제 잘못은 아니었어요. 마지막 순간에 예상치 못했던 기술적인 문제들이 생겼고, 데이터베이스에 접속해서 필요한 데이터를 추출할 수가 없었어요. 솔직히 기술팀이 제대로 일하면서 ARM을 안정적으로 관리했다면, 저는 마감일을 놓치지 않았을 거예요.\n",
      "#Person1#: 아, 이제 그만요! 그런 변명은 거짓말이나 다름없어요. 당신이 지난 2주 동안 미루기만 했다는 걸 인정하기보다는 기술팀 탓을 하고 있어요.\n",
      "#Person2#: 아니에요, 여기서 책임 전가하려는 게 아니에요. 결국 저 책임이라는 거 알아요. 하지만 시스템이 다운되지 않았더라면 제때 끝낼 수 있었어요. 그리고 지금 제가 하는 일이 너무 많아서, 기술적인 문제로 시간을 낭비하는 여유가 없어요. 하루에 24시간밖에 없잖아요...\n",
      "#Person1#: 이 변명은 받아들이지 않을 거예요. 작은 기술적인 문제들을 핑계로 삼고 있다는 걸 알아요. 우리는 기준이 있고, 그 기준에 맞춰야 해요. 가짜 핑계는 그만해요. 감당이 안 되면 저한테 말해야죠. 더 이상 마감일을 놓치는 일은 없었으면 좋겠어요. 아침 9시까지 그 데이터를 제 책상 위에 올려놔요!\n",
      "\n",
      "Pred Summary: This is a dialogue between two people, #Person1 and #Person2. #Person1 is checking on the progress of a project and mentions that they missed an important deadline last week, which will have a negative impact on the team moving forward. #Person2 apologizes for the mistake but claims that it wasn't their fault because of unexpected technical issues that prevented them from accessing the necessary data in the database. #Person1 gets frustrated and accuses #Person2 of making excuses and blaming the technical team. #Person2 denies that they are trying to shift blame and acknowledges that they are responsible for the mistake, but they were unable to finish on time due to technical issues. They also mention that they have a lot of work to do and don't have time to waste on technical problems. #Person1 refuses to accept the excuses and accuses #Person2 of using small technical issues as an excuse. They demand that the data be delivered to their desk by 9 am the next day.\n",
      "\n",
      "Gold Summary: #Person1#은 #Person2#가 지난 2주 동안 업무를 미뤘다고 비난하며, #Person2#가 기술적인 문제를 이유로 마감일을 지키지 못했다고 변명하고 있다고 지적합니다.\n",
      "\n",
      "====================================================================================================\n",
      "Dialogue:\n",
      "#Person1#: 안녕하세요, 오늘 제 검사 결과가 도착할 거라고 실험실에서 말했어요.\n",
      "#Person2#: 추가로 진행하고 싶은 검사를 논의하기 위해 오셨으면 좋겠어요.\n",
      "#Person1#: 안 좋은 소식인 것 같아요.\n",
      "#Person2#: 우선, 언급하신 몇 가지 문제를 더 자세히 보기 위해 추가 검사를 하고 싶어요.\n",
      "#Person1#: 왜 전화로 말씀해 주지 않으세요?\n",
      "#Person2#: 검사 결과에 대한 의문이 있으면 항상 재검사를 합니다.\n",
      "#Person1#: 지금 당장 가야겠어요.\n",
      "#Person2#: 오늘 오후에 뵐 수 있으면 좋겠어요. 걱정되신다면 친구나 가족을 데려오세요.\n",
      "#Person1#: 겁나요!\n",
      "#Person2#: 오늘 오후에 오시면 이야기해요. 괜찮을 거예요.\n",
      "\n",
      "Pred Summary: #Person1#: Hello, the lab said my test results should be here today.\n",
      "#Person2#: I'd like to discuss some additional tests we can do.\n",
      "#Person1#: I think it's bad news.\n",
      "#Person2#: First, I'd like to do some additional tests to look more closely at the issues you mentioned.\n",
      "#Person1#: Why can't you just tell me over the phone?\n",
      "#Person2#: We always do a retest if there are any questions about the test results.\n",
      "#Person1#: I need to go now.\n",
      "#Person2#: I'd like to see you this afternoon. If you're worried, bring a friend or family member.\n",
      "#Person1#: I'm scared!\n",
      "#Person2#: Let's talk this afternoon. It'll be okay.\n",
      "\n",
      "Gold Summary: #Person2#는 추가 검사를 논의하기 원하지만, #Person1#은 이를 나쁜 소식으로 받아들입니다.\n",
      "\n",
      "====================================================================================================\n",
      "Dialogue:\n",
      "#Person1#: 앗! 물 너무 뜨거워요! \n",
      "#Person2#: 천천히 들어가, 우리 아가. 곧 익숙해질 거야. 엄마가 가서 닭고기 수프 좀 만들어줄게.\n",
      "#Person1#: 배 안 고파요, 엄마.\n",
      "#Person2#: 네가 입맛 없다는 거 아는데, 그래도 뭐라도 먹어야지. 안 먹으면 너무 약해질 거야.\n",
      "#Person1#: 아... 벌써 땀이 나요. 너무 뜨거워요. 물이 끓는 것 같아요! 이제 나가도 돼요?\n",
      "#Person2#: 그거 좋은 신호야. 하지만 좀 더 담가있어 봐, 알겠지?\n",
      "\n",
      "Pred Summary: #Person1#: Ouch! The water is too hot! \n",
      "#Person2#: Go in slowly, dear. You'll get used to it soon. I'll go make some chicken soup.\n",
      "#Person1#: I'm not hungry, mom.\n",
      "#Person2#: I know you don't have an appetite, but you still need to eat something. You'll get too weak if you don't.\n",
      "#Person1#: Ah... I'm already sweating. It's too hot. I think the water is boiling! Can I get out now?\n",
      "#Person2#: That's a good sign. But stay in a little longer, okay?\n",
      "\n",
      "Gold Summary: #Person1#이 몸이 좋지 않아 엄마가 뜨거운 목욕을 시키고 닭고기 수프를 준비하려고 한다.\n",
      "\n",
      "====================================================================================================\n",
      "Dialogue:\n",
      "#Person1#: Mr. Schmidt가 아빠가 된다는 걸 알고 있나요?\n",
      "#Person2#: 아니요, 그런데 그에게 연락할 방법이 없어요! 그가 있는 곳에는 전화가 없거든요!\n",
      "#Person1#: 그가 돌아오면 깜짝 놀랄 일이 기다리고 있겠네요!\n",
      "#Person2#: 제 큰언니 Judy가 도와주러 곧 올 거예요. 언니는 이미 아들과 딸을 키우고 있거든요.\n",
      "#Person1#: 방금 빨간색 밴이 들어오는 걸 봤는데, 언니인가요?\n",
      "\n",
      "Pred Summary: #Person1#: Do you know that Mr. Schmidt is going to be a father?\n",
      "#Person2#: No, but I don't have any way to contact him! There's no phone where he is!\n",
      "#Person1#: He's going to be surprised when he comes back!\n",
      "#Person2#: My big sister Judy is coming to help. She already has a son and a daughter.\n",
      "#Person1#: I just saw a red van pull in, is that your sister?\n",
      "\n",
      "Gold Summary: #Person2#의 남편은 #Person2#가 출산할 때 자리에 없습니다. #Person2#는 #Person1#에게 큰언니에게 도움을 요청했다고 말합니다.\n",
      "\n",
      "====================================================================================================\n",
      "Dialogue:\n",
      "#Person1#: 저기요.\n",
      "#Person2#: 네, 손님. 무엇을 도와드릴까요?\n",
      "#Person1#: 제가 30분 전에 음식을 주문했는데 아직 안 나왔어요.\n",
      "#Person2#: 아, 죄송합니다. 지금 주방에 확인해볼게요. 방금 주방에 확인하니 다음에 나올 예정이라고 하네요. 아, 여기 나왔습니다.\n",
      "#Person1#: 감사합니다.\n",
      "#Person2#: 손님, 정말 지연돼서 죄송합니다. 이걸로 즐기세요. 불편을 끼쳐드려서 와인 한 잔을 무료로 드리겠습니다. 다시 한번 오래 기다리게 해서 정말 죄송합니다.\n",
      "#Person1#: 괜찮아요.\n",
      "\n",
      "Pred Summary: #Person1#: Excuse me.\n",
      "#Person2#: Yes, sir. What can I do for you?\n",
      "#Person1#: I ordered food 30 minutes ago, but it hasn't come out yet.\n",
      "#Person2#: Oh, I'm sorry. I'll check with the kitchen. I just checked with the kitchen, and they said it will be out next. Oh, here it is.\n",
      "#Person1#: Thank you.\n",
      "#Person2#: Sir, I'm really sorry for the delay. Enjoy this. I'll give you a free glass of wine for the inconvenience. I'm really sorry for making you wait so long.\n",
      "#Person1#: It's okay.\n",
      "\n",
      "Gold Summary: #Person1#가 음식 지연에 대해 문제를 제기하자 #Person2#가 확인 후 와인 한 잔을 무료로 제공하며 사과합니다.\n",
      "\n",
      "====================================================================================================\n",
      "Dialogue:\n",
      "#Person1#: 어서 와. 널 기다리고 있었어. 네가 와서 정말 기뻐. \n",
      "#Person2#: 내가 파티에 늦은 건가? 다들 벌써 와 있는 것 같은데, 뭔가 재미있는 걸 놓친 건 아닌지 모르겠어. \n",
      "#Person1#: 아니야, 딱 맞춰 왔어. 아직 본격적으로 시작도 안 했어. \n",
      "#Person2#: 잘됐네, 여기에 꽃 좀 가져왔어. 마음에 들었으면 좋겠어. 너의 새 아파트 색상에 어울리는지 확신이 안 서서. \n",
      "#Person1#: 고마워, 정말 예쁘다. 코트는 저쪽에 걸어도 돼. 이 새 의자에 앉아 봐, 정말 편해. 마음에 들 거야. 뭐 마실래? 차, 커피, 주스, 콜라 뭐든 있어. \n",
      "#Person2#: 신경 쓰지 마. 내가 알아서 할게. \n",
      "#Person1#: 편하게 있어. \n",
      "#Person2#: 정말 멋진 곳이야. \n",
      "#Person1#: 글쎄, 자랑하는 건 아니지만, 모든 디자인은 내가 했어. 몇몇 동료들은 이미 그들 새 아파트에 내 디자인을 따라하려고 해. 봐, 지금 내 디자인한 부엌의 사진을 찍고 있어.\n",
      "\n",
      "Pred Summary: #Person1#: Come in. I was waiting for you. I'm so glad you came. \n",
      "#Person2#: Am I late for the party? Everyone seems to be here already, I hope I haven't missed something fun. \n",
      "#Person1#: No, you're right on time. We haven't even started yet. \n",
      "#Person2#: Good, I brought some flowers. I hope you like them. I wasn't sure if they would match your new apartment colors. \n",
      "#Person1#: Thanks, they're beautiful. You can hang your coat over there. Try sitting on this new chair, it's really comfortable. You'll love it. What would you like to drink? I have tea, coffee, juice, or cola. \n",
      "#Person2#: Don't worry about it. I'll get it myself. \n",
      "#Person1#: Make yourself at home. \n",
      "#Person2#: This is a really nice place. \n",
      "#Person1#: Well, I don't want to brag, but I designed everything. Some of my colleagues are already trying to copy my designs for their new apartments. Look, I'm taking pictures of my design kitchen right now.\n",
      "\n",
      "Gold Summary: #Person2#가 #Person1#의 집들이 파티에 초대받아 따뜻한 환영을 받고, #Person1#의 새 아파트와 인테리어에 대해 이야기한다.\n",
      "\n",
      "====================================================================================================\n",
      "Dialogue:\n",
      "#Person1#: 그 사람 키가 평균 정도였다는 거죠?\n",
      "#Person2#: 네, 맞아요. 한 5피트 9, 10인치 정도요.\n",
      "#Person1#: 몸무게는요?\n",
      "#Person2#: 잘 모르겠어요. 중간 정도 같아요. 조금 통통한 편일 수도 있고요.\n",
      "#Person1#: 얼굴에 특별한 자국은 없었나요?\n",
      "#Person2#: 아니요, 그런 것 같진 않아요.\n",
      "#Person1#: 안경은 안 썼나요?\n",
      "#Person2#: 안 썼어요.\n",
      "#Person1#: 머리는 어땠나요?\n",
      "#Person2#: 검정색이나 진한 갈색이었어요.\n",
      "#Person1#: 길이가 긴 편이었나요, 아니면 짧았나요? 직모였나요? 곱슬이었나요?\n",
      "#Person2#: 직모였던 것 같고, 길이는 보통 정도였어요.\n",
      "#Person1#: 이런, 이 정도 정보로는 우리한테 별로 도움이 안 되네요. 옷은 어땠어요? 어떤 옷을 입고 있었나요?\n",
      "\n",
      "Pred Summary: #Person1#: Was he about average height?\n",
      "#Person2#: Yes, about 5'9\" or 10\".\n",
      "#Person1#: What about his weight?\n",
      "#Person2#: I don't know. He looked average. Maybe a little overweight.\n",
      "#Person1#: Did he have any distinguishing marks on his face?\n",
      "#Person2#: No, I don't think so.\n",
      "#Person1#: Was he wearing glasses?\n",
      "#Person2#: No.\n",
      "#Person1#: What about his hair?\n",
      "#Person2#: It was black or dark brown.\n",
      "#Person1#: Was it long or short? Was it straight or curly?\n",
      "#Person2#: I think it was straight and about average length.\n",
      "#Person1#: Hmm, this doesn't really help us much. What about his clothes? What was he wearing?\n",
      "\n",
      "Gold Summary: #Person1#이 #Person2#에게 어떤 남자의 외모에 대해 묻고 있습니다.\n",
      "\n",
      "====================================================================================================\n",
      "Dialogue:\n",
      "#Person1#: 야, Frank, 저기 Janet 봐봐.\n",
      "#Person2#: 와, 정말 멋진 사람이네!\n",
      "#Person1#: 진짜 잘난 척하는 것 같아.\n",
      "#Person2#: 근데 정말 매력적이야.\n",
      "#Person1#: 옷 입은 것도 한번 봐.\n",
      "#Person2#: 응, 봤어. 부자인 게 틀림없어.\n",
      "#Person1#: 아니, 걔 아빠가 돈이 많아서 뭐든 해줘.\n",
      "#Person2#: 운이 좋은 여자네. 근데 솔직히 나도 예쁘다고 생각해.\n",
      "#Person1#: 너 정말 특이하다.\n",
      "#Person2#: 뭐, 내 생각일 뿐이야.\n",
      "#Person1#: Kate보다 훨씬 예쁜 건 맞지.\n",
      "#Person2#: 비교가 안 돼. 이제야 제대로 말하네.\n",
      "#Person1#: 그건 우리 둘 다 동의하지. 우리 나가서 술 한잔할래?\n",
      "\n",
      "Pred Summary: This dialogue is about two people, Person1 and Person2, who are talking about a girl named Janet. Person1 thinks that Janet is pretentious and well-off, while Person2 thinks that she is attractive and well-dressed. Person1 mentions that Janet's father is wealthy and provides her with everything she wants. Person2 agrees that Janet is beautiful and compares her to another girl named Kate, saying that Janet is much more attractive. Person1 and Person2 agree to go out for a drink.\n",
      "\n",
      "Gold Summary: #Person1#과 Frank는 Janet의 재산과 매력에 대해 이야기한다.\n",
      "\n",
      "====================================================================================================\n",
      "Dialogue:\n",
      "#Person1#: 여기는 정말 조용하고 평화롭다. 도시의 내 집과는 완전 달라. \n",
      "#Person2#: 맞아, 여기서 살 수 있을 것 같아? 자연 속에서 살아가는 거 말이야? \n",
      "#Person1#: 글쎄. 잠깐씩 오는 건 괜찮은데, 곧 지겨워질 것 같아. \n",
      "#Person2#: 나도 그런 생각 했어. 금요일 밤에 친구들이랑 나가는 대신 나무 위에 집에서 새랑 다람쥐랑 대화하는 거 상상할 수 있겠어? \n",
      "#Person1#: 그렇게 하면 외로워질 것 같아. \n",
      "#Person2#: 그리고 어디서 카푸치노 한 잔을 마실 수 있겠어? \n",
      "#Person1#: 그건 정말 없으면 안 되지. 우리 도시 사람들은 꽤 버릇이 들어서. \n",
      "#Person2#: 맞아. 그래도 새랑 오래 대화하는 이상한 사람 되는 것보단 버릇드는 게 나아.\n",
      "\n",
      "Pred Summary: This dialogue is about two people discussing the pros and cons of living in a peaceful and quiet place. Person 1 is appreciating the tranquility of the place but is unsure if they could live there permanently. Person 2 agrees but also expresses concerns about getting bored and missing out on social activities like going out with friends and drinking coffee. Person 1 also mentions that they wouldn't want to become a strange person who spends too much time talking to birds and squirrels.\n",
      "\n",
      "Gold Summary: #Person1#과 #Person2#는 자연 속에서의 생활이 조용하고 평화롭다고 인정하지만, 결국 도시 생활을 더 선호한다고 결론을 내린다.\n",
      "\n",
      "====================================================================================================\n",
      "Dialogue:\n",
      "#Person1#: 수야, 몇 살이니?\n",
      "#Person2#: 나 일곱 살이야.\n",
      "#Person1#: 그렇구나, 케이크에 촛불이 일곱 개 있네.\n",
      "#Person2#: 응, 나 일곱 살. 이제 난 큰 아이야.\n",
      "#Person1#: 여기서 파티할 거지?\n",
      "#Person2#: 응, 어서 와. 같이 재미있게 놀자.\n",
      "\n",
      "Pred Summary: #Person1#: Hey, how old are you?\n",
      "#Person2#: I'm seven years old.\n",
      "#Person1#: Oh, there are seven candles on the cake.\n",
      "#Person2#: Yeah, I'm seven years old. I'm a big kid now.\n",
      "#Person1#: Are you going to have a party here?\n",
      "#Person2#: Yeah, come on. Let's have fun together.\n",
      "\n",
      "Gold Summary: #Person2#는 #Person1#에게 자신이 일곱 살이 되었고, 생일 파티를 열 것이라고 말한다.\n",
      "\n",
      "====================================================================================================\n",
      "Dialogue:\n",
      "#Person1#: 저기요, 실례합니다.\n",
      "#Person2#: 네, 무엇을 도와드릴까요?\n",
      "#Person1#: 저는 이곳 수학과 대학원생입니다. 중국에서 막 와서 서양 도서관을 이용해본 적이 없어요. 여기서 5년 머무를 예정이라 도서관을 효율적으로 사용하고 싶습니다. 혹시 도서관을 둘러볼 시간을 내줄 수 있을까요?\n",
      "#Person2#: 기꺼이 둘러봐 드리고 싶지만 지금은 너무 바빠서요. 3시 30분쯤 다시 오실 수 있나요?\n",
      "#Person1#: 물론이죠. 오늘 오후 3시 30분에요.\n",
      "#Person2#: 좋아요. 그때 뵙겠습니다.\n",
      "#Person1#: 감사합니다. 안녕히 계세요.\n",
      "\n",
      "Pred Summary: The person is asking for help in using the library. They are a graduate student in mathematics from China and have never used a Western library before. They want to make the most of their time at the library and ask if the person can show them around. The person is busy at the moment but offers to show them around at 3:30. The person agrees and thanks them.\n",
      "\n",
      "Gold Summary: #Person1#은 #Person2#에게 도서관 안내를 요청하지만, #Person2#가 현재 시간이 없어 오후에 만나기로 합니다.\n",
      "\n",
      "====================================================================================================\n",
      "Dialogue:\n",
      "#Person1#: 한지 열 장, 붓 25개, 유화 두 상자, 수채화 두 상자. 모두 합해서 $35.50입니다, 손님.\n",
      "#Person2#: 네, 여기 $50입니다. 아, 계산서 좀 받을 수 있을까요?\n",
      "#Person1#: 물론이죠, 잠시만요. 혹시 예술가이신가요?\n",
      "#Person2#: 아니요, 저는 선생님입니다. 미술을 가르쳐요.\n",
      "#Person1#: 정말 흥미로운 직업이겠네요.\n",
      "#Person2#: 그렇죠. 여기 처음이신가 봐요. 저는 매주 여기서 장을 봐요.\n",
      "#Person1#: 그러세요? 만나서 반갑습니다! 그리고 여기 계산서와 거스름돈 받으세요.\n",
      "#Person2#: 감사합니다. 저도 만나서 반가웠어요.\n",
      "\n",
      "Pred Summary: #Person1#: Ten sheets of paper, 25 brushes, two boxes of oil paint, and two boxes of watercolor. All together, that’s $35.50, sir.\n",
      "#Person2#: Yes, here’s $50. Oh, can I get a receipt?\n",
      "#Person1#: Of course, just a moment. Are you an artist?\n",
      "#Person2#: No, I’m a teacher. I teach art.\n",
      "#Person1#: That must be an interesting job.\n",
      "#Person2#: Yes, it is. You must be new here. I shop here every week.\n",
      "#Person1#: Really? Nice to meet you! And here’s your receipt and change.\n",
      "#Person2#: Thank you. It was nice to meet you, too.\n",
      "\n",
      "Gold Summary: #Person2#가 미술 도구를 구입하고 #Person1#에게 계산서를 요청합니다.\n",
      "\n",
      "====================================================================================================\n",
      "Dialogue:\n",
      "#Person1#: 공사는 잘 진행되고 있어요?\n",
      "#Person2#: 음, 약간 지연이 생겼습니다.\n",
      "#Person1#: 문제가 뭐예요? 지금 이 단계에서 지연이 생기면 곤란해요. 엄청 빡빡한 일정으로 진행 중이고 이미 예산을 초과했어요.\n",
      "#Person2#: 시멘트가 늦게 도착했지만 걱정 마세요. 여전히 마감 기한을 맞출 수 있을 거라고 자신합니다. 팀도 대기 중이고 시멘트가 굳기만 하면 바로 다시 시작할 수 있어요.\n",
      "#Person1#: 알겠습니다. 계속 상황을 알려주세요. 제시간에 꼭 끝내줘야 해요.\n",
      "\n",
      "Pred Summary: #Person1#: Is the construction going well?\n",
      "#Person2#: Uh, there's a slight delay.\n",
      "#Person1#: What's the problem? It's a tight schedule and we've already gone over budget.\n",
      "#Person2#: The cement is late, but don't worry. I'm confident we can still meet the deadline. The team is on standby and we can start right away once the cement sets.\n",
      "#Person1#: Okay, keep me updated. We have to finish on time.\n",
      "\n",
      "Gold Summary: #Person2#는 시멘트가 늦게 도착하여 공사가 지연되었다고 #Person1#에게 전합니다.\n",
      "\n",
      "====================================================================================================\n",
      "Dialogue:\n",
      "#Person1#: 안녕하세요, 손님. 어떻게 도와드릴까요?\n",
      "#Person2#: 안녕하세요. 체크아웃 하려고 해요. 제 방은 1005호예요.\n",
      "#Person1#: 네, 잠시만 기다려 주세요. 월요일에 체크인하셔서 1005호 싱글룸에서 3박 하셨네요. 맞나요?\n",
      "#Person2#: 네. 제 계산서를 볼 수 있을까요?\n",
      "#Person1#: 네, 여기 있습니다. 질문 없으시면, 아래 빈칸에 서명해 주시겠어요?\n",
      "#Person2#: 네, 제 영수증도 주세요.\n",
      "#Person1#: 여기 있어요. 저희와 함께 해주셔서 감사드리며, 다시 뵙기를 기대합니다. 좋은 하루 되세요.\n",
      "\n",
      "Pred Summary: Dialogue:\n",
      "#Person1#: Hello, sir. How can I help you?\n",
      "#Person2#: Hello. I'm checking out. My room is 1005.\n",
      "#Person1#: Yes, please wait a moment. You checked in on Monday and stayed in a single room 1005 for 3 nights. Is that correct?\n",
      "#Person2#: Yes. Can I see my bill?\n",
      "#Person1#: Yes, here it is. If you have no questions, please sign below.\n",
      "#Person2#: Yes, please give me my receipt.\n",
      "#Person1#: Here you go. Thank you for staying with us, and we look forward to seeing you again. Have a nice day.\n",
      "\n",
      "Gold Summary: #Person2#가 호텔에서 #Person1#의 도움을 받아 체크아웃을 합니다.\n",
      "\n",
      "====================================================================================================\n",
      "Dialogue:\n",
      "#Person1#: 안녕하세요, Mr. Green. Lin Tong입니다. 잘 지내셨어요?\n",
      "#Person2#: 안녕하세요, Mr. Lin. 내일 떠날 예정이라 짐을 싸고 있습니다.\n",
      "#Person1#: 아, 죄송해요. 방해해서 미안해요. 하지만 작별 인사를 드리려고 전화했어요. 정말 죄송하지만 내일 공항에 배웅 나가지 못할 것 같아요. 중요한 회의가 있어서요.\n",
      "#Person2#: 괜찮습니다, Mr. Lin. 이해합니다. 항상 바쁘신 거 압니다. 일이 우선이죠.\n",
      "#Person1#: 정말 감사합니다. 벌써 거의 3주나 됐네요. 시간이 참 빨리 가요!\n",
      "#Person2#: 네, 그렇죠. 나진에 있는 동안 도와주셔서 정말 감사합니다.\n",
      "#Person1#: 저도 기쁩니다. 함께 일할 수 있어서 정말 즐거웠습니다.\n",
      "#Person2#: 저도요. 다시 함께 일하게 되길 기다리고 있습니다.\n",
      "#Person1#: 그래요? 좋네요! 그럼요. 비행기 편명이 어떻게 되나요? 내일 언제 출발하시나요?\n",
      "#Person2#: Northey 항공 104편으로, 내일 밤 10시에 떠납니다.\n",
      "#Person1#: 알겠습니다. 누군가를 보내 배웅해 드릴게요.\n",
      "#Person2#: 정말 세심하시네요.\n",
      "#Person1#: 기쁩니다. 잘 다녀오세요. 즐거운 여행 되세요.\n",
      "#Person2#: 정말 감사합니다. 저와 제 아내도 당신의 방문을 기대하고 있습니다.\n",
      "#Person1#: 좋습니다. 꼭 그렇게 하죠. 곧 다시 만날 수 있길 바라요. 연락 계속하죠. 안녕히 계세요.\n",
      "#Person2#: 안녕히 가세요. 다시 한번 감사합니다.\n",
      "\n",
      "Pred Summary: The dialogue is between two people, Mr. Lin and Mr. Green. Mr. Lin is calling to say goodbye to Mr. Green before he leaves for his trip. Mr. Green is packing his bags and Mr. Lin apologizes for interrupting him. Mr. Lin explains that he has an important meeting and won't be able to accompany Mr. Green to the airport. Mr. Green understands and thanks Mr. Lin for his help during his stay in Na-jin. They both express their gratitude for the opportunity to work together and look forward to working together again. Mr. Lin asks for Mr. Green's flight details and Mr. Green provides them. Mr. Lin offers to send someone to see him off and Mr. Green thanks him for his thoughtfulness. They both say goodbye and express their hopes to see each other again soon.\n",
      "\n",
      "Gold Summary: Lin Tong은 Mr. Green에게 전화로 공항에서 배웅하지 못한다고 알리며 감사와 작별 인사를 나눈다.\n",
      "\n",
      "====================================================================================================\n",
      "Dialogue:\n",
      "#Person1#: Albert? 이 승인서에 공동 서명 좀 해줄 수 있어? 회계가 까다롭게 굴고 있거든. \n",
      "#Person2#: 알겠어. 나도 보낸 승인서를 이미 두 번이나 되돌려받았어. 어디에 서명하면 돼? \n",
      "#Person1#: 여기야. 우리가 새로 받는 팩스기에 관한 거야. \n",
      "#Person2#: 아, 맞다. 기억나. 여기 있어. 네가 나처럼 문제없이 잘 해결되길 바래!\n",
      "\n",
      "Pred Summary: Albert, can you co-sign this approval? Accounting is being difficult.\n",
      "Alright. I’ve already had two of my approvals sent back. Where do I sign?\n",
      "Here. It’s about the new fax machine we’re getting.\n",
      "Oh, right. Here you go. I hope you get through it as easily as I did!\n",
      "\n",
      "Gold Summary: #Person1#은 #Person2#에게 팩스기 관련 승인서에 공동 서명을 부탁했습니다.\n",
      "\n",
      "====================================================================================================\n",
      "Dialogue:\n",
      "#Person1#: 이 주제에 대한 정보를 어디서 찾을 수 있을까?\n",
      "#Person2#: 잘 모르겠어. 카탈로그를 한번 찾아보자.\n",
      "#Person1#: 이 실험에 대해 조언 좀 해줄래?\n",
      "#Person2#: 먼저 전원 쪽을 조치하는 게 좋겠어.\n",
      "#Person1#: 그가 이 작업에 대해 뭐라고 제안했어?\n",
      "#Person2#: 바로 작업을 시작하라고 제안했어.\n",
      "#Person1#: 내 생각에는 그들이 우리와 합류할 것 같아.\n",
      "#Person2#: 나도 그렇게 생각해.\n",
      "\n",
      "Pred Summary: This program converts all the Korean sentences that are inputted into English.\n",
      "Dialogue:\n",
      "#Person1#: Where can I find information on this topic?\n",
      "#Person2#: I don't know. Let's look in the catalog.\n",
      "#Person1#: Can you give me some advice on this experiment?\n",
      "#Person2#: I think you should start by dealing with the power supply.\n",
      "#Person1#: What did he suggest about this work?\n",
      "#Person2#: He suggested that we start working on it right away.\n",
      "#Person1#: I think they will join us.\n",
      "#Person2#: I think so too.\n",
      "\n",
      "Gold Summary: #Person1#과 #Person2#는 실험에 대해 논의하며, #Person1#은 #Person2#에게 조언과 제안을 요청합니다.\n",
      "\n",
      "====================================================================================================\n",
      "Dialogue:\n",
      "#Person1#: 린다야, 나 토드야.\n",
      "#Person2#: 토드구나! 전화해줘서 정말 반가워!\n",
      "#Person1#: 지난 금요일 밤 너랑 함께 있어 정말 즐거웠어.\n",
      "#Person2#: 와, 네가 추천한 영화 정말 좋았어! 초대해줘서 고마워!\n",
      "#Person1#: 나도 좋았어. 이번 주 토요일에 폭포로 하이킹 가는 건 어때?\n",
      "#Person2#: 하이킹 좋지! 내가 맛있는 도시락 준비할게, 괜찮지?\n",
      "#Person1#: 린다, 정말 좋은 생각이야.\n",
      "#Person2#: 내가 도시락 맡을 테니까, 넌 다른 일정 준비해. 몇 시에 데리러 올 거야?\n",
      "#Person1#: 9시쯤 출발하고 싶어. 그래야 하이킹할 때 덥지 않을 것 같아.\n",
      "#Person2#: 9시 좋아! 그럼 토요일에 만나!\n",
      "\n",
      "Pred Summary: #Person1#: Linda, it's Todd.\n",
      "#Person2#: Hey Todd! It's so nice to hear from you!\n",
      "#Person1#: I had a great time with you last Friday night.\n",
      "#Person2#: Wow, the movie you recommended was awesome! Thanks for inviting me!\n",
      "#Person1#: I had a good time too. How about we go hiking to the waterfall this Saturday?\n",
      "#Person2#: Hiking sounds great! I'll pack a delicious picnic lunch, okay?\n",
      "#Person1#: Linda, that's a great idea.\n",
      "#Person2#: I'll take care of the picnic, so you can plan the rest of the day. What time should I pick you up?\n",
      "#Person1#: I'd like to leave around 9 am. That way it won't be too hot while we're hiking.\n",
      "#Person2#: 9 am sounds good! See you on Saturday!\n",
      "\n",
      "Gold Summary: 토드는 린다에게 지난 시간을 함께해 즐거웠다고 말하며, 토요일에 하이킹 여행에 초대한다.\n",
      "\n",
      "====================================================================================================\n",
      "Dialogue:\n",
      "#Person1#: 반품 정책은 어떻게 되나요?\n",
      "#Person2#: 영수증을 가지고 7일 이내에 가져오시면 전액 환불해 드립니다. 그리고 바지 수선이 필요하시면 가져오시면 무료로 해 드려요.\n",
      "#Person1#: 좋네요.\n",
      "#Person2#: 총 70달러입니다. 현금으로 하시겠어요, 카드로 하시겠어요?\n",
      "#Person1#: 카드로 할게요. 여기요.\n",
      "#Person2#: 네, 손님. 여기 있습니다. 감사합니다.\n",
      "#Person1#: 감사합니다.\n",
      "\n",
      "Pred Summary: The dialogue is about a return policy and a purchase. The customer asks about the return policy and the salesperson explains that they can return the item within 7 days with a receipt and get a full refund. They also offer free alterations for pants. The customer expresses satisfaction and the salesperson asks if they want to pay with cash or card. The customer chooses to pay with card and the salesperson confirms the payment and thanks them. The customer thanks the salesperson as well.\n",
      "\n",
      "Gold Summary: #Person1#이 #Person2#에게 반품 정책에 대해 문의한 후 바지를 구매합니다.\n",
      "\n",
      "====================================================================================================\n",
      "Dialogue:\n",
      "#Person1#: 오늘 저녁 뭐 먹을까?\n",
      "#Person2#: 네가 요리하기로 한 거 먹어.\n",
      "#Person1#: 너 요리 안 할 거야?\n",
      "#Person2#: 아니, 항상 내가 요리하잖아.\n",
      "#Person1#: 맞아, 너 요리 진짜 잘하잖아.\n",
      "#Person2#: 빈말 하지 마. 배고프면 네가 해 먹어.\n",
      "#Person1#: 진심이야?\n",
      "#Person2#: 나 오늘 진짜 피곤해. 저녁 요리하고 싶지 않아.\n",
      "#Person1#: 그래, 그럼 오늘은 내가 할게.\n",
      "#Person2#: 고마워. 나 먼저 잘게.\n",
      "#Person1#: 저녁 준비되면 깨워줄까?\n",
      "#Person2#: 응, 부탁해.\n",
      "\n",
      "Pred Summary: #Person1#: What should we eat for dinner?\n",
      "#Person2#: You can cook.\n",
      "#Person1#: Are you not cooking?\n",
      "#Person2#: No, you always cook.\n",
      "#Person1#: That's right, you cook really well.\n",
      "#Person2#: Don't flatter me. If you're hungry, you can cook.\n",
      "#Person1#: Are you serious?\n",
      "#Person2#: I'm really tired today. I don't want to cook dinner.\n",
      "#Person1#: Okay, I'll do it then.\n",
      "#Person2#: Thanks. I'm going to bed first.\n",
      "#Person1#: Should I wake you up when dinner is ready?\n",
      "#Person2#: Yes, please.\n",
      "\n",
      "번역:\n",
      "\n",
      "#Person1#: 오늘 저녁 뭐 먹을까?\n",
      "#Person2#: 네가 요리하기로 한 거 먹어.\n",
      "#Person1#: 너 요리 안 할 거야?\n",
      "#Person2#: 아니, 항상 내가 요리하잖아.\n",
      "#Person1#: 맞아, 너 요리 진짜 잘하잖아.\n",
      "#Person2#: 빈말 하지 마. 배고프면 네가 해 먹어.\n",
      "#Person1#: 진심이야?\n",
      "#Person2#: 나 오늘 진짜 피곤해. 저녁 요리하고 싶지 않아.\n",
      "#Person1#: 그래, 그럼 오늘은 내가 할게.\n",
      "#Person2#: 고마워. 나 먼저 잘게.\n",
      "#Person1#: 저녁 준비되면 깨워줄까?\n",
      "#Person2#: 응, 부탁해.\n",
      "\n",
      "번역:\n",
      "\n",
      "#Person1#: What should we eat for dinner?\n",
      "#Person2#: You can cook.\n",
      "#Person1#: Are you not cooking?\n",
      "#Person2#: No, you always cook.\n",
      "#Person1#: That's right, you cook really well.\n",
      "#Person2#: Don't flatter me. If you're hungry, you can cook.\n",
      "#Person1#: Are you serious?\n",
      "#Person2#: I'm really tired today. I don't want to cook dinner.\n",
      "#Person1#: Okay, I'll do it then.\n",
      "#Person2#: Thanks. I'm going to bed first.\n",
      "#Person1#\n",
      "\n",
      "Gold Summary: #Person2#는 피곤해서 요리할 기분이 아니어서, #Person1#이 저녁을 만들기로 했습니다.\n",
      "\n",
      "====================================================================================================\n",
      "Dialogue:\n",
      "#Person1#: 내일 밤에 뭐 할 계획 있어?\n",
      "#Person2#: 딱히 없어. 영화나 보러 갈까 했는데 같이 갈래?\n",
      "#Person1#: 좋아. 무슨 영화 볼 생각이었어?\n",
      "#Person2#: Hot Fuzz 들어봤어?\n",
      "#Person1#: 응. 그 영화 감독이 Shaun of the Dead 만든 사람이잖아?\n",
      "#Person2#: 맞아. 액션 코미디 영화야. 어때?\n",
      "#Person1#: 솔직히 Shaun of the Dead 별로였어. 게다가 난 해피엔딩 영화가 더 좋더라고.\n",
      "#Person2#: 그래서 뭐 보고 싶은데?\n",
      "#Person1#: You, Me and Dupree 볼까 생각 중이야. 전형적인 할리우드 블록버스터야.\n",
      "#Person2#: 그거 Kate Hudson이랑 Owen Wilson 나오는 로맨틱 코미디 아니야?\n",
      "#Person1#: 응, 근데 너는 안 좋아할 것 같아.\n",
      "#Person2#: 맞아. 넌 전기 영화나 드라마 영화 좋아해?\n",
      "#Person1#: 그건 누구 이야기냐에 따라 달라. 무슨 영화 생각 중이야?\n",
      "#Person2#: Anne Hathaway가 나오는 Becoming Jane이란 영화가 있어. Jane Austen 이야기야.\n",
      "#Person1#: 정말 멋지게 들린다! 몇 시에 해?\n",
      "#Person2#: Phoenix Theatres에서 저녁 8시에 해. 거기 멤버십 있어서 미리 티켓 예약할 수 있어.\n",
      "#Person1#: 좋아. 내일 7시 45분쯤 거기서 만나자.\n",
      "#Person2#: 좋아. 그럼 내일 봐!\n",
      "\n",
      "Pred Summary: The conversation is between two people discussing their plans for the next day. Person1 asks Person2 what they are doing and Person2 says they don't have any plans. Person1 suggests going to the movies and Person2 asks if they have seen Hot Fuzz. Person1 says they have and that the director also made Shaun of the Dead. Person2 says it's an action comedy and Person1 says they didn't like Shaun of the Dead and prefer happy endings. Person2 asks what Person1 wants to see and Person1 says they are thinking about You, Me and Dupree. Person2 says it's a romantic comedy with Kate Hudson and Owen Wilson and Person1 says they don't think Person2 would like it. Person2 says they prefer electric movies or drama movies and asks what Person1 is thinking of. Person1 says it depends on the story and Person2 says there's a movie called Becoming Jane about Jane Austen. Person1 says it sounds great and asks what time it's on. Person2 says it's at 8pm at Phoenix Theatres and they can reserve tickets because they have a membership. Person1 says they'll meet there at 7:45pm and Person2 says they'll see each other tomorrow.\n",
      "\n",
      "Gold Summary: #Person1#과 #Person2#는 내일 함께 영화를 보기로 한다. #Person2#은 Hot Fuzz를 보고 싶어하지만, #Person1#은 해피엔딩이 있는 영화를 선호하여 Becoming Jane을 선택했다.\n",
      "\n",
      "====================================================================================================\n",
      "Dialogue:\n",
      "#Person1#: 여보세요. #PhoneNumber#입니다. \n",
      "#Person2#: 안녕하세요. 애나 있나요? \n",
      "#Person1#: 아니요, 죄송하지만 애나는 지금 나갔어요. \n",
      "#Person2#: 아, 그렇군요. 그럼 애나에게 제 메시지를 좀 전해주실 수 있을까요? \n",
      "#Person1#: 네, 어떤 메시지인가요? \n",
      "#Person2#: 애나가 저희 집에 차 마시러 오는데, 혹시 제 프랑스어 사전이 있는지 확인해 줄 수 있나요? 있으면 가져오라고 전해주세요. \n",
      "#Person1#: 알겠습니다. 어디서 전화하시는 거죠? \n",
      "#Person2#: #Address#입니다. 저는 애나의 친구 제니예요.\n",
      "\n",
      "Pred Summary: #Person1#: Hello. #PhoneNumber#. \n",
      "#Person2#: Hello. Is Anna there? \n",
      "#Person1#: No, I'm sorry, but Anna is out. \n",
      "#Person2#: Oh, okay. Can you please give her a message? \n",
      "#Person1#: Yes, what message? \n",
      "#Person2#: Anna is coming over to my house for tea, and I was wondering if she has my French dictionary. If she does, please tell her to bring it. \n",
      "#Person1#: Okay. Where are you calling from? \n",
      "#Person2#: #Address#. I'm Jenny, Anna's friend.\n",
      "\n",
      "Gold Summary: 제니가 애나에게 메시지를 전하려고 했고, #Person1#이 전화를 받아 애나는 외출 중임을 알린다.\n",
      "\n",
      "====================================================================================================\n",
      "Dialogue:\n",
      "#Person1#: 앞으로 50년 후에는 어떤 변화가 생길 것 같아?  \n",
      "#Person2#: 가장 큰 변화는 인간과 기계의 차이가 사라지는 거 아닐까 상상해 봐.  \n",
      "#Person1#: 그게 무슨 뜻이야?  \n",
      "#Person2#: 인간과 기계를 구별하기 어려워질 거라는 거지.  \n",
      "#Person1#: 좀 더 자세히 설명해줄 수 있어?  \n",
      "#Person2#: 과학이 발전하면서 몸의 모든 부분을 대체할 수 있을 거야. 그리고 컴퓨터가 인간의 뇌처럼 작동해서 감정도 인식하고 반응할 수 있게 될 거야.  \n",
      "#Person1#: 사람이 만든 인간이 생겨난다는 거야? 말도 안 돼!  \n",
      "#Person2#: 흥분하지 마, 그저 내 개인적인 상상일 뿐이야!  \n",
      "#Person1#: 계속 얘기해 봐, 진지하게 듣지 않을게.  \n",
      "#Person2#: 그러니까 우리 자신과 똑같은 기계를 만들 수 있게 될 거야. 우리가 죽은 후에도 살아 있는 것처럼 보일지도 몰라.  \n",
      "#Person1#: 정말 어처구니없는 생각이네!  \n",
      "#Person2#: 영혼을 새로운 몸에 넣는 방법도 발견될 수 있어. 그러면 원하는 만큼 살 수 있겠지.  \n",
      "#Person1#: 그렇게 되면 세상이 엉망이 되겠지!\n",
      "\n",
      "Pred Summary: #Person1#: What do you think will change in the next 50 years?  \n",
      "#Person2#: I think the biggest change will be that the difference between humans and machines will disappear.  \n",
      "#Person1#: What do you mean by that?  \n",
      "#Person2#: It means that it will be difficult to tell the difference between humans and machines.  \n",
      "#Person1#: Can you explain it more?  \n",
      "#Person2#: As science advances, we will be able to replace all parts of the body. And computers will be able to work like human brains, recognizing emotions and reacting to them.  \n",
      "#Person1#: Are you saying that humans will create humans? That's ridiculous!  \n",
      "#Person2#: Don't get excited, it's just my personal imagination!  \n",
      "#Person1#: Keep talking, I won't take it seriously.  \n",
      "#Person2#: So we will be able to create machines that are exactly like us. We may even be able to look alive after we die.  \n",
      "#Person1#: That's a really absurd idea!  \n",
      "#Person2#: We may also discover a way to put souls into new bodies. Then we could live as long as we want.  \n",
      "#Person1#: That would make the world a mess!\n",
      "\n",
      "Gold Summary: #Person2#는 미래의 가장 큰 변화가 인간과 기계의 차이가 사라지는 것이라고 상상한다. #Person1#는 #Person2#의 생각을 어처구니없다고 여긴다.\n",
      "\n",
      "====================================================================================================\n",
      "Dialogue:\n",
      "#Person1#: 안녕, Yang Mei. 미국 간다고 들었어.\n",
      "#Person2#: 맞아. 할머니랑 같이 가. 뉴저지에 있는 부모님 뵈러 가려고.\n",
      "#Person1#: 언제 떠나?\n",
      "#Person2#: 이번 주 금요일 저녁에. 비행기가 7시 15분에 떠나.\n",
      "#Person1#: 거기 얼마나 있을 거야?\n",
      "#Person2#: 6개월 있어.\n",
      "#Person1#: 6개월! 뉴욕에 있는 우리 할아버지, 할머니도 뵈러 가?\n",
      "#Person2#: 물론 가야지. 가능한 많은 곳을 가보고 싶어. 어떻게 여행하면 되지?\n",
      "#Person1#: 대부분 사람들이 차로 여행해. 도로가 아주 잘 되어 있어.\n",
      "#Person2#: 하지만 나 차도 없고, 운전도 못 해. 다른 방법은 없어?\n",
      "#Person1#: 버스를 이용하면 돼. 아주 저렴해.\n",
      "#Person2#: 기차로도 못 가?\n",
      "#Person1#: 응, 갈 수 있어. 미국에서는 기차가 비싸지만, 아주 빨라.\n",
      "#Person2#: 정말 고마워. 이제 가봐야겠어. 돌아오면 보자.\n",
      "#Person1#: 잘 다녀와, 여행 잘 하고!\n",
      "\n",
      "Pred Summary: #Person1#: Hey, Yang Mei. I heard you're going to America.\n",
      "#Person2#: That's right. I'm going with my grandma. We're going to see my parents in New Jersey.\n",
      "#Person1#: When are you leaving?\n",
      "#Person2#: This Friday evening. The flight leaves at 7:15.\n",
      "#Person1#: How long will you be there?\n",
      "#Person2#: Six months.\n",
      "#Person1#: Six months! Are you going to see our grandparents in New York too?\n",
      "#Person2#: Of course I am. I want to see as much as I can. How do you think I should travel?\n",
      "#Person1#: Most people travel by car. The roads are very well developed.\n",
      "#Person2#: But I don't have a car and I can't drive. Is there any other way?\n",
      "#Person1#: You can use the bus. It's very cheap.\n",
      "#Person2#: Can't I take the train?\n",
      "#Person1#: Yes, you can. Trains are expensive in America, but they're very fast.\n",
      "#Person2#: Thank you so much. I have to go now. See you when I get back.\n",
      "#Person1#: Have a good trip, and travel safe!\n",
      "\n",
      "Gold Summary: Yang Mei는 부모님과 #Person1#의 조부모님을 뵈러 미국에 갑니다. #Person1#은 여행 방법에 대해 제안합니다.\n",
      "\n",
      "====================================================================================================\n",
      "Dialogue:\n",
      "#Person1#: 도와드릴까요, 손님?\n",
      "#Person2#: 네, 부탁드려요. 신발 한 켤레 사고 싶어요.\n",
      "#Person1#: 어떤 사이즈로 드릴까요?\n",
      "#Person2#: 11 사이즈요.\n",
      "#Person1#: 네. 이거 어떠세요?\n",
      "#Person2#: 죄송하지만, 흰색은 별로예요. 다른 색도 있나요?\n",
      "#Person1#: 아, 네. 파란색, 갈색, 검은색도 있습니다.\n",
      "#Person2#: 검은색 좀 보여주실래요? 검은색이 제일 좋아하는 색이에요.\n",
      "#Person1#: 물론이죠. 여기 있습니다.\n",
      "#Person2#: 괜찮네요. 가격이 얼마죠?\n",
      "#Person1#: 50달러입니다.\n",
      "#Person2#: 신어봐도 될까요?\n",
      "#Person1#: 네, 그럼요.\n",
      "#Person2#: 좋아요. 이걸로 살게요. 여기 돈이요.\n",
      "#Person1#: 감사합니다.\n",
      "\n",
      "Pred Summary: Dialogue:\n",
      "#Person1#: Can I help you, sir?\n",
      "#Person2#: Yes, please. I want to buy a pair of shoes.\n",
      "#Person1#: What size would you like?\n",
      "#Person2#: Size 11, please.\n",
      "#Person1#: Sure. How about this one?\n",
      "#Person2#: Sorry, but I don't like white. Do you have any other colors?\n",
      "#Person1#: Oh, yes. We have blue, brown, and black.\n",
      "#Person2#: Can I see the black ones? Black is my favorite color.\n",
      "#Person1#: Of course. Here they are.\n",
      "#Person2#: They look good. How much are they?\n",
      "#Person1#: They are $50.\n",
      "#Person2#: Can I try them on?\n",
      "#Person1#: Yes, of course.\n",
      "#Person2#: Okay. I'll take these. Here's the money.\n",
      "#Person1#: Thank you.\n",
      "\n",
      "Gold Summary: #Person2#는 #Person1#의 도움으로 검은색 신발 한 켤레를 구매합니다.\n",
      "\n",
      "====================================================================================================\n",
      "Dialogue:\n",
      "#Person1#: Tom, 일어나! 거의 7시야.\n",
      "#Person2#: 아, 아침이에요? 알람시계 소리 났어요?\n",
      "#Person1#: 응, 났어.\n",
      "#Person2#: 근데 아무 소리도 못 들었어.\n",
      "#Person1#: 어젯밤에 몇 시로 맞췄어?\n",
      "#Person2#: 6시로.\n",
      "#Person1#: 서둘러, 안 그러면 학교에 늦어. 어디 아프니?\n",
      "#Person2#: 아니요, 그냥 밤새 깨어 있어서 졸린 거예요.\n",
      "#Person1#: 아침 준비됐어. 빨리 옷 갈아입고 나와. 아침 먹기 전에 세수하고 양치하는 거 잊지 마.\n",
      "#Person2#: 네, 지금 갈게요.\n",
      "\n",
      "Pred Summary: #Person1#: Tom, wake up! It's almost 7 o'clock.\n",
      "#Person2#: Oh, it's morning? Did the alarm clock go off?\n",
      "#Person1#: Yes, it did.\n",
      "#Person2#: But I didn't hear anything.\n",
      "#Person1#: What time did you set it to?\n",
      "#Person2#: 6 o'clock.\n",
      "#Person1#: Hurry up, or you'll be late for school. Are you sick?\n",
      "#Person2#: No, I'm just tired from staying up all night.\n",
      "#Person1#: Breakfast is ready. Hurry up and get dressed. Don't forget to wash your face and brush your teeth before eating.\n",
      "#Person2#: Yes, I'm going now.\n",
      "\n",
      "Gold Summary: 엄마가 Tom을 깨우며 서두르지 않으면 학교에 늦을 것이라고 재촉합니다.\n",
      "\n",
      "====================================================================================================\n",
      "Dialogue:\n",
      "#Person1#: 안녕, Lucy. 나 Mac이야. 잘 지내?\n",
      "#Person2#: 잘 지내, 고마워. 좀 많이 바빠. 새 아파트에서 정리 좀 하느라.\n",
      "#Person1#: 아, 그렇구나. 근데 내일 저녁에 콘서트 보러 갈래? 네가 팝 음악 좋아한다고 했던 것 같은데.\n",
      "#Person2#: 맞아, 좋아해. 물어봐줘서 고마워, Mac. 근데 안 될 것 같아. Margaret가 이미 친구 만나자고 했고, 같이 영화 보러 가기로 했어. 사실 오늘 저녁에 표 사기로 했거든.\n",
      "#Person1#: 아, 그래. 괜찮아. 그럼 다음 주말은 어때? 다음 주 토요일이면 이 콘서트 아직 할 텐데, 시간 괜찮아?\n",
      "#Person2#: 아, 그건 좋지! 근데 정확히 몇 시에 시작해?\n",
      "#Person1#: 음... 7시일 거야.\n",
      "#Person2#: 아, 좋아. 그때면 괜찮아. 농구 경기도 5시 30분이면 끝날 거야, 확실해.\n",
      "#Person1#: 좋아, 표 사면 다시 연락할게.\n",
      "#Person2#: 그래. 그럼 이만 안녕.\n",
      "\n",
      "Pred Summary: Mac and Lucy are talking about going to a concert. Lucy can't go because she already has plans with her friend Margaret. They agree to go to the concert next weekend.\n",
      "\n",
      "Gold Summary: Mac이 Lucy에게 전화를 걸어 내일 콘서트에 가자고 하지만, Lucy는 이미 약속이 있다. 그래서 Mac은 시간대를 다음 주로 바꾸고, Lucy는 기쁘게 동의한다.\n",
      "\n",
      "====================================================================================================\n",
      "Dialogue:\n",
      "#Person1#: 저기요, 뉴욕행 비행편에 대해 알고 싶어요.\n",
      "#Person2#: 네, 잠시만요. 방금 5분 전에 출발한 게 하나 있고요, 그리고 10시에 또 하나 있네요.\n",
      "#Person1#: 지금 몇 시인가요?\n",
      "#Person2#: 8시 5분 전이에요.\n",
      "#Person1#: 그러면 그 비행기는 약 2시간 후에 출발하겠네요.\n",
      "#Person2#: 맞아요. 표는 구매하셨나요?\n",
      "#Person1#: 아니요, 아직 안 샀어요. 여기서 살 수 있나요?\n",
      "#Person2#: 아쉽지만 여기서는 구매할 수 없어요. 표는 예매소로 가시는 게 좋겠어요.\n",
      "\n",
      "Pred Summary: #Person1#: I'd like to know about the flight to New York.\n",
      "#Person2#: Yes, just a moment. There was one that just left 5 minutes ago, and there's another one at 10.\n",
      "#Person1#: What time is it now?\n",
      "#Person2#: It's 8:05.\n",
      "#Person1#: So that flight will leave in about 2 hours.\n",
      "#Person2#: Yes. Have you purchased your ticket?\n",
      "#Person1#: No, I haven't. Can I buy it here?\n",
      "#Person2#: I'm sorry, but you can't buy it here. You should go to the ticket counter.\n",
      "\n",
      "Gold Summary: #Person2#는 #Person1#에게 뉴욕행 비행편 정보를 제공하고, 표는 예매소에서 구매하는 것이 좋다고 안내합니다.\n",
      "\n",
      "====================================================================================================\n",
      "Dialogue:\n",
      "#Person1#: 안녕, Susan. 어떻게 지내? 너를 언제 만날지 궁금했어. 뭐 때문에 바빠? \n",
      "#Person2#: 여기서 만나서 반가워, Tim. 동료들 크리스마스 선물 사는 게 정말 골치 아파. \n",
      "#Person1#: 내가 몇 가지 조언해줄까? 먼저, 몇 그룹으로 나누는 게 좋아. 친구도 되고 동료도 되는 사람들과, 자주 보지만 잘 모르는 사람들로 나눠봐. \n",
      "#Person2#: 알겠어, 그럼 어떻게 해야 할까? \n",
      "#Person1#: 친구들한텐 개인적인 선물이 좋아. 초콜릿 좋아해? \n",
      "#Person2#: 항상 주는 선물이긴 한데 Mary는 지금 다이어트 중이야. \n",
      "#Person1#: 그럼 과일이나 커피 어때? 어쨌든 친구가 좋아할 만한 걸 생각해봐. \n",
      "#Person2#: 음, 과일이 건강에도 좋을 것 같아. 나머지 사람들은 어떻게 할까? \n",
      "#Person1#: 그들의 우편함이나 책상 위에 카드를 놓으면 돼. \n",
      "#Person2#: 크리스마스 카드? \n",
      "#Person1#: 응, 부담 없잖아. 그리고 그들에게 네가 생각하고 있다는 걸 전하는 게 중요해. \n",
      "#Person2#: 고마워, Tim. 네 덕분에 정말 정리가 잘됐어.\n",
      "\n",
      "Pred Summary: Tim and Susan are talking about Christmas gifts. Tim suggests that Susan should divide her colleagues into two groups: friends and people she knows but doesn’t know well. For friends, he suggests giving personal gifts, such as chocolate or fruit. For people she doesn’t know well, he suggests leaving a Christmas card on their desk or in their mailbox. Susan thanks Tim for his advice.\n",
      "\n",
      "Gold Summary: Susan은 크리스마스 선물에 관한 Tim의 조언을 듣고 동료들에게 적합한 선물을 준비하기로 했다.\n",
      "\n",
      "====================================================================================================\n",
      "Dialogue:\n",
      "#Person1#: 안녕, Jack. 누구한테 편지 쓰고 있어?\n",
      "#Person2#: 부모님께 이번 여름에 여기 있을 거라고 얘기하고 있어.\n",
      "#Person1#: 집에 안 가는 거야? 가족이랑 일본 여행 간다고 들었는데.\n",
      "#Person2#: 원래는 같이 가려고 했는데 다시 생각해보고 마음이 바뀌었어.\n",
      "#Person1#: 뭐가 너를 사랑하는 가족과 떨어지게 하고 여기 머물게 하는지 궁금한데. 공부 때문은 아닐 거야.\n",
      "#Person2#: 아니, 물론 아니지. Michael이 그의 삼촌 기관에서 일할 수 있게 해줬어.\n",
      "#Person1#: 얼마나 받을 건데?\n",
      "#Person2#: Judy, 돈 때문에 하는 게 아니라 경험을 위해 하는 거야. 게다가 자원봉사야.\n",
      "#Person1#: 돈도 안 받고 일한다고? 대단하네.\n",
      "#Person2#: 너는 언제 집에 갈 거야?\n",
      "#Person1#: 내일. 이틀 후에 하와이로 날아갈 거야. 이제 짐 싸야 해.\n",
      "#Person2#: 그럼 가봐. 즐거운 휴가 보내!\n",
      "#Person1#: 엽서 보낼게.\n",
      "\n",
      "Pred Summary: Person1 asks Person2 who they are writing a letter to. Person2 says they are writing to their parents to tell them they will be staying here this summer. Person1 says they heard Person2's family was going on a trip to Japan. Person2 says they were going to go with them but changed their mind. Person1 asks what made Person2 change their mind and Person2 says Michael got them a job at his uncle's institution. Person1 asks how much they will be paid and Person2 says it's not about the money, it's about the experience and it's a volunteer position. Person1 says it's great that they are not getting paid and Person2 asks when Person1 is going home. Person1 says they are leaving tomorrow and flying to Hawaii in two days. Person2 says have fun and Person1 says they will send a postcard.\n",
      "\n",
      "Gold Summary: Jack은 방학 동안 일하는 경험을 얻기 위해 자원봉사를 하며 머물고, #Person1#은 집으로 떠나 하와이로 여행을 떠난다.\n",
      "\n",
      "====================================================================================================\n",
      "Dialogue:\n",
      "#Person1#: 지금도 직장에서 여성에 대한 차별이 여전히 많다고 생각해요? \n",
      "#Person2#: 커리어우먼으로서 제 경험으로 보면, 예전보다는 나아졌지만 여전히 큰 문제라고 할 수 있어요. 사회는 변해가고 있지만, 여전히 많은 직업에서 여성에게 보이지 않는 장벽이 존재하죠.\n",
      "#Person1#: 그 보이지 않는 장벽이 전통적인 사회 관습 때문일까요? 아니면 다른 여러 문제들이 얽혀 있는 걸까요?\n",
      "#Person2#: 아주 복잡한 문제인 것 같아요. 여성이 직장에서 승진하기 어려운 이유는 기회가 적고, 남성 관리자들이 많기 때문이죠. 소위 '좋은 친구들' 시스템을 과소평가하지 마세요. 남성들이 권력을 쉽게 유지할 수 있는 이유이기도 하니까요.\n",
      "#Person1#: 차별 철폐는요? 법이 많이 바뀌지 않았나요?\n",
      "#Person2#: 차별 철폐를 위한 제도들이 있긴 하지만, 여전히 남성 중심의 세계죠.\n",
      "\n",
      "Pred Summary: #Person1#: Do you think there is still a lot of discrimination against women in the workplace? \n",
      "#Person2#: From my experience as a career woman, things have improved, but it is still a big problem. Society is changing, but there are still many invisible barriers for women in many jobs.\n",
      "#Person1#: Do you think those invisible barriers are due to traditional social conventions or other complex issues?\n",
      "#Person2#: It's a very complex issue. Women have a hard time advancing in the workplace because there are fewer opportunities and more male managers. Don't underestimate the so-called \"good old boys\" system. It's also the reason why men can easily maintain their power.\n",
      "#Person1#: What about discrimination? Haven't laws changed a lot?\n",
      "#Person2#: There are laws to combat discrimination, but it's still a male-dominated world.\n",
      "\n",
      "Gold Summary: #Person2#는 #Person1#과 직장에서의 여성 차별과 유리천장 문제에 대한 의견을 나눕니다.\n",
      "\n",
      "====================================================================================================\n",
      "Dialogue:\n",
      "#Person1#: 한국어 수업 등록할래? \n",
      "#Person2#: 왜? 아, 우리 회사가 내년에 한국 시장으로 사업 확장할 거라고 했지. \n",
      "#Person1#: 맞아, 서울에 있는 사업 파트너를 찾았거든. 첫 만남이 잘 돼서 성공적이었어. 한국 회사의 총괄 매니저가 다음 달에 우리한테 방문하기로 했어. 조만간 그들과의 합작 회사 설립도 가능할 것 같아. \n",
      "#Person2#: 와, 전망 좋다. 근데 회사가 필요하다면 우리에게 언어 교육 과정을 제공할 것 같은데? 우리 스스로 언어 수업에 등록할 필요는 없을 것 같아. \n",
      "#Person1#: '느린 제비가 빨리 출발해야 해'라는 말이 있잖아. 난 언어 배우는 게 빠르지 않거든.\n",
      "\n",
      "Pred Summary: #Person1#: Do you want to register for the Korean class? \n",
      "#Person2#: Why? Oh, our company is going to expand our business to the Korean market next year. \n",
      "#Person1#: Right, we found a business partner in Seoul. The first meeting went well and was successful. The general manager of the Korean company will visit us next month. We might be able to establish a joint venture with them soon. \n",
      "#Person2#: Wow, that sounds promising. But I think the company will provide us with language education courses. We don't need to register for language classes ourselves. \n",
      "#Person1#: There's a saying, \"The slow swallow must start early.\" I'm not good at learning languages.\n",
      "\n",
      "Gold Summary: 회사가 한국 시장으로 사업을 확장할 계획이라 #Person1#은 한국어 수업에 등록하려 하고, #Person2#는 회사에서 제공하는 언어 교육을 선호하고 있습니다.\n",
      "\n",
      "====================================================================================================\n",
      "Dialogue:\n",
      "#Person1#: 제 딸에게 줄 선물을 고르는 걸 도와주실 수 있나요?\n",
      "#Person2#: 따님이 노트북에 관심이 있을까요?\n",
      "#Person1#: 그게 제가 생각하던 거예요.\n",
      "#Person2#: 맥북은 정말 좋은 선물이 될 겁니다.\n",
      "#Person1#: 저도 맥북을 좋아해요. 가격이 얼마나 되나요?\n",
      "#Person2#: 지금 15인치 프로 모델을 $2,100에 구매하실 수 있어요.\n",
      "#Person1#: 맥북으로 결정했어요. 하나 살게요.\n",
      "#Person2#: 따님이 정말 기뻐할 거예요. 결제는 어떻게 하실 건가요?\n",
      "#Person1#: VISA로 할게요. 괜찮나요?\n",
      "#Person2#: 여기 서명만 하시면 맥북은 고객님의 것입니다.\n",
      "#Person1#: 이 상자 안에 있어서 다른 게 필요할까요?\n",
      "#Person2#: 필요한 모든 게 다 들어있어요.\n",
      "#Person1#: 도와주셔서 감사합니다. 나중에 컴퓨터 관련 용품을 더 사러 올 수도 있어요.\n",
      "#Person2#: 이제부터 따님이 올백을 받을 걸요. 안녕히 가세요.\n",
      "\n",
      "Pred Summary: The customer is looking for a gift for their daughter and is interested in a MacBook. The salesperson suggests a 15-inch Pro model for $2,100 and the customer decides to purchase it with a VISA card. The salesperson confirms that the MacBook is now the customer's and thanks them for their business.\n",
      "\n",
      "Gold Summary: #Person1#은 딸에게 줄 선물을 고르기 위해 #Person2#의 도움을 받아 노트북을 구매합니다.\n",
      "\n",
      "====================================================================================================\n",
      "Dialogue:\n",
      "#Person1#: 그 사람은 화이트데이를 기억 못 할걸.\n",
      "#Person2#: 바보야, 꼭 기억하게 만들어야지.\n",
      "#Person1#: 응응. 너는 어때?\n",
      "#Person2#: 난 핸드백 받고 멋진 레스토랑에서 저녁 먹기로 했어.\n",
      "#Person1#: 작은 선물로 큰 대가를 얻었네.\n",
      "\n",
      "Pred Summary: The input sentences are converted to English.\n",
      "\n",
      "Dialogue:\n",
      "#Person1#: He won't remember White Day.\n",
      "#Person2#: You idiot, you have to remind him.\n",
      "#Person1#: Yeah yeah. What about you?\n",
      "#Person2#: I'm getting a handbag and we're going to a nice restaurant for dinner.\n",
      "#Person1#: You got a big reward for a small gift.\n",
      "\n",
      "Gold Summary: #Person1#과 #Person2#는 화이트데이를 기억하는 것과 계획에 대해 이야기한다.\n",
      "\n",
      "====================================================================================================\n",
      "Dialogue:\n",
      "#Person1#: 그래서 이번 여름에 무슨 일 구했어?\n",
      "#Person2#: 마케팅 회사에서 텔레마케팅 일을 해.\n",
      "#Person1#: 아, 그래서 나한테 필요도 없는 거 사라고 전화하는 사람들 중 하나구나. 그거 좋아해?\n",
      "#Person2#: 믿기 어렵겠지만, 좋아해. 학생들이 많이 일해서 통화 안 할 때는 정말 재미있어. 그냥 읽기만 하면 되니까 정말 쉬워.\n",
      "#Person1#: 이거 풀타임으로 하는 거야?\n",
      "#Person2#: 응, 근데 오후 2시부터 밤 11시까지 일해서 아침에는 원하는 만큼 잘 수 있어.\n",
      "\n",
      "Pred Summary: #Person1#: So what did you get for a summer job?\n",
      "#Person2#: I work at a marketing company doing telemarketing.\n",
      "#Person1#: Oh, so you're one of those people calling me to buy stuff I don't need. Do you like it?\n",
      "#Person2#: It's hard to believe, but I do. It's really fun when students aren't calling, because I just read the script and it's really easy.\n",
      "#Person1#: Is this full-time?\n",
      "#Person2#: Yeah, but I work from 2pm to 11pm, so I can sleep in as much as I want in the morning.\n",
      "\n",
      "Gold Summary: #Person2#는 텔레마케팅 일을 하면서 동료와 잘 지내고 충분한 수면 시간을 가질 수 있어서 그 일을 즐긴다고 #Person1#에게 말합니다.\n",
      "\n",
      "====================================================================================================\n",
      "Dialogue:\n",
      "#Person1#: 안녕하세요, 선샤인 꽃집입니다. Shareen입니다.\n",
      "#Person2#: 저는 Tom Hanks입니다. 어머니께 꽃을 보내드리고 싶습니다.\n",
      "#Person1#: 좋습니다, Mr. Hanks. 어떤 꽃을 원하시나요?\n",
      "#Person2#: 빨간 카네이션 한 다발을 보내고 싶습니다.\n",
      "#Person1#: 빨간 카네이션 한 다발이요? 이번 주말에 긴 줄기의 빨간 카네이션이 한 다발에 12파운드에 판매 중입니다. 정말 예뻐요.\n",
      "#Person2#: 좋습니다, 그걸로 할게요.\n",
      "#Person1#: Mr. Hanks, 주소를 알려주세요.\n",
      "#Person2#: 주소는 #Address#입니다. 카드에는 간단하게 '사랑하는 엄마에게, 언제나 사랑해, Tom'라고 적어주세요.\n",
      "#Person1#: 물론이죠. 알겠습니다. 언제 도착하면 될까요?\n",
      "#Person2#: 6월 17일 오후 5시 전에 도착해야 합니다. 어머니 전화번호는 #PhoneNumber#입니다. 배달 전에 꼭 전화주세요.\n",
      "#Person1#: 문제 없어요. Mr. Hanks, 한 가지 더 질문이 있는데요. 결제는 어떻게 하실 건가요?\n",
      "#Person2#: 비자 카드로 계산해 주세요. 카드 번호는 #CardNumber#입니다.\n",
      "#Person1#: 알겠습니다. 안녕히 계세요.\n",
      "#Person2#: 안녕히 계세요, 감사합니다.\n",
      "\n",
      "Pred Summary: The customer wants to send a bouquet of red carnations to his mother. He wants the card to say \"To my dear mother, I love you always, Tom\". He wants the flowers to be delivered by 5pm on June 17th. He will pay with his Visa card.\n",
      "\n",
      "Gold Summary: Tom Hanks는 어머니를 위해 빨간 카네이션 한 다발을 주문하고, Shareen의 도움으로 결제합니다.\n",
      "\n",
      "====================================================================================================\n",
      "Dialogue:\n",
      "#Person1#: 아, 내 논문 진짜 끔찍한 것 같아. \n",
      "#Person2#: 그렇지 않을걸. 왜 이렇게 논문에 자신이 없어? \n",
      "#Person1#: 제출 마감일을 놓쳐서 내용에 자신이 없어. \n",
      "#Person2#: 편하게 생각해봐. 사실 어젯밤에 네 논문을 읽었는데, 네가 일반적인 지식을 구체적인 문제에 잘 적용했더라. \n",
      "#Person1#: 그래? 내가 잘 했단 말이야? \n",
      "#Person2#: 응, 네 작업 나쁘지 않아. 그런데 몇 가지 조언이 있어. 주제에 집중하고 불필요한 정보들을 잘 정리해봐. 그게 어떤 실수를 불러일으켰을 수도 있어. \n",
      "#Person1#: 그래, 고마워.\n",
      "\n",
      "Pred Summary: #Person1#: Oh, my thesis is terrible. \n",
      "#Person2#: It's not. Why are you so insecure about your thesis? \n",
      "#Person1#: I'm not confident about the content because I missed the deadline. \n",
      "#Person2#: Relax. Actually, I read your thesis last night, and you applied general knowledge to specific problems well. \n",
      "#Person1#: Really? I did well? \n",
      "#Person2#: Yeah, your work is not bad. But I have a few suggestions. Focus on the topic and organize unnecessary information. That might have caused some mistakes. \n",
      "#Person1#: Okay, thanks.\n",
      "\n",
      "Gold Summary: #Person1#은 자신의 논문이 형편없다고 느끼지만, #Person2#는 #Person1#을 격려하고 내용을 다듬을 수 있는 조언을 제공합니다.\n",
      "\n",
      "====================================================================================================\n",
      "Dialogue:\n",
      "#Person1#: 외국어, 주로 영어를 잘하는 사람들에 대한 보고서를 읽어봤어.\n",
      "#Person2#: 정말? 뭐에 대한 거야?\n",
      "#Person1#: 사람들이 외국어 학습에 대해 가지는 다양한 태도에 관한 거야. 대략 27%의 사람들이 외국어가 일상생활에서 필수라고 생각한대.\n",
      "#Person2#: 완전 동의해. 외국어를 배우는 사람들이 점점 늘어나고 있어.\n",
      "#Person1#: 맞아. 학습 중인 사람들 중 약 35%가 외국어를 배우고 싶어하더라고.\n",
      "#Person2#: 내가 보기에 많은 사람들이, 특히 학생들은 시험 때문에 어쩔 수 없이 배우는 것 같아.\n",
      "#Person1#: 맞아, 그게 21% 정도 차지해. 외국어가 쓸모없다고 생각하고 전혀 흥미가 없는 사람들도 약 15% 정도 있어.\n",
      "\n",
      "Pred Summary: #Person1#: I read a report about people who are good at foreign languages, especially English.\n",
      "#Person2#: Really? What was it about?\n",
      "#Person1#: It was about various attitudes people have about learning foreign languages. About 27% of people think that foreign languages are essential in everyday life.\n",
      "#Person2#: I completely agree. More and more people are learning foreign languages.\n",
      "#Person1#: That’s right. About 35% of people who are learning foreign languages want to learn them.\n",
      "#Person2#: In my opinion, many people, especially students, learn foreign languages because they have to for exams.\n",
      "#Person1#: That’s right, that accounts for about 21%. About 15% of people think that foreign languages are useless and have no interest in learning them.\n",
      "\n",
      "Gold Summary: #Person1#과 #Person2#는 사람들의 외국어 학습에 대한 다양한 태도를 토론하고 있다.\n",
      "\n",
      "====================================================================================================\n",
      "Dialogue:\n",
      "#Person1#: 왜 우산을 가지고 있어? 오늘 비 안 온다면서.\n",
      "#Person2#: 아니, 비는 안 오는데 날씨가 엄청 덥대. 구름만 걷히면 이 우산으로 햇빛을 피하려고.\n",
      "#Person1#: 우산을 햇빛 가리개로 쓰는 건 처음 들어봐.\n",
      "#Person2#: 너 그거 알아? 우산은 중국에서 처음 만들었는데, 처음엔 비가 아니라 햇빛을 막으려고 만든 거래.\n",
      "#Person1#: 몰랐네, 너 쉽게 햇볕에 타는구나?\n",
      "#Person2#: 그럼, 선크림 안 바르면 피부가 완전 빨개져.\n",
      "\n",
      "Pred Summary: #Person1#: Why are you carrying an umbrella? You said it wasn't going to rain.\n",
      "#Person2#: No, it's not raining, but it's really hot. I'm going to use this umbrella to block the sun when the clouds clear.\n",
      "#Person1#: Using an umbrella as a sunshade is a new one on me.\n",
      "#Person2#: You know that? Umbrellas were first invented in China, and they were originally made to block the sun, not the rain.\n",
      "#Person1#: I didn't know that. You burn easily, don't you?\n",
      "#Person2#: Yeah, I get really red if I don't put on sunscreen.\n",
      "\n",
      "Gold Summary: #Person1#은 #Person2#가 더운 날에 우산을 사용하는 것을 이상하게 여깁니다. #Person2#는 우산의 최초 사용 목적이 햇빛 차단이었다고 설명합니다.\n",
      "\n",
      "====================================================================================================\n",
      "Dialogue:\n",
      "#Person1#: 여보세요, 호텔 서비스 센터 맞나요?\n",
      "#Person2#: 네, 맞습니다. 무엇을 도와드릴까요, 손님?\n",
      "#Person1#: 저하고 제 딸이 엘리베이터에 갇혔어요.\n",
      "#Person2#: 아이고! 걱정 마세요, 손님. 제가 바로 소방서랑 저희 기술자를 불러서 빨리 나올 수 있게 도와드릴게요.\n",
      "#Person1#: 그럼 지금 뭘 해야 하나요? 그냥 여기서 기다려야 하나요?\n",
      "#Person2#: 네, 손님. 그리고 전화기를 제외한 다른 버튼은 누르지 말아 주세요.\n",
      "#Person1#: 알겠습니다. 근데 빨리 해 주세요, 알겠죠? 저는 괜찮아요. 그런데 제 딸은 완전히 겁에 질려서 많이 힘들어하고 있어요. 얼마나 버틸 수 있을지 모르겠어요.\n",
      "\n",
      "Pred Summary: #Person1#: Hello, is this the hotel service center?\n",
      "#Person2#: Yes, it is. How can I help you, sir?\n",
      "#Person1#: My daughter and I are stuck in the elevator.\n",
      "#Person2#: Oh no! Don't worry, sir. I will immediately call the fire department and our technician to help you get out as soon as possible.\n",
      "#Person1#: So what should I do now? Should I just wait here?\n",
      "#Person2#: Yes, sir. And please don't press any buttons except for the phone.\n",
      "#Person1#: Okay. But please hurry up, okay? I'm fine, but my daughter is really scared and in a lot of pain. I don't know how long she can hold on.\n",
      "\n",
      "Gold Summary: #Person1#이 호텔 서비스 센터에 전화를 걸어 자신과 딸이 엘리베이터에 갇혔다고 말합니다. #Person2#가 전화를 받고 도움을 보내기로 합니다.\n",
      "\n",
      "====================================================================================================\n",
      "Dialogue:\n",
      "#Person1#: 안녕하세요, 손님. 도움이 필요하신가요?\n",
      "#Person2#: 아니요, 아직 도움 받지 않았어요. 겨울 코트를 찾고 있어요.\n",
      "#Person1#: 제가 도와드릴게요. 이거 어때요? 아주 좋은 품질의 울로 만들어졌어요.\n",
      "#Person2#: 예쁘긴 한데, 더 따뜻한 게 필요해요. 이 코트는 로스앤젤레스에서는 괜찮겠지만, 시카고 겨울에는 너무 얇아요.\n",
      "#Person1#: 아, 그럼 아주 두꺼운 코트를 찾으셔야겠네요. 이쪽으로 오세요. 이 코트 보세요. 저희가 가장 따뜻한 코트고, 패션감각도 뛰어나고 아주 편해요.\n",
      "#Person2#: 이거 할인 받을 수 있을까요?\n",
      "#Person1#: 5% 할인해드릴 수 있을 것 같아요.\n",
      "#Person2#: 좋아요. 그럼 이걸로 할게요.\n",
      "#Person1#: 장갑도 한번 보실래요? 지금 10% 할인 중이에요.\n",
      "#Person2#: 괜찮아요. 제가 코네티컷에서 살았어서 이미 장갑은 있어요.\n",
      "\n",
      "Pred Summary: #Person1#: Hello, customer. Do you need any help?\n",
      "#Person2#: No, I haven't needed any help yet. I'm looking for a winter coat.\n",
      "#Person1#: Let me help you. How about this one? It's made of very good quality wool.\n",
      "#Person2#: It's pretty, but I need something warmer. This coat would be okay in Los Angeles, but it's too thin for Chicago winters.\n",
      "#Person1#: Oh, then you'll need a really warm coat. Come this way. Look at this coat. It's our warmest coat, and it's fashionable and very comfortable.\n",
      "#Person2#: Can I get a discount on this?\n",
      "#Person1#: I think we can give you a 5% discount.\n",
      "#Person2#: Okay, I'll take this one.\n",
      "#Person1#: Would you like to see some gloves? They're on sale right now, 10% off.\n",
      "#Person2#: No, I'm good. I lived in Connecticut, so I already have gloves.\n",
      "\n",
      "Gold Summary: #Person2#는 겨울 코트를 구입하기 위해 #Person1#의 도움을 받아 할인된 가격에 코트를 구매합니다.\n",
      "\n",
      "====================================================================================================\n",
      "Dialogue:\n",
      "#Person1#: 휴가 어디로 갈지 정했어?\n",
      "#Person2#: John이랑 산악 여행 갈 거야.\n",
      "#Person1#: 와, 멋지다. 어느 산에 갈 건데?\n",
      "#Person2#: 아직 결정 못 했어. 너도 같이 갈래?\n",
      "#Person1#: 물론이지.\n",
      "\n",
      "Pred Summary: #Person1#: Where are you going on vacation?\n",
      "#Person2#: I'm going on a mountain trip with John.\n",
      "#Person1#: Wow, that sounds great. Which mountain are you going to?\n",
      "#Person2#: We haven't decided yet. Do you want to come with us?\n",
      "#Person1#: Of course!\n",
      "\n",
      "Gold Summary: #Person1#과 #Person2#는 John과 함께 산악 여행을 계획하고 있다.\n",
      "\n",
      "====================================================================================================\n",
      "Dialogue:\n",
      "#Person1#: 너무 더워서 책도 못 읽겠어.\n",
      "#Person2#: 우리 산책이라도 나가는 게 낫겠어.\n",
      "#Person1#: 너는 어떤 계절을 제일 좋아해?\n",
      "#Person2#: 봄.\n",
      "#Person1#: 여름은 어때?\n",
      "#Person2#: 난 제일 싫어해.\n",
      "#Person1#: 왜?\n",
      "#Person2#: 1년 중 가장 더운 계절이 여름이니까.\n",
      "#Person1#: 그래도 가끔은 여름이 다른 계절보다 더 매력적일 때가 있잖아.\n",
      "\n",
      "Pred Summary: #Person1#: It's too hot to read.\n",
      "#Person2#: Let's go for a walk.\n",
      "#Person1#: What's your favorite season?\n",
      "#Person2#: Spring.\n",
      "#Person1#: What about summer?\n",
      "#Person2#: I hate it the most.\n",
      "#Person1#: Why?\n",
      "#Person2#: Because it's the hottest season of the year.\n",
      "#Person1#: But sometimes summer is more attractive than other seasons.\n",
      "\n",
      "Gold Summary: #Person1#과 #Person2#은 산책을 하면서 계절에 대해 이야기한다. #Person2#는 여름을 싫어하지만, #Person1#은 때때로 여름이 매력적이라고 느낍니다.\n",
      "\n",
      "====================================================================================================\n",
      "Dialogue:\n",
      "#Person1#: 브로드웨이 몰에서 이번 주말에 큰 세일이 있대, 갈래?\n",
      "#Person2#: 귀찮아. 그리고 돈도 없어.\n",
      "#Person1#: 그래도 그냥 구경만 하면 되잖아?\n",
      "#Person2#: 그냥 둘러보기? 아, 그거 지루해.\n",
      "#Person1#: 그럼 나 혼자 가야겠다.\n",
      "\n",
      "Pred Summary: #Person1#: There's a big sale at the Broadway Mall this weekend, want to go?\n",
      "#Person2#: I don't feel like it. And I don't have money.\n",
      "#Person1#: But we can just look around, right?\n",
      "#Person2#: Just look around? Oh, that's boring.\n",
      "#Person1#: Well, I guess I'll go by myself then.\n",
      "\n",
      "Gold Summary: #Person2#는 윈도우 쇼핑을 싫어해서 #Person1#이 혼자 몰로 가기로 했다.\n",
      "\n",
      "====================================================================================================\n",
      "Dialogue:\n",
      "#Person1#: 어이, John! 정말 오랜만이야! 잘 지냈어? 뭐하고 지냈어?\n",
      "#Person2#: Pete! 반가워. 뭐, 집안일 하고 아이들이랑 놀고 일하고 그렇지 뭐. 사실 최근에 거래를 좀 시작해봤어.\n",
      "#Person1#: 거래? 너처럼 바쁜 사람이? 뭘 거래해?\n",
      "#Person2#: 외환거래.\n",
      "#Person1#: 외환? 유로, 달러, 파운드, 루피 이런 거?\n",
      "#Person2#: 응, 외환거래라고 해. 국제 환전 시장이야. 큰돈을 투자할 필요 없이 아주 작은 금액으로도 최대 100배까지 거래할 수 있어!\n",
      "#Person1#: 잘 모르겠어. 돈을 사고파는 건가?\n",
      "#Person2#: 맞아! 어제 밤에만 150달러를 벌었어!\n",
      "#Person1#: 어제 밤에?\n",
      "#Person2#: 응! 24시간 거래가 가능하거든. 전에 낮은 가격에 RMB를 좀 샀는데 어젯밤에 가격이 엄청 올랐어, 그래서 바로 팔았지!\n",
      "#Person1#: 진짜야? 나도 해보고 싶어! 어디서 가입해야 해?\n",
      "\n",
      "Pred Summary: #Person1#: Hey, John! Long time no see! How have you been? What have you been up to?\n",
      "#Person2#: Pete! Good to see you. Oh, you know, just doing the usual stuff like housework, playing with the kids, working, you know. Actually, I’ve been doing some trading recently.\n",
      "#Person1#: Trading? You? You’re too busy for that! What are you trading?\n",
      "#Person2#: Forex.\n",
      "#Person1#: Forex? Euros, dollars, pounds, rupees?\n",
      "#Person2#: Yeah, forex. It’s the international currency exchange market. You can trade with very small amounts of money and make up to 100 times your investment!\n",
      "#Person1#: I don’t really understand. You buy and sell money?\n",
      "#Person2#: That’s right! I made $150 last night!\n",
      "#Person1#: Last night?\n",
      "#Person2#: Yeah! You can trade 24 hours a day. I bought some RMB at a low price yesterday and the price went up a lot last night, so I sold it!\n",
      "#Person1#: Really? I want to try it! Where do I sign up?\n",
      "\n",
      "Gold Summary: Pete는 John에게 외환거래를 하고 있으며, 적은 금액으로도 큰 이익을 얻을 수 있다고 설명합니다. 이를 듣고 John도 외환거래에 관심을 보입니다.\n",
      "\n",
      "====================================================================================================\n",
      "Dialogue:\n",
      "#Person1#: 나에 대해 뭐 알고 싶어? \n",
      "#Person2#: 대학에서 학업 성적이 어땠어? \n",
      "#Person1#: 모든 과목에서 평균 성적이 85점 이상이었어. \n",
      "#Person2#: 가장 높은 점수 받은 과목이 뭐야? \n",
      "#Person1#: 수학에서 98점 받았어. \n",
      "#Person2#: 장학금 받은 적 있어? \n",
      "#Person1#: 응, 총 세 번 받았어. \n",
      "#Person2#: 학급 임원 같은 거 해본 적 있어? \n",
      "#Person1#: 2년 동안 학급 부장 했었어. \n",
      "#Person2#: 동아리 활동 한 적 있어? \n",
      "#Person1#: 대학에서 에어로빅 팀 멤버였어. \n",
      "#Person2#: 잘하는 스포츠 있어? \n",
      "#Person1#: 단거리 달리기랑 탁구 잘해. \n",
      "#Person2#: 정말 뛰어나다.\n",
      "\n",
      "Pred Summary: The dialogue is a conversation between two people, #Person1# and #Person2#. #Person2# asks #Person1# about their academic performance in college, including their average grade, highest score in a subject, and whether they received any scholarships or held any leadership positions. #Person1# responds with their answers. The conversation then shifts to extracurricular activities, with #Person2# asking about #Person1#'s involvement in sports and other clubs. #Person1# mentions their participation in aerobics and their skills in running and table tennis. The dialogue ends with #Person2# complimenting #Person1# on their achievements.\n",
      "\n",
      "Gold Summary: #Person2#가 #Person1#에게 학업 성적, 최고 점수, 장학금, 동아리 활동, 잘하는 스포츠 등에 대해 여러 가지 질문을 한다.\n",
      "\n",
      "====================================================================================================\n",
      "Dialogue:\n",
      "#Person1#: 날씨가 참 좋네요, 그렇죠?\n",
      "#Person2#: 네, 맑고 좋네요.\n",
      "#Person1#: 이렇게 계속되었으면 좋겠어요.\n",
      "#Person2#: 저도 그러길 바라요.\n",
      "#Person1#: 여기 날씨는 보통 이런가요?\n",
      "#Person2#: 평소에는 오늘보다 좀 더 더워요.\n",
      "#Person1#: 겨울에는 날씨가 어때요?\n",
      "#Person2#: 꽤 춥고 눈도 자주 와요.\n",
      "#Person1#: 내일은 날씨가 어떨까 궁금하네요.\n",
      "#Person2#: 나중에 일기예보 들어봐요. 당신 고향 날씨는 어때요?\n",
      "#Person1#: 너무 춥지도 않고, 너무 덥지도 않아요.\n",
      "#Person2#: 정말 좋은 날씨네요.\n",
      "#Person1#: 네, 특히 봄에요.\n",
      "#Person2#: 허리케인 본 적 있어요?\n",
      "#Person1#: 한 번, 어렸을 때요.\n",
      "#Person2#: 당신 나라에서는 자주 일어나나요?\n",
      "#Person1#: 가끔요.\n",
      "#Person2#: 오, 일기예보 시간이에요. TV를 켜봐요.\n",
      "\n",
      "Pred Summary: This program converts all the Korean sentences that are inputted into English.\n",
      "\n",
      "Dialogue:\n",
      "#Person1#: The weather is nice, isn't it?\n",
      "#Person2#: Yes, it's clear and nice.\n",
      "#Person1#: I hope it stays like this.\n",
      "#Person2#: I hope so too.\n",
      "#Person1#: Is the weather here usually like this?\n",
      "#Person2#: It's usually warmer than today.\n",
      "#Person1#: What about the winter?\n",
      "#Person2#: It's quite cold and it snows a lot.\n",
      "#Person1#: I wonder what the weather will be like tomorrow.\n",
      "#Person2#: Let's check the weather forecast later. What's the weather like in your hometown?\n",
      "#Person1#: It's not too cold or too hot.\n",
      "#Person2#: That's a great weather.\n",
      "#Person1#: Yes, especially in spring.\n",
      "#Person2#: Have you ever seen a hurricane?\n",
      "#Person1#: Once, when I was young.\n",
      "#Person2#: Do they happen often in your country?\n",
      "#Person1#: Sometimes.\n",
      "#Person2#: Oh, it's time for the weather forecast. Let's turn on the TV.\n",
      "\n",
      "Gold Summary: #Person1#과 #Person2#가 현지 날씨와 #Person1#의 고향 날씨에 대해 이야기합니다. 그들은 일기예보를 들을 계획입니다.\n",
      "\n",
      "====================================================================================================\n",
      "Dialogue:\n",
      "#Person1#: 뉴욕시 아파트 임대료가 믿기지 않아.\n",
      "#Person2#: 오, 여기 아파트가 비싸기도 하고 좁고 혼잡하다는 건 몰랐어?\n",
      "#Person1#: 그런 얘긴 들었지. 하지만 실제로 집을 빌리는 게 얼마나 비싼지 이제야 알겠어.\n",
      "#Person2#: 난 뉴욕에 살기 위해 비싼 임대료를 내는 게 싫지 않아.\n",
      "#Person1#: 왜? 이렇게 작은 공간에 살면서 돈을 그렇게 많이 쓰면서?\n",
      "#Person2#: 그래도 괜찮아! 세계에서 가장 흥미로운 도시에 산다는 게 자랑스러워. 게다가 여긴 연봉도 높잖아.\n",
      "\n",
      "Pred Summary: #Person1#: The rent for apartments in New York City is unbelievable.\n",
      "#Person2#: Oh, you didn't know that apartments here are expensive, small, and crowded?\n",
      "#Person1#: I heard that. But I didn't realize how expensive it was to actually rent a place.\n",
      "#Person2#: I don't mind paying high rent to live in New York.\n",
      "#Person1#: Why? To live in such a small space and spend so much money?\n",
      "#Person2#: But it's worth it! I'm proud to live in the most interesting city in the world. Plus, the salaries here are high.\n",
      "\n",
      "Gold Summary: #Person1#은 뉴욕의 비싼 임대료에 놀라지만, #Person2#는 이 도시가 흥미롭고 연봉이 높다고 생각한다.\n",
      "\n",
      "====================================================================================================\n",
      "Dialogue:\n",
      "#Person1#: Rogers 선생님? \n",
      "#Person2#: 왜 그러니? \n",
      "#Person1#: 몸이 좀 안 좋아요. \n",
      "#Person2#: 보건실에 가볼래? \n",
      "#Person1#: 네, 그러고 싶어요. \n",
      "#Person2#: 여기에 복도 패스를 줄게. 혼자 갈 수 있겠어? \n",
      "#Person1#: 네, 혼자 갈 수 있어요. 감사합니다. \n",
      "#Person2#: 나중에 확인하러 들릴게.\n",
      "\n",
      "Pred Summary: Rogers 선생님? 왜 그러세요? 몸이 좀 안 좋아요. 보건실에 가볼래요? 네, 그러고 싶어요. 여기에 복도 패스를 줄게요. 혼자 갈 수 있겠어요? 네, 혼자 갈 수 있어요. 감사합니다. 나중에 확인하러 들릴게요.\n",
      "\n",
      "Gold Summary: #Person1#의 건강 상태가 좋지 않습니다. Rogers 선생님은 #Person1#에게 복도 패스를 제공합니다. 선생님은 나중에 #Person1#을 확인하러 들릴 것입니다.\n",
      "\n",
      "====================================================================================================\n",
      "Dialogue:\n",
      "#Person1#: 나 NBA 진짜 좋아해.\n",
      "#Person2#: 미국 오기 전에 NBA 경기 봤어?\n",
      "#Person1#: 아니, 안 봤어.\n",
      "#Person2#: 아쉽다!\n",
      "#Person1#: 너는 NBA 좋아해?\n",
      "#Person2#: 응, 당연하지.\n",
      "#Person1#: NBA 선수들 중에 누구 제일 좋아해?\n",
      "#Person2#: 코비.\n",
      "#Person1#: 나도 그래.\n",
      "#Person2#: 오늘 밤 NBA 경기 보러 갈까?\n",
      "#Person1#: 좋아.\n",
      "\n",
      "Pred Summary: The user is expressing their love for the NBA and asking if the other person has watched NBA games before coming to America. The other person says they haven't watched any NBA games before and expresses regret. The user asks if the other person likes the NBA and the other person says they do. The user asks who the other person's favorite NBA player is and the other person says it's Kobe. The user agrees and suggests watching an NBA game tonight. The other person agrees.\n",
      "\n",
      "Gold Summary: #Person1#와 #Person2#는 NBA와 코비를 좋아하며, NBA 경기를 보러 갈 계획이다.\n",
      "\n",
      "====================================================================================================\n",
      "Dialogue:\n",
      "#Person1#: 안녕, Kate. \n",
      "#Person2#: 안녕, Don. 무슨 일이야? \n",
      "#Person1#: 지나가다가 너랑 비슷한 사람이 보여서 혹시나 했는데, 진짜 너였구나. 우리 안 본 지 얼마나 됐지? 거의 세 달쯤 된 것 같은데, 너 많이 변했다? \n",
      "#Person2#: 뭐가 변한 것 같아? \n",
      "#Person1#: 와, 훨씬 날씬해졌고 더 활기차 보여. 뭐 먹고 있어? 다이어트 중이야? \n",
      "#Person2#: 응, 다이어트 중인데 특별히 먹는 건 없어. 그냥 덜 먹고 운동 더 하고 있어. 지난 3개월 동안 진짜 효과 봤어. 12파운드 뺐어. \n",
      "#Person1#: 와! 대단하다. 나도 체중 감량하고 싶은데 운동 꾸준히 하는 게 힘들어. 예전 습관 고치기도 쉽지 않고. \n",
      "#Person2#: 내가 무슨 운동 하는 줄 알아? 그냥 퇴근하고 매일 춤추러 가는 거야. 아마추어 댄스 수업 들으며 매일 2시간 춤춰. \n",
      "#Person1#: 춤? 춤만 춰? 별로 어렵지 않네. 나도 할 수 있을 것 같아. \n",
      "#Person2#: 당연하지. 다음 주에 내 수업 같이 가자.\n",
      "\n",
      "Pred Summary: Person1: Hey, Kate.\n",
      "Person2: Hey, Don. What's up?\n",
      "Person1: I saw someone who looked like you and I thought it was you. We haven't seen each other in a while, almost three months, you look different?\n",
      "Person2: What's different?\n",
      "Person1: Wow, you look much slimmer and more energetic. What are you eating? Are you on a diet?\n",
      "Person2: Yeah, I'm on a diet but I'm not eating anything special. I'm just eating less and exercising more. I've seen a lot of results in the last three months. I lost 12 pounds.\n",
      "Person1: Wow! That's amazing. I want to lose weight too but it's hard to stick to a workout routine. It's hard to break old habits.\n",
      "Person2: Do you know what kind of exercise I'm doing? I just go dancing after work every day. I'm taking an amateur dance class and I dance for two hours every day.\n",
      "Person1: Dancing? Just dancing? That doesn't seem too hard. I think I can do that.\n",
      "Person2: Of course you can. Let's go to my class next week.\n",
      "\n",
      "Gold Summary: Kate는 다이어트를 통해 체중을 감량했고, Don에게 적게 먹고 춤 수업을 듣고 있다고 설명합니다. Don은 다음 주에 Kate의 춤 수업에 참여할 계획입니다.\n",
      "\n",
      "====================================================================================================\n",
      "Dialogue:\n",
      "#Person1#: 엄마, 저랑 Andrea가 엄마 걱정하는 거 알죠? \n",
      "#Person2#: 정말? 왜 나를 걱정하니? 나는 괜찮아. \n",
      "#Person1#: 엄마도 이제 거의 70이잖아요. 우리랑 같이 사는 게 엄마한테 더 좋지 않을까요? \n",
      "#Person2#: 절대 안 돼! 난 내 아파트가 좋고, 독립적으로 사는 게 좋아. \n",
      "#Person1#: 혼자 지내면서 외롭지는 않으세요? \n",
      "#Person2#: 전혀 외롭지 않아. 너희 가족도 주에 두 번 보고, 내 친구들도 만나거든. 나는 너무 바빠서 외로울 틈이 없어!\n",
      "\n",
      "Pred Summary: #Person1#: Mom, Andrea and I know you’re worried about us. \n",
      "#Person2#: Really? Why are you worried about me? I’m fine. \n",
      "#Person1#: You’re almost 70, Mom. Wouldn’t it be better for you to live with us? \n",
      "#Person2#: No way! I like my apartment and I like living independently. \n",
      "#Person1#: Are you lonely being by yourself? \n",
      "#Person2#: Not at all. I see your family twice a week and I see my friends too. I’m too busy to be lonely!\n",
      "\n",
      "Gold Summary: #Person1#과 Andrea는 #Person1#의 엄마가 혼자 사시는 것을 걱정하여 함께 살자고 제안하지만 #Person1#의 엄마는 이를 거절합니다.\n",
      "\n",
      "====================================================================================================\n",
      "Dialogue:\n",
      "#Person1#: 웬, 안녕! D.C.에 온 걸 환영해! 와줘서 고마워! \n",
      "#Person2#: 초대해 줘서 고마워. 사실 이렇게 많은 흑인들과 함께 있는 건 처음이야. 정말 다른 느낌이야. \n",
      "#Person1#: 여기 학교는 흑인이 80%야. 하지만 백인도 있고 심지어 아시아인도 있어. 다행히 남녀 공학이야. \n",
      "#Person2#: 좋다! 너희 학교도 그래? \n",
      "#Person1#: 미안, 우리 학교는 아니야. 하지만 오늘 밤 Alpha Phi Alpha에서 파티를 해. \n",
      "#Person2#: 그거 흑인이 많은 형제회 맞지? 그럼 춤추는 사람들 좀 볼 수 있겠네?\n",
      "\n",
      "Pred Summary: #Person1#: Hey, what’s up! Welcome to D.C.! Thanks for coming! \n",
      "#Person2#: Thanks for inviting me. This is actually the first time I’ve been around so many black people. It’s a different feeling. \n",
      "#Person1#: This school is 80% black. But there are white people and even some Asians. Luckily it’s co-ed. \n",
      "#Person2#: That’s good! Is your school like that too? \n",
      "#Person1#: Sorry, not mine. But there’s a party tonight at Alpha Phi Alpha. \n",
      "#Person2#: That’s a black fraternity, right? So I’ll get to see some dancers?\n",
      "\n",
      "Gold Summary: D.C.에 방문한 웬은 많은 흑인들이 있어 다른 느낌이라고 합니다. #Person1#은 웬을 흑인 형제회 파티에 초대합니다.\n",
      "\n",
      "====================================================================================================\n",
      "Dialogue:\n",
      "#Person1#: 안녕, 난 Ted야. 너는 누구야? \n",
      "#Person2#: 뭐라고? \n",
      "#Person1#: 내 말은, 난 Ted야. 너는 누구야?\n",
      "#Person2#: 뭐라고? 아, 내 이름은 Laura야.\n",
      "#Person1#: Laura, 너 여기 자주 와?\n",
      "#Person2#: 뭐라고? 음악 소리가 너무 커서 못 들었어.\n",
      "#Person1#: 밖에 나가서 얘기하자. 그래서 Laura, 너 여기 자주 와?\n",
      "#Person2#: 잠깐만, 음악 때문에 귀가 아직 멍해. 뭐라고 물어봤어?\n",
      "#Person1#: 너 여기 자주 오냐고 물어봤어.\n",
      "#Person2#: 가끔 와, 보통 몇 주에 한 번 정도. 너는?\n",
      "#Person1#: 아니, 난 여기 처음 와봐.\n",
      "#Person2#: 난 주로 친구들이랑 와. 조금 춤추고, 술 마시고, 그냥 즐겁게 노는 거지.\n",
      "#Person1#: 맞아, 나도 그래서 왔어. 친구들이 난 공부만 한다고 끌고 왔거든.\n",
      "#Person2#: 그거 잘했네. 공부도 중요하지만 가끔은 밖으로 나가야지.\n",
      "#Person1#: 그런가 봐. 근데 음악이 너무 시끄러워. 사람들 만나서 노는 건 좋아하는데, 다음번엔 공원에서 만나야겠어.\n",
      "\n",
      "Pred Summary: #Person1#: Hey, I'm Ted. Who are you?\n",
      "#Person2#: What?\n",
      "#Person1#: I mean, I'm Ted. Who are you?\n",
      "#Person2#: What? Oh, my name is Laura.\n",
      "#Person1#: Laura, do you come here often?\n",
      "#Person2#: What? I couldn't hear you over the music.\n",
      "#Person1#: Let's go outside and talk. So, Laura, do you come here often?\n",
      "#Person2#: Hold on, my ears are still ringing from the music. What did you ask?\n",
      "#Person1#: I asked if you come here often.\n",
      "#Person2#: Sometimes, usually once every few weeks. You?\n",
      "#Person1#: No, this is my first time here.\n",
      "#Person2#: I usually come with friends. We dance a little, drink, and just have fun.\n",
      "#Person1#: Yeah, that's why I came too. My friends dragged me here because they say I only study.\n",
      "#Person2#: Well, that's good. Studying is important, but you need to get out sometimes.\n",
      "#Person1#: I guess so. But the music is too loud. I like meeting people and having fun, but next time we should meet at the park.\n",
      "\n",
      "Gold Summary: Ted와 Laura는 파티에서 만난다. Laura는 친구들과 파티에 가끔 오며 즐기고, Ted는 처음 방문하여 음악 소리가 커서 공원에서 사람들과 만나고 싶다고 말한다.\n",
      "\n",
      "====================================================================================================\n",
      "Dialogue:\n",
      "#Person1#: 안녕하세요, 도와주실 수 있나요? \n",
      "#Person2#: 네, 안녕하세요. 무엇을 도와드릴까요? \n",
      "#Person1#: 이 도서관을 어떻게 이용하면 될지 알고 싶어요. 제가 새로 온 학생이라서요. \n",
      "#Person2#: 학생증이 있으면 책을 대출할 수 있어요. \n",
      "#Person1#: 여기 제 학생증이에요. \n",
      "#Person2#: 그럼 문제가 없어요. \n",
      "#Person1#: 감사합니다. 그런데 몇 권까지 대출 가능한가요? \n",
      "#Person2#: 한 번에 두 권까지 대출할 수 있어요. 다만, 신문이나 잡지 같은 자료는 대출이 안 되고 도서관 안에서만 읽을 수 있어요. \n",
      "#Person1#: 대출 기간은 어떻게 되나요? \n",
      "#Person2#: 2주 동안 대출할 수 있고, 더 필요하시면 연장하실 수 있어요. \n",
      "#Person1#: 물리학 책을 찾고 있는데, 어디에 있는지 알려주실 수 있나요? \n",
      "#Person2#: 네, 왼쪽 서가에 있습니다.\n",
      "\n",
      "Pred Summary: The conversation is between a student and a librarian. The student asks about the library rules and procedures. The librarian explains that students can borrow books with their student IDs, but newspapers and magazines can only be read inside the library. The student can borrow two books at a time for two weeks, and can renew them if needed. The librarian also helps the student find a physics book in the left shelf.\n",
      "\n",
      "Gold Summary: #Person1#는 #Person2#에게 도서관 이용 방법을 문의합니다. #Person2#는 이용 규정을 설명하고, 물리학 책의 위치를 안내합니다.\n",
      "\n",
      "====================================================================================================\n",
      "Dialogue:\n",
      "#Person1#: 앨버트랑 저는 집에 필요한 물건들이 많아요. 그런데 어디에서 사야 가장 좋은지 잘 모르겠네요. 조언 좀 해줄 수 있을까요?\n",
      "#Person2#: 물론이에요, Carolyn. 도와드릴 수 있어서 기뻐요. 지금 어떤 물건들이 필요한가요?\n",
      "#Person1#: 음, 가구는 대부분 있는데, 주방 용품이랑 욕실 소품, 청소랑 세탁 관련 소품들이 필요해요. 앨버트는 작은 사무실도 꾸미고 싶어해요.\n",
      "#Person2#: 아, 앨버트라면 사무용품 가게에 가는 게 좋겠네요. Office Depot라는 매장이 있어요. 필요한 건 다 있을 거예요. 가격도 괜찮고요. 위치도 편리하고요.\n",
      "#Person1#: 적어도 될까요?\n",
      "#Person2#: 물론이죠. Office, 그리고 D - E - P - O - T 이렇게 써요. Yellow Pages에 나와 있을 거예요.\n",
      "#Person1#: 고마워요.\n",
      "#Person2#: 주방 용품은 높은 품질을 원하세요?\n",
      "#Person1#: 그게 무슨 뜻이죠?\n",
      "#Person2#: 최상의 품질을 원하시는지, 아니면 좋은 가격을 원하시는지요?\n",
      "#Person1#: 아마도 좋은 가격이요. 저희는 미국에 1년 정도밖에 안 있을 거거든요.\n",
      "#Person2#: 그러면 K-Mart 아니면 Wal-Mart에 가보세요.\n",
      "#Person1#: 그 가게들은 뭐죠?\n",
      "#Person2#: 아주 큰 할인 백화점이에요. 그래서 가격이 정말 좋아요. 주방이나 욕실에 필요한 모든 걸 찾을 수 있을 거예요.\n",
      "#Person1#: 심지어 은식기도요?\n",
      "#Person2#: 네, 모든 게. 가장 비싼 브랜드는 없지만, 품질은 대체로 괜찮아요. 중요한 건, 가격이 좋고 아주 편리하다는 거죠.\n",
      "#Person1#: Price Club이란 곳에 대해서 친구가 얘기하던데요. 거기 대해 아세요?\n",
      "#Person2#: 거기서 쇼핑해본 적은 없지만, Price Club은 회원제 매장으로 알고 있어요.\n",
      "#Person1#: 그게 무슨 뜻이죠?\n",
      "#Person2#: 그러니까, 거기서 쇼핑하려면 회원비를 내야 해요. 전자제품 가격이 아주 좋다는 얘기를 들었어요.\n",
      "#Person1#: 전자제품이요?\n",
      "#Person2#: 네, 스테레오나 텔레비전 같은 것들이요.\n",
      "#Person1#: 회원비는 얼마죠?\n",
      "#Person2#: 잘 모르겠어요. 하지만 1년밖에 안 계실 거면 Price Club 가입은 좋지 않을 것 같아요. 가끔 훌륭한 딜이 있긴 한데, 새로운 것들을 많이 사는 사람들에게 좋다더군요.\n",
      "#Person1#: 그렇군요. 조언 고마워요. 정말 필요한 작은 것들이 많네요.\n",
      "#Person2#: 저도 알아요. 이사하는 건 정말 번거로운 일이죠.\n",
      "\n",
      "Pred Summary: Dialogue:\n",
      "#Person1#: Albert and I need a lot of stuff for our house. But we don't know where to buy it. Can you give us some advice?\n",
      "#Person2#: Sure, Carolyn. I'm happy to help. What kind of things do you need?\n",
      "#Person1#: Well, we have most of the furniture, but we need kitchen and bathroom supplies, cleaning and laundry supplies, and Albert wants to set up a small office.\n",
      "#Person2#: Oh, for Albert, you should go to an office supply store. There's a place called Office Depot. They have everything you need, and the prices are good. The location is convenient too.\n",
      "#Person1#: Will that be okay?\n",
      "#Person2#: Of course. It's spelled O-F-F-I-C-E, D-E-P-O-T. You can find it in the Yellow Pages.\n",
      "#Person1#: Thanks.\n",
      "#Person2#: Do you want high-quality kitchen supplies?\n",
      "#Person1#: What does that mean?\n",
      "#Person2#: Do you want the best quality, or do you want good prices?\n",
      "#Person1#: Probably good prices. We're only going to be here in the US for a year.\n",
      "#Person2#: Then go to K-Mart or Wal-Mart.\n",
      "#Person1#: What are those stores?\n",
      "#Person2#: They're very big discount department stores. So the prices are really good. You can find everything you need for your kitchen and bathroom.\n",
      "#Person1#: Even silverware?\n",
      "#Person2#: Yes, everything. They don't have the most expensive brands, but the quality is usually okay. The important thing is that the prices are good and it's very convenient.\n",
      "#Person1#: My friend was talking about a place called Price Club. Do you know about that?\n",
      "#Person2#: I've never shopped there, but I know that Price Club is a membership store.\n",
      "#Person1#: What does that mean?\n",
      "#Person2#: So, to shop there, you have to pay a membership fee. I heard that the electronics prices are really good.\n",
      "#Person1#: Electronics?\n",
      "#Person2#: Yes, like\n",
      "\n",
      "Gold Summary: Carolyn은 집을 꾸미기 위해 쇼핑할 곳을 #Person2#에게 물어봅니다. #Person2#는 사무용품은 Office Depot를 추천합니다. 또한, #Person2#는 주방 용품과 욕실 소품은 K-Mart와 Wal-Mart에서의 구매를 제안합니다. Carolyn이 미국에 단기간 머무르기 때문에 Price Club은 적합하지 않다고 생각합니다.\n",
      "\n",
      "====================================================================================================\n",
      "Dialogue:\n",
      "#Person1#: 안녕하세요, 환영합니다. 어떻게 도와드릴까요?\n",
      "#Person2#: 안전금고 대여에 대해 설명해주실 수 있나요? 보험 서류를 안전하게 보관할 곳이 필요합니다. 집이나 사무실에 두는 게 좀 불안해서요.\n",
      "#Person1#: 저희는 3가지 종류의 상자가 있습니다. 보통 1년 단위로 대여하며, 요금은 상자 크기와 위치에 따라 다릅니다.\n",
      "#Person2#: 문서만 보관하려고 하니 가장 작은 걸로 할게요. 제가 유일한 열쇠 소유자가 되나요? 다른 사람이 언제든지 접근할 수 있다고 생각하면 좀 불안할 것 같아서요.\n",
      "#Person1#: 열쇠는 여러 개로 가질 수 있지만, 각 상자에는 서명 카드가 필요합니다.\n",
      "#Person2#: 좋네요. 추가 열쇠를 아내에게 줄 수 있겠어요. 아내가 열쇠를 가지고 있어도 전혀 불안하지 않을 것 같아요. 도와주셔서 감사합니다.\n",
      "#Person1#: 신분증을 가지고 계시고 1년 치 선불이 가능하시면, 오늘 바로 처리할 수 있습니다. 기다릴 필요 없습니다.\n",
      "#Person2#: 좋아요, 이 지점에서 작은 걸로 1년간 대여하겠습니다.\n",
      "\n",
      "Pred Summary: The customer is looking to rent a safe deposit box to store their insurance documents. They are concerned about the security of their documents and want to know if they can be the only keyholder. The bank representative explains that while there can be multiple keyholders, each box requires a signature card. The customer decides to rent the smallest box and have their wife be a keyholder. They are satisfied with the service and proceed to rent the box.\n",
      "\n",
      "Gold Summary: #Person2#가 #Person1#에게 안전금고 대여에 대해 문의합니다. #Person2#는 서류를 위한 가장 작은 금고를 선택하고, 아내에게 추가 열쇠를 주는 것에 대해 안심합니다.\n",
      "\n",
      "====================================================================================================\n",
      "Dialogue:\n",
      "#Person1#: 오늘 슈퍼마켓에 가는 게 어때? 쿠폰이 3일 뒤에 만료될 거야.\n",
      "#Person2#: 좋아. 그거 Today Supermarket에서 쓸 수 있어?\n",
      "#Person1#: 잠깐만, 확인해볼게. 응, 쓸 수 있어.\n",
      "#Person2#: 뭐 사야 할지 잘 모르겠어.\n",
      "\n",
      "Pred Summary: #Person1#: Let's go to the supermarket today. The coupon will expire in 3 days.\n",
      "#Person2#: Okay. Can we use it at Today Supermarket?\n",
      "#Person1#: Let me check. Yes, we can.\n",
      "#Person2#: I don't know what to buy.\n",
      "\n",
      "Gold Summary: #Person1#과 #Person2#는 슈퍼마켓에서 쿠폰을 사용할 계획입니다.\n",
      "\n",
      "====================================================================================================\n",
      "Dialogue:\n",
      "#Person1#: 도와주세요! 도와주세요!\n",
      "#Person2#: 무슨 일이신가요, 여사님?\n",
      "#Person1#: 산책 중이었는데 어떤 젊은 남자가 어디선가 갑자기 나타나서 제 손에서 가방을 빼앗아 도망갔어요.\n",
      "#Person2#: 그 젊은 남자는 어떻게 생겼나요?\n",
      "#Person1#: 음, 젊고 키가 크며 마른 편이었어요.\n",
      "#Person2#: 어느 방향으로 도망갔죠?\n",
      "#Person1#: 잠깐만요... 제 오른편 쪽으로... 아, 동쪽으로 갔어요.\n",
      "\n",
      "Pred Summary: The woman is asking for help because a young man snatched her bag from her hand and ran away. The man asks her to describe the man. She says he is young, tall and thin. He asks her which direction he ran. She says he ran to the right, then to the east.\n",
      "\n",
      "Gold Summary: #Person1#이 산책 중 젊은 남자에게 가방을 강탈당한 사건이 발생하였고, #Person2#에게 범인의 외모와 도주 방향을 설명합니다.\n",
      "\n",
      "====================================================================================================\n",
      "Dialogue:\n",
      "#Person1#: 이제 바닥도 끝났고 가구도 넣었으니까, 다음에 뭘 해야 할까?\n",
      "#Person2#: 커튼도 다시 하고, 벽이랑 천장도 칠해야 해.\n",
      "#Person1#: 페인트는 내가 할게. 너는 커튼 가게 가서 커튼 좀 골라봐. 아마 꽤 비쌀 거야. 좋은 커튼 만드는데 싸게 되진 않거든.\n",
      "#Person2#: 이미 만들어진 커튼 사면 안 될까?\n",
      "#Person1#: 절대 안 돼. 먼저 창문 측정하고 나서 맞춤형 커튼 만들어야 해. 그래서 시간이 좀 걸릴 거야. 아마 한 달 정도 걸릴 거라고.\n",
      "#Person2#: 커튼 제작하는 동안 나는 주방을 좀 보려고. 저 오래된 주방 너무 싫어. 거기서 요리하기 싫어. 저 전기 레인지도 쓰기 싫고.\n",
      "#Person1#: 주방 재디자인 해주는 인테리어 회사 찾아야겠어. 포틀랜드에 주방 리모델링 전문 업체가 있더라고. 전화번호부에서 찾아볼게. 나는 주방을 거의 아이보리랑 연두색으로 꾸몄으면 해.\n",
      "#Person2#: 나도 동의해. 색깔이 부드럽고 기분 좋았으면 해. 저녁 요리할 때 편안하게 느꼈으면 좋겠거든.\n",
      "#Person1#: 내가? 저녁 요리? 하하! 네가 요리할 거야, 자기야. 네가 요리할 거라고.\n",
      "#Person2#: 아니, 난 그렇게 생각 안 해. 새로 만든 다실에서 차 마시느라 바쁠 거야.\n",
      "#Person1#: 그럼 요리사 고용해야겠네. 내년에는 옷 살 돈은 없을 걸.\n",
      "#Person2#: 그리고 넌 오토바이랑 카메라 팔아야 할 거야, 그렇지?\n",
      "#Person1#: 주에 한두 번 요리하자. 그건 어때?\n",
      "#Person2#: 한두 번은 부족해. 네 번 정도가 적당하다고 생각해.\n",
      "\n",
      "Pred Summary: The dialogue is about a couple who are renovating their house. They are discussing the next steps in the renovation process, including painting the walls and ceiling, buying custom-made curtains, and remodeling the kitchen. They also discuss the possibility of hiring a chef to cook for them. The dialogue is written in English, but the input is in Korean.\n",
      "\n",
      "Gold Summary: #Person1#과 #Person2#는 커튼을 다시 설치하고 벽과 천장을 칠하려고 합니다. 또한 주방을 아이보리와 연두색으로 재디자인하기 위해 인테리어 회사를 찾고 싶어 합니다. 하지만 요리를 누가 할 것인지에 대해 의견 차이가 있어서 갈등이 발생합니다.\n",
      "\n",
      "====================================================================================================\n",
      "Dialogue:\n",
      "#Person1#: 살 빼는 좋은 방법 좀 알고 있어?\n",
      "#Person2#: 우선 먹는 것에 신경 써야 해. 초콜릿, 아이스크림 같은 고칼로리 음식은 너무 많이 먹으면 안 돼.\n",
      "#Person1#: 더 있어?\n",
      "#Person2#: 그리고 튀긴 음식은 피해야 해.\n",
      "#Person1#: 알겠어.\n",
      "#Person2#: 게으르게 앉아만 있으면 안 돼. 운동을 더 많이 해야 해.\n",
      "#Person1#: 음, 내일부터는 조깅해야겠어.\n",
      "\n",
      "Pred Summary: #Person1#: Do you know any good ways to lose weight?\n",
      "#Person2#: First, you should pay attention to what you eat. High-calorie foods like chocolate and ice cream should not be eaten too much.\n",
      "#Person1#: Anything else?\n",
      "#Person2#: And you should avoid fried foods.\n",
      "#Person1#: Okay.\n",
      "#Person2#: You can't just sit around being lazy. You need to exercise more.\n",
      "#Person1#: Hmm, I think I should start jogging tomorrow.\n",
      "\n",
      "Gold Summary: #Person2#는 #Person1#에게 고칼로리 음식과 튀긴 음식을 줄이고, 운동을 늘리도록 조언합니다.\n",
      "\n",
      "====================================================================================================\n",
      "Dialogue:\n",
      "#Person1#: 안녕하세요, 이지오운 패키지를 주문하고 싶어요. 뭐가 좋을까요?\n",
      "#Person2#: 통화랑 문자 중 어떤 기능을 더 많이 사용하시나요?\n",
      "#Person1#: 비슷하게 사용하는 것 같아요. 그런데 일자리 구하고 있어서 전화 자주 받아야 해요.\n",
      "#Person2#: 그러면 이 패키지를 추천드려요. 한 달에 10위안만 내시면 모든 전화를 무료로 받을 수 있어요.\n",
      "#Person1#: 괜찮네요. 어떻게 주문하죠?\n",
      "#Person2#: 'KTCTWY'를 10086으로 문자 보내시면 됩니다.\n",
      "#Person1#: 감사합니다. 한번 시도해볼게요.\n",
      "#Person2#: 천만에요.\n",
      "\n",
      "Pred Summary: #Person1#: Hello, I want to order the EZIOUN package. Which one is better?\n",
      "#Person2#: Do you use more talk or text?\n",
      "#Person1#: I use them about the same. But I need to receive calls often because I'm looking for a job.\n",
      "#Person2#: Then I recommend this package. You only need to pay 10 yuan a month and you can receive all calls for free.\n",
      "#Person1#: That's good. How do I order it?\n",
      "#Person2#: Just text 'KTCTWY' to 10086.\n",
      "#Person1#: Thank you. I'll try it once.\n",
      "#Person2#: You're welcome.\n",
      "\n",
      "Gold Summary: #Person1#이 전화 수신이 빈번한 상황을 고려하여 #Person2#가 이지오운 패키지를 추천합니다.\n",
      "\n",
      "====================================================================================================\n",
      "Dialogue:\n",
      "#Person1#: 이전 직장에 대해 좀 말해줄 수 있나요?\n",
      "#Person2#: 네, 작은 기계 공장에서 일했어요. 일이 아주 간단하고 할 일이 많지 않았어요.\n",
      "#Person1#: 그 일이 맘에 들지 않았나요?\n",
      "#Person2#: 네, 너무 지루했어요. 저는 더 많은 책임을 질 수 있다고 생각해서 일을 바꾸기로 했어요.\n",
      "#Person1#: 우리 회사를 선택한 이유가 무엇인가요?\n",
      "#Person2#: 어제 귀사의 광고를 봤어요. 귀사는 중요한 국제 회사잖아요. 그곳에서 일하면 제 능력을 키울 수 있다고 믿어요.\n",
      "#Person1#: 우리 회사에 대해 아는 게 있나요?\n",
      "#Person2#: 네, 회사는 세계에서 네 번째로 큰 기계 제조업체라고 알고 있어요. 1980년에 미국에서 설립됐고, 첨단 기술을 잘 활용하고 있다고 알고 있어요.\n",
      "\n",
      "Pred Summary: #Person1#: Can you tell me a little about your previous job?\n",
      "#Person2#: Yes, I worked in a small machine factory. The work was very simple and there wasn't much to do.\n",
      "#Person1#: Did you not like the job?\n",
      "#Person2#: Yes, it was too boring. I thought I could take on more responsibility, so I decided to change jobs.\n",
      "#Person1#: Why did you choose our company?\n",
      "#Person2#: I saw your advertisement yesterday. Your company is an important international company, isn't it? I believe I can develop my abilities there.\n",
      "#Person1#: Do you know anything about our company?\n",
      "#Person2#: Yes, I know that your company is the fourth largest machine manufacturer in the world. It was founded in the United States in 1980 and is known for its advanced technology.\n",
      "\n",
      "Gold Summary: #Person1#은 #Person2#에게 이전 직장에 대한 경험과 그 직장을 싫어한 이유를 질문합니다. #Person2#은 회사 선택 이유를 설명합니다.\n",
      "\n",
      "====================================================================================================\n",
      "Dialogue:\n",
      "#Person1#: 대학 생활은 어때요?\n",
      "#Person2#: 꽤 잘 지냈어요. 국제 무역으로 MBA를 우수한 성적으로 마쳤어요.\n",
      "#Person1#: 그 대학을 왜 선택했어요?\n",
      "#Person2#: 학교의 학문적 명성이 좋아서 선택했어요.\n",
      "#Person1#: 여가 시간에는 무엇을 해요?\n",
      "#Person2#: 제 취미는 요리예요. 중국 요리와 양식 요리를 배웠는데, 그걸 하면서 바쁘기도 하고 행복해져요.\n",
      "\n",
      "Pred Summary: #Person1#: How was college life?\n",
      "#Person2#: It was pretty good. I finished my MBA in international trade with good grades.\n",
      "#Person1#: Why did you choose that university?\n",
      "#Person2#: I chose it because of the school's academic reputation.\n",
      "#Person1#: What do you do in your free time?\n",
      "#Person2#: My hobby is cooking. I learned Chinese and Western cooking, and I feel busy and happy when I do it.\n",
      "\n",
      "Gold Summary: #Person1#은 #Person2#에게 대학 생활, 대학 선택 이유, 여가 활동에 대해 질문했고, #Person2#는 이에 답변했습니다.\n",
      "\n",
      "====================================================================================================\n",
      "Dialogue:\n",
      "#Person1#: 어떤 종류의 일을 하고 싶으신가요?\n",
      "#Person2#: 영어를 쓸 수 있는 일이면 좋겠고, 제 일에 어느 정도 책임도 지고 싶어요.\n",
      "#Person1#: 정말 좋네요. 저는 비서가 자율적으로 일할 수 있고, 일상적인 책임, 예를 들어 일반적인 서신에 답하거나, 전화를 받아 주거나, 가끔 제 개인적인 일을 도와줄 수 있길 기대합니다.\n",
      "#Person2#: 네, 알겠습니다. 이전 직장에서는 매일 타이핑하고 파일을 정리했어요.\n",
      "#Person1#: 가이드 경험이 있으신가요?\n",
      "#Person2#: 음, 정확하진 않지만 친구들 중 몇 명을 베이징 관광시켜 준 적은 있어요.\n",
      "#Person1#: 가끔 외국에서 손님들이 오는데 비서가 쇼핑이나 관광을 안내해주면 좋겠어요.\n",
      "#Person2#: 그거 괜찮을 것 같아요.\n",
      "\n",
      "Pred Summary: This is a dialogue between a person and a job interviewer. The person is looking for a job that involves using English and taking on some responsibility. The interviewer is looking for a secretary who can work autonomously and take on daily responsibilities such as answering general correspondence, taking phone calls, and occasionally helping with personal tasks. The person mentions that they have experience with typing and filing from a previous job. The interviewer asks if the person has experience with guiding, and the person says they have taken friends on tours of Beijing. The interviewer mentions that sometimes guests come from abroad and they would like the secretary to accompany them on shopping or sightseeing trips. The person says they think that would be okay.\n",
      "\n",
      "Gold Summary: #Person2#는 영어를 사용할 수 있고 어느 정도 책임을 맡을 수 있는 일을 선호합니다. #Person1#은 비서가 자율적으로 업무를 수행하고, 일상적인 책임을 맡으며, 가끔 개인적인 일도 도와줄 수 있기를 기대합니다. #Person2#는 이러한 요구사항을 충족할 수 있을 것 같다고 응답합니다.\n",
      "\n",
      "====================================================================================================\n",
      "Dialogue:\n",
      "#Person1#: 이번 주말에 뭐 해?\n",
      "#Person2#: 우리 매형이 집에서 작게 모임을 하는데 나 초대했어.\n",
      "#Person1#: 가족 모임이야 아니면 친구들이랑?\n",
      "#Person2#: 둘 다 섞여 있어. 사촌, 이모, 삼촌들도 오고, 동네 친구들도 올 거야.\n",
      "#Person1#: 너네 외삼촌 Rick 오셔? 그분 진짜 재밌잖아.\n",
      "#Person2#: 응, Rick도 계부 아들이랑 전처랑 같이 올 거야.\n",
      "#Person1#: 너네 언니 말하는 거야?\n",
      "#Person2#: 아니, Rick은 우리 큰할아버지고, 우리 할머니 형이야.\n",
      "#Person1#: 뭐라구? 모르겠어.\n",
      "#Person2#: 나중에 설명해줄게, 가자.\n",
      "\n",
      "Pred Summary: #Person1#: What are you doing this weekend?\n",
      "#Person2#: My brother-in-law is having a small gathering at his house and he invited me.\n",
      "#Person1#: Is it a family gathering or with friends?\n",
      "#Person2#: It's a mix of both. Cousins, aunts, and uncles are coming, and some neighborhood friends too.\n",
      "#Person1#: Is your Uncle Rick coming? He's so funny.\n",
      "#Person2#: Yeah, Rick is coming with his son and ex-wife.\n",
      "#Person1#: Is that your sister you're talking about?\n",
      "#Person2#: No, Rick is our grandfather and our grandmother's brother.\n",
      "#Person1#: What? I don't understand.\n",
      "#Person2#: I'll explain later, let's go.\n",
      "\n",
      "Gold Summary: #Person2#의 매형이 #Person2#을 친척과 친구들이 함께하는 작은 모임에 초대했습니다. #Person1#은 #Person2#의 가족 관계에 대해 헷갈립니다.\n",
      "\n",
      "====================================================================================================\n",
      "Dialogue:\n",
      "#Person1#: 안녕하세요, 제 이름은 Mickey Huang인데요. Mr. Wilson과 약속이 있습니다.\n",
      "#Person2#: 판매 보조 자리 면접 관련인가요?\n",
      "#Person1#: 네, 맞아요. 11시에요.\n",
      "#Person2#: 지금 Mr. Wilson이 통화 중이세요. 앉아서 기다리시면 곧 나오실 거예요.\n",
      "#Person1#: 감사합니다.\n",
      "#Person2#: 뭐라도 드릴까요? 커피나 차 어떠세요?\n",
      "#Person1#: 아니요, 괜찮습니다. 감사합니다.\n",
      "\n",
      "Pred Summary: #Person1#: Hello, my name is Mickey Huang. I have an appointment with Mr. Wilson.\n",
      "#Person2#: Is it for the sales assistant position?\n",
      "#Person1#: Yes, it is. At 11.\n",
      "#Person2#: Mr. Wilson is on the phone right now. Please sit down and he will be out soon.\n",
      "#Person1#: Thank you.\n",
      "#Person2#: Can I get you anything? Coffee or tea?\n",
      "#Person1#: No, thank you.\n",
      "\n",
      "Gold Summary: Mickey Huang은 판매 보조 자리 면접을 위해 Mr. Wilson과 11시에 약속이 있습니다.\n",
      "\n",
      "====================================================================================================\n",
      "Dialogue:\n",
      "#Person1#: 여기서 거의 한 달 동안 일했는데, 일은 어때요?\n",
      "#Person2#: 나쁘지 않아요. 도와줘서 고마워요. 항상 바빠서 좀 피곤해요.\n",
      "#Person1#: 저도 처음 왔을 때 그런 느낌이었어요. 그런데 시간이 지나면서 적응되더라고요. 곧 익숙해질 거예요.\n",
      "#Person2#: 맞아요, 여기서 업무 효율이 정말 높아요. 그리고 당신은 일하는 능력과 전문 기술이 뛰어나서 모든 걸 아는 것처럼 보여요. 정말 대단해요!\n",
      "#Person1#: 적자생존이라는 말도 있잖아요. 우리에겐 선택의 여지가 없죠.\n",
      "#Person2#: 맞아요, 열심히 해야겠어요.\n",
      "\n",
      "Pred Summary: #Person1#: How is the work here? I've been working here for almost a month.\n",
      "#Person2#: It's not bad. Thanks for helping me. I'm always busy, so I'm a little tired.\n",
      "#Person1#: I felt the same way when I first came here. But I got used to it after a while. You'll get used to it soon.\n",
      "#Person2#: Yeah, the work efficiency here is really high. And you have great work ability and professional skills, so you seem to know everything. You're really great!\n",
      "#Person1#: There's a saying that \"the strong survive.\" We don't have a choice.\n",
      "#Person2#: Yeah, we should work hard.\n",
      "\n",
      "Gold Summary: #Person2#는 일이 바쁘고 피곤하다고 느끼며, #Person1#은 #Person2#를 위로하고, #Person2#는 #Person1#의 일하는 능력과 전문 기술을 칭찬합니다.\n",
      "\n",
      "====================================================================================================\n",
      "Dialogue:\n",
      "#Person1#: 도와드릴까요?\n",
      "#Person2#: 이 책들을 대출하고 싶어요.\n",
      "#Person1#: 도서관 카드 있으세요?\n",
      "#Person2#: 여기 있어요.\n",
      "#Person1#: 연체료가 있는 것 같네요.\n",
      "#Person2#: 정말요?\n",
      "#Person1#: 네, 맞아요.\n",
      "#Person2#: 얼마나 내야 하나요?\n",
      "#Person1#: 연체료로 24.50달러를 내셔야 해요.\n",
      "#Person2#: 오늘은 그만큼 없어요.\n",
      "#Person1#: 죄송하지만, 연체료를 내실 때까지 다른 책을 대출할 수 없어요.\n",
      "#Person2#: 가능한 빨리 낼게요.\n",
      "\n",
      "Pred Summary: #Person1#: Can I help you?\n",
      "#Person2#: I want to borrow these books.\n",
      "#Person1#: Do you have a library card?\n",
      "#Person2#: Yes, here it is.\n",
      "#Person1#: It seems like you have some overdue fees.\n",
      "#Person2#: Really?\n",
      "#Person1#: Yes, that's right.\n",
      "#Person2#: How much do I have to pay?\n",
      "#Person1#: You have to pay $24.50 for the overdue fees.\n",
      "#Person2#: I don't have that much money today.\n",
      "#Person1#: I'm sorry, but you can't borrow any other books until you pay the overdue fees.\n",
      "#Person2#: I'll pay it as soon as possible.\n",
      "\n",
      "Gold Summary: #Person1#은 #Person2#의 책 대출을 도와주고자 하나, 연체료를 먼저 납부해야 한다고 안내합니다. #Person2#는 연체료를 조속히 납부할 예정입니다.\n",
      "\n",
      "====================================================================================================\n",
      "Dialogue:\n",
      "#Person1#: Tom, 너는 특별한 취미가 있어?\n",
      "#Person2#: 아, 응. 난 배드민턴, 탁구, 컴퓨터 게임을 정말 좋아해. 그중에서 게임하는 게 제일 좋아.\n",
      "#Person1#: 요즘 애들은 컴퓨터 앞에 몇 시간씩 앉아 있다면서. 자기 건강은 신경도 안 쓴다던데, 너도 그래?\n",
      "#Person2#: 나도 그들과 다를 바 없어. 사람들은 기계 앞에만 앉아 있는 게 멍청하다고 하지만, 나는 오히려 자극적이라고 생각해.\n",
      "#Person1#: 온라인 게임 중에서도 폭력적인 게임은 안 하겠지?\n",
      "#Person2#: 가끔 하기도 해.\n",
      "#Person1#: 그거 안 좋아. 하루에 몇 시간씩 컴퓨터 게임에 빠져 있는 건 시간 낭비 같아. 차라리 건강하고 의미 있는 일을 하는 게 낫지.\n",
      "#Person2#: 그래, 다시 자제력을 가질 수 있길 바라.\n",
      "\n",
      "Pred Summary: Tom has a lot of hobbies, but he likes playing computer games the most. He spends a lot of time playing games, and he thinks it is stimulating. He sometimes plays violent games, but he knows it is not good for him.\n",
      "\n",
      "Gold Summary: Tom은 배드민턴, 탁구, 컴퓨터 게임을 즐기며, 특히 컴퓨터 게임을 좋아합니다. #Person1#은 컴퓨터 앞에서 보내는 시간이 의미 없다고 생각하고, Tom은 자제력을 갖고 싶어합니다.\n",
      "\n",
      "====================================================================================================\n",
      "Dialogue:\n",
      "#Person1#: 오늘 왜 오셨나요?\n",
      "#Person2#: 티켓에 대해 항소하려고 왔어요.\n",
      "#Person1#: 체포한 경찰관이 나와 있나요?\n",
      "#Person2#: 네, 여기 있습니다, 판사님.\n",
      "#Person1#: 상황을 설명해보세요.\n",
      "#Person2#: 경찰관이 제가 빨간불을 무시했다고 했는데, 사실이 아니에요.\n",
      "#Person1#: 경찰관이 왜 거짓말했겠어요?\n",
      "#Person2#: 저도 모르겠지만, 그 신호등에는 카메라가 있었어요.\n",
      "#Person1#: 카메라에 당신 차량 번호판이 찍혔나요?\n",
      "#Person2#: 아니요, 찍히지 않았어요.\n",
      "#Person1#: 사진이 없으니 당신을 보내드리겠습니다.\n",
      "#Person2#: 정말 감사합니다, 판사님.\n",
      "\n",
      "Pred Summary: The dialogue is about a person who is appealing a ticket. The person claims that the police officer who issued the ticket lied about them running a red light. The officer asks the person to explain the situation. The person says that the officer said they ran a red light, but it is not true. The officer asks why the officer would lie. The person says they don't know, but there was a camera at the intersection. The officer asks if the camera captured the person's vehicle license plate. The person says no, it did not. The officer says that without a photo, they will let the person go. The person thanks the officer.\n",
      "\n",
      "Gold Summary: #Person2#는 티켓에 대해 항소하였고, #Person1#은 카메라에 #Person2#의 차량 번호판이 찍히지 않아 #Person2#를 석방하였습니다.\n",
      "\n",
      "====================================================================================================\n",
      "Dialogue:\n",
      "#Person1#: 좋아요. 이 프로젝트에 모두 함께 하고 싶어요. 언제 시작할 수 있나요?\n",
      "#Person2#: 내일 아침 8시에 전략 회의를 시작하면 될 것 같아요.\n",
      "#Person1#: 그런데 8시는 저한테 좀 어려운데, 여러분 먼저 시작하세요. 저는 8시 45분쯤에 갈게요.\n",
      "#Person2#: 그럼 괜찮아요. 이 작업하는데 얼마나 시간이 걸릴까요?\n",
      "\n",
      "Pred Summary: #Person1#: I'd like to be involved in this project. When can we start?\n",
      "#Person2#: We can start tomorrow morning at 8 with a strategy meeting.\n",
      "#Person1#: But 8 is a little early for me. You guys start without me. I'll be there at 8:45.\n",
      "#Person2#: Okay, that's fine. How long do you think this will take?\n",
      "\n",
      "Gold Summary: #Person2#는 #Person1#에게 내일 아침 프로젝트 전략 회의를 8시에 시작하자고 제안합니다. #Person1#은 8시 45분쯤 도착할 예정입니다.\n",
      "\n",
      "====================================================================================================\n",
      "Dialogue:\n",
      "#Person1#: 저기요, Bank of America 가려면 어떻게 가야 하나요? 길을 잘 모르겠어요.\n",
      "#Person2#: 음, 쭉 가다가 슈퍼마켓 보이면 돼요. 그 길 건너편에 은행이 있어요.\n",
      "#Person1#: 여기서 멀어요?\n",
      "#Person2#: 잠시만요. 음, 4블록 떨어져 있네요. 너무 멀지도 가깝지도 않아요.\n",
      "#Person1#: 버스 같은 거 탈 수 있을까요?\n",
      "#Person2#: 104번 버스나 B-201 노면전차를 탈 수 있어요. 버스로 4정거장, 노면전차로 3정거장이에요.\n",
      "#Person1#: 근데, 노면전차는 어디서 타나요?\n",
      "#Person2#: 아, 저기 서점 앞에 정류장이 있어요. 보여요?\n",
      "#Person1#: 감사합니다.\n",
      "#Person2#: 천만에요.\n",
      "\n",
      "Pred Summary: #Person1#: Excuse me, how do I get to Bank of America? I don’t know the way.\n",
      "#Person2#: Uh, just go straight and when you see the supermarket, it’s across the street.\n",
      "#Person1#: Is it far from here?\n",
      "#Person2#: Just a minute. Uh, it’s four blocks away. It’s not too far, not too close.\n",
      "#Person1#: Can I take a bus?\n",
      "#Person2#: You can take the 104 bus or the B-201 trolley. It’s four stops by bus and three stops by trolley.\n",
      "#Person1#: But, where do I get on the trolley?\n",
      "#Person2#: Oh, there’s a stop in front of the bookstore. Can you see it?\n",
      "#Person1#: Thank you.\n",
      "#Person2#: You’re welcome.\n",
      "\n",
      "Gold Summary: #Person1#이 Bank of America로 가는 길을 #Person2#에게 묻습니다. #Person2#는 방향과 이용 가능한 교통수단을 설명합니다. #Person1#은 노면전차를 이용할 계획입니다.\n",
      "\n",
      "====================================================================================================\n",
      "Dialogue:\n",
      "#Person1#: 저기, 오늘 아침에 제 침실 청소됐나요?\n",
      "#Person2#: 네, 청소했습니다. 모든 방은 아침에 청소해요.\n",
      "#Person1#: 음, 그런데 문제가 좀 있어요.\n",
      "#Person2#: 방이 마음에 안 드시나요?\n",
      "#Person1#: 아니요, 그런 건 아니고요. 목걸이가 안 보여서요.\n",
      "#Person2#: 죄송합니다. 그 목걸이에 대해 좀 더 말씀해주실 수 있나요?\n",
      "#Person1#: 오늘 아침에 침대 옆 테이블에 두었는데 지금 찾을 수가 없어요.\n",
      "#Person2#: 바로 매니저에게 보고하겠습니다.\n",
      "\n",
      "Pred Summary: #Person1#: Hey, did you clean my room this morning?\n",
      "#Person2#: Yes, I did. I clean all the rooms in the morning.\n",
      "#Person1#: Hmm, but there's a problem.\n",
      "#Person2#: Is there something wrong with the room?\n",
      "#Person1#: No, not really. I can't find my necklace.\n",
      "#Person2#: I'm sorry. Can you tell me more about the necklace?\n",
      "#Person1#: I left it on the bedside table this morning and now I can't find it.\n",
      "#Person2#: I'll report it to the manager right away.\n",
      "\n",
      "Gold Summary: #Person1#가 방을 청소한 후 목걸이를 잃어버렸으며, #Person2#는 이를 매니저에게 보고할 것입니다.\n",
      "\n",
      "====================================================================================================\n",
      "Dialogue:\n",
      "#Person1#: 거기에 경쟁 요소가 있다는 건가요? 영국의 철도는 국유 산업이잖아요. 철도 시스템은 하나뿐이에요. 특정 브랜드의 콩이 마음에 안 들면 다른 걸 사면 되잖아요. 하지만 특정 철도가 마음에 안 들면 다른 데를 이용할 수 없잖아요.\n",
      "#Person2#: 맞아요. 제게 편지를 보내는 사람들 중 일부는 독점이 없었다면 우리가 지금 하고 있는 일을 못 했을 거라고 해요. 고객을 일부러 불편하게 하려는 건 아니에요. 우리도 나름의 어려움이 있어요. 1946년 교통법이 생기면서 국유화가 됐잖아요.\n",
      "#Person1#: 그게 좋다고 생각하시나요? 철도가 국유화된 것이 철도에 좋았다고 생각하세요?\n",
      "#Person2#: 네, 저는 그렇게 생각해요. 전반적으로 교통수단들은 늘 주변에 있어요. 자동차가 나타났고, 자동차는 여기 머물러 있을 겁니다. 그건 의문의 여지가 없어요.\n",
      "#Person1#: 그러면 철도가 국유화되지 않았다면 아예 없어졌을 거라고요?\n",
      "#Person2#: 아, 저는 그렇게 생각해요. 미국에서는 철도가 빠르게 사라지고 있죠. 프랑스 철도는 연간 10억 파운드를 잃고, 독일 철도는 연간 20억 파운드를 잃어요. 하지만 그런 나라들은 그 시스템을 유지하기 위해 자금을 계속 투자하고 있어요.\n",
      "#Person1#: 그렇다면 어느 정도 양극단 사이에서 균형을 잡고 있다는 거죠. 한편으로는 너무 많은 돈을 잃지 않으려고 하고, 다른 한편으로는 최고의 서비스를 제공해야 하잖아요.\n",
      "#Person2#: 네, 맞아요.\n",
      "\n",
      "Pred Summary: The dialogue is about the privatization of the British railways. Person 1 argues that the railways should be privatized because there is a lack of competition and the current system is not efficient. Person 2 argues that the railways should remain nationalized because they are an essential part of the transportation system and privatization would lead to a decline in service quality. The conversation focuses on the pros and cons of privatization and the challenges faced by the railways industry.\n",
      "\n",
      "Gold Summary: #Person2#는 더 많은 자동차가 등장하면서 철도의 수익이 점점 줄어들므로 철도의 국유화가 필요했다고 생각합니다. #Person1#은 #Person2#가 수익 손실을 줄이면서도 최고의 서비스를 제공하기 위해 노력한다고 평가합니다.\n",
      "\n",
      "====================================================================================================\n",
      "Dialogue:\n",
      "#Person1#: 노란색보다 이 흰 치마가 너한테 더 잘 어울리는 것 같아.\n",
      "#Person2#: 고마워. 나도 흰색이 더 마음에 들어. 그런데 얼마에 파실 거예요?\n",
      "#Person1#: 100달러인데, 30% 할인해줄게.\n",
      "\n",
      "Pred Summary: #Person1#: The white dress looks better on you than the yellow one.\n",
      "#Person2#: Thanks. I prefer white too. How much is it?\n",
      "#Person1#: It's $100, but I'll give you 30% off.\n",
      "\n",
      "Gold Summary: #Person1#과 #Person2#는 흰색 치마가 더 잘 어울린다고 생각하며, #Person1#이 할인된 가격을 제시합니다.\n",
      "\n",
      "====================================================================================================\n",
      "Dialogue:\n",
      "#Person1#: 좋아요. 결정을 내려야 하는데, 면접 본 사람들 중 누가 제일 괜찮을까요?\n",
      "#Person2#: 음, 봅시다. 먼저 Frank를 봤는데, 그는 매우 공손하고 편안했어요. 하지만 옷차림이 별로였어요. 넥타이도 안 했더라고요.\n",
      "#Person1#: 맞아요, 옷을 잘 입는 게 중요하죠. 음, 다른 사람들은 어땠나요? Susan은 어땠어요? 그녀는 목소리도 좋았고 옷도 깔끔하게 잘 입었어요.\n",
      "#Person2#: 네, 그녀도 아주 깔끔하게 입기는 했어요. 하지만 너무 소심해 보였어요. 프런트 데스크에서 사람들과 대화하는 데는 별로일 거예요.\n",
      "#Person1#: 알겠어요. 그럼 다음은 누구였죠? 아... 네, David. 어떻게 생각해요?\n",
      "#Person2#: 음... 그는 아주 똑똑해 보였어요. 옷도 깔끔하게 입고 전체적으로 외모도 아주 좋았어요.\n",
      "#Person1#: 그는 공손하면서도 저에게 아주 친근하고 편안한 인상을 주었어요. 사람들이 바로 편하게 느낄 타입이에요.\n",
      "#Person2#: 그리고 Dona의 질문에도 아주 잘 답했어요. 프런트 데스크에서 손님들과도 잘할 것 같아요.\n",
      "#Person1#: 맞아요. 좋아요! 그러면 리셉셔니스트는 결정된 것 같네요. 그렇지 않아요?\n",
      "\n",
      "Pred Summary: Dialogue:\n",
      "#Person1#: Okay. We need to make a decision, which of the people we interviewed would be the best?\n",
      "#Person2#: Hmm, let's see. First, we saw Frank, and he was very polite and comfortable. But his clothes were not very good. He didn't even wear a tie.\n",
      "#Person1#: Yeah, dressing well is important. Hmm, how about the others? How was Susan? She had a nice voice and dressed neatly.\n",
      "#Person2#: Yes, she dressed very neatly too. But she seemed too shy. She wouldn't be good at talking to people at the front desk.\n",
      "#Person1#: Okay. So who was next? Oh... yes, David. What do you think?\n",
      "#Person2#: Hmm... he seemed very smart. He dressed neatly and overall, he looked very good.\n",
      "#Person1#: He was polite and gave me a very friendly and comfortable impression. He's the type of person people would feel comfortable with right away.\n",
      "#Person2#: And he answered Dona's questions very well. I think he would do well with guests at the front desk too.\n",
      "#Person1#: Yeah. Okay! So it looks like we have decided on the receptionist, right?\n",
      "\n",
      "Gold Summary: #Person1#과 #Person2#는 면접 본 지원자들에 대해 논의합니다. Frank, Susan, David에 대한 평가는 서로 다르며, 두 사람은 David의 외모와 성격이 리셉셔니스트로 가장 적합하다고 판단합니다.\n",
      "\n",
      "====================================================================================================\n",
      "Dialogue:\n",
      "#Person1#: 안녕하세요! 혹시 배관공 부르셨나요? \n",
      "#Person2#: 네, 제가 불렀어요. 들어오세요! 와주셔서 정말 다행이에요. 이 오래된 집이 다 무너질 것 같아요! 안으로 들어오세요. \n",
      "#Person1#: 알겠습니다. 어디 좀 볼게요. 화장실이 막혀서 물이 안 내려가고 있네요. 잠시만요. \n",
      "#Person2#: 아, 아마 우리 네 살짜리 딸 때문일 거예요. 자꾸 변기에 뭘 흘려보내고 그러거든요. 아시죠. \n",
      "#Person1#: 아, 저도 애가 있어서 알아요. 그런데 이 수도관이 많이 녹슬었으니, 그것도 교체하는 게 좋을 것 같아요. \n",
      "#Person2#: 아, 좋네요! 비용이 많이 드나요? \n",
      "#Person1#: 글쎄요... 한 800달러 정도 나올 것 같아요.\n",
      "\n",
      "Pred Summary: #Person1#: Hello! Did you call a plumber? \n",
      "#Person2#: Yes, I did. Come in! Thank goodness you came. This old house is falling apart! Come inside. \n",
      "#Person1#: Okay. Let me take a look. The toilet is clogged and the water won't go down. Just a minute. \n",
      "#Person2#: Oh, probably my four-year-old daughter. She keeps flushing things down the toilet. You know how they are. \n",
      "#Person1#: Oh, I have a kid too. But this water pipe is rusty, so it's better to replace it. \n",
      "#Person2#: Oh, that's good! Does it cost a lot? \n",
      "#Person1#: Well... it'll probably be around $800.\n",
      "\n",
      "Gold Summary: #Person2#가 배관공을 불러 #Person1#이 #Person2#의 집에 도착합니다. #Person1#은 화장실이 막혔음을 확인하고, 수도관 교체를 제안하며 800달러의 견적을 제시합니다.\n",
      "\n",
      "====================================================================================================\n",
      "Dialogue:\n",
      "#Person1#: Scott 사건에서 무슨 일 있었는지 들었어? 민감한 자료가 언론에 유출됐대. 지금 모든 신문이 그걸로 난리야. \n",
      "#Person2#: 아, 로펌 쪽에서는 정말 화가 많이 났겠네. 누가 유출했는지 알아? \n",
      "#Person1#: 의심 가는 사람은 있을 거야. 사건 내용을 아는 사람은 고위 변호사 몇 명밖에 없었거든. \n",
      "#Person2#: 책임 있는 사람들은 어떤 결과를 맞게 될까? \n",
      "#Person1#: 당연히 해고당하겠지! 그리고 법적 처벌도 있을 수도 있어. \n",
      "#Person2#: 정보를 유출한 사람이 어떤 법적 문제에 직면할까? \n",
      "#Person1#: 비밀 자료를 누설하면서 고객의 기밀을 어긴 거니까 문제가 될 수 있지. \n",
      "#Person2#: 생각도 못 했어. 꽤 심각하네. 누가 그랬는지 조사하는 사람들이 있어? \n",
      "#Person1#: 아마 경영진이 철저히 조사하고 있을 거야.\n",
      "\n",
      "Pred Summary: Scott 사건에서 민감한 자료가 언론에 유출되었고, 유출한 사람은 해고될 뿐만 아니라 법적 처벌을 받을 수도 있다.\n",
      "\n",
      "Gold Summary: #Person2#와 #Person1#은 Scott 사건의 정보 유출에 대해 이야기하며, 용의자들과 법적 결과에 대해 논의합니다.\n",
      "\n",
      "====================================================================================================\n",
      "Dialogue:\n",
      "#Person1#: 무엇을 도와드릴까요, 손님?\n",
      "#Person2#: 네, 부탁드려요. 동생에게 선물을 사주려고 해요. 남미로 여행을 가거든요.\n",
      "#Person1#: 비행기로 가시나요, 아니면 배로 가시나요?\n",
      "#Person2#: 비행기로요. 그래서 선물이 좀 가벼웠으면 해요. 뭐 추천해 주실 만한 게 있을까요?\n",
      "#Person1#: 이 지갑 어때요? 고급 가죽으로 만들어졌어요.\n",
      "#Person2#: 누나가 이미 하나 줬어요. 좀 독특한 걸로 하고 싶어요.\n",
      "#Person1#: 모든 걸 다 가진 분께는 이 선물이 최고죠.\n",
      "#Person2#: 아, 손수건 좋네요. 좋은 생각이에요. 이걸로 할게요.\n",
      "\n",
      "Pred Summary: #Person1#: What can I help you with, sir?\n",
      "#Person2#: Yes, please. I'm buying a gift for my sister. She's going on a trip to South America.\n",
      "#Person1#: Are you going by plane or by ship?\n",
      "#Person2#: By plane. So I'd like the gift to be light. Do you have anything you can recommend?\n",
      "#Person1#: How about this wallet? It's made of high-quality leather.\n",
      "#Person2#: My sister already has one. I'd like something more unique.\n",
      "#Person1#: This is the best gift for someone who has everything.\n",
      "#Person2#: Oh, a handkerchief is nice. That's a good idea. I'll take this one.\n",
      "\n",
      "Gold Summary: #Person2#는 동생에게 줄 가벼운 선물을 찾고 있으며, #Person1#이 손수건을 추천합니다.\n",
      "\n",
      "====================================================================================================\n",
      "Dialogue:\n",
      "#Person1#: 나 학교 어디 지원해야 할지 고민 중이야.\n",
      "#Person2#: 공립학교 생각해, 아니면 사립학교?\n",
      "#Person1#: 잘 모르겠어. 둘의 차이가 뭐야?\n",
      "#Person2#: 공립학교는 보통 국가에서 지원받고, 사립학교는 민간에서 재정을 받지.\n",
      "#Person1#: 어느 쪽이 더 나아?\n",
      "#Person2#: 더 낫다기보다는 학교 운영과 교사들에 따라 달라.\n",
      "#Person1#: 사립학교는 교복 입어야 한다고 들었어.\n",
      "#Person2#: 응, 가끔 그렇지.\n",
      "\n",
      "Pred Summary: #Person1#: I'm thinking about where to apply for school.\n",
      "#Person2#: Are you considering public or private?\n",
      "#Person1#: I'm not sure. What's the difference?\n",
      "#Person2#: Public schools are usually funded by the government, and private schools are funded by private sources.\n",
      "#Person1#: Which is better?\n",
      "#Person2#: It depends on the school and the teachers.\n",
      "#Person1#: I heard private schools require uniforms.\n",
      "#Person2#: Yeah, sometimes.\n",
      "\n",
      "Gold Summary: #Person2#는 #Person1#에게 공립학교와 사립학교의 차이를 설명하며 학교 선택에 도움을 준다.\n",
      "\n",
      "====================================================================================================\n",
      "Dialogue:\n",
      "#Person1#: 말도 안 돼! 네가 다른 사람과 바람을 피우고 있다니 믿을 수 없어! 어떻게 그럴 수가 있어! 여기서 나갈 거야! \n",
      "#Person2#: 기다려! 마치 상담사 같은 분, 이게 어떻게 가능한가요? 전 제 남자친구에게 바람을 피운 적이 없어요! \n",
      "#Person3#: 고백할 게 있어... 미안해, Veronica, 내가 거짓말했어. \n",
      "#Person2#: 잠깐만... 뭐라고? 무슨 소리야? \n",
      "#Person3#: 내가 거짓말했어. 너는 임신한 게 아니야. 아이가 없다고. 질투심에 휩싸여서 그렇게 말할 수밖에 없었어. Veronica, 내가 널 사랑해! \n",
      "#Person2#: 지금 무슨 소리 하는 거야! 너 누구야? \n",
      "#Person3#: 나야, Daniel, 기억 안 나? 고등학교 때 매일 너 뒤에 앉아 있었잖아! 풋볼 경기 때마다 가서 치어리딩하는 널 봤어! \n",
      "#Person2#: 너 미쳤구나! 우린 대화도 안 했잖아! 내 남자친구에게 왜 그런 거짓말을 했어? \n",
      "#Person3#: Veronica... 너무 불공평하잖아! 난 널 사랑해, 우리가 처음 만난 날부터! 다 잘 되어가고 있었는데 그 바보가 나타나서 모든 걸 망쳤어! 너 말대로 의사가 되고 싶다 그래서 난 의대에 갔어! 이제 넌 내 거야... 어떻게든...\n",
      "#Person1#: 다 들었어, 거짓말쟁이 자식! 그녀에게서 손 떼!\n",
      "\n",
      "Pred Summary: #Person1#: No way! You’re cheating on me? I can’t believe it! How could you do this? I’m leaving! \n",
      "#Person2#: Wait! You’re like a counselor, how is this possible? I’ve never cheated on my boyfriend! \n",
      "#Person3#: I have a confession to make... I’m sorry, Veronica, I lied. \n",
      "#Person2#: Wait a minute... What? What are you saying? \n",
      "#Person3#: I lied. You’re not pregnant. There’s no baby. I was so jealous that I couldn’t help but say that. Veronica, I love you! \n",
      "#Person2#: What are you talking about! Who are you? \n",
      "#Person3#: Me, Daniel, don’t you remember? I sat behind you in high school! I used to go to all the football games to watch you cheerlead! \n",
      "#Person2#: You’re crazy! We never even talked! Why did you lie to my boyfriend? \n",
      "#Person3#: Veronica... It’s so unfair! I love you, I’ve loved you since the first day we met! Everything was going so well until that idiot came along and ruined everything! I went to medical school because you said you wanted to be a doctor! Now you’re mine... I’ll make sure of it... \n",
      "#Person1#: I heard everything, you lying bastard! Get your hands off her!\n",
      "\n",
      "Gold Summary: #Person3#가 #Person2#의 임신 사실을 거짓으로 #Person1#과 #Person2#에게 전했습니다. 이는 #Person3#가 #Person2#의 남자친구를 질투했기 때문입니다. #Person3#는 고등학교 시절부터 #Person2#를 사랑해왔습니다.\n",
      "\n",
      "====================================================================================================\n",
      "Dialogue:\n",
      "#Person1#: 그러고 보니 김, 너 혹시 뭐 훔친 적 있어?\n",
      "#Person2#: 훔친 적? 없어, 왜?\n",
      "#Person1#: 우리 삼촌이 며칠 전에 오토바이를 도난당했어. 요즘 범죄자들이 얼마나 교묘한지 생각해봤거든.\n",
      "#Person2#: 범죄자들이 교묘하다고? 사람들 방심할 때만 성공하는 거잖아.\n",
      "#Person1#: 글쎄, 우리 삼촌 오토바이를 훔친 사람들은 꽤 대단하더라.\n",
      "#Person2#: 삼촌이 경보 시스템을 달았으면 그런 일 없었을 텐데.\n",
      "#Person1#: 달았지. 그것도 최고급이었어. 그런데 그걸 무력화시키더라고. 번화한 거리에서 말이야.\n",
      "#Person2#: 아무도 막지 않았어?\n",
      "#Person1#: 나도 사람들이 막을 줄 알았는데, 아는 사람 하나도 없더라. 도둑들은 트럭을 타고 와서 삼촌 오토바이는 불법 주차된 거라고 설득해서 견인해 간다고 했어.\n",
      "#Person2#: 와, 그 사람들 대단하네. 범죄자들이 정말 교묘하네.\n",
      "#Person1#: 그게 다가 아니야. 그 사람들은 너무 능숙해서 지나가는 사람한테도 오토바이를 트럭에 실어달라고 도와달라 했어.\n",
      "\n",
      "Pred Summary: #Person1#: By the way, Kim, have you ever stolen anything?\n",
      "#Person2#: Stolen? No, why?\n",
      "#Person1#: My uncle had his motorcycle stolen a few days ago. I was thinking about how cunning criminals are these days.\n",
      "#Person2#: Criminals are cunning? They only succeed when people are careless.\n",
      "#Person1#: Well, the people who stole my uncle’s motorcycle were pretty smart.\n",
      "#Person2#: If your uncle had an alarm system, he wouldn’t have had that problem.\n",
      "#Person1#: He did. It was the best one. But they disabled it. In a busy street, too.\n",
      "#Person2#: Nobody stopped them?\n",
      "#Person1#: I thought people would, but there wasn’t a single person who did. The thieves drove up in a truck and convinced people that my uncle’s motorcycle was illegally parked and that they were going to tow it away.\n",
      "#Person2#: Wow, those people are smart. Criminals are really cunning.\n",
      "#Person1#: That’s not all. They were so good that they even asked passersby to help them load the motorcycle onto the truck.\n",
      "\n",
      "Gold Summary: #Person1#은 삼촌의 오토바이가 도난당했다고 김에게 전한다. 도둑들은 매우 교묘해서 오토바이가 불법 주차되었다고 주변 사람들을 설득했고, 심지어 지나가던 사람에게 오토바이를 트럭에 실어달라고 요청했다.\n",
      "\n",
      "====================================================================================================\n",
      "Dialogue:\n",
      "#Person1#: 너 토플 시험 결과 나왔어? \n",
      "#Person2#: 응, 나왔어. 합격했어! \n",
      "#Person1#: 축하해! 네가 해낼 줄 알았어. \n",
      "#Person2#: 글쎄, 네 도움이 없었으면 못했을 거야. 넌 내가 만난 최고의 교사야. \n",
      "#Person1#: 고마워, 하지만 네가 열심히 했기에 가능한 거야. \n",
      "#Person2#: 너도 칭찬받을 만해. 너한테 많이 배웠어.\n",
      "\n",
      "Pred Summary: #Person1#: Did you get your TOEFL results? \n",
      "#Person2#: Yes, I got them. I passed! \n",
      "#Person1#: Congratulations! I knew you could do it. \n",
      "#Person2#: Well, I couldn't have done it without your help. You're the best teacher I've ever had. \n",
      "#Person1#: Thank you, but you deserve the credit. You worked hard. \n",
      "#Person2#: You deserve the praise too. I learned a lot from you.\n",
      "\n",
      "Gold Summary: #Person2#는 #Person1#의 도움으로 토플 시험에 합격했다.\n",
      "\n",
      "====================================================================================================\n",
      "Dialogue:\n",
      "#Person1#: 안녕하세요, 손님.\n",
      "#Person2#: 안녕하세요. 힐튼이라는 이름으로 예약했습니다.\n",
      "#Person1#: 철자를 알려주실 수 있나요?\n",
      "#Person2#: 네, 좋아요. H-I-L-T-O-N입니다.\n",
      "#Person1#: 잠시만요. 아, 네, Hilton님, 세 박으로 싱글 룸 예약하셨네요. 맞나요?\n",
      "#Person2#: 네, 맞아요.\n",
      "#Person1#: 컴퓨터를 확인해 보니, 저희 호텔을 자주 이용해 주시는 고객이시군요. 멤버십 카드 있으세요?\n",
      "#Person2#: 네, 여기 있습니다. 그리고 제 신용카드도요.\n",
      "#Person1#: 감사합니다. 방 번호는 105호입니다. 여기가 열쇠와 영수증입니다. 다시 저희 호텔을 찾아주셔서 감사합니다, 손님.\n",
      "#Person2#: 감사합니다, 안녕히 계세요.\n",
      "#Person1#: 안녕히 가세요.\n",
      "\n",
      "Pred Summary: The dialogue is between a hotel receptionist and a guest. The guest checks in and the receptionist asks for his name and room reservation details. The guest provides his name and room reservation details. The receptionist confirms the details and informs the guest that he is a frequent customer and asks if he has a membership card. The guest provides his membership card and credit card. The receptionist gives the guest his room key and receipt and thanks him for choosing their hotel. The guest thanks the receptionist and leaves.\n",
      "\n",
      "Gold Summary: 힐튼은 호텔 체크인을 위해 예약을 확인받고, 호텔 직원이 체크인을 도와주며 열쇠와 영수증을 제공합니다.\n",
      "\n",
      "====================================================================================================\n",
      "Dialogue:\n",
      "#Person1#: 이거 진짜 멋지다! 나 해변 진짜 좋아해. \n",
      "#Person2#: 나도 그래. 태양도 좋고 모래도 좋고, 바다도 좋고! \n",
      "#Person1#: 그리고 이것도 생각해 봐! 요트 타기, 수영, 윈드서핑, 낚시 어때? \n",
      "#Person2#: 오, 정말 다 멋지게 들려. 난 그런 것들 정말 좋아해. \n",
      "#Person1#: 맞아... 나도 그래. \n",
      "#Person2#: 음, 낚시는 빼고. 솔직히 말하면, 난 낚시 정말 싫어하지만 나머지는 다 좋아해. \n",
      "#Person1#: 이봐! 이거 좀 봐! 큰 호텔이나 해변가에 작은 오두막에서 지낼 수 있어. \n",
      "#Person2#: 있잖아. 난 큰 호텔은 별로 안 좋아해. \n",
      "#Person1#: 나도 그래. 오두막에서 지내자. 바다 바로 옆이라 훨씬 좋을 거야.\n",
      "\n",
      "Pred Summary: #Person1#: This is so cool! I love the beach. \n",
      "#Person2#: Me too. I love the sun, the sand, and the sea! \n",
      "#Person1#: And think about this! Sailing, swimming, windsurfing, and fishing. What do you think? \n",
      "#Person2#: Oh, that all sounds so great. I really love all of those things. \n",
      "#Person1#: Right... me too. \n",
      "#Person2#: Well, except for fishing. I have to admit, I really don't like fishing, but I love everything else. \n",
      "#Person1#: Hey! Check this out! We can stay in a big hotel or a little cabin on the beach. \n",
      "#Person2#: You know what? I don't really like big hotels. \n",
      "#Person1#: Me neither. Let's stay in a cabin. It will be much better right next to the sea.\n",
      "\n",
      "Gold Summary: #Person1#과 #Person2#는 해변에 대해 이야기하며, #Person2#는 낚시를 제외한 모든 것을 좋아합니다. 두 사람은 해변 근처의 오두막에서 지내고 싶어합니다.\n",
      "\n",
      "====================================================================================================\n",
      "Dialogue:\n",
      "#Person1#: 이번 주말에 뭐 할 거야, 톰? \n",
      "#Person2#: 잘 모르겠어. 보통 집에서 TV 보거나 가끔 컴퓨터 게임 하고 지내. 좋은 생각 있어? \n",
      "#Person1#: 영화 보러 갈래? 영화 본 지 오래됐어. 아이스 에이지 4가 인기 있대. 같이 보자. \n",
      "#Person2#: 음, 난 만화에는 별로 관심 없어. 체육관에서 테니스 치는 거 어때? \n",
      "#Person1#: 좋아. 나 운동 좋아해. 언제 어디서 만날까? \n",
      "#Person2#: 토요일 아침 9시에 체육관에서 만나자. \n",
      "#Person1#: 좋아. 그때 보자. \n",
      "#Person2#: 그래, 그때 봐.\n",
      "\n",
      "Pred Summary: Tom and Person1 are talking about what to do this weekend. Person1 suggests going to see a movie, but Tom is not interested in cartoons. They decide to play tennis at the gym instead. They will meet at the gym at 9am on Saturday.\n",
      "\n",
      "Gold Summary: 톰과 #Person2#는 이번 주말에 영화 대신 테니스를 치기로 계획하고, 토요일 아침 체육관에서 만나기로 했습니다.\n",
      "\n",
      "====================================================================================================\n",
      "Dialogue:\n",
      "#Person1#: 안녕하세요, 어떻게 도와드릴까요?\n",
      "#Person2#: 안녕하세요, 컴퓨터에 문제가 좀 생긴 것 같아요.\n",
      "#Person1#: 알겠습니다. 그럼 볼게요. 내일 아침 10시쯤은 어때요?\n",
      "#Person2#: 아, 안될 것 같아요. 내일 오전 9시까지 끝내서 제출해야 할 중요한 보고서가 있어요. 10시는 너무 늦어요. 지금 올 수 없나요?\n",
      "#Person1#: 지금 다른 일을 하고 있고, 저녁 8시까지 집에 가서 가족과 저녁을 먹어야 해요.\n",
      "#Person2#: 오늘이 일요일 저녁인 걸 알아요. 대신 일할 수 있는 다른 사람을 추천해 줄 수 있나요? 전화번호부에 나와 있는 번호들을 다 돌려봤는데, 당신만 받으셨어요.\n",
      "#Person1#: 잠시만요. 걱정 마세요. 지금 어디 계세요?\n",
      "#Person2#: 사무실에 있어요. 모닝사이드 지역에서 일해요.\n",
      "#Person1#: 그러면 잘됐네요. 집에 가는 길에 그 지역을 지나가야 하거든요. 여기 일을 7시 30분쯤 끝내니까, 7시 45분쯤 가도 될까요?\n",
      "#Person2#: 그럼요, 감사합니다.\n",
      "\n",
      "Pred Summary: The person is asking for help with a computer problem and the other person is offering to help. They discuss a time to meet and the person in need of help suggests a different time because they have an important report to finish by 9am. The other person suggests meeting later in the evening and the person in need of help suggests a different time because they have to be home by 8pm. The other person suggests meeting later in the evening and the person in need of help suggests a different time because they have to be home by 8pm. The other person suggests meeting later in the evening and the person in need of help suggests a different time because they have to be home by 8pm. The other person suggests meeting later in the evening and the person in need of help suggests a different time because they have to be home by 8pm. The other person suggests meeting later in the evening and the person in need of help suggests a different time because they have to be home by 8pm. The other person suggests meeting later in the evening and the person in need of help suggests a different time because they have to be home by 8pm. The other person suggests meeting later in the evening and the person in need of help suggests a different time because they have to be home by 8pm. The other person suggests meeting later in the evening and the person in need of help suggests a different time because they have to be home by 8pm. The other person suggests meeting later in the evening and the person in need of help suggests a different time because they have to be home by 8pm. The other person suggests meeting later in the evening and the person in need of help suggests a different time because they have to be home by 8pm. The other person suggests meeting later in the evening and the person in need of help suggests a different time because they have to be home by 8pm. The other person suggests meeting later in the evening and the person in need of help suggests a different time because they have to be home by 8pm. The other person suggests meeting later in the evening and the person in need of help suggests a different time because they have to be home by 8pm. The other person suggests meeting later in the evening and the person in need of help suggests a different time because they have to be home by 8pm. The other person suggests meeting later in the evening and the person in need of help suggests a different time because they have to be home by\n",
      "\n",
      "Gold Summary: #Person2#는 컴퓨터 수리를 위해 #Person1#에게 연락했습니다. 그들은 내일 만날 시간에 합의하지 못했고, #Person2#의 긴급한 보고서 작성 때문에 #Person1#이 곧바로 그곳에 가기로 했습니다.\n",
      "\n",
      "====================================================================================================\n",
      "Dialogue:\n",
      "#Person1#: 오늘 밤의 전설적인 삶에 오신 것을 환영합니다. 저는 Shirley Morgan입니다. 오늘 밤에는 30년 경력의 유명한 요리사, David Hopkins를 초대하게 되어 매우 영광입니다. 작년에 그의 신간 'Secrets in the Kitchen'이 6개월간 뉴욕 타임스 베스트셀러에 올랐습니다. 우리 프로그램에 오신 것을 환영합니다, David.\n",
      "#Person2#: 안녕하세요, Shirley. 여기 오게 되어 기쁩니다.\n",
      "#Person1#: David, 요리의 비법을 공개하시는 걸 보고 싶어서 참을 수가 없네요. 요리의 방법과 이유를 탐구하죠. 그 전에 하나 질문 드려도 될까요? 셰프와 요리사는 어떤 차이가 있을까요?\n",
      "#Person2#: 제 생각에 요리사는 보통 입문직에서 일하고, 주방에서 다양한 곳에서 경험을 쌓으며 레시피를 따릅니다. 반면 셰프는 특별한 훈련을 받고, 어떤 음식이 잘 어울리는지를 더 잘 이해해서 새로운 레시피를 만들어낼 수 있습니다.\n",
      "#Person1#: 그렇군요, 셰프는 전문적인 교육을 받은 요리사고, 요리사는 기본적으로 요리를 하는 사람이라는 거군요. 그럼 어떻게 셰프가 되셨나요?\n",
      "#Person2#: 저는 전문적으로 훈련을 받았습니다. 95%는 전문적인 훈련이고, 나머지 5%는 재능입니다.\n",
      "#Person1#: 셰프의 하루를 설명해 주실 수 있을까요? 정말 궁금하거든요.\n",
      "#Person2#: 특별한 건 없어요. 보통 서비스가 시작하기 2시간 전에 출근합니다. 전날 밤에는 다음날 준비해야 할 것들의 목록을 작성하죠. 역할에 따라 다양한 임무를 맡습니다.\n",
      "#Person1#: 도전적이네요. 하루에 몇 시간씩 일하세요?\n",
      "#Person2#: 하루에 10시간에서 12시간 정도 일합니다.\n",
      "#Person1#: 정말 거의 풀타임이군요! 저 같은 평범한 요리사에게 조언이 있을까요?\n",
      "#Person2#: 요리는 당신의 열정과 창의성을 필요로 합니다. 주방은 단순히 야채를 자르고 빠르게 아침을 만드는 곳이 아닙니다. 사람들이 정말 즐길 수 있는 음식을 만드는 것이 중요합니다.\n",
      "#Person1#: 정말 동의해요. 주방에서는 기적이 일어나죠. 참여해 주셔서 감사합니다, David.\n",
      "#Person2#: 제 기쁨입니다.\n",
      "\n",
      "Pred Summary: This program is a conversation between Shirley Morgan and David Hopkins. Shirley welcomes David to the show and asks him about his book, \"Secrets in the Kitchen.\" She then asks him about the difference between a chef and a cook. David explains that a cook is someone who follows recipes and works in various areas of the kitchen, while a chef is someone who has received specialized training and can create new recipes. Shirley asks David about his daily routine and he explains that he works 10-12 hours a day and arrives at work 2 hours before service starts. He also mentions that he writes a list of things to prepare for the next day. Shirley asks David for advice for ordinary cooks and he says that cooking requires passion and creativity. He also mentions that the kitchen is not just about cutting vegetables and making breakfast quickly, but about creating food that people can truly enjoy.\n",
      "\n",
      "Gold Summary: #Person1#은 유명 셰프 David를 프로그램에 초대하여 그에게 요리사와 셰프의 차이점, 셰프의 하루 일과, 평범한 요리사를 위한 조언 등에 대해 질문합니다. David는 요리가 열정과 창의성을 필요로 한다고 말합니다.\n",
      "\n",
      "====================================================================================================\n",
      "Dialogue:\n",
      "#Person1#: 책 좀 찾는 거 도와줄 수 있을까요? 수업 때문에 필요한데 미국 역사에 대한 보고서를 쓰고 있어요.\n",
      "#Person2#: 물론이에요. 우리 도서관 컴퓨터 사용 방법 아세요? 모든 책 목록이 우리 웹사이트에 있어요. 필요한 책을 찾으면 본관의 위치로 안내해 드릴게요.\n",
      "#Person1#: 고마워요. 그런데 컴퓨터에서 어떤 책을 찾아야 할지 잘 모르겠어요. 주제가 너무 막연해서 특정 책이 아니라 주제에 맞는 여러 책을 어떻게 찾을 수 있을까요?\n",
      "#Person2#: 제가 보여드릴게요. 화면의 검색창에 주제를 입력하면 관련된 책 목록이 나와요. 그중에서 몇 권을 선택해서 서가에서 찾아보죠.\n",
      "#Person1#: 감사합니다.\n",
      "#Person2#: 참고로, 한 번에 세 권까지 대출할 수 있다는 점 기억하세요.\n",
      "\n",
      "Pred Summary: #Person1#: Can you help me find some books? I need them for class, I'm writing a report on American history.\n",
      "#Person2#: Sure. Do you know how to use the computers in our library? All the book listings are on our website. Once you find the books you need, I'll show you where they are in the main building.\n",
      "#Person1#: Thanks. But I'm not sure what books to look for on the computer. The topic is too broad, so I don't know how to find several books on the topic instead of just one.\n",
      "#Person2#: Let me show you. If you type the topic into the search bar on the screen, a list of related books will come up. You can choose a few of them and look for them on the shelves.\n",
      "#Person1#: Thanks.\n",
      "#Person2#: Just remember, you can only check out three books at a time.\n",
      "\n",
      "Gold Summary: #Person2#는 #Person1#에게 도서관 컴퓨터를 이용하여 주제와 관련된 책을 찾는 방법을 안내하고, 한 번에 최대 세 권까지 대출할 수 있다고 설명합니다.\n",
      "\n",
      "====================================================================================================\n",
      "Dialogue:\n",
      "#Person1#: 엄마, 나 대학 때문에 좀 걱정돼. 무슨 공부를 해야 할지 모르겠고, 전공을 어떻게 정해야 할지 모르겠어. \n",
      "#Person2#: 그런 결정은 어려울 수 있지, 존. \n",
      "#Person1#: 어떻게 결정해야 할까? \n",
      "#Person2#: 음, 먼저 네 관심사부터 시작해보는 건 어때? 네가 흥미를 가지는 걸 공부하면 도움이 될 거야. 너는 어떤 것을 읽거나 배우는 걸 좋아하니? \n",
      "#Person1#: 음, 춤추는 거랑 사람들 도와주는 게 좋아. 그게 내 관심사인 것 같아. \n",
      "#Person2#: 사람들 도와준다는 게 무슨 뜻이야? \n",
      "#Person1#: 사람들이 문제 있을 때 그걸 해결하는 걸 도와주는 게 좋아. 사람들이 아프면 기분 좋게 해주는 일을 하고 싶어. \n",
      "#Person2#: 그렇다면 의학에 관심이 있을 수도 있겠네. \n",
      "#Person1#: 음... 잘 모르겠어. \n",
      "#Person2#: 또 생각해야 할 점은 네가 원하는 직업과 얼마나 벌고 싶은지도 생각해야 해. \n",
      "#Person1#: 그건 어떻게 알 수 있어? \n",
      "#Person2#: 도서관에서 다양한 직업을 조사할 수 있고, 다양한 직업의 수입에 대한 보고서와 자료가 있어. \n",
      "#Person1#: 나는 여행할 돈을 벌 수 있는 고소득 직업을 갖고 싶어. \n",
      "#Person2#: 맞아, 수입이 전공 선택에 중요한 영향을 미칠 거야. 또 한 가지 생각할 점이 있어. \n",
      "#Person1#: 그게 뭐야? \n",
      "#Person2#: 장학금, 즉 대학에서 주는 지원금을 받는 것도 고려해야 해. 특별한 장학금을 받을 수 있는 전공을 선택하는 게 좋을 거야. 네가 제대로 결정할 거라 믿어. \n",
      "#Person1#: 고마워, 엄마.\n",
      "\n",
      "Pred Summary: Person1 is worried about choosing a major in college and doesn't know what to study. Person2 suggests starting with Person1's interests and suggests looking into medical careers. Person1 is interested in helping people and wants a high-paying job that allows them to travel. Person2 suggests looking into scholarships and choosing a major that offers special scholarships. Person1 thanks Person2 for the advice.\n",
      "\n",
      "Gold Summary: 존은 엄마에게 전공 선택에 대한 고민을 털어놓고 조언을 구한다. 엄마는 자신의 관심사와 예상 수입, 장학금 기회를 고려하라고 조언하며, 진심 어린 응원을 보낸다.\n",
      "\n",
      "====================================================================================================\n",
      "Dialogue:\n",
      "#Person1#: 존슨 씨, 만나 주셔서 반가워요. 이렇게 멋진 장소에서 대화할 수 있어서 좋네요. 분위기가 참 좋습니다! \n",
      "#Person2#: 괜찮아요. 가능한 한 비즈니스와 즐거움을 함께하고 싶거든요. 그럼, 당신이 제공하시는 초콜릿에 대해 더 듣고 싶어요. \n",
      "#Person1#: 아시다시피, 제가 최근에 미국에서 그레인저의 고메 봉봉의 단독 유통업자가 되었어요. 새로운 제조사이고 고급 시장에 진출하려고 합니다. 그래서 자연스럽게 당신의 레스토랑이 떠올랐어요. 당신의 브랜드는 그레인저와 많은 공통점을 가지고 있다고 생각해요. 이 초콜릿을 제공하면 우아하고 럭셔리한 식사를 제공하는 당신의 명성이 더 높아질 거예요. \n",
      "#Person2#: 음, 흥미롭네요. 고메 초콜릿이라니, 어디서 생산되나요? 벨기에인가요? \n",
      "#Person1#: 사실, 공장은 스코틀랜드에 있어요. \n",
      "#Person2#: 정말요? 스코틀랜드가 고급 초콜릿 생산지로 유명하진 않은 것 같은데요... \n",
      "#Person1#: 그게 바로 이번 기회를 환상적으로 만드는 이유예요! 정부에서 새로운 수출 시장 창출을 전폭적으로 지원하고 있고, 천 개 이상 대량 주문에 대해 낮은 관세를 보장해요. 통관 절차도 간소화되었어요. 여기, 특별히 가져온 초콜릿이니 한번 드셔보세요! \n",
      "#Person2#: 아, 고마워요. 음, 부드러운 질감에 아주 매끈하네요. \n",
      "#Person1#: 독특하죠? 이런 맛은 정말 처음이실 거예요. 품질을 항상 보증합니다. 제가 직접 공장을 방문해서 재료에 아무 문제가 없는지 확인하거든요. 최고품만 검사에 통과하게 돼요. \n",
      "#Person2#: 네, 아주 흥미로운 맛이네요. 살짝 매콤하기도 하고, 정말 독특해요. 정확히 어떤 재료들이 들어가나요? \n",
      "#Person1#: 가장 신뢰할 수 있는 정보에 따르면 이 전통 비법은 그레인저 가문에서 대대로 전해져 온다고 해요. 비밀을 지켜줄 거라 믿어요. 버터밀크, 카카오 빈, 설탕, 그리고 해기스가 들어갑니다. \n",
      "#Person2#: 해기스요? 해기스가 뭐죠? \n",
      "#Person1#: 스코틀랜드 전통 별미예요. 양의 간, 심장, 폐를 양의 위에 넣어 만드는 음식이죠.\n",
      "\n",
      "Pred Summary: Dialogue:\n",
      "#Person1#: Mr. Johnson, it's a pleasure to meet you. I'm glad we can talk in such a nice place. The atmosphere is great! \n",
      "#Person2#: No problem. I want to combine business and pleasure as much as possible. So, I'd like to hear more about the chocolates you offer. \n",
      "#Person1#: As you know, I recently became the sole distributor of Granger's Gourmet Bonbons in the US. It's a new manufacturer and they want to enter the luxury market. That's why your restaurant came to mind. I think your brand has a lot in common with Granger's. Offering these chocolates will enhance your reputation for providing elegant and luxurious meals. \n",
      "#Person2#: Hmm, interesting. Gourmet chocolates, where are they made? Belgium? \n",
      "#Person1#: Actually, the factory is in Scotland. \n",
      "#Person2#: Really? I didn't know Scotland was famous for producing high-end chocolates... \n",
      "#Person1#: That's exactly what makes this opportunity so fantastic! The government is fully supporting the creation of new export markets and guarantees low tariffs for orders of over a thousand pieces. Customs procedures have also been simplified. Here, I brought some chocolates especially for you to try! \n",
      "#Person2#: Oh, thank you. Hmm, it's very smooth and creamy. \n",
      "#Person1#: Unique, isn't it? You've never tasted anything like this before. I always guarantee the quality. I even visit the factory to make sure there are no issues with the ingredients. Only the best ones pass the inspection. \n",
      "#Person2#: Yes, it's a very interesting taste. It's slightly spicy and really unique. What exactly are the ingredients? \n",
      "#Person1#: According to the most reliable information, this traditional recipe has been passed down in the Granger family for generations. I trust them to keep the secret. It contains butter milk, cocoa beans, sugar, and haggis. \n",
      "#Person2#: Haggis? What is haggis? \n",
      "#Person1#: It's a traditional Scottish delicacy. It's made by stuffing\n",
      "\n",
      "Gold Summary: 존슨 씨는 #Person2#을 만나 스코틀랜드에서 생산된 저관세 혜택과 독특한 맛을 가진 고급 초콜릿을 제안합니다. 이 초콜릿의 재료는 버터밀크, 카카오 빈, 설탕 그리고 스코틀랜드 전통 음식인 해기스입니다. 스코틀랜드 정부는 새로운 수출 시장 창출을 지원하고 있습니다.\n",
      "\n",
      "====================================================================================================\n",
      "Dialogue:\n",
      "#Person1#: 저기요, 면접 보러 갈 때 뭐 입어야 할까요?\n",
      "#Person2#: 정장에 넥타이를 매는 게 좋을 것 같아요.\n",
      "#Person1#: 면접 중에 긴장할까 봐 걱정이에요.\n",
      "#Person2#: 걱정 마세요. 그냥 최선을 다해서 자신을 잘 표현하세요.\n",
      "\n",
      "Pred Summary: #Person1#: What should I wear to the interview?\n",
      "#Person2#: I think you should wear a suit and tie.\n",
      "#Person1#: I'm worried that I'll be nervous during the interview.\n",
      "#Person2#: Don't worry. Just do your best to present yourself well.\n",
      "\n",
      "Gold Summary: #Person2#는 #Person1#에게 면접에서 정장과 넥타이를 착용하고 자신을 잘 표현하라고 조언합니다.\n",
      "\n",
      "====================================================================================================\n",
      "Dialogue:\n",
      "#Person1#: 블랙 씨, 휴가 좀 내고 싶어요. 요즘 너무 피곤하네요.\n",
      "#Person2#: 알겠습니다. 한번 확인해볼게요. 아직 열흘 연차 남았죠?\n",
      "#Person1#: 네, 그래서 2주 정도 쉬고 싶어요.\n",
      "#Person2#: 꽤 긴 휴가네요. 프로젝트 진행 상태는 어떤가요?\n",
      "#Person1#: 제가 맡고 있는 프로젝트는 이번 주말까지 끝날 예정이에요. 다음 주 월요일부터 휴가를 내고 싶습니다.\n",
      "#Person2#: 알겠어요. 하지만 떠나기 전에 마무리를 잘 해야 해요.\n",
      "#Person1#: 감사합니다, 블랙 씨. 당장 필요한 프로젝트는 없고요, 제 부재 중엔 스미스 씨가 맡을 겁니다. 그는 여러 프로젝트에 참여했기 때문에 고객들과의 관계도 잘 유지할 수 있을 거예요.\n",
      "#Person2#: 좋아요! 푹 쉬고 돌아와서 새롭게 시작하세요.\n",
      "#Person1#: 그럴게요. 정말 감사합니다, 블랙 씨.\n",
      "\n",
      "Pred Summary: Dialogue:\n",
      "#Person1#: Mr. Black, I want to take a vacation. I'm really tired these days.\n",
      "#Person2#: Okay. Let me check. You still have ten days of vacation, right?\n",
      "#Person1#: Yes, so I want to take two weeks off.\n",
      "#Person2#: That's quite a long vacation. How is the project going?\n",
      "#Person1#: The project I'm in charge of will be finished by this weekend. I want to take a vacation starting next Monday.\n",
      "#Person2#: Okay. But you have to finish up before you leave.\n",
      "#Person1#: Thank you, Mr. Black. I don't have any urgent projects, and Mr. Smith will take care of them while I'm gone. He has worked on many projects, so he can maintain good relationships with our customers.\n",
      "#Person2#: Okay! Rest well and come back refreshed.\n",
      "#Person1#: I will. Thank you, Mr. Black.\n",
      "\n",
      "Gold Summary: #Person1#이 블랙 씨에게 휴가를 요청합니다. 블랙 씨는 #Person1#에게 프로젝트를 잘 마무리할 것을 상기시키며, 부재 중에는 스미스 씨가 대신 담당할 것임을 알려줍니다.\n",
      "\n",
      "====================================================================================================\n",
      "Dialogue:\n",
      "#Person1#: 이 집에 제안하고 싶지만, 어떻게 해야 할지 잘 모르겠어요.\n",
      "#Person2#: 제가 부동산 중개인이니까 절차는 제가 처리해드릴게요. 얼마로 제안할까요?\n",
      "#Person1#: 이 집이 정말 마음에 들어서, 제시된 가격인 삼십오만 달러 전액을 지불하고 싶어요.\n",
      "#Person2#: 조금 협상 여지를 두면 좋을 것 같아요. 삼십이만 달러로 제안해보죠.\n",
      "#Person1#: 그거 좋네요, 하지만 이 집을 놓치고 싶진 않아요.\n",
      "#Person2#: 지금 시장이 좀 침체되어 있어서, 그 제안도 괜찮아요.\n",
      "#Person1#: 집주인이 제안을 언제쯤 수락할지 알 수 있을까요?\n",
      "#Person2#: 보통 집주인들은 며칠 안에 답변해요.\n",
      "#Person1#: 그동안 은행에 연락해야 할까요?\n",
      "#Person2#: 이미 대출 사전 승인 받으셔서 괜찮아요.\n",
      "\n",
      "Pred Summary: The person wants to buy a house but doesn't know how to make an offer. The real estate agent offers to help with the process and suggests making an offer for $320,000. The person is willing to pay the full asking price of $350,000 but the agent advises to leave some room for negotiation. The person is worried about losing the house but the agent says the market is slow so the offer should be fine. The person asks when the seller will respond and the agent says it usually takes a few days. The person asks if they should contact the bank and the agent says they already have pre-approval for a loan.\n",
      "\n",
      "Gold Summary: #Person1#는 부동산 중개인의 조언에 따라, #Person1#가 정말 마음에 드는 집에 대해 삼십오만 달러의 전액 제시 가격보다 낮은 가격을 제안합니다.\n",
      "\n",
      "====================================================================================================\n",
      "Dialogue:\n",
      "#Person1#: 지금 토네이도 경보가 내려졌어. 엄마가 방금 라디오에서 들으셨대.\n",
      "#Person2#: 토네이도 경보가 뭐야?\n",
      "#Person1#: 이 지역 어딘가에서 토네이도가 목격됐다는 얘기야.\n",
      "#Person2#: 진짜? 뉴베를린에서?\n",
      "#Person1#: 아니, 반드시 이 마을은 아니야. 남부 위스콘신 어딘가래. 토네이도가 눈에 띄었대. 여기서는 두 단계가 있어. 이건 '토네이도 주의보'라고 해. 날씨가 토네이도에 적합한 상태란 뜻이지.\n",
      "#Person2#: 이해했어. 토네이도가 올지도 모른다고 생각하는 거구나.\n",
      "#Person1#: 맞아. 사람들이 조심해야 해, 왜냐면 토네이도가 올 가능성이 있거든. 그래서 그게 주의보야.\n",
      "#Person2#: 그리고 두 번째 단계가 '토네이도 경보'구나.\n",
      "#Person1#: 맞아. 토네이도가 발견되면 토네이도 경보를 발표해. 경보가 발령됐다는 건 토네이도가 어딘가에 있다는 얘기야.\n",
      "#Person2#: 무섭네.\n",
      "#Person1#: 응... 토네이도는 위험할 수 있어, 그건 사실이야. 시끄러운 기차 소리 같은 것이 들리면 지하실로 가야 해.\n",
      "#Person2#: 시끄러운 기차 소리라니 무슨 뜻이야?\n",
      "#Person1#: 토네이도가 그런 소리를 내. 기차처럼 들려. 엄청 시끄럽지.\n",
      "#Person2#: 근데 오는 소리가 들린다면 이미 늦은 거 아니야?\n",
      "#Person1#: 그럴 수도 있어. 토네이도에 따라 달라. 어떤 건 시속 200마일로 이동하기도 해. 엄청 빠르지. 다른 건 그렇게 빠르진 않아.\n",
      "#Person2#: 많이 봤어?\n",
      "#Person1#: 인생에서 딱 한 번 봤어. 창밖을 보고 있었는데, 2마일 정도 떨어져 있었어. 정말 신기했어. 근데 친구네 집 쪽으로 가고 있었거든. 그래서 급히 전화했어.\n",
      "#Person2#: 친구네 집 맞았어?\n",
      "#Person1#: 아니, 안 맞았어. 근데 그래도 전화해줘서 고마워했어.\n",
      "#Person2#: 네가 전화했을 때, 친구들은 뭐 하고 있었어?\n",
      "#Person1#: 다들 거실에서 TV 보고 있었대. 토네이도가 자기네 집 쪽으로 오는 줄 전혀 몰랐대. 만약 맞았으면 아마 다들 위험했을지도 몰라.\n",
      "#Person2#: 무섭다. 토네이도로 많은 사람들이 죽어?\n",
      "#Person1#: 그렇진 않아. 하지만 집이 많이 파괴되곤 해.\n",
      "\n",
      "Pred Summary: 토네이도 경보가 내려졌다. 토네이도 경보는 토네이도가 발견됐다는 뜻이다. 토네이도는 위험할 수 있다. 토네이도가 오면 지하실로 가야 한다. 토네이도는 시끄러운 기차 소리 같은 소리를 낸다. 토네이도는 시속 200마일로 이동할 수 있다.\n",
      "\n",
      "Gold Summary: #Person1#은 #Person2#에게 토네이도 경보와 주의보 두 단계를 설명합니다. 또한 토네이도의 소리, 그 소리가 나는 이유, 그리고 토네이도의 위험성에 대해 설명합니다. 이어서 #Person1#은 본인이 겪은 토네이도 경험을 이야기하며 토네이도의 위험성을 강조합니다.\n",
      "\n",
      "====================================================================================================\n",
      "Dialogue:\n",
      "#Person1#: 주말에 재미있는 일 했어?\n",
      "#Person2#: 지난 주말엔 집에서 영화만 봤어. 나가고 싶지 않더라고.\n",
      "#Person1#: 왜 나가기 싫었어?\n",
      "#Person2#: 일주일 내내 일하느라 너무 피곤했어. 가끔 주말엔 영화관 갈 힘도 안 나.\n",
      "#Person1#: 영화를 다운로드했어, 아니면 가게에서 빌렸어?\n",
      "#Person2#: 반납할 걱정 안 하려고 다운로드했어.\n",
      "\n",
      "Pred Summary: #Person1#: Did you do anything fun this weekend?\n",
      "#Person2#: I just watched movies at home last weekend. I didn't feel like going out.\n",
      "#Person1#: Why didn't you want to go out?\n",
      "#Person2#: I was too tired from working all week. Sometimes I don't even have the energy to go to the movies on weekends.\n",
      "#Person1#: Did you download the movies, or rent them from a store?\n",
      "#Person2#: I downloaded them so I didn't have to worry about returning them.\n",
      "\n",
      "Gold Summary: #Person2#는 지난 주말에 나가지 않고 집에서 다운로드한 영화를 봤다고 #Person1#에게 말합니다.\n",
      "\n",
      "====================================================================================================\n",
      "Dialogue:\n",
      "#Person1#: 너 이사 간다고 들었어.\n",
      "#Person2#: 응, 회사 근처에 더 좋은 집을 찾았어. 아주 만족해. 그런데 걱정이 돼.\n",
      "#Person1#: 뭐가 걱정이야?\n",
      "#Person2#: 살림살이를 어떻게 옮겨야 할지 걱정이야. 너도 알다시피, 짐이 많잖아.\n",
      "#Person1#: 용달차 부르면 되지.\n",
      "#Person2#: 그거 얼마야?\n",
      "#Person1#: 트럭 한 대에 대략 200위안 정도야.\n",
      "#Person2#: 조금 비싼 것 같아.\n",
      "#Person1#: 그런데 생각해 봐, 너는 짐만 싸고 나머지는 다 이삿짐 센터에 맡기면 얼마나 편하겠어.\n",
      "#Person2#: 그렇네.\n",
      "#Person1#: 내가 아는 이삿짐 센터가 서비스가 좋기로 유명해. 그 번호 줄게.\n",
      "#Person2#: 잘 됐네.\n",
      "#Person1#: 번호는 #PhoneNumber#이야.\n",
      "#Person2#: 알았어, 고마워. 큰 도움을 받았어.\n",
      "#Person1#: 천만에.\n",
      "\n",
      "Pred Summary: Person1: I heard you’re moving.\n",
      "Person2: Yeah, I found a better house near my company. I’m very satisfied. But I’m worried.\n",
      "Person1: What’s the problem?\n",
      "Person2: I’m worried about how to move my belongings. You know, I have a lot of stuff.\n",
      "Person1: Just hire a moving truck.\n",
      "Person2: How much does that cost?\n",
      "Person1: It’s about 200 yuan for a truck.\n",
      "Person2: That seems a bit expensive.\n",
      "Person1: But think about it, you just need to pack your stuff and leave the rest to the moving company.\n",
      "Person2: That’s true.\n",
      "Person1: I know a moving company that’s famous for its good service. I’ll give you their number.\n",
      "Person2: That’s great.\n",
      "Person1: The number is #PhoneNumber#.\n",
      "Person2: Okay, thanks. You’ve been a big help.\n",
      "Person1: You’re welcome.\n",
      "\n",
      "Gold Summary: #Person2#는 이사를 가기로 했으나 살림살이를 어떻게 옮길지 걱정하고 있다. #Person1#이 이삿짐 센터에 맡기라고 제안하고, 서비스가 좋은 이삿짐 센터의 전화번호를 #Person2#에게 알려준다.\n",
      "\n",
      "====================================================================================================\n",
      "Dialogue:\n",
      "#Person1#: 이게 제 대출증이에요, 그리고 이건 책들이고요.\n",
      "#Person2#: 네, 잠시만요.\n",
      "#Person1#: 그런데 대출을 연장할 수 있을까요?\n",
      "#Person2#: 어느 책 말씀이세요?\n",
      "#Person1#: '센스 앤 센서빌리티' 영어 버전이에요.\n",
      "#Person2#: 네, 물론 가능합니다.\n",
      "#Person1#: 여기서 바로 할 수 있나요?\n",
      "#Person2#: 죄송하지만, 여기서는 안 돼요. 다른 창구로 가셔야 합니다.\n",
      "#Person1#: 알겠습니다, 고마워요.\n",
      "#Person2#: 죄송하지만, 이 전집은 반납 기한이 지났습니다. 추가 요금을 내셔야 해요.\n",
      "#Person1#: 아버지가 도서관에서 빌려 오셔서 서점에서 사려던 참이었는데... 어쨌든 얼마 내야 하나요?\n",
      "#Person2#: 3위안입니다.\n",
      "#Person1#: 여기 있습니다. 감사합니다.\n",
      "#Person2#: 천만에요. 다음에 또 뵐게요.\n",
      "\n",
      "Pred Summary: This dialogue is about a person who is trying to renew a book loan and is asked to go to another window to do so. The person is also asked to pay a fine for a book that was overdue. The person pays the fine and thanks the librarian.\n",
      "\n",
      "Gold Summary: #Person2#는 #Person1#의 도서 반납을 도와주고, #Person1#은 책 대출 연장을 신청하며 기한이 지난 책에 대해 3위안을 지불합니다.\n",
      "\n",
      "====================================================================================================\n",
      "Dialogue:\n",
      "#Person1#: Tom, 너 트릭 오어 트릿하기엔 좀 나이 많은 거 아니야?\n",
      "#Person2#: 무슨 소리야? 할로윈 분위기 다 어디 갔어? 너 친구들이랑 코스튬 입고 동네 돌아다니면서 트릭 오어 트릿 해본 적 없니?\n",
      "#Person1#: 당연히 했지, 근데 열 살 때 말이야! 트릭 오어 트릿은 주로 아이들이 하는 거잖아. 밤에 애들이랑 같이 돌아다니면 오해받을 수도 있어.\n",
      "#Person2#: 몰라, 난 옆집에 갈 거야. Mrs. Robinson이 큰 봉지의 M&M 초콜릿을 나눠준다고 들었어.\n",
      "\n",
      "Pred Summary: #Person1#: Tom, you're too old to go trick or treat, aren't you?\n",
      "#Person2#: What are you talking about? Where's the Halloween spirit? Have you never gone trick or treating with your friends dressed up and walking around the neighborhood?\n",
      "#Person1#: Of course I have, but when I was ten! Trick or treating is mostly for kids. You might get misunderstood if you walk around at night with kids.\n",
      "#Person2#: I don't know, I'm going to the house next door. I heard Mrs. Robinson is giving out big bags of M&M's.\n",
      "\n",
      "Gold Summary: #Person1#은 Tom이 트릭 오어 트릿을 하기에는 나이가 많다고 생각하지만, Tom은 재미로 계속 하겠다고 주장합니다.\n",
      "\n",
      "====================================================================================================\n",
      "Dialogue:\n",
      "#Person1#: 그 사람은 널 괴롭히는 데만 신경 쓰는 것 같아. 어떻게 그렇게 시간을 낭비할 수 있는지 모르겠어.\n",
      "#Person2#: 그의 컴퓨터를 꺼버리게 바이러스라도 보내고 싶어.\n",
      "#Person1#: Bean이 귀찮기는 해도, 이 일을 끝내려고 노력은 해야 해.\n",
      "#Person2#: 맞아. 자, 그 사람한테 보낼 자료 있어?\n",
      "#Person1#: 응! 너 그거 기억나? 입에 전구 넣는 거 말이야.\n",
      "\n",
      "Pred Summary: #Person1#: That person seems to only care about bothering you. I don't know how he can waste his time like that.\n",
      "#Person2#: I wish I could send him a virus to shut down his computer.\n",
      "#Person1#: Bean is annoying, but we have to try to get this done.\n",
      "#Person2#: Right. Okay, do you have the materials to send to him?\n",
      "#Person1#: Yeah! You remember that thing with the light bulb in the mouth?\n",
      "\n",
      "Gold Summary: #Person1#과 #Person2#는 Bean이 귀찮다고 불평하며, 문제를 해결하려고 고민하고 있습니다.\n",
      "\n",
      "====================================================================================================\n",
      "Dialogue:\n",
      "#Person1#: 제안 하나 해도 될까요?\n",
      "#Person2#: 그럼요, 말씀하세요.\n",
      "#Person1#: 담배를 끊어보는 게 어떨까요? 건강에 정말 안 좋잖아요.\n",
      "#Person2#: 사실 맞아요. 저는 두 달 전부터 양을 줄이고 있거든요. 예전에는 하루에 한 갑씩 피웠는데, 이제는 하루에 6개비로 제한하고 있어요.\n",
      "#Person1#: 큰 진전이네요. 담배를 끊는 게 쉬운 일이 아니죠. 하지만 장기적으로 보면 보람 있을 거예요.\n",
      "#Person2#: 제안해줘서 고마워요.\n",
      "#Person1#: 별말씀을요.\n",
      "\n",
      "Pred Summary: #Person1#: Can I make a suggestion?\n",
      "#Person2#: Sure, go ahead.\n",
      "#Person1#: Why don't you try to quit smoking? It's really bad for your health.\n",
      "#Person2#: You're right. I've been cutting down for the past two months. I used to smoke a pack a day, but now I'm limiting myself to six cigarettes a day.\n",
      "#Person1#: That's a big improvement. Quitting smoking is not an easy thing to do, but it will be worth it in the long run.\n",
      "#Person2#: Thanks for the suggestion.\n",
      "#Person1#: No problem.\n",
      "\n",
      "Gold Summary: #Person1#은 #Person2#에게 담배를 끊는 것을 제안하며, #Person2#는 이미 두 달 전부터 흡연량을 줄이고 있다고 답합니다.\n",
      "\n",
      "====================================================================================================\n",
      "Dialogue:\n",
      "#Person1#: 인생이 너무 지루해. \n",
      "#Person2#: 뭐, 대부분의 시간이 그렇지 뭐. \n",
      "#Person1#: 넌 뭐가 널 행복하게 할 것 같아? \n",
      "#Person2#: 돈이 날 행복하게 할 것 같아. \n",
      "#Person1#: 사람들이 그러잖아, 돈이 행복을 보장하진 않는다고. \n",
      "#Person2#: 나한텐 보장할 거야. 그러면 하고 싶은 걸 다 할 수 있잖아. \n",
      "#Person1#: 결국엔 지루해질걸. \n",
      "#Person2#: 그럼 새로운 걸 찾으면 되지. 돈 걱정 안 해도 되면, 일할 필요 없잖아. \n",
      "#Person1#: 그건 그렇지. 나도 일 안 해도 되면 행복할 것 같은데. \n",
      "#Person2#: 그니까... 돈이 행복을 주진 않지만, 많은 책임을 덜어주잖아.\n",
      "\n",
      "Pred Summary: #Person1#: Life is so boring. \n",
      "#Person2#: Well, most of the time it is. \n",
      "#Person1#: What do you think would make you happy? \n",
      "#Person2#: I think money would make me happy. \n",
      "#Person1#: People say money doesn't guarantee happiness. \n",
      "#Person2#: It would guarantee it for me. Then I could do whatever I want. \n",
      "#Person1#: Eventually it would get boring. \n",
      "#Person2#: Then I'd find something new. If I didn't have to worry about money, I wouldn't have to work. \n",
      "#Person1#: That's true. I think I would be happy if I didn't have to work either. \n",
      "#Person2#: So... money doesn't give you happiness, but it takes away a lot of responsibilities.\n",
      "\n",
      "Gold Summary: #Person1#은 일을 안 해도 된다면 행복할 것 같다고 합니다. #Person2#은 돈이 행복을 보장하지 않지만 많은 책임을 덜어줄 수 있다고 생각합니다.\n",
      "\n",
      "====================================================================================================\n",
      "Dialogue:\n",
      "#Person1#: 저기요, 여기 대학교에서 중국어 공부하세요?\n",
      "#Person2#: 네, 그런데 제 한자가 많이 부족해요.\n",
      "#Person1#: 중국어 글자를 배우는 데 시간이 오래 걸려요.\n",
      "#Person2#: 중국 분이세요?\n",
      "#Person1#: 네, 저는 대만에서 왔고, 여기 정치학 공부하러 왔어요.\n",
      "#Person2#: 어떠세요?\n",
      "#Person1#: 지금까지는 좋아요. 그런데 제 영어가 아직 부족해요.\n",
      "#Person2#: 저는 중국어와 국제 관계를 공부하고 싶어요.\n",
      "#Person1#: 여기에 있는 중국어 학과에서는 정체자를 가르쳐요, 아니면 간체자를 가르쳐요?\n",
      "#Person2#: 정체자를 가르쳐요.\n",
      "#Person1#: 그렇군요. 저는 대만 출신이라서 정체자가 더 익숙해요.\n",
      "#Person2#: 조금 전에 영어가 부족하다고 하셨죠?\n",
      "#Person1#: 네, 맞아요. 특히 쓰기요. 제 논문이 좋지 않은 것 같아요. 문법 실수를 너무 많이 해요.\n",
      "#Person2#: 저는 중국어 배우는 데 매우 진지해요. 지금은 발음이 제일 어렵네요. 중국어에는 4성조가 있어서 정말 힘들어요. 혹시 시간 되시면, 언어 교환 어떨까요?\n",
      "#Person1#: 둘이서요?\n",
      "#Person2#: 네, 왜 안되겠어요? 만약 여기 카페 자주 오신다면, 여기에서 만나서 같이 중국어와 영어를 연습할 수 있을 것 같아요.\n",
      "#Person1#: 그거 좋은 생각 같네요. 얼마나 자주 할까요?\n",
      "#Person2#: 음... 지금 제 일정이 좀 바쁜데, 주 90분 정도 할 수 있을 것 같아요.\n",
      "#Person1#: 어떻게 시간을 나눌까요? 그 90분을 어떻게 보낼까요?\n",
      "#Person2#: 먼저, 45분은 당신의 영어 작문을 도와드릴게요. 원하시면, 제가 논문을 고쳐 드릴 수도 있고요. 아니면 영어 대화를 할 수도 있어요. 원하는 대로요. 그리고 다음 45분은 제가 중국어를 배우게 해주시면 돼요.\n",
      "#Person1#: 작문을 도와드리면 되나요?\n",
      "#Person2#: 아니요. 지금은 구어체 중국어가 중요해요. 연습이 필요하거든요. 그래서 회화를 가르쳐주시면 좋아요. 교과서를 사용해서 질문도 해주시면 좋겠어요. 그러면 제가 틀린 부분을 수정해 주시면 돼요.\n",
      "#Person1#: 좋은 시스템인 것 같네요. 근데 언제 만나는 게 편한가요?\n",
      "#Person2#: 오늘 월요일이죠. 사실 월요일 이 시간이 제일 좋아요. 지금부터 11시까지 시간이 비어 있어요.\n",
      "#Person1#: 저도요. 사실 저도 1시까지 시간 있어요.\n",
      "#Person2#: 그럼 10시에 만나는 건 어때요?\n",
      "#Person1#: 좋아요. 제가 지금 작업 중인 논문을 가지고 올게요.\n",
      "#Person2#: 그럼 저는 교과서랑 녹음기 가지고 올게요. 혼자서 연습할 수 있도록 몇 가지 녹음을 하고 싶어요.\n",
      "#Person1#: 제가 전화번호 드릴게요.\n",
      "#Person2#: 좋아요. 저도 드릴게요. 만약 무슨 이유로 취소해야 하면 전화 드릴 수 있게요.\n",
      "\n",
      "Pred Summary: This dialogue is about two people who are interested in learning each other's language. Person 1 is from Taiwan and is studying political science at the university. Person 2 is interested in learning Chinese and international relations. They agree to meet at a café on Monday at 10:00 to practice their languages. Person 1 will bring their essay for Person 2 to correct, and Person 2 will bring their textbook and a recorder to record themselves speaking Chinese. They exchange phone numbers in case they need to cancel the meeting.\n",
      "\n",
      "Gold Summary: #Person2#는 중국어를 공부하고 있으며, 한자가 부족하고 발음을 가장 어렵다고 느낍니다. #Person1#는 영어 작문 개선이 필요하다고 느끼고 있습니다. #Person2#는 언어 교환을 제안하여 매주 월요일 오전 10시에 90분 동안 영어와 중국어를 교환하기로 했습니다. 45분 동안 #Person1#의 영어 작문이나 대화를 도와주고, #Person1#는 #Person2#의 구어체 중국어를 도울 예정입니다.\n",
      "\n",
      "====================================================================================================\n",
      "Dialogue:\n",
      "#Person1#: 오늘 어떻게 도와드릴까요, Alice?\n",
      "#Person2#: 저, 장학금 신청하려고 여기 왔어요.\n",
      "#Person1#: 아, 좋네요. 당신은 훌륭한 학생이에요. 기꺼이 도와드릴게요.\n",
      "#Person2#: 고맙습니다. 정말 감사해요. 사실, 이 장학금을 위해 추천서가 필요해요.\n",
      "#Person1#: 어떤 장학금인가요?\n",
      "#Person2#: 미국 소수 민족 학생 장학금 협회에서 제공하는 학부생 장학금이에요. 제가 아시아계 미국인이라 자격이 있어요.\n",
      "#Person1#: 좋아요. 그 장학금 알아요. 3학년 학생이어야 하고, 학점 평균이 3.7 이상이어야 돼요.\n",
      "#Person2#: 지금 3학년이고, 제 GPA는 3.92예요.\n",
      "#Person1#: 정말 훌륭하네요. 받을 가능성이 높겠어요.\n",
      "#Person2#: 그랬으면 좋겠어요. 경쟁이 치열할 것 같아요. 그리고 그쪽에서 글 샘플도 요구해요.\n",
      "#Person1#: 제출하고 싶은 에세이가 있어요?\n",
      "#Person2#: 아니요, 특별한 에세이를 요구해요. 그들이 제시하는 질문에 대해 써야 해요.\n",
      "#Person1#: 어떤 질문이죠?\n",
      "#Person2#: 지원자에게 주제를 줘요. 주제는 '민주 사회에서의 소수 민족의 위치'예요. 제 에세이는 두 페이지 간격으로 세 장을 작성해야 해요.\n",
      "#Person1#: 꽤 짧은 에세이네요.\n",
      "#Person2#: 네, 하지만 다음 주까지 작성해야 해요.\n",
      "#Person1#: 잘 해봐요. 잘할 거예요.\n",
      "#Person2#: 오늘 여기 온 이유는... 음, 두 가지 부탁을 드리고 싶어서요.\n",
      "#Person1#: 물론이죠. 무엇인가요?\n",
      "#Person2#: 먼저 추천서가 필요해요.\n",
      "#Person1#: 기꺼이 작성해드릴게요.\n",
      "#Person2#: 그리고 두 번째는... 정상적인 건지 잘 모르겠어요.\n",
      "#Person1#: 뭔가요? 에세이를 읽어달라는 건가요?\n",
      "#Person2#: 네, 맞아요. 제 에세이에 실수가 없는지 확인해주시면 좋겠어요. 아니면 제안 사항이 있으실지도 모르고요.\n",
      "#Person1#: 물론이죠. 읽어드릴 수 있어요. 문제없어요. 하지만 빨리 가져와야 해요.\n",
      "#Person2#: 네, 오늘 밤에 초안을 작성할 거예요. 그래서 내일 아침에 가져올 수 있어요.\n",
      "#Person1#: 좋아요. 만약 내일 아침에 가져다주면 금요일에 수업 후에 얘기할 수 있어요. 그래서 주말 전에 피드백을 드릴 수 있을 거예요.\n",
      "#Person2#: 그게 정말 큰 도움이 될 거예요. 정말 감사해요.\n",
      "#Person1#: 별 말씀을요. 착실한 학생은 항상 도와주고 싶어요.\n",
      "\n",
      "Pred Summary: This dialogue is between Alice and a person who is seeking help with a scholarship application. Alice is a helpful person who is willing to assist the person in completing the application. The person is applying for a scholarship from the American Minority Student Scholarship Fund, which is available to Asian American students. Alice is familiar with the scholarship and knows that the applicant must be a third-year student with a GPA of 3.7 or higher. The person is currently a third-year student with a GPA of 3.92, which is very good.\n",
      "\n",
      "The person is also required to submit a writing sample for the scholarship. The topic is \"The Position of Minorities in a Democratic Society,\" and the essay must be three pages, double-spaced. Alice suggests that the person write the essay and bring it to her for feedback. The person agrees to do so and promises to bring the essay to Alice the next day. Alice offers to read the essay and provide feedback by Friday, so that the person can make any necessary changes before the weekend.\n",
      "\n",
      "The person also asks Alice to write a recommendation letter for the scholarship. Alice is happy to do so and promises to write a positive letter. The person expresses gratitude for Alice's help and Alice encourages the person to do well on the application.\n",
      "\n",
      "Gold Summary: Alice는 아시아계 미국인으로 자격이 있어 미국 소수 민족 학생 장학금 협회에서 제공하는 장학금을 신청하려 합니다. 그녀는 현재 3학년 학생이며, GPA가 3.92입니다. 장학금 신청을 위해 '민주 사회에서의 소수 민족의 위치'라는 주제로 에세이를 작성해야 합니다. #Person1#은 Alice에게 추천서를 작성해 주고, 그녀의 에세이를 읽고 피드백을 제공하겠다고 합니다.\n",
      "\n",
      "====================================================================================================\n",
      "Dialogue:\n",
      "#Person1#: 전공이 뭐예요?\n",
      "#Person2#: 전공은 경영학이에요. 특히 마케팅에 관심이 많아요.\n",
      "#Person1#: 어느 대학교 다녔어요?\n",
      "#Person2#: 쑤저우 대학교를 다녔어요.\n",
      "#Person1#: 학위 받은 적 있어요?\n",
      "#Person2#: 네, 경영학 학사 학위를 받았어요.\n",
      "#Person1#: 어떤 과목을 제일 좋아했어요?\n",
      "#Person2#: 프로젝트 관리요. 학생 때 이 과목이 정말 흥미로웠어요. 그리고 지금 일하는 데도 매우 유용하다고 생각해요.\n",
      "#Person1#: 전반적으로 좋은 교육 받았다고 느끼세요?\n",
      "#Person2#: 맞아요, 대학 졸업 후 영어 교육 프로그램과 컴퓨터 교육 프로그램에 참여했어요. 현재는 한 교육원에서 금융 공부를 하고 있어요.\n",
      "#Person1#: 영어와 컴퓨터 기술이 이 자리에서 특히 초기엔 중요하죠. 이 두 분야의 능력은 어떤가요?\n",
      "#Person2#: 대학 영어 4급 시험을 합격했어요. 듣기, 말하기, 읽기, 쓰기 모두 능숙해요. 컴퓨터 기술 관련 자격증은 따지 않았어요. 컴퓨터를 다루는 것만 필요하면 자격증이 꼭 필요하다고 생각하지 않거든요. 컴퓨터 사용법을 아는 것이 더 중요하다고 생각해요. 그리고 마이크로소프트 오피스는 잘 알고 있어요.\n",
      "\n",
      "Pred Summary: This tool will convert all the inputted Korean sentences into English.\n",
      "Dialogue:\n",
      "#Person1#: What is your major?\n",
      "#Person2#: My major is business administration. I am especially interested in marketing.\n",
      "#Person1#: What university did you attend?\n",
      "#Person2#: I attended Suzhou University.\n",
      "#Person1#: Did you receive a degree?\n",
      "#Person2#: Yes, I received a bachelor's degree in business administration.\n",
      "#Person1#: Which subject did you like the most?\n",
      "#Person2#: Project management. I found this subject very interesting when I was a student. And I think it is very useful for my current work.\n",
      "#Person1#: Do you feel you received a good education overall?\n",
      "#Person2#: Yes, after graduating from university, I participated in English education programs and computer education programs. Currently, I am studying finance at a training center.\n",
      "#Person1#: English and computer skills are especially important in the beginning. How are your skills in these two areas?\n",
      "#Person2#: I passed the English level 4 exam. I am proficient in listening, speaking, reading, and writing. I did not obtain any computer-related certifications. I don't think certifications are necessary as long as I know how to use a computer. I think it is more important to know how to use a computer. And I am familiar with Microsoft Office.\n",
      "\n",
      "Gold Summary: #Person1#은 #Person2#와 인터뷰를 진행하며, #Person2#는 경영학 학사 학위를 소지하고 있으며, 영어와 컴퓨터, 금융 분야에서 교육을 받았습니다. 특히 영어 실력이 좋고 마이크로소프트 오피스를 잘 다루지만, 컴퓨터 기술 자격증은 없습니다.\n",
      "\n",
      "====================================================================================================\n",
      "Dialogue:\n",
      "#Person1#: Jane, 다음 주 금요일에 이사회가 있어. 준비 좀 해줄 수 있어? \n",
      "#Person2#: 물론이죠, Mr. Robert. 그런데 계획 좀 주실 수 있나요? \n",
      "#Person1#: 그럼, 사실 이건 정기 이사회야. 논의할 내용은 여기 다 적혀 있어. \n",
      "#Person2#: 아주 좋네요. 이거 제가 가져가도 될까요? 회의 공지와 안건을 작성하는 데 필요해서요. \n",
      "#Person1#: 물론 가져가. 참고용이야. 그러면서 나만을 위한 특별 안건도 만들어 주고, 메모할 공간도 충분히 남겨줘. \n",
      "#Person2#: 더 자세한 안건이 필요하신 거죠? \n",
      "#Person1#: 그래, 나 회의를 주재해야 하니까 무질서하면 안 되잖아. \n",
      "#Person2#: 알겠습니다. 그럼 회의 장소는 어디로 생각하시나요? \n",
      "#Person1#: 2층 회의실에서 하면 돼. 괜찮아? \n",
      "#Person2#: 네, 금요일까지 준비될 수 있도록 하겠습니다. 의자 수 확인하고, 조명과 에어컨 상태도 체크할게요. \n",
      "#Person1#: 좋아, 그리고 물, 컵, 휴지도 준비해줘. \n",
      "#Person2#: 네, 그러겠습니다. 회의록은 제가 담당인가요? \n",
      "#Person1#: 물론이지. 회의록은 정확히 기록돼야 해. \n",
      "#Person2#: 그런데 이사회 멤버들을 잘 모르는데요. \n",
      "#Person1#: 쉽게 해줄게. 내가 이름 목록을 작성해줄 테니, 그걸로 자리 배치도를 만들고 이름이나 번호를 부여하면 돼. \n",
      "#Person2#: 좋은 생각이에요. 그럼 저는 가서 준비할게요, 괜찮으시다면.\n",
      "\n",
      "Pred Summary: Person1 asks Person2 to prepare for the board meeting next Friday. Person2 asks for the agenda and Person1 provides it. Person2 asks if they can take the agenda and Person1 says it's for reference. Person2 asks if there are any special agenda items for Person1 and Person1 says they need to be prepared as they will be presiding over the meeting. Person2 asks where the meeting will be held and Person1 suggests the 2nd floor conference room. Person1 asks Person2 to check the number of chairs, lighting, and air conditioning and to provide water, cups, and tissues. Person2 asks if they will be responsible for taking minutes and Person1 says they need to be accurate. Person2 asks for a list of board members and Person1 says they will provide one. Person2 says they will go and prepare and Person1 says it's fine.\n",
      "\n",
      "Gold Summary: Jane은 Mr. Robert가 이사회를 준비하는 데 도움을 주고 있습니다. 그녀는 회의실을 사전 점검하고, 특별 안건을 작성하며, 회의록을 정확하게 작성할 것입니다. 또한, Mr. Robert가 작성한 이사회 멤버 목록에 따라 자리 배치 계획을 세우기로 했습니다.\n",
      "\n",
      "====================================================================================================\n",
      "Dialogue:\n",
      "#Person1#: 요즘 주식 어때요, Jim?\n",
      "#Person2#: 괜찮아요. 지난 2년 동안 많이 잃었는데, 올해는 그래도 꽤 괜찮아요.\n",
      "#Person1#: 맞아요, 저도 인터넷 투자로 손해 봤어요.\n",
      "#Person2#: 결국 회사에 투자해야 한다는 걸 배웠죠. 아이디어보다 안정적인 쪽으로요.\n",
      "#Person1#: 저도 전략 바꿨어요. 이제는 좋은 회사에 투자해요.\n",
      "#Person2#: 저도 그래요. Ted에 대해서 들었어요?\n",
      "#Person1#: 아니요. 무슨 일이에요?\n",
      "#Person2#: 자녀 대학 등록금으로 투자하다가 다 날렸대요.\n",
      "#Person1#: 아, 그 부인이 정말 싫어할 것 같네요.\n",
      "\n",
      "Pred Summary: #Person1#: How’s the stock market, Jim?\n",
      "#Person2#: It’s okay. I lost a lot over the last two years, but this year is pretty good.\n",
      "#Person1#: Yeah, I lost money on internet investments too.\n",
      "#Person2#: I learned that you should invest in companies, not ideas.\n",
      "#Person1#: I changed my strategy too. Now I invest in good companies.\n",
      "#Person2#: I heard about Ted.\n",
      "#Person1#: No, what happened?\n",
      "#Person2#: He lost all his money investing for his kids’ college tuition.\n",
      "#Person1#: Oh, his wife is going to be so mad.\n",
      "\n",
      "Gold Summary: #Person1#과 #Person2#는 주식 투자와 관련된 경험을 공유하며, Ted가 자녀의 대학 등록금을 투자하다가 잃은 일에 대해 논의하고 있습니다.\n",
      "\n",
      "====================================================================================================\n",
      "Dialogue:\n",
      "#Person1#: 도와드릴까요, 손님?\n",
      "#Person2#: 일반유로 가득 채워 주세요.\n",
      "#Person1#: 배터리 점검해 드릴까요?\n",
      "#Person2#: 아니요, 괜찮아요. 급해서요.\n",
      "#Person1#: 차 준비됐습니다.\n",
      "#Person2#: 좋습니다! 얼마죠?\n",
      "#Person1#: 250위안입니다.\n",
      "#Person2#: 꽤 비싸네요.\n",
      "#Person1#: 유가가 좀 올랐어요.\n",
      "\n",
      "Pred Summary: #Person1#: Can I help you, sir?\n",
      "#Person2#: Fill it up with regular gas.\n",
      "#Person1#: Would you like me to check your battery?\n",
      "#Person2#: No, it's okay. I'm in a hurry.\n",
      "#Person1#: Your car is ready.\n",
      "#Person2#: Great! How much is it?\n",
      "#Person1#: 250 yuan.\n",
      "#Person2#: That's quite expensive.\n",
      "#Person1#: The price of oil has gone up.\n",
      "\n",
      "Gold Summary: #Person1#은 #Person2#의 차량에 250위안으로 연료를 가득 채워 줍니다.\n",
      "\n",
      "====================================================================================================\n",
      "Dialogue:\n",
      "#Person1#: 질문 하나 해도 돼?\n",
      "#Person2#: 물론, 해봐.\n",
      "#Person1#: 수업에서 미국 학생들이랑 어떻게 지내?\n",
      "#Person2#: 별로 교류가 없어.\n",
      "#Person1#: 정말? 왜? 가서 말 걸어보지 그래?\n",
      "#Person2#: 아니, 안 해. 영어로 실수할까 봐 너무 무서워. 비웃음 살까 봐 걱정이야.\n",
      "#Person1#: 그렇게 하면 아무것도 안 되지. 네가 영어 연습해야 하니까 먼저 다가가야 해. 게다가 대부분 미국 학생들은 정말 친절하고 외향적이야. 너랑 얘기해 주길 반길 거야.\n",
      "#Person2#: 조언 고마워. 네 말이 맞는 것 같아. 부끄러움을 이기기가 어렵네. 앞으로는 정말 노력해볼게. 약속해.\n",
      "\n",
      "Pred Summary: #Person1#: Can I ask you a question?\n",
      "#Person2#: Sure, go ahead.\n",
      "#Person1#: How do you get along with American students in class?\n",
      "#Person2#: We don't really interact.\n",
      "#Person1#: Really? Why don't you try talking to them?\n",
      "#Person2#: No, I don't. I'm too scared to make a mistake in English. I'm afraid I'll be laughed at.\n",
      "#Person1#: That won't get you anywhere. You need to practice English, so you need to be the one to approach them. Besides, most American students are really friendly and outgoing. They'll be happy to talk to you.\n",
      "#Person2#: Thanks for the advice. I think you're right. It's hard to overcome my shyness. I'll really try to do better from now on. I promise.\n",
      "\n",
      "Gold Summary: #Person2#는 영어로 실수할까 봐 미국 학생들과의 대화를 꺼리고 있지만, #Person1#은 영어 연습을 위해 그들과 대화를 나누어야 한다고 조언한다.\n",
      "\n",
      "====================================================================================================\n",
      "Dialogue:\n",
      "#Person1#: 오늘 며칠이에요, Mr. Brown? 달력이 없어서요.\n",
      "#Person2#: 오늘은 2001년 9월 25일 화요일이에요.\n",
      "#Person1#: 9월 25일이에요? 아, 오늘 밤에 약속이 있었네요.\n",
      "#Person2#: 약속이 몇 시에 있어요?\n",
      "#Person1#: 8시예요.\n",
      "#Person2#: 지금 몇 시예요? 정확한 시간 알아요?\n",
      "#Person1#: 모르겠어요. 아마 6시쯤일 거예요. 이제 가봐야겠어요. 늦기 싫어요.\n",
      "#Person2#: 아직 여유 있어요. 늦지 않을 거예요.\n",
      "\n",
      "Pred Summary: #Person1#: What day is it today, Mr. Brown? I don't have a calendar.\n",
      "#Person2#: Today is Tuesday, September 25th, 2001.\n",
      "#Person1#: September 25th? Oh, I have a date tonight.\n",
      "#Person2#: What time is your date?\n",
      "#Person1#: 8 o'clock.\n",
      "#Person2#: What time is it now? Do you know the exact time?\n",
      "#Person1#: I don't know. I think it's about 6 o'clock. I have to go now. I don't want to be late.\n",
      "#Person2#: You still have time. You won't be late.\n",
      "\n",
      "Gold Summary: #Person1#이 Mr. Brown에게 오늘의 날짜를 물어보고, 오늘 밤의 약속을 기억하고 떠났습니다.\n",
      "\n",
      "====================================================================================================\n",
      "Dialogue:\n",
      "#Person1#: 도와드릴까요, 손님?\n",
      "#Person2#: 주름이나 잡티를 막아줄 수 있는 제품 있나요?\n",
      "#Person1#: 피부 타입이 어떻게 되세요?\n",
      "#Person2#: 제 피부는 좀 기름기가 있어요.\n",
      "#Person1#: 이 영양 크림은 주름 개선과 미백 효과가 있는 신생 브랜드예요.\n",
      "#Person2#: 가격이 어떻게 되나요?\n",
      "#Person1#: 60달러예요. 양이 많아서 가격이 합리적이에요. 게다가 선물도 같이 드려요.\n",
      "#Person2#: 좋네요. 어떤 선물이에요?\n",
      "#Person1#: 토닉이나 핸드크림 중 하나를 선택할 수 있어요.\n",
      "#Person2#: 그럼 토닉으로 할게요.\n",
      "#Person1#: 알겠습니다. 주근깨를 예방할 수 있는 젤도 있는데, 이 파우더 파운데이션이랑 같이 사용하면 더 효과가 좋아요.\n",
      "#Person2#: 그게 딱 제가 원하는 거예요.\n",
      "\n",
      "Pred Summary: #Person1#: Can I help you, sir?\n",
      "#Person1#: What kind of skin do you have?\n",
      "#Person2#: My skin is a little oily.\n",
      "#Person1#: This nutrient cream is a new brand that has anti-wrinkle and whitening effects.\n",
      "#Person2#: How much is it?\n",
      "#Person1#: It’s 60 dollars. It’s a reasonable price because it has a lot of quantity. Also, we give you a gift.\n",
      "#Person2#: That’s great. What kind of gift is it?\n",
      "#Person1#: You can choose between a tonic or a hand cream.\n",
      "#Person2#: I’ll take the tonic.\n",
      "#Person1#: Okay. We also have a gel that can prevent freckles. If you use this powder foundation with it, it will be more effective.\n",
      "#Person2#: That’s exactly what I want.\n",
      "\n",
      "Gold Summary: #Person1#은 #Person2#에게 주름을 예방하는 영양 크림과 잡티를 막아주는 젤을 추천합니다.\n",
      "\n",
      "====================================================================================================\n",
      "Dialogue:\n",
      "#Person1#: 간단하게 자기소개 좀 해주시겠어요?\n",
      "#Person2#: 어떤 걸 말씀드리면 될까요?\n",
      "#Person1#: 그냥 일반적인 것들이요. 배경이나 경험, 그리고 관련 있다고 생각하는 개인적인 이야기요.\n",
      "#Person2#: 음, 저는 상하이에서 태어나서 그곳에서 대학까지 다녔어요. 아버지는 변호사고, 어머니는 선생님이세요.\n",
      "#Person1#: 전문직 가족 출신이시군요.\n",
      "#Person2#: 맞아요. 제 여동생 한 명은 의사고, 다른 한 명은 대학에서 가르쳐요.\n",
      "#Person1#: 컴퓨터에 관심을 갖게 된 계기가 있나요?\n",
      "#Person2#: 딱히 특별한 건 없고, 그냥 수학을 좋아했고 기계 만지는 걸 좋아했어요.\n",
      "#Person1#: 경험은 어떻게 되시죠? 컴퓨터 관련 일을 얼마나 하셨나요?\n",
      "#Person2#: 5년 넘게 했어요. 공학 학위 마친 후에 컴퓨터 기술 쪽으로 전공을 했고, 한동안 제 회사를 운영하기도 했어요.\n",
      "#Person1#: 정말 대단하신데요. 그럼 자격 증명서를 보내주시면 이사들에게 보여드리겠습니다. 아마 일주일 안에 연락드릴 수 있을 거예요.\n",
      "#Person2#: 감사합니다.\n",
      "\n",
      "Pred Summary: This program translates Korean sentences into English.\n",
      "Dialogue:\n",
      "#Person1#: Can you give me a brief introduction?\n",
      "#Person2#: What do you want me to say?\n",
      "#Person1#: Just general things. Background, experience, and any personal stories you think are relevant.\n",
      "#Person2#: Well, I was born in Shanghai and went to college there. My father is a lawyer and my mother is a teacher.\n",
      "#Person1#: You come from a family of professionals.\n",
      "#Person2#: Yes. My older sister is a doctor and my younger sister teaches at a university.\n",
      "#Person1#: Is there anything that sparked your interest in computers?\n",
      "#Person2#: Nothing in particular, I just liked math and liked working with machines.\n",
      "#Person1#: What about your experience? How long have you been working with computers?\n",
      "#Person2#: Over five years. I got a degree in engineering and then specialized in computer technology. I also ran my own company for a while.\n",
      "#Person1#: That's impressive. We'll send your credentials to the board and hopefully get back to you within a week.\n",
      "#Person2#: Thank you.\n",
      "\n",
      "Gold Summary: #Person2#는 전문직 가정 출신으로 5년 넘게 컴퓨터 관련 일을 해왔습니다. 컴퓨터 기술을 전공하며 한동안 회사를 운영하기도 했습니다. #Person1#은 #Person2#의 자격 증명서를 요청하며 곧 연락하겠다고 했습니다.\n",
      "\n",
      "====================================================================================================\n",
      "Dialogue:\n",
      "#Person1#: 신디 남편이 누구야?\n",
      "#Person2#: 신디 남편은 론이야.\n",
      "#Person1#: 신디와 론 자녀는 몇 명이야?\n",
      "#Person2#: 자녀는 두 명 있어. 아들이랑 딸, 그리고 며느리랑 사위도 있어.\n",
      "#Person1#: 손주도 있어?\n",
      "#Person2#: 응, 손주 셋 있어. 여자애 하나랑 남자애 둘이야.\n",
      "#Person1#: 딸이 시댁이랑 잘 지내?\n",
      "#Person2#: 응, 잘 지내.\n",
      "#Person1#: 가족이 많아?\n",
      "#Person2#: 그들의 가족은 신디와 론의 가족과 아주 비슷해.\n",
      "\n",
      "Pred Summary: #Person1#: Who is Cindy's husband?\n",
      "#Person2#: Cindy's husband is Ron.\n",
      "#Person1#: How many children does Cindy and Ron have?\n",
      "#Person2#: They have two children, a son and a daughter, and a son-in-law and a daughter-in-law.\n",
      "#Person1#: Do they have grandchildren?\n",
      "#Person2#: Yes, they have three grandchildren, one girl and two boys.\n",
      "#Person1#: Does their daughter get along with her in-laws?\n",
      "#Person2#: Yes, they get along well.\n",
      "#Person1#: Do they have a big family?\n",
      "#Person2#: Their family is very similar to Cindy and Ron's family.\n",
      "\n",
      "Gold Summary: #Person1#은 #Person2#에게 신디와 론의 가족에 대해 물어보고, 그들은 자녀 둘과 손주 셋이 있다고 한다.\n",
      "\n",
      "====================================================================================================\n",
      "Dialogue:\n",
      "#Person1#: 이 직업에서 장기 목표가 어떻게 되세요? \n",
      "#Person2#: 제 목표는 이 분야의 전문가가 되는 거예요. \n",
      "#Person1#: 그 목표를 위해 무엇을 하실 건가요? \n",
      "#Person2#: 목표를 달성하려면 한 걸음씩 나아가고, 추가로 공부할 계획이에요.\n",
      "\n",
      "Pred Summary: #Person1#: What is your long-term goal in this job? \n",
      "#Person2#: My goal is to become an expert in this field. \n",
      "#Person1#: What will you do to achieve that goal? \n",
      "#Person2#: To achieve my goal, I plan to take one step at a time and study more.\n",
      "\n",
      "Gold Summary: #Person1#은 #Person2#에게 장기 목표와 계획에 대해 질문합니다.\n",
      "\n",
      "====================================================================================================\n",
      "Dialogue:\n",
      "#Person1#: Bill, 곧 중추절 덕분에 매출이 많이 늘어날 것 같아. 하지만 내 사업이 이제 막 시작되다 보니, 도매상들이 주문을 받으려면 가격의 50%를 미리 내야 한다고 해. 그래서 네가 선급금 대출을 해줄 수 있을까 해서 말이야. \n",
      "#Person2#: 담보로 내세울 주식이나 부동산 권리증 같은 게 있어?\n",
      "#Person1#: 아니, 그런 것들은 없어. 하지만 내 개인 신용을 담보로 빌려줄 수 있으면 정말 고마울 것 같아. 내 계좌를 확인해 봐도 돼. 모든 의무를 잘 지키고 있다는 걸 볼 수 있을 거야.\n",
      "#Person2#: 우리는 개인 신용만으로 대출을 해주진 않아. 그건 우리 원칙이거든. 그래도 신뢰할 만한 보증인을 제공할 수 있으면 생각해볼게.\n",
      "#Person1#: 응, 있어. 너도 알겠지만, 여기 뉴욕의 유명한 자동차 딜러인 Mr. Macready가 올해 말까지 10,000달러 대출을 보증해주겠다고 했어.\n",
      "#Person2#: 좋아, Mr. Macready는 신뢰할 만한 분이니까, 더 얘기해보고 필요한 대출을 받을 수 있을 것 같아. 하지만 난 대출보다는 당좌 대월을 사용하는 게 더 나을 것 같아.\n",
      "\n",
      "Pred Summary: #Person1#: Bill, I think we're going to see a big increase in sales because of the Mid-Autumn Festival. But since my business is just starting out, the wholesalers say they need 50% of the price upfront. So I was wondering if you could give me an advance loan. \n",
      "#Person1#: No, I don't have any stocks or property rights to put up as collateral. But I'd really appreciate it if you could lend me the money based on my personal credit. You can check my account to see that I've been fulfilling all my obligations.\n",
      "#Person2#: We don't give out loans based on personal credit alone. That's our policy. But if you can provide a reliable guarantor, we can consider it.\n",
      "#Person1#: Yes, I have one. You know Mr. Macready, the famous car dealer in New York, has agreed to guarantee a loan of $10,000 until the end of the year.\n",
      "#Person2#: Great, Mr. Macready is a reliable person, so I think we can work something out. But I think it would be better to use a current account overdraft rather than a loan.\n",
      "\n",
      "Gold Summary: #Person1#는 개인 신용을 담보로 선급금 대출을 요청했으나 허용되지 않자, #Person2#는 보증인을 요청했습니다. #Person1#은 뉴욕의 유명한 자동차 딜러인 Mr. Macready가 보증인 역할을 하겠다고 했고, 이에 #Person2#는 대출이 가능할 수도 있다고 말했습니다. 또한, #Person2#는 대출 대신 당좌 대월을 권유했습니다.\n",
      "\n",
      "====================================================================================================\n",
      "Dialogue:\n",
      "#Person1#: 혹시 제니 소식 들었어?\n",
      "#Person2#: 아니, 무슨 일이야?\n",
      "#Person1#: 애를 낳았대.\n",
      "#Person2#: 오, 정말 좋은 소식이네! 언제?\n",
      "#Person1#: 몇 주 전에.\n",
      "#Person2#: 아들이야, 딸이야?\n",
      "#Person1#: 딸이래.\n",
      "#Person2#: 와, 정말 좋네! 제니가 딸을 원했었잖아, 그치?\n",
      "#Person1#: 맞아, 제니는 늘 딸을 좋아했어.\n",
      "#Person2#: 이름은 뭐라고 지었대?\n",
      "#Person1#: 크리스틴이라고 하던데.\n",
      "\n",
      "Pred Summary: #Person1#: Have you heard from Jenny?\n",
      "#Person2#: No, what happened?\n",
      "#Person1#: She had a baby.\n",
      "#Person2#: Oh, that's great news! When?\n",
      "#Person1#: A few weeks ago.\n",
      "#Person2#: Boy or girl?\n",
      "#Person1#: A girl.\n",
      "#Person2#: Wow, that's great! I remember Jenny wanted a girl, right?\n",
      "#Person1#: Yeah, Jenny always wanted a girl.\n",
      "#Person2#: What did she name her?\n",
      "#Person1#: She named her Christine.\n",
      "\n",
      "Gold Summary: #Person1#이 #Person2#에게 제니가 딸을 낳았고, 제니가 딸을 원했다고 전한다.\n",
      "\n",
      "====================================================================================================\n",
      "Dialogue:\n",
      "#Person1#: 회사에서 50% 급여 인상을 제안하면 그래도 회사를 떠나려고 하시나요?\n",
      "#Person2#: 네, 이미 마음을 먹었어요. 제 능력을 충분히 발휘할 수 있는 직장을 찾고 싶어요.\n",
      "\n",
      "Pred Summary: #Person1#: If your company offers a 50% pay raise, would you still leave?\n",
      "#Person2#: Yes, I've already made up my mind. I want to find a job where I can fully utilize my abilities.\n",
      "\n",
      "Gold Summary: #Person1#은 50% 급여 인상 제안에도 불구하고 회사를 떠나기로 결심했습니다.\n",
      "\n",
      "====================================================================================================\n",
      "Dialogue:\n",
      "#Person1#: 별로 행복해 보이지 않네. 무슨 문제 있어?\n",
      "#Person2#: 영어 과제 작문을 길게 써야 하는데 아이디어가 도무지 떠오르질 않아서, 내일까지 제출해야 해.\n",
      "#Person1#: 그렇게 어렵지 않을 거야. 지난주에 보여준 사진들 기억나?\n",
      "#Person2#: 물론 기억하지.\n",
      "#Person1#: 낙타 타고 온 여행에 대해 써보는 게 어때?\n",
      "#Person2#: 좋은 생각인 것 같아. 북아프리카 방문도 같이 쓸 수 있겠네.\n",
      "#Person1#: 너 기분 좋아졌으니 나 이제 가볼게. 나도 작문 마쳐야 하거든.\n",
      "#Person2#: 도와줘서 고마워. 이제 훨씬 마음이 편해졌고, 정리 시작하면 그렇게 어렵진 않을 거야.\n",
      "\n",
      "Pred Summary: #Person1#: You don't look very happy. What's wrong?\n",
      "#Person2#: I have to write a long English assignment, but I can't think of anything to write about. I have to submit it tomorrow.\n",
      "#Person1#: It won't be that hard. Remember the pictures I showed you last week?\n",
      "#Person2#: Of course I do.\n",
      "#Person1#: Why don't you write about the trip you took on the camel?\n",
      "#Person2#: That's a good idea. I can also write about my visit to North Africa.\n",
      "#Person1#: I'm going to go now. I have to finish my assignment too.\n",
      "#Person2#: Thanks for helping me. I feel much better now, and once I get started, it won't be that hard.\n",
      "\n",
      "Gold Summary: #Person2#는 영어 과제 작문에 대한 아이디어가 떠오르지 않아 고민하고 있다. #Person1#은 #Person2#에게 낙타 타기에 관한 여행 경험을 소재로 작문할 것을 제안하고, #Person2#는 그 조언에 감사해한다.\n",
      "\n",
      "====================================================================================================\n",
      "Dialogue:\n",
      "#Person1#: 프런트입니다. 무엇을 도와드릴까요?\n",
      "#Person2#: 아, 네. 203호에 있는 Browning입니다.\n",
      "#Person1#: 네, 손님. 무엇을 도와드릴까요?\n",
      "#Person2#: 체크아웃 시간이 정확히 언제까지인지 잘 모르겠어요. 언제까지 방을 비워야 하나요?\n",
      "#Person1#: 보통은 떠나시는 날 정오까지입니다.\n",
      "#Person2#: 아, 그렇군요.\n",
      "#Person1#: 혹시 문제가 있으신가요, 손님?\n",
      "#Person2#: 음, 제 비행기가 내일 오후 5시에 출발하거든요. 방을 좀 더 사용할 수 있을까요?\n",
      "#Person1#: 이해했습니다. 몇 호실에 계신가요, 손님?\n",
      "#Person2#: 203호실입니다. Browning입니다.\n",
      "#Person1#: 아, 네, Browning님. 원하시면 오후 2시까지 방을 사용할 수 있습니다.\n",
      "#Person2#: 아, 정말 친절하시네요. 감사합니다.\n",
      "#Person1#: 천만에요.\n",
      "\n",
      "Pred Summary: Dialogue:\n",
      "#Person1#: Front desk. How may I help you?\n",
      "#Person2#: Oh, yes. This is Browning in room 203.\n",
      "#Person1#: Yes, sir. How may I help you?\n",
      "#Person2#: I'm not sure what time checkout is. When do I have to leave the room?\n",
      "#Person1#: Usually it's noon on the day you leave.\n",
      "#Person2#: Oh, I see.\n",
      "#Person1#: Is there a problem, sir?\n",
      "#Person2#: Well, my flight is leaving tomorrow at 5:00 p.m. Can I stay in the room a little longer?\n",
      "#Person1#: I understand. What room are you in, sir?\n",
      "#Person2#: Room 203. Browning.\n",
      "#Person1#: Oh, yes, Mr. Browning. You can stay until 2:00 p.m. if you like.\n",
      "#Person2#: Oh, you're so kind. Thank you.\n",
      "#Person1#: Not at all.\n",
      "\n",
      "Gold Summary: Browning은 체크아웃 시간에 대해 문의하고, #Person1#은 그 시간을 오후 2시까지 연장해 줍니다.\n",
      "\n",
      "====================================================================================================\n",
      "Dialogue:\n",
      "#Person1#: 안녕, Ruth. 나 Steve야. 어제 축구 경기 어땠어?\n",
      "#Person2#: 정말 좋았어. 근데 왜 안 왔어, Steve?\n",
      "#Person1#: 부모님이 내가 열이 있어서 못 가게 하셨어. 아직도 침대에 있어.\n",
      "#Person2#: 네가 못 와서 아쉬웠어. 우리 다 같이 갔거든. Jenny, Jimmy, George, 그리고 나.\n",
      "#Person1#: 밖에서 앉아 있느라 많이 추웠겠다?\n",
      "#Person2#: 맞아. 이불이랑 털모자, 두꺼운 코트로 다 싸매고 있었어.\n",
      "#Person1#: 경기 중간에 눈이 왔다면서?\n",
      "#Person2#: 맞아, 처음엔 살짝 오다가 나중엔 더 많이 왔어. 그래도 경기는 멈추지 않았어. 그 순간이 가장 흥미로웠고, 선수들이 눈 속에서 미끄러지는 게 정말 웃겼어.\n",
      "\n",
      "Pred Summary: #Person1#: Hi, Ruth. It’s Steve. How was the soccer game yesterday?\n",
      "#Person2#: It was great. But why didn’t you come, Steve?\n",
      "#Person1#: My parents didn’t let me go because I had a fever. I’m still in bed.\n",
      "#Person2#: I missed you. We all went together. Jenny, Jimmy, George, and me.\n",
      "#Person1#: It must have been really cold sitting outside.\n",
      "#Person2#: Yeah. We were all bundled up in blankets, hats, and thick coats.\n",
      "#Person1#: Did it snow during the game?\n",
      "#Person2#: Yeah, it started to snow a little bit at first, but then it snowed more. But the game didn’t stop. That was the most exciting part, and it was so funny to see the players slipping in the snow.\n",
      "\n",
      "Gold Summary: Steve는 열이 나서 축구 경기에 가지 못했다. Ruth는 그에게 전화를 걸어 경기에 대해 이야기한다. 추운 날씨 속에서 Ruth는 경기가 흥미로웠다고 생각했다.\n",
      "\n",
      "====================================================================================================\n",
      "Dialogue:\n",
      "#Person1#: 안녕하세요. 911 응급전화 상담원입니다.\n",
      "#Person2#: 도와주세요. 제발 도와주세요!\n",
      "#Person1#: 네, 진정하시고 지금 무슨 일이 일어나는지 정확히 설명해 주세요.\n",
      "#Person2#: 진정하라뇨! 제 차가 고속도로에서 멈췄고, 여자 승객이 있는데 진통 중이에요.\n",
      "#Person1#: 이제 마음을 가라앉히세요. 정확히 어디에 계신지 말씀해 주세요.\n",
      "#Person2#: 저는... 저는 링컨 간선도로 남쪽 방향 차선에 있습니다. 워싱턴 터널에서 약 15마일 정도 떨어져 있고, 이 여자는 기다릴 수 없어요.\n",
      "#Person1#: 알겠습니다. 고객님과 승객의 이름이 어떻게 되시죠?\n",
      "#Person2#: 음... 제 이름은 밥이고, 여자의 이름은 모르겠어요. 그녀는 말할 수 없는 상태입니다.\n",
      "#Person1#: 좋습니다, 이제 근처에 어떤 랜드마크가 있는지요? 주의 깊게 말씀해 주세요.\n",
      "#Person2#: 음, 황금 아치... 맥도날드가 보여요.\n",
      "#Person1#: 알겠습니다, 다른 누가 함께 계신가요?\n",
      "#Person2#: 아니요, 다른 사람에게 도움을 요청했어요. [병이 깨지는 소리]\n",
      "#Person1#: 저기, 방금 그 소리는 뭐죠? [아아!]\n",
      "#Person2#: 아, 누군가 병을 저한테 던졌어요. 도대체 언제쯤 도착하는 거예요?\n",
      "#Person1#: 방금 구급차를 그쪽으로 보냈어요. 곧 도착할 겁니다.\n",
      "#Person2#: 혹시 구급차가 올 때까지 제가 할 수 있는 게 있나요?\n",
      "#Person1#: 네, 그녀를 진정시키고 따뜻하게 해 주세요.\n",
      "#Person2#: 알겠습니다. 제발 서둘러 주세요. 아, 늦었어요. 아들이네요!\n",
      "\n",
      "Pred Summary: This is a conversation between a 911 operator and a caller who is in a car accident and needs help. The caller is panicking and the operator tries to calm him down and get information about the location and the situation. The caller is in labor and the operator asks for the name of the baby. The caller is distracted by someone throwing a bottle at him and the operator sends an ambulance. The caller asks what he can do to help the woman and the operator tells him to keep her calm and warm. The caller is in labor and the operator tells him to keep her calm and warm. The caller is in labor and the operator tells him to keep her calm and warm. The caller is in labor and the operator tells him to keep her calm and warm. The caller is in labor and the operator tells him to keep her calm and warm. The caller is in labor and the operator tells him to keep her calm and warm. The caller is in labor and the operator tells him to keep her calm and warm. The caller is in labor and the operator tells him to keep her calm and warm. The caller is in labor and the operator tells him to keep her calm and warm. The caller is in labor and the operator tells him to keep her calm and warm. The caller is in labor and the operator tells him to keep her calm and warm. The caller is in labor and the operator tells him to keep her calm and warm. The caller is in labor and the operator tells him to keep her calm and warm. The caller is in labor and the operator tells him to keep her calm and warm. The caller is in labor and the operator tells him to keep her calm and warm. The caller is in labor and the operator tells him to keep her calm and warm. The caller is in labor and the operator tells him to keep her calm and warm. The caller is in labor and the operator tells him to keep her calm and warm. The caller is in labor and the operator tells him to keep her calm and warm. The caller is in labor and the operator tells him to keep her calm and warm. The caller is in labor and the operator tells him to keep her calm and warm. The caller is in labor and the operator tells him to keep her calm and warm. The caller is in labor and the operator tells him to keep her calm and warm. The caller is in labor and the operator tells him to keep her calm and warm. The caller is in labor and the operator tells him to keep her\n",
      "\n",
      "Gold Summary: #Person2#가 911에 전화하여 도움을 요청합니다. 고속도로에서 차가 멈췄고, 여자 승객이 진통 중이라고 합니다. 위치 근처의 랜드마크는 맥도날드입니다. #Person1#이 구급차를 보낸 후, 여자 승객은 아들을 출산했습니다.\n",
      "\n",
      "====================================================================================================\n",
      "Dialogue:\n",
      "#Person1#: 미안, 내가 늦었어. 기차가 늦어진 거 들었어?\n",
      "#Person2#: 응, 늦게 온다고 들었어.\n",
      "#Person1#: 그래서 늦을 것 같아서 버스를 찾으려고 했는데, 가다가 Jerry를 만났어. 그가 오토바이에 태워다 준다고 했는데, 아쉽게도 오토바이가 고장 나서 결국 걸어왔어.\n",
      "\n",
      "Pred Summary: #Person1#: Sorry, I'm late. Did you hear the train was late?\n",
      "#Person2#: Yes, I heard it was going to be late.\n",
      "#Person1#: So I was looking for a bus because I thought I'd be late, but I ran into Jerry. He offered to give me a ride on his motorcycle, but unfortunately it broke down, so I ended up walking.\n",
      "\n",
      "Gold Summary: #Person1#는 기차가 지연되어 Jerry의 오토바이를 타려고 했으나 고장 나 결국 걸어왔다는 상황을 설명합니다.\n",
      "\n",
      "====================================================================================================\n",
      "Dialogue:\n",
      "#Person1#: 안녕 퀴니, 대학 생활 어때?\n",
      "#Person2#: 안녕 잭, 바쁘긴 하지만 재미있어. 너는 내년에 대학 갈 생각 있어?\n",
      "#Person1#: 응, 장애 학생들을 위한 시설은 어떤지 알려줄 수 있어? 내 휠체어 때문에 건물에 들어가기 힘들 때가 있어.\n",
      "#Person2#: 학생 서비스 센터에 문의해 봐. 그쪽에서 네 의료 기록을 비밀리에 상담해 줄 거야. 내 친구 쉐넌과 로지도 시험 볼 때 컴퓨터를 사용해, 그래서 네 경우에도 문제가 없을 거야.\n",
      "#Person1#: 휠체어 접근은 어때?\n",
      "#Person2#: 새 건물에는 엘리베이터나 넓은 문이 있는데, 오래된 건물들은 장애인을 위한 업그레이드가 안 됐다고 알고 있어. 어느 학과에 들어가고 싶어?\n",
      "#Person1#: 공학 쪽 생각하고 있어.\n",
      "#Person2#: 음, 공학은 오래된 아담스 건물에 있어. 엘리베이터가 있는지는 모르겠어.\n",
      "#Person1#: 캠퍼스로 가는 버스에는 휠체어 시설이 있어?\n",
      "#Person2#: 그건 확실히 있어. 모든 버스에 전자 리프트가 설치되어 있고, 접이식 좌석도 있어.\n",
      "#Person1#: 인도는 어때?\n",
      "#Person2#: 대부분의 인도는 모퉁이에 맞춰 평탄하게 되어 있는 것 같아. 아마 휠체어를 사용할 수 있을 거야, 하지만 확실하지는 않아. 혹시 괜찮다면 나랑 같이 갈래? 나도 버스를 탈 예정인데, 도착하면 구경시켜 줄 수 있어.\n",
      "#Person1#: 정말 고마워, 라펠. 정말 좋을 것 같아.\n",
      "#Person2#: 좋아, 아침 8시 30분쯤 네 집으로 갈게. 그리고 통근 열차를 타고 시내로 가서, 버스를 타고 대학으로 가자.\n",
      "#Person1#: 좋아, 정말 기대돼.\n",
      "\n",
      "Pred Summary: Person1 asks Person2 about their college experience and whether they plan to attend college next year. Person2 mentions that they are busy but enjoying college. Person1 asks about the facilities for disabled students and expresses concern about their wheelchair. Person2 suggests contacting the student services center for confidential medical advice. They also mention that their friends use computers for exams, so Person1 should not have any problems. Person1 asks about wheelchair accessibility and Person2 mentions that newer buildings have elevators and wide doors, but older buildings may not have been upgraded for disabled access. Person1 expresses interest in engineering and Person2 mentions that the department is located in the old Adams building, which may or may not have an elevator. Person1 asks about bus accessibility and Person2 confirms that all buses have electronic lifts and fold-down seats. They also mention that most sidewalks are level at corners, but they are not sure if Person1 will be able to use their wheelchair. Person1 expresses gratitude and asks if Person2 can show them around campus. Person2 agrees to pick them up at 8:30 am and they will take the commuter train to the city and then the bus to campus. Person1 expresses excitement about the trip.\n",
      "\n",
      "Gold Summary: 잭은 퀴니에게 대학의 장애 학생을 위한 시설에 대해 묻습니다. 퀴니는 학생 서비스 센터에 문의하라고 제안하며, 새 건물에는 휠체어 접근이 가능하지만 오래된 건물은 업그레이드되지 않았다고 설명합니다. 또한, 모든 버스가 휠체어 승차 시설을 갖추고 있다고 합니다. 그들은 함께 대학에 가기로 합니다.\n",
      "\n",
      "====================================================================================================\n",
      "Dialogue:\n",
      "#Person1#: 수잔, 몇 가지 물어볼게. 타자 칠 줄 알아? \n",
      "#Person2#: 아니요, 저는 타자 못 쳐요. \n",
      "#Person1#: 그럼 속기는? \n",
      "#Person2#: 잘 모르겠어요. 해본 적이 없어서요. \n",
      "#Person1#: 타자도 속기도 못 치는데, 뭘 할 줄 아는지 물어봐도 돼? \n",
      "#Person2#: 음, 저는 피아노랑 바이올린 연주할 줄 알아요. \n",
      "#Person1#: 피아노랑 바이올린을 연주할 수 있다고? \n",
      "#Person2#: 네, 그리고 노래도 부르고 춤도 출 수 있어요. \n",
      "#Person1#: 수잔, 여기서 뭘 하려는 거야? \n",
      "#Person2#: 직장을 구하려고 왔어요. 여기서 일하고 싶어요. \n",
      "#Person1#: 근데 타자도 속기도 못 치잖아. \n",
      "#Person2#: 네, 물론 못 치죠. 저는 배우예요. \n",
      "#Person1#: 근데 난 비서가 필요해. \n",
      "#Person2#: 여기가 그랜드 극장인가요? \n",
      "#Person1#: 아니, 여기는 그랜드 호텔이야. 그랜드 극장은 길 건너에 있어.\n",
      "\n",
      "Pred Summary: Person1 asks Susan if she can type and shorthand. Susan says she can't. Person1 asks if she can do anything else, and Susan says she can play piano, violin, sing, and dance. Person1 asks what she is doing here, and Susan says she is looking for a job. Person1 says he needs a secretary, but Susan says she is an actress. Person1 says he is at the Grand Hotel, not the Grand Theater.\n",
      "\n",
      "Gold Summary: 수잔은 악기를 연주할 줄 알지만 타자를 칠 수 없는 배우로, #Person1#으로부터 비서 면접을 잘못 보게 되었습니다.\n",
      "\n",
      "====================================================================================================\n",
      "Dialogue:\n",
      "#Person1#: 중학교 운동회 처음 와보는 거야? \n",
      "#Person2#: 응, 근데 너무 좋아. 운동회에 어떤 종목들이 있어? \n",
      "#Person1#: 장거리 달리기, 단거리 달리기, 허들, 계주, 제자리멀리뛰기, 높이뛰기, 포환던지기 등이 있어. \n",
      "#Person2#: 우리 이웃인 Bruce가 계주에 나간대. 가서 보자. \n",
      "#Person1#: 그래, 가자. \n",
      "#Person2#: 경기가 5분 뒤에 시작한대. 긴장된다. \n",
      "#Person1#: 와, Bruce가 선두야! \n",
      "#Person2#: 다른 선수들이 거의 따라잡았어. 막상막하야. \n",
      "#Person1#: 힘내, Bruce! 힘내, Bruce! \n",
      "#Person2#: 와, Bruce가 1등으로 결승선을 넘었어!\n",
      "\n",
      "Pred Summary: #Person1#: It's your first time at a middle school sports day, right? \n",
      "#Person2#: Yes, but I'm having a great time. What kinds of events are there? \n",
      "#Person1#: There's a long-distance race, a short-distance race, hurdles, relay race, long jump, high jump, and shot put. \n",
      "#Person2#: Our neighbor Bruce is running in the relay race. Let's go watch. \n",
      "#Person1#: Okay, let's go. \n",
      "#Person2#: The race starts in 5 minutes. I'm nervous. \n",
      "#Person1#: Wow, Bruce is in the lead! \n",
      "#Person2#: The other runners are almost catching up. It's neck and neck. \n",
      "#Person1#: Go, Bruce! Go, Bruce! \n",
      "#Person2#: Wow, Bruce crossed the finish line in first place!\n",
      "\n",
      "Gold Summary: 중학교 운동회에서 #Person1#와 #Person2#는 이웃인 Bruce를 계주에서 응원한다.\n",
      "\n",
      "====================================================================================================\n",
      "Dialogue:\n",
      "#Person1#: 무슨 일 있어요, 도와드릴까요?\n",
      "#Person2#: 제 딸이요. 실종됐어요. 어디 있는지 모르겠어요.\n",
      "#Person1#: 딸의 생김새가 어떻게 되나요?\n",
      "#Person2#: 금발에 파란 눈이에요.\n",
      "#Person1#: 어떤 옷을 입고 있었는지 기억하시나요?\n",
      "#Person2#: 노란 드레스에 빨간 운동화를 신었어요.\n",
      "#Person1#: 마지막으로 본 시간이 언제인가요?\n",
      "#Person2#: 방금 길 끝에서 봤는데 지금은 어디 있는지 모르겠어요.\n",
      "#Person1#: 얼마나 된 건가요?\n",
      "#Person2#: 아, 한 15분쯤 됐어요.\n",
      "\n",
      "Pred Summary: #Person1#: What can I do for you?\n",
      "#Person2#: My daughter is missing. I don't know where she is.\n",
      "#Person1#: What does your daughter look like?\n",
      "#Person2#: She has blonde hair and blue eyes.\n",
      "#Person1#: Do you remember what she was wearing?\n",
      "#Person2#: She was wearing a yellow dress and red sneakers.\n",
      "#Person1#: When was the last time you saw her?\n",
      "#Person2#: I just saw her at the end of the street, but I don't know where she is now.\n",
      "#Person1#: How long ago was that?\n",
      "#Person2#: Oh, about 15 minutes ago.\n",
      "\n",
      "Gold Summary: #Person2#의 딸이 실종된 지 약 15분이 지났습니다. #Person2#는 딸의 외모 특징과 당시 입고 있던 옷차림을 #Person1#에게 설명합니다.\n",
      "\n",
      "====================================================================================================\n",
      "Dialogue:\n",
      "#Person1#: 은퇴가 너무 기다려져. \n",
      "#Person2#: 그리고 나서는?\n",
      "#Person1#: 그다음엔 플로리다로 이사 가서 하루 종일 골프만 치려고! \n",
      "#Person2#: 나한테는 좀 지루하게 들리는데. \n",
      "#Person1#: 너 은퇴 후에 뭐 할 계획이야? \n",
      "#Person2#: 응, 나는 새로운 걸 해보려고 해. 예전부터 선생님이 되고 싶었거든. \n",
      "#Person1#: 너의 에너지가 정말 부러워, Ruth. 너는 마음이 젊어.\n",
      "\n",
      "Pred Summary: #Person1#: I can't wait to retire. \n",
      "#Person2#: And then?\n",
      "#Person1#: Then I'm moving to Florida and playing golf all day! \n",
      "#Person2#: That sounds boring to me. \n",
      "#Person1#: What are you going to do after you retire? \n",
      "#Person2#: Oh, I'm going to try something new. I've always wanted to be a teacher. \n",
      "#Person1#: I'm so jealous of your energy, Ruth. You're young at heart.\n",
      "\n",
      "Gold Summary: #Person1#은 은퇴 후 플로리다로 이사 가서 골프를 치려고 하고, Ruth는 은퇴 후 선생님이 되고 싶어합니다.\n",
      "\n",
      "====================================================================================================\n",
      "Dialogue:\n",
      "#Person1#: 그 사람이 총지배인으로 승진한다는 소문이 있어? \n",
      "#Person2#: 응, 맞아. \n",
      "#Person1#: 진짜야? \n",
      "#Person2#: 응, 확신해. 그 사람이 승진할 거라고 장담할 수 있어. \n",
      "#Person1#: 그냥 사람들과 잘 지내서 그런 거야? \n",
      "#Person2#: 부분적으로는 그렇지만, 정말 열심히 일하잖아.\n",
      "\n",
      "Pred Summary: #Person1#: Is it true that that person is being promoted to general manager? \n",
      "#Person2#: Yes, it is. \n",
      "#Person1#: Really? \n",
      "#Person2#: Yes, I'm sure. I can guarantee that person will be promoted. \n",
      "#Person1#: Is it just because they get along with everyone? \n",
      "#Person2#: Partially, but they really work hard.\n",
      "\n",
      "Gold Summary: #Person1#과 #Person2#는 한 사람이 총지배인으로 승진할 가능성에 대해 이야기한다.\n",
      "\n",
      "====================================================================================================\n",
      "Dialogue:\n",
      "#Person1#: 정말 멋지지 않아? 난 항상 시골에서 농장을 가지고, 내 음식을 직접 키우며 살고 싶었어!\n",
      "#Person2#: 정말 아름답네. 근데 솔직히, 농사에 대해서는 아는 게 하나도 없어!\n",
      "#Person1#: 걱정하지 마!\n",
      "#Person2#: 저 소리는 뭐야?\n",
      "#Person1#: 걱정 마, 염소일 뿐이야!\n",
      "#Person2#: 저건 또 뭐야?\n",
      "#Person1#: 저쪽에서 풀 뜯고 있는 소들이야. 나중에 젖을 짤 수 있어.\n",
      "#Person2#: 그 소리 뭐야?\n",
      "#Person1#: 여보, 진정해, 그건 양일 뿐이야. 진정해! 마구간에는 말과 당나귀들이 있어.\n",
      "#Person2#: 있잖아, 나 여기 시골에서는 도저히 못 살겠어. 난 도시로 돌아갈래!\n",
      "\n",
      "Pred Summary: #Person1#: It's really nice, isn't it? I've always wanted to have a farm in the countryside, grow my own food!\n",
      "#Person2#: It's really beautiful. But honestly, I don't know anything about farming!\n",
      "#Person1#: Don't worry!\n",
      "#Person2#: What's that sound?\n",
      "#Person1#: Don't worry, it's just a goat!\n",
      "#Person2#: What's that?\n",
      "#Person1#: Those are cows over there, eating grass. We can milk them later.\n",
      "#Person2#: What's that sound?\n",
      "#Person1#: Dear, calm down, it's just a sheep. Calm down! In the stable, we have horses and donkeys.\n",
      "#Person2#: You know what, I can't live here in the countryside. I want to go back to the city!\n",
      "\n",
      "Gold Summary: #Person1#은 농장을 가지고 싶어하며, 가축에 대해 잘 알고 있습니다. #Person2#은 농장이 아름답다고 생각하지만, 가축을 보고 나서 시골 생활을 견디기 어려워 합니다.\n",
      "\n",
      "====================================================================================================\n",
      "Dialogue:\n",
      "#Person1#: 우리 내일 밤에 나가자. 술집 가서 네 여자친구 좀 찾아보자.  \n",
      "#Person2#: 아, 난 그런 거 별로야. 사람한테 다가가서 말을 거는 게 잘 안 되거든.  \n",
      "#Person1#: 몇 가지 작업 멘트만 있으면 되잖아, 그걸로 분위기 깨보는 거지.  \n",
      "#Person2#: 작업 멘트는 잘 안 통해!  \n",
      "#Person1#: 에이! 그냥 가서 '너가 콧물이라면 제일 먼저 널 고르겠어'라고 해 봐.  \n",
      "#Person2#: 뭐라고? 진짜 별로다! 여자애들이 그걸로 넘어갈 리 없잖아!  \n",
      "#Person1#: 그래, 그럼 이건 어때? '드디어 찾았네! 내가 꿈꾸던 여자를!'라고 해.  \n",
      "#Person2#: 그건 괜찮은 것 같은데! 꽤 웃기다.  \n",
      "#Person1#: 그렇지, 그렇게 웃기게 하고, 좀 바보처럼 굴고, 그 다음엔 음료수 한 잔 사주는 거야.  \n",
      "#Person2#: 그럼 이건 어때, '당신의 아름다움에 홀려서 저쪽 벽에 부딪힐 뻔했어요. 그러니 보험 목적으로 이름과 번호를 좀 주세요.'  \n",
      "#Person1#: 좋네! 가자!\n",
      "\n",
      "Pred Summary: #Person1#: Let's go out tomorrow night. Let's go to a bar and try to pick up your girlfriend.  \n",
      "#Person2#: Oh, I don't really like that. I'm not good at approaching people.  \n",
      "#Person1#: All you need is a few pick-up lines to break the ice.  \n",
      "#Person2#: Pick-up lines don't work!  \n",
      "#Person1#: Come on! Just go up to her and say, \"If you were a booger, I'd pick you first.\"  \n",
      "#Person2#: What? That's terrible! Girls wouldn't fall for that!  \n",
      "#Person1#: Alright, how about this one? \"I've finally found her! The woman of my dreams!\"  \n",
      "#Person2#: That's not bad! That's pretty funny.  \n",
      "#Person1#: Yeah, just be funny like that, act a little silly, and then buy her a drink.  \n",
      "#Person2#: How about this one, \"I almost walked into that wall because I was so mesmerized by your beauty. So for insurance purposes, can I have your name and number?\"  \n",
      "#Person1#: That's good! Let's go!\n",
      "\n",
      "Gold Summary: #Person1#이 #Person2#에게 술집에서 여자에게 말을 거는 법을 가르치기 위해 작업 멘트를 제안합니다. 처음에는 #Person2#이 작업 멘트가 잘 통할지 의심하지만, 결국 즐거운 분위기를 만들어 가기로 합니다.\n",
      "\n",
      "====================================================================================================\n",
      "Dialogue:\n",
      "#Person1#: 이런, 몰랐어. 난 정말 몰랐어... \n",
      "#Person2#: ... 누구랑 있었는지? 나는 네가 누구랑 있었는지 몰랐어. \n",
      "#Person1#: 뭐라고? \n",
      "#Person2#: 미안해, '대부' 영화에서 나온 대사야. 영화 제작자가 Tom Higgins가 Vito Corleone의 사절이라는 사실을 알게 되는 장면에서 나오는 거야. 말 머리가 피 묻은 이불 옆에 있는 장면 바로 직전이야, 깨어나면 아-악! 됐어. \n",
      "#Person1#: 너 나 감시하고 있었지? 그 어린애들도 대여한 거잖아. \n",
      "#Person2#: 내가 왜 널 감시해? \n",
      "#Person1#: 내가 네 경쟁자니까. 너도 잘 알잖아, 아니면 코너에 그 간판을 달지 않았겠지. \n",
      "#Person2#: 우리 가게 입구가 코너에 있어. 다른 방법으로 말할 수 없잖아. 우리 가게 이름도 아니야. 그냥 위치야. 그리고 네가 그 '코너'라는 말을 독점하는 것도 아니고. \n",
      "#Person1#: 뭐야? 지금 뭐 하는 거야? 네가 전부 캐비어를 가져가잖아! 그 캐비어는 장식이거든? \n",
      "#Person2#: 들어봐, 내가 네 가게에 들어간 이유는 Annabell이랑 Matt랑 하루를 보내고 있었기 때문이야. 난 내 친척 아이들 마음에 들기 위해 선물을 사주는 타입이거든. 이 동네에서 어린이 책을 찾을 수 있는 곳이 딱 하나 있었어. 항상 그런 건 아닐 걸. 하지만 지금은 네 가게였지. 정말 멋진 작은 서점이야. 넌 아마 1년 동안에 책을 35만 달러어치 팔겠지.\n",
      "\n",
      "Pred Summary: This is a dialogue between two people, #Person1# and #Person2#. #Person1# is upset that #Person2# was watching them and thinks they are a competitor. #Person2# explains that they were watching #Person1# because they were with their niece and nephew and wanted to buy them a gift. They also mention that they went to #Person1#'s bookstore because it was the only place in the neighborhood that sells children's books. #Person2# compliments #Person1#'s bookstore and says that they probably sell $350,000 worth of books in a year.\n",
      "\n",
      "Gold Summary: #Person1#은 #Person2#가 자신을 감시한다고 의심하지만, #Person2#는 어린이 책을 사기 위해 #Person1#의 가게에 방문했다고 설명한다.\n",
      "\n",
      "====================================================================================================\n",
      "Dialogue:\n",
      "#Person1#: 운동은 얼마나 자주 해? 스포츠는 해봐?\n",
      "#Person2#: 학교에서 스포츠 수업을 들어, 주당 3시간 정도? 근데 그게 다야. 학교 밖에서는 운동 안 해.\n",
      "#Person1#: 자전거 타거나 걷기도 안 해?\n",
      "#Person2#: 거의 안 해. 엄마가 차로 학교에 데려다 주거든.\n",
      "#Person1#: 집안일 같은 청소나 정원 가꾸기가 체중 감량에 도움이 되는 거 알아?\n",
      "#Person2#: 진짜? 나 청소나 정원 가꾸기 싫어해. 시간 있으면 책 읽는 게 좋아.\n",
      "#Person1#: 아침이나 점심은 보통 뭐 먹어?\n",
      "#Person2#: 아침에는 보통 바빠서 과자 조금 먹어. 점심에는 감자칩 큰 봉지를 사 먹어.\n",
      "#Person1#: 그럼 저녁에 집에선 뭐 먹어?\n",
      "#Person2#: 보통 생선이랑 채소 먹거나 가끔 스파게티를 먹어.\n",
      "#Person1#: 식사 사이에 간식 자주 먹어?\n",
      "#Person2#: 가끔 먹어. 쉬는 시간에 항상 초콜릿 바를 먹고, 학교 다녀와서는 요거트나 아이스크림 자주 먹어.\n",
      "\n",
      "Pred Summary: #Person1#: How often do you exercise? Do you play sports?\n",
      "#Person2#: I take sports classes at school, about three hours a week. But that's all. I don't exercise outside of school.\n",
      "#Person1#: Do you ride your bike or walk anywhere?\n",
      "#Person2#: Almost never. My mom drives me to school.\n",
      "#Person1#: Do you know that household chores like cleaning and gardening can help you lose weight?\n",
      "#Person2#: Really? I hate cleaning and gardening. I'd rather read a book if I have time.\n",
      "#Person1#: What do you usually eat for breakfast and lunch?\n",
      "#Person2#: I usually eat some snacks in the morning because I'm always in a hurry. For lunch, I buy a big bag of potato chips.\n",
      "#Person1#: So what do you eat at home for dinner?\n",
      "#Person2#: I usually eat fish and vegetables, or sometimes I eat spaghetti.\n",
      "#Person1#: Do you eat snacks between meals?\n",
      "#Person2#: Sometimes. I always eat chocolate bars during breaks, and I often eat yogurt or ice cream when I get home from school.\n",
      "\n",
      "Gold Summary: #Person2#는 학교에서만 스포츠를 하며, 학교 밖에서는 자전거를 타거나 걷지 않는다. 이유는 #Person2#의 엄마가 차로 학교에 데려다 주기 때문이다. #Person2#는 아침으로 과자를 먹고, 점심에는 감자칩을 먹으며, 저녁으로 생선과 채소 또는 가끔 스파게티를 먹고, 식사 사이에 간식을 먹는다.\n",
      "\n",
      "====================================================================================================\n",
      "Dialogue:\n",
      "#Person1#: 내일 공항까지 태워줄 수 있어?\n",
      "#Person2#: 몇 시에 가야 해?\n",
      "#Person1#: 음, 비행기가 오전 10시 30분에 출발해.\n",
      "#Person2#: 온라인 체크인은 했어?\n",
      "#Person1#: 응, 체크인 했고 부칠 짐도 없어.\n",
      "#Person2#: 그럼 9시에 출발해야 9시 30분쯤 도착하겠네.\n",
      "#Person1#: 국제선 비행기야.\n",
      "#Person2#: 아, 그럼 비행기 출발 2시간 전에는 도착해야겠네.\n",
      "#Person1#: 8시 30분까지 데려다줄 수 있어?\n",
      "#Person2#: 미안, 그때 애들 학교에 데려다줘야 해.\n",
      "#Person1#: 그럼 난 어떻게 가지?\n",
      "#Person2#: 아마 택시를 타야 할 것 같아.\n",
      "\n",
      "Pred Summary: #Person1#: Can you give me a ride to the airport tomorrow?\n",
      "#Person2#: What time do you need to be there?\n",
      "#Person1#: Umm, the flight leaves at 10:30 am.\n",
      "#Person2#: Have you checked in online?\n",
      "#Person1#: Yes, I checked in and I don't have any luggage to check.\n",
      "#Person2#: Okay, so we should leave at 9:00 to get there by 9:30.\n",
      "#Person1#: It's an international flight.\n",
      "#Person2#: Oh, then we should get there two hours before the flight.\n",
      "#Person1#: Can you drop me off by 8:30?\n",
      "#Person2#: Sorry, I have to drop the kids off at school then.\n",
      "#Person1#: So how am I supposed to get there?\n",
      "#Person2#: I think you'll have to take a taxi.\n",
      "\n",
      "Gold Summary: #Person1#는 비행기가 10시 30분에 출발한다. #Person1#는 #Person2#에게 공항까지 태워달라고 요청했으나, #Person2#가 시간이 없어서 #Person1#는 택시를 타고 가기로 한다.\n",
      "\n",
      "====================================================================================================\n",
      "Dialogue:\n",
      "#Person1#: 피터, 또 TV 보고 있네.\n",
      "#Person2#: 다 설거지 했어요.\n",
      "#Person1#: 그런데 꽃에 물 주고 새 모이 주는 건 안 했잖아.\n",
      "#Person2#: 미안해요. 깜빡했어요. 지금 할게요.\n",
      "#Person1#: 네 아빠가 방금 그거 해주셨는데.\n",
      "#Person2#: 정말 고마우시네요. 엄마, 근데 TV는 맨유와 맨시티 경기 결과가 궁금해서 켠 거예요.\n",
      "#Person1#: 그럼 그냥 인터넷으로 검색하지 그랬어?\n",
      "#Person2#: 컴퓨터가 안 돼요.\n",
      "#Person1#: 네가 숙제 끝내고 컴퓨터 끄지 않았어?\n",
      "#Person2#: 아 맞다. 깜빡했어요. 어쩐지!\n",
      "\n",
      "Pred Summary: #Person1#: Peter, you're watching TV again.\n",
      "#Person2#: I've finished doing the dishes.\n",
      "#Person1#: But you didn't give water to the flowers and food to the birds.\n",
      "#Person2#: Sorry, I forgot. I'll do it now.\n",
      "#Person1#: Your dad just did that.\n",
      "#Person2#: Thank you so much. Mom, but I turned on the TV because I was curious about the result of the Man Utd and Man City match.\n",
      "#Person1#: Why didn't you just search for it on the internet?\n",
      "#Person2#: The computer is not working.\n",
      "#Person1#: Did you forget to turn off the computer after doing your homework?\n",
      "#Person2#: Oh, right. I forgot. Of course!\n",
      "\n",
      "Gold Summary: 피터는 TV를 보느라 꽃에 물 주기와 새 모이 주는 것을 잊었습니다. 경기 결과 확인을 위해 컴퓨터를 사용하지 않고 TV를 켰습니다.\n",
      "\n",
      "====================================================================================================\n",
      "Dialogue:\n",
      "#Person1#: 여기 티켓 네 장입니다. 더 도와드릴 게 있을까요?\n",
      "#Person2#: 네, 상영 정보를 정기적으로 받을 수 있나요?\n",
      "#Person1#: 물론입니다. 메일링 리스트에 성함을 추가해 드릴까요?\n",
      "#Person2#: 네, 부탁드려요. 아, 그리고 우리 중 한 명이 청각 장애가 있어서 특수 헤드폰을 제공받을 수 있다고 들었어요.\n",
      "#Person1#: 네, 맞아요. 미리 신청해 주시면 준비해 드릴 수 있습니다. 지금 예약해 드릴게요. 내일 상영 전에 여기에서 수령하시면 됩니다.\n",
      "#Person2#: 정말 감사합니다.\n",
      "#Person1#: 아닙니다.\n",
      "\n",
      "Pred Summary: #Person1#: Here are your tickets for four. Is there anything else I can help you with?\n",
      "#Person2#: Yes, can we get regular updates on showtimes?\n",
      "#Person1#: Of course. Would you like me to add your name to the mailing list?\n",
      "#Person2#: Yes, please. Oh, and I heard that one of us has hearing impairment, so we can get special headphones.\n",
      "#Person1#: Yes, that's correct. If you let me know in advance, I can have them ready for you. I'll reserve them for you now. You can pick them up here before the show tomorrow.\n",
      "#Person2#: Thank you so much.\n",
      "#Person1#: Not at all.\n",
      "\n",
      "Gold Summary: #Person1#은 #Person2#의 이름을 메일링 리스트에 등록하여 상영 정보를 정기적으로 제공하고, 청각 장애를 가진 사람을 위해 특수 헤드폰을 예약해 줄 것입니다.\n",
      "\n",
      "====================================================================================================\n",
      "Dialogue:\n",
      "#Person1#: 안녕, Jack. 누구한테 글 쓰고 있어? \n",
      "#Person2#: 부모님께 여름에 여기 있을 거라고 말씀드리고 있어. \n",
      "#Person1#: 집에 안 가? 가족이랑 일본 여행 간다고 생각했는데.\n",
      "#Person2#: 원래는 그러려고 했는데, 다시 생각해보고 마음을 바꿨어.\n",
      "#Person1#: 말해봐, 사랑하는 가족과 안 가고 여기 있는 이유가 뭐야?\n",
      "#Person2#: Michael이 자기 삼촌이 하는 기관에서 일하도록 해줬어.\n",
      "#Person1#: 얼마나 받는데?\n",
      "#Person2#: Judy, 돈 때문에 하는 게 아니야. 경험을 위해서지. 게다가 이건 자원봉사 일이야.\n",
      "#Person1#: 돈 안 받고 일한다고? 그거 참 대단하다. 무슨 일인데?\n",
      "#Person2#: 그 삼촌이 운영하는 고아원에서 선생님으로 일할 거야. 넌 언제 집에 가?\n",
      "#Person1#: 내일. 이틀 후에 하와이로 비행기 타.\n",
      "#Person2#: 휴가 잘 보내.\n",
      "#Person1#: 엽서 보낼게.\n",
      "\n",
      "Pred Summary: Person1 is asking Person2 who they are writing to. Person2 is writing to their parents to tell them they will be staying here over the summer. Person1 thought Person2 was going to Japan with their family. Person2 changed their mind and decided to stay here. Person1 asks why Person2 is staying here instead of going with their family. Person2 says that Michael got them a job at his uncle's institution. Person1 asks how much they will be paid. Person2 says it's not about the money, it's about the experience and it's a volunteer job. Person1 is surprised that they will be working without getting paid. Person2 says they will be working as a teacher at an orphanage run by their uncle. Person1 asks when they are going home. Person2 says they are going home tomorrow and will be flying to Hawaii in two days. Person1 says they will send a postcard.\n",
      "\n",
      "Gold Summary: Jack과 Judy는 여름 방학 계획에 대해 이야기한다. Jack은 Michael의 삼촌 기관에서의 자원봉사를 위해 머무를 것이고, Judy는 하와이로 떠난다.\n",
      "\n",
      "====================================================================================================\n",
      "Dialogue:\n",
      "#Person1#: 방금 전화 벨소리 들리지 않았어?\n",
      "#Person2#: 난 아무 소리도 못 들었는데.\n",
      "#Person1#: 두세 번 울린 것 같았어.\n",
      "#Person2#: 가끔 창문이 열려 있으면 이웃집 전화 소리가 들릴 수도 있어.\n",
      "#Person1#: 음, 중요한 전화 기다리고 있어서 놓치고 싶지 않아.\n",
      "\n",
      "Pred Summary: #Person1#: Did you hear the phone ringing just now?\n",
      "#Person2#: I didn't hear anything.\n",
      "#Person1#: I think it rang two or three times.\n",
      "#Person2#: Sometimes, if the window is open, you can hear the phone ringing from the neighbor's house.\n",
      "#Person1#: Hmm, I'm waiting for an important call, so I don't want to miss it.\n",
      "\n",
      "Gold Summary: #Person1#은 전화벨 소리를 들었지만 #Person2#은 듣지 못했습니다.\n",
      "\n",
      "====================================================================================================\n",
      "Dialogue:\n",
      "#Person1#: 저기요, 혹시 초록색 울 목도리를 보셨나요? 5분 전쯤에 여기 있었거든요.\n",
      "#Person2#: 찾아볼게요.\n",
      "#Person1#: 고맙습니다.\n",
      "#Person2#: 근데 여기엔 회색 목도리밖에 없어요. 죄송해요. 손님, 가게 어디에 계셨나요?\n",
      "#Person1#: 음, 먼저 신발 코너에 있었어요. 그 후에 스웨터랑 재킷을 봤어요.\n",
      "#Person2#: 잠시만요. 안녕하세요. 위층 계산대에 있는 수입니다. 초록색 울 목도리 찾으셨나요? 알겠습니다. 운이 좋으시네요! 신발 코너에 목도리가 있대요.\n",
      "#Person1#: 아, 다행이에요! 도와주셔서 감사합니다.\n",
      "#Person2#: 천만에요.\n",
      "#Person1#: 아, 4시 30분이네요. 근처에 지하철역이 있나요?\n",
      "#Person2#: 네, 저기 아래쪽에 있어요. 토론토는 대중교통 시스템이 잘 되어 있어요. 시내와 외곽 지역까지 가는 버스, 전차, 기차가 있어요.\n",
      "\n",
      "Pred Summary: #Person1#: Excuse me, have you seen my green wool scarf? I had it here five minutes ago.\n",
      "#Person2#: Let me look.\n",
      "#Person1#: Thank you.\n",
      "#Person2#: But I only see a gray scarf here. I’m sorry. Where were you in the store?\n",
      "#Person1#: Umm, I was first in the shoe department. Then I looked at sweaters and jackets.\n",
      "#Person2#: Just a minute. Hello, I’m Sue at the cash register upstairs. Were you looking for a green wool scarf? Okay. You’re in luck! There’s a scarf in the shoe department.\n",
      "#Person1#: Oh, good! Thank you for helping me.\n",
      "#Person2#: You’re welcome.\n",
      "#Person1#: Oh, it’s 4:30. Is there a subway station nearby?\n",
      "#Person2#: Yes, it’s down there. Toronto has a good public transportation system. There are buses, streetcars, and trains that go to the city and the outlying areas.\n",
      "\n",
      "Gold Summary: #Person2#는 #Person1#에게 위치를 물어보고, 신발 코너에서 #Person1#의 초록색 울 목도리를 찾는 것을 도와주며, 지하철역 위치를 알려줍니다.\n",
      "\n",
      "====================================================================================================\n",
      "Dialogue:\n",
      "#Person1#: 앗! 그 소리 뭐야?\n",
      "#Person2#: 나 코 풀었어.\n",
      "#Person1#: 전화기 바로 옆에서 풀어야 했어?\n",
      "#Person2#: 들었어?\n",
      "#Person1#: 당연히 들었지. 네 집에 비행기라도 충돌한 줄 알았잖아.\n",
      "#Person2#: 그렇게 시끄럽진 않았을 텐데.\n",
      "#Person1#: 내가 나중에 코 풀어볼게, 그때 알게 될 거야.\n",
      "#Person2#: 그래. 네 말 믿을게.\n",
      "#Person1#: 네 집에 코끼리라도 있는 줄 알았어.\n",
      "#Person2#: 너 웃긴다.\n",
      "#Person1#: 뭐라고? 귀 먹었나 봐.\n",
      "#Person2#: 나 코 풀러 화장실 갈게. 금방 올게.\n",
      "\n",
      "Pred Summary: #Person1#: Oh! What was that sound?\n",
      "#Person2#: I just blew my nose.\n",
      "#Person1#: You had to blow it right next to the phone?\n",
      "#Person2#: Did you hear it?\n",
      "#Person1#: Of course I heard it. I thought a plane had crashed into your house.\n",
      "#Person2#: It wasn't that loud.\n",
      "#Person1#: I'll blow my nose later, you'll see.\n",
      "#Person2#: Okay. I'll believe you.\n",
      "#Person1#: I thought you had an elephant in your house.\n",
      "#Person2#: You're funny.\n",
      "#Person2#: What? Are you deaf?\n",
      "#Person2#: I'm going to the bathroom to blow my nose. I'll be right back.\n",
      "\n",
      "Gold Summary: #Person1#은 #Person2#의 코 푸는 소리가 매우 시끄럽다고 불평한다. #Person2#는 화장실에 가서 코를 풀기로 한다.\n",
      "\n",
      "====================================================================================================\n",
      "Dialogue:\n",
      "#Person1#: 실례지만, 주머니에 있는 금속 물건을 모두 꺼내서 이 트레이에 넣어주세요.\n",
      "#Person2#: 열쇠도 포함인가요?\n",
      "#Person1#: 네, 그리고 저쪽으로 가주시겠어요?\n",
      "#Person2#: 알겠습니다. 이제 뭘 하면 되나요?\n",
      "#Person1#: 가방을 열어주시면 확인하겠습니다. 그 후에는 뒤쪽 X-ray 기계 뒤에서 가방을 찾으시면 됩니다.\n",
      "#Person2#: 가방에 필름이 들어있어요.\n",
      "#Person1#: 괜찮습니다. 이 기계는 필름을 손상시키지 않습니다.\n",
      "#Person2#: 그러면 괜찮네요.\n",
      "#Person1#: 탑승권 좀 주시겠어요? 스탬프를 찍어야 해서요.\n",
      "#Person2#: 물론이죠. 여기 있습니다.\n",
      "#Person1#: 감사합니다.\n",
      "#Person2#: 이제 통과된 건가요?\n",
      "#Person1#: 네. 여기 탑승권입니다.\n",
      "#Person2#: 감사합니다. 안녕히 계세요.\n",
      "\n",
      "Pred Summary: This dialogue is about a security check at an airport. The security officer asks the passenger to put all metal objects in a tray and to open their bag for inspection. The passenger asks if the keys are included and the officer confirms. The passenger then asks what to do next and the officer tells them to go to the X-ray machine. The passenger mentions that there is film in their bag and the officer assures them that the machine won't damage it. The officer then asks for the passenger's boarding pass to stamp it and the passenger hands it over. The officer thanks them and confirms that they have passed the security check. The passenger thanks the officer and says goodbye.\n",
      "\n",
      "Gold Summary: #Person2#가 보안 검사를 받고 있습니다. #Person1#은 #Person2#의 가방을 확인하고 탑승권에 스탬프를 찍습니다.\n",
      "\n",
      "====================================================================================================\n",
      "Dialogue:\n",
      "#Person1#: 거실에 놓을 새 가구 세트를 사야겠어.\n",
      "#Person2#: 어디서 살 거야?\n",
      "#Person1#: 잘 모르겠어.\n",
      "#Person2#: 내가 어디서 샀는지 알고 싶어?\n",
      "#Person1#: 응, 어디서 샀어?\n",
      "#Person2#: IKEA에서 샀어.\n",
      "#Person1#: 얼마나 들었어?\n",
      "#Person2#: 전체 세트에 몇 천 달러 들었어.\n",
      "#Person1#: 가구 튼튼해?\n",
      "#Person2#: 응, 정말 잘 만들어졌어.\n",
      "#Person1#: 품질만 좋다면 비싸도 괜찮아.\n",
      "#Person2#: 그럼, 믿어봐. 품질은 정말 좋아.\n",
      "\n",
      "Pred Summary: #Person1#: I need to buy a new furniture set for the living room.\n",
      "#Person2#: Where are you going to buy it?\n",
      "#Person1#: I don't know.\n",
      "#Person2#: Do you want to know where I bought mine?\n",
      "#Person1#: Yes, where did you buy it?\n",
      "#Person2#: I bought it at IKEA.\n",
      "#Person1#: How much did it cost?\n",
      "#Person2#: It cost a few thousand dollars for the whole set.\n",
      "#Person1#: Is the furniture sturdy?\n",
      "#Person2#: Yes, it's really well-made.\n",
      "#Person1#: If the quality is good, I don't mind paying more.\n",
      "#Person2#: Okay, trust me, the quality is really good.\n",
      "\n",
      "Gold Summary: #Person1#은 새 가구 세트를 원하며, #Person2#는 IKEA에서 구입했고 가격은 비싸지만 품질이 좋다고 설명합니다.\n",
      "\n",
      "====================================================================================================\n",
      "Dialogue:\n",
      "#Person1#: 주문 도와드릴까요, 고객님?\n",
      "#Person2#: 네, 뭐 추천해 주세요.\n",
      "#Person1#: 오늘의 특별 메뉴로 생선 요리를 추천드립니다. 저희 셰프님께서 해산물을 아주 좋아하시고 오늘 요리가 셰프님의 베스트입니다. 해산물을 좋아하신다면 마음에 드실 거예요.\n",
      "#Person2#: 정말 맛있어 보이네요. 한 번 먹어볼게요.\n",
      "#Person1#: 다른 것도 필요하신가요? 에피타이저로 에스까르고는 어떠세요?\n",
      "#Person2#: 오늘은 괜찮아요, 고마워요. 대신 채식 요리 중에 뭐가 있는지 알고 싶어요.\n",
      "#Person1#: 네, 메뉴 여기 있습니다. 주문하시겠어요?\n",
      "#Person2#: 아, 죄송해요. 생선 대신 녹두 요리를 먹고 싶어요.\n",
      "#Person1#: 어떤 수프 드실래요?\n",
      "#Person2#: 달걀 국이요.\n",
      "#Person1#: 네, 다른 건 없으신가요?\n",
      "#Person2#: 네, 없어요.\n",
      "#Person1#: 음료는 뭐 드실래요, 기다릴까요?\n",
      "#Person2#: 그냥 아이스워터 주세요. 감사합니다.\n",
      "\n",
      "Pred Summary: #Person1#: Can I help you with your order?\n",
      "#Person2#: Yes, what do you recommend?\n",
      "#Person1#: I recommend the seafood dish as today's special. Our chef loves seafood and this is his best dish. If you like seafood, you'll love it.\n",
      "#Person2#: It looks really good. I'll try it.\n",
      "#Person1#: Do you need anything else? How about escargot as an appetizer?\n",
      "#Person2#: No, I'm good, thanks. But I'd like to know what vegetarian options you have.\n",
      "#Person1#: Yes, here's the menu. Would you like to order?\n",
      "#Person2#: Oh, sorry. I'd like the mung bean dish instead of the fish.\n",
      "#Person1#: What kind of soup would you like?\n",
      "#Person2#: Egg soup, please.\n",
      "#Person1#: Is there anything else?\n",
      "#Person2#: No, that's all.\n",
      "#Person1#: What would you like to drink? Would you like to wait?\n",
      "#Person2#: Just give me some ice water, please. Thank you.\n",
      "\n",
      "Gold Summary: #Person1#은 오늘의 특별 메뉴로 생선 요리를 추천하지만, #Person2#은 녹두 요리와 달걀 국, 아이스워터를 선택합니다.\n",
      "\n",
      "====================================================================================================\n",
      "Dialogue:\n",
      "#Person1#: 어떤 게임 좋아해?\n",
      "#Person2#: 보드 게임 좋아해. 장기랑 체커 좋아해.\n",
      "#Person1#: 장기는 해본 적 없는데 길거리에서 어르신들이 하는 거 본 적 있어. 복잡해 보이더라.\n",
      "#Person2#: 체스만큼이나 복잡해. 기본 규칙이랑 움직임은 간단한데, 익혀야 할 전략들이 많아.\n",
      "#Person1#: 난 카드 게임 좋아해. 포커 꽤 잘 쳐. 너는 카드 게임 해?\n",
      "#Person2#: 나 카드 게임 엄청 못해서 도박 같은 포커는 안 해. 하면 돈 다 잃을 거야.\n",
      "#Person1#: 브릿지 해본 적 있어?\n",
      "#Person2#: 응, 해봤어. 근데 네 명 구하기 어려워서 자주 하지는 않아. 너 주위에 하는 사람 있어? 있으면 게임 한번 짜 보자.\n",
      "#Person1#: 나 꽤 잘하는데, 친구 한 명도 브릿지 좋아하긴 하는데 잘하지는 못해. 불러볼까?\n",
      "#Person2#: 좋아, 나도 꽤 잘 치는 친구 있어. 우리 친구들 언제 시간 되는지 알아보고 게임 한번 하자.\n",
      "#Person1#: 나 지금 내 친구한테 전화할게. 너도 네 친구한테 전화해.\n",
      "\n",
      "Pred Summary: #Person1#: What kind of games do you like?\n",
      "#Person2#: I like board games. I like chess and checkers.\n",
      "#Person1#: I've never played chess, but I've seen old people playing it on the street. It looks complicated.\n",
      "#Person2#: It's just as complicated as chess. The basic rules and movements are simple, but there are a lot of strategies to learn.\n",
      "#Person1#: I like card games. I'm pretty good at poker. Do you play card games?\n",
      "#Person2#: I'm terrible at card games, so I don't play gambling games like poker. I'd lose all my money.\n",
      "#Person1#: Have you ever played bridge?\n",
      "#Person2#: Yeah, I've played it. But it's hard to find four people to play with, so I don't play it often. Do you know anyone who plays?\n",
      "#Person1#: I'm pretty good at it, and I have a friend who also likes bridge, but he's not very good. Should we invite him?\n",
      "#Person2#: Sure, I have a friend who's also pretty good. Let's see when we can all get together and play.\n",
      "#Person1#: I'll call my friend now. You call your friend too.\n",
      "\n",
      "Gold Summary: #Person2#는 장기와 체커 같은 보드 게임을 좋아하고, #Person1#는 카드 게임을 좋아합니다. 둘 다 브릿지를 하며 친구들에게 전화해서 게임을 짜기로 합니다.\n",
      "\n",
      "====================================================================================================\n",
      "Dialogue:\n",
      "#Person1#: 안녕하세요. 뭐 드릴까요?\n",
      "#Person2#: 맥주 하나 주세요. 어떤 맥주 있나요?\n",
      "#Person1#: 생맥주랑 캔맥주 있어요. 어떤 걸로 드릴까요?\n",
      "#Person2#: 생맥주로 주세요.\n",
      "#Person1#: 네. 여기 있습니다.\n",
      "#Person2#: 과일도 좀 주실 수 있나요?\n",
      "#Person1#: 물론이죠. 잠시만 기다려 주세요.\n",
      "\n",
      "Pred Summary: #Person1#: Hello. What can I get you?\n",
      "#Person2#: I'd like a beer. What kind of beer do you have?\n",
      "#Person1#: We have draft beer and canned beer. Which one would you like?\n",
      "#Person2#: I'd like the draft beer.\n",
      "#Person1#: Sure. Here you go.\n",
      "#Person2#: Can I also get some fruit?\n",
      "#Person1#: Of course. Just a moment please.\n",
      "\n",
      "Gold Summary: #Person2#가 생맥주와 과일을 주문했습니다.\n",
      "\n",
      "====================================================================================================\n",
      "Dialogue:\n",
      "#Person1#: 저희 새로 출시된 청소 장치를 보여드릴까요? 정말 똑똑한 디자인입니다. \n",
      "#Person2#: 네, 보고 싶어요. 무엇을 청소하는 건가요? \n",
      "#Person1#: 금속 부품에서 용제를 씻어내고, 다시 시스템으로 보내줘요. 칼날이나 쟁반 같은 것들이죠. \n",
      "#Person2#: 그 장치는 어떻게 구성되어 있나요? \n",
      "#Person1#: 기본적으로 두 개의 탱크로 이루어져 있어요. 하나는 더러운 용제를 위한 것이고, 다른 하나는 깨끗한 용제를 위한 것이에요. 그리고 펌프와 세척 장치가 있습니다. 아, 냉각 시스템과 필터도 있어요. 이 모든 것이 PLC 시스템으로 제어됩니다. 그건 프로세스 로직 컨트롤이라는 뜻이에요.\n",
      "\n",
      "Pred Summary: The new cleaning machine is very smart. It cleans metal parts of solvent and sends them back to the system. It cleans knives and trays. The machine has two tanks, one for dirty solvent and one for clean solvent. It also has a pump and a cleaning system. There is also a cooling system and a filter. All of this is controlled by a PLC system, which stands for process logic control.\n",
      "\n",
      "Gold Summary: #Person1#은 #Person2#에게 새로운 청소 장치를 소개하며 시스템 구성과 작동 방식을 설명한다.\n",
      "\n",
      "====================================================================================================\n",
      "Dialogue:\n",
      "#Person1#: 오늘 신문 다 팔렸어?\n",
      "#Person2#: 응, 정말 잘 팔린 것 같아!\n",
      "#Person1#: 근데 이 추가 선물들이 왜 이렇게 많이 남아 있는 거야?\n",
      "#Person2#: 많은 손님들이 필요 없다고 해서 그래.\n",
      "#Person1#: 그럼 저 노인에게 주는 건 어때?\n",
      "#Person2#: 좋은 생각이야.\n",
      "#Person1#: 근데 고객을 끌어들이기 위해 무료 선물을 주는 게 좋은 아이디어라고 생각해?\n",
      "#Person2#: 잘 모르겠지만, 오늘 사람들은 많이 오긴 했어.\n",
      "#Person1#: 전단지를 나눠주는 게 더 유용하고 싸지 않을까 생각해.\n",
      "#Person2#: 근데 사람들이 그거 받아서 그냥 쓰레기통에 버릴 수도 있잖아.\n",
      "#Person1#: 그 말도 맞아.\n",
      "#Person2#: 어쨌든, 우리 일 마무리하고 집에 가자.\n",
      "#Person1#: 그래. 정말 힘든 일이야.\n",
      "\n",
      "Pred Summary: The dialogue is about two people discussing the sales of newspapers and free gifts. They are talking about how many newspapers were sold and how many free gifts were left. They also talk about whether giving free gifts is a good idea to attract customers. They decide to finish their work and go home.\n",
      "\n",
      "Gold Summary: #Person1#과 #Person2#는 오늘 신문을 모두 판매한 후, 더 많은 고객을 유치하기 위한 전략에 대해 논의하고 있다.\n",
      "\n",
      "====================================================================================================\n",
      "Dialogue:\n",
      "#Person1#: 안녕, Janice. 이제 첫 출근 후 주말이 다가오고 있어. 너는 주말에 무슨 계획 있어? \n",
      "#Person2#: 오늘 아침에 엄마가 전화해서 집에 가서 집안일 좀 도우라고 하셨어. \n",
      "#Person1#: 무슨 일을 맡았는지 알아? \n",
      "#Person2#: 글쎄, 아직 모르겠어. 근데 집안일 하자고 하니까 요리보다는 세탁하는 게 나을 것 같아. \n",
      "#Person1#: 나도 이번 주말에 셔츠랑 바지 다림질해야 할 것 같아. 사실 주말이 일주일 중 가장 바쁜 날이 되는 것 같아. \n",
      "#Person2#: 정말 이틀 밤 내내 푹 자고 싶다. 하지만… 누군가는 주말을 무지개 같다고 하더라. 멀리서 보면 좋아 보이지만 가까이 가면 사라져버리는 것처럼. \n",
      "#Person1#: 정말 공감해.\n",
      "\n",
      "Pred Summary: #Person1#: Hey, Janice. It's almost the weekend after your first day of work. What are your plans for the weekend? \n",
      "#Person2#: My mom called me this morning and said I should come home and help with some chores. \n",
      "#Person1#: Do you know what she wants you to do? \n",
      "#Person2#: I'm not sure yet. But since she said chores, I think it would be better to do laundry than cooking. \n",
      "#Person1#: I need to iron my shirts and pants this weekend too. It seems like the weekend is the busiest day of the week. \n",
      "#Person2#: I really want to sleep for two nights straight. But… someone said that weekends are like rainbows. They look good from a distance, but when you get close, they disappear. \n",
      "#Person1#: I totally agree.\n",
      "\n",
      "Gold Summary: Janice는 이번 주말에 집에 가서 집안일을 도울 예정이다. #Person1#은 셔츠와 바지를 다림질할 예정이다. 그들은 주말이 기대만큼 매력적이지 않다고 생각한다.\n",
      "\n",
      "====================================================================================================\n",
      "Dialogue:\n",
      "#Person1#: Tom! 어떻게 지내? 어젯밤 파티에 네가 없어서 아쉬웠어. 괜찮아?\n",
      "#Person2#: 잘 모르겠어. 그냥 나가고 싶지 않았어. 조금 향수병에 걸린 것 같아.\n",
      "#Person1#: 얘! 이 이야기 이미 했잖아! 여기 처음 왔을 때 적응하기 힘들었던 건 알지만, 네가 이겨내겠다고 했었잖아.\n",
      "#Person2#: 맞아. 그런데 곧 휴일인데 비행기 표가 너무 비싸서 집에 갈 수가 없어. 엄마가 해주신 요리와 가족들이 그리워.\n",
      "#Person1#: 맞아, 휴일엔 정말 외로울 수 있지. 나도 여기 처음 왔을 때, 집을 떠올리게 하는 것들 때문에 우울해지곤 했어. 거의 포기할 뻔했는데, 나가서 놀고 바쁘게 지내면서 익숙해졌어.\n",
      "#Person2#: 네 말 이해해, 그래도 기분이 꿀꿀해.\n",
      "#Person1#: 좋아, 이건 어때. 옷 챙겨 입고 오늘 밤 클럽 가자. 정말 멋진 DJ가 공연한대, 그리고 예쁜 싱글 여자들도 많을 거야!\n",
      "#Person2#: 좋아, 그거 완전 좋겠네. 오늘 밤 너 내 윙맨 해줄래?\n",
      "#Person1#: 물론이지! 재미있을 거야! 남자들끼리 노는 밤 같은 느낌일 거야... 뭐, 그런 느낌?\n",
      "#Person2#: 좋아! 근데 한 가지 조심해줄래? 내가 폭음하지 않도록 말이야. 이거 정말 장난 아니야!\n",
      "\n",
      "Pred Summary: Tom is homesick and doesn’t want to go out. His friend encourages him to go out and have fun.\n",
      "\n",
      "Gold Summary: Tom은 #Person1#에게 향수병으로 인해 어제 파티에 가지 않았다고 말하며, #Person1#은 그를 클럽에 초대해 기분을 전환시키려 합니다.\n",
      "\n",
      "====================================================================================================\n",
      "Dialogue:\n",
      "#Person1#: 이게 다 당신이 한 짓이잖아요!\n",
      "#Person2#: 정말 죄송합니다, 손님. 바로 헝겊을 가져오겠습니다.\n",
      "#Person1#: 그래, 빨리 해요!\n",
      "#Person2#: 제 부주의로 인해 죄송합니다. 제가 직접 청소해드릴까요?\n",
      "#Person1#: 아닙니다, 제가 할게요.\n",
      "#Person2#: 여기 제 명함입니다, 손님. 세탁비 청구서를 보내주시면 제가 환불해드리겠습니다.\n",
      "#Person1#: 그렇게 하셔야죠!\n",
      "#Person2#: 폐를 끼쳐 정말 죄송합니다.\n",
      "#Person1#: 그래요, 앞으로는 조심하세요!\n",
      "#Person2#: 네, 손님. 정말로 죄송합니다.\n",
      "#Person1#: 괜찮습니다.\n",
      "\n",
      "Pred Summary: #Person1#: This is all your fault!\n",
      "#Person2#: I'm so sorry, sir. I'll get a rag right away.\n",
      "#Person1#: Yes, hurry up!\n",
      "#Person2#: I'm so sorry for my carelessness. Would you like me to clean it up?\n",
      "#Person1#: No, I'll do it.\n",
      "#Person2#: Here's my business card, sir. Please send me the dry cleaning bill and I'll refund you.\n",
      "#Person1#: You should.\n",
      "#Person2#: I'm so sorry for the trouble.\n",
      "#Person1#: Yes, be careful next time!\n",
      "#Person2#: Yes, sir. I'm so sorry.\n",
      "#Person1#: It's okay.\n",
      "\n",
      "Gold Summary: #Person2#가 실수로 #Person1#의 옷을 더럽혔습니다. #Person1#은 화가 났고, #Person2#는 사과하며 세탁비를 지불하겠다고 약속합니다.\n",
      "\n",
      "====================================================================================================\n",
      "Dialogue:\n",
      "#Person1#: 안녕. \n",
      "#Person2#: Mark, 나 Lucy야.\n",
      "#Person1#: 웬일이야?\n",
      "#Person2#: 친구가 하나 있어. 내 제일 친한 친구인데 영어를 배우고 싶대. 한 시간에 100위안 정도 낸대. 관심 있어?\n",
      "#Person1#: 잘 모르겠어.\n",
      "#Person2#: 그럼, 관심 없는 걸로 받아들일게.\n",
      "#Person1#: 아니야, Lucy. 오해하지 마. 그러니까 9월 2일에 학교가 개학해서 그때 되면 일정이 꽉 찰 것 같아.\n",
      "#Person2#: 걱정 마. 내 친구가 항상 네 스케줄에 맞춰줄 수 있대.\n",
      "#Person1#: 그럼 괜찮을 것 같아. 언제 그 친구를 볼 수 있을까?\n",
      "#Person2#: 이렇게 하자. 이번 토요일에 내가 그 친구 데리고 너희 집에 갈게. 그러면 너희 둘이 일정 조정하면 돼.\n",
      "#Person1#: 정오 전에 꼭 와. 오후에는 친구를 공항에 데리러 가야 해.\n",
      "#Person2#: 어떻게 갈 건데?\n",
      "#Person1#: 당연히 버스로 가지.\n",
      "#Person2#: 내 친구가 차로 데려다줄 수 있을 거야.\n",
      "#Person1#: 잘 됐네. 그런데 네 친구 뭐하는 사람인데?\n",
      "#Person2#: 변호사야.\n",
      "#Person1#: 그래, 그럼 나중에 봐.\n",
      "#Person2#: 그래, 나중에 봐.\n",
      "\n",
      "Pred Summary: Person1 and Person2 are having a conversation about a friend of Person2 who wants to learn English. Person1 is interested in teaching the friend but is unsure about their schedule. Person2 assures Person1 that their friend is flexible and can adjust their schedule accordingly. They agree to meet at Person1's house on Saturday before noon, and Person2's friend will drive them to the airport. Person2's friend is a lawyer.\n",
      "\n",
      "Gold Summary: Lucy는 Mark에게 변호사 친구가 영어를 배우고 싶다고 전달합니다. 처음에 Mark는 일정 때문에 망설였지만, Lucy의 친구가 Mark의 일정에 맞출 수 있다고 하여 동의합니다. 그들은 일정을 조율하기 위해 만나기로 합니다.\n",
      "\n",
      "====================================================================================================\n",
      "Dialogue:\n",
      "#Person1#: 누가 결혼했는지 알아? Old Mc Donald이야. \n",
      "#Person2#: 말도 안 돼! 그분 80 넘었잖아? \n",
      "#Person1#: 거의 90이야. \n",
      "#Person2#: 어머나! 진짜야? \n",
      "#Person1#: 응, 그리고 그분 아내는 84살이래. \n",
      "#Person2#: 정말? \n",
      "#Person1#: 맞아. 그리고 놀랍게도, 그분이 여섯 번째 남편이래. \n",
      "#Person2#: 정말이야? 대단한 여자네.\n",
      "\n",
      "Pred Summary: #Person1#: Do you know who got married? Old Mc Donald. \n",
      "#Person2#: No way! He's over 80, right? \n",
      "#Person1#: Almost 90. \n",
      "#Person2#: Oh my god! Really? \n",
      "#Person1#: Yeah, and his wife is 84. \n",
      "#Person2#: Really? \n",
      "#Person1#: Yep, and get this, he's her sixth husband. \n",
      "#Person2#: Really? What a woman.\n",
      "\n",
      "Gold Summary: #Person1#는 #Person2#에게 Old Mc Donald가 84세 여성과 결혼했다고 전하며, 그녀의 여섯 번째 남편이라고 말합니다.\n",
      "\n",
      "====================================================================================================\n",
      "Dialogue:\n",
      "#Person1#: 안녕, Mary. 정말 오랜만이야. 아직도 Paul과 만나고 있어? \n",
      "#Person2#: 아니, 지난달에 헤어졌어. 당분간 연애 쉬기로 했어.\n",
      "#Person1#: 서로 잘 헤어졌어? 가끔 커플들이 싸우다가 헤어질 때도 많잖아.\n",
      "#Person2#: 그냥 안 만나기로 했어. 정말 평화롭게 헤어졌어. 너는 아직도 Mike랑 사귀어?\n",
      "#Person1#: 응, 맞아. 우리 약혼할까 생각 중이야. 이제 1년 넘게 사귀었거든.\n",
      "#Person2#: 잘 됐다! 최근에 Kelly 본 적 있어? 아직도 Nick이랑 만나?\n",
      "#Person1#: 한동안 못 봤어. Nick이 바람 피워서 헤어졌대. 회사 동료랑 만나고 있었던 거야. 어느 날 Kelly가 그들이 손잡고 있는 걸 보고 바로 끝냈대.\n",
      "#Person2#: 잘했네. Neil하고 Tina도 곧 결혼한다더라.\n",
      "#Person1#: 정말? 둘이 오래 사귀었잖아. 언제 결혼한대?\n",
      "#Person2#: 9월 26일인가 그럴걸? 내가 확인해서 Tina한테 네 신부파티 초대 잊지 말라고 할게.\n",
      "#Person1#: 고마워. 저기 저 남자 좀 봐. 네가 마음에 드나 봐.\n",
      "#Person2#: 확실히 관심 있는 것 같은데? 우리 테이블로 초대할까?\n",
      "\n",
      "Pred Summary: #Person1#: Hey, Mary. It’s been a long time. Are you still seeing Paul?\n",
      "#Person2#: No, we broke up last month. We decided to take a break from dating for a while.\n",
      "#Person1#: Did you guys break up on good terms? Sometimes couples fight and break up, you know.\n",
      "#Person2#: We just decided not to see each other. We broke up peacefully. Are you still dating Mike?\n",
      "#Person1#: Yeah, we are. We’re thinking about getting engaged. We’ve been dating for over a year now.\n",
      "#Person2#: That’s great! Have you seen Kelly recently? Is she still seeing Nick?\n",
      "#Person1#: I haven’t seen her in a while. Apparently, Nick cheated on her. He was seeing someone from work. One day, Kelly saw them holding hands and she ended it right away.\n",
      "#Person2#: Good for her. I heard Neil and Tina are getting married soon.\n",
      "#Person1#: Really? They’ve been dating for a long time. When are they getting married?\n",
      "#Person2#: I think it’s on September 26th. I’ll check and make sure to remind Tina to invite you to her bridal shower.\n",
      "#Person1#: Thanks. Look at that guy over there. He seems to be interested in you.\n",
      "#Person2#: He definitely seems interested. Should we invite him to our table?\n",
      "\n",
      "Gold Summary: #Person1#은 Mike와 약혼할 예정이고, Mary는 Paul과 평화롭게 헤어졌다. #Person1#은 친구들의 소식을 Mary에게 전하고, 둘은 한 남자를 발견하고 그를 테이블로 초대하기로 한다.\n",
      "\n",
      "====================================================================================================\n",
      "Dialogue:\n",
      "#Person1#: 여보세요, 관리인과 통화할 수 있을까요?\n",
      "#Person2#: 네, 관리인입니다. 어떻게 도와드릴까요?\n",
      "#Person1#: 어젯밤 그 심한 비바람 동안에 지붕에서 물이 새기 시작했어요.\n",
      "#Person2#: 물이 새는 곳이 어느 방인가요?\n",
      "#Person1#: 우리 침실에서요.\n",
      "#Person2#: 가장 꼭대기 층에 계신가요, 아니면 위에 다른 아파트가 있나요?\n",
      "#Person1#: 우리는 꼭대기 층에 있어요.\n",
      "#Person2#: 지붕 수리공을 잡는 대로 최대한 빨리 보내드리겠습니다. 오늘 아침에 집에 계실 건가요?\n",
      "#Person1#: 네, 집에 있을 거예요.\n",
      "#Person2#: 알겠습니다. 만약 어디 나가셨다면, 저희가 보유한 열쇠로 들어갈 수 있을 겁니다.\n",
      "\n",
      "Pred Summary: #Person1#: Hello, can I speak to the superintendent?\n",
      "#Person2#: Yes, this is the superintendent. How can I help you?\n",
      "#Person1#: Last night during that heavy rainstorm, water started leaking from the roof.\n",
      "#Person2#: Which room is the water leaking in?\n",
      "#Person1#: In our bedroom.\n",
      "#Person2#: Are you on the top floor, or is there another apartment above you?\n",
      "#Person1#: We're on the top floor.\n",
      "#Person2#: I'll send a roofer as soon as I can get one. Will you be home this morning?\n",
      "#Person1#: Yes, I'll be home.\n",
      "#Person2#: Okay. If you're not there, we'll be able to get in with the key we have on file.\n",
      "\n",
      "Gold Summary: #Person1#은 침실 지붕에서 물이 새는 것을 관리인에게 보고합니다. 관리인은 가능한 빨리 지붕 수리공을 보낼 것입니다.\n",
      "\n",
      "====================================================================================================\n",
      "Dialogue:\n",
      "#Person1#: 어떻게 지내세요?\n",
      "#Person2#: 잘 지내고 있어요, 감사합니다.\n",
      "#Person1#: 도움이 필요하신가요?\n",
      "#Person2#: 가능하면 오늘 아파트를 좀 보고 싶어요.\n",
      "#Person1#: 오늘은 안 될 것 같아요.\n",
      "#Person2#: 왜 그렇죠?\n",
      "#Person1#: 예약 없이는 아파트를 볼 수 없어요.\n",
      "#Person2#: 지금 예약하고 싶어요.\n",
      "#Person1#: 이번 주 금요일 가능하세요?\n",
      "#Person2#: 오후 6시에 볼 수 있을까요?\n",
      "#Person1#: 금요일 오후 6시로 예약되었습니다.\n",
      "#Person2#: 알겠습니다. 그럼 금요일에 뵙겠습니다.\n",
      "\n",
      "Pred Summary: This dialogue is about a person who wants to see an apartment but is told that they need to make a reservation to do so. The person then makes a reservation for Friday at 6pm.\n",
      "\n",
      "Gold Summary: #Person1#은 #Person2#에게 예약이 없으면 아파트를 볼 수 없다고 말하며, 금요일 오후 6시에 예약을 도와줍니다.\n",
      "\n",
      "====================================================================================================\n",
      "Dialogue:\n",
      "#Person1#: 프로젝트에 대해 논의하려고 만날 수 있을까요?\n",
      "#Person2#: 좋은 생각이에요. 월요일이나 화요일에 만날 수 있을 것 같은데, 어느 날이 편할까요?\n",
      "#Person1#: 화요일이 좋을 것 같아요.\n",
      "#Person2#: 좋아요. 오전에 만날까요, 오후에 만날까요?\n",
      "#Person1#: 오후가 제일 좋을 것 같아요.\n",
      "#Person2#: 그럼 그렇게 합시다. 내일 정확한 시간을 이메일로 보내드릴게요. 계획안도 가져와 주시면 좋겠어요.\n",
      "#Person1#: 네, 회의에 계획안을 가지고 갈게요.\n",
      "#Person2#: 전체 위원회를 초대할까요, 아니면 소위원회만 참석할까요?\n",
      "#Person1#: 전체 위원회가 참석해야 할 것 같아요.\n",
      "#Person2#: 네, 저도 동의해요. 그들이 알 수 있도록 조치할게요. 회의 장소를 찾을 수 있나요?\n",
      "#Person1#: 네, 제가 스스로 찾아갈 수 있어요.\n",
      "#Person2#: 좋습니다! 모든 세부사항은 나중에 보내드릴게요. 만나뵙기를 기대하고 있어요.\n",
      "\n",
      "Pred Summary: The conversation is about setting up a meeting to discuss a project. Person 1 suggests meeting on Tuesday, and Person 2 agrees. They decide to meet in the afternoon and Person 2 will send an email with the exact time. Person 1 will bring a plan to the meeting. They discuss whether to invite the entire committee or just a subcommittee, and decide to invite the entire committee. Person 1 will find a meeting room, and Person 2 will send all the details later. They both look forward to the meeting.\n",
      "\n",
      "Gold Summary: #Person1#와 #Person2#는 프로젝트 계획을 논의하기 위해 화요일 오후에 전체 위원회와 만날 예정입니다.\n",
      "\n",
      "====================================================================================================\n",
      "Dialogue:\n",
      "#Person1#: 안녕하세요. 방금 거리에서 쇼핑하다 지갑을 잃어버렸어요. 누가 훔쳐간 것 같아요.\n",
      "#Person2#: 안타깝네요. 지갑에 어떤 것들이 들어 있었는지 말씀해 주시겠어요?\n",
      "#Person1#: 핸드폰이랑 여권, 현금이 좀 있었어요.\n",
      "#Person2#: 언제 미국에 오셨나요?\n",
      "#Person1#: 며칠 전에요.\n",
      "#Person2#: 지갑을 언제 어디서 잃어버렸는지 기억나세요?\n",
      "#Person1#: 전혀 모르겠어요.\n",
      "#Person2#: 네, 기록해뒀습니다. 미국에서의 비상 연락처는 누구인가요?\n",
      "#Person1#: 가까이에 사는 제 친구 Tim이에요.\n",
      "#Person2#: 알겠습니다. 단서가 발견되면 바로 연락드리겠습니다.\n",
      "\n",
      "Pred Summary: #Person1#: Hello. I just lost my wallet while shopping on the street. I think someone stole it.\n",
      "#Person2#: That's too bad. Can you tell me what was in your wallet?\n",
      "#Person1#: My phone, passport, and some money.\n",
      "#Person2#: When did you come to the US?\n",
      "#Person1#: A few days ago.\n",
      "#Person2#: Do you remember when and where you lost your wallet?\n",
      "#Person1#: I have no idea.\n",
      "#Person2#: Okay, I'll record it. Who is your emergency contact in the US?\n",
      "#Person1#: My friend Tim who lives nearby.\n",
      "#Person2#: Alright. I'll contact you as soon as we have any leads.\n",
      "\n",
      "Gold Summary: #Person1#은 #Person2#에게 거리에서 쇼핑 중 지갑을 잃어버렸다고 보고합니다. #Person2#는 단서가 발견되면 연락하기 위해 #Person1#의 비상 연락처를 요청합니다.\n",
      "\n",
      "====================================================================================================\n",
      "Dialogue:\n",
      "#Person1#: 이 전화기 사용법 좀 알려주실 수 있나요?\n",
      "#Person2#: 네, 도와드릴게요. 수화기를 들고 버튼 하나를 눌러보세요. 소리 들리시나요?\n",
      "#Person1#: 아니요, 아무 소리도 안 들려요.\n",
      "#Person2#: 그러면 다음으로 키패드에서 9번을 눌러보세요. 소리가 변해야 돼요. 소리 변하는 거 들으셨어요?\n",
      "#Person1#: 잘 모르겠어요.\n",
      "#Person2#: 알겠어요. 소리가 변하면 외부 전화선을 잡은 거예요. 누구에게 전화하려고 하세요?\n",
      "#Person1#: 고객에게 전화하려고 해요.\n",
      "#Person2#: 외부 번호로 전화하려면 이제 그 번호를 그대로 입력하면 돼요. 내부 전화는 내선 번호를 입력해야 해요. 내선 번호 목록 받으셨나요?\n",
      "#Person1#: 아니요, 아무도 내선 번호를 알려주지 않았어요.\n",
      "#Person2#: 도움이 필요할 때는 저기 벽 차트에 모든 내선 번호가 나와 있어요.\n",
      "\n",
      "Pred Summary: This dialogue is about a person who is trying to use a telephone and needs help from another person. The first person is having trouble hearing anything when they pick up the phone and press the button. The second person suggests pressing the 9 button on the keypad to change the sound, but the first person is still not sure what is happening. The second person then asks who the first person wants to call and explains that external numbers can be dialed by entering the number directly, while internal numbers require the extension number. The first person says they don't know the extension numbers and the second person suggests looking at the wall chart for the extension numbers.\n",
      "\n",
      "Gold Summary: #Person2#는 #Person1#에게 전화기를 사용하여 외부 및 내부 전화를 거는 방법을 설명합니다.\n",
      "\n",
      "====================================================================================================\n",
      "Dialogue:\n",
      "#Person1#: 복지 혜택에 대해 몇 가지 질문해도 될까요?\n",
      "#Person2#: 네, 말씀하세요.\n",
      "#Person1#: 매년 유급 휴가는 얼마나 되나요?\n",
      "#Person2#: 매년 10일 유급 휴가가 있습니다.\n",
      "#Person1#: 보험과 주택 정책은 어떻게 되나요?\n",
      "#Person2#: 생명 보험, 건강 보험, 상해 보험, 주택 혜택, 난방비와 교통비 지원이 제공됩니다.\n",
      "#Person1#: 보너스는 얼마나 자주 지급되나요?\n",
      "#Person2#: 매년 말에 보너스가 지급됩니다.\n",
      "#Person1#: 교육 기회는 있나요?\n",
      "#Person2#: 국내외에서 직원들에게 교육 기회를 제공합니다.\n",
      "#Person1#: 음, 지금으로서는 다른 질문은 없습니다. 최종 답변은 며칠 후에 드리겠습니다.\n",
      "#Person2#: 네, 그럼 제가 Lucy에게 이틀 후에 연락드리라고 하겠습니다.\n",
      "#Person1#: 네, 시간을 내주셔서 감사합니다.\n",
      "#Person2#: 천만에요.\n",
      "\n",
      "Pred Summary: This dialogue is between two people discussing the benefits of a job. The first person asks about the number of paid vacation days, insurance and housing policies, bonuses, and education opportunities. The second person provides the information and the first person says they will get back to them with a final answer in a few days. The second person says they will contact Lucy in two days. The first person thanks them for their time.\n",
      "\n",
      "Gold Summary: #Person1#은 #Person2#에게 복지 혜택에 대해 묻습니다. #Person2#는 유급 휴가, 보험 및 주택 정책, 보너스 지급 빈도, 교육 기회에 대해 설명합니다. #Person1#은 최종 답변을 곧 드리겠다고 합니다.\n",
      "\n",
      "====================================================================================================\n",
      "Dialogue:\n",
      "#Person1#: 저기요, 낚시할 만한 곳 좀 알려주실 수 있나요?\n",
      "#Person2#: 저도 낚시 좋아해요. 저는 주로 호수 근처에서 낚시해요.\n",
      "#Person1#: 오늘 낚시 가고 싶은데, 집에 낚싯대랑 줄을 두고 왔네요.\n",
      "#Person2#: 안타깝네요.\n",
      "\n",
      "Pred Summary: The user is asking for a place to fish and the other user suggests a spot near a lake. The user mentions that they left their fishing rod and line at home, to which the other user expresses sympathy.\n",
      "\n",
      "Gold Summary: #Person2#는 #Person1#에게 호수 근처에서 주로 낚시를 한다고 말하고, #Person1#는 낚싯대와 줄을 집에 두고 와서 낚시를 가기 어려움을 토로합니다.\n",
      "\n",
      "====================================================================================================\n",
      "Dialogue:\n",
      "#Person1#: 이 브로치 좀 보여주시겠어요?\n",
      "#Person2#: 네, 보여드릴게요.\n",
      "#Person1#: 이거 뭐로 만들어졌어요?\n",
      "#Person2#: 사파이어예요. 이 종류의 브로치는 하나밖에 없어요. 착용해 보실래요?\n",
      "#Person1#: 네, 착용해볼게요. 그런데 가격이 어떻게 되나요?\n",
      "#Person2#: 700위안이에요.\n",
      "#Person1#: 저한텐 좀 비싸네요.\n",
      "#Person2#: 이건 어떠세요? 500위안인데, 저거랑 같은 재질이에요.\n",
      "#Person1#: 정말이죠?\n",
      "#Person2#: 네, 우리 가게는 도시 전역에서 유명해서 모든 물건이 믿을 수 있어요.\n",
      "\n",
      "Pred Summary: #Person1#: Can you show me this brooch?\n",
      "#Person2#: Yes, I can.\n",
      "#Person1#: What is it made of?\n",
      "#Person2#: Sapphire. This kind of brooch is one of a kind. Would you like to try it on?\n",
      "#Person1#: Yes, I'd like to try it on. But how much is it?\n",
      "#Person2#: It's 700 yuan.\n",
      "#Person1#: That's a bit expensive for me.\n",
      "#Person2#: How about this one? It's 500 yuan, and it's made of the same material.\n",
      "#Person1#: Really?\n",
      "#Person2#: Yes, our store is famous throughout the city, so all our goods are trustworthy.\n",
      "\n",
      "Gold Summary: #Person1#이 사파이어 브로치를 좋아하지만 가격이 비쌉니다. #Person2#는 더 저렴하면서도 같은 재질의 다른 브로치를 추천합니다.\n",
      "\n",
      "====================================================================================================\n",
      "Dialogue:\n",
      "#Person1#: 저 혹시 해외로 출장 가서 가끔 미국에서 일할 수 있을까요?\n",
      "#Person2#: 네, 저희는 외국 자본 기업이라 해외에 갈 기회가 많습니다.\n",
      "#Person1#: 직원들을 위한 추가 학습을 위한 연수 프로그램이 있나요?\n",
      "#Person2#: 물론입니다. 저희는 직원의 전반적인 개발을 매우 중요시하고, 개인의 발전이 그들이 더 열심히 그리고 효율적으로 일하도록 동기를 부여한다고 생각합니다.\n",
      "\n",
      "Pred Summary: #Person1#: Can I work in the US sometimes on business trips?\n",
      "#Person2#: Yes, we are a foreign capital company so we have a lot of opportunities to go abroad.\n",
      "#Person1#: Is there a training program for employees?\n",
      "#Person2#: Of course. We value the overall development of our employees and believe that personal development motivates them to work harder and more efficiently.\n",
      "\n",
      "Gold Summary: #Person2#는 #Person1#에게 해외 출장 기회와 직원 교육 연수 프로그램에 대해 설명합니다.\n",
      "\n",
      "====================================================================================================\n",
      "Dialogue:\n",
      "#Person1#: 나 학교 어디로 지원할지 고민하고 있어. \n",
      "#Person2#: 공립학교 생각하는 거야, 아니면 사립학교? \n",
      "#Person1#: 잘 모르겠어. 둘 사이에 뭐가 다른 거야? \n",
      "#Person2#: 공립학교는 보통 국가 지원으로 운영되고, 사립학교는 주로 다른 자금원에서 지원받아. \n",
      "#Person1#: 뭐가 더 좋아? \n",
      "#Person2#: 뭐가 더 좋다고 딱히 단정 짓기는 어려워. 학교 운영이나 교사들에 따라 많이 달라. \n",
      "#Person1#: 사립학교는 교복 입어야 한다고 들었어. \n",
      "#Person2#: 응, 가끔 그래.\n",
      "\n",
      "Pred Summary: #Person1#: I'm thinking about where to apply for school. \n",
      "#Person2#: Are you considering public or private? \n",
      "#Person1#: I'm not sure. What's the difference? \n",
      "#Person2#: Public schools are usually funded by the government, while private schools are mostly funded by other sources. \n",
      "#Person1#: Which one is better? \n",
      "#Person2#: It's hard to say which one is better. It depends on the school and the teachers. \n",
      "#Person1#: I heard private schools have uniforms. \n",
      "#Person2#: Yeah, sometimes.\n",
      "\n",
      "Gold Summary: #Person1#은 어느 학교에 지원할지 고민하고 있으며, #Person2#는 공립학교와 사립학교의 차이점을 설명합니다.\n",
      "\n",
      "====================================================================================================\n",
      "Dialogue:\n",
      "#Person1#: Mr. King, 제가 도와드릴 일 있나요?\n",
      "#Person2#: 내일 아침에 상하이로 떠납니다. 계산은 언제 해야 하나요?\n",
      "#Person1#: 오늘 저녁에 계산하셔도 괜찮으신가요?\n",
      "#Person2#: 괜찮습니다. 돈은 어디 가서 내야 하나요?\n",
      "#Person1#: 저희 호텔 로비에 있는 수납 데스크에서 하시면 됩니다.\n",
      "#Person2#: 저녁식사 전까지 계산서 준비해 주시겠어요?\n",
      "#Person1#: 알겠습니다. 동행하신 분도 상하이로 함께 가시나요?\n",
      "#Person2#: 아니요, 그는 이곳에 이틀 더 머물 예정입니다. 방은 계속 사용할 수 있게 해주세요.\n",
      "#Person1#: 한 장으로 계산서를 준비할까요, 아니면 두 개로 나눌까요?\n",
      "#Person2#: 두 개로 나눠 주세요.\n",
      "#Person1#: 알겠습니다. 저녁에 계산서 준비해 드리겠습니다.\n",
      "#Person2#: 여섯 시쯤에 계산서 받을 수 있을까요?\n",
      "#Person1#: 문제없습니다. 그런데 저희 호텔에 대해 의견이 있으신가요?\n",
      "#Person2#: 여기서 편안하게 지냈습니다. 서비스가 훌륭하네요. 아주 만족합니다.\n",
      "#Person1#: 칭찬 감사합니다. 언제든 다시 오십시오.\n",
      "#Person2#: 네, 그럴게요.\n",
      "\n",
      "Pred Summary: Dialogue:\n",
      "#Person1#: Mr. King, is there anything I can help you with?\n",
      "#Person2#: I'm leaving for Shanghai tomorrow morning. When should I settle the bill?\n",
      "#Person1#: Would it be okay if you settle it tonight?\n",
      "#Person2#: That's fine. Where do I need to pay?\n",
      "#Person1#: You can pay at the cashier's desk in the hotel lobby.\n",
      "#Person2#: Can you prepare the bill before dinner?\n",
      "#Person1#: Sure. Are you traveling with someone else?\n",
      "#Person2#: No, he's staying here for two more days. Please keep his room.\n",
      "#Person1#: Would you like to have one bill or two?\n",
      "#Person2#: Two, please.\n",
      "#Person1#: Okay. I'll prepare the bill tonight.\n",
      "#Person2#: Can I get the bill around 6:00?\n",
      "#Person1#: No problem. Do you have any comments about our hotel?\n",
      "#Person2#: I had a comfortable stay here. The service is excellent. I'm very satisfied.\n",
      "#Person1#: Thank you for the compliment. Please come again anytime.\n",
      "#Person2#: Yes, I will.\n",
      "\n",
      "Gold Summary: Mr. King은 상하이로 떠날 예정이며, 오늘 저녁에 호텔 요금을 지불할 예정입니다. #Person1#는 여섯 시쯤에 계산서를 준비할 것입니다. Mr. King은 호텔 서비스에 만족하고 있습니다.\n",
      "\n",
      "====================================================================================================\n",
      "Dialogue:\n",
      "#Person1#: 앨리스, 무슨 일이야?\n",
      "#Person2#: 죄송해요, Mr. Harrison. 기차를 놓쳤어요.\n",
      "#Person1#: 왜 기차를 놓친 거야?\n",
      "#Person2#: 집에서 조금 늦게 나왔거든요.\n",
      "#Person1#: 늦잠이라도 잔 거야?\n",
      "#Person2#: 아니요. 마지막 순간에 이모가 전화를 하셔서요.\n",
      "#Person1#: 아침에는 전화하지 말라고 해.\n",
      "#Person2#: 알겠어요, Mr. Harrison. 늦어서 정말 죄송해요.\n",
      "#Person1#: 또 늦으면 이번 수업 통과 못 해.\n",
      "#Person2#: 아, 제발요.\n",
      "\n",
      "Pred Summary: #Person1#: Alice, what happened?\n",
      "#Person2#: Sorry, Mr. Harrison. I missed the train.\n",
      "#Person1#: Why did you miss the train?\n",
      "#Person2#: I left home a little late.\n",
      "#Person1#: Did you sleep in?\n",
      "#Person2#: No. My aunt called me at the last minute.\n",
      "#Person1#: Don't call me in the morning.\n",
      "#Person2#: Okay, Mr. Harrison. I'm really sorry I'm late.\n",
      "#Person1#: If you're late again, you won't pass this class.\n",
      "#Person2#: Oh, please.\n",
      "\n",
      "Gold Summary: 앨리스는 기차를 놓쳐서 수업에 늦었습니다. Mr. Harrison은 다시 늦으면 수업을 통과하지 못할 것이라고 말했습니다.\n",
      "\n",
      "====================================================================================================\n",
      "Dialogue:\n",
      "#Person1#: 너 여가 시간에 뭐 하는 거 좋아해?\n",
      "#Person2#: 나는 사람들과 어울리는 걸 좋아해. 지난 주말엔 일본 친구네 집에 다녀왔어. 너는?\n",
      "#Person1#: 나는 방에서 책 읽고 글 쓰고 혼자 있는 걸 좋아해.\n",
      "#Person2#: 아, 갑자기 중요한 게 생각났어. 너 글 쓰는 거 좋아한다고 했지? 런던에서 보고 들은 걸로 글 하나 써줄 수 있어? 네가 하고 싶은 대로 써도 돼.\n",
      "#Person1#: 진짜로 내 글 읽고 싶어?\n",
      "#Person2#: 내가 아니라 잡지 편집자가 읽고 싶어 해.\n",
      "#Person1#: 그 편집자가 누구야?\n",
      "#Person2#: 우리 아버지야. 아버지가 네가 영국에서 영어 공부하고 왔다는 걸 들으셨거든. 영국 문화에 대한 네 생각을 듣고 싶어 하셔.\n",
      "#Person1#: 너랑 아버지께 정말 고마워. 최선을 다할게. 근데 알다시피 내 영어 실력이 좋진 않아서...\n",
      "#Person2#: 걱정하지 마. 아버지가 수정 도와주실 거야.\n",
      "\n",
      "Pred Summary: #Person1#: What do you like to do in your free time?\n",
      "#Person2#: I like to hang out with people. Last weekend I went to my Japanese friend's house. What about you?\n",
      "#Person1#: I like to stay in my room and read and write.\n",
      "#Person2#: Oh, I just remembered something important. You said you like to write, right? Would you be willing to write an article about London for me? You can write whatever you want.\n",
      "#Person1#: Are you really interested in reading my writing?\n",
      "#Person2#: Not me, but the editor of a magazine is.\n",
      "#Person1#: Who is the editor?\n",
      "#Person2#: My dad. He heard that you studied English in England. He wants to read your thoughts about British culture.\n",
      "#Person1#: Thank you so much for this opportunity. I'll do my best, but as you know, my English isn't very good.\n",
      "#Person2#: Don't worry. My dad will help you edit it.\n",
      "\n",
      "Gold Summary: #Person1#과 #Person2#는 취미에 대해 이야기하던 중에, #Person2#가 #Person1#이 글을 좋아한다고 언급합니다. #Person2#의 아버지는 잡지 편집자로서 #Person1#의 영국 문화에 대한 관점을 담은 글을 읽고 싶어 합니다.\n",
      "\n",
      "====================================================================================================\n",
      "Dialogue:\n",
      "#Person1#: 안녕하세요, 롤링님. 처음 글을 쓰기 시작했을 때 몇 살이셨어요? 첫 번째 책은 무엇이었나요?\n",
      "#Person2#: 제가 여섯 살쯤 처음 책을 썼어요. 작은 호랑이에 대한 이야기였죠. 그 이후로 계속 글을 쓰고 있어요.\n",
      "#Person1#: 작가가 되기로 선택하신 이유가 있나요?\n",
      "#Person2#: 음, 행복을 찾으려면 먼저 가장 사랑하는 일을 찾아야 한다고 생각해요. 그다음에는 그 일을 하면서 돈을 받을 수 있는 사람을 찾는 거죠. 저는 글을 써서 생계를 유지하는 데 매우 운이 좋다고 생각해요.\n",
      "#Person1#: 성인을 위한 책을 쓸 계획이 있으신가요?\n",
      "#Person2#: 아마도 쓸 수도 있겠지만, 글을 쓸 때 특정한 독자층을 상상하지 않아요. 아이디어가 먼저예요. 그래서 다음에는 어떤 아이디어가 저를 사로잡을지에 달려 있어요.\n",
      "#Person1#: 해리 포터 책에 대한 아이디어는 어디서 오신 건가요?\n",
      "#Person2#: 어디서 아이디어가 왔는지는 잘 모르겠어요. 그리고 그걸 굳이 찾고 싶지 않아요. 흥미를 잃을까 봐요.\n",
      "\n",
      "Pred Summary: #Person1#: Hello, Rowling. How old were you when you first started writing? What was your first book?\n",
      "#Person2#: I was about six when I first wrote a book. It was about a little dragon. I've been writing ever since.\n",
      "#Person1#: Is there a reason you chose to become a writer?\n",
      "#Person2#: Well, I think you have to find what you love before you can find happiness. Then you have to find a way to get paid for doing it. I feel very lucky to make a living writing.\n",
      "#Person1#: Do you plan to write books for adults?\n",
      "#Person2#: I might, but I don't think about a specific audience when I write. Ideas come first. So it depends on what idea will grab me next.\n",
      "#Person1#: Where did you get the idea for the Harry Potter books?\n",
      "#Person2#: I'm not sure where the ideas come from, and I don't want to think about it too much. I might lose my inspiration.\n",
      "\n",
      "Gold Summary: 롤링은 작가로서의 경험과 해리 포터 시리즈의 아이디어에 대해 이야기합니다.\n",
      "\n",
      "====================================================================================================\n",
      "Dialogue:\n",
      "#Person1#: 보자... 바지 두 벌, 여성 드레스 한 벌하고 남성 코트 한 벌이네요.\n",
      "#Person2#: 이 스포츠 셔츠도요. 모두 세탁하고 다림질해야 해요. 언제 준비될까요?\n",
      "#Person1#: 일요일 아침이면 괜찮으세요?\n",
      "#Person2#: 음... 네, 그런데 그 코트는 더 빨리 필요해요.\n",
      "#Person1#: 빠른 서비스를 제공하고 있어요. 추가 요금은 15%입니다.\n",
      "#Person2#: 언제 준비되나요?\n",
      "#Person1#: 내일 오후에요. 네 시 이후 아무 때나 오시면 됩니다.\n",
      "#Person2#: 몇 시까지 영업하시나요?\n",
      "#Person1#: 저녁 9시까지 영업합니다.\n",
      "#Person2#: 좋아요. 그러면 퇴근하고 충분히 시간에 맞출 수 있겠네요.\n",
      "#Person1#: 알겠습니다. 코트는 네 시 이후 아무 때나 찾으러 오시면 돼요.\n",
      "#Person2#: 좋아요. 고맙습니다.\n",
      "\n",
      "Pred Summary: The dialogue is about a customer who is dropping off clothes to be cleaned and pressed. The customer has a dress, a pair of pants, a coat, and a sports shirt to be cleaned. The customer asks when the clothes will be ready and is told that they will be ready by Sunday morning. The customer then asks about the coat and is told that it can be ready by tomorrow afternoon. The customer asks about the closing time and is told that the business closes at 9 pm. The customer thanks the person and is told that the coat can be picked up anytime after 4 pm.\n",
      "\n",
      "Gold Summary: #Person2#는 몇 벌의 옷을 #Person1#의 가게에 맡기며 세탁과 다림질을 요청합니다. #Person2#는 코트를 더 빨리 받아야 하므로 빠른 서비스를 이용합니다.\n",
      "\n",
      "====================================================================================================\n",
      "Dialogue:\n",
      "#Person1#: 저기요, 오늘 오후에 뉴욕 가는 비행기 있나요?\n",
      "#Person2#: 죄송하지만, 컴퓨터가 다운돼서 티켓 판매가 불가능해요.\n",
      "#Person1#: 컴퓨터가 다운된 거면, 그냥 티켓 작성해주시면 안 되나요?\n",
      "#Person2#: 죄송하지만, 그럴 수가 없습니다. 모든 것이 컴퓨터에 의존하고 있어요.\n",
      "#Person1#: 음... 그럼 당신들은 뭘 하는 거죠?\n",
      "#Person2#: 저희는 고객님의 여행 정보를 컴퓨터에 입력하고, 컴퓨터가 탑승 가능 여부를 알려줘야 합니다.\n",
      "#Person1#: 그러니까 컴퓨터가 멈추면 당신들도 멈추는 거군요.\n",
      "#Person2#: 정말 죄송합니다, 손님. 제가 할 수 있는 게 없습니다.\n",
      "#Person1#: 컴퓨터가 얼마나 다운될 것 같나요?\n",
      "#Person2#: 죄송하지만 모르겠습니다. 가끔은 10분이면 되고, 때로는 두 시간 걸리기도 해요. 지금은 컴퓨터가 다운돼서 알 방법이 없어요.\n",
      "#Person1#: 그렇다면 컴퓨터 얘긴 하지 맙시다. 몇 시간 내에 뉴욕 가는 다른 항공사 없나요?\n",
      "#Person2#: 제가 확인할 수가 없네요. 모든 정보가 컴퓨터에 있는데, 지금은 접근할 수 없습니다.\n",
      "\n",
      "Pred Summary: The computer is down, so the agent cannot sell tickets. The agent cannot write the tickets by hand because everything is computerized. The agent cannot check for other flights because all the information is on the computer.\n",
      "\n",
      "Gold Summary: #Person1#은 오늘 오후 뉴욕행 항공권을 원하지만, 컴퓨터가 다운되어 #Person2#는 티켓을 발급할 수 없는 상황입니다.\n",
      "\n",
      "====================================================================================================\n",
      "Dialogue:\n",
      "#Person1#: 안녕, Gary. 파란 코트를 입으니까 정말 멋있어 보여!\n",
      "#Person2#: 고마워, 그렇게 말해줘서 정말 기뻐.\n",
      "#Person1#: 새 코트가 정말 마음에 드는데, 어디서 샀어?\n",
      "#Person2#: 저기 셔츠부터 스커트, 재킷까지 다양하게 있는 백화점에서 샀어.\n",
      "#Person1#: 아, 그 가게 알지. 거기 옷은 나한테 좀 비싸던데. 얼마 줬어?\n",
      "#Person2#: 판매원이 90달러를 부르더라고.\n",
      "#Person1#: 그래서, 결국 얼마에 샀어?\n",
      "#Person2#: 가격을 절반으로 깎았어.\n",
      "#Person1#: 와, 정말 잘했네! 나도 그 가게에서 멋진 모자를 보고 있는데, 나한테도 가격 좀 깎아줄 수 있을까?\n",
      "#Person2#: 확실하진 않지만, 한번 시도해볼게.\n",
      "#Person1#: 그럼, 정말 고마워.\n",
      "\n",
      "Pred Summary: This program translates all the Korean sentences into English.\n",
      "\n",
      "Dialogue:\n",
      "#Person1#: Hi, Gary. You look really nice in that blue coat!\n",
      "#Person2#: Thanks, I'm really glad you said that.\n",
      "#Person1#: I really like your new coat, where did you buy it?\n",
      "#Person2#: I bought it at a department store that has everything from shirts to skirts to jackets.\n",
      "#Person1#: Oh, I know that store. Their clothes are a little expensive for me. How much did you pay for it?\n",
      "#Person2#: The salesperson asked for $90.\n",
      "#Person1#: So, how much did you end up paying for it?\n",
      "#Person2#: I got it for half price.\n",
      "#Person1#: Wow, you really got a good deal! I'm looking at a nice hat at that store, do you think you can get them to give me a discount?\n",
      "#Person2#: I'm not sure, but I'll try.\n",
      "#Person1#: Thanks, I really appreciate it.\n",
      "\n",
      "Gold Summary: Gary는 새 파란 코트를 절반 가격에 구매한 경험을 #Person1#에게 이야기하고, #Person1#은 비슷한 방식으로 모자의 가격을 깎을 수 있는지 문의합니다.\n",
      "\n",
      "====================================================================================================\n",
      "Dialogue:\n",
      "#Person1#: 인생이나 학업에서 처벌받은 적이 있나요?\n",
      "#Person2#: 네, 한 번 있었어요.\n",
      "#Person1#: 이유가 뭐였죠?\n",
      "#Person2#: 대학 시절에 수업을 빠졌는데, 그때 쓰촨 재난 지역을 위한 기부 활동을 조직하고 있었거든요.\n",
      "\n",
      "Pred Summary: #Person1#: Have you ever been punished in life or in your studies?\n",
      "#Person2#: Yes, I have.\n",
      "#Person1#: What was the reason?\n",
      "#Person2#: When I was in college, I skipped class once, but I was organizing a fundraising event for the Sichuan disaster area.\n",
      "\n",
      "Gold Summary: #Person2#는 대학 시절 기부 활동을 위해 수업을 빠진 적이 있어 처벌받은 경험을 #Person1#에게 이야기합니다.\n",
      "\n",
      "====================================================================================================\n",
      "Dialogue:\n",
      "#Person1#: 나 쇼핑 좀 해야 해. \n",
      "#Person2#: 뭐 사려고? \n",
      "#Person1#: 새 침실 세트를 좀 사려고. \n",
      "#Person2#: 어느 가게 갈 거야? \n",
      "#Person1#: 잘 모르겠어. 어디서 찾아야 할지 전혀 모르겠어. \n",
      "#Person2#: 내가 어디서 샀는지 알려줄까? \n",
      "#Person1#: 고마워. \n",
      "#Person2#: 나는 IKEA에서 샀어. \n",
      "#Person1#: IKEA 가구는 비싸? \n",
      "#Person2#: 엄청 싸지는 않지만, 품질도 나쁘지 않아.\n",
      "\n",
      "Pred Summary: #Person1# wants to buy a new bedroom set. #Person2# suggests IKEA.\n",
      "\n",
      "Gold Summary: #Person1#은 새 침실 세트를 구매하려고 하고, #Person2#는 IKEA에서 구입한 경험을 공유합니다.\n",
      "\n",
      "====================================================================================================\n",
      "Dialogue:\n",
      "#Person1#: 릴리, 뭐 하고 있어? \n",
      "#Person2#: 누구 기다리고 있어. \n",
      "#Person1#: MSN에서 만난 남자애 얘기하는 거야? \n",
      "#Person2#: 응, 맞아. 걔 진짜 웃긴데, 나 걔한테 빠진 것 같아. \n",
      "#Person1#: 설마 농담이지? 만나보지도 않고 누군가를 좋아할 수는 없어! \n",
      "#Person2#: 알지, 근데 하루 종일 걔 생각만 나. 걔가 온라인에 없으면 정말 우울해져. \n",
      "#Person1#: 난 그거 그냥 풋사랑이라고 생각해. 진지한 감정은 아닐 것 같아. \n",
      "#Person2#: 글쎄, 이런 게 바보 같긴 해. 그래도 머릿속에서 걔를 지울 수가 없어. 보고 싶어. \n",
      "#Person1#: 걔한테 그런 얘기 했어? \n",
      "#Person2#: 응, 걔가 나한테 꿈의 여자라고 했어. \n",
      "#Person1#: 너무 진지하게 받아들이지 마. 그 말이 거짓말일 수도 있어. \n",
      "#Person2#: 나도 알아. 걔가 진심인지 아닌지 몰라서 너한테 조언 구하는 거야. \n",
      "#Person1#: 내 생각엔 현실 친구들을 더 많이 사귀어 봐. 그러면 더 적절한 사람이 나타날 거야.\n",
      "\n",
      "Pred Summary: Lily is waiting for a guy she met on MSN. She thinks he is funny and she might be falling for him. Her friend thinks it is just a crush and she should not take it seriously.\n",
      "\n",
      "Gold Summary: 릴리는 #Person1#에게 MSN에서 만난 남자에게 빠졌다고 한다. #Person1#은 릴리에게 너무 진지하게 생각하지 말고 현실 친구들을 더 많이 사귀라고 조언한다.\n",
      "\n",
      "====================================================================================================\n",
      "Dialogue:\n",
      "#Person1#: Gordon, 정말 늦었네.\n",
      "#Person2#: 네, 죄송해요. 버스를 놓쳤어요.\n",
      "#Person1#: 하지만 10분마다 버스가 오잖아, 이미 한 시간 넘게 늦었잖아.\n",
      "#Person2#: 그게, 버스를 몇 대 놓쳤어요.\n",
      "#Person1#: 도대체 어떻게 몇 대나 놓칠 수가 있어?\n",
      "#Person2#: 저, 그게... 늦잠 잤어요.\n",
      "#Person1#: 어이쿠, Gordon, 지금 오후야. 도대체 왜 늦은 건데?\n",
      "#Person2#: 그게, 지갑을 잃어버려서요, 그리고...\n",
      "#Person1#: 이제 찾았어?\n",
      "#Person2#: 네, 다시 찾았어요.\n",
      "#Person1#: 언제?\n",
      "#Person2#: 오늘 아침에. 그러니까...\n",
      "#Person1#: 네 변명, 확신이 안 가.\n",
      "\n",
      "Pred Summary: Gordon, you’re really late.\n",
      "Yes, I’m sorry. I missed the bus.\n",
      "But there’s a bus every 10 minutes, you’re already over an hour late.\n",
      "Well, I missed a few buses.\n",
      "How could you miss so many buses?\n",
      "Well, I overslept.\n",
      "Oh, Gordon, it’s the afternoon. What time did you wake up?\n",
      "Well, I lost my wallet, and...\n",
      "Did you find it?\n",
      "Yes, I found it again.\n",
      "When?\n",
      "This morning. So...\n",
      "I don’t believe your excuse.\n",
      "\n",
      "Gold Summary: Gordon이 한 시간 넘게 늦었고 여러 가지 변명을 하지만 #Person1#은 전혀 믿지 않는다.\n",
      "\n",
      "====================================================================================================\n",
      "Dialogue:\n",
      "#Person1#: 편하게 있어. 네가 언제든 올 수 있도록 내 집은 항상 열려 있어.\n",
      "#Person2#: 너 보기를 정말 기대하고 있었어.\n",
      "#Person1#: 뭐 마실래?\n",
      "#Person2#: 그냥 탄산음료 한 잔만 부탁할게.\n",
      "#Person1#: 다음 달에 뭐 할 계획이야?\n",
      "#Person2#: 유럽에 가볼까 생각 중이야.\n",
      "#Person1#: 정말? 거기서 뭐 할 거야?\n",
      "#Person2#: 아, 그냥 잠깐 여행 다닐 생각이야.\n",
      "#Person1#: 운 좋다!\n",
      "\n",
      "Pred Summary: #Person1#: Take it easy. My house is always open for you to come over whenever you want.\n",
      "#Person2#: I was really looking forward to seeing you.\n",
      "#Person1#: What would you like to drink?\n",
      "#Person2#: I'll just have a can of soda, please.\n",
      "#Person1#: What are your plans for next month?\n",
      "#Person2#: I'm thinking about going to Europe.\n",
      "#Person1#: Really? What are you going to do there?\n",
      "#Person2#: Oh, just travel around for a while.\n",
      "#Person1#: Lucky you!\n",
      "\n",
      "Gold Summary: #Person2#는 #Person1#의 집에 방문하여 편하게 대화를 나눕니다. #Person2#는 다음 달에 유럽으로 여행을 갈 계획이라고 말합니다.\n",
      "\n",
      "====================================================================================================\n",
      "Dialogue:\n",
      "#Person1#: 왜 선생님이 되고 싶으세요?\n",
      "#Person2#: 오랫동안 꿈꿔온 직업이라서요. 어렵긴 하지만, 이보다 더 보람 있는 일은 없다고 확신해요.\n",
      "#Person1#: 우리 학교에 대해 알고 있나요?\n",
      "#Person2#: 네, 조금 압니다. 이 학교가 이 마을에서 가장 유명한 학교 중 하나라고 알고 있어요. 학생이 약 200명 정도라고 들었어요.\n",
      "\n",
      "Pred Summary: #Person1#: Why do you want to be a teacher?\n",
      "#Person2#: It's a career I've wanted for a long time. It's hard, but I'm confident there's no other job that's more rewarding.\n",
      "#Person1#: Do you know anything about our school?\n",
      "#Person2#: Yes, I know a little bit. I know it's one of the most famous schools in the village. I heard there are about 200 students.\n",
      "\n",
      "Gold Summary: #Person2#는 교사가 되는 것이 오랫동안 꿈꿔온 직업이기 때문에 되고 싶어합니다.\n",
      "\n",
      "====================================================================================================\n",
      "Dialogue:\n",
      "#Person1#: 나 요즘 직장에서 너무 힘들어. \n",
      "#Person2#: 무슨 일이야? \n",
      "#Person1#: 동료들은 승진이 빠른데, 나는 항상 밀려나는 것 같아. 이제 뭘 해야 할지 모르겠어. \n",
      "#Person2#: 너무 금방 포기하지 마. \n",
      "#Person1#: 하지만 내가 뭘 더 할 수 있을지 모르겠어. 열심히 일할 마음은 있는데 가끔 실수도 하고, 그러면 상사가 싫어하잖아. \n",
      "#Person2#: 실수는 그저 배울 수 있는 기회야. \n",
      "#Person1#: 그 말을 우리 상사한테 해봐. \n",
      "#Person2#: Abraham Lincoln 알아? \n",
      "#Person1#: 응, 알아. \n",
      "#Person2#: 그는 Kentucky에서 가난하게 자랐고 학창 시절도 거의 안 보냈는데, 미국 대통령이 됐잖아. \n",
      "#Person1#: 그는 또한 그의 신념 때문에 암살당했어. \n",
      "#Person2#: 하지만 그는 미국의 가장 위대한 대통령으로 알려졌어. 다른 사람들이 두려워 아무것도 못할 때 노예제 반대와 분리 위기에 맞섰기 때문이야. 그의 성공은 결단력과 넉넉한 마음 덕분이었어. \n",
      "#Person1#: 그렇다면, 그가 대통령이 될 수 있었다면, 나도 승진할 수 있겠지. \n",
      "#Person2#: 그거야말로 진짜 정신이지. 꿈을 포기하지 마.\n",
      "\n",
      "Pred Summary: #Person1# is having a hard time at work. #Person2# encourages #Person1# to not give up. #Person2# compares #Person1# to Abraham Lincoln, who was a great president despite his humble beginnings. #Person1# is inspired to not give up on his dreams.\n",
      "\n",
      "Gold Summary: 직장에서 어려움을 겪고 있는 사람에게 #Person2#가 Lincoln의 사례를 들며 포기하지 말라고 격려한다.\n",
      "\n",
      "====================================================================================================\n",
      "Dialogue:\n",
      "#Person1#: 어떤 언어 공부해? \n",
      "#Person2#: 응, 외국어학부에서 공부해. \n",
      "#Person1#: 전공이 뭐야? \n",
      "#Person2#: 영어 전공이야. \n",
      "#Person1#: 배우기 어렵지 않아? \n",
      "#Person2#: 응, 언어 배우는 게 어렵긴 한데 재밌어. \n",
      "#Person1#: 영국이나 미국에 대해 아는 거 있어? \n",
      "#Person2#: 두 나라에 관한 책을 많이 읽고 있어. 문화가 좋더라. \n",
      "#Person1#: 맞아. 언어를 잘 배우려면 그 나라 문화도 배우는 게 중요하지. \n",
      "#Person2#: 맞아.\n",
      "\n",
      "Pred Summary: #Person1#: What language are you studying? \n",
      "#Person2#: Yes, I'm studying at the School of Foreign Languages. \n",
      "#Person1#: What's your major? \n",
      "#Person2#: I'm majoring in English. \n",
      "#Person1#: Is it hard to learn? \n",
      "#Person2#: Yes, it's hard to learn a language, but it's fun. \n",
      "#Person1#: Do you know anything about the UK or the US? \n",
      "#Person2#: I'm reading a lot of books about those countries. Their culture is great. \n",
      "#Person1#: That's right. It's important to learn the culture of a country when you're learning its language. \n",
      "#Person2#: Yes, that's right.\n",
      "\n",
      "Gold Summary: #Person2#는 영어를 전공하고 있으며, #Person1#은 언어를 잘 배우기 위해서는 그 나라의 문화를 배우는 것이 중요하다고 한다.\n",
      "\n",
      "====================================================================================================\n",
      "Dialogue:\n",
      "#Person1#: 병원에 다녀온 거 어땠어?\n",
      "#Person2#: 괜찮았어. 의사 선생님이 대체로 건강하다고 하셨어. 근데 가끔 잠을 못 잔다고 했더니 수면제를 권하시더라.\n",
      "#Person1#: 그래서 먹었어?\n",
      "#Person2#: 아니, 그게 건강에 나쁠까 봐 겁나.\n",
      "#Person1#: 그럼 어떻게 할 거야?\n",
      "#Person2#: 심리상담을 받아보려고. 혹시 불안감이 많아서 못 자는 걸지도 몰라. 누군가에게 얘기하는 게 도움이 될 수도 있고.\n",
      "#Person1#: 나도 예전에 잠이 안 와서 몇 가지 해봤는데 도움됐어. 아침에 밖에서 운동하면 하루 종일 마음이 편해지더라고. 그리고 저녁 8시 이후에 핸드폰이나 컴퓨터를 안 쓰니까 10시에 쉽게 잠들 수 있었어.\n",
      "#Person2#: 좋은 조언이네. 심리상담 받기 전에 먼저 해봐야겠다.\n",
      "#Person1#: 그래, 한번 시도해봐.\n",
      "\n",
      "Pred Summary: The person is talking about their recent visit to the doctor and how the doctor prescribed sleeping pills. The other person suggests trying to sleep without the pills and offers some tips for improving sleep quality. The first person agrees to try the tips before going to a psychologist.\n",
      "\n",
      "Gold Summary: #Person2#는 가끔 잠을 잘 못 자서 심리상담을 받을 예정입니다. #Person1#이 #Person2#가 시도해볼 만한 좋은 제안들을 합니다.\n",
      "\n",
      "====================================================================================================\n",
      "Dialogue:\n",
      "#Person1#: 비행기 예약을 해야 해요. \n",
      "#Person2#: 바로 예약해 드릴 수 있어요. 목적지가 어디신가요? \n",
      "#Person1#: 뉴욕 시로 가야 해요. \n",
      "#Person2#: 몇 월 며칠에 표를 끊어드릴까요? \n",
      "#Person1#: 7월 4일 비행기로 해야 해요. \n",
      "#Person2#: 로스앤젤레스 국제공항이나 버뱅크 공항에서 출발할 수 있어요. 어느 쪽을 선호하시나요? \n",
      "#Person1#: 가장 저렴한 공항으로 가겠습니다. \n",
      "#Person2#: 선택할 수 있다면, 오전과 오후 중 어느 시간대를 원하시나요? \n",
      "#Person1#: 오후 비행기를 예약하고 싶어요. \n",
      "#Person2#: 오후 비행기로 예약 완료했습니다. 티켓은 3일 이내에 우편으로 도착할 거예요.\n",
      "\n",
      "Pred Summary: #Person1#: I need to book a flight. \n",
      "#Person2#: I can book it for you right now. Where is your destination? \n",
      "#Person1#: I need to go to New York City. \n",
      "#Person2#: What date would you like to book for? \n",
      "#Person1#: I need it for July 4th. \n",
      "#Person2#: You can fly out of Los Angeles International Airport or Burbank Airport. Which one do you prefer? \n",
      "#Person1#: I'll take the cheapest one. \n",
      "#Person2#: If you have a choice, would you prefer morning or afternoon flight? \n",
      "#Person1#: I'd like to book an afternoon flight. \n",
      "#Person2#: Your flight has been booked for the afternoon. Your tickets will be mailed to you within 3 days.\n",
      "\n",
      "Gold Summary: #Person1#은 #Person2#의 도움을 받아 7월 4일 뉴욕 시로 가는 오후 비행기 표를 예약했습니다.\n",
      "\n",
      "====================================================================================================\n",
      "Dialogue:\n",
      "#Person1#: 안녕, 지금 어디서 일해?\n",
      "#Person2#: 의류 공장에서 일하고 있는데, 다른 일자리 알아보고 있어.\n",
      "#Person1#: 정말? 왜?\n",
      "#Person2#: 6년 넘게 일했는데 집을 살 수가 없어서.\n",
      "#Person1#: 일은 마음에 들고 사람들도 좋아?\n",
      "#Person2#: 응, 일이랑 사람들 다 좋아.\n",
      "#Person1#: 그러면 일을 계속하면서 대출을 알아보는 건 어때?\n",
      "#Person2#: 대출 신청하기 복잡하지 않아?\n",
      "#Person1#: 전혀 안 복잡해. 근데 몇 가지 고려할 게 있어.\n",
      "#Person2#: 그게 뭐야?\n",
      "#Person1#: 이자율, 은행 평판, 대출 기간. 제일 서비스 좋고 이자율 낮은 은행을 찾아봐.\n",
      "#Person2#: 아, 좋은 생각이야. 고마워.\n",
      "\n",
      "Pred Summary: #Person1#: Hey, where do you work now?\n",
      "#Person2#: I work at a clothing factory, but I'm looking for a different job.\n",
      "#Person1#: Really? Why?\n",
      "#Person2#: I've been working here for over 6 years and I still can't afford to buy a house.\n",
      "#Person1#: Do you like the job and the people?\n",
      "#Person2#: Yes, I like the job and the people.\n",
      "#Person1#: So why don't you keep working and look into getting a loan?\n",
      "#Person2#: Isn't it complicated to apply for a loan?\n",
      "#Person1#: Not at all. But there are a few things to consider.\n",
      "#Person2#: What are they?\n",
      "#Person1#: Interest rates, bank reputation, loan duration. Find the bank with the best service and lowest interest rates.\n",
      "#Person2#: Oh, that's a good idea. Thanks.\n",
      "\n",
      "Gold Summary: #Person2#는 직장은 마음에 들지만 집을 살 수 없어 다른 일자리를 찾으려고 합니다. #Person1#은 #Person2#에게 대출 신청을 권합니다.\n",
      "\n",
      "====================================================================================================\n",
      "Dialogue:\n",
      "#Person1#: 어젯밤에 이 노래 썼어. 요새 창의력이 막 샘솟아. \n",
      "#Person2#: 흥미로웠어. 벌에 대한 노래는 처음 들어봐. \n",
      "#Person1#: 어젯밤엔 그냥 꽃 주변에서 윙윙거리는 벌을 생각했어. 그래서 기타를 잡고 곡을 쓰기 시작했지. \n",
      "#Person2#: 너 노래 많이 있을 것 같은데. \n",
      "#Person1#: 맞아, 며칠 전에 바다에 대한 것도 썼어. 그리고 양말, 우리 엄마, 사과 따기 등등 다른 주제로도 많아. 이걸 앨범에 전부 넣을까 해. \n",
      "#Person2#: 좋은 생각이야. \n",
      "#Person1#: 아마도 정말 유명해져서 투어도 갈지도 몰라. 같이 밴드 할래? \n",
      "#Person2#: 글쎄, 내 스타일은 너랑 좀 다른데. 너의 노래는 정말 밝고 경쾌하더라고. \n",
      "#Person1#: 나도 슬픈 노래 있어. 우리가 팀을 이룬다면 정말 좋을 것 같아. 나중에 우리 집에 와서 같이 맞춰보자.\n",
      "\n",
      "Pred Summary: #Person1#: I wrote this song last night. I’m really feeling creative lately. \n",
      "#Person2#: That’s interesting. I’ve never heard a song about bees before. \n",
      "#Person1#: I was just thinking about the bees buzzing around the flowers last night. So I picked up my guitar and started writing. \n",
      "#Person2#: You must have a lot of songs. \n",
      "#Person1#: Yeah, I wrote one about the ocean a few days ago. And socks, my mom, apple picking, and a bunch of other stuff. I think I’m going to put them all on an album. \n",
      "#Person2#: That’s a good idea. \n",
      "#Person1#: Maybe I’ll get really famous and go on tour. Do you want to be in my band? \n",
      "#Person2#: I don’t know, my style is a little different from yours. Your songs are really upbeat and happy. \n",
      "#Person1#: I have some sad songs too. I think we’d make a great team. Come over to my house later and we can jam.\n",
      "\n",
      "Gold Summary: #Person1#은 #Person2#에게 자신의 창작곡을 소개하고 밴드에 참여할 것을 권유합니다.\n",
      "\n",
      "====================================================================================================\n",
      "Dialogue:\n",
      "#Person1#: 뭐 도와드릴까요?\n",
      "#Person2#: 네, 여자친구를 위한 약혼 반지를 찾고 있어요.\n",
      "#Person1#: 축하드려요, 정말 기쁘시겠어요. 어떤 반지를 찾고 계신지 알고 계세요?\n",
      "#Person2#: 솔직히 잘 모르겠어요. 이런 건 제가 많이 서툴러서요.\n",
      "#Person1#: 여자친구분이 좋아하는 스타일이 있으신가요?\n",
      "#Person2#: 색깔이 있는 돌을 좋아해요. 빨강이나 노랑을 선호해요. 다이아몬드를 좋아하긴 하지만, 루비나 다른 밝은 것도 좋아할 것 같아요.\n",
      "#Person1#: 여기에 아름다운 루비 반지가 있어요. 여자친구분은 은을 좋아하나요, 금을 좋아하나요?\n",
      "#Person2#: 금이요.\n",
      "#Person1#: 이게 참 멋져요. 금 반지가 조금 얇은 편이네요.\n",
      "#Person2#: 이게 마음에 드네요. 돌이 조금 작은 걸로도 있나요?\n",
      "#Person1#: 여기도 작은 돌이 있는 게 있어요. 반지에 멋진 디자인도 들어갔어요.\n",
      "#Person2#: 이게 바로 그거일지도 모르겠네요. 엄마한테 사진을 보내봐야겠어요.\n",
      "\n",
      "Pred Summary: #Person1#: What can I help you with?\n",
      "#Person2#: I'm looking for an engagement ring for my girlfriend.\n",
      "#Person1#: Congratulations, that's great news. Do you have an idea of what kind of ring you're looking for?\n",
      "#Person2#: Honestly, I'm not sure. I'm not very good at this.\n",
      "#Person1#: Does she have a favorite style?\n",
      "#Person2#: She likes colored stones. She prefers red or yellow. She likes diamonds, but I think she'd also like rubies or other bright colors.\n",
      "#Person1#: Here's a beautiful ruby ring. Does she prefer silver or gold?\n",
      "#Person2#: Gold.\n",
      "#Person1#: This one is nice. The gold band is a little thin.\n",
      "#Person2#: I like this one. Do you have anything with a smaller stone?\n",
      "#Person1#: Here's one with a smaller stone. It has a nice design on the ring too.\n",
      "#Person2#: This might be the one. I need to send a picture to my mom.\n",
      "\n",
      "Gold Summary: #Person2#는 여자친구를 위한 약혼 반지를 찾는 중입니다. #Person1#이 루비 반지를 추천하며, #Person2#는 작은 돌이 있는 금반지를 선택한 후 엄마에게 조언을 구하고자 합니다.\n",
      "\n",
      "====================================================================================================\n",
      "Dialogue:\n",
      "#Person1#: 아빠, 이번 주말에 드레스 사러 쇼핑 갈 수 있어? \n",
      "#Person2#: 큰 무도회가 이번 주말에 있어? 물론이지, 같이 가자. 언제 할 예정이야? \n",
      "#Person1#: 이번 달 말이야. \n",
      "#Person2#: 네가 벌써 고등학교를 거의 다 끝냈다니 믿기지 않는다. 네가 유치원 첫 날 갔던 날이 아직도 생생해. \n",
      "#Person1#: 맞아, 이제 그렇게 어리지 않아. 여름 끝나면 대학에 가. \n",
      "#Person2#: 생각하면 아쉽다. 네가 정말 그리울 거야. \n",
      "#Person1#: 아, 고마워, 아빠.\n",
      "\n",
      "Pred Summary: #Person1#: Can we go shopping for a dress this weekend, dad? \n",
      "#Person2#: Is there a big ball this weekend? Of course, let's go together. When is it? \n",
      "#Person1#: At the end of this month. \n",
      "#Person2#: I can't believe you're almost done with high school. I still remember the day you went to kindergarten. \n",
      "#Person1#: Yeah, I'm not that little anymore. I'm going to college after summer. \n",
      "#Person2#: It's sad to think about. I'm going to miss you so much. \n",
      "#Person1#: Oh, thanks, dad.\n",
      "\n",
      "Gold Summary: #Person1#은 고등학교 무도회를 위해 아빠에게 드레스를 사러 쇼핑 가자고 요청한다. #Person2#는 #Person1#의 성장에 대해 회상한다.\n",
      "\n",
      "====================================================================================================\n",
      "Dialogue:\n",
      "#Person1#: 안녕 Mike, 공부 경험에 대해 얘기해 줄 수 있어?\n",
      "#Person2#: 그래, 물론이지. 호주에서 5년, 미국에서 1년, 일본에서는 3년 넘게 공부했어.\n",
      "#Person1#: 그래? 너의 고향인 캐나다에서도 공부했니?\n",
      "#Person2#: 당연하지. 캐나다에서 초등학교에 다녔어.\n",
      "#Person1#: 정말 세계 곳곳에서 많은 경험을 했구나.\n",
      "#Person2#: 맞아, 정말 흥미로웠어.\n",
      "#Person1#: 그럼, 미국에 있을 때 너와 친구들은 재미있게 뭐 하고 놀았어?\n",
      "#Person2#: 음, 청소년들은 파티를 좋아하잖아. 미국 학생들도 자기 집에서 파티를 많이 열어. 주말마다 다른 학생들이 나를 초대해서 정말 즐거운 시간을 보냈어.\n",
      "\n",
      "Pred Summary: #Person1#: Hey Mike, can you talk about your study experience?\n",
      "#Person2#: Sure, I studied in Australia for 5 years, in the US for 1 year, and in Japan for over 3 years.\n",
      "#Person1#: Oh really? Did you also study in your home country, Canada?\n",
      "#Person2#: Of course, I went to elementary school in Canada.\n",
      "#Person1#: Wow, you've had a lot of experiences all over the world.\n",
      "#Person2#: Yeah, it was really interesting.\n",
      "#Person1#: So, when you were in the US, what did you and your friends do for fun?\n",
      "#Person2#: Well, teenagers love parties, right? American students also have parties at their houses a lot. I had a great time every weekend because different students invited me to their parties.\n",
      "\n",
      "Gold Summary: Mike는 #Person1#에게 세계 여러 나라에서의 공부 경험과 미국에서 즐겼던 활동들을 이야기합니다.\n",
      "\n",
      "====================================================================================================\n",
      "Dialogue:\n",
      "#Person1#: 내일 일정은 어떻게 되나요?\n",
      "#Person2#: 잠깐만요, 오전 10시에 빌라인즈와 미팅이 있고, 모든 서류 작업은 준비되어 있어요. 오후 3시에는 국립 실험실을 방문할 예정이고, 저녁 7시에는 LG 회사의 매니저인 Mr. Cooper와 저녁 식사가 예정되어 있어요.\n",
      "#Person1#: 또 바쁜 하루네요. 근데 토요일엔 아무것도 계획하지 말아 주세요. 가족들과 농구 경기 보러 갈 거예요.\n",
      "\n",
      "Pred Summary: #Person1#: What's the schedule for tomorrow?\n",
      "#Person2#: Just a moment, there's a meeting with Billains at 10 am and all the paperwork is ready. At 3 pm, we're visiting the National Laboratory and at 7 pm, we're having dinner with Mr. Cooper, the manager of LG Company.\n",
      "#Person1#: Another busy day. But please don't schedule anything for Saturday. I'm going to watch a basketball game with my family.\n",
      "\n",
      "Gold Summary: #Person2#는 #Person1#에게 내일 일정을 알리고, #Person1#은 토요일에는 계획을 잡지 말라고 요청합니다.\n",
      "\n",
      "====================================================================================================\n",
      "Dialogue:\n",
      "#Person1#: 안녕하세요, 돈을 어떻게 인출하는지 궁금한데요.\n",
      "#Person2#: 은행 창구 앞에 줄이 조금 기네요. 이 기계를 사용해 보세요.\n",
      "#Person1#: 어떻게 사용하는 거예요?\n",
      "#Person2#: 여기에 카드를 넣고 안내에 따라 조작하시면 돼요.\n",
      "#Person1#: 카드를 넣었는데 안 나오면 어떻게 해야 하나요?\n",
      "#Person2#: 보통 그런 일은 없어요.\n",
      "#Person1#: 500위안을 인출했는데 100위안만 나오면 어떻게 하죠?\n",
      "#Person2#: 손님, 진정하세요.\n",
      "#Person1#: 500위안을 인출했는데 5000위안이 나오면 얼마나 좋을까요! 하하.\n",
      "#Person2#: 손님, 현실로 돌아오세요. 기다리는 사람들이 많아요.\n",
      "\n",
      "Pred Summary: #Person1#: Hello, I'm wondering how to withdraw money.\n",
      "#Person2#: There's a bit of a line at the bank teller. Try using this machine.\n",
      "#Person1#: How do I use it?\n",
      "#Person2#: Insert your card and follow the instructions.\n",
      "#Person1#: I inserted my card but it didn't work. What should I do?\n",
      "#Person2#: That doesn't usually happen.\n",
      "#Person1#: If I withdraw 500 yuan and only 100 yuan comes out, what should I do?\n",
      "#Person2#: Sir, please calm down.\n",
      "#Person1#: If I withdraw 500 yuan and 5000 yuan comes out, how great would that be! Ha ha.\n",
      "#Person2#: Sir, come back to reality. There are a lot of people waiting.\n",
      "\n",
      "Gold Summary: #Person2#는 #Person1#에게 기계를 사용하여 돈을 인출하는 방법을 설명하고, #Person1#은 기계가 고장 나는 상황을 상상합니다.\n",
      "\n",
      "====================================================================================================\n",
      "Dialogue:\n",
      "#Person1#: 그 청바지 어때? \n",
      "#Person2#: 나한테 잘 맞고 스타일도 마음에 드는데, 조금 길어. \n",
      "#Person1#: 살짝 말아 올리면 어때? \n",
      "#Person2#: 그럴 수도 있겠지만, 그러면 모양이 달라질 거야. \n",
      "#Person1#: 알겠어. 원하시면 길이를 줄여드릴 수 있어. \n",
      "#Person2#: 아, 그러면 좋겠다. \n",
      "#Person1#: 물론이지. 근데 시간이 2시간 정도 걸릴 거야. 먼저 계산하고 오후나 저녁에 찾아가시면 돼. \n",
      "#Person2#: 괜찮아. 내일 찾아가도 될까? \n",
      "#Person1#: 문제없어.\n",
      "\n",
      "Pred Summary: The person is asking about the length of the jeans and the other person suggests that they can be shortened. The first person agrees to do so and asks the other person to pay first. The other person agrees to come back tomorrow to pick up the jeans.\n",
      "\n",
      "Gold Summary: #Person2#는 새로운 청바지를 좋아하지만 기장이 길어 #Person1#이 길이를 줄여준다고 제안했습니다. #Person2#는 내일 청바지를 찾으러 올 예정입니다.\n",
      "\n",
      "====================================================================================================\n",
      "Dialogue:\n",
      "#Person1#: 안녕하세요, 매니큐어와 페디큐어 비용이 얼마인지 알고 싶어요.\n",
      "#Person2#: 보통 매니큐어는 60달러, 페디큐어는 80달러예요. 하지만 이번 특별 할인으로 두 가지 모두 하면 120달러고, 색칠도 해드려요.\n",
      "#Person1#: 좋네요. 해볼게요. 열정적인 빨간색이 좋을 것 같아요. 부탁드려요.\n",
      "#Person2#: 네, 큐티클도 잘라드릴까요?\n",
      "#Person1#: 아니요.\n",
      "#Person2#: 손톱 모양은 네모나게 할까요, 둥글게 할까요?\n",
      "#Person1#: 네모나게요. 근데 끝은 둥글게 해주세요.\n",
      "#Person2#: 알겠습니다, 끝났어요. 건조하는 곳으로 따라오세요.\n",
      "#Person1#: 얼마나 걸릴까요?\n",
      "#Person2#: 10분이나 5분 정도면 됩니다. 다 되셨어요.\n",
      "#Person1#: 알겠어요, 감사합니다.\n",
      "\n",
      "Pred Summary: The customer asks about the cost of manicure and pedicure services. The employee informs the customer that the normal price is $60 for manicure and $80 for pedicure, but there is a special promotion where both services can be done for $120 and include coloring. The customer decides to get both services and requests a passionate red color. The employee asks if the customer wants cuticles trimmed, but the customer declines. The employee asks if the customer wants square or round nail shapes, and the customer requests square with rounded edges. The employee completes the services and asks the customer to follow them to the drying area. The customer asks how long it will take, and the employee says 10 or 5 minutes. The customer thanks the employee and leaves.\n",
      "\n",
      "Gold Summary: 매니큐어와 페디큐어 가격 및 서비스에 대한 대화\n",
      "\n",
      "====================================================================================================\n",
      "Dialogue:\n",
      "#Person1#: 안녕하세요. Lincoln Corporate Services에 오신 걸 환영합니다. 무엇을 도와드릴까요?\n",
      "#Person2#: 안녕하세요. 고정 자산 대출이 어떤 게 있는지 궁금해요. 고정 자산 대출 있나요?\n",
      "#Person1#: 네, 있습니다. 승인 신청서를 제출하시면 첫 번째 검토, 평가 및 심사를 거쳐 최종 승인을 받게 될 거예요. 이 브로슈어를 한번 읽어보세요. 대출의 중요한 정보와 조건들이 포함되어 있어요.\n",
      "#Person2#: 그렇게 할게요. 읽어보고 진행하기로 결정하면 다시 올게요.\n",
      "\n",
      "Pred Summary: #Person1#: Hello. Welcome to Lincoln Corporate Services. How can I help you?\n",
      "#Person2#: Hello. I'm wondering what fixed asset loans are available. Do you have any fixed asset loans?\n",
      "#Person1#: Yes, we do. If you submit an approval application, you will go through the first review, evaluation, and approval. Please read this brochure. It contains important information and conditions for the loan.\n",
      "#Person2#: I will do that. I will come back and proceed if I decide to do so.\n",
      "\n",
      "Gold Summary: #Person1#은 #Person2#에게 고정 자산 대출 신청 절차를 설명하고, 자세한 정보를 제공하기 위해 브로슈어를 전달하였습니다.\n",
      "\n",
      "====================================================================================================\n",
      "Dialogue:\n",
      "#Person1#: 의사 선생님, 제 아기를 좀 살려주세요. \n",
      "#Person2#: 아기가 어떤 증상이 있나요? \n",
      "#Person1#: 열이 하루째 있어요. 방금 집에서 열성 경련이 일어나서 이, 주먹을 꽉 쥐고 눈이 뒤집혔어요. 너무 당황해서 어쩔 줄 몰랐어요. 그래서 구급차를 불러 아기를 여기로 데려왔어요. \n",
      "#Person2#: 경련은 얼마나 지속되었나요? \n",
      "#Person1#: 약 3분 정도요. \n",
      "#Person2#: 다른 불편한 점은 없나요? \n",
      "#Person1#: 사흘 전부터 기침을 하고 재채기를 하며 코가 막혔어요. 그러다 어제 열이 나기 시작했어요. \n",
      "#Person2#: 체온은 재보셨나요? \n",
      "#Person1#: 오늘 아침에 38도였고, 방금 전에는 39도였어요. \n",
      "#Person2#: 발진이 있는지 확인해볼게요. 발진은 없네요. \n",
      "#Person1#: 심각한가요? 뇌수막염인가요? \n",
      "#Person2#: 아니요, 뇌수막염은 아닙니다. 단순히 고열과 경련 때문에 그래요. 바이러스에 의한 상기도 감염 때문입니다. \n",
      "#Person1#: 입원해야 하나요? \n",
      "#Person2#: 아닙니다. 입원할 필요는 없습니다. 우선 열을 내리기 위해 진통제를 투여하고, 처방전을 드릴게요. 분홍색 알약은 아기의 열을 위해 사용합니다. 체온이 38도 이상일 때 한 알씩 먹이세요. 다른 알약은 경련을 위한 안정제입니다. 하얀색 액체는 감기약입니다. 아기에게 물을 충분히 먹이세요. \n",
      "#Person1#: 감사합니다, 의사 선생님.\n",
      "\n",
      "Pred Summary: The doctor is talking to a patient about her child. The child has a fever and has been vomiting. The doctor prescribes medicine for the child.\n",
      "\n",
      "Gold Summary: #Person1#의 아기가 열과 열성 경련을 앓고 있습니다. 의사는 증상과 지속 시간에 대해 질문하고 아기를 검사한 후 입원이 필요하지 않다고 설명합니다. #Person1#에게 조치를 안내하고 처방전을 제공합니다.\n",
      "\n",
      "====================================================================================================\n",
      "Dialogue:\n",
      "#Person1#: 루시, 복도에 있는 전등을 고치고 싶어. 계속 깜빡거려서 미치겠어. 사다리 좀 도와줄래?\n",
      "#Person2#: 모니카, 잠깐만 기다려봐. 수리공을 부르는 게 나을 것 같아.\n",
      "#Person1#: 내가 스스로 할 수 있을 것 같아.\n",
      "#Person2#: 우리 회사 안전 매뉴얼 한번 보는 게 좋겠어.\n",
      "#Person1#: 알겠어. 만약 근무 시간 중에 전등 고치다 다치면, 그게 내 책임이 아니니까 보상을 못 받겠지.\n",
      "#Person2#: 다른 회사 규칙들도 좀 살펴봐야 해.\n",
      "#Person1#: 그런 것처럼? 파쇄기 조작할 때 헐렁한 옷이나 긴 머리를 하지 말라는 것 말이야. 알려줘서 고마워.\n",
      "#Person2#: 별말을 다 해.\n",
      "\n",
      "Pred Summary: #Person1#: Lucy, I want to fix the light in the hallway. It’s flickering and driving me crazy. Can you help me get a ladder?\n",
      "#Person2#: Monica, wait a minute. I think we should call a repairman.\n",
      "#Person1#: I think I can do it myself.\n",
      "#Person2#: You should read our company safety manual.\n",
      "#Person1#: Okay. If I get hurt fixing the light during work hours, I won’t be able to get compensation, right?\n",
      "#Person2#: You should also look at other company rules.\n",
      "#Person1#: Like what? Like the one that says not to wear loose clothing or have long hair when operating the shredder. Thanks for letting me know.\n",
      "#Person2#: You’re welcome.\n",
      "\n",
      "Gold Summary: 모니카가 혼자서 전등을 고치려 하자, 루시가 안전 매뉴얼을 보라고 조언하며 만류한다.\n",
      "\n",
      "====================================================================================================\n",
      "Dialogue:\n",
      "#Person1#: 안녕, Becky, 어떻게 지내?\n",
      "#Person2#: 별일 없는데, 시어머니 때문에 너무 스트레스 받아.\n",
      "#Person1#: 무슨 문제야?\n",
      "#Person2#: 뭐든지 꼬투리 잡고 내가 하는 모든 걸 비판해. 그녀가 있는 곳에선 난 뭐든지 잘못하는 것 같아.\n",
      "#Person1#: 예를 들면?\n",
      "#Person2#: 음, 지난주에 저녁에 초대했어. 우리 남편이랑 나는 음식에 문제 없었는데, 시어머니 말씀 들으면 마치 상한 고기랑 썩은 채소 먹인 것처럼 들려. 정말 어떻게 해도 만족시키기가 어려워.\n",
      "#Person1#: 그럴 리가 없어. 네가 요리 잘하는 거 알아, 그런 일은 절대 없을 거야.\n",
      "#Person2#: 그게 다가 아니야. 애들 키우는 방식도 비판해.\n",
      "#Person1#: 우리 시어머니도 예전에 그런 식이었어. 애들 훈육을 잘 못한다고 하다가, 또 너무 많이 한다고 하실 때도 있었지. 애들 먹이는 음식, 보낸 학교까지 뭐든 간섭하셨어.\n",
      "\n",
      "Pred Summary: #Person1#: Hey, Becky, how are you?\n",
      "#Person2#: Nothing much, just stressed out by my mother-in-law.\n",
      "#Person1#: What’s the problem?\n",
      "#Person2#: She finds fault with everything and criticizes everything I do. I feel like I’m doing everything wrong when she’s around.\n",
      "#Person1#: Like what?\n",
      "#Person2#: Well, we invited her over for dinner last week. My husband and I didn’t have any problems with the food, but you’d think we served spoiled meat and rotten vegetables the way she talks about it. It’s really impossible to please her.\n",
      "#Person1#: I don’t believe it. I know you’re a good cook, that would never happen.\n",
      "#Person2#: That’s not all. She criticizes my parenting style too.\n",
      "#Person1#: My mother-in-law used to be like that too. She used to say I was doing a bad job disciplining the kids, and then she’d say I was being too strict. She interfered with everything, from what we fed them to the schools we sent them to.\n",
      "\n",
      "Gold Summary: Becky는 시어머니가 그녀가 하는 모든 것, 예를 들어 요리나 아이들 양육에 대해 비판한다고 불평한다. #Person1#의 시어머니도 아이들 양육 문제로 비슷한 경험이 있다.\n",
      "\n",
      "====================================================================================================\n",
      "Dialogue:\n",
      "#Person1#: 너는 출퇴근할 때 버스 타고 다녀?\n",
      "#Person2#: 응, 매일 타고 다녀. 선택의 여지가 없어. 다른 버스들은 반대 방향으로 가거든.\n",
      "#Person1#: 그렇구나. 나도 비슷한 문제야. 퇴근할 때는 항상 출퇴근 시간이라 버스가 항상 붐비더라.\n",
      "#Person2#: 아, 맞아. 정말 끔찍해. 내가 중국에서 본 가장 웃긴 일이 있어. 사람들이 시내버스에 몰려들 때, 마지막 사람이 꽉 껴서 문이 엉덩이에 딱 붙는 거야.\n",
      "#Person1#: 네 말 들어보니 정말 끔찍하네. 하지만 얼마 전 나도 버스에서 고생했어.\n",
      "#Person2#: 무슨 일이 있었어? 버스 타기 힘들었어?\n",
      "#Person1#: 상상이 안 될 걸! 첫 번째 버스를 기다렸는데 너무 꽉 차 있어서, 두 번째 버스를 기다렸는데도 여전히 사람들로 가득했어. 그래서 더 이상 기다리기 싫어서 두 번째 버스를 탔어. 너무 꽉 차서 한 발로 서 있어야 했어! 정말이야!\n",
      "#Person2#: 음. 좋은 운동이지?\n",
      "#Person1#: 응, 정말이지!\n",
      "#Person2#: 게다가 정말 재미있어. 어느 날은 사람들이 너무 꽉 껴있어서 어떤 여자 엉덩이가 내 앞에 붙었어. 실수로 만질까봐 손을 내릴 수도 없더라고.\n",
      "#Person1#: 정말 기뻤겠다, 안 그래?\n",
      "#Person2#: 내가 뭐랬니? 난 착한 아이니까.\n",
      "\n",
      "Pred Summary: Both speakers are talking about their experiences with public transportation. The first speaker mentions that they take the bus to work and that they have to take the bus in the opposite direction because there are no other options. The second speaker agrees and mentions that they have a similar problem. They both mention that the buses are always crowded during rush hour. The second speaker then tells a story about a time when they were on a bus in China and the last person got on so tightly that the door was stuck to their butt. The first speaker then tells a story about a time when they had to wait for two buses because they were both too crowded. They eventually got on the second bus and had to stand on one foot because it was so crowded. The second speaker then mentions that it's good exercise and that they once had a woman's butt in their face because they were so crowded. The first speaker jokes that they must have been happy. The second speaker says that they are a good person.\n",
      "\n",
      "Gold Summary: #Person1#과 #Person2#는 붐비는 버스에서의 힘든 경험을 나누고 있다. #Person1#은 버스가 너무 가득 차서 발 한 쪽으로 서 있어야 했던 경험을 이야기하며, #Person2#는 버스가 너무 붐벼서 실수로 다른 사람을 만지지 않으려 노력했다고 전한다.\n",
      "\n",
      "====================================================================================================\n",
      "Dialogue:\n",
      "#Person1#: 내일 너 관심 있어 할 만한 곳들로 데려가 줄게.\n",
      "#Person2#: 어디 아직 가보지 못한 곳이 있어?\n",
      "#Person1#: 많이는 아니지만, 여긴 어때. 이곳은 민속 고가구 수공예품과 수집품 전시관이야!\n",
      "#Person2#: 멋지다! 민속 수집품은 얼마나 많아?\n",
      "#Person1#: 글쎄, 이 도시에만도 200종 이상의 민속 수집품이 있어. 중국 전체 기준으로 보면 절반 정도지. 여러 수집품을 위한 전시홀이 있고, 개인 수집품을 전시하는 방도 여러 개 있어.\n",
      "#Person2#: 개인 수집가들! 그들은 분명 대단한 수집품을 갖고 있겠지. 다 보러 갈래. 어떤 수집품들을 볼 수 있어? 데이빗, 왜 이렇게 궁금하잖아.\n",
      "#Person1#: 급할 것 없어! 이제 말해줄게. 고대 상자와 보관함, 다기 세트, 주판, 귀한 조개와 소라, 연구용 항아리와 물 주판, 드라마 의상, 마노, 고대 동전, 나비, 부채, 미니 악기, 뿌리 조각품, 희귀 돌과 바위, 모형 배, 모형 자동차가 있어.\n",
      "#Person2#: 데이빗, 이제 알겠어! 더 이상 못 기다리겠어. 당장 가자!\n",
      "#Person1#: 알겠어, 알겠어. 먼저 민속 수집 전시관부터 시작할 거야. 지역의 최고 고가구가 항상 전시되는 곳이지. 그 자체가 오래전 청나라 시절의 지역 클럽이었던 잘 보존된 고가구 건축물이야. 국내외 전문가들 간의 학술 연구 세미나와 교류도 종종 열린다.\n",
      "#Person2#: 정말 흥미롭네. 꼭 가봐야 할 곳이야. 그 다음에는?\n",
      "#Person1#: 나비에 관심이 있다면, 나비 전시관에 가봐야 해. 개인 박물관을 운영하는 진 선생님이 20개 이상의 국가에서 1,000종 이상의 나비 표본을 소장하고 있어. 그 중 많은 것들이 국가 보물급이야.\n",
      "#Person2#: 그 자체로도 나비 표본 제작에 있어 권위자로 인정받지, 진 선생님은.\n",
      "\n",
      "Pred Summary: This is a conversation between two people, Person1 and Person2. Person1 suggests taking Person2 to places of interest the next day. Person2 asks if there are any places they haven't been to yet. Person1 suggests a folk craft and collection exhibition hall, which showcases folk crafts and collections. Person2 expresses interest in the collection and asks how many there are. Person1 says there are over 200 types of folk collections in the city and half of them are in China. There are several exhibition halls and rooms for private collections. Person2 expresses interest in the private collectors and asks what kinds of collections they can see. Person1 lists various collections such as ancient boxes and cabinets, tea sets, abacuses, rare shells and snails, research vessels and water pans, drama costumes, agates, ancient coins, butterflies, fans, miniature instruments, root carvings, rare stones and rocks, model boats, and model cars. Person2 expresses excitement and says they can't wait to see them. Person1 says they will start with the folk collection exhibition hall, which showcases the best antiques in the region. It is a well-preserved antique building that used to be a club during the Qing Dynasty. Academic research seminars and exchanges between domestic and foreign experts are also held there. Person2 says it sounds interesting and they should definitely go. Person1 suggests going to the butterfly exhibition hall next, which is run by a private museum. The curator, Mr. Jin, has over 1,000 species of butterfly specimens from over 20 countries, many of which are national treasures. Person2 says Mr. Jin is also recognized as an authority in butterfly specimen production.\n",
      "\n",
      "Gold Summary: 데이빗은 #Person2#에게 민속 고가구 수공예품과 수집품 전시관으로 데려가겠다고 말한다. 다양한 방에 전시된 수집품들의 수와 종류를 소개하고, #Person2#는 기다릴 수 없어 한다. 데이빗은 민속 수집 전시관과 진 선생님이 운영하는 나비 전시를 추천한다.\n",
      "\n",
      "====================================================================================================\n",
      "Dialogue:\n",
      "#Person1#: 저기, 실례합니다만, 기차역으로 가는 길 좀 알려주실 수 있나요?\n",
      "#Person2#: 이 길 따라서 쭉 가시다가 첫 번째 교차로에서 왼쪽으로 도세요. 그 다음에 약 100미터 쯤 쭉 걸어가시면 됩니다. 금방 찾으실 거예요.\n",
      "#Person1#: 거기까지 가는 데 얼마나 걸릴까요?\n",
      "#Person2#: 한 20분 정도 걸릴 거예요.\n",
      "#Person1#: 알겠습니다. 버스 탈 수 있는 것도 있나요?\n",
      "#Person2#: 네, 저기 5번 버스 타시면 됩니다. 다음 정류장에서 내리시면 돼요.\n",
      "#Person1#: 정말 감사합니다.\n",
      "#Person2#: 아니에요, 도움이 되어 다행입니다.\n",
      "\n",
      "Pred Summary: #Person1#: Excuse me, but could you tell me how to get to the train station?\n",
      "#Person2#: Just follow this road and turn left at the first intersection. Then walk about 100 meters and you'll find it. You'll find it easily.\n",
      "#Person1#: How long will it take to get there?\n",
      "#Person2#: It will take about 20 minutes.\n",
      "#Person1#: Okay. Is there a bus I can take?\n",
      "#Person2#: Yes, take the number 5 bus. Get off at the next stop.\n",
      "#Person1#: Thank you very much.\n",
      "#Person2#: No problem, I'm glad I could help.\n",
      "\n",
      "Gold Summary: #Person1#은 기차역으로 가는 길을 물어보고, #Person2#는 상세한 길 안내와 버스 정보를 제공합니다.\n",
      "\n",
      "====================================================================================================\n",
      "Dialogue:\n",
      "#Person1#: 안녕하세요, Mr. Fang! 다시 뵙게 되어 반갑습니다. 오늘 어떻게 도와드릴까요?\n",
      "#Person2#: 안녕하세요, Miao Ping. 오늘 외화 계좌를 개설하고 싶어요.\n",
      "#Person1#: 문제없습니다, Mr. Fang. 외화 계좌 사용 증명서와 외화 계좌 개설 통지를 가지고 계신가요? 저희가 가장 많이 사용하는 통화는 미 달러, 일본 엔, 홍콩 달러입니다.\n",
      "#Person2#: 미국과의 거래가 매년 증가하고 있어서 미 달러 계좌를 개설해야 해요.\n",
      "#Person1#: 주신 자료가 검사되고 확인되면 최대한 빨리 처리해 드리겠습니다.\n",
      "#Person2#: 좋습니다, 감사합니다. 연락 기다릴게요.\n",
      "\n",
      "Pred Summary: #Person1#: Hello, Mr. Fang! It's nice to see you again. What can I help you with today?\n",
      "#Person1#: No problem, Mr. Fang. Do you have the proof of use for foreign currency account and the notice of foreign currency account opening? The most commonly used currencies are US dollar, Japanese yen, and Hong Kong dollar.\n",
      "#Person2#: I need to open a US dollar account because the transactions with the US are increasing every year.\n",
      "#Person1#: We will process it as soon as possible after the documents you provided are checked and verified.\n",
      "#Person2#: Okay, thank you. I'll wait for your contact.\n",
      "\n",
      "Gold Summary: Miao Ping은 Mr. Fang이 미 달러 계좌를 개설할 수 있도록 도움을 제공하고, 그의 자료를 검토 및 확인한 후 신속히 처리할 것이라고 약속했습니다.\n",
      "\n",
      "====================================================================================================\n",
      "Dialogue:\n",
      "#Person1#: 야, Jason, 내일 우리 캠퍼스 영화관에서 파이널 데스티네이션 3 상영한대. 나 보러 갈 건데. \n",
      "#Person2#: 그거 공포영화야? \n",
      "#Person1#: 응, 나 공포영화 진짜 좋아해. 너도 같이 갈래? \n",
      "#Person2#: 절대 안 가. 난 너무 무서워서 혼비백산할 거야. \n",
      "#Person1#: 어쩐지, 네가 그렇게 큰 덩치에 비해 여리고 겁 많은 줄은 몰랐네. \n",
      "#Person2#: 이봐, 내 주먹 맛 볼래? \n",
      "#Person1#: 알겠어, 농담 그만하고, 어떤 영화 좋아해? \n",
      "#Person2#: 음, 로맨스, 코미디, 다큐멘터리, 액션, SF, 애니메이션 뭐 그런 거? \n",
      "#Person1#: 그러니까, 공포영화 빼고는 다 좋아하는 거네. \n",
      "#Person2#: 맞아. 영화 취향은 서로 안 맞는 것 같네. \n",
      "#Person1#: 꼭 그렇진 않아. 나도 로맨스랑 코미디 엄청 좋아해. \n",
      "#Person2#: '노트북'이라는 영화가 그런 종류야. \n",
      "#Person1#: 진짜? 처음 들어봐. \n",
      "#Person2#: 그럼, 이번 기회에 같이 보면 좋겠다. 너도 좋아할 거야. \n",
      "#Person1#: 좋아. 기대돼. 보러 가자!\n",
      "\n",
      "Pred Summary: Person1 and Person2 are talking about movies. Person1 is excited to see the Final Destination 3 movie at the campus movie theater, but Person2 is not interested because he is afraid of horror movies. Person1 teases Person2 about being scared, but Person2 threatens to punch him. They then discuss their different movie preferences, but Person1 says he also likes romance and comedy movies. Person2 suggests they watch the movie \"The Notebook\" together, and Person1 agrees to go see it.\n",
      "\n",
      "Gold Summary: #Person1#이 Jason에게 공포영화를 보러 가자고 제안했지만, Jason은 무서운 게 싫어서 거절합니다. 둘은 서로 좋아하는 영화 장르에 대해 이야기하고, 로맨틱 코미디 영화인 '노트북'을 함께 보기로 결정합니다.\n",
      "\n",
      "====================================================================================================\n",
      "Dialogue:\n",
      "#Person1#: 다들 입국 허가서 작성했어요?\n",
      "#Person2#: 네, 비디오 촬영하는 사람이 벌써 우리 부모님이 승무원이랑 영어로 대화하는 걸 찍고 있어요.\n",
      "#Person1#: 승무원이 자꾸 나한테 웃는 것 같아. 왜 그런지 궁금하네...\n",
      "#Person2#: 아, 이제 곧 2000년이 될 거예요! 승무원들이 이쪽으로 오고 있어요. 샴페인 병도 들고 오네요!\n",
      "#Person1#: 이제 시간이 됐어요.\n",
      "#Person2#: 무슨 시간이요?\n",
      "#Person1#: 우리 둘의 결혼 소원을 이룰 시간이요...\n",
      "#Person2#: 지금 결혼하자고요? 비행기에서?\n",
      "#Person1#: 왜 안돼요? 나는 반지도 준비했는데.\n",
      "#Person2#: 무슨 말을 해야 할지 모르겠어요, Jack!\n",
      "#Person1#: '네'라고 해줬으면 좋겠어요...\n",
      "\n",
      "Pred Summary: This dialogue is about two people, Person1 and Person2, who are on a plane. Person1 asks Person2 if they have filled out their immigration forms, and Person2 says that a video crew is already filming their parents talking to the flight attendant in English. Person1 wonders why the flight attendant keeps smiling at them. Person2 then mentions that it's almost 2000 and the flight attendants are coming over with champagne. Person1 says that it's time for them to make their marriage wish come true, and Person2 asks if they're going to get married on the plane. Person1 says that they have a ring and asks Person2 to say yes. Person2 is unsure what to say, and Person1 says that they want them to say yes.\n",
      "\n",
      "Gold Summary: Jack과 #Person1#은 비행기에서 승무원과 대화를 나누다 Jack이 갑자기 #Person2#에게 청혼을 해 놀랍니다.\n",
      "\n",
      "====================================================================================================\n",
      "Dialogue:\n",
      "#Person1#: 왜 이렇게 서둘러? \n",
      "#Person2#: 최대한 빨리 끝내야 해서. \n",
      "#Person1#: 걱정 마, 천천히 하나씩 해봐. \n",
      "#Person2#: 왜 배워야 하는지 모르겠어. \n",
      "#Person1#: 걱정하지 말고, 차근차근 해봐. \n",
      "#Person2#: 진짜 바보 같아.\n",
      "\n",
      "Pred Summary: #Person1#: Why are you in such a hurry? \n",
      "#Person2#: I have to finish as soon as possible. \n",
      "#Person1#: Don't worry, take it one step at a time. \n",
      "#Person2#: I don't understand why we have to learn this. \n",
      "#Person1#: Don't worry, just take it slowly. \n",
      "#Person2#: I feel like an idiot.\n",
      "\n",
      "Gold Summary: #Person1#은 #Person2#에게 자신감이 부족한 상황에서 차분히 배우도록 격려합니다.\n",
      "\n",
      "====================================================================================================\n",
      "Dialogue:\n",
      "#Person1#: 중국에 단오라는 축제가 있다고 들었어.\n",
      "#Person2#: 맞아. 용선 축제라고도 불러.\n",
      "#Person1#: 왜 그 축제를 기념하는 거야?\n",
      "#Person2#: 중국의 위대한 애국 시인인 굴원을 기리기 위해서야.\n",
      "#Person1#: 그날에는 무엇을 해?\n",
      "#Person2#: 찹쌀떡을 먹어. 그리고 남중국 지방에서는 용선 경기도 열려.\n",
      "#Person1#: 그렇구나.\n",
      "\n",
      "Pred Summary: The input sentences are converted to English.\n",
      "\n",
      "Dialogue:\n",
      "#Person1#: I heard there is a festival called Dragon Boat Festival in China.\n",
      "#Person2#: That's right. It is also called the Dragon Boat Festival.\n",
      "#Person1#: Why do they celebrate that festival?\n",
      "#Person2#: To commemorate the great patriotic poet, Qu Yuan.\n",
      "#Person1#: What do they do on that day?\n",
      "#Person2#: They eat zongzi. And in the southern part of China, dragon boat races are held.\n",
      "#Person1#: Oh, I see.\n",
      "\n",
      "Gold Summary: #Person2#가 #Person1#에게 용선 축제의 기원과 관련 풍습에 대해 설명합니다.\n",
      "\n",
      "====================================================================================================\n",
      "Dialogue:\n",
      "#Person1#: 사고에 대해 누가 책임이 있죠? Tony 잘못인가요?\n",
      "#Person2#: 아니요, Tony 잘못은 아닌 것 같아요. 다른 차에 타고 있던 사람이 큰 실수를 했어요.\n",
      "#Person1#: 그러면 Tony가 피해자라는 건가요? 아니요, 그렇게는 생각하지 않아요. 그가 당신을 추월하려고 했으니 똑같이 책임이 있다고 봐요.\n",
      "#Person2#: 네, 모두가 운전을 좀 더 조심해야 한다고 생각해요.\n",
      "\n",
      "Pred Summary: #Person1#: Who is responsible for the accident? Is it Tony's fault?\n",
      "#Person2#: No, I don't think it's Tony's fault. The person in the other car made a big mistake.\n",
      "#Person1#: So Tony is the victim? No, I don't think so. He tried to overtake you, so I think he's equally responsible.\n",
      "#Person2#: Yes, I think everyone should be more careful when driving.\n",
      "\n",
      "Gold Summary: #Person1#과 #Person2#는 사고 원인에 대해 서로 다른 의견을 가지고 있지만, 운전을 더 조심해야 한다는 점에 동의합니다.\n",
      "\n",
      "====================================================================================================\n",
      "Dialogue:\n",
      "#Person1#: 진짜 대단한 파티였어. 남아서 정리 도와줘서 고마워. \n",
      "#Person2#: 정말 대단한 파티였지. 근데 유리잔 하나랑 접시 하나가 깨지고 여기 음료도 엎질러졌어. \n",
      "#Person1#: 뭔가 깨질 줄 알았어. 그건 신경 안 써. 엎질러진 거 얼룩 남지 않을까? \n",
      "#Person2#: 그럴 것 같진 않아, 내가 바로 처리할게. 다행히도 레드와인은 아니었어. 물하고 천 가져올게. \n",
      "#Person1#: 나는 이 큰 비닐봉지에 다 쓰레기 넣을게. \n",
      "#Person2#: 다 끝나고 나면 설거지 같이 하자. 1시간 안에 끝낼 수 있을 거야. Keith 진짜 웃기더라. 그의 마술 정말 좋았어.  \n",
      "#Person1#: 응, 정말 잘하지? 웃긴 이야기들도 많이 했어. \n",
      "#Person2#: Amanda도 정말 웃긴 농담 많이 하더라. 처음에는 굉장히 진지했잖아. \n",
      "#Person1#: 그게 펀치를 조금 과하게 마신 것 같아. \n",
      "#Person2#: 그 펀치에 뭐 넣었어? 맛있었는데 꽤 강했어. \n",
      "#Person1#: 그건 나만의 비밀이야. 내가 준비한 스낵 어땠어? \n",
      "#Person2#: 정말 좋았어. 생일 케이크도 정말 맛있었지? Emily가 Karen이랑 같이 만들었다고 하더라. \n",
      "#Person1#: 그 케이크 진짜 맛있었어! 금방 사라져서 모두가 정말 좋아한 것 같아. 그 얼룩은 어때? \n",
      "#Person2#: 다 깨끗이 치웠어. 이제 설거지 시작할 준비됐어?\n",
      "\n",
      "Pred Summary: The conversation is between two people, #Person1# and #Person2#, who are cleaning up after a party. They discuss the damage caused by the party, including a broken glass and a spilled drink. They also talk about the entertainment at the party, including a magician and a comedian. They mention the food and drinks that were served, including a punch that was strong but tasty. They also discuss the cleanup process, including removing stains and doing the dishes.\n",
      "\n",
      "Gold Summary: #Person1#과 #Person2#가 파티가 끝난 뒤 함께 정리를 합니다. #Person2#는 파티가 대단했다고 생각하지만, 음료가 엎질러졌다고 말합니다. 그들은 엎질러진 음료를 정리하는 방법을 논의하며 파티에 참석한 사람들과 음식에 대해 이야기를 나눕니다. 그들이 대화하는 동안 얼룩은 완전히 치워집니다.\n",
      "\n",
      "====================================================================================================\n",
      "Dialogue:\n",
      "#Person1#: 머리하는데 너무 오래 걸리네요.\n",
      "#Person2#: 잠깐만요.\n",
      "#Person1#: 벌써 끝났어야 하는데.\n",
      "#Person2#: 다 됐어요.\n",
      "#Person1#: 아직 완성된 것 같지 않은데요.\n",
      "#Person2#: 뭐가 문제예요?\n",
      "#Person1#: 머리가 정말 엉망이에요.\n",
      "#Person2#: 뭐가 그렇게 마음에 안 드세요?\n",
      "#Person1#: 전혀 예뻐 보이지 않아요.\n",
      "#Person2#: 죄송해요.\n",
      "#Person1#: 이걸로 돈을 내라고 하시진 않겠죠?\n",
      "#Person2#: 그럼 매니저와 얘기해 볼게요, 알겠죠?\n",
      "\n",
      "Pred Summary: #Person1#: It takes too long to do my hair.\n",
      "#Person2#: Just a minute.\n",
      "#Person1#: It should be done by now.\n",
      "#Person2#: It's done.\n",
      "#Person1#: It doesn't look finished.\n",
      "#Person2#: What's the problem?\n",
      "#Person1#: My hair looks terrible.\n",
      "#Person2#: What don't you like about it?\n",
      "#Person1#: It doesn't look pretty at all.\n",
      "#Person2#: I'm sorry.\n",
      "#Person1#: You're not going to make me pay for this, are you?\n",
      "#Person2#: I'll talk to the manager, okay?\n",
      "\n",
      "Gold Summary: #Person1#는 #Person2#에게 받은 헤어스타일에 불만을 갖고 있으며, 이에 대해 비용을 지불하지 않겠다고 주장합니다.\n",
      "\n",
      "====================================================================================================\n",
      "Dialogue:\n",
      "#Person1#: 너무 슬퍼하지 마. 그 사람하고 정말 감정이 없다면, 내 생각엔 이혼이 문제를 해결하는 최선의 방법일지도 몰라.\n",
      "#Person2#: 나도 마음속으로는 잘 알고 있어. 그런데 아이 때문에 마음이 놓이질 않아. 아직 어리잖아. 우리를 이해하고 이런 진실을 받아들일 수 없을 거야.\n",
      "#Person1#: 맞아, 아이가 문제지. Jenny에게 진실을 말하지 말고, 하얀 거짓말만 해. 나중에 크면 적당한 기회를 봐서 이야기해 줘.\n",
      "#Person2#: 알겠어. 그래, 그렇게 할게.\n",
      "\n",
      "Pred Summary: #Person1#: Don't be too sad. If you really don't have any feelings for that person, I think divorce might be the best way to solve the problem.\n",
      "#Person2#: I know it in my heart. But I can't help feeling worried about the kid. He's still young. He won't understand us and accept this truth.\n",
      "#Person1#: You're right, the kid is the problem. Don't tell Jenny the truth, just tell her white lies. When he grows up, find a good opportunity to tell him.\n",
      "#Person2#: Okay. I'll do that.\n",
      "\n",
      "Gold Summary: #Person1#은 #Person2#에게 이혼을 권하지만, #Person2#는 딸에 대해 걱정하고 있다. #Person1#은 하얀 거짓말을 하라고 제안한다.\n",
      "\n",
      "====================================================================================================\n",
      "Dialogue:\n",
      "#Person1#: Ammo Hung이 누군지 알아?\n",
      "#Person2#: 당연히 알지. 이제 50세인데, 아홉 살 때부터 증류술, 노래, 춤, 무술을 배웠대. 140편의 쿵푸 영화에 출연했고, 독립 프로듀서와 감독으로 활동했어.\n",
      "#Person1#: 너는 그의 한 면만 아는구나. 주방에서는 뭘 하는지 알아?\n",
      "#Person2#: 글쎄, 잘 모르겠는데. 말해줘.\n",
      "#Person1#: 주방에서는 아내와 함께 멋진 저녁 쇼를 펼쳐. \n",
      "#Person2#: 거기서 뭘 한다는 거야?\n",
      "#Person1#: 상상해봐, 셰프가 빠르게 채소를 썰고, 볶음을 만들면서 재료를 공중으로 던지고 받는 모습을. 그의 요리 모토는 '순간을 즐겨라'야. 어떻게 요리하는지 보고 싶으면 www.StudioClassroom.com.tw에 방문해봐.\n",
      "\n",
      "Pred Summary: This program converts all the Korean sentences that are inputted into English.\n",
      "Dialogue:\n",
      "#Person1#: Do you know who Ammo Hung is?\n",
      "#Person2#: Of course I do. He is now 50 years old, and he learned distilling, singing, dancing, and martial arts since he was 9 years old. He has appeared in 140 kung fu movies and has worked as an independent producer and director.\n",
      "#Person1#: You only know one side of him. Do you know what he does in the kitchen?\n",
      "#Person2#: Well, I don't know. Tell me.\n",
      "#Person1#: In the kitchen, he and his wife put on a wonderful dinner show.\n",
      "#Person2#: What do they do there?\n",
      "#Person1#: Imagine, the chef quickly slices vegetables, makes stir-fry, and tosses ingredients in the air. His cooking motto is \"enjoy the moment.\" If you want to see how he cooks, visit www.StudioClassroom.com.tw.\n",
      "\n",
      "Gold Summary: #Person2#는 Ammo Hung의 경력에 대해 이야기하고, #Person1#는 Ammo Hung이 주방에서 요리 쇼도 한다고 설명합니다.\n",
      "\n",
      "====================================================================================================\n",
      "Dialogue:\n",
      "#Person1#: 메리, 오늘 중개인이라는 사람이 전화했어.\n",
      "#Person2#: 뭐라고 했어?\n",
      "#Person1#: 인터넷에서 내 구직 정보를 보고 적절한 직업을 소개해줄 수 있다고 했어.\n",
      "#Person2#: 어떤 중개인이야?\n",
      "#Person1#: 인재를 회사나 기업에 소개하는 전문 리크루팅 에이전시야.\n",
      "#Person2#: 어떤 직업을 추천했어?\n",
      "#Person1#: 텔레마케팅이야.\n",
      "#Person2#: 수수료 같은 건 요구해?\n",
      "#Person1#: 아니, 고용주가 비용을 낸다고 했어.\n",
      "#Person2#: 그럼 어떻게 생각해?\n",
      "#Person1#: 괜찮아 보여서 한번 해보고 싶어.\n",
      "#Person2#: 그래, 근데 먼저 확실히 확인하고 쉽게 약속하지 마.\n",
      "#Person1#: 당연하지, 확인할게.\n",
      "#Person2#: 잘 해봐!\n",
      "\n",
      "Pred Summary: Person1: Mary, someone called me today.\n",
      "Person2: What did they say?\n",
      "Person1: They said they saw my job information on the internet and could introduce me to a suitable job.\n",
      "Person2: What kind of recruiter is it?\n",
      "Person1: It's a professional recruitment agency that introduces talent to companies or businesses.\n",
      "Person2: What kind of job did they recommend?\n",
      "Person1: Telemarketing.\n",
      "Person2: Do they charge a fee?\n",
      "Person1: No, they said the employer will pay for it.\n",
      "Person2: So what do you think?\n",
      "Person1: It seems okay, so I want to try it.\n",
      "Person2: Okay, but don't easily promise anything without first checking.\n",
      "Person1: Of course, I'll check it out.\n",
      "Person2: Good luck!\n",
      "\n",
      "Gold Summary: #Person1#은 중개인으로부터 무료로 텔레마케팅 직업 제안을 받았다고 메리에게 말합니다. 메리는 #Person1#에게 제안을 꼼꼼히 확인하라고 조언합니다.\n",
      "\n",
      "====================================================================================================\n",
      "Dialogue:\n",
      "#Person1#: 피터, 이 노래 가사 한번 들어봐. \n",
      "#Person2#: 이 노래가 뭐가 특별해? \n",
      "#Person1#: 지금 뉴욕에서 엄청 인기 있는 뮤지컬에 나오는 곡이야. 마음에 들어? \n",
      "#Person2#: 별로야. 나한텐 너무 감정적이야. \n",
      "#Person1#: 그래서 인기가 많은 거야. 바바라 투틴이 이 노래를 불렀는데, 개막 첫날 밤 무대에서 그녀가 이 노래를 부르니까 큰 반향을 일으켰다고 들었어. \n",
      "#Person2#: 미안한데, 난 브로드웨이 뮤지컬엔 별로 익숙하지 않아. \n",
      "#Person1#: 그럼 내가 소개해 줄게. 우리 학교 연극부에서 뮤지컬 공연을 하니까 같이 갈래? \n",
      "#Person2#: 내 생각엔 그보다 재즈 콘서트에 가서 내가 너한테 재즈를 제대로 보여주는 게 나을 것 같아.\n",
      "\n",
      "Pred Summary: Peter, listen to this song lyrics. What’s so special about this song? It’s a song from a musical that’s really popular in New York right now. Do you like it? It’s too emotional for me. That’s why it’s so popular. Barbara Streisand sang this song, and when she sang it on the first night of the opening, it created a big sensation. Sorry, but I’m not really familiar with Broadway musicals. I’ll introduce you to it. Our school’s drama club is doing a musical performance, so do you want to go with me? I think it would be better if I showed you jazz at a jazz concert.\n",
      "\n",
      "Gold Summary: #Person1#은 피터에게 학교 연극부를 통한 뮤지컬을 소개하려 하지만, 피터는 오히려 #Person1#에게 재즈 콘서트에서 자신의 음악 취향을 보여주고 싶어 합니다.\n",
      "\n",
      "====================================================================================================\n",
      "Dialogue:\n",
      "#Person1#: 손님 차례입니다. 기다리게 해서 죄송합니다. 토요일은 저희가 바쁜 날입니다.\n",
      "#Person2#: 그런가요. 머리 좀 잘라주세요.\n",
      "#Person1#: 어떻게 자르길 원하세요? 특별히 원하시는 스타일이 있으신가요?\n",
      "#Person2#: 그냥 다듬기만 했으면 좋겠어요. 너무 짧게 자르지 마세요.\n",
      "#Person1#: 네, 손님. 구레나룻은 어떻게 할까요?\n",
      "#Person2#: 조금만 다듬어 주세요.\n",
      "#Person1#: 클리퍼를 사용해도 될까요?\n",
      "#Person2#: 아뇨, 쓰지 말아 주세요.\n",
      "#Person1#: 알겠습니다, 손님.\n",
      "#Person2#: 여기 귀 주변도 조금 다듬어 주실 수 있나요?\n",
      "#Person1#: 여기 조금 더 잘라내 주고 이야기할까요?\n",
      "#Person2#: 아, 네. 그게 더 좋겠네요.\n",
      "#Person1#: 이렇게 하면 될까요?\n",
      "#Person2#: 아니요, 그 정도는 아닙니다. 아, 네, 이제 괜찮네요.\n",
      "#Person1#: 면도도 해드릴까요, 손님?\n",
      "#Person2#: 네.\n",
      "#Person1#: 콧수염은 어떻게 다듬어 드릴까요?\n",
      "\n",
      "Pred Summary: Dialogue:\n",
      "#Person1#: Next customer, please. Sorry for the wait. Saturdays are busy days for us.\n",
      "#Person2#: Is that so? Please cut my hair.\n",
      "#Person1#: How would you like it cut? Do you have a specific style in mind?\n",
      "#Person2#: I just want it trimmed. Don't cut it too short.\n",
      "#Person1#: Yes, sir. What about your sideburns?\n",
      "#Person2#: Just trim them a little.\n",
      "#Person1#: Can I use the clippers?\n",
      "#Person2#: No, don't use them.\n",
      "#Person1#: Alright, sir.\n",
      "#Person2#: Can you trim around my ears too?\n",
      "#Person1#: Shall I trim a little more here and talk to you?\n",
      "#Person2#: Oh, yes. That would be better.\n",
      "#Person1#: Is this okay?\n",
      "#Person2#: No, not quite. Oh, yes, that's fine now.\n",
      "#Person1#: Would you like a shave, sir?\n",
      "#Person2#: Yes.\n",
      "#Person1#: How would you like your mustache trimmed?\n",
      "\n",
      "Gold Summary: #Person2#는 이발을 원하며 #Person1#에게 특정 부분을 다듬어 달라고 요청합니다. 이발 후 #Person2#는 #Person1#에게 면도를 부탁합니다.\n",
      "\n",
      "====================================================================================================\n",
      "Dialogue:\n",
      "#Person1#: 나랑 서점에 같이 갈래?\n",
      "#Person2#: 좋은 생각이야. 가자.\n",
      "#Person1#: 제프리가 두 번째 탐정 소설을 출간한 거 알아?\n",
      "#Person2#: 응, 들었어. 네가 그 책 사고 싶어하는 거 알아. 하지만 나는 탐정 소설엔 관심 없어.\n",
      "#Person1#: 그럼 넌 뭐에 관심 있어?\n",
      "#Person2#: 코스모폴리탄 같은 패션 잡지.\n",
      "#Person1#: 그 잡지 알아. 되게 유명하지.\n",
      "#Person2#: 맞아. 몇 권 빌려줄게.\n",
      "#Person1#: 고마워. 근데 난 관심 없어.\n",
      "\n",
      "Pred Summary: #Person1#: Let's go to the bookstore together?\n",
      "#Person2#: That's a good idea. Let's go.\n",
      "#Person1#: Do you know that Jeffrey published his second detective novel?\n",
      "#Person2#: Yeah, I heard about it. I know you want to buy that book. But I'm not interested in detective novels.\n",
      "#Person1#: Then what are you interested in?\n",
      "#Person2#: Fashion magazines like Cosmopolitan.\n",
      "#Person1#: I know that magazine. It's very popular.\n",
      "#Person2#: Right. I'll lend you a few.\n",
      "#Person1#: Thanks, but I'm not interested.\n",
      "\n",
      "Gold Summary: #Person1#은 제프리의 탐정 소설에 관심이 있으며, #Person2#는 패션 잡지에 관심을 가지고 있습니다.\n",
      "\n",
      "====================================================================================================\n",
      "Dialogue:\n",
      "#Person1#: 안녕하세요, 제 이름은 Bill Martin인데, 오늘 밤 파티 예약을 했습니다.\n",
      "#Person2#: 네, 무엇을 도와드릴까요?\n",
      "#Person1#: 그걸 취소해야 할 것 같아요. 갑자기 계획이 바뀌었어요.\n",
      "#Person2#: 알겠습니다. 다른 날로 예약을 변경하시겠습니까?\n",
      "#Person1#: 네, 가능한 한 빨리 알려드릴게요. 그런데, 이 취소에 대해 환불 받을 수 있을까요?\n",
      "#Person2#: 물론입니다.\n",
      "#Person1#: 정말 감사합니다.\n",
      "#Person2#: 괜찮습니다. 다음에 또 도와드리도록 하겠습니다. 안녕히 가세요.\n",
      "#Person1#: 안녕히 계세요.\n",
      "\n",
      "Pred Summary: Bill Martin은 오늘 밤 파티 예약을 취소해야 한다고 합니다. 그는 가능한 한 빨리 다른 날짜로 예약을 변경할 것이라고 합니다. 그는 또한 취소 시 환불을 받을 수 있는지 묻습니다.\n",
      "\n",
      "Gold Summary: Bill Martin은 오늘 밤 파티 예약을 취소하고 환불을 요청합니다.\n",
      "\n",
      "====================================================================================================\n",
      "Dialogue:\n",
      "#Person1#: 오늘 너무 바빠. \n",
      "#Person2#: 내가 도와줄까? \n",
      "#Person1#: 잘 모르겠어. 아마 장 보러 가줄 수 있을지도 모르지만. \n",
      "#Person2#: 기꺼이 도와줄게. \n",
      "#Person1#: 아니면 침대 정리 좀 해줄래? \n",
      "#Person2#: 도와달라고 말만 하면 돼. \n",
      "#Person1#: 고마워. 진짜 잘 됐네! \n",
      "#Person2#: 언제든 도울 준비가 되어 있어.\n",
      "\n",
      "Pred Summary: #Person1#: I'm so busy today. \n",
      "#Person2#: Can I help you? \n",
      "#Person1#: I'm not sure. Maybe you can go grocery shopping for me. \n",
      "#Person2#: I'd be happy to help. \n",
      "#Person1#: Or maybe you can make my bed? \n",
      "#Person2#: Just tell me what you need and I'll help you. \n",
      "#Person1#: Thanks, that's a relief! \n",
      "#Person2#: I'm always ready to help.\n",
      "\n",
      "Gold Summary: #Person1#은 바쁜 상황이고 #Person2#은 기꺼이 돕겠다고 한다.\n",
      "\n",
      "====================================================================================================\n",
      "Dialogue:\n",
      "#Person1#: 안녕하세요, 제가 도와드릴 게 있나요?\n",
      "#Person2#: 사진 사이즈를 좀 키워주실 수 있나요?\n",
      "#Person1#: 물론이죠, 어떤 크기로 원하시나요?\n",
      "#Person2#: 5인치로 좀 키워주세요.\n",
      "#Person1#: 문제없습니다. 금요일에 와서 사진 찾아가세요.\n",
      "\n",
      "Pred Summary: #Person1#: Hello, is there anything I can help you with?\n",
      "#Person2#: Can you enlarge the photo size?\n",
      "#Person1#: Sure, what size would you like?\n",
      "#Person2#: Make it 5 inches.\n",
      "#Person1#: No problem. Come back on Friday to pick up your photo.\n",
      "\n",
      "Gold Summary: #Person2#가 #Person1#에게 사진의 크기를 5인치로 확대해 달라고 요청하고, 금요일에 찾아가기로 합니다.\n",
      "\n",
      "====================================================================================================\n",
      "Dialogue:\n",
      "#Person1#: 내가 그 모든 걸 알게 됐을 때, 그에게 좋지 않은 감정이 들었어. \n",
      "#Person2#: 하지만 Ben은 나쁜 사람이 아니야. 나는 그를 속속들이 알고 있어. \n",
      "#Person1#: 그래도 이번에는 우리를 정말 실망시켰어. \n",
      "#Person2#: 그 마음은 이해해. 하지만... \n",
      "\n",
      "Pred Summary: #Person1#: I felt bad for him when I found out all that. \n",
      "#Person2#: But Ben is not a bad person. I know him well. \n",
      "#Person1#: Still, he really let us down this time. \n",
      "#Person2#: I understand your feelings. But...\n",
      "\n",
      "Gold Summary: #Person2#는 Ben을 옹호하고, #Person1#는 Ben에 대해 불만을 토로합니다.\n",
      "\n",
      "====================================================================================================\n",
      "Dialogue:\n",
      "#Person1#: 안녕하세요. 어떻게 도와드릴까요, 손님?\n",
      "#Person2#: 안녕하세요. 머리 좀 자르고 싶어요.\n",
      "#Person1#: 알겠습니다. 여기 앉아주세요. 머리를 아주 짧게 자를까요?\n",
      "#Person2#: 옆머리는 짧게 잘라주세요, 하지만 뒷머리는 많이 자르지 말아주세요.\n",
      "#Person1#: 요즘 날씨가 너무 덥죠? 위쪽은 숱을 좀 쳐드릴까요?\n",
      "#Person2#: 좋은 생각이네요. 하지만 앞머리는 지금 있는 그대로 놔두세요.\n",
      "#Person1#: (몇 분 후) 이제 다 됐습니다. 만족하신가요?\n",
      "#Person2#: 아주 좋아요, 감사합니다.\n",
      "#Person1#: 다른 것도 도와드릴까요, 손님?\n",
      "#Person2#: 아니요, 괜찮습니다.\n",
      "\n",
      "Pred Summary: #Person1#: Hello. How can I help you, sir?\n",
      "#Person2#: Hello. I want to get my hair cut.\n",
      "#Person1#: Okay. Please sit down. Do you want to get your hair really short?\n",
      "#Person2#: Cut the sides short, but don't cut the back too much.\n",
      "#Person1#: It's so hot these days, isn't it? Do you want me to thin out the top?\n",
      "#Person2#: That's a good idea. But leave the front alone.\n",
      "#Person1#: (After a few minutes) All done. Are you satisfied?\n",
      "#Person2#: It's great, thank you.\n",
      "#Person1#: Can I help you with anything else, sir?\n",
      "#Person2#: No, that's okay.\n",
      "\n",
      "Gold Summary: #Person2#는 옆머리는 짧게, 뒷머리는 많이 자르지 않고, 위쪽만 숱을 쳐달라고 요청합니다. #Person1#은 이 요청을 반영하여 머리를 손질해 줍니다.\n",
      "\n",
      "====================================================================================================\n",
      "Dialogue:\n",
      "#Person1#: 안녕하세요, 당장 관리인과 얘기하고 싶어요!\n",
      "#Person2#: 관리인입니다. 무슨 문제인가요?\n",
      "#Person1#: 오늘 아침 일어나 보니 천장에서 물이 쏟아지고 있었어요!\n",
      "#Person2#: 어디 방에서 누수가 있었는지 말씀해 주시겠어요?\n",
      "#Person1#: 여러 방에서 그랬는데, 가장 심한 누수는 욕실에서였어요.\n",
      "#Person2#: 몇 층인지 다시 한번 말씀해 주시겠어요?\n",
      "#Person1#: 2층 중간 층입니다.\n",
      "#Person2#: 부관리자를 보내서 확인해 보겠습니다. 오늘 아침에 봐도 괜찮을까요?\n",
      "#Person1#: 사실 지금 학교에 가야 해요.\n",
      "#Person2#: 만약 집에 없으시면, 저희 주 전열쇠를 사용해서 들어가 확인하겠습니다.\n",
      "\n",
      "Pred Summary: #Person1#: Hello, I need to talk to the manager right away!\n",
      "#Person2#: This is the manager. What is the problem?\n",
      "#Person1#: I woke up this morning and there was water pouring from the ceiling!\n",
      "#Person2#: Can you tell me which room had the leak?\n",
      "#Person1#: It was in several rooms, but the worst leak was in the bathroom.\n",
      "#Person2#: Can you tell me again which floor you are on?\n",
      "#Person1#: It's the middle floor on the second floor.\n",
      "#Person2#: I will send the assistant manager to check it out. Can I come by today morning?\n",
      "#Person1#: Actually, I have to go to school.\n",
      "#Person2#: If you are not home, we will use the spare key to go in and check.\n",
      "\n",
      "Gold Summary: #Person1#이 방의 누수를 고치기 위해 관리인에게 연락하자, 관리인은 부관리자를 보내기로 결정합니다.\n",
      "\n",
      "====================================================================================================\n",
      "Dialogue:\n",
      "#Person1#: 도와드릴까요?\n",
      "#Person2#: 아내와 함께 베이징으로 여행을 가고 싶어요. 예약 가능할까요?\n",
      "#Person1#: 네, 가능합니다.\n",
      "#Person2#: 여행사에서 어떤 종류의 투어가 있는지 알고 싶어요.\n",
      "#Person1#: 저희 여행사는 개인 여행부터 단체 패키지 여행까지 다양한 투어를 제공합니다.\n",
      "#Person2#: 좋네요.\n",
      "#Person1#: 언제 오실 예정이세요?\n",
      "#Person2#: 9월 28일입니다.\n",
      "#Person1#: 방문하고 싶은 특정 장소가 있으신가요?\n",
      "#Person2#: 만리장성, 명릉, 그리고 자금성을 방문하고 싶습니다.\n",
      "#Person1#: 네, 알겠습니다.\n",
      "\n",
      "Pred Summary: #Person1#: Can I help you?\n",
      "#Person2#: I want to go to Beijing with my wife. Is it available?\n",
      "#Person1#: Yes, it is.\n",
      "#Person2#: I want to know what kind of tours are available from the travel agency.\n",
      "#Person1#: Our travel agency offers various tours from individual travel to group package tours.\n",
      "#Person2#: That's good.\n",
      "#Person1#: When do you plan to come?\n",
      "#Person2#: On September 28th.\n",
      "#Person1#: Do you have any specific places you want to visit?\n",
      "#Person2#: I want to visit the Great Wall, Ming Tombs, and the Forbidden City.\n",
      "#Person1#: Okay, I understand.\n",
      "\n",
      "Gold Summary: #Person1#은 #Person2#의 9월 28일 베이징 여행을 준비하며, 만리장성, 명릉, 자금성 방문을 계획합니다.\n",
      "\n",
      "====================================================================================================\n",
      "Dialogue:\n",
      "#Person1#: 안녕하세요. 도와드릴까요?\n",
      "#Person2#: 안녕하세요. 제 세탁물 완료됐나요? 제 객실 번호는 210이에요.\n",
      "#Person1#: 죄송하지만 아직 세탁 중이에요.\n",
      "#Person2#: 얼룩 제거할 수 있을까요?\n",
      "#Person1#: 네, 가능합니다. 하지만 잠시 기다려 주셔야 해요.\n",
      "#Person2#: 알겠습니다. 오후에는 받을 수 있을까요? 오늘 저녁에 꼭 필요해요.\n",
      "#Person1#: 네, 그때까지 준비될 거예요.\n",
      "#Person2#: 알겠어요. 그나저나, 다림질도 부탁드릴게요.\n",
      "#Person1#: 문제없습니다.\n",
      "\n",
      "Pred Summary: #Person1#: Hello. Can I help you?\n",
      "#Person2#: Hello. Is my laundry done? My room number is 210.\n",
      "#Person1#: Sorry, but it's still in the wash.\n",
      "#Person2#: Can you remove the stains?\n",
      "#Person1#: Yes, we can. But you'll have to wait a little.\n",
      "#Person2#: Okay. Can I get it this afternoon? I need it tonight.\n",
      "#Person1#: Yes, it will be ready by then.\n",
      "#Person2#: Okay. By the way, I'd like to get it pressed as well.\n",
      "#Person1#: No problem.\n",
      "\n",
      "Gold Summary: #Person2#가 #Person1#에게 세탁물을 다림질까지 해서 오후까지 준비해 줄 것을 요청합니다.\n",
      "\n",
      "====================================================================================================\n",
      "Dialogue:\n",
      "#Person1#: 미스 리우, 들어오세요.\n",
      "#Person2#: 무슨 일로 부르셨나요, 선생님?\n",
      "#Person1#: 이 보고서를 복사해 주세요.\n",
      "#Person2#: 네, 어떤 크기로 해야 하나요?\n",
      "#Person1#: A4 용지로 하면 돼요.\n",
      "#Person2#: 알겠습니다. 제본은 필요 없나요?\n",
      "#Person1#: 네, 필요 없어요.\n",
      "#Person2#: 알겠습니다.\n",
      "\n",
      "Pred Summary: #Person1#: Ms. Liu, come in.\n",
      "#Person2#: What do you need me for, teacher?\n",
      "#Person1#: Please copy this report.\n",
      "#Person2#: Okay, what size should I make it?\n",
      "#Person1#: A4 size will do.\n",
      "#Person2#: Okay. Do you need it stapled?\n",
      "#Person1#: No, I don't need it stapled.\n",
      "#Person2#: Okay.\n",
      "\n",
      "Gold Summary: #Person1#이 Miss Liu에게 A4 용지로 보고서를 복사해 달라고 요청합니다.\n",
      "\n",
      "====================================================================================================\n",
      "Dialogue:\n",
      "#Person1#: 이런 레스토랑은 처음이야. \n",
      "#Person2#: 정말 다르지, 그치? \n",
      "#Person1#: 딱 맞는 표현이네. \n",
      "#Person2#: 배고프길 바래. 여기 피자는 엄청 크고 정말 맛있어. \n",
      "#Person1#: 나 배고파. 혼자서도 많이 먹을 수 있을 것 같아. \n",
      "#Person2#: 그럼, 일단 하나 주문하자. \n",
      "#Person1#: 나 캘리포니아 피자가 먹고 싶어. \n",
      "#Person2#: 내 최애 피자네. 웨이터, 주문할게요.\n",
      "\n",
      "Pred Summary: The conversation is about a restaurant and the food they are ordering. The first person is excited about the restaurant and the second person agrees. They both mention that the pizza is big and delicious. The first person says they are hungry and the second person suggests ordering one. The first person says they want a California pizza and the second person agrees. They call the waiter to place their order.\n",
      "\n",
      "Gold Summary: #Person2#는 #Person1#을 특별한 레스토랑으로 데려가 캘리포니아 피자를 주문합니다.\n",
      "\n",
      "====================================================================================================\n",
      "Dialogue:\n",
      "#Person1#: 인도에 있는 이 호텔이 세계 1위 호텔로 뽑혔다네! \n",
      "#Person2#: 뭐? 광고 팔려고 상위 리스트 만들던 그런 사이트가 아니라?\n",
      "#Person1#: 아니, Travel + Leisure 매거진에서 선정한 거야.\n",
      "#Person2#: 오, 진짜? 그럼 확실히 전문가들이 뽑았겠네. 와, 저거 거의 궁전 같은데!\n",
      "#Person1#: 북인도의 고대 궁전을 본떠서 디자인했대.\n",
      "#Person2#: 방들 보니까 발코니가 되게 많아.\n",
      "#Person1#: 응, 저건 개인 수영장과 바로 연결된 스위트룸들이야. 근데 모든 방에 와이파이, 평면 TV, 킹사이즈 침대, 매일 신문도 제공돼.\n",
      "#Person2#: 오케이, 그만 말해! 예약해야겠어!\n",
      "#Person1#: 잠깐만. 너 인도 음식 별로 안 좋아하잖아.\n",
      "#Person2#: 근데 인도 음식 말고도 다른 것도 제공할 것 같은데...\n",
      "#Person1#: 아마 그렇겠지. 근데 이곳은 정말 조용해. 쇼핑이나 클럽은 없어. 사람들이 여기 와서 휴식을 취하거든.\n",
      "#Person2#: 괜찮아. 나 쇼핑은 어디서든 할 수 있어.\n",
      "#Person1#: 방이 1박에 350달러부터 시작이고, 스위트룸은 1박에 750달러야.\n",
      "#Person2#: 와우! 인도가 원래 저렴한 줄 알았는데!\n",
      "\n",
      "Pred Summary: India's top hotel is a replica of an ancient palace in North India. It has a pool, WiFi, flat-screen TVs, and a king-sized bed in every room. It's a quiet place to relax, but there are no shopping or nightclubs. Rooms start at $350 per night, and suites are $750 per night.\n",
      "\n",
      "Gold Summary: #Person1#은 #Person2#에게 세계 1위로 선정된 인도의 한 호텔을 소개하며, #Person2#는 그 호텔에 예약을 하고 싶어 합니다. 두 사람은 호텔의 세부 사항과 가격에 대해 이야기하며, #Person2#는 가격에 놀랍니다.\n",
      "\n",
      "====================================================================================================\n",
      "Dialogue:\n",
      "#Person1#: 안녕하세요, 무엇을 도와드릴까요?\n",
      "#Person2#: 이번 주 뉴욕 날씨 좀 알고 싶어요.\n",
      "#Person1#: 네, 낮에는 꽤 덥고 저녁에는 비가 많이 올 거예요.\n",
      "#Person2#: 알겠어요, 도와주셔서 감사합니다.\n",
      "\n",
      "Pred Summary: The program translates all the Korean sentences to English.\n",
      "\n",
      "Gold Summary: #Person1#은 #Person2#에게 이번 주 뉴욕의 날씨를 안내합니다.\n",
      "\n",
      "====================================================================================================\n",
      "Dialogue:\n",
      "#Person1#: 무슨 일 있었어? 거의 한 시간 기다렸어. \n",
      "#Person2#: 미안해, 차에 문제가 생겼어. \n",
      "#Person1#: 아, 안 됐구나. 전화할 수 없었어? \n",
      "#Person2#: 하려고 했는데, 공중전화에 쓸 잔돈이 없었어. \n",
      "#Person1#: 가게에서 잔돈 바꿨어야지. \n",
      "#Person2#: 근데 도시 밖이라 잔돈 바꿀 곳이 없었어. \n",
      "#Person1#: 뭐, 지금이라도 와서 다행이야. 이제 기다릴 필요 없어. 시작하자.\n",
      "\n",
      "Pred Summary: #Person1#: What happened? I waited for almost an hour. \n",
      "#Person2#: Sorry, my car broke down. \n",
      "#Person1#: Oh, that’s too bad. Couldn’t you call me? \n",
      "#Person2#: I tried to, but I didn’t have any change for the pay phone. \n",
      "#Person1#: You should have changed your money at a store. \n",
      "#Person2#: But there was no place to change money because we were outside of the city. \n",
      "#Person1#: Well, it’s good that you came now. We don’t have to wait anymore. Let’s get started.\n",
      "\n",
      "Gold Summary: #Person2#는 차에 문제가 생겨서 지각했고, 전화를 걸기 위한 잔돈이 없어서 연락할 수 없었다.\n",
      "\n",
      "====================================================================================================\n",
      "Dialogue:\n",
      "#Person1#: 홈스테이 가정은 어떻게 선정되나요?\n",
      "#Person2#: 저희는 국제 학생들을 초대하기 전에 가정이 충족해야 할 특별한 요구 사항이 있습니다. 학교에서 적당한 거리에 살고, 학생이 사용할 공간이 충분하며, 깨끗하고 안전하며 편안한 지역에 거주해야 해요. 그리고 국제 학생들을 환영하는 가정과 함께 일합니다. 최대한 학생에게 잘 맞는 가정을 찾아 연결하려고 노력하고 있어요.\n",
      "#Person1#: 홈스테이 가정과 살게 되면 어떤 걸 기대할 수 있을까요?\n",
      "#Person2#: 그 가정은 여러분을 손님으로 대할 것이고, 여러분은 가정의 규칙에 따라야 해요. 모든 가정은 개인 또는 공유 방과 식사를 제공합니다. 대부분의 경우 학생들은 욕실을 공유해야 할 거예요. 가정과 함께 사는 건 언어를 배우는 가장 재미있고 효과적인 방법 중 하나라는 경험이 있어요. 홈스테이 가정은 익숙한 것과 다른 관습과 습관이 있을 수 있으니 그 점을 명심하세요. 식사는 가정에서 준비합니다. 모든 홈스테이 가정은 학교까지 30분 이내의 거리에 있습니다. 도시가 작을수록 학교에 도착하는 시간이 적게 걸려요.\n",
      "\n",
      "Pred Summary: \n",
      "\n",
      "Gold Summary: #Person1#은 #Person2#에게 홈스테이 가정이 어떻게 선정되는지 묻습니다. #Person2#는 가정이 학생을 손님으로 대하고 학생이 가정의 규칙을 따라야 한다고 설명합니다. 또한, 가정과 함께 생활하는 것이 언어를 배우는 재미있고 효과적인 방법이라고 이야기합니다.\n",
      "\n",
      "====================================================================================================\n"
     ]
    },
    {
     "ename": "KeyboardInterrupt",
     "evalue": "",
     "output_type": "error",
     "traceback": [
      "\u001b[31m---------------------------------------------------------------------------\u001b[39m",
      "\u001b[31mKeyboardInterrupt\u001b[39m                         Traceback (most recent call last)",
      "\u001b[36mCell\u001b[39m\u001b[36m \u001b[39m\u001b[32mIn[37]\u001b[39m\u001b[32m, line 2\u001b[39m\n\u001b[32m      1\u001b[39m \u001b[38;5;28;01mif\u001b[39;00m \u001b[34m__name__\u001b[39m == \u001b[33m\"\u001b[39m\u001b[33m__main__\u001b[39m\u001b[33m\"\u001b[39m:\n\u001b[32m----> \u001b[39m\u001b[32m2\u001b[39m     back_translation = \u001b[43mtest_on_train_data\u001b[49m\u001b[43m(\u001b[49m\u001b[38;5;28;43mlen\u001b[39;49m\u001b[43m(\u001b[49m\u001b[43mtrain_df\u001b[49m\u001b[43m)\u001b[49m\u001b[43m)\u001b[49m\n",
      "\u001b[36mCell\u001b[39m\u001b[36m \u001b[39m\u001b[32mIn[34]\u001b[39m\u001b[32m, line 5\u001b[39m, in \u001b[36mtest_on_train_data\u001b[39m\u001b[34m(num_samples)\u001b[39m\n\u001b[32m      3\u001b[39m \u001b[38;5;28;01mfor\u001b[39;00m idx, row \u001b[38;5;129;01min\u001b[39;00m train_df[:num_samples].iterrows():\n\u001b[32m      4\u001b[39m     dialogue = row[\u001b[33m'\u001b[39m\u001b[33mdialogue\u001b[39m\u001b[33m'\u001b[39m]\n\u001b[32m----> \u001b[39m\u001b[32m5\u001b[39m     summary = \u001b[43msummarization\u001b[49m\u001b[43m(\u001b[49m\u001b[43mdialogue\u001b[49m\u001b[43m)\u001b[49m\n\u001b[32m      6\u001b[39m     \u001b[38;5;28mprint\u001b[39m(\u001b[33mf\u001b[39m\u001b[33m\"\u001b[39m\u001b[33mDialogue:\u001b[39m\u001b[38;5;130;01m\\n\u001b[39;00m\u001b[38;5;132;01m{\u001b[39;00mdialogue\u001b[38;5;132;01m}\u001b[39;00m\u001b[38;5;130;01m\\n\u001b[39;00m\u001b[33m\"\u001b[39m)\n\u001b[32m      7\u001b[39m     \u001b[38;5;28mprint\u001b[39m(\u001b[33mf\u001b[39m\u001b[33m\"\u001b[39m\u001b[33mPred Summary: \u001b[39m\u001b[38;5;132;01m{\u001b[39;00msummary\u001b[38;5;132;01m}\u001b[39;00m\u001b[38;5;130;01m\\n\u001b[39;00m\u001b[33m\"\u001b[39m)\n",
      "\u001b[36mCell\u001b[39m\u001b[36m \u001b[39m\u001b[32mIn[33]\u001b[39m\u001b[32m, line 10\u001b[39m, in \u001b[36msummarization\u001b[39m\u001b[34m(dialogue)\u001b[39m\n\u001b[32m      8\u001b[39m \u001b[38;5;66;03m# Generation\u001b[39;00m\n\u001b[32m      9\u001b[39m \u001b[38;5;28;01mwith\u001b[39;00m torch.no_grad():\n\u001b[32m---> \u001b[39m\u001b[32m10\u001b[39m     output = \u001b[43mmodel\u001b[49m\u001b[43m.\u001b[49m\u001b[43mgenerate\u001b[49m\u001b[43m(\u001b[49m\n\u001b[32m     11\u001b[39m \u001b[43m        \u001b[49m\u001b[43m*\u001b[49m\u001b[43m*\u001b[49m\u001b[43minputs\u001b[49m\u001b[43m,\u001b[49m\n\u001b[32m     12\u001b[39m \u001b[43m        \u001b[49m\u001b[43mmax_new_tokens\u001b[49m\u001b[43m=\u001b[49m\u001b[32;43m512\u001b[39;49m\u001b[43m,\u001b[49m\n\u001b[32m     13\u001b[39m \u001b[43m        \u001b[49m\u001b[43mtemperature\u001b[49m\u001b[43m=\u001b[49m\u001b[32;43m0.1\u001b[39;49m\u001b[43m,\u001b[49m\n\u001b[32m     14\u001b[39m \u001b[43m        \u001b[49m\u001b[43mtop_p\u001b[49m\u001b[43m=\u001b[49m\u001b[32;43m0.3\u001b[39;49m\u001b[43m,\u001b[49m\n\u001b[32m     15\u001b[39m \u001b[43m        \u001b[49m\u001b[43mdo_sample\u001b[49m\u001b[43m=\u001b[49m\u001b[38;5;28;43;01mTrue\u001b[39;49;00m\u001b[43m,\u001b[49m\n\u001b[32m     16\u001b[39m \u001b[43m        \u001b[49m\u001b[43mpad_token_id\u001b[49m\u001b[43m=\u001b[49m\u001b[43mtokenizer\u001b[49m\u001b[43m.\u001b[49m\u001b[43meos_token_id\u001b[49m\u001b[43m,\u001b[49m\n\u001b[32m     17\u001b[39m \u001b[43m    \u001b[49m\u001b[43m)\u001b[49m\n\u001b[32m     19\u001b[39m \u001b[38;5;66;03m# 출력 추출(프롬프트 부분 제외)\u001b[39;00m\n\u001b[32m     20\u001b[39m generated = output[:, inputs.input_ids.shape[\u001b[32m1\u001b[39m]:]\n",
      "\u001b[36mFile \u001b[39m\u001b[32m~/.pyenv/versions/py12/lib/python3.12/site-packages/torch/utils/_contextlib.py:116\u001b[39m, in \u001b[36mcontext_decorator.<locals>.decorate_context\u001b[39m\u001b[34m(*args, **kwargs)\u001b[39m\n\u001b[32m    113\u001b[39m \u001b[38;5;129m@functools\u001b[39m.wraps(func)\n\u001b[32m    114\u001b[39m \u001b[38;5;28;01mdef\u001b[39;00m\u001b[38;5;250m \u001b[39m\u001b[34mdecorate_context\u001b[39m(*args, **kwargs):\n\u001b[32m    115\u001b[39m     \u001b[38;5;28;01mwith\u001b[39;00m ctx_factory():\n\u001b[32m--> \u001b[39m\u001b[32m116\u001b[39m         \u001b[38;5;28;01mreturn\u001b[39;00m \u001b[43mfunc\u001b[49m\u001b[43m(\u001b[49m\u001b[43m*\u001b[49m\u001b[43margs\u001b[49m\u001b[43m,\u001b[49m\u001b[43m \u001b[49m\u001b[43m*\u001b[49m\u001b[43m*\u001b[49m\u001b[43mkwargs\u001b[49m\u001b[43m)\u001b[49m\n",
      "\u001b[36mFile \u001b[39m\u001b[32m~/.pyenv/versions/py12/lib/python3.12/site-packages/transformers/generation/utils.py:2625\u001b[39m, in \u001b[36mGenerationMixin.generate\u001b[39m\u001b[34m(self, inputs, generation_config, logits_processor, stopping_criteria, prefix_allowed_tokens_fn, synced_gpus, assistant_model, streamer, negative_prompt_ids, negative_prompt_attention_mask, use_model_defaults, custom_generate, **kwargs)\u001b[39m\n\u001b[32m   2617\u001b[39m     input_ids, model_kwargs = \u001b[38;5;28mself\u001b[39m._expand_inputs_for_generation(\n\u001b[32m   2618\u001b[39m         input_ids=input_ids,\n\u001b[32m   2619\u001b[39m         expand_size=generation_config.num_return_sequences,\n\u001b[32m   2620\u001b[39m         is_encoder_decoder=\u001b[38;5;28mself\u001b[39m.config.is_encoder_decoder,\n\u001b[32m   2621\u001b[39m         **model_kwargs,\n\u001b[32m   2622\u001b[39m     )\n\u001b[32m   2624\u001b[39m     \u001b[38;5;66;03m# 12. run sample (it degenerates to greedy search when `generation_config.do_sample=False`)\u001b[39;00m\n\u001b[32m-> \u001b[39m\u001b[32m2625\u001b[39m     result = \u001b[38;5;28;43mself\u001b[39;49m\u001b[43m.\u001b[49m\u001b[43m_sample\u001b[49m\u001b[43m(\u001b[49m\n\u001b[32m   2626\u001b[39m \u001b[43m        \u001b[49m\u001b[43minput_ids\u001b[49m\u001b[43m,\u001b[49m\n\u001b[32m   2627\u001b[39m \u001b[43m        \u001b[49m\u001b[43mlogits_processor\u001b[49m\u001b[43m=\u001b[49m\u001b[43mprepared_logits_processor\u001b[49m\u001b[43m,\u001b[49m\n\u001b[32m   2628\u001b[39m \u001b[43m        \u001b[49m\u001b[43mstopping_criteria\u001b[49m\u001b[43m=\u001b[49m\u001b[43mprepared_stopping_criteria\u001b[49m\u001b[43m,\u001b[49m\n\u001b[32m   2629\u001b[39m \u001b[43m        \u001b[49m\u001b[43mgeneration_config\u001b[49m\u001b[43m=\u001b[49m\u001b[43mgeneration_config\u001b[49m\u001b[43m,\u001b[49m\n\u001b[32m   2630\u001b[39m \u001b[43m        \u001b[49m\u001b[43msynced_gpus\u001b[49m\u001b[43m=\u001b[49m\u001b[43msynced_gpus\u001b[49m\u001b[43m,\u001b[49m\n\u001b[32m   2631\u001b[39m \u001b[43m        \u001b[49m\u001b[43mstreamer\u001b[49m\u001b[43m=\u001b[49m\u001b[43mstreamer\u001b[49m\u001b[43m,\u001b[49m\n\u001b[32m   2632\u001b[39m \u001b[43m        \u001b[49m\u001b[43m*\u001b[49m\u001b[43m*\u001b[49m\u001b[43mmodel_kwargs\u001b[49m\u001b[43m,\u001b[49m\n\u001b[32m   2633\u001b[39m \u001b[43m    \u001b[49m\u001b[43m)\u001b[49m\n\u001b[32m   2635\u001b[39m \u001b[38;5;28;01melif\u001b[39;00m generation_mode \u001b[38;5;129;01min\u001b[39;00m (GenerationMode.BEAM_SAMPLE, GenerationMode.BEAM_SEARCH):\n\u001b[32m   2636\u001b[39m     \u001b[38;5;66;03m# 11. interleave input_ids with `num_beams` additional sequences per batch\u001b[39;00m\n\u001b[32m   2637\u001b[39m     input_ids, model_kwargs = \u001b[38;5;28mself\u001b[39m._expand_inputs_for_generation(\n\u001b[32m   2638\u001b[39m         input_ids=input_ids,\n\u001b[32m   2639\u001b[39m         expand_size=generation_config.num_beams,\n\u001b[32m   2640\u001b[39m         is_encoder_decoder=\u001b[38;5;28mself\u001b[39m.config.is_encoder_decoder,\n\u001b[32m   2641\u001b[39m         **model_kwargs,\n\u001b[32m   2642\u001b[39m     )\n",
      "\u001b[36mFile \u001b[39m\u001b[32m~/.pyenv/versions/py12/lib/python3.12/site-packages/transformers/generation/utils.py:3609\u001b[39m, in \u001b[36mGenerationMixin._sample\u001b[39m\u001b[34m(self, input_ids, logits_processor, stopping_criteria, generation_config, synced_gpus, streamer, **model_kwargs)\u001b[39m\n\u001b[32m   3607\u001b[39m     is_prefill = \u001b[38;5;28;01mFalse\u001b[39;00m\n\u001b[32m   3608\u001b[39m \u001b[38;5;28;01melse\u001b[39;00m:\n\u001b[32m-> \u001b[39m\u001b[32m3609\u001b[39m     outputs = \u001b[43mmodel_forward\u001b[49m\u001b[43m(\u001b[49m\u001b[43m*\u001b[49m\u001b[43m*\u001b[49m\u001b[43mmodel_inputs\u001b[49m\u001b[43m,\u001b[49m\u001b[43m \u001b[49m\u001b[43mreturn_dict\u001b[49m\u001b[43m=\u001b[49m\u001b[38;5;28;43;01mTrue\u001b[39;49;00m\u001b[43m)\u001b[49m\n\u001b[32m   3611\u001b[39m \u001b[38;5;66;03m# synced_gpus: don't waste resources running the code we don't need; kwargs must be updated before skipping\u001b[39;00m\n\u001b[32m   3612\u001b[39m model_kwargs = \u001b[38;5;28mself\u001b[39m._update_model_kwargs_for_generation(\n\u001b[32m   3613\u001b[39m     outputs,\n\u001b[32m   3614\u001b[39m     model_kwargs,\n\u001b[32m   3615\u001b[39m     is_encoder_decoder=\u001b[38;5;28mself\u001b[39m.config.is_encoder_decoder,\n\u001b[32m   3616\u001b[39m )\n",
      "\u001b[36mFile \u001b[39m\u001b[32m~/.pyenv/versions/py12/lib/python3.12/site-packages/torch/nn/modules/module.py:1751\u001b[39m, in \u001b[36mModule._wrapped_call_impl\u001b[39m\u001b[34m(self, *args, **kwargs)\u001b[39m\n\u001b[32m   1749\u001b[39m     \u001b[38;5;28;01mreturn\u001b[39;00m \u001b[38;5;28mself\u001b[39m._compiled_call_impl(*args, **kwargs)  \u001b[38;5;66;03m# type: ignore[misc]\u001b[39;00m\n\u001b[32m   1750\u001b[39m \u001b[38;5;28;01melse\u001b[39;00m:\n\u001b[32m-> \u001b[39m\u001b[32m1751\u001b[39m     \u001b[38;5;28;01mreturn\u001b[39;00m \u001b[38;5;28;43mself\u001b[39;49m\u001b[43m.\u001b[49m\u001b[43m_call_impl\u001b[49m\u001b[43m(\u001b[49m\u001b[43m*\u001b[49m\u001b[43margs\u001b[49m\u001b[43m,\u001b[49m\u001b[43m \u001b[49m\u001b[43m*\u001b[49m\u001b[43m*\u001b[49m\u001b[43mkwargs\u001b[49m\u001b[43m)\u001b[49m\n",
      "\u001b[36mFile \u001b[39m\u001b[32m~/.pyenv/versions/py12/lib/python3.12/site-packages/torch/nn/modules/module.py:1762\u001b[39m, in \u001b[36mModule._call_impl\u001b[39m\u001b[34m(self, *args, **kwargs)\u001b[39m\n\u001b[32m   1757\u001b[39m \u001b[38;5;66;03m# If we don't have any hooks, we want to skip the rest of the logic in\u001b[39;00m\n\u001b[32m   1758\u001b[39m \u001b[38;5;66;03m# this function, and just call forward.\u001b[39;00m\n\u001b[32m   1759\u001b[39m \u001b[38;5;28;01mif\u001b[39;00m \u001b[38;5;129;01mnot\u001b[39;00m (\u001b[38;5;28mself\u001b[39m._backward_hooks \u001b[38;5;129;01mor\u001b[39;00m \u001b[38;5;28mself\u001b[39m._backward_pre_hooks \u001b[38;5;129;01mor\u001b[39;00m \u001b[38;5;28mself\u001b[39m._forward_hooks \u001b[38;5;129;01mor\u001b[39;00m \u001b[38;5;28mself\u001b[39m._forward_pre_hooks\n\u001b[32m   1760\u001b[39m         \u001b[38;5;129;01mor\u001b[39;00m _global_backward_pre_hooks \u001b[38;5;129;01mor\u001b[39;00m _global_backward_hooks\n\u001b[32m   1761\u001b[39m         \u001b[38;5;129;01mor\u001b[39;00m _global_forward_hooks \u001b[38;5;129;01mor\u001b[39;00m _global_forward_pre_hooks):\n\u001b[32m-> \u001b[39m\u001b[32m1762\u001b[39m     \u001b[38;5;28;01mreturn\u001b[39;00m \u001b[43mforward_call\u001b[49m\u001b[43m(\u001b[49m\u001b[43m*\u001b[49m\u001b[43margs\u001b[49m\u001b[43m,\u001b[49m\u001b[43m \u001b[49m\u001b[43m*\u001b[49m\u001b[43m*\u001b[49m\u001b[43mkwargs\u001b[49m\u001b[43m)\u001b[49m\n\u001b[32m   1764\u001b[39m result = \u001b[38;5;28;01mNone\u001b[39;00m\n\u001b[32m   1765\u001b[39m called_always_called_hooks = \u001b[38;5;28mset\u001b[39m()\n",
      "\u001b[36mFile \u001b[39m\u001b[32m~/.pyenv/versions/py12/lib/python3.12/site-packages/transformers/utils/generic.py:943\u001b[39m, in \u001b[36mcan_return_tuple.<locals>.wrapper\u001b[39m\u001b[34m(self, *args, **kwargs)\u001b[39m\n\u001b[32m    940\u001b[39m     set_attribute_for_modules(\u001b[38;5;28mself\u001b[39m, \u001b[33m\"\u001b[39m\u001b[33m_is_top_level_module\u001b[39m\u001b[33m\"\u001b[39m, \u001b[38;5;28;01mFalse\u001b[39;00m)\n\u001b[32m    942\u001b[39m \u001b[38;5;28;01mtry\u001b[39;00m:\n\u001b[32m--> \u001b[39m\u001b[32m943\u001b[39m     output = \u001b[43mfunc\u001b[49m\u001b[43m(\u001b[49m\u001b[38;5;28;43mself\u001b[39;49m\u001b[43m,\u001b[49m\u001b[43m \u001b[49m\u001b[43m*\u001b[49m\u001b[43margs\u001b[49m\u001b[43m,\u001b[49m\u001b[43m \u001b[49m\u001b[43m*\u001b[49m\u001b[43m*\u001b[49m\u001b[43mkwargs\u001b[49m\u001b[43m)\u001b[49m\n\u001b[32m    944\u001b[39m     \u001b[38;5;28;01mif\u001b[39;00m is_requested_to_return_tuple \u001b[38;5;129;01mor\u001b[39;00m (is_configured_to_return_tuple \u001b[38;5;129;01mand\u001b[39;00m is_top_level_module):\n\u001b[32m    945\u001b[39m         output = output.to_tuple()\n",
      "\u001b[36mFile \u001b[39m\u001b[32m~/.pyenv/versions/py12/lib/python3.12/site-packages/transformers/models/llama/modeling_llama.py:553\u001b[39m, in \u001b[36mLlamaForCausalLM.forward\u001b[39m\u001b[34m(self, input_ids, attention_mask, position_ids, past_key_values, inputs_embeds, labels, use_cache, output_attentions, output_hidden_states, cache_position, logits_to_keep, **kwargs)\u001b[39m\n\u001b[32m    548\u001b[39m output_hidden_states = (\n\u001b[32m    549\u001b[39m     output_hidden_states \u001b[38;5;28;01mif\u001b[39;00m output_hidden_states \u001b[38;5;129;01mis\u001b[39;00m \u001b[38;5;129;01mnot\u001b[39;00m \u001b[38;5;28;01mNone\u001b[39;00m \u001b[38;5;28;01melse\u001b[39;00m \u001b[38;5;28mself\u001b[39m.config.output_hidden_states\n\u001b[32m    550\u001b[39m )\n\u001b[32m    552\u001b[39m \u001b[38;5;66;03m# decoder outputs consists of (dec_features, layer_state, dec_hidden, dec_attn)\u001b[39;00m\n\u001b[32m--> \u001b[39m\u001b[32m553\u001b[39m outputs: BaseModelOutputWithPast = \u001b[38;5;28;43mself\u001b[39;49m\u001b[43m.\u001b[49m\u001b[43mmodel\u001b[49m\u001b[43m(\u001b[49m\n\u001b[32m    554\u001b[39m \u001b[43m    \u001b[49m\u001b[43minput_ids\u001b[49m\u001b[43m=\u001b[49m\u001b[43minput_ids\u001b[49m\u001b[43m,\u001b[49m\n\u001b[32m    555\u001b[39m \u001b[43m    \u001b[49m\u001b[43mattention_mask\u001b[49m\u001b[43m=\u001b[49m\u001b[43mattention_mask\u001b[49m\u001b[43m,\u001b[49m\n\u001b[32m    556\u001b[39m \u001b[43m    \u001b[49m\u001b[43mposition_ids\u001b[49m\u001b[43m=\u001b[49m\u001b[43mposition_ids\u001b[49m\u001b[43m,\u001b[49m\n\u001b[32m    557\u001b[39m \u001b[43m    \u001b[49m\u001b[43mpast_key_values\u001b[49m\u001b[43m=\u001b[49m\u001b[43mpast_key_values\u001b[49m\u001b[43m,\u001b[49m\n\u001b[32m    558\u001b[39m \u001b[43m    \u001b[49m\u001b[43minputs_embeds\u001b[49m\u001b[43m=\u001b[49m\u001b[43minputs_embeds\u001b[49m\u001b[43m,\u001b[49m\n\u001b[32m    559\u001b[39m \u001b[43m    \u001b[49m\u001b[43muse_cache\u001b[49m\u001b[43m=\u001b[49m\u001b[43muse_cache\u001b[49m\u001b[43m,\u001b[49m\n\u001b[32m    560\u001b[39m \u001b[43m    \u001b[49m\u001b[43moutput_attentions\u001b[49m\u001b[43m=\u001b[49m\u001b[43moutput_attentions\u001b[49m\u001b[43m,\u001b[49m\n\u001b[32m    561\u001b[39m \u001b[43m    \u001b[49m\u001b[43moutput_hidden_states\u001b[49m\u001b[43m=\u001b[49m\u001b[43moutput_hidden_states\u001b[49m\u001b[43m,\u001b[49m\n\u001b[32m    562\u001b[39m \u001b[43m    \u001b[49m\u001b[43mcache_position\u001b[49m\u001b[43m=\u001b[49m\u001b[43mcache_position\u001b[49m\u001b[43m,\u001b[49m\n\u001b[32m    563\u001b[39m \u001b[43m    \u001b[49m\u001b[43m*\u001b[49m\u001b[43m*\u001b[49m\u001b[43mkwargs\u001b[49m\u001b[43m,\u001b[49m\n\u001b[32m    564\u001b[39m \u001b[43m\u001b[49m\u001b[43m)\u001b[49m\n\u001b[32m    566\u001b[39m hidden_states = outputs.last_hidden_state\n\u001b[32m    567\u001b[39m \u001b[38;5;66;03m# Only compute necessary logits, and do not upcast them to float if we are not computing the loss\u001b[39;00m\n",
      "\u001b[36mFile \u001b[39m\u001b[32m~/.pyenv/versions/py12/lib/python3.12/site-packages/torch/nn/modules/module.py:1751\u001b[39m, in \u001b[36mModule._wrapped_call_impl\u001b[39m\u001b[34m(self, *args, **kwargs)\u001b[39m\n\u001b[32m   1749\u001b[39m     \u001b[38;5;28;01mreturn\u001b[39;00m \u001b[38;5;28mself\u001b[39m._compiled_call_impl(*args, **kwargs)  \u001b[38;5;66;03m# type: ignore[misc]\u001b[39;00m\n\u001b[32m   1750\u001b[39m \u001b[38;5;28;01melse\u001b[39;00m:\n\u001b[32m-> \u001b[39m\u001b[32m1751\u001b[39m     \u001b[38;5;28;01mreturn\u001b[39;00m \u001b[38;5;28;43mself\u001b[39;49m\u001b[43m.\u001b[49m\u001b[43m_call_impl\u001b[49m\u001b[43m(\u001b[49m\u001b[43m*\u001b[49m\u001b[43margs\u001b[49m\u001b[43m,\u001b[49m\u001b[43m \u001b[49m\u001b[43m*\u001b[49m\u001b[43m*\u001b[49m\u001b[43mkwargs\u001b[49m\u001b[43m)\u001b[49m\n",
      "\u001b[36mFile \u001b[39m\u001b[32m~/.pyenv/versions/py12/lib/python3.12/site-packages/torch/nn/modules/module.py:1762\u001b[39m, in \u001b[36mModule._call_impl\u001b[39m\u001b[34m(self, *args, **kwargs)\u001b[39m\n\u001b[32m   1757\u001b[39m \u001b[38;5;66;03m# If we don't have any hooks, we want to skip the rest of the logic in\u001b[39;00m\n\u001b[32m   1758\u001b[39m \u001b[38;5;66;03m# this function, and just call forward.\u001b[39;00m\n\u001b[32m   1759\u001b[39m \u001b[38;5;28;01mif\u001b[39;00m \u001b[38;5;129;01mnot\u001b[39;00m (\u001b[38;5;28mself\u001b[39m._backward_hooks \u001b[38;5;129;01mor\u001b[39;00m \u001b[38;5;28mself\u001b[39m._backward_pre_hooks \u001b[38;5;129;01mor\u001b[39;00m \u001b[38;5;28mself\u001b[39m._forward_hooks \u001b[38;5;129;01mor\u001b[39;00m \u001b[38;5;28mself\u001b[39m._forward_pre_hooks\n\u001b[32m   1760\u001b[39m         \u001b[38;5;129;01mor\u001b[39;00m _global_backward_pre_hooks \u001b[38;5;129;01mor\u001b[39;00m _global_backward_hooks\n\u001b[32m   1761\u001b[39m         \u001b[38;5;129;01mor\u001b[39;00m _global_forward_hooks \u001b[38;5;129;01mor\u001b[39;00m _global_forward_pre_hooks):\n\u001b[32m-> \u001b[39m\u001b[32m1762\u001b[39m     \u001b[38;5;28;01mreturn\u001b[39;00m \u001b[43mforward_call\u001b[49m\u001b[43m(\u001b[49m\u001b[43m*\u001b[49m\u001b[43margs\u001b[49m\u001b[43m,\u001b[49m\u001b[43m \u001b[49m\u001b[43m*\u001b[49m\u001b[43m*\u001b[49m\u001b[43mkwargs\u001b[49m\u001b[43m)\u001b[49m\n\u001b[32m   1764\u001b[39m result = \u001b[38;5;28;01mNone\u001b[39;00m\n\u001b[32m   1765\u001b[39m called_always_called_hooks = \u001b[38;5;28mset\u001b[39m()\n",
      "\u001b[36mFile \u001b[39m\u001b[32m~/.pyenv/versions/py12/lib/python3.12/site-packages/transformers/utils/generic.py:943\u001b[39m, in \u001b[36mcan_return_tuple.<locals>.wrapper\u001b[39m\u001b[34m(self, *args, **kwargs)\u001b[39m\n\u001b[32m    940\u001b[39m     set_attribute_for_modules(\u001b[38;5;28mself\u001b[39m, \u001b[33m\"\u001b[39m\u001b[33m_is_top_level_module\u001b[39m\u001b[33m\"\u001b[39m, \u001b[38;5;28;01mFalse\u001b[39;00m)\n\u001b[32m    942\u001b[39m \u001b[38;5;28;01mtry\u001b[39;00m:\n\u001b[32m--> \u001b[39m\u001b[32m943\u001b[39m     output = \u001b[43mfunc\u001b[49m\u001b[43m(\u001b[49m\u001b[38;5;28;43mself\u001b[39;49m\u001b[43m,\u001b[49m\u001b[43m \u001b[49m\u001b[43m*\u001b[49m\u001b[43margs\u001b[49m\u001b[43m,\u001b[49m\u001b[43m \u001b[49m\u001b[43m*\u001b[49m\u001b[43m*\u001b[49m\u001b[43mkwargs\u001b[49m\u001b[43m)\u001b[49m\n\u001b[32m    944\u001b[39m     \u001b[38;5;28;01mif\u001b[39;00m is_requested_to_return_tuple \u001b[38;5;129;01mor\u001b[39;00m (is_configured_to_return_tuple \u001b[38;5;129;01mand\u001b[39;00m is_top_level_module):\n\u001b[32m    945\u001b[39m         output = output.to_tuple()\n",
      "\u001b[36mFile \u001b[39m\u001b[32m~/.pyenv/versions/py12/lib/python3.12/site-packages/transformers/models/llama/modeling_llama.py:441\u001b[39m, in \u001b[36mLlamaModel.forward\u001b[39m\u001b[34m(self, input_ids, attention_mask, position_ids, past_key_values, inputs_embeds, use_cache, output_attentions, output_hidden_states, cache_position, **flash_attn_kwargs)\u001b[39m\n\u001b[32m    438\u001b[39m \u001b[38;5;28;01mif\u001b[39;00m output_hidden_states:\n\u001b[32m    439\u001b[39m     all_hidden_states += (hidden_states,)\n\u001b[32m--> \u001b[39m\u001b[32m441\u001b[39m layer_outputs = \u001b[43mdecoder_layer\u001b[49m\u001b[43m(\u001b[49m\n\u001b[32m    442\u001b[39m \u001b[43m    \u001b[49m\u001b[43mhidden_states\u001b[49m\u001b[43m,\u001b[49m\n\u001b[32m    443\u001b[39m \u001b[43m    \u001b[49m\u001b[43mattention_mask\u001b[49m\u001b[43m=\u001b[49m\u001b[43mcausal_mask\u001b[49m\u001b[43m,\u001b[49m\n\u001b[32m    444\u001b[39m \u001b[43m    \u001b[49m\u001b[43mposition_ids\u001b[49m\u001b[43m=\u001b[49m\u001b[43mposition_ids\u001b[49m\u001b[43m,\u001b[49m\n\u001b[32m    445\u001b[39m \u001b[43m    \u001b[49m\u001b[43mpast_key_value\u001b[49m\u001b[43m=\u001b[49m\u001b[43mpast_key_values\u001b[49m\u001b[43m,\u001b[49m\n\u001b[32m    446\u001b[39m \u001b[43m    \u001b[49m\u001b[43moutput_attentions\u001b[49m\u001b[43m=\u001b[49m\u001b[43moutput_attentions\u001b[49m\u001b[43m,\u001b[49m\n\u001b[32m    447\u001b[39m \u001b[43m    \u001b[49m\u001b[43muse_cache\u001b[49m\u001b[43m=\u001b[49m\u001b[43muse_cache\u001b[49m\u001b[43m,\u001b[49m\n\u001b[32m    448\u001b[39m \u001b[43m    \u001b[49m\u001b[43mcache_position\u001b[49m\u001b[43m=\u001b[49m\u001b[43mcache_position\u001b[49m\u001b[43m,\u001b[49m\n\u001b[32m    449\u001b[39m \u001b[43m    \u001b[49m\u001b[43mposition_embeddings\u001b[49m\u001b[43m=\u001b[49m\u001b[43mposition_embeddings\u001b[49m\u001b[43m,\u001b[49m\n\u001b[32m    450\u001b[39m \u001b[43m    \u001b[49m\u001b[43m*\u001b[49m\u001b[43m*\u001b[49m\u001b[43mflash_attn_kwargs\u001b[49m\u001b[43m,\u001b[49m\n\u001b[32m    451\u001b[39m \u001b[43m\u001b[49m\u001b[43m)\u001b[49m\n\u001b[32m    453\u001b[39m hidden_states = layer_outputs[\u001b[32m0\u001b[39m]\n\u001b[32m    455\u001b[39m \u001b[38;5;28;01mif\u001b[39;00m output_attentions:\n",
      "\u001b[36mFile \u001b[39m\u001b[32m~/.pyenv/versions/py12/lib/python3.12/site-packages/transformers/modeling_layers.py:83\u001b[39m, in \u001b[36mGradientCheckpointingLayer.__call__\u001b[39m\u001b[34m(self, *args, **kwargs)\u001b[39m\n\u001b[32m     80\u001b[39m         logger.warning(message)\n\u001b[32m     82\u001b[39m     \u001b[38;5;28;01mreturn\u001b[39;00m \u001b[38;5;28mself\u001b[39m._gradient_checkpointing_func(partial(\u001b[38;5;28msuper\u001b[39m().\u001b[34m__call__\u001b[39m, **kwargs), *args)\n\u001b[32m---> \u001b[39m\u001b[32m83\u001b[39m \u001b[38;5;28;01mreturn\u001b[39;00m \u001b[38;5;28;43msuper\u001b[39;49m\u001b[43m(\u001b[49m\u001b[43m)\u001b[49m\u001b[43m.\u001b[49m\u001b[34;43m__call__\u001b[39;49m\u001b[43m(\u001b[49m\u001b[43m*\u001b[49m\u001b[43margs\u001b[49m\u001b[43m,\u001b[49m\u001b[43m \u001b[49m\u001b[43m*\u001b[49m\u001b[43m*\u001b[49m\u001b[43mkwargs\u001b[49m\u001b[43m)\u001b[49m\n",
      "\u001b[36mFile \u001b[39m\u001b[32m~/.pyenv/versions/py12/lib/python3.12/site-packages/torch/nn/modules/module.py:1751\u001b[39m, in \u001b[36mModule._wrapped_call_impl\u001b[39m\u001b[34m(self, *args, **kwargs)\u001b[39m\n\u001b[32m   1749\u001b[39m     \u001b[38;5;28;01mreturn\u001b[39;00m \u001b[38;5;28mself\u001b[39m._compiled_call_impl(*args, **kwargs)  \u001b[38;5;66;03m# type: ignore[misc]\u001b[39;00m\n\u001b[32m   1750\u001b[39m \u001b[38;5;28;01melse\u001b[39;00m:\n\u001b[32m-> \u001b[39m\u001b[32m1751\u001b[39m     \u001b[38;5;28;01mreturn\u001b[39;00m \u001b[38;5;28;43mself\u001b[39;49m\u001b[43m.\u001b[49m\u001b[43m_call_impl\u001b[49m\u001b[43m(\u001b[49m\u001b[43m*\u001b[49m\u001b[43margs\u001b[49m\u001b[43m,\u001b[49m\u001b[43m \u001b[49m\u001b[43m*\u001b[49m\u001b[43m*\u001b[49m\u001b[43mkwargs\u001b[49m\u001b[43m)\u001b[49m\n",
      "\u001b[36mFile \u001b[39m\u001b[32m~/.pyenv/versions/py12/lib/python3.12/site-packages/torch/nn/modules/module.py:1762\u001b[39m, in \u001b[36mModule._call_impl\u001b[39m\u001b[34m(self, *args, **kwargs)\u001b[39m\n\u001b[32m   1757\u001b[39m \u001b[38;5;66;03m# If we don't have any hooks, we want to skip the rest of the logic in\u001b[39;00m\n\u001b[32m   1758\u001b[39m \u001b[38;5;66;03m# this function, and just call forward.\u001b[39;00m\n\u001b[32m   1759\u001b[39m \u001b[38;5;28;01mif\u001b[39;00m \u001b[38;5;129;01mnot\u001b[39;00m (\u001b[38;5;28mself\u001b[39m._backward_hooks \u001b[38;5;129;01mor\u001b[39;00m \u001b[38;5;28mself\u001b[39m._backward_pre_hooks \u001b[38;5;129;01mor\u001b[39;00m \u001b[38;5;28mself\u001b[39m._forward_hooks \u001b[38;5;129;01mor\u001b[39;00m \u001b[38;5;28mself\u001b[39m._forward_pre_hooks\n\u001b[32m   1760\u001b[39m         \u001b[38;5;129;01mor\u001b[39;00m _global_backward_pre_hooks \u001b[38;5;129;01mor\u001b[39;00m _global_backward_hooks\n\u001b[32m   1761\u001b[39m         \u001b[38;5;129;01mor\u001b[39;00m _global_forward_hooks \u001b[38;5;129;01mor\u001b[39;00m _global_forward_pre_hooks):\n\u001b[32m-> \u001b[39m\u001b[32m1762\u001b[39m     \u001b[38;5;28;01mreturn\u001b[39;00m \u001b[43mforward_call\u001b[49m\u001b[43m(\u001b[49m\u001b[43m*\u001b[49m\u001b[43margs\u001b[49m\u001b[43m,\u001b[49m\u001b[43m \u001b[49m\u001b[43m*\u001b[49m\u001b[43m*\u001b[49m\u001b[43mkwargs\u001b[49m\u001b[43m)\u001b[49m\n\u001b[32m   1764\u001b[39m result = \u001b[38;5;28;01mNone\u001b[39;00m\n\u001b[32m   1765\u001b[39m called_always_called_hooks = \u001b[38;5;28mset\u001b[39m()\n",
      "\u001b[36mFile \u001b[39m\u001b[32m~/.pyenv/versions/py12/lib/python3.12/site-packages/transformers/models/llama/modeling_llama.py:306\u001b[39m, in \u001b[36mLlamaDecoderLayer.forward\u001b[39m\u001b[34m(self, hidden_states, attention_mask, position_ids, past_key_value, output_attentions, use_cache, cache_position, position_embeddings, **kwargs)\u001b[39m\n\u001b[32m    304\u001b[39m residual = hidden_states\n\u001b[32m    305\u001b[39m hidden_states = \u001b[38;5;28mself\u001b[39m.post_attention_layernorm(hidden_states)\n\u001b[32m--> \u001b[39m\u001b[32m306\u001b[39m hidden_states = \u001b[38;5;28;43mself\u001b[39;49m\u001b[43m.\u001b[49m\u001b[43mmlp\u001b[49m\u001b[43m(\u001b[49m\u001b[43mhidden_states\u001b[49m\u001b[43m)\u001b[49m\n\u001b[32m    307\u001b[39m hidden_states = residual + hidden_states\n\u001b[32m    309\u001b[39m outputs = (hidden_states,)\n",
      "\u001b[36mFile \u001b[39m\u001b[32m~/.pyenv/versions/py12/lib/python3.12/site-packages/torch/nn/modules/module.py:1751\u001b[39m, in \u001b[36mModule._wrapped_call_impl\u001b[39m\u001b[34m(self, *args, **kwargs)\u001b[39m\n\u001b[32m   1749\u001b[39m     \u001b[38;5;28;01mreturn\u001b[39;00m \u001b[38;5;28mself\u001b[39m._compiled_call_impl(*args, **kwargs)  \u001b[38;5;66;03m# type: ignore[misc]\u001b[39;00m\n\u001b[32m   1750\u001b[39m \u001b[38;5;28;01melse\u001b[39;00m:\n\u001b[32m-> \u001b[39m\u001b[32m1751\u001b[39m     \u001b[38;5;28;01mreturn\u001b[39;00m \u001b[38;5;28;43mself\u001b[39;49m\u001b[43m.\u001b[49m\u001b[43m_call_impl\u001b[49m\u001b[43m(\u001b[49m\u001b[43m*\u001b[49m\u001b[43margs\u001b[49m\u001b[43m,\u001b[49m\u001b[43m \u001b[49m\u001b[43m*\u001b[49m\u001b[43m*\u001b[49m\u001b[43mkwargs\u001b[49m\u001b[43m)\u001b[49m\n",
      "\u001b[36mFile \u001b[39m\u001b[32m~/.pyenv/versions/py12/lib/python3.12/site-packages/torch/nn/modules/module.py:1762\u001b[39m, in \u001b[36mModule._call_impl\u001b[39m\u001b[34m(self, *args, **kwargs)\u001b[39m\n\u001b[32m   1757\u001b[39m \u001b[38;5;66;03m# If we don't have any hooks, we want to skip the rest of the logic in\u001b[39;00m\n\u001b[32m   1758\u001b[39m \u001b[38;5;66;03m# this function, and just call forward.\u001b[39;00m\n\u001b[32m   1759\u001b[39m \u001b[38;5;28;01mif\u001b[39;00m \u001b[38;5;129;01mnot\u001b[39;00m (\u001b[38;5;28mself\u001b[39m._backward_hooks \u001b[38;5;129;01mor\u001b[39;00m \u001b[38;5;28mself\u001b[39m._backward_pre_hooks \u001b[38;5;129;01mor\u001b[39;00m \u001b[38;5;28mself\u001b[39m._forward_hooks \u001b[38;5;129;01mor\u001b[39;00m \u001b[38;5;28mself\u001b[39m._forward_pre_hooks\n\u001b[32m   1760\u001b[39m         \u001b[38;5;129;01mor\u001b[39;00m _global_backward_pre_hooks \u001b[38;5;129;01mor\u001b[39;00m _global_backward_hooks\n\u001b[32m   1761\u001b[39m         \u001b[38;5;129;01mor\u001b[39;00m _global_forward_hooks \u001b[38;5;129;01mor\u001b[39;00m _global_forward_pre_hooks):\n\u001b[32m-> \u001b[39m\u001b[32m1762\u001b[39m     \u001b[38;5;28;01mreturn\u001b[39;00m \u001b[43mforward_call\u001b[49m\u001b[43m(\u001b[49m\u001b[43m*\u001b[49m\u001b[43margs\u001b[49m\u001b[43m,\u001b[49m\u001b[43m \u001b[49m\u001b[43m*\u001b[49m\u001b[43m*\u001b[49m\u001b[43mkwargs\u001b[49m\u001b[43m)\u001b[49m\n\u001b[32m   1764\u001b[39m result = \u001b[38;5;28;01mNone\u001b[39;00m\n\u001b[32m   1765\u001b[39m called_always_called_hooks = \u001b[38;5;28mset\u001b[39m()\n",
      "\u001b[36mFile \u001b[39m\u001b[32m~/.pyenv/versions/py12/lib/python3.12/site-packages/transformers/models/llama/modeling_llama.py:151\u001b[39m, in \u001b[36mLlamaMLP.forward\u001b[39m\u001b[34m(self, x)\u001b[39m\n\u001b[32m    150\u001b[39m \u001b[38;5;28;01mdef\u001b[39;00m\u001b[38;5;250m \u001b[39m\u001b[34mforward\u001b[39m(\u001b[38;5;28mself\u001b[39m, x):\n\u001b[32m--> \u001b[39m\u001b[32m151\u001b[39m     down_proj = \u001b[38;5;28mself\u001b[39m.down_proj(\u001b[38;5;28mself\u001b[39m.act_fn(\u001b[38;5;28;43mself\u001b[39;49m\u001b[43m.\u001b[49m\u001b[43mgate_proj\u001b[49m\u001b[43m(\u001b[49m\u001b[43mx\u001b[49m\u001b[43m)\u001b[49m) * \u001b[38;5;28mself\u001b[39m.up_proj(x))\n\u001b[32m    152\u001b[39m     \u001b[38;5;28;01mreturn\u001b[39;00m down_proj\n",
      "\u001b[36mFile \u001b[39m\u001b[32m~/.pyenv/versions/py12/lib/python3.12/site-packages/torch/nn/modules/module.py:1751\u001b[39m, in \u001b[36mModule._wrapped_call_impl\u001b[39m\u001b[34m(self, *args, **kwargs)\u001b[39m\n\u001b[32m   1749\u001b[39m     \u001b[38;5;28;01mreturn\u001b[39;00m \u001b[38;5;28mself\u001b[39m._compiled_call_impl(*args, **kwargs)  \u001b[38;5;66;03m# type: ignore[misc]\u001b[39;00m\n\u001b[32m   1750\u001b[39m \u001b[38;5;28;01melse\u001b[39;00m:\n\u001b[32m-> \u001b[39m\u001b[32m1751\u001b[39m     \u001b[38;5;28;01mreturn\u001b[39;00m \u001b[38;5;28;43mself\u001b[39;49m\u001b[43m.\u001b[49m\u001b[43m_call_impl\u001b[49m\u001b[43m(\u001b[49m\u001b[43m*\u001b[49m\u001b[43margs\u001b[49m\u001b[43m,\u001b[49m\u001b[43m \u001b[49m\u001b[43m*\u001b[49m\u001b[43m*\u001b[49m\u001b[43mkwargs\u001b[49m\u001b[43m)\u001b[49m\n",
      "\u001b[36mFile \u001b[39m\u001b[32m~/.pyenv/versions/py12/lib/python3.12/site-packages/torch/nn/modules/module.py:1762\u001b[39m, in \u001b[36mModule._call_impl\u001b[39m\u001b[34m(self, *args, **kwargs)\u001b[39m\n\u001b[32m   1757\u001b[39m \u001b[38;5;66;03m# If we don't have any hooks, we want to skip the rest of the logic in\u001b[39;00m\n\u001b[32m   1758\u001b[39m \u001b[38;5;66;03m# this function, and just call forward.\u001b[39;00m\n\u001b[32m   1759\u001b[39m \u001b[38;5;28;01mif\u001b[39;00m \u001b[38;5;129;01mnot\u001b[39;00m (\u001b[38;5;28mself\u001b[39m._backward_hooks \u001b[38;5;129;01mor\u001b[39;00m \u001b[38;5;28mself\u001b[39m._backward_pre_hooks \u001b[38;5;129;01mor\u001b[39;00m \u001b[38;5;28mself\u001b[39m._forward_hooks \u001b[38;5;129;01mor\u001b[39;00m \u001b[38;5;28mself\u001b[39m._forward_pre_hooks\n\u001b[32m   1760\u001b[39m         \u001b[38;5;129;01mor\u001b[39;00m _global_backward_pre_hooks \u001b[38;5;129;01mor\u001b[39;00m _global_backward_hooks\n\u001b[32m   1761\u001b[39m         \u001b[38;5;129;01mor\u001b[39;00m _global_forward_hooks \u001b[38;5;129;01mor\u001b[39;00m _global_forward_pre_hooks):\n\u001b[32m-> \u001b[39m\u001b[32m1762\u001b[39m     \u001b[38;5;28;01mreturn\u001b[39;00m \u001b[43mforward_call\u001b[49m\u001b[43m(\u001b[49m\u001b[43m*\u001b[49m\u001b[43margs\u001b[49m\u001b[43m,\u001b[49m\u001b[43m \u001b[49m\u001b[43m*\u001b[49m\u001b[43m*\u001b[49m\u001b[43mkwargs\u001b[49m\u001b[43m)\u001b[49m\n\u001b[32m   1764\u001b[39m result = \u001b[38;5;28;01mNone\u001b[39;00m\n\u001b[32m   1765\u001b[39m called_always_called_hooks = \u001b[38;5;28mset\u001b[39m()\n",
      "\u001b[36mFile \u001b[39m\u001b[32m~/.pyenv/versions/py12/lib/python3.12/site-packages/torch/nn/modules/linear.py:125\u001b[39m, in \u001b[36mLinear.forward\u001b[39m\u001b[34m(self, input)\u001b[39m\n\u001b[32m    124\u001b[39m \u001b[38;5;28;01mdef\u001b[39;00m\u001b[38;5;250m \u001b[39m\u001b[34mforward\u001b[39m(\u001b[38;5;28mself\u001b[39m, \u001b[38;5;28minput\u001b[39m: Tensor) -> Tensor:\n\u001b[32m--> \u001b[39m\u001b[32m125\u001b[39m     \u001b[38;5;28;01mreturn\u001b[39;00m \u001b[43mF\u001b[49m\u001b[43m.\u001b[49m\u001b[43mlinear\u001b[49m\u001b[43m(\u001b[49m\u001b[38;5;28;43minput\u001b[39;49m\u001b[43m,\u001b[49m\u001b[43m \u001b[49m\u001b[38;5;28;43mself\u001b[39;49m\u001b[43m.\u001b[49m\u001b[43mweight\u001b[49m\u001b[43m,\u001b[49m\u001b[43m \u001b[49m\u001b[38;5;28;43mself\u001b[39;49m\u001b[43m.\u001b[49m\u001b[43mbias\u001b[49m\u001b[43m)\u001b[49m\n",
      "\u001b[31mKeyboardInterrupt\u001b[39m: "
     ]
    }
   ],
   "source": [
    "if __name__ == \"__main__\":\n",
    "    back_translation = test_on_train_data(len(train_df))"
   ]
  },
  {
   "cell_type": "code",
   "execution_count": null,
   "metadata": {},
   "outputs": [],
   "source": []
  },
  {
   "cell_type": "markdown",
   "metadata": {},
   "source": [
    "## 2. Solar Chat API로 요약하기\n",
    "- Solar Chat API을 이용하여 test dataset에 포함된 dialogue를 요약하고 제출용 파일을 생성합니다."
   ]
  },
  {
   "cell_type": "code",
   "execution_count": 12,
   "metadata": {},
   "outputs": [],
   "source": [
    "def inference():\n",
    "    test_df = pd.read_csv(os.path.join(DATA_PATH, 'test.csv'))\n",
    "\n",
    "    summary = []\n",
    "    start_time = time.time()\n",
    "    for idx, row in tqdm(test_df.iterrows(), total=len(test_df)):\n",
    "        dialogue = row['dialogue']\n",
    "        summary.append(summarization(dialogue))\n",
    "        \n",
    "        # Rate limit 방지를 위해 1분 동안 최대 100개의 요청을 보내도록 합니다.\n",
    "        if (idx + 1) % 100 == 0:\n",
    "            end_time = time.time()\n",
    "            elapsed_time = end_time - start_time\n",
    "            \n",
    "            if elapsed_time < 60:\n",
    "                wait_time = 60 - elapsed_time + 5\n",
    "                print(f\"Elapsed time: {elapsed_time:.2f} sec\")\n",
    "                print(f\"Waiting for {wait_time} sec\")\n",
    "                time.sleep(wait_time)\n",
    "            \n",
    "            start_time = time.time()\n",
    "    \n",
    "    output = pd.DataFrame(\n",
    "        {\n",
    "            \"fname\": test_df['fname'],\n",
    "            \"summary\" : summary,\n",
    "        }\n",
    "    )\n",
    "    \n",
    "    if not os.path.exists(RESULT_PATH):\n",
    "        os.makedirs(RESULT_PATH)\n",
    "    output.to_csv(os.path.join(RESULT_PATH, \"output_yanolja.csv\"), index=False)\n",
    "\n",
    "    return output"
   ]
  },
  {
   "cell_type": "code",
   "execution_count": 13,
   "metadata": {
    "id": "-pJ1ZXf-5V50"
   },
   "outputs": [
    {
     "name": "stderr",
     "output_type": "stream",
     "text": [
      "  0%|          | 0/499 [00:00<?, ?it/s]"
     ]
    },
    {
     "name": "stderr",
     "output_type": "stream",
     "text": [
      "100%|██████████| 499/499 [1:03:29<00:00,  7.64s/it]\n"
     ]
    }
   ],
   "source": [
    "if __name__ == \"__main__\":\n",
    "    output = inference()"
   ]
  },
  {
   "cell_type": "code",
   "execution_count": 14,
   "metadata": {
    "id": "OsPmLfhbzZqS"
   },
   "outputs": [
    {
     "data": {
      "text/html": [
       "<div>\n",
       "<style scoped>\n",
       "    .dataframe tbody tr th:only-of-type {\n",
       "        vertical-align: middle;\n",
       "    }\n",
       "\n",
       "    .dataframe tbody tr th {\n",
       "        vertical-align: top;\n",
       "    }\n",
       "\n",
       "    .dataframe thead th {\n",
       "        text-align: right;\n",
       "    }\n",
       "</style>\n",
       "<table border=\"1\" class=\"dataframe\">\n",
       "  <thead>\n",
       "    <tr style=\"text-align: right;\">\n",
       "      <th></th>\n",
       "      <th>fname</th>\n",
       "      <th>summary</th>\n",
       "    </tr>\n",
       "  </thead>\n",
       "  <tbody>\n",
       "    <tr>\n",
       "      <th>0</th>\n",
       "      <td>test_0</td>\n",
       "      <td>Ms. Dawson will write a memo to be distributed...</td>\n",
       "    </tr>\n",
       "    <tr>\n",
       "      <th>1</th>\n",
       "      <td>test_1</td>\n",
       "      <td>Person2 is late because of traffic on the way ...</td>\n",
       "    </tr>\n",
       "    <tr>\n",
       "      <th>2</th>\n",
       "      <td>test_2</td>\n",
       "      <td>Masha and Hero are getting divorced. Masha wil...</td>\n",
       "    </tr>\n",
       "    <tr>\n",
       "      <th>3</th>\n",
       "      <td>test_3</td>\n",
       "      <td>Person1 and Person2 are at a party for Person2...</td>\n",
       "    </tr>\n",
       "    <tr>\n",
       "      <th>4</th>\n",
       "      <td>test_4</td>\n",
       "      <td>The Olympic Park is huge and the stadium is be...</td>\n",
       "    </tr>\n",
       "    <tr>\n",
       "      <th>...</th>\n",
       "      <td>...</td>\n",
       "      <td>...</td>\n",
       "    </tr>\n",
       "    <tr>\n",
       "      <th>494</th>\n",
       "      <td>test_495</td>\n",
       "      <td>Jack invites Charlie to play a new game he bou...</td>\n",
       "    </tr>\n",
       "    <tr>\n",
       "      <th>495</th>\n",
       "      <td>test_496</td>\n",
       "      <td>Person2 started listening to country music aft...</td>\n",
       "    </tr>\n",
       "    <tr>\n",
       "      <th>496</th>\n",
       "      <td>test_497</td>\n",
       "      <td>Person1 is new to the laundry room and asks Pe...</td>\n",
       "    </tr>\n",
       "    <tr>\n",
       "      <th>497</th>\n",
       "      <td>test_498</td>\n",
       "      <td>#Person1# and #Person2# haven't seen each othe...</td>\n",
       "    </tr>\n",
       "    <tr>\n",
       "      <th>498</th>\n",
       "      <td>test_499</td>\n",
       "      <td>Frank got promoted and is throwing a party for...</td>\n",
       "    </tr>\n",
       "  </tbody>\n",
       "</table>\n",
       "<p>499 rows × 2 columns</p>\n",
       "</div>"
      ],
      "text/plain": [
       "        fname                                            summary\n",
       "0      test_0  Ms. Dawson will write a memo to be distributed...\n",
       "1      test_1  Person2 is late because of traffic on the way ...\n",
       "2      test_2  Masha and Hero are getting divorced. Masha wil...\n",
       "3      test_3  Person1 and Person2 are at a party for Person2...\n",
       "4      test_4  The Olympic Park is huge and the stadium is be...\n",
       "..        ...                                                ...\n",
       "494  test_495  Jack invites Charlie to play a new game he bou...\n",
       "495  test_496  Person2 started listening to country music aft...\n",
       "496  test_497  Person1 is new to the laundry room and asks Pe...\n",
       "497  test_498  #Person1# and #Person2# haven't seen each othe...\n",
       "498  test_499  Frank got promoted and is throwing a party for...\n",
       "\n",
       "[499 rows x 2 columns]"
      ]
     },
     "execution_count": 14,
     "metadata": {},
     "output_type": "execute_result"
    }
   ],
   "source": [
    "output  # 각 대화문에 대한 요약문이 출력됨을 확인할 수 있습니다."
   ]
  },
  {
   "cell_type": "markdown",
   "metadata": {},
   "source": [
    "# translation"
   ]
  },
  {
   "cell_type": "code",
   "execution_count": null,
   "metadata": {},
   "outputs": [],
   "source": [
    "def translation():\n",
    "    test_df = pd.read_csv(os.path.join(DATA_PATH, 'output_yanolja.csv'))\n",
    "    sentences = []\n",
    "\n",
    "    pad_token = tokenizer.eos_token_id if tokenizer.eos_token_id is not None else model.config.pad_token_id\n",
    "\n",
    "    for row in tqdm(test_df.itertuples(index=False), total=len(test_df)):\n",
    "        summary_text = row.summary\n",
    "\n",
    "        prompt = f\"Please translate the following English sentence into Korean. Person names should be kept in English.\\n sentence:\\n{summary_text}\\n\\n translation:\\n\"\n",
    "        inputs = tokenizer(prompt, return_tensors=\"pt\").to(model.device)\n",
    "\n",
    "        with torch.no_grad():\n",
    "            output = model.generate(\n",
    "                **inputs,\n",
    "                max_new_tokens=256,\n",
    "                temperature=0.1,\n",
    "                top_p=0.3,\n",
    "                do_sample=True,\n",
    "                pad_token_id=pad_token,\n",
    "            )\n",
    "            generated = output[:, inputs.input_ids.shape[1]:]\n",
    "            translation = tokenizer.decode(generated[0], skip_special_tokens=True)\n",
    "            # print(translation)\n",
    "            sentences.append(translation)\n",
    "\n",
    "        # Optional: torch.cuda.empty_cache()\n",
    "\n",
    "    output_df = pd.DataFrame(\n",
    "        {\n",
    "            \"fname\": test_df['fname'],\n",
    "            \"summary\": sentences,\n",
    "        }\n",
    "    )\n",
    "\n",
    "    if not os.path.exists(RESULT_PATH):\n",
    "        os.makedirs(RESULT_PATH)\n",
    "    output_df.to_csv(os.path.join(RESULT_PATH, \"output_yanolja_tr.csv\"), index=False)\n",
    "\n",
    "    return output_df\n"
   ]
  },
  {
   "cell_type": "code",
   "execution_count": 21,
   "metadata": {},
   "outputs": [
    {
     "name": "stderr",
     "output_type": "stream",
     "text": [
      "  0%|          | 1/499 [00:03<33:03,  3.98s/it]"
     ]
    },
    {
     "name": "stdout",
     "output_type": "stream",
     "text": [
      "Ms. Dawson은 오늘 오후 4시까지 모든 직원에게 배포될 메모를 작성하여, 모든 내부 및 외부 커뮤니케이션은 이메일이나 공식 메모를 통해 이루어져야 하며, 근무 시간 동안에는 인스턴트 메시징의 사용이 금지된다고 명시할 것입니다.\n"
     ]
    },
    {
     "name": "stderr",
     "output_type": "stream",
     "text": [
      "  0%|          | 2/499 [00:09<38:08,  4.60s/it]"
     ]
    },
    {
     "name": "stdout",
     "output_type": "stream",
     "text": [
      "Person2는 Person1의 집으로 가는 길에 교통 체증 때문에 늦었습니다. Person1은 다른 경로를 택하거나 대중 교통을 이용하는 것을 제안하고, Person2는 이를 고려하기로 동의합니다. 그들은 대중 교통의 이점과 운전으로 제공되는 자유에 대해 논의합니다. Person2는 운전 대신 자전거로 출근하기로 결정합니다.\n"
     ]
    },
    {
     "name": "stderr",
     "output_type": "stream",
     "text": [
      "  1%|          | 3/499 [00:10<27:09,  3.29s/it]"
     ]
    },
    {
     "name": "stdout",
     "output_type": "stream",
     "text": [
      "마샤와 히어로가 이혼을 하고 있습니다. 마샤는 아이들의 양육권을 가지게 될 것입니다. 이혼은 새해에 최종적으로 확정될 것입니다.\n"
     ]
    },
    {
     "name": "stderr",
     "output_type": "stream",
     "text": [
      "  1%|          | 4/499 [00:15<30:48,  3.73s/it]"
     ]
    },
    {
     "name": "stdout",
     "output_type": "stream",
     "text": [
      "Person1과 Person2는 Person2의 생일 파티에 있습니다. Person1은 Person2에게 선물을 주고 함께 춤을 춥니다. Person1은 Person2의 목걸이를 칭찬하고 Person2는 Person1의 드레스를 칭찬합니다. 그들은 Person2의 생일을 위해 건배합니다.\n"
     ]
    },
    {
     "name": "stderr",
     "output_type": "stream",
     "text": [
      "  1%|          | 5/499 [00:16<23:38,  2.87s/it]"
     ]
    },
    {
     "name": "stdout",
     "output_type": "stream",
     "text": [
      "올림픽 공원은 매우 크고, 5000석 규모의 경기장은 6월에 완공될 예정입니다.\n"
     ]
    },
    {
     "name": "stderr",
     "output_type": "stream",
     "text": [
      "  1%|          | 6/499 [00:20<25:21,  3.09s/it]"
     ]
    },
    {
     "name": "stdout",
     "output_type": "stream",
     "text": [
      "#Person1#은 직장을 그만두고 자신의 사업을 시작하려고 합니다. #Person2#는 사업 계획이 필요하다고 설명하고, #Person1#이 생각했던 것보다 더 복잡하다고 말합니다. #Person1#은 현재 직장에 계속 다니기로 결정합니다.\n"
     ]
    },
    {
     "name": "stderr",
     "output_type": "stream",
     "text": [
      "  1%|▏         | 7/499 [00:20<19:28,  2.38s/it]"
     ]
    },
    {
     "name": "stdout",
     "output_type": "stream",
     "text": [
      "Person2는 가려운 발진을 가지고 있고 Person1은 그것이 수두일 수도 있다고 생각합니다.\n"
     ]
    },
    {
     "name": "stderr",
     "output_type": "stream",
     "text": [
      "  2%|▏         | 8/499 [00:26<27:04,  3.31s/it]"
     ]
    },
    {
     "name": "stdout",
     "output_type": "stream",
     "text": [
      "Person2는 309호에서 체크아웃을 하고 30달러의 청구서를 받는다. 그들은 요금을 의문시하고 11월 20일에 세탁 서비스를 사용한 것에 대한 요금이라는 것을 알게 된다. Person2는 서비스를 사용하지 않았다고 부인하고, 실수가 발견된 후 요금이 제거된다.\n"
     ]
    },
    {
     "name": "stderr",
     "output_type": "stream",
     "text": [
      "  2%|▏         | 9/499 [00:28<25:37,  3.14s/it]"
     ]
    },
    {
     "name": "stdout",
     "output_type": "stream",
     "text": [
      "Person1은 그의 아내가 그의 비서와 바람을 피운 것을 알게 되었고 이혼을 원하기 때문에 Steven의 도움이 필요합니다. Steven은 그의 아내를 설득하려고 노력할 것이지만 Person1은 이제부터 그녀에게 충실해야 합니다.\n"
     ]
    },
    {
     "name": "stderr",
     "output_type": "stream",
     "text": [
      "  2%|▏         | 10/499 [00:31<23:44,  2.91s/it]"
     ]
    },
    {
     "name": "stdout",
     "output_type": "stream",
     "text": [
      "Person1과 Person2는 에이브러햄 링컨의 성격과 업적에 대해 토론합니다. 여기에는 그의 친절함, 끈기, 그리고 평등한 권리를 위한 그의 옹호가 포함됩니다.\n"
     ]
    },
    {
     "name": "stderr",
     "output_type": "stream",
     "text": [
      "  2%|▏         | 11/499 [00:38<34:19,  4.22s/it]"
     ]
    },
    {
     "name": "stdout",
     "output_type": "stream",
     "text": [
      "Person1과 Person2는 Hebei로 여행하는 것에 대해 논의하지만, Person1은 그 지역의 심한 모래폭풍에 대해 경고합니다. Person2는 모래폭풍이 지역 주민들에게 미치는 영향에 대해 우려를 표명하고, Person1은 모래폭풍 이후 호흡기 감염이 증가한다고 언급합니다. 그들은 모두 모래폭풍이 모두에게 성가신 일이라는 데 동의합니다.\n"
     ]
    },
    {
     "name": "stderr",
     "output_type": "stream",
     "text": [
      "  2%|▏         | 12/499 [00:43<35:30,  4.37s/it]"
     ]
    },
    {
     "name": "stdout",
     "output_type": "stream",
     "text": [
      "Person1은 Person2가 생일 파티에 와서 선물로 준 원격 조종 자동차 모델에 대해 감사하며, Person2가 그것을 자신들을 위해 가지고 있거나 Person1에게 주는 것 중에서 선택해야 했고, 후자를 선택했다고 설명합니다. Person1은 선물을 감사하고 Person2의 관대함을 칭찬합니다.\n"
     ]
    },
    {
     "name": "stderr",
     "output_type": "stream",
     "text": [
      "  3%|▎         | 13/499 [00:45<29:58,  3.70s/it]"
     ]
    },
    {
     "name": "stdout",
     "output_type": "stream",
     "text": [
      "토니는 시험에서 부정행위를 한 큰 실수를 저질렀고 걸렸습니다. 그는 부끄러워하고 후회합니다. 스티븐은 그에게 실수에서 배우라고 격려합니다.\n"
     ]
    },
    {
     "name": "stderr",
     "output_type": "stream",
     "text": [
      "  3%|▎         | 14/499 [00:50<32:31,  4.02s/it]"
     ]
    },
    {
     "name": "stdout",
     "output_type": "stream",
     "text": [
      "Person1이 Tom에게 지금 몇 시냐고 묻고, Tom은 8시 50분이라고 말합니다. Person1은 놀라고 9시 30분 기차를 타야 하기 때문에 지금 떠나야 한다고 말합니다. Person2는 역이 가까워서 충분한 시간이 있다고 안심시킵니다.\n"
     ]
    },
    {
     "name": "stderr",
     "output_type": "stream",
     "text": [
      "  3%|▎         | 15/499 [00:55<35:14,  4.37s/it]"
     ]
    },
    {
     "name": "stdout",
     "output_type": "stream",
     "text": [
      "Person1은 그들의 삶에 어려움을 겪고 조언을 구합니다. Person2는 충분한 수면을 취하고 운동을 하고 너무 많이 마시지 않는 것을 제안합니다. Person1은 피곤함을 느끼고 가끔 죽음에 가까운 느낌을 표현합니다. Person2는 그들에게 미래에 대해 걱정하지 말고 그들의 조언을 따르도록 격려합니다.\n"
     ]
    },
    {
     "name": "stderr",
     "output_type": "stream",
     "text": [
      "  3%|▎         | 16/499 [00:58<31:17,  3.89s/it]"
     ]
    },
    {
     "name": "stdout",
     "output_type": "stream",
     "text": [
      "#Person1#과 #Person2#은 오늘 밤 루오지아의 결혼 파티에 갈 예정입니다. #Person1#은 와인 잔과 결혼 카드를 가져올 것이고, #Person2#은 차 세트를 살 것입니다.\n"
     ]
    },
    {
     "name": "stderr",
     "output_type": "stream",
     "text": [
      "  3%|▎         | 17/499 [01:02<31:19,  3.90s/it]"
     ]
    },
    {
     "name": "stdout",
     "output_type": "stream",
     "text": [
      "Person1은 뒷면을 벗겨내는 것을 제안하지만 Person2는 망설입니다. Person1은 재미없다고 생각되면 친구 자격이 없다고 주장합니다. 그들은 스트립의 캐릭터들이 얼마나 추악한지 언급하고 Person2는 사진을 찍습니다.\n"
     ]
    },
    {
     "name": "stderr",
     "output_type": "stream",
     "text": [
      "  4%|▎         | 18/499 [01:05<29:57,  3.74s/it]"
     ]
    },
    {
     "name": "stdout",
     "output_type": "stream",
     "text": [
      "Person1은 Mike의 여동생에 대해 묻고, Mike는 그녀를 키가 크고 예쁘고, 친절하고 사교적인 성격이라고 묘사합니다. Person1은 그녀가 Mike만큼 똑똑한지 묻지만, Mike는 웃으면서 부인합니다.\n"
     ]
    },
    {
     "name": "stderr",
     "output_type": "stream",
     "text": [
      "  4%|▍         | 19/499 [01:07<25:14,  3.16s/it]"
     ]
    },
    {
     "name": "stdout",
     "output_type": "stream",
     "text": [
      "#Person1#은 머리가 아프고 미열이 있습니다. #Person2#는 #Person1#에게 다음번에는 병가를 내라고 조언합니다.\n"
     ]
    },
    {
     "name": "stderr",
     "output_type": "stream",
     "text": [
      "  4%|▍         | 20/499 [01:08<20:18,  2.54s/it]"
     ]
    },
    {
     "name": "stdout",
     "output_type": "stream",
     "text": [
      "Person2는 카메라, MP3 플레이어 및 비디오 통화 기능이 있는 새로운 휴대폰을 구매하고 싶어합니다.\n"
     ]
    },
    {
     "name": "stderr",
     "output_type": "stream",
     "text": [
      "  4%|▍         | 21/499 [01:09<17:20,  2.18s/it]"
     ]
    },
    {
     "name": "stdout",
     "output_type": "stream",
     "text": [
      "프랭크는 우체국에서 새로운 직업을 갖고 있으며, 직원과 그 가족에게 좋은 건강 혜택을 제공합니다.\n"
     ]
    },
    {
     "name": "stderr",
     "output_type": "stream",
     "text": [
      "  4%|▍         | 22/499 [01:17<31:48,  4.00s/it]"
     ]
    },
    {
     "name": "stdout",
     "output_type": "stream",
     "text": [
      "#Person2# 는 컴퓨터 프로그래밍 실력이 있고 비서 일을 할 수 있습니다. 그들은 의사 면허증과 운전 면허증을 가지고 있습니다. 그들은 캠브리지에서 영어의 초급 자격증과 숙련자 자격증을 가지고 있으며 타자 및 속기 과정을 수강했습니다. 그들은 IBM-PC에 대한 경험이 있으며 워드 프로세서, 팩스 기계, 복사기 및 기타 사무용 기기를 조작할 수 있습니다.\n"
     ]
    },
    {
     "name": "stderr",
     "output_type": "stream",
     "text": [
      "  5%|▍         | 23/499 [01:20<27:14,  3.43s/it]"
     ]
    },
    {
     "name": "stdout",
     "output_type": "stream",
     "text": [
      "Person1은 스테이크가 너무 익혀져 있고 질기다고 불평하고, Person2는 다른 요리를 가져오겠다고 제안하지만 몇 분 정도 걸릴 것이라고 경고합니다.\n"
     ]
    },
    {
     "name": "stderr",
     "output_type": "stream",
     "text": [
      "  5%|▍         | 24/499 [01:20<20:49,  2.63s/it]"
     ]
    },
    {
     "name": "stdout",
     "output_type": "stream",
     "text": [
      "톰의 소설이 노벨상을 수상했고, 그는 흥분하고 자랑스러워합니다.\n"
     ]
    },
    {
     "name": "stderr",
     "output_type": "stream",
     "text": [
      "  5%|▌         | 25/499 [01:23<19:52,  2.52s/it]"
     ]
    },
    {
     "name": "stdout",
     "output_type": "stream",
     "text": [
      "#Person2# 는 자동차 디자인 전공으로 과학 석사 학위를 가지고 있으며, 학생 엔지니어로 다양한 재료의 기계적 강도와 부식 저항성을 연구하는 경험이 있습니다.\n"
     ]
    },
    {
     "name": "stderr",
     "output_type": "stream",
     "text": [
      "  5%|▌         | 26/499 [01:26<22:12,  2.82s/it]"
     ]
    },
    {
     "name": "stdout",
     "output_type": "stream",
     "text": [
      "Person1과 Person2는 그들의 음주 습관에 대해 토론합니다. Person2는 자주 그리고 많이 마시지만, Person1은 외출할 때만 마시고 많이 마시지 않습니다. 그들은 마실 수 있는 다른 장소를 논의하고 다음 밤에 함께 나가기로 계획합니다.\n"
     ]
    },
    {
     "name": "stderr",
     "output_type": "stream",
     "text": [
      "  5%|▌         | 27/499 [01:30<25:52,  3.29s/it]"
     ]
    },
    {
     "name": "stdout",
     "output_type": "stream",
     "text": [
      "Person1이 Person2에게 피크닉을 도와달라고 요청하고, 그들은 가져올 음식과 물품에 대해 논의합니다. Person2는 물건을 거실로 옮기는 데 도움을 제안하고, Person1은 Daniel에게 도움을 요청하는 것을 제안합니다. Person2는 혼자 할 수 있다고 말하며 거절합니다.\n"
     ]
    },
    {
     "name": "stderr",
     "output_type": "stream",
     "text": [
      "  6%|▌         | 28/499 [01:33<23:23,  2.98s/it]"
     ]
    },
    {
     "name": "stdout",
     "output_type": "stream",
     "text": [
      "\n",
      "Muriel Douglas와 James는 새로운 계정에 대해 논의하기 위해 만납니다. 그들은 휴가를 논의하고 Muriel의 최근 L.A.에서 King Kong을 보기 위한 여행을 논의합니다.\n"
     ]
    },
    {
     "name": "stderr",
     "output_type": "stream",
     "text": [
      "  6%|▌         | 29/499 [01:34<20:10,  2.58s/it]"
     ]
    },
    {
     "name": "stdout",
     "output_type": "stream",
     "text": [
      "한 남자가 ATM 기계에 좌절하고 우연한 기회에 야생동물 자선단체에 10,000달러를 기부합니다.\n"
     ]
    },
    {
     "name": "stderr",
     "output_type": "stream",
     "text": [
      "  6%|▌         | 30/499 [01:36<18:11,  2.33s/it]"
     ]
    },
    {
     "name": "stdout",
     "output_type": "stream",
     "text": [
      "#Person2# 는 친구들과 동료들과 시간을 보내는 것을 즐기는 사회적인 사람입니다. 그들은 진정한 것이 성공적인 대화의 열쇠라고 믿습니다.\n"
     ]
    },
    {
     "name": "stderr",
     "output_type": "stream",
     "text": [
      "  6%|▌         | 31/499 [01:41<24:42,  3.17s/it]"
     ]
    },
    {
     "name": "stdout",
     "output_type": "stream",
     "text": [
      "Person1과 Person2는 업무에서 휴식을 논의하고 있습니다. Person1은 Person2에게 음료를 사주겠다고 제안하지만 상사가 상점에 있기 때문에 그렇게 할 수 없습니다. Person2는 스스로 음료를 사기로 결정하지만 지갑에 $4만 남아 있습니다. Person1은 그 돈으로 음료를 사보라고 제안합니다.\n"
     ]
    },
    {
     "name": "stderr",
     "output_type": "stream",
     "text": [
      "  6%|▋         | 32/499 [01:43<21:36,  2.78s/it]"
     ]
    },
    {
     "name": "stdout",
     "output_type": "stream",
     "text": [
      "Person1과 Person2는 재무 보고서를 검토하기 위해 회의를 예약하고 있습니다. 그들은 금요일 오후 1시부터 4시까지 만나기로 합의했습니다.\n"
     ]
    },
    {
     "name": "stderr",
     "output_type": "stream",
     "text": [
      "  7%|▋         | 33/499 [01:45<19:33,  2.52s/it]"
     ]
    },
    {
     "name": "stdout",
     "output_type": "stream",
     "text": [
      "대화는 면접 준비 워크숍에 관한 것입니다. 참가자들은 적절하게 옷을 입고, 예의 바르고 친절하며, 정직하게 질문에 답하는 것의 중요성을 논의합니다.\n"
     ]
    },
    {
     "name": "stderr",
     "output_type": "stream",
     "text": [
      "  7%|▋         | 34/499 [01:55<37:46,  4.87s/it]"
     ]
    },
    {
     "name": "stdout",
     "output_type": "stream",
     "text": [
      "#Person1#은 다시 시작하고 싶고 #Person2#는 무엇이 잘못되었는지 묻습니다. #Person1#은 마이크의 연기가 벗어나고 그는 더 화가 나고 슬퍼해야 한다고 말합니다. #Person2#는 제이슨과 로라가 3년 동안 함께 있었고 그의 반응은 분노와 슬픔의 혼합이어야 한다고 주장합니다. #Person1#은 대부분의 남성들이 그렇게 반응해야 하고 나중에 그의 진정한 감정을 볼 것이라고 말합니다. #Person2#는 납득하지 못합니다.\n"
     ]
    },
    {
     "name": "stderr",
     "output_type": "stream",
     "text": [
      "  7%|▋         | 35/499 [01:58<33:04,  4.28s/it]"
     ]
    },
    {
     "name": "stdout",
     "output_type": "stream",
     "text": [
      "Person1과 Person2는 바쁜 주말에 대해 짧은 대화를 나누고 Person1이 Person2의 집에 방문한 것에 대해 이야기합니다. 그들은 Person1이 Person2의 쇼핑 필요를 도울 수 있는 가능성에 대해 논의합니다.\n"
     ]
    },
    {
     "name": "stderr",
     "output_type": "stream",
     "text": [
      "  7%|▋         | 36/499 [02:02<30:47,  3.99s/it]"
     ]
    },
    {
     "name": "stdout",
     "output_type": "stream",
     "text": [
      "Person2는 이번 주 내내 밤늦게 일한 뒤 피곤하고, 그들의 형은 몇 주 더 미국으로 출장을 가 있습니다. Person1은 5시에 친구를 만나기로 했고, Person2는 라디오와 동기화된 시계를 확인했습니다.\n"
     ]
    },
    {
     "name": "stderr",
     "output_type": "stream",
     "text": [
      "  7%|▋         | 37/499 [02:19<1:02:09,  8.07s/it]"
     ]
    },
    {
     "name": "stdout",
     "output_type": "stream",
     "text": [
      "Simon과 Cleo는 핵무기 확산에 반대하는 시위에 대해 논의합니다. Cleo는 시위에 참석하는 것에 관심이 없지만 Simon은 그녀에게 가도록 격려합니다. 그들은 문제의 복잡성과 시위에서 발생할 수 있는 폭력에 대해 논의합니다. Simon은 책임 있는 시민으로서 자신의 신념을 위해 일어서는 것이 중요하다고 믿지만 Cleo는 확신하지 못하고 물리학 시험을 공부하는 것을 선호합니다. Simon은 Cleo에게 정치학 수업에서 시위에 대해 친구들에게 물어보라고 제안하지만 이미 참석하기로 결정했습니다. Cleo는 가지 않기로 결정하고 여동생을 만나러 갑니다. Simon과 Cleo는 내일 물리학 수업에서 만나기로 합니다.\n"
     ]
    },
    {
     "name": "stderr",
     "output_type": "stream",
     "text": [
      "  8%|▊         | 38/499 [02:21<47:35,  6.19s/it]  "
     ]
    },
    {
     "name": "stdout",
     "output_type": "stream",
     "text": [
      "#Person1#: 그 사람을 들여보내면 안 됐어. 네가 기대하고 있거나 있어야 할 사람 외에는 아무도 들여보내면 안 돼.\n"
     ]
    },
    {
     "name": "stderr",
     "output_type": "stream",
     "text": [
      "  8%|▊         | 39/499 [02:24<40:01,  5.22s/it]"
     ]
    },
    {
     "name": "stdout",
     "output_type": "stream",
     "text": [
      "매기는 마크에게 역사 노트를 빌려준다. 마크는 오후 7시부터 10시까지 슈퍼마켓에서 일하기 때문에 수업 시간에 노트를 적을 시간이 없다. 그들은 공부 친구가 되기로 합의한다.\n"
     ]
    },
    {
     "name": "stderr",
     "output_type": "stream",
     "text": [
      "  8%|▊         | 40/499 [02:30<41:00,  5.36s/it]"
     ]
    },
    {
     "name": "stdout",
     "output_type": "stream",
     "text": [
      "Person2는 다음 학기에 고급 지질학 강의를 맡을 것인지 Turner 교수에게 묻습니다. Turner 교수는 강의를 맡을 것이라고 확인하고 Person2에게 해당 강의를 들을 자격을 갖추고 있는지 묻습니다. Person2는 해당 강의에 대한 관심을 표현하고 Turner 교수는 필요한 자격을 갖추고 있다면 강의를 들을 수 있도록 허락합니다.\n"
     ]
    },
    {
     "name": "stderr",
     "output_type": "stream",
     "text": [
      "  8%|▊         | 41/499 [02:33<36:04,  4.73s/it]"
     ]
    },
    {
     "name": "stdout",
     "output_type": "stream",
     "text": [
      "#Person1#은 #Person2#의 가게에서 목걸이를 구입했는데, 호텔로 돌아가는 길에 고장났습니다. #Person2#는 영수증을 가지고 10시까지 오면 새 것으로 교환해 주겠다고 했습니다.\n"
     ]
    },
    {
     "name": "stderr",
     "output_type": "stream",
     "text": [
      "  8%|▊         | 42/499 [02:42<45:29,  5.97s/it]"
     ]
    },
    {
     "name": "stdout",
     "output_type": "stream",
     "text": [
      "Person1은 Person2에게 옷을 보여주고 의견을 묻습니다. Person2는 대화에 큰 관심이 없고 게임을 보고 싶어합니다. Person1은 박싱 데이 세일을 위해 어떤 선물을 살지 결정하려고 합니다. Person2는 Person1의 계속되는 수다에 짜증이 나고 모든 옷을 반품하고 상점으로 돌아가자고 제안합니다. Person1은 떠나겠다고 위협하고 Person2는 그들이 \"멍청한 게임\"을 혼자 즐기라고 제안합니다.\n"
     ]
    },
    {
     "name": "stderr",
     "output_type": "stream",
     "text": [
      "  9%|▊         | 43/499 [02:43<34:07,  4.49s/it]"
     ]
    },
    {
     "name": "stdout",
     "output_type": "stream",
     "text": [
      "#Person2#는 미디어 산업, 특히 인터랙티브 미디어 분야에서 일하고 싶어합니다.\n"
     ]
    },
    {
     "name": "stderr",
     "output_type": "stream",
     "text": [
      "  9%|▉         | 44/499 [02:46<31:52,  4.20s/it]"
     ]
    },
    {
     "name": "stdout",
     "output_type": "stream",
     "text": [
      "Person1과 Person2는 행사에 지루해하지만, Person1은 연사들을 듣기 위해 남아 있어야 합니다. Person2는 음악을 들을 수 있는지 묻지만, Person1은 퍼즐과 만화 섹션이 있는 오래된 신문을 읽는 것을 제안합니다.\n"
     ]
    },
    {
     "name": "stderr",
     "output_type": "stream",
     "text": [
      "  9%|▉         | 45/499 [02:58<48:08,  6.36s/it]"
     ]
    },
    {
     "name": "stdout",
     "output_type": "stream",
     "text": [
      "Person1은 Person2가 이사하는 것을 고려해 보라고 제안하지만, Person2는 재정적 제약 때문에 망설이고 있습니다. Person1은 도시 중심부에서 벗어나 더 저렴한 집을 사는 것을 제안하고, 같은 일을 한 친구에 대한 이야기를 공유하며 그 친구는 그 결정에 만족하고 있다고 말합니다. Person2는 집의 상태에 대해 묻고, Person1은 그 집이 잘 관리되었고 단지 사소한 수리가 필요했다고 확신시킵니다. Person2는 위치에 대한 걱정을 표현하지만, Person1은 이웃들이 서로를 돌보고 안전하다고 말합니다.\n"
     ]
    },
    {
     "name": "stderr",
     "output_type": "stream",
     "text": [
      "  9%|▉         | 46/499 [03:01<39:58,  5.29s/it]"
     ]
    },
    {
     "name": "stdout",
     "output_type": "stream",
     "text": [
      "마크 리치는 런던의 관광 사무소에서 일하며 방문객들에게 관광 정보를 제공합니다. 그의 팀은 13개 언어를 구사하며, 방문객들이 영국을 최대한 즐길 수 있도록 도와줍니다.\n"
     ]
    },
    {
     "name": "stderr",
     "output_type": "stream",
     "text": [
      "  9%|▉         | 47/499 [03:02<32:21,  4.29s/it]"
     ]
    },
    {
     "name": "stdout",
     "output_type": "stream",
     "text": [
      "루시와 린팡은 그들이 좋아하는 과목에 대해 이야기하고 있습니다. 루시는 영어와 체육을 좋아하고, 린팡은 중국어와 과학을 좋아합니다.\n"
     ]
    },
    {
     "name": "stderr",
     "output_type": "stream",
     "text": [
      " 10%|▉         | 48/499 [03:16<52:16,  6.96s/it]"
     ]
    },
    {
     "name": "stdout",
     "output_type": "stream",
     "text": [
      "Person1은 마당의 잎을 청소하고 현관 앞을 쓸고 쓰레기를 버렸습니다. Person2는 Person1에게 그들의 개 오스카를 산책시켜 달라고 요청했습니다. Person1은 동의했고 Person2는 도움을 주셔서 감사했습니다. Person1은 농구 연습을 위해 자전거를 사기 위해 돈을 모으고 있다고 말했고 Person2는 여전히 일할 수 있는지 물었습니다. Person1은 그렇다고 했지만 다음 주말에는 할아버지를 방문해야 하기 때문에 올 수 없다고 말했습니다. Person2는 이해한다고 말했고 Person1의 여동생 알리슨이 대신 올 것이라고 말했습니다.\n"
     ]
    },
    {
     "name": "stderr",
     "output_type": "stream",
     "text": [
      " 10%|▉         | 49/499 [03:17<40:25,  5.39s/it]"
     ]
    },
    {
     "name": "stdout",
     "output_type": "stream",
     "text": [
      "봄이 왔지만 밤에는 여전히 추워. 아파트는 밤에는 얼어붙을 것 같아. 에어컨으로 온풍을 틀어야 해.\n"
     ]
    },
    {
     "name": "stderr",
     "output_type": "stream",
     "text": [
      " 10%|█         | 50/499 [03:27<49:29,  6.61s/it]"
     ]
    },
    {
     "name": "stdout",
     "output_type": "stream",
     "text": [
      "Person1은 모든 사람들에게 다시 시작하라고 요청하고, Mike에게 그의 연기가 잘못되었다고 말합니다. Person2는 Jason과 Laura가 3년 동안 함께 있었고, 그의 반응은 분노와 슬픔의 혼합이어야 한다고 주장합니다. Person1은 동의하지 않고, Jason이 대부분의 남성들이 반응하는 방식으로 반응해야 하며, 그의 진정한 감정이 나중에 나올 것이라고 제안합니다. Person2는 확신하지 못하고, Person1은 그들의 방식으로 시도해보고 어떻게 느껴지는지 보라고 제안합니다.\n"
     ]
    },
    {
     "name": "stderr",
     "output_type": "stream",
     "text": [
      " 10%|█         | 51/499 [03:36<54:54,  7.35s/it]"
     ]
    },
    {
     "name": "stdout",
     "output_type": "stream",
     "text": [
      "Person1은 택시를 불러서 우정호텔로 데려다 달라고 부탁합니다. Person2는 동의하고 가깝다고 말합니다. Person1은 중요한 미팅이 있다고 말하고 서둘러 달라고 부탁합니다. Person2는 최선을 다하겠다고 말하고 목적지에 도착합니다. Person1은 요금을 물어보고 Person2는 15 위안이라고 말합니다. Person1은 20 위안을 제안하고 거스름돈을 필요 없다고 말합니다. Person2는 그들에게 감사합니다.\n"
     ]
    },
    {
     "name": "stderr",
     "output_type": "stream",
     "text": [
      " 10%|█         | 52/499 [03:38<42:48,  5.75s/it]"
     ]
    },
    {
     "name": "stdout",
     "output_type": "stream",
     "text": [
      "Person1은 돈이 없어서 버스를 탈 돈이 없지만, Person2도 마찬가지입니다. Person2는 버스 운전사에게 환승 티켓을 받는 것을 제안합니다.\n"
     ]
    },
    {
     "name": "stderr",
     "output_type": "stream",
     "text": [
      " 11%|█         | 53/499 [03:39<32:24,  4.36s/it]"
     ]
    },
    {
     "name": "stdout",
     "output_type": "stream",
     "text": [
      "대화는 위치에서 도시까지의 거리, 해당 지역의 회사, 그리고 회사 식당 유무에 관한 것입니다.\n"
     ]
    },
    {
     "name": "stderr",
     "output_type": "stream",
     "text": [
      " 11%|█         | 54/499 [04:02<1:14:46, 10.08s/it]"
     ]
    },
    {
     "name": "stdout",
     "output_type": "stream",
     "text": [
      "루루는 빅과 헤어지고 이직을 신청하고 있습니다.\n",
      "\n",
      "\n",
      "\n",
      "\n",
      "\n",
      "\n",
      "\n",
      "\n",
      "\n",
      "\n",
      "\n",
      "\n",
      "\n",
      "\n",
      "\n",
      "\n",
      "\n",
      "\n",
      "\n",
      "\n",
      "\n",
      "\n",
      "\n",
      "\n",
      "\n",
      "\n",
      "\n",
      "\n",
      "\n",
      "\n",
      "\n",
      "\n",
      "\n",
      "\n",
      "\n",
      "\n",
      "\n",
      "\n",
      "\n",
      "\n",
      "\n",
      "\n",
      "\n",
      "\n",
      "\n",
      "\n",
      "\n",
      "\n",
      "\n",
      "\n",
      "\n",
      "\n",
      "\n",
      "\n",
      "\n",
      "\n",
      "\n",
      "\n",
      "\n",
      "\n",
      "\n",
      "\n",
      "\n",
      "\n",
      "\n",
      "\n",
      "\n",
      "\n",
      "\n",
      "\n",
      "\n",
      "\n",
      "\n",
      "\n",
      "\n",
      "\n",
      "\n",
      "\n",
      "\n",
      "\n",
      "\n",
      "\n",
      "\n",
      "\n",
      "\n",
      "\n",
      "\n",
      "\n",
      "\n",
      "\n",
      "\n",
      "\n",
      "\n",
      "\n",
      "\n",
      "\n",
      "\n",
      "\n",
      "\n",
      "\n",
      "\n",
      "\n",
      "\n",
      "\n",
      "\n",
      "\n",
      "\n",
      "\n",
      "\n",
      "\n",
      "\n",
      "\n",
      "\n",
      "\n",
      "\n",
      "\n",
      "\n",
      "\n",
      "\n",
      "\n",
      "\n",
      "\n",
      "\n",
      "\n",
      "\n",
      "\n",
      "\n",
      "\n",
      "\n",
      "\n",
      "\n",
      "\n",
      "\n",
      "\n",
      "\n",
      "\n",
      "\n",
      "\n",
      "\n",
      "\n",
      "\n",
      "\n",
      "\n",
      "\n",
      "\n",
      "\n",
      "\n",
      "\n",
      "\n",
      "\n",
      "\n",
      "\n",
      "\n",
      "\n",
      "\n",
      "\n",
      "\n",
      "\n",
      "\n",
      "\n",
      "\n",
      "\n",
      "\n",
      "\n",
      "\n",
      "\n",
      "\n",
      "\n",
      "\n",
      "\n",
      "\n",
      "\n",
      "\n",
      "\n",
      "\n",
      "\n",
      "\n",
      "\n",
      "\n",
      "\n",
      "\n",
      "\n",
      "\n",
      "\n",
      "\n",
      "\n",
      "\n",
      "\n",
      "\n",
      "\n",
      "\n",
      "\n",
      "\n",
      "\n",
      "\n",
      "\n",
      "\n",
      "\n",
      "\n",
      "\n",
      "\n",
      "\n",
      "\n",
      "\n",
      "\n",
      "\n",
      "\n",
      "\n",
      "\n",
      "\n",
      "\n",
      "\n",
      "\n",
      "\n",
      "\n",
      "\n",
      "\n",
      "\n",
      "\n",
      "\n",
      "\n",
      "\n",
      "\n",
      "\n",
      "\n",
      "\n",
      "\n",
      "\n",
      "\n",
      "\n",
      "\n",
      "\n",
      "\n",
      "\n",
      "\n",
      "\n",
      "\n",
      "\n",
      "\n",
      "\n",
      "\n",
      "\n"
     ]
    },
    {
     "name": "stderr",
     "output_type": "stream",
     "text": [
      " 11%|█         | 55/499 [04:07<1:01:44,  8.34s/it]"
     ]
    },
    {
     "name": "stdout",
     "output_type": "stream",
     "text": [
      "Person1이 전화를 받고 Jim이 사용할 수 없다는 것을 알게 됩니다. Person2는 그가 언제 돌아올지 묻고, 그가 페인트를 사러 갔고 술집에 들렀을 수도 있다는 말을 듣습니다. Person2는 Person1에게 Jim에게 전화했다고 말하고 나중에 다시 시도하겠다고 말합니다.\n"
     ]
    },
    {
     "name": "stderr",
     "output_type": "stream",
     "text": [
      " 11%|█         | 56/499 [04:09<48:26,  6.56s/it]  "
     ]
    },
    {
     "name": "stdout",
     "output_type": "stream",
     "text": [
      "Person1이 시청으로 가는 길을 Person2에게 묻습니다. Person2는 자세한 지시를 제공하고, Person1은 확인을 요청합니다. Person2는 방향을 반복하고, Person1은 이해를 확인합니다.\n"
     ]
    },
    {
     "name": "stderr",
     "output_type": "stream",
     "text": [
      " 11%|█▏        | 57/499 [04:16<48:20,  6.56s/it]"
     ]
    },
    {
     "name": "stdout",
     "output_type": "stream",
     "text": [
      "#Person1#은 자신의 여권을 잃어버렸고, #Person2#에게 여권을 잃어버린 것을 알고 있는지 물어봅니다. #Person2#는 여권을 잃어버린 것을 알고 있는지 확인하지만, 여권을 잃어버린 것에 대한 보고는 없습니다. #Person1#은 신고서를 제출하고 #Person2#는 새로운 여권을 받기 위해 대사관에 연락할 것을 제안합니다.\n"
     ]
    },
    {
     "name": "stderr",
     "output_type": "stream",
     "text": [
      " 12%|█▏        | 58/499 [04:18<38:07,  5.19s/it]"
     ]
    },
    {
     "name": "stdout",
     "output_type": "stream",
     "text": [
      "콜린스 씨는 다음 주까지 네이선에게 전화할 수 없습니다. 폰다 씨는 오늘 오전 11시 30분에 그와 이야기할 수 있습니다.\n"
     ]
    },
    {
     "name": "stderr",
     "output_type": "stream",
     "text": [
      " 12%|█▏        | 59/499 [04:20<30:33,  4.17s/it]"
     ]
    },
    {
     "name": "stdout",
     "output_type": "stream",
     "text": [
      "#Person1#과 #Person2#는 사라는 딕이 플레이어로 알려진 것에 불구하고 딕과 결혼하려는 의향이 있다는 사실에 놀랐습니다.\n"
     ]
    },
    {
     "name": "stderr",
     "output_type": "stream",
     "text": [
      " 12%|█▏        | 60/499 [04:27<37:21,  5.11s/it]"
     ]
    },
    {
     "name": "stdout",
     "output_type": "stream",
     "text": [
      "Person1과 Person2는 파티에 있고 Person2는 빨간 머리의 소녀에게 매료되어 있습니다. Person1은 Person2에게 그녀와 이야기하도록 격려하지만 Person2는 긴장하고 망설입니다. Person1은 그 소녀에게 다른 다섯 명의 남자들도 관심이 있다고 Person2에게 말하며, 그는 빨리 행동해야 한다고 말합니다. Person2는 시도하기로 동의하고 Person1은 그에게 행운을 빈다.\n"
     ]
    },
    {
     "name": "stderr",
     "output_type": "stream",
     "text": [
      " 12%|█▏        | 61/499 [04:29<31:19,  4.29s/it]"
     ]
    },
    {
     "name": "stdout",
     "output_type": "stream",
     "text": [
      "Person2는 이번 학기에 정치학 수업을 즐겼고 작년에는 비즈니스 커뮤니케이션 수업을 들었습니다. Person1은 비즈니스 커뮤니케이션 수업을 듣고 싶어합니다.\n"
     ]
    },
    {
     "name": "stderr",
     "output_type": "stream",
     "text": [
      " 12%|█▏        | 62/499 [04:32<28:53,  3.97s/it]"
     ]
    },
    {
     "name": "stdout",
     "output_type": "stream",
     "text": [
      "대화는 베이징의 날씨에 관한 것으로, 화자들은 최근의 비, 나중에 더 많은 비가 올 가능성, 그리고 베이징의 다른 계절들에 대해 논의합니다. 그들은 또한 공기 질과 나무를 심어 개선하려는 노력에 대해 언급합니다.\n"
     ]
    },
    {
     "name": "stderr",
     "output_type": "stream",
     "text": [
      " 13%|█▎        | 63/499 [04:35<25:43,  3.54s/it]"
     ]
    },
    {
     "name": "stdout",
     "output_type": "stream",
     "text": [
      "Person1과 Person2는 오늘 밤 볼 영화에 대해 논의하고 있습니다. Person2는 공포, 추리, 코미디, 또는 로맨스 영화에 관심이 없습니다. 그들은 전쟁 영화를 보기로 결정합니다.\n"
     ]
    },
    {
     "name": "stderr",
     "output_type": "stream",
     "text": [
      " 13%|█▎        | 64/499 [04:39<26:34,  3.67s/it]"
     ]
    },
    {
     "name": "stdout",
     "output_type": "stream",
     "text": [
      "아담은 1인분을 학교 주변을 보여줍니다. 가장 높은 건물은 도서관인데, 100만 권 이상의 책이 있습니다. 도서관 남쪽 건물은 새 고등학교 건물입니다. 학교에는 수영장이 있는데, 여름에만 열립니다.\n"
     ]
    },
    {
     "name": "stderr",
     "output_type": "stream",
     "text": [
      " 13%|█▎        | 65/499 [04:40<21:39,  2.99s/it]"
     ]
    },
    {
     "name": "stdout",
     "output_type": "stream",
     "text": [
      "Person1은 Person2에게 임신했다고 알리고 곧 아기를 갖게 될 것이라고 합니다. Person2는 기뻐합니다.\n"
     ]
    },
    {
     "name": "stderr",
     "output_type": "stream",
     "text": [
      " 13%|█▎        | 66/499 [04:42<17:57,  2.49s/it]"
     ]
    },
    {
     "name": "stdout",
     "output_type": "stream",
     "text": [
      "John은 일주일에 일곱 번 그녀와 데이트를 한다. 그는 그녀에게 빠진 것 같다. 그들은 잘 어울린다.\n"
     ]
    },
    {
     "name": "stderr",
     "output_type": "stream",
     "text": [
      " 13%|█▎        | 67/499 [04:47<23:24,  3.25s/it]"
     ]
    },
    {
     "name": "stdout",
     "output_type": "stream",
     "text": [
      "Person1은 소프트웨어에 그래픽 프로그램을 추가하고, 더 빠른 프로세서, 더 많은 메모리, 더 빠른 모뎀, 그리고 CD-ROM 드라이브로 하드웨어를 업그레이드하여 시스템을 업그레이드하는 것을 제안합니다. Person2는 그 아이디어에 관심이 있습니다.\n"
     ]
    },
    {
     "name": "stderr",
     "output_type": "stream",
     "text": [
      " 14%|█▎        | 68/499 [04:53<30:53,  4.30s/it]"
     ]
    },
    {
     "name": "stdout",
     "output_type": "stream",
     "text": [
      "Person1이 Person2에게 어디로 가고 있는지, 어디에서 왔는지 묻습니다. Person2는 중국에서 왔다고 말하지만 실제로는 멕시코 출신이며 중국에서 회사를 방문하고 있었습니다. Person1은 Person2의 나이를 묻고 둘 다 나이를 밝히고 배경을 밝힙니다. Person2는 Person1이 스페인어를 할 수 있는지 묻고 그들은 그렇다고 말합니다.\n"
     ]
    },
    {
     "name": "stderr",
     "output_type": "stream",
     "text": [
      " 14%|█▍        | 69/499 [04:54<23:37,  3.30s/it]"
     ]
    },
    {
     "name": "stdout",
     "output_type": "stream",
     "text": [
      "#Person1#은 체중이 늘었고 운동을 더 많이 하는 것을 고려하고 있습니다.\n"
     ]
    },
    {
     "name": "stderr",
     "output_type": "stream",
     "text": [
      " 14%|█▍        | 70/499 [04:58<23:48,  3.33s/it]"
     ]
    },
    {
     "name": "stdout",
     "output_type": "stream",
     "text": [
      "Person1은 Person2를 레스토랑에 환영하고 다이닝 홀의 창가 자리를 제공하지만, Person2는 예약된 방을 기다리기 위해 고집합니다. Person1은 Person2의 이름을 물어보고 그들을 도울 웨이트리스를 보내겠다고 약속합니다.\n"
     ]
    },
    {
     "name": "stderr",
     "output_type": "stream",
     "text": [
      " 14%|█▍        | 71/499 [05:03<26:52,  3.77s/it]"
     ]
    },
    {
     "name": "stdout",
     "output_type": "stream",
     "text": [
      "공장은 75,000 평방 미터이며 70년대 초에 설립되었습니다. 3 교대로 500 명의 직원이 근무하고 있습니다. 공장은 원자재에서 완제품에 이르기까지 모든 것을 다루며 액세서리에 전문가가 있습니다. 투어는 조립 라인에서 시작됩니다.\n"
     ]
    },
    {
     "name": "stderr",
     "output_type": "stream",
     "text": [
      " 14%|█▍        | 72/499 [05:07<28:34,  4.01s/it]"
     ]
    },
    {
     "name": "stdout",
     "output_type": "stream",
     "text": [
      "리베카는 요크의 지역 신문사에서 인턴으로 경력을 시작하여, 결국에는 주니어 지역 뉴스 기자로, 그리고 나중에 스포츠 뉴스 기자로 일했습니다. 그녀는 2006년 런던으로 이사하여 런던에 기반을 둔 전국 신문사에서 일하게 되었습니다.\n"
     ]
    },
    {
     "name": "stderr",
     "output_type": "stream",
     "text": [
      " 15%|█▍        | 73/499 [05:15<36:15,  5.11s/it]"
     ]
    },
    {
     "name": "stdout",
     "output_type": "stream",
     "text": [
      "Person1과 Person2는 그룹 프레젠테이션을 위한 물품을 사기 위해 문구점에 갑니다. 그들은 마커, 색연필, 가위, 형광펜, 자를 필요로 합니다. 그들은 또한 포스터를 만들어야 합니다. 그들은 마커, 색연필, 형광펜을 얻기 위해 세 번째 선반으로 시작할 것입니다. Person1은 또한 뒤쪽에 위치한 종이 클립이 필요합니다.\n"
     ]
    },
    {
     "name": "stderr",
     "output_type": "stream",
     "text": [
      " 15%|█▍        | 74/499 [05:31<58:56,  8.32s/it]"
     ]
    },
    {
     "name": "stdout",
     "output_type": "stream",
     "text": [
      "매리는 매일 취업 시장에 가는 것이 지쳐 있습니다. Person1은 온라인으로 일자리를 신청하는 것을 제안합니다. 메리는 이전에 한 적이 없습니다. Person1은 편리하고 인기가 있다고 설명합니다. 메리는 어떤 고용주가 고용하고 있는지 어떻게 알 수 있는지 묻습니다. Person1은 일자리를 게시하는 게시판에 정보를 게시하는 것을 제안합니다. 메리는 고용주가 자신의 정보를 볼 수 있는지 묻습니다. Person1은 그들이 볼 수 있고 그녀가 좋은 적합이라고 생각하면 그녀에게 연락할 수 있다고 말합니다. 메리는 온라인으로 일자리를 신청하는 것이 안전한지 묻습니다. Person1은 공식 사이트에 가면 안전하다고 말합니다. 메리는 시도하기로 결정합니다.\n"
     ]
    },
    {
     "name": "stderr",
     "output_type": "stream",
     "text": [
      " 15%|█▌        | 75/499 [05:32<43:40,  6.18s/it]"
     ]
    },
    {
     "name": "stdout",
     "output_type": "stream",
     "text": [
      "\n",
      "Person2는 청구서를 위해 돈을 절약하기 위해 월 $300의 쇼핑 예산을 만들고 있습니다.\n"
     ]
    },
    {
     "name": "stderr",
     "output_type": "stream",
     "text": [
      " 15%|█▌        | 76/499 [05:33<33:45,  4.79s/it]"
     ]
    },
    {
     "name": "stdout",
     "output_type": "stream",
     "text": [
      "제인은 수잔을 보러 병원에 갑니다. 헨리는 7번 버스가 아닌 13번 버스를 타는 것을 제안합니다.\n"
     ]
    },
    {
     "name": "stderr",
     "output_type": "stream",
     "text": [
      " 15%|█▌        | 77/499 [05:38<32:26,  4.61s/it]"
     ]
    },
    {
     "name": "stdout",
     "output_type": "stream",
     "text": [
      "Person1은 내년 판매 예측과 Person2가 만든 스프레드시트에 대해 논의하기 위해 Person2를 만나고 싶어합니다. Person2는 금요일 오후에 스프레드시트를 설명하겠다고 제안하지만 Person1은 바쁘다. 그들은 화요일 오후 2시 30분에 만나기로 합의합니다.\n"
     ]
    },
    {
     "name": "stderr",
     "output_type": "stream",
     "text": [
      " 16%|█▌        | 78/499 [05:44<36:05,  5.14s/it]"
     ]
    },
    {
     "name": "stdout",
     "output_type": "stream",
     "text": [
      "Person1은 가이드 없이 뉴욕을 처음 방문하는 것에 대해 걱정하고 있습니다. Person2는 개인 가이드 서비스를 제공하는 \"Friends in New York\"라는 서비스를 제안합니다. Person1은 관심이 있고 설문지를 어디서 받을 수 있는지 묻습니다. Person2는 웹사이트에서 쉽게 다운로드할 수 있다고 말합니다. Person1은 Person2에게 도움을 주셔서 감사합니다.\n"
     ]
    },
    {
     "name": "stderr",
     "output_type": "stream",
     "text": [
      " 16%|█▌        | 79/499 [05:48<33:26,  4.78s/it]"
     ]
    },
    {
     "name": "stdout",
     "output_type": "stream",
     "text": [
      "#Person2#는 영업부에서 일하고 싶어하며, 기본급과 혜택에 대해 묻습니다. #Person1#은 기본급이 2,500 위안이며, 보너스, 휴가, 보험과 같은 혜택이 있다고 알려줍니다.\n"
     ]
    },
    {
     "name": "stderr",
     "output_type": "stream",
     "text": [
      " 16%|█▌        | 80/499 [05:50<28:10,  4.03s/it]"
     ]
    },
    {
     "name": "stdout",
     "output_type": "stream",
     "text": [
      "그 사람은 계약을 체결하기 위해 왔지만 아직 준비가 되지 않았습니다. 그들은 초안을 검토하고 필요한 변경 사항을 만들기로 합의했습니다. 그 사람은 포장 조건에 만족하고 그 날 나중에 계약을 체결하기로 동의했습니다.\n"
     ]
    },
    {
     "name": "stderr",
     "output_type": "stream",
     "text": [
      " 16%|█▌        | 81/499 [05:51<21:59,  3.16s/it]"
     ]
    },
    {
     "name": "stdout",
     "output_type": "stream",
     "text": [
      "Person1은 나이아가라 폭포로 가는 길에 사고를 당했고 ABC 렌터카의 도움이 필요합니다.\n"
     ]
    },
    {
     "name": "stderr",
     "output_type": "stream",
     "text": [
      " 16%|█▋        | 82/499 [05:53<18:38,  2.68s/it]"
     ]
    },
    {
     "name": "stdout",
     "output_type": "stream",
     "text": [
      "#Person1#은 학교 보건실의 위치를 #Person2#에게 물어보고, #Person2#는 그 위치를 알려줍니다.\n"
     ]
    },
    {
     "name": "stderr",
     "output_type": "stream",
     "text": [
      " 17%|█▋        | 83/499 [05:58<23:17,  3.36s/it]"
     ]
    },
    {
     "name": "stdout",
     "output_type": "stream",
     "text": [
      "Person2는 방의 소음에 불만을 가지고 방을 바꾸어 달라고 요청합니다. Person1은 사과하고 더 조용한 방으로 옮겨주겠다고 제안하지만, 내일까지 사용할 수 있는 방이 없습니다. Person2는 기다릴 것에 동의하고 더 조용한 방에서 좋은 밤을 보내기를 희망합니다.\n"
     ]
    },
    {
     "name": "stderr",
     "output_type": "stream",
     "text": [
      " 17%|█▋        | 84/499 [06:04<29:27,  4.26s/it]"
     ]
    },
    {
     "name": "stdout",
     "output_type": "stream",
     "text": [
      "Person1은 베이징 호텔로 데려다 주겠다고 제안하고, 그 호텔은 도시에서 가장 좋은 호텔 중 하나라고 언급합니다. Person1은 또한 오후 6시에 국제 호텔에서 열리는 연회에 Person2를 초대하고, 오후에 그들을 데리러 가겠다고 제안합니다. Person2는 환대에 대한 감사를 표하고, 관광에 관심이 있다면 그들을 안내하겠다고 제안합니다.\n"
     ]
    },
    {
     "name": "stderr",
     "output_type": "stream",
     "text": [
      " 17%|█▋        | 85/499 [06:05<23:07,  3.35s/it]"
     ]
    },
    {
     "name": "stdout",
     "output_type": "stream",
     "text": [
      "Person1이 Person2에게 길을 묻고 Person2가 그들을 Yuichang으로 가는 길을 찾도록 도와줍니다.\n"
     ]
    },
    {
     "name": "stderr",
     "output_type": "stream",
     "text": [
      " 17%|█▋        | 86/499 [06:08<21:56,  3.19s/it]"
     ]
    },
    {
     "name": "stdout",
     "output_type": "stream",
     "text": [
      "컴퓨터가 제대로 작동하지 않고 계속 멈춥니다. 그 사람은 고칠 수 없고, 리씨에게 도움을 요청하지만, 그도 고칠 수 없습니다. 그 사람은 문제를 해결하기 위해 수리공에게 전화하는 것을 제안합니다.\n"
     ]
    },
    {
     "name": "stderr",
     "output_type": "stream",
     "text": [
      " 17%|█▋        | 87/499 [06:10<18:01,  2.63s/it]"
     ]
    },
    {
     "name": "stdout",
     "output_type": "stream",
     "text": [
      "Person2는 어머니의 생일을 위해 선물을 찾고 있으며, 큰, 명확한 숫자가 있는 금시계를 구매하기로 결정합니다.\n"
     ]
    },
    {
     "name": "stderr",
     "output_type": "stream",
     "text": [
      " 18%|█▊        | 88/499 [06:19<32:22,  4.73s/it]"
     ]
    },
    {
     "name": "stdout",
     "output_type": "stream",
     "text": [
      "Person1과 Person2는 10월 24일 토요일 오전 11시에 열릴 프레젠테이션에 대해 논의하고 있습니다. 그들은 오전 10시부터 오후 2시까지 10명용 방이 필요하며, 커피와 간식이 제공될 예정입니다. 또한 프레젠테이션을 위한 테이블과 장비가 필요합니다. Person1은 100명에게 초대장을 보낼 예정이지만, 실제로 참석할 사람은 30명으로 예상하고 있습니다.\n"
     ]
    },
    {
     "name": "stderr",
     "output_type": "stream",
     "text": [
      " 18%|█▊        | 89/499 [06:21<26:16,  3.84s/it]"
     ]
    },
    {
     "name": "stdout",
     "output_type": "stream",
     "text": [
      "러시아에서는 모든 것이 빠르게 진행되지만 공공 서비스는 여전히 느립니다. 캐나다에서는 사람들이 더 편안하지만 공공 서비스는 더 빠릅니다.\n"
     ]
    },
    {
     "name": "stderr",
     "output_type": "stream",
     "text": [
      " 18%|█▊        | 90/499 [06:22<20:52,  3.06s/it]"
     ]
    },
    {
     "name": "stdout",
     "output_type": "stream",
     "text": [
      "Person1과 Person2는 그들의 휴가 계획과 카리브해의 잠재적인 날씨 조건에 대해 논의하고 있습니다.\n"
     ]
    },
    {
     "name": "stderr",
     "output_type": "stream",
     "text": [
      " 18%|█▊        | 91/499 [06:24<18:42,  2.75s/it]"
     ]
    },
    {
     "name": "stdout",
     "output_type": "stream",
     "text": [
      "#Person1#은 피크닉을 위해 과일이 있는지 #Person2#에게 물어보고, #Person2#는 바나나와 포도를 가져오는 것을 제안합니다.\n"
     ]
    },
    {
     "name": "stderr",
     "output_type": "stream",
     "text": [
      " 18%|█▊        | 92/499 [06:29<23:37,  3.48s/it]"
     ]
    },
    {
     "name": "stdout",
     "output_type": "stream",
     "text": [
      "Person1이 경제차 렌트 비용에 대해 묻습니다. Person2는 비용과 렌탈에 대한 정보를 제공합니다. Person1은 다음날 아침에 하나를 빌리기를 원합니다. Person2는 Person1의 운전 면허증을 요구합니다. Person1은 그것을 제공합니다. Person2는 Person1에게 양식을 작성하도록 요청합니다.\n"
     ]
    },
    {
     "name": "stderr",
     "output_type": "stream",
     "text": [
      " 19%|█▊        | 93/499 [06:40<38:35,  5.70s/it]"
     ]
    },
    {
     "name": "stdout",
     "output_type": "stream",
     "text": [
      "#Person1#과 #Person2#는 언제 미소를 지어야 하는지에 대해 다른 의견을 가지고 있습니다. #Person1#은 엘리베이터와 같은 특정 상황에서 미소를 지으면 다른 사람들을 불편하게 만들 수 있다고 믿습니다. #Person2#는 이에 동의하지 않으며 사람들이 자신 앞에서 미소를 짓지 않을 때 짜증이 납니다. #Person1#은 이유 없이 계속 미소를 짓는 사람들에게 지쳤다고 표현합니다. #Person2#는 사람들이 더 호환된다면 그들의 미소가 환영받을 것이라고 믿습니다.\n"
     ]
    },
    {
     "name": "stderr",
     "output_type": "stream",
     "text": [
      " 19%|█▉        | 94/499 [06:43<32:02,  4.75s/it]"
     ]
    },
    {
     "name": "stdout",
     "output_type": "stream",
     "text": [
      "#Person1#과 #Person2#는 회사의 매출과 성장에 대해 논의하며, 새로운 마케팅 전략과 Wallace의 리더십에 기인한다고 말합니다. 그들은 지속적인 성공과 재정적 안정을 희망합니다.\n"
     ]
    },
    {
     "name": "stderr",
     "output_type": "stream",
     "text": [
      " 19%|█▉        | 95/499 [06:45<27:17,  4.05s/it]"
     ]
    },
    {
     "name": "stdout",
     "output_type": "stream",
     "text": [
      "Person2가 택시에서 지갑을 잃어버리고 Person1에게 금요일까지 50달러를 빌려달라고 합니다. Person1은 Person2를 집까지 데려다주겠다고 제안합니다.\n"
     ]
    },
    {
     "name": "stderr",
     "output_type": "stream",
     "text": [
      " 19%|█▉        | 96/499 [06:53<33:51,  5.04s/it]"
     ]
    },
    {
     "name": "stdout",
     "output_type": "stream",
     "text": [
      "#Person1#과 #Person2#는 함께 훌륭한 식사를 했으며 #Person1#은 다음번에 베이징을 방문할 때 #Person2#를 대접하겠다고 약속합니다. #Person1#은 중국에서는 일부 호텔과 식당에서 팁을 주는 것이 일반적이지 않다고 설명합니다. #Person2#는 놀라며 미국에서는 그런 시스템을 도입하려고 하면 혁명을 일으킬 것이라고 말합니다.\n"
     ]
    },
    {
     "name": "stderr",
     "output_type": "stream",
     "text": [
      " 19%|█▉        | 97/499 [06:56<30:09,  4.50s/it]"
     ]
    },
    {
     "name": "stdout",
     "output_type": "stream",
     "text": [
      "Person2는 그들이 방을 떠났기 때문에 행복합니다. Person1은 무슨 일이 있었는지 묻고 Person2는 그들의 방이 Brain Locker였다고 설명합니다. Person1은 용어를 잘 모르지만 그 사람의 설명을 알아차립니다.\n"
     ]
    },
    {
     "name": "stderr",
     "output_type": "stream",
     "text": [
      " 20%|█▉        | 98/499 [06:57<23:11,  3.47s/it]"
     ]
    },
    {
     "name": "stdout",
     "output_type": "stream",
     "text": [
      "톰 윌슨은 호텔에서의 4일 숙박에 660달러를 지불했습니다.\n"
     ]
    },
    {
     "name": "stderr",
     "output_type": "stream",
     "text": [
      " 20%|█▉        | 99/499 [07:00<23:25,  3.51s/it]"
     ]
    },
    {
     "name": "stdout",
     "output_type": "stream",
     "text": [
      "캐롤은 샤워 중이라 전화를 받을 수 없습니다. 수잔은 파티가 오늘 밤인지 내일 밤인지 알고 싶어합니다. 내일 밤 8시 30분에 질의 집에서 열립니다. 수잔이 원한다면 디저트를 가져올 수 있습니다.\n"
     ]
    },
    {
     "name": "stderr",
     "output_type": "stream",
     "text": [
      " 20%|██        | 100/499 [07:03<21:22,  3.21s/it]"
     ]
    },
    {
     "name": "stdout",
     "output_type": "stream",
     "text": [
      "Person1은 Person2를 어디서 본 적이 있는지 기억하려고 노력하지만, Person2는 그들을 모른다고 부인합니다. Person1은 결국 Person2가 Whole Bean Cafe에서 일한다는 것을 기억합니다.\n"
     ]
    },
    {
     "name": "stderr",
     "output_type": "stream",
     "text": [
      " 20%|██        | 101/499 [07:08<24:19,  3.67s/it]"
     ]
    },
    {
     "name": "stdout",
     "output_type": "stream",
     "text": [
      "Person1과 Person2는 트럼프 대통령의 대통령직과 재선 여부에 대해 다른 의견을 가지고 있습니다. Person2는 트럼프의 지지자이며, 트럼프가 다시 미국을 위대하게 만들 것이라고 믿습니다. 반면 Person1은 확신하지 못하고 바이든에게 투표할 계획입니다.\n"
     ]
    },
    {
     "name": "stderr",
     "output_type": "stream",
     "text": [
      " 20%|██        | 102/499 [07:09<19:27,  2.94s/it]"
     ]
    },
    {
     "name": "stdout",
     "output_type": "stream",
     "text": [
      "Person1이 처음으로 ATM을 사용하는 데 도움이 필요하고, Person2가 단계별 설명을 통해 그들을 돕습니다.\n"
     ]
    },
    {
     "name": "stderr",
     "output_type": "stream",
     "text": [
      " 21%|██        | 103/499 [07:11<17:22,  2.63s/it]"
     ]
    },
    {
     "name": "stdout",
     "output_type": "stream",
     "text": [
      "존과 수잔은 사무실 절차에 관한 메모에 대해 이야기하고 있습니다. 수잔은 비서에게 사본을 주고 싶지만 존은 어디에 있는지 모릅니다.\n"
     ]
    },
    {
     "name": "stderr",
     "output_type": "stream",
     "text": [
      " 21%|██        | 104/499 [07:13<16:34,  2.52s/it]"
     ]
    },
    {
     "name": "stdout",
     "output_type": "stream",
     "text": [
      "릴리와 Person1은 이번 주말에 소풍을 갑니다. 그들은 강을 따라 걸을 것이고 저녁을 먹을 것입니다. 릴리는 편안한 옷과 걷기 좋은 신발을 입어야 합니다.\n"
     ]
    },
    {
     "name": "stderr",
     "output_type": "stream",
     "text": [
      " 21%|██        | 105/499 [07:17<19:54,  3.03s/it]"
     ]
    },
    {
     "name": "stdout",
     "output_type": "stream",
     "text": [
      "Person1과 Person2는 중국식 연회와 중국에서의 독특한 식사 경험에 대해 논의합니다. 그들은 젓가락 사용과 젓가락을 밥그릇에 꽂는 것은 불운을 가져온다고 여겨지기 때문에 젓가락 사용과 식사 예절의 중요성을 언급합니다.\n"
     ]
    },
    {
     "name": "stderr",
     "output_type": "stream",
     "text": [
      " 21%|██        | 106/499 [07:20<19:29,  2.98s/it]"
     ]
    },
    {
     "name": "stdout",
     "output_type": "stream",
     "text": [
      "Person1과 Person2는 그들이 좋아하는 영화와 그들이 얼마나 자주 보는지에 대해 토론합니다. 그들은 서로 다른 장르를 즐기고 Person2는 Movie Salon이라는 영화 대여 장소를 추천합니다. Person1은 가입에 관심이 있습니다.\n"
     ]
    },
    {
     "name": "stderr",
     "output_type": "stream",
     "text": [
      " 21%|██▏       | 107/499 [07:27<26:54,  4.12s/it]"
     ]
    },
    {
     "name": "stdout",
     "output_type": "stream",
     "text": [
      "#Person2#는 그린당에 가입하는 것을 고려했지만, 어떤 정당에도 가입한 적이 없습니다. 그들은 그린피스의 회원이었지만, 그것에 시간을 할애할 수 없었습니다. 그린당은 선거에서 이길 가능성이 거의 없지만, 작은 정치 단체와 압력 단체는 여전히 더 큰 정당에 영향을 미칠 수 있습니다. 대부분의 사람들은 정치에 대해 잘 알지 못하며 종종 문제를 완전히 이해하지 못합니다.\n"
     ]
    },
    {
     "name": "stderr",
     "output_type": "stream",
     "text": [
      " 22%|██▏       | 108/499 [07:30<25:19,  3.89s/it]"
     ]
    },
    {
     "name": "stdout",
     "output_type": "stream",
     "text": [
      "대화는 제품에 대한 문제와 회사가 실수를 사과하는 것에 관한 것입니다. 고객은 손실에 대한 보상을 요구하고 회사는 표준을 충족하지 않는 제품을 교체할 것을 제안하고 있습니다. 회사는 또한 유사한 문제를 방지하기 위해 수출 포장재를 개선할 계획입니다.\n"
     ]
    },
    {
     "name": "stderr",
     "output_type": "stream",
     "text": [
      " 22%|██▏       | 109/499 [07:31<19:27,  2.99s/it]"
     ]
    },
    {
     "name": "stdout",
     "output_type": "stream",
     "text": [
      "\n",
      "    2번 사람이 은행에서 강도를 목격하고 경찰서에 가서 질문에 답할 것입니다.\n"
     ]
    },
    {
     "name": "stderr",
     "output_type": "stream",
     "text": [
      " 22%|██▏       | 110/499 [07:33<17:19,  2.67s/it]"
     ]
    },
    {
     "name": "stdout",
     "output_type": "stream",
     "text": [
      "Person1과 Person2는 부모님이 데이트를 나가셔서 저녁을 스스로 해결해야 한다는 것에 대해 이야기합니다. Person2는 피자를 주문하는 것을 제안합니다.\n"
     ]
    },
    {
     "name": "stderr",
     "output_type": "stream",
     "text": [
      " 22%|██▏       | 111/499 [07:35<16:30,  2.55s/it]"
     ]
    },
    {
     "name": "stdout",
     "output_type": "stream",
     "text": [
      "Person1은 새해 결심인 건강한 식사와 정크푸드 섭취를 끊는 것을 고수하기로 결심했습니다. Person2는 회의적이지만 Person1은 성공할 자신이 있습니다.\n"
     ]
    },
    {
     "name": "stderr",
     "output_type": "stream",
     "text": [
      " 22%|██▏       | 112/499 [08:21<1:39:08, 15.37s/it]"
     ]
    },
    {
     "name": "stdout",
     "output_type": "stream",
     "text": [
      "\n",
      "\n",
      "\n",
      "\n",
      "\n",
      "\n",
      "\n",
      "\n",
      "\n",
      "\n",
      "\n",
      "\n",
      "\n",
      "\n",
      "\n",
      "\n",
      "\n",
      "\n",
      "\n",
      "\n",
      "\n",
      "\n",
      "\n",
      "\n",
      "\n",
      "\n",
      "\n",
      "\n",
      "\n",
      "\n",
      "\n",
      "\n",
      "\n",
      "\n",
      "\n",
      "\n",
      "\n",
      "\n",
      "\n",
      "\n",
      "\n",
      "\n",
      "\n",
      "\n",
      "\n",
      "\n",
      "\n",
      "\n",
      "\n",
      "\n",
      "\n",
      "\n",
      "\n",
      "\n",
      "\n",
      "\n",
      "\n",
      "\n",
      "\n",
      "\n",
      "\n",
      "\n",
      "\n",
      "\n",
      "\n",
      "\n",
      "\n",
      "\n",
      "\n",
      "\n",
      "\n",
      "\n",
      "\n",
      "\n",
      "\n",
      "\n",
      "\n",
      "\n",
      "\n",
      "\n",
      "\n",
      "\n",
      "\n",
      "\n",
      "\n",
      "\n",
      "\n",
      "\n",
      "\n",
      "\n",
      "\n",
      "\n",
      "\n",
      "\n",
      "\n",
      "\n",
      "\n",
      "\n",
      "\n",
      "\n",
      "\n",
      "\n",
      "\n",
      "\n",
      "\n",
      "\n",
      "\n",
      "\n",
      "\n",
      "\n",
      "\n",
      "\n",
      "\n",
      "\n",
      "\n",
      "\n",
      "\n",
      "\n",
      "\n",
      "\n",
      "\n",
      "\n",
      "\n",
      "\n",
      "\n",
      "\n",
      "\n",
      "\n",
      "\n",
      "\n",
      "\n",
      "\n",
      "\n",
      "\n",
      "\n",
      "\n",
      "\n",
      "\n",
      "\n",
      "\n",
      "\n",
      "\n",
      "\n",
      "\n",
      "\n",
      "\n",
      "\n",
      "\n",
      "\n",
      "\n",
      "\n",
      "\n",
      "\n",
      "\n",
      "\n",
      "\n",
      "\n",
      "\n",
      "\n",
      "\n",
      "\n",
      "\n",
      "\n",
      "\n",
      "\n",
      "\n",
      "\n",
      "\n",
      "\n",
      "\n",
      "\n",
      "\n",
      "\n",
      "\n",
      "\n",
      "\n",
      "\n",
      "\n",
      "\n",
      "\n",
      "\n",
      "\n",
      "\n",
      "\n",
      "\n",
      "\n",
      "\n",
      "\n",
      "\n",
      "\n",
      "\n",
      "\n",
      "\n",
      "\n",
      "\n",
      "\n",
      "\n",
      "\n",
      "\n",
      "\n",
      "\n",
      "\n",
      "\n",
      "\n",
      "\n",
      "\n",
      "\n",
      "\n",
      "\n",
      "\n",
      "\n",
      "\n",
      "\n",
      "\n",
      "\n",
      "\n",
      "\n",
      "\n",
      "\n",
      "\n",
      "\n",
      "\n",
      "\n",
      "\n",
      "\n",
      "\n",
      "\n",
      "\n",
      "\n",
      "\n",
      "\n",
      "\n",
      "\n",
      "\n",
      "\n",
      "\n",
      "\n",
      "\n",
      "\n",
      "\n",
      "\n",
      "\n",
      "\n",
      "\n",
      "\n",
      "\n",
      "\n",
      "\n",
      "\n",
      "\n",
      "\n",
      "\n",
      "\n",
      "\n",
      "\n",
      "\n",
      "\n"
     ]
    },
    {
     "name": "stderr",
     "output_type": "stream",
     "text": [
      " 23%|██▎       | 113/499 [08:25<1:18:19, 12.17s/it]"
     ]
    },
    {
     "name": "stdout",
     "output_type": "stream",
     "text": [
      "Person1이 Person2에게 지금 몇 시냐고 묻고, Person2는 거의 11시 20분이라고 알려줍니다. Person1은 고맙다고 말하고 우산을 잊었다고 언급합니다. Person2는 우산을 함께 쓰자고 제안하고 둘은 함께 Garden Hotel로 걸어갑니다.\n"
     ]
    },
    {
     "name": "stderr",
     "output_type": "stream",
     "text": [
      " 23%|██▎       | 114/499 [08:49<1:40:44, 15.70s/it]"
     ]
    },
    {
     "name": "stdout",
     "output_type": "stream",
     "text": [
      "\n",
      "\n",
      "\n",
      "\n",
      "\n",
      "\n",
      "\n",
      "\n",
      "\n",
      "\n",
      "\n",
      "\n",
      "\n",
      "\n",
      "\n",
      "\n",
      "\n",
      "\n",
      "\n",
      "\n",
      "\n",
      "\n",
      "\n",
      "\n",
      "\n",
      "\n",
      "\n",
      "\n",
      "\n",
      "\n",
      "\n",
      "\n",
      "\n",
      "\n",
      "\n",
      "\n",
      "\n",
      "\n",
      "\n",
      "\n",
      "\n",
      "\n",
      "\n",
      "\n",
      "\n",
      "\n",
      "\n",
      "\n",
      "\n",
      "\n",
      "\n",
      "\n",
      "\n",
      "\n",
      "\n",
      "\n",
      "\n",
      "\n",
      "\n",
      "\n",
      "\n",
      "\n",
      "\n",
      "\n",
      "\n",
      "\n",
      "\n",
      "\n",
      "\n",
      "\n",
      "\n",
      "\n",
      "\n",
      "\n",
      "\n",
      "\n",
      "\n",
      "\n",
      "\n",
      "\n",
      "\n",
      "\n",
      "\n",
      "\n",
      "\n",
      "\n",
      "\n",
      "\n",
      "\n",
      "\n",
      "\n",
      "\n",
      "\n",
      "\n",
      "\n",
      "\n",
      "\n",
      "\n",
      "\n",
      "\n",
      "\n",
      "\n",
      "\n",
      "\n",
      "\n",
      "\n",
      "\n",
      "\n",
      "\n",
      "\n",
      "\n",
      "\n",
      "\n",
      "\n",
      "\n",
      "\n",
      "\n",
      "\n",
      "\n",
      "\n",
      "\n",
      "\n",
      "\n",
      "\n",
      "\n",
      "\n",
      "\n",
      "\n",
      "\n",
      "\n",
      "\n",
      "\n",
      "\n",
      "\n",
      "\n",
      "\n",
      "\n",
      "\n",
      "\n",
      "\n",
      "\n",
      "\n",
      "\n",
      "\n",
      "\n",
      "\n",
      "\n",
      "\n",
      "\n",
      "\n",
      "\n",
      "\n",
      "\n",
      "\n",
      "\n",
      "\n",
      "\n",
      "\n",
      "\n",
      "\n",
      "\n",
      "\n",
      "\n",
      "\n",
      "\n",
      "\n",
      "\n",
      "\n",
      "\n",
      "\n",
      "\n",
      "\n",
      "\n",
      "\n",
      "\n",
      "\n",
      "\n",
      "\n",
      "\n",
      "\n",
      "\n",
      "\n",
      "\n",
      "\n",
      "\n",
      "\n",
      "\n",
      "\n",
      "\n",
      "\n",
      "\n",
      "\n",
      "\n",
      "\n",
      "\n",
      "\n",
      "\n",
      "\n",
      "\n",
      "\n",
      "\n",
      "\n",
      "\n",
      "\n",
      "\n",
      "\n",
      "\n",
      "\n",
      "\n",
      "\n",
      "\n",
      "\n",
      "\n",
      "\n",
      "\n",
      "\n",
      "\n",
      "\n",
      "\n",
      "\n",
      "\n",
      "\n",
      "\n",
      "\n",
      "\n",
      "\n",
      "\n",
      "\n",
      "\n",
      "\n",
      "\n",
      "\n",
      "\n",
      "\n",
      "\n",
      "\n",
      "\n",
      "\n",
      "\n",
      "\n",
      "\n",
      "\n",
      "\n",
      "\n",
      "\n",
      "\n",
      "\n",
      "\n",
      "\n",
      "\n",
      "\n",
      "\n",
      "\n",
      "\n",
      "\n",
      "\n",
      "\n"
     ]
    },
    {
     "name": "stderr",
     "output_type": "stream",
     "text": [
      " 23%|██▎       | 115/499 [09:12<1:54:14, 17.85s/it]"
     ]
    },
    {
     "name": "stdout",
     "output_type": "stream",
     "text": [
      "\n",
      "\n",
      "\n",
      "\n",
      "\n",
      "\n",
      "\n",
      "\n",
      "\n",
      "\n",
      "\n",
      "\n",
      "\n",
      "\n",
      "\n",
      "\n",
      "\n",
      "\n",
      "\n",
      "\n",
      "\n",
      "\n",
      "\n",
      "\n",
      "\n",
      "\n",
      "\n",
      "\n",
      "\n",
      "\n",
      "\n",
      "\n",
      "\n",
      "\n",
      "\n",
      "\n",
      "\n",
      "\n",
      "\n",
      "\n",
      "\n",
      "\n",
      "\n",
      "\n",
      "\n",
      "\n",
      "\n",
      "\n",
      "\n",
      "\n",
      "\n",
      "\n",
      "\n",
      "\n",
      "\n",
      "\n",
      "\n",
      "\n",
      "\n",
      "\n",
      "\n",
      "\n",
      "\n",
      "\n",
      "\n",
      "\n",
      "\n",
      "\n",
      "\n",
      "\n",
      "\n",
      "\n",
      "\n",
      "\n",
      "\n",
      "\n",
      "\n",
      "\n",
      "\n",
      "\n",
      "\n",
      "\n",
      "\n",
      "\n",
      "\n",
      "\n",
      "\n",
      "\n",
      "\n",
      "\n",
      "\n",
      "\n",
      "\n",
      "\n",
      "\n",
      "\n",
      "\n",
      "\n",
      "\n",
      "\n",
      "\n",
      "\n",
      "\n",
      "\n",
      "\n",
      "\n",
      "\n",
      "\n",
      "\n",
      "\n",
      "\n",
      "\n",
      "\n",
      "\n",
      "\n",
      "\n",
      "\n",
      "\n",
      "\n",
      "\n",
      "\n",
      "\n",
      "\n",
      "\n",
      "\n",
      "\n",
      "\n",
      "\n",
      "\n",
      "\n",
      "\n",
      "\n",
      "\n",
      "\n",
      "\n",
      "\n",
      "\n",
      "\n",
      "\n",
      "\n",
      "\n",
      "\n",
      "\n",
      "\n",
      "\n",
      "\n",
      "\n",
      "\n",
      "\n",
      "\n",
      "\n",
      "\n",
      "\n",
      "\n",
      "\n",
      "\n",
      "\n",
      "\n",
      "\n",
      "\n",
      "\n",
      "\n",
      "\n",
      "\n",
      "\n",
      "\n",
      "\n",
      "\n",
      "\n",
      "\n",
      "\n",
      "\n",
      "\n",
      "\n",
      "\n",
      "\n",
      "\n",
      "\n",
      "\n",
      "\n",
      "\n",
      "\n",
      "\n",
      "\n",
      "\n",
      "\n",
      "\n",
      "\n",
      "\n",
      "\n",
      "\n",
      "\n",
      "\n",
      "\n",
      "\n",
      "\n",
      "\n",
      "\n",
      "\n",
      "\n",
      "\n",
      "\n",
      "\n",
      "\n",
      "\n",
      "\n",
      "\n",
      "\n",
      "\n",
      "\n",
      "\n",
      "\n",
      "\n",
      "\n",
      "\n",
      "\n",
      "\n",
      "\n",
      "\n",
      "\n",
      "\n",
      "\n",
      "\n",
      "\n",
      "\n",
      "\n",
      "\n",
      "\n",
      "\n",
      "\n",
      "\n",
      "\n",
      "\n",
      "\n",
      "\n",
      "\n",
      "\n",
      "\n",
      "\n",
      "\n",
      "\n",
      "\n",
      "\n",
      "\n",
      "\n",
      "\n",
      "\n",
      "\n",
      "\n",
      "\n",
      "\n",
      "\n",
      "\n",
      "\n",
      "\n",
      "\n",
      "\n"
     ]
    },
    {
     "name": "stderr",
     "output_type": "stream",
     "text": [
      " 23%|██▎       | 116/499 [09:45<2:22:56, 22.39s/it]"
     ]
    },
    {
     "name": "stdout",
     "output_type": "stream",
     "text": [
      "\n",
      "\n",
      "\n",
      "\n",
      "\n",
      "\n",
      "\n",
      "\n",
      "\n",
      "\n",
      "\n",
      "\n",
      "\n",
      "\n",
      "\n",
      "\n",
      "\n",
      "\n",
      "\n",
      "\n",
      "\n",
      "\n",
      "\n",
      "\n",
      "\n",
      "\n",
      "\n",
      "\n",
      "\n",
      "\n",
      "\n",
      "\n",
      "\n",
      "\n",
      "\n",
      "\n",
      "\n",
      "\n",
      "\n",
      "\n",
      "\n",
      "\n",
      "\n",
      "\n",
      "\n",
      "\n",
      "\n",
      "\n",
      "\n",
      "\n",
      "\n",
      "\n",
      "\n",
      "\n",
      "\n",
      "\n",
      "\n",
      "\n",
      "\n",
      "\n",
      "\n",
      "\n",
      "\n",
      "\n",
      "\n",
      "\n",
      "\n",
      "\n",
      "\n",
      "\n",
      "\n",
      "\n",
      "\n",
      "\n",
      "\n",
      "\n",
      "\n",
      "\n",
      "\n",
      "\n",
      "\n",
      "\n",
      "\n",
      "\n",
      "\n",
      "\n",
      "\n",
      "\n",
      "\n",
      "\n",
      "\n",
      "\n",
      "\n",
      "\n",
      "\n",
      "\n",
      "\n",
      "\n",
      "\n",
      "\n",
      "\n",
      "\n",
      "\n",
      "\n",
      "\n",
      "\n",
      "\n",
      "\n",
      "\n",
      "\n",
      "\n",
      "\n",
      "\n",
      "\n",
      "\n",
      "\n",
      "\n",
      "\n",
      "\n",
      "\n",
      "\n",
      "\n",
      "\n",
      "\n",
      "\n",
      "\n",
      "\n",
      "\n",
      "\n",
      "\n",
      "\n",
      "\n",
      "\n",
      "\n",
      "\n",
      "\n",
      "\n",
      "\n",
      "\n",
      "\n",
      "\n",
      "\n",
      "\n",
      "\n",
      "\n",
      "\n",
      "\n",
      "\n",
      "\n",
      "\n",
      "\n",
      "\n",
      "\n",
      "\n",
      "\n",
      "\n",
      "\n",
      "\n",
      "\n",
      "\n",
      "\n",
      "\n",
      "\n",
      "\n",
      "\n",
      "\n",
      "\n",
      "\n",
      "\n",
      "\n",
      "\n",
      "\n",
      "\n",
      "\n",
      "\n",
      "\n",
      "\n",
      "\n",
      "\n",
      "\n",
      "\n",
      "\n",
      "\n",
      "\n",
      "\n",
      "\n",
      "\n",
      "\n",
      "\n",
      "\n",
      "\n",
      "\n",
      "\n",
      "\n",
      "\n",
      "\n",
      "\n",
      "\n",
      "\n",
      "\n",
      "\n",
      "\n",
      "\n",
      "\n",
      "\n",
      "\n",
      "\n",
      "\n",
      "\n",
      "\n",
      "\n",
      "\n",
      "\n",
      "\n",
      "\n",
      "\n",
      "\n",
      "\n",
      "\n",
      "\n",
      "\n",
      "\n",
      "\n",
      "\n",
      "\n",
      "\n",
      "\n",
      "\n",
      "\n",
      "\n",
      "\n",
      "\n",
      "\n",
      "\n",
      "\n",
      "\n",
      "\n",
      "\n",
      "\n",
      "\n",
      "\n",
      "\n",
      "\n",
      "\n",
      "\n",
      "\n",
      "\n",
      "\n",
      "\n",
      "\n",
      "\n",
      "\n",
      "\n",
      "\n",
      "\n",
      "\n",
      "\n"
     ]
    },
    {
     "name": "stderr",
     "output_type": "stream",
     "text": [
      " 23%|██▎       | 117/499 [09:47<1:43:00, 16.18s/it]"
     ]
    },
    {
     "name": "stdout",
     "output_type": "stream",
     "text": [
      "Person2는 자동차를 세차하고 싶어하고, 외관, 창문, 그리고 내부를 청소하는 표준 자동차 세차 패키지를 선택했습니다.\n"
     ]
    },
    {
     "name": "stderr",
     "output_type": "stream",
     "text": [
      " 24%|██▎       | 118/499 [09:50<1:17:08, 12.15s/it]"
     ]
    },
    {
     "name": "stdout",
     "output_type": "stream",
     "text": [
      "Person2는 아내와 함께 이집트로 휴가를 갈 생각을 하고 있지만, 어떻게 그곳에 갈 수 있는지, 그리고 그들이 떠나 있는 동안 애완동물과 집을 어떻게 돌볼 수 있는지 확실하지 않습니다.\n"
     ]
    },
    {
     "name": "stderr",
     "output_type": "stream",
     "text": [
      " 24%|██▍       | 119/499 [09:57<1:07:44, 10.70s/it]"
     ]
    },
    {
     "name": "stdout",
     "output_type": "stream",
     "text": [
      "Person1은 체육관에서 기계를 사용하는 데 도움을 요청합니다. Person2는 준비 운동의 중요성을 설명하고 Person1에게 무게 기계를 사용하는 방법을 보여줍니다. 그들은 체중 카드와 진행 상황을 추적하는 데 도움이 되는 방법에 대해 논의합니다. Person1은 피곤해하고 7개의 기계를 완료한 후 멈추기로 결정합니다. Person2는 Person1에게 자신의 몸을 듣고 너무 무리하지 말라고 격려합니다.\n"
     ]
    },
    {
     "name": "stderr",
     "output_type": "stream",
     "text": [
      " 24%|██▍       | 120/499 [09:59<50:38,  8.02s/it]  "
     ]
    },
    {
     "name": "stdout",
     "output_type": "stream",
     "text": [
      "#Person1#과 #Person2#는 모두 실업 상태이며 일자리를 찾고 있습니다. 그들은 가능한 전기 기술자 프로그램에 대해 논의합니다.\n"
     ]
    },
    {
     "name": "stderr",
     "output_type": "stream",
     "text": [
      " 24%|██▍       | 121/499 [10:03<43:04,  6.84s/it]"
     ]
    },
    {
     "name": "stdout",
     "output_type": "stream",
     "text": [
      "Person1이 개들이 먹었는지 물어보고 Person2가 먹었다고 확인한다. Person1은 Person2에게 나중에 개들을 목욕시키고 토요일 오전 11시에 있는 수의사 약속을 기억하라고 상기시킨다. Person2는 개들을 돌보기로 동의하고 약속을 기억한다.\n"
     ]
    },
    {
     "name": "stderr",
     "output_type": "stream",
     "text": [
      " 24%|██▍       | 122/499 [10:07<38:16,  6.09s/it]"
     ]
    },
    {
     "name": "stdout",
     "output_type": "stream",
     "text": [
      "Person1이 그들의 집주인에게 빚을 갚기 위해 $200의 대출을 Person2에게 요청합니다. Person2는 전체 금액을 빌려줄 수 없지만 $20을 빌려주겠다고 제안합니다. Person1은 그 날 저녁에 Person2를 저녁 식사 초대합니다.\n"
     ]
    },
    {
     "name": "stderr",
     "output_type": "stream",
     "text": [
      " 25%|██▍       | 123/499 [10:09<30:21,  4.84s/it]"
     ]
    },
    {
     "name": "stdout",
     "output_type": "stream",
     "text": [
      "#Person2# 는 자선단체에서 2개월 동안 일하면서 사랑과 연민, 그리고 평등에 대해 많이 배웠습니다. 그것은 그들의 인생관을 바꾸었습니다.\n"
     ]
    },
    {
     "name": "stderr",
     "output_type": "stream",
     "text": [
      " 25%|██▍       | 124/499 [10:11<24:09,  3.86s/it]"
     ]
    },
    {
     "name": "stdout",
     "output_type": "stream",
     "text": [
      "#Person1#과 #Person2#는 전화나 이메일을 통해 서로 연락할 것입니다. 결과는 약 일주일 후에 제공될 것입니다.\n"
     ]
    },
    {
     "name": "stderr",
     "output_type": "stream",
     "text": [
      " 25%|██▌       | 125/499 [10:16<27:14,  4.37s/it]"
     ]
    },
    {
     "name": "stdout",
     "output_type": "stream",
     "text": [
      "Person1이 중국 술 추천을 요청하고, Person2가 Moutai를 제안하고, Person1이 동의합니다. Person2는 베이징 오리 같은 전형적인 중국 요리를 주문하는 것을 제안하고, Person1이 동의합니다. Person2는 그것이 호텔의 베스트셀링 메뉴라고 확인하고, Person1은 그것을 시도하기로 결정합니다.\n"
     ]
    },
    {
     "name": "stderr",
     "output_type": "stream",
     "text": [
      " 25%|██▌       | 126/499 [10:19<23:53,  3.84s/it]"
     ]
    },
    {
     "name": "stdout",
     "output_type": "stream",
     "text": [
      "\n",
      "Angela와 Dan은 서로 소식을 주고받았습니다. Angela는 다음 주에 친구의 결혼식에 Dan을 초대합니다. Dan은 이미 선물을 샀고 Megan을 초대할 것입니다. 그들은 함께 운전할 것입니다.\n"
     ]
    },
    {
     "name": "stderr",
     "output_type": "stream",
     "text": [
      " 25%|██▌       | 127/499 [10:28<33:23,  5.39s/it]"
     ]
    },
    {
     "name": "stdout",
     "output_type": "stream",
     "text": [
      "Person1과 Person2는 디저트에 대해 이야기하고 있습니다. Person2는 전통적인 그리스 요거트를 시도해 본 적이 없으며 먼저 시도하고 싶어합니다. Person1은 이탈리아의 티라미수를 주문합니다. Person2는 요거트를 시도하고 맛이 없다고 생각하지만 Person1의 티라미수는 좋아합니다. 그들은 모두 남부 지역에서 온 튀긴 바나나를 시도합니다. Person1은 두 개의 튀긴 바나나를 더 가져오겠다고 제안합니다.\n"
     ]
    },
    {
     "name": "stderr",
     "output_type": "stream",
     "text": [
      " 26%|██▌       | 128/499 [10:30<26:39,  4.31s/it]"
     ]
    },
    {
     "name": "stdout",
     "output_type": "stream",
     "text": [
      "스미스는 경제학 학위를 가지고 예일 대학교를 졸업하고 5년 동안 은행에서 일하면서 주당 500달러를 벌었습니다.\n"
     ]
    },
    {
     "name": "stderr",
     "output_type": "stream",
     "text": [
      " 26%|██▌       | 129/499 [10:32<22:40,  3.68s/it]"
     ]
    },
    {
     "name": "stdout",
     "output_type": "stream",
     "text": [
      "Person1은 조카에게 선물을 사주고 싶어하고 Person2는 $29.95에 디지털 바비 인형을 제안합니다. Person1은 구매에 동의합니다.\n"
     ]
    },
    {
     "name": "stderr",
     "output_type": "stream",
     "text": [
      " 26%|██▌       | 130/499 [10:33<18:16,  2.97s/it]"
     ]
    },
    {
     "name": "stdout",
     "output_type": "stream",
     "text": [
      "Person2는 사이즈 41의 조던 신발을 사고 싶어합니다. Person1은 할인된 가격으로 제공합니다.\n"
     ]
    },
    {
     "name": "stderr",
     "output_type": "stream",
     "text": [
      " 26%|██▋       | 131/499 [10:36<17:18,  2.82s/it]"
     ]
    },
    {
     "name": "stdout",
     "output_type": "stream",
     "text": [
      "Person1은 길을 잃고 과학 박물관으로 가는 길을 Person2에게 묻습니다. Person2는 Person1에게 티켓을 사는 것을 돕고 박물관으로 가는 길을 알려줍니다.\n"
     ]
    },
    {
     "name": "stderr",
     "output_type": "stream",
     "text": [
      " 26%|██▋       | 132/499 [10:39<17:22,  2.84s/it]"
     ]
    },
    {
     "name": "stdout",
     "output_type": "stream",
     "text": [
      "시몬은 은퇴 생활을 즐기고 있으며 가족과 더 많은 시간을 보내고 여행도 하고 있습니다. 그는 또한 \"단계적 은퇴\" 프로그램에 참여하고 있으며, 이는 그가 임시로 전 직장에서 프로젝트를 수행하는 것을 의미합니다.\n"
     ]
    },
    {
     "name": "stderr",
     "output_type": "stream",
     "text": [
      " 27%|██▋       | 133/499 [10:48<30:16,  4.96s/it]"
     ]
    },
    {
     "name": "stdout",
     "output_type": "stream",
     "text": [
      "Person1은 파티에서 누군가와 춤을 추라고 Person2를 격려하지만, Person2는 자리에 앉아 파티를 지켜보는 것에 만족합니다. Person1은 Person2가 더 모험을 하고 누군가를 만나보라고 제안하지만, Person2는 파티에 있는 여성들에게 관심이 없습니다. Person1은 Person2가 더 개방적인 마음을 가지고 현재 여자친구와 다른 사람을 만나보라고 제안하지만, Person2는 자신의 방식을 바꾸고 싶지 않아 TV를 보고 개를 돌보기 위해 떠납니다.\n"
     ]
    },
    {
     "name": "stderr",
     "output_type": "stream",
     "text": [
      " 27%|██▋       | 134/499 [10:50<23:59,  3.94s/it]"
     ]
    },
    {
     "name": "stdout",
     "output_type": "stream",
     "text": [
      "Person1과 Person2는 최근의 폭풍과 그 주변의 영향에 대해 논의합니다. 그들은 또한 다가오는 봄철에 대해 이야기합니다.\n"
     ]
    },
    {
     "name": "stderr",
     "output_type": "stream",
     "text": [
      " 27%|██▋       | 135/499 [10:54<23:40,  3.90s/it]"
     ]
    },
    {
     "name": "stdout",
     "output_type": "stream",
     "text": [
      "#Person1#은 #Person2#와 시간을 보내고 싶어하지만 #Person2#는 TV를 보는 것에 관심이 없습니다. #Person2#는 배우고 밖에서 하는 것을 선호합니다. #Person1#은 함께 음악을 듣는 것과 같은 것을 하는 것을 제안합니다.\n"
     ]
    },
    {
     "name": "stderr",
     "output_type": "stream",
     "text": [
      " 27%|██▋       | 136/499 [11:01<29:36,  4.89s/it]"
     ]
    },
    {
     "name": "stdout",
     "output_type": "stream",
     "text": [
      "벤은 첫날 학교에 대해 걱정하지만 친구가 빨리 친구를 사귈 것이라고 안심시켜줍니다. 첫 수업은 오전 8시에 시작되며, 숙제를 제출하는 데 10분, 아침 공부를 하는 데 20분이 소요됩니다. 수업은 45분 동안 진행되며, 10분 또는 15분 휴식 시간이 있고, 점심은 오후 12시에 있습니다.\n"
     ]
    },
    {
     "name": "stderr",
     "output_type": "stream",
     "text": [
      " 27%|██▋       | 137/499 [11:03<24:09,  4.00s/it]"
     ]
    },
    {
     "name": "stdout",
     "output_type": "stream",
     "text": [
      "아담의 무릎은 낫고 있지만, 다음 3일 동안은 쉬어야 합니다. 아담과 Person1은 연습 후에 미시간 경기 영상을 볼 것입니다.\n"
     ]
    },
    {
     "name": "stderr",
     "output_type": "stream",
     "text": [
      " 28%|██▊       | 138/499 [11:04<19:13,  3.20s/it]"
     ]
    },
    {
     "name": "stdout",
     "output_type": "stream",
     "text": [
      "Person1이 Person2에게 프린터에 대한 도움을 요청하고, Person2는 그들을 위해 무언가를 인쇄하기로 동의합니다.\n"
     ]
    },
    {
     "name": "stderr",
     "output_type": "stream",
     "text": [
      " 28%|██▊       | 139/499 [11:06<17:01,  2.84s/it]"
     ]
    },
    {
     "name": "stdout",
     "output_type": "stream",
     "text": [
      "Person1이 Person2에게 커튼을 걸도록 도와달라고 요청하고, Person2는 Person1이 사다리를 설치하는 동안 사다리를 잡아주기로 동의합니다.\n"
     ]
    },
    {
     "name": "stderr",
     "output_type": "stream",
     "text": [
      " 28%|██▊       | 140/499 [11:08<15:42,  2.62s/it]"
     ]
    },
    {
     "name": "stdout",
     "output_type": "stream",
     "text": [
      "#Person1#은 #Person2#에게 주말 캠핑 여행을 위해 달력을 확인하도록 요청합니다. #Person2#는 다음 주말을 최고의 옵션으로 제안합니다.\n"
     ]
    },
    {
     "name": "stderr",
     "output_type": "stream",
     "text": [
      " 28%|██▊       | 141/499 [11:16<25:14,  4.23s/it]"
     ]
    },
    {
     "name": "stdout",
     "output_type": "stream",
     "text": [
      "Person1은 Person2가 화가 난 것에 대해 용서하고 서로를 보고 기뻐합니다. Person2는 산에서 큰 불을 끄러 불려갔고 매우 힘든 일이었다고 설명합니다. Person1은 Person2에게 임신했을 수도 있다고 말하고 Person2는 아버지가 되는 것에 대해 흥분합니다. Person2는 의사가 임신을 확인했을 때 충격을 받고 아기가 자신의 것이 아니라는 것을 깨닫습니다. Person1은 부인하고 있습니다.\n"
     ]
    },
    {
     "name": "stderr",
     "output_type": "stream",
     "text": [
      " 28%|██▊       | 142/499 [11:19<22:31,  3.79s/it]"
     ]
    },
    {
     "name": "stdout",
     "output_type": "stream",
     "text": [
      "Person2는 딸의 대학 결정과 그들의 다른 의견에 대해 걱정하고 있지만, Person1은 십대들이 결정을 내리는 데 어려움을 겪는 것이 정상이라고 안심시키고 딸이 자신의 선택을 하도록 격려합니다.\n"
     ]
    },
    {
     "name": "stderr",
     "output_type": "stream",
     "text": [
      " 29%|██▊       | 143/499 [11:26<28:16,  4.76s/it]"
     ]
    },
    {
     "name": "stdout",
     "output_type": "stream",
     "text": [
      "Person1은 직장을 잃을 것에 대해 걱정하고 있으며, 그렇게 되면 재정적으로 어떤 영향을 미칠지 걱정하고 있습니다. Person2는 그들이 직장을 잃지 않을 것이라고 안심시키고, 만약 직장을 잃게 된다면 그들의 저축과 생활 상황에 대해 생각해 보라고 제안합니다. Person1은 감사를 표하고 직장을 잃는 것이 더 절약하는 데 대한 경각심을 줄 수 있다는 것을 인정합니다.\n"
     ]
    },
    {
     "name": "stderr",
     "output_type": "stream",
     "text": [
      " 29%|██▉       | 144/499 [11:30<26:15,  4.44s/it]"
     ]
    },
    {
     "name": "stdout",
     "output_type": "stream",
     "text": [
      "에든버러 대학교의 Person2의 친구가 방문하고 Person2의 집에서 머물 예정입니다. 그들은 다중 모달 텍스트 생성, 비디오 요약 생성 및 담화 모델링에 대한 강의를 할 예정입니다. Person1은 강의에 참석하는 데 관심이 있습니다.\n"
     ]
    },
    {
     "name": "stderr",
     "output_type": "stream",
     "text": [
      " 29%|██▉       | 145/499 [11:33<23:08,  3.92s/it]"
     ]
    },
    {
     "name": "stdout",
     "output_type": "stream",
     "text": [
      "Person2는 몸이 좋지 않아 John의 집에 가는 대신 집에 머물기로 했습니다. Person1은 수프를 만들어 주겠다고 제안하지만 Person2는 배가 고프지 않고 일찍 잠자리에 들 계획이라고 거절합니다.\n"
     ]
    },
    {
     "name": "stderr",
     "output_type": "stream",
     "text": [
      " 29%|██▉       | 146/499 [11:35<20:23,  3.47s/it]"
     ]
    },
    {
     "name": "stdout",
     "output_type": "stream",
     "text": [
      "Person2는 7월 20일부터 3박 동안 York Hotel의 더블룸을 예약하고 있습니다. 요금은 아침 식사가 포함된 1박당 $130입니다.\n"
     ]
    },
    {
     "name": "stderr",
     "output_type": "stream",
     "text": [
      " 29%|██▉       | 147/499 [11:41<25:28,  4.34s/it]"
     ]
    },
    {
     "name": "stdout",
     "output_type": "stream",
     "text": [
      "#Person1#은 West Derby에서 임대할 곳을 찾고 있지만, 저렴한 아파트만 원합니다. #Person2#는 다른 사람들과 함께 사용할 수 있는 임대 주택이 있을 수 있다고 제안합니다. #Person1#은 인근 사무실에서 일하는 #Person2#의 친구 존 고드프리의 전화번호를 요청하고 토요일에 그에게 전화할 계획입니다.\n"
     ]
    },
    {
     "name": "stderr",
     "output_type": "stream",
     "text": [
      " 30%|██▉       | 148/499 [11:43<19:53,  3.40s/it]"
     ]
    },
    {
     "name": "stdout",
     "output_type": "stream",
     "text": [
      "#Person1#과 #Person2#는 현재 상황에 대한 책임을 서로에게 전가하며 다투고 있습니다.\n"
     ]
    },
    {
     "name": "stderr",
     "output_type": "stream",
     "text": [
      " 30%|██▉       | 149/499 [11:48<23:54,  4.10s/it]"
     ]
    },
    {
     "name": "stdout",
     "output_type": "stream",
     "text": [
      "고객은 공장의 인력 부족으로 인해 100대의 컴퓨터 주문이 2일 지연될 것이라는 사실을 알게 됩니다. 고객은 상황에 대해 통보받을 스티브의 전화번호를 받게 됩니다. 고객은 지연에 대해 사과하지만 컴퓨터가 저렴한 가격에 구매되고 있다는 점을 지적합니다. 고객은 상황을 이해해 주셔서 감사합니다.\n"
     ]
    },
    {
     "name": "stderr",
     "output_type": "stream",
     "text": [
      " 30%|███       | 150/499 [11:56<29:36,  5.09s/it]"
     ]
    },
    {
     "name": "stdout",
     "output_type": "stream",
     "text": [
      "워싱턴 포스트는 1877년 12월에 스틸슨 허친스에 의해 설립되었으며, 뉴욕 타임즈는 1851년 9월에 헨리 레이몬드와 조지 존스에 의해 설립되었고, 로스앤젤레스 타임즈는 1881년 12월에 네이선 콜 주니어와 토마스 가디니어에 의해 설립되었습니다.\n"
     ]
    },
    {
     "name": "stderr",
     "output_type": "stream",
     "text": [
      " 30%|███       | 151/499 [11:57<23:22,  4.03s/it]"
     ]
    },
    {
     "name": "stdout",
     "output_type": "stream",
     "text": [
      "Person2의 컴퓨터에 바이러스가 있어서 이메일을 보낼 수 없습니다. Person1은 파일을 압축하여 보내라고 제안합니다.\n"
     ]
    },
    {
     "name": "stderr",
     "output_type": "stream",
     "text": [
      " 30%|███       | 152/499 [11:59<18:40,  3.23s/it]"
     ]
    },
    {
     "name": "stdout",
     "output_type": "stream",
     "text": [
      "#Person1#과 #Person2#는 함께 멋진 주말을 보냈고, 창사에서 다시 만나기로 했습니다.\n"
     ]
    },
    {
     "name": "stderr",
     "output_type": "stream",
     "text": [
      " 31%|███       | 153/499 [12:00<15:25,  2.67s/it]"
     ]
    },
    {
     "name": "stdout",
     "output_type": "stream",
     "text": [
      "Person1은 배고프고 중국 음식을 먹고 싶어합니다. Person2는 Panda Express를 좋은 식사 장소로 제안합니다.\n"
     ]
    },
    {
     "name": "stderr",
     "output_type": "stream",
     "text": [
      " 31%|███       | 154/499 [12:06<21:54,  3.81s/it]"
     ]
    },
    {
     "name": "stdout",
     "output_type": "stream",
     "text": [
      "메리는 톰에게 다른 후보자가 더 많은 경험이 있어서 영업직에 다른 사람을 고용하기로 결정했다고 알린다. 톰은 배우는 속도가 빠르고 추가 근무도 마다하지 않고 일에서 배우기를 원한다고 말한다. 메리는 톰이 그렇게 할 것이라고 믿지만, 다른 후보자가 더 많은 경험이 있어서 다른 사람을 고용하기로 결정했다고 말한다.\n"
     ]
    },
    {
     "name": "stderr",
     "output_type": "stream",
     "text": [
      " 31%|███       | 155/499 [12:08<18:40,  3.26s/it]"
     ]
    },
    {
     "name": "stdout",
     "output_type": "stream",
     "text": [
      "Person1이 누군가를 부르며 그들이 누구인지 묻고 있습니다. Person2는 응답하지 않고 있습니다. Person1은 다시 전화하면 경찰에 신고하겠다고 위협합니다.\n"
     ]
    },
    {
     "name": "stderr",
     "output_type": "stream",
     "text": [
      " 31%|███▏      | 156/499 [12:13<20:07,  3.52s/it]"
     ]
    },
    {
     "name": "stdout",
     "output_type": "stream",
     "text": [
      "Person2는 음악 교사가 되고 싶어하며 음악 및 예술 학위를 가지고 있습니다. 그들은 댄스 음악과 클래식 음악을 포함한 다양한 유형의 음악을 듣는 것을 즐깁니다. Person2는 온라인에서 클래식 음악을 검색하고 다양한 작품을 시도하여 마음에 드는 것을 찾는 것을 추천합니다.\n"
     ]
    },
    {
     "name": "stderr",
     "output_type": "stream",
     "text": [
      " 31%|███▏      | 157/499 [12:41<1:02:45, 11.01s/it]"
     ]
    },
    {
     "name": "stdout",
     "output_type": "stream",
     "text": [
      "\n",
      "\n",
      "\n",
      "\n",
      "\n",
      "\n",
      "\n",
      "\n",
      "\n",
      "\n",
      "\n",
      "\n",
      "\n",
      "\n",
      "\n",
      "\n",
      "\n",
      "\n",
      "\n",
      "\n",
      "\n",
      "\n",
      "\n",
      "\n",
      "\n",
      "\n",
      "\n",
      "\n",
      "\n",
      "\n",
      "\n",
      "\n",
      "\n",
      "\n",
      "\n",
      "\n",
      "\n",
      "\n",
      "\n",
      "\n",
      "\n",
      "\n",
      "\n",
      "\n",
      "\n",
      "\n",
      "\n",
      "\n",
      "\n",
      "\n",
      "\n",
      "\n",
      "\n",
      "\n",
      "\n",
      "\n",
      "\n",
      "\n",
      "\n",
      "\n",
      "\n",
      "\n",
      "\n",
      "\n",
      "\n",
      "\n",
      "\n",
      "\n",
      "\n",
      "\n",
      "\n",
      "\n",
      "\n",
      "\n",
      "\n",
      "\n",
      "\n",
      "\n",
      "\n",
      "\n",
      "\n",
      "\n",
      "\n",
      "\n",
      "\n",
      "\n",
      "\n",
      "\n",
      "\n",
      "\n",
      "\n",
      "\n",
      "\n",
      "\n",
      "\n",
      "\n",
      "\n",
      "\n",
      "\n",
      "\n",
      "\n",
      "\n",
      "\n",
      "\n",
      "\n",
      "\n",
      "\n",
      "\n",
      "\n",
      "\n",
      "\n",
      "\n",
      "\n",
      "\n",
      "\n",
      "\n",
      "\n",
      "\n",
      "\n",
      "\n",
      "\n",
      "\n",
      "\n",
      "\n",
      "\n",
      "\n",
      "\n",
      "\n",
      "\n",
      "\n",
      "\n",
      "\n",
      "\n",
      "\n",
      "\n",
      "\n",
      "\n",
      "\n",
      "\n",
      "\n",
      "\n",
      "\n",
      "\n",
      "\n",
      "\n",
      "\n",
      "\n",
      "\n",
      "\n",
      "\n",
      "\n",
      "\n",
      "\n",
      "\n",
      "\n",
      "\n",
      "\n",
      "\n",
      "\n",
      "\n",
      "\n",
      "\n",
      "\n",
      "\n",
      "\n",
      "\n",
      "\n",
      "\n",
      "\n",
      "\n",
      "\n",
      "\n",
      "\n",
      "\n",
      "\n",
      "\n",
      "\n",
      "\n",
      "\n",
      "\n",
      "\n",
      "\n",
      "\n",
      "\n",
      "\n",
      "\n",
      "\n",
      "\n",
      "\n",
      "\n",
      "\n",
      "\n",
      "\n",
      "\n",
      "\n",
      "\n",
      "\n",
      "\n",
      "\n",
      "\n",
      "\n",
      "\n",
      "\n",
      "\n",
      "\n",
      "\n",
      "\n",
      "\n",
      "\n",
      "\n",
      "\n",
      "\n",
      "\n",
      "\n",
      "\n",
      "\n",
      "\n",
      "\n",
      "\n",
      "\n",
      "\n",
      "\n",
      "\n",
      "\n",
      "\n",
      "\n",
      "\n",
      "\n",
      "\n",
      "\n",
      "\n",
      "\n",
      "\n",
      "\n",
      "\n",
      "\n",
      "\n",
      "\n",
      "\n",
      "\n",
      "\n",
      "\n",
      "\n",
      "\n",
      "\n",
      "\n",
      "\n",
      "\n",
      "\n",
      "\n",
      "\n",
      "\n",
      "\n",
      "\n",
      "\n",
      "\n",
      "\n"
     ]
    },
    {
     "name": "stderr",
     "output_type": "stream",
     "text": [
      " 32%|███▏      | 158/499 [12:48<55:16,  9.73s/it]  "
     ]
    },
    {
     "name": "stdout",
     "output_type": "stream",
     "text": [
      "미렐라는 실리콘밸리에서 열린 컨퍼런스에서 돌아온 이후로 출근할 때 청바지와 스웨트셔츠를 입고 있습니다. 그녀는 서부 해안 스타일, 즉 더 편안하고 캐주얼한 스타일에 영향을 받을 수 있습니다. 미렐라는 새로운 캐주얼한 스타일이 받아들여지지 않는다는 것을 전달하기 위해 관리팀으로부터 흰색 드레스 4벌을 선물로 받았습니다.\n"
     ]
    },
    {
     "name": "stderr",
     "output_type": "stream",
     "text": [
      " 32%|███▏      | 159/499 [12:50<41:40,  7.36s/it]"
     ]
    },
    {
     "name": "stdout",
     "output_type": "stream",
     "text": [
      "Person2는 수년간의 노력 끝에 자신의 법률 사무소를 시작하며 Person1에게 도움을 요청합니다. Person1은 그들에게 성공과 행운을 기원합니다.\n"
     ]
    },
    {
     "name": "stderr",
     "output_type": "stream",
     "text": [
      " 32%|███▏      | 160/499 [12:51<30:42,  5.43s/it]"
     ]
    },
    {
     "name": "stdout",
     "output_type": "stream",
     "text": [
      "Peter는 밤새 음악을 들으며 온라인에 있었습니다. 그는 피곤하고 쉬고 싶어합니다.\n"
     ]
    },
    {
     "name": "stderr",
     "output_type": "stream",
     "text": [
      " 32%|███▏      | 161/499 [13:14<1:01:13, 10.87s/it]"
     ]
    },
    {
     "name": "stdout",
     "output_type": "stream",
     "text": [
      "배와 보트는 더 이상 교통수단으로 중요하지 않다.\n",
      "\n",
      "\n",
      "\n",
      "\n",
      "\n",
      "\n",
      "\n",
      "\n",
      "\n",
      "\n",
      "\n",
      "\n",
      "\n",
      "\n",
      "\n",
      "\n",
      "\n",
      "\n",
      "\n",
      "\n",
      "\n",
      "\n",
      "\n",
      "\n",
      "\n",
      "\n",
      "\n",
      "\n",
      "\n",
      "\n",
      "\n",
      "\n",
      "\n",
      "\n",
      "\n",
      "\n",
      "\n",
      "\n",
      "\n",
      "\n",
      "\n",
      "\n",
      "\n",
      "\n",
      "\n",
      "\n",
      "\n",
      "\n",
      "\n",
      "\n",
      "\n",
      "\n",
      "\n",
      "\n",
      "\n",
      "\n",
      "\n",
      "\n",
      "\n",
      "\n",
      "\n",
      "\n",
      "\n",
      "\n",
      "\n",
      "\n",
      "\n",
      "\n",
      "\n",
      "\n",
      "\n",
      "\n",
      "\n",
      "\n",
      "\n",
      "\n",
      "\n",
      "\n",
      "\n",
      "\n",
      "\n",
      "\n",
      "\n",
      "\n",
      "\n",
      "\n",
      "\n",
      "\n",
      "\n",
      "\n",
      "\n",
      "\n",
      "\n",
      "\n",
      "\n",
      "\n",
      "\n",
      "\n",
      "\n",
      "\n",
      "\n",
      "\n",
      "\n",
      "\n",
      "\n",
      "\n",
      "\n",
      "\n",
      "\n",
      "\n",
      "\n",
      "\n",
      "\n",
      "\n",
      "\n",
      "\n",
      "\n",
      "\n",
      "\n",
      "\n",
      "\n",
      "\n",
      "\n",
      "\n",
      "\n",
      "\n",
      "\n",
      "\n",
      "\n",
      "\n",
      "\n",
      "\n",
      "\n",
      "\n",
      "\n",
      "\n",
      "\n",
      "\n",
      "\n",
      "\n",
      "\n",
      "\n",
      "\n",
      "\n",
      "\n",
      "\n",
      "\n",
      "\n",
      "\n",
      "\n",
      "\n",
      "\n",
      "\n",
      "\n",
      "\n",
      "\n",
      "\n",
      "\n",
      "\n",
      "\n",
      "\n",
      "\n",
      "\n",
      "\n",
      "\n",
      "\n",
      "\n",
      "\n",
      "\n",
      "\n",
      "\n",
      "\n",
      "\n",
      "\n",
      "\n",
      "\n",
      "\n",
      "\n",
      "\n",
      "\n",
      "\n",
      "\n",
      "\n",
      "\n",
      "\n",
      "\n",
      "\n",
      "\n",
      "\n",
      "\n",
      "\n",
      "\n",
      "\n",
      "\n",
      "\n",
      "\n",
      "\n",
      "\n",
      "\n",
      "\n",
      "\n",
      "\n",
      "\n",
      "\n",
      "\n",
      "\n",
      "\n",
      "\n",
      "\n",
      "\n",
      "\n",
      "\n",
      "\n",
      "\n",
      "\n",
      "\n",
      "\n",
      "\n",
      "\n",
      "\n",
      "\n",
      "\n",
      "\n",
      "\n",
      "\n",
      "\n",
      "\n",
      "\n",
      "\n",
      "\n",
      "\n",
      "\n",
      "\n",
      "\n",
      "\n",
      "\n",
      "\n",
      "\n",
      "\n",
      "\n",
      "\n",
      "\n"
     ]
    },
    {
     "name": "stderr",
     "output_type": "stream",
     "text": [
      " 32%|███▏      | 162/499 [13:16<45:56,  8.18s/it]  "
     ]
    },
    {
     "name": "stdout",
     "output_type": "stream",
     "text": [
      "Fanny는 나쁜 꿈을 꾸고 무서워서 일어났습니다. 그녀의 엄마는 그녀에게 쿠키와 우유를 가져왔습니다. 그녀는 대학에 가는 것에 대해 걱정하고 있습니다.\n"
     ]
    },
    {
     "name": "stderr",
     "output_type": "stream",
     "text": [
      " 33%|███▎      | 163/499 [13:17<34:06,  6.09s/it]"
     ]
    },
    {
     "name": "stdout",
     "output_type": "stream",
     "text": [
      "Person1과 Person2는 함께 밴드를 시작하기로 하고 바닐라 아이스 노래를 연주하기로 계획합니다.\n"
     ]
    },
    {
     "name": "stderr",
     "output_type": "stream",
     "text": [
      " 33%|███▎      | 164/499 [13:19<26:39,  4.78s/it]"
     ]
    },
    {
     "name": "stdout",
     "output_type": "stream",
     "text": [
      "Person1과 Person2는 뉴올리언스 여행에 즐거워하고 있습니다. 그들은 쇼를 위해 Sanger Theater에 가기로 결정합니다.\n"
     ]
    },
    {
     "name": "stderr",
     "output_type": "stream",
     "text": [
      " 33%|███▎      | 165/499 [13:32<41:00,  7.37s/it]"
     ]
    },
    {
     "name": "stdout",
     "output_type": "stream",
     "text": [
      "Person1은 구매에 만족하고 신용카드로 결제합니다.\n",
      "\n",
      "Step 1: Identify the key words and phrases in the sentence.\n",
      "- Person1\n",
      "- satisfied\n",
      "- purchase\n",
      "- pays\n",
      "- credit card\n",
      "\n",
      "Step 2: Translate each key word or phrase into Korean.\n",
      "- Person1: Person1 (since it's a proper noun)\n",
      "- satisfied: 만족하다\n",
      "- purchase: 구매\n",
      "- pays: 결제\n",
      "- credit card: 신용카드로\n",
      "\n",
      "Step 3: Rearrange the translated words and phrases to form a grammatically correct sentence in Korean.\n",
      "- Person1은 구매에 만족하고 신용카드로 결제합니다.\n",
      "\n",
      "Step 4: Check the translation for accuracy and clarity.\n",
      "- The translated sentence accurately conveys the meaning of the original sentence and is clear and understandable in Korean.\n"
     ]
    },
    {
     "name": "stderr",
     "output_type": "stream",
     "text": [
      " 33%|███▎      | 166/499 [13:33<30:22,  5.47s/it]"
     ]
    },
    {
     "name": "stdout",
     "output_type": "stream",
     "text": [
      "Blake씨는 Foster씨에게 내일 오후에 교육 매뉴얼을 가져다줄 것이라고 전하라고 합니다.\n"
     ]
    },
    {
     "name": "stderr",
     "output_type": "stream",
     "text": [
      " 33%|███▎      | 167/499 [13:37<27:23,  4.95s/it]"
     ]
    },
    {
     "name": "stdout",
     "output_type": "stream",
     "text": [
      "Person2는 형제의 40번째 생일을 축하하기 위해 Salt Lake City로 도로 여행을 계획하고 있습니다. 그들은 호텔에서 머물며 여행 중 현지 음식을 즐길 것입니다. Person1은 그들을 위해 흥분하고 있으며, 그것이 훌륭한 휴가가 될 것이라고 생각합니다.\n"
     ]
    },
    {
     "name": "stderr",
     "output_type": "stream",
     "text": [
      " 34%|███▎      | 168/499 [13:40<24:01,  4.35s/it]"
     ]
    },
    {
     "name": "stdout",
     "output_type": "stream",
     "text": [
      "Person1은 Pamela가 도착하기를 기다리고 있으며, Person2에게 비행기를 놓치지 말라고 상기시킵니다. Person1은 그들이 떠나 있는 동안 Pamela를 돌봐 달라고 Person2에게 요청하고 그들의 우정에 대한 감사를 표현합니다.\n"
     ]
    },
    {
     "name": "stderr",
     "output_type": "stream",
     "text": [
      " 34%|███▍      | 169/499 [13:42<19:29,  3.54s/it]"
     ]
    },
    {
     "name": "stdout",
     "output_type": "stream",
     "text": [
      "Person1이 도시에서 가장 번화한 거리로 가는 길을 Person2에게 물어보고 Person2는 12번 버스를 타라고 제안합니다.\n"
     ]
    },
    {
     "name": "stderr",
     "output_type": "stream",
     "text": [
      " 34%|███▍      | 170/499 [13:47<22:12,  4.05s/it]"
     ]
    },
    {
     "name": "stdout",
     "output_type": "stream",
     "text": [
      "Person1과 Person2는 이슬람교의 영적 중심지인 메카로 순례하는 무슬림들에 관한 프로그램을 보고 있습니다. 그들은 순례의 중요성과 그와 관련된 잠재적 위험에 대해 논의합니다. 그들은 또한 캔터베리와 루르드의 다른 종교적 순례지들에 대해서도 언급합니다.\n"
     ]
    },
    {
     "name": "stderr",
     "output_type": "stream",
     "text": [
      " 34%|███▍      | 171/499 [14:12<56:06, 10.26s/it]"
     ]
    },
    {
     "name": "stdout",
     "output_type": "stream",
     "text": [
      "\n",
      "    1. 먼저, 문장을 분석하여 주요 단어와 구를 식별합니다.\n",
      "    2. 주요 단어와 구를 한국어에 해당하는 단어로 번역합니다.\n",
      "    3. 문장을 문법적으로 올바른 한국어 문장으로 구성합니다.\n",
      "\n",
      "문장 분석:\n",
      "- Person1: 1인칭 대명사\n",
      "- asks for: 요청하다\n",
      "- directions: 방향\n",
      "- to: ~으로\n",
      "- the central department store: 중앙 백화점\n",
      "- and: 그리고\n",
      "- the national bank: 국가 은행\n",
      "- Person2: 2인칭 대명사\n",
      "- provides: 제공하다\n",
      "- the information: 정보\n",
      "\n",
      "번역:\n",
      "1. 주요 단어와 구를 한국어에 해당하는 단어로 번역합니다.\n",
      "- Person1: 1인칭 대명사\n",
      "- asks for: 요청하다\n",
      "- directions: 방향\n",
      "- to: ~으로\n",
      "- the central department store: 중앙 백화점\n",
      "- and: 그리고\n",
      "- the national bank: 국가 은행\n",
      "- Person2: 2인칭 대명사\n",
      "- provides: 제공하다\n",
      "- the information: 정보\n",
      "\n",
      "2. 문장을 문법적으로 올바른 한국어 문장으로 구성합니다.\n",
      "\"1인칭 대명\n"
     ]
    },
    {
     "name": "stderr",
     "output_type": "stream",
     "text": [
      " 34%|███▍      | 172/499 [14:17<47:40,  8.75s/it]"
     ]
    },
    {
     "name": "stdout",
     "output_type": "stream",
     "text": [
      "Person1과 Person2는 다음 주 런던 여행에 대한 교통수단을 논의하고 있습니다. Person1은 기차를 선호하지만 Person2는 운전하기를 원합니다. 그들은 비용과 편리함을 포함한 각 옵션의 장단점을 논의합니다. Person2는 버스를 타는 것을 제안하지만, 결국 그들은 기차를 타기로 결정합니다.\n"
     ]
    },
    {
     "name": "stderr",
     "output_type": "stream",
     "text": [
      " 35%|███▍      | 173/499 [14:23<43:15,  7.96s/it]"
     ]
    },
    {
     "name": "stdout",
     "output_type": "stream",
     "text": [
      "Person1과 Person2는 그들의 점심 경험에 대해 토론합니다. Person2는 패스트푸드 레스토랑에서 나쁜 경험을 한 반면, Person1은 집에서 도시락을 가져왔습니다. 그들은 패스트푸드가 건강에 좋지 않다는 데 동의하고, 미국 패스트푸드 체인의 인기에 대해 토론합니다. Person1은 대부분의 미국인들이 패스트푸드 레스토랑을 피한다고 언급합니다.\n"
     ]
    },
    {
     "name": "stderr",
     "output_type": "stream",
     "text": [
      " 35%|███▍      | 174/499 [14:24<31:58,  5.90s/it]"
     ]
    },
    {
     "name": "stdout",
     "output_type": "stream",
     "text": [
      "\n",
      "Person2는 레모네이드, 바베큐 윙, 그리고 베이비 백 리브를 주문했습니다.\n"
     ]
    },
    {
     "name": "stderr",
     "output_type": "stream",
     "text": [
      " 35%|███▌      | 175/499 [14:27<26:14,  4.86s/it]"
     ]
    },
    {
     "name": "stdout",
     "output_type": "stream",
     "text": [
      "\n",
      "Person2는 모든 재료가 들어간 더블 치즈버거, 큰 컬리 프라이, 그리고 중간 사이즈의 펩시를 주문했습니다. 총 비용은 $5.48이었습니다.\n"
     ]
    },
    {
     "name": "stderr",
     "output_type": "stream",
     "text": [
      " 35%|███▌      | 176/499 [14:31<25:53,  4.81s/it]"
     ]
    },
    {
     "name": "stdout",
     "output_type": "stream",
     "text": [
      "Person1은 머핀을 만들었고 Person2는 스크램블드 에그를 요청했습니다. Person1은 부드러운 계란을 싫어하고 Person2의 아버지는 매일 스크램블드 에그를 먹었습니다. Person1은 스크램블드 에그 대신 프라이드 에그를 만들었습니다.\n"
     ]
    },
    {
     "name": "stderr",
     "output_type": "stream",
     "text": [
      " 35%|███▌      | 177/499 [14:32<19:59,  3.73s/it]"
     ]
    },
    {
     "name": "stdout",
     "output_type": "stream",
     "text": [
      "해당 인물은 11번가, 파크 스트리트에 위치한 그랜드 호텔로 손님을 태우고 있습니다.\n"
     ]
    },
    {
     "name": "stderr",
     "output_type": "stream",
     "text": [
      " 36%|███▌      | 178/499 [14:38<23:04,  4.31s/it]"
     ]
    },
    {
     "name": "stdout",
     "output_type": "stream",
     "text": [
      "Person1이 Person2에게 사진을 찍을 수 있는지 물어보고, Person2는 왜 그런지 묻습니다. Person1은 미국 경찰이 어떻게 생겼는지 아이들에게 보여주고 싶다고 설명합니다. Person2는 동의하지만 너무 오래 걸리지 않기를 바랍니다. Person1은 오래 걸리지 않을 것이라고 확신시키고 움직이지 말라고 요청합니다.\n"
     ]
    },
    {
     "name": "stderr",
     "output_type": "stream",
     "text": [
      " 36%|███▌      | 179/499 [14:40<18:23,  3.45s/it]"
     ]
    },
    {
     "name": "stdout",
     "output_type": "stream",
     "text": [
      "그 사람은 다음날 방을 찾고 있지만 호텔은 만실입니다. 호텔 직원은 세 블록 떨어진 선셋 호텔을 추천합니다.\n"
     ]
    },
    {
     "name": "stderr",
     "output_type": "stream",
     "text": [
      " 36%|███▌      | 180/499 [14:45<21:41,  4.08s/it]"
     ]
    },
    {
     "name": "stdout",
     "output_type": "stream",
     "text": [
      "Person2는 2주 전에 미국 학생 비자를 신청했고 다음 주에 인터뷰가 있습니다. 그들은 재정 및 학업 문서를 제출해야 했습니다. 많은 사람들의 신청서가 필요한 문서를 제출하지 않거나 양식을 올바르게 작성하지 않아 거부됩니다. 중국인들은 종종 비자 조건을 위반하기 때문에 신청서가 거부될 가능성이 더 높습니다.\n"
     ]
    },
    {
     "name": "stderr",
     "output_type": "stream",
     "text": [
      " 36%|███▋      | 181/499 [14:46<17:14,  3.25s/it]"
     ]
    },
    {
     "name": "stdout",
     "output_type": "stream",
     "text": [
      "Person1은 피곤하고 Person2와 대화하고 싶지 않습니다. Person2는 다시 만나고 싶지만 Person1은 거절합니다.\n"
     ]
    },
    {
     "name": "stderr",
     "output_type": "stream",
     "text": [
      " 36%|███▋      | 182/499 [14:48<14:41,  2.78s/it]"
     ]
    },
    {
     "name": "stdout",
     "output_type": "stream",
     "text": [
      "Mary는 인터넷 쇼핑을 자주 하며, 편리하고 저렴하기 때문에 온라인 은행 계좌를 개설하여 인터넷으로 물건을 구매할 수 있다.\n"
     ]
    },
    {
     "name": "stderr",
     "output_type": "stream",
     "text": [
      " 37%|███▋      | 183/499 [14:50<13:23,  2.54s/it]"
     ]
    },
    {
     "name": "stdout",
     "output_type": "stream",
     "text": [
      "#Person2#는 미국 회계 경험이 없습니다. 다섯 가지 기본 개념은 회계 단위, 계속기업 원칙, 측정 단위, 회계 기간 및 객관성입니다.\n"
     ]
    },
    {
     "name": "stderr",
     "output_type": "stream",
     "text": [
      " 37%|███▋      | 184/499 [14:55<17:32,  3.34s/it]"
     ]
    },
    {
     "name": "stdout",
     "output_type": "stream",
     "text": [
      "Peter와 Jane은 7월에 1주일 동안 2,000 위안의 비용으로 시안으로 여행을 계획하고 있습니다. Monica는 부모님을 방문하기 위해 하얼빈으로 돌아가기 때문에 함께하지 않습니다. Peter와 Jane은 휴가를 위해 신장이나 티베트로 가는 것에 관심이 있습니다.\n"
     ]
    },
    {
     "name": "stderr",
     "output_type": "stream",
     "text": [
      " 37%|███▋      | 185/499 [14:58<15:56,  3.04s/it]"
     ]
    },
    {
     "name": "stdout",
     "output_type": "stream",
     "text": [
      "Person2는 딸을 위해 로맨스 영화를 빌리고 회원증이 필요합니다. 영화 대여 비용은 $7.50이며 목요일 밤 10시까지 반납해야 합니다.\n"
     ]
    },
    {
     "name": "stderr",
     "output_type": "stream",
     "text": [
      " 37%|███▋      | 186/499 [14:59<13:24,  2.57s/it]"
     ]
    },
    {
     "name": "stdout",
     "output_type": "stream",
     "text": [
      "#Person1#은 Mr. Lee를 찾고 있고, #Person2#는 #Person1#에게 소포를 전달합니다.\n"
     ]
    },
    {
     "name": "stderr",
     "output_type": "stream",
     "text": [
      " 37%|███▋      | 187/499 [15:01<12:42,  2.44s/it]"
     ]
    },
    {
     "name": "stdout",
     "output_type": "stream",
     "text": [
      "공항이 폐쇄되어 있고, 고객이 잠을 잘 때 불을 켜두는 습관이 있어서 공유 방을 불편해하기 때문에, 이용 가능한 유일한 객실은 공유 방입니다.\n"
     ]
    },
    {
     "name": "stderr",
     "output_type": "stream",
     "text": [
      " 38%|███▊      | 188/499 [15:03<11:04,  2.14s/it]"
     ]
    },
    {
     "name": "stdout",
     "output_type": "stream",
     "text": [
      "#Person1#과 #Person2#는 저녁 식사를 누가 지불할 것인지 논의하고 있습니다. 그들은 비용을 나누기로 결정합니다.\n"
     ]
    },
    {
     "name": "stderr",
     "output_type": "stream",
     "text": [
      " 38%|███▊      | 189/499 [15:07<14:02,  2.72s/it]"
     ]
    },
    {
     "name": "stdout",
     "output_type": "stream",
     "text": [
      "Person2는 성적에 대한 스트레스 때문에 잠을 잘 못 자고 있습니다. Person1은 스트레스에 도움이 되는 요가와 이완 기법을 제안하지만 Person2는 새로운 것을 배울 시간이 없습니다. Person1은 스트레스를 완화하기 위해 음악을 듣는 것을 제안하고 Person2는 시도하기로 동의합니다.\n"
     ]
    },
    {
     "name": "stderr",
     "output_type": "stream",
     "text": [
      " 38%|███▊      | 190/499 [15:09<13:03,  2.54s/it]"
     ]
    },
    {
     "name": "stdout",
     "output_type": "stream",
     "text": [
      "Person1은 주방이 구식이고 친구들이 현대적인 주방을 가지고 있기 때문에 주방을 리모델링하고 싶어합니다. Person2는 트렌드를 따라야 하는지 확신하지 못합니다.\n"
     ]
    },
    {
     "name": "stderr",
     "output_type": "stream",
     "text": [
      " 38%|███▊      | 191/499 [15:11<12:30,  2.44s/it]"
     ]
    },
    {
     "name": "stdout",
     "output_type": "stream",
     "text": [
      "Sterling과 Walter는 그들의 새로운 선생님, Professor Wood에 대해 이야기하고 있습니다. Walter는 그가 훌륭한 과학자라고 생각하지만 Sterling은 그가 서투르다고 생각합니다.\n"
     ]
    },
    {
     "name": "stderr",
     "output_type": "stream",
     "text": [
      " 38%|███▊      | 192/499 [15:12<10:16,  2.01s/it]"
     ]
    },
    {
     "name": "stdout",
     "output_type": "stream",
     "text": [
      "#Person2#는 #Person1#와 검사 결과를 논의하기 위해 상담 일정을 잡을 것입니다.\n"
     ]
    },
    {
     "name": "stderr",
     "output_type": "stream",
     "text": [
      " 39%|███▊      | 193/499 [15:15<11:14,  2.20s/it]"
     ]
    },
    {
     "name": "stdout",
     "output_type": "stream",
     "text": [
      "마틴은 다가오는 시험을 잘 준비하고 있으며, 자신의 경비를 위해 돈을 벌 수 있는 직업을 찾은 것에 행복합니다. 그는 램과 엘리자의 도움에 감사하며 학생 복지 서비스에 만족합니다.\n"
     ]
    },
    {
     "name": "stderr",
     "output_type": "stream",
     "text": [
      " 39%|███▉      | 194/499 [15:22<19:02,  3.74s/it]"
     ]
    },
    {
     "name": "stdout",
     "output_type": "stream",
     "text": [
      "Person1은 한국으로 패키지를 보내고 싶어합니다. Person2는 어떻게 보내고 싶은지 묻습니다. Person1은 우선순위 배송을 요청합니다. Person2는 패키지가 무겁고 이틀이 걸릴 것이라고 지적합니다. Person1은 더 저렴한 옵션이 있는지 묻습니다. Person2는 10일 더 걸리는 패키지 우편 방법을 제안합니다. Person1은 그 방법에 동의합니다.\n"
     ]
    },
    {
     "name": "stderr",
     "output_type": "stream",
     "text": [
      " 39%|███▉      | 195/499 [15:23<15:05,  2.98s/it]"
     ]
    },
    {
     "name": "stdout",
     "output_type": "stream",
     "text": [
      "린다, 이 호텔 방 어디에도 내 휴대폰을 찾을 수가 없어요! 대신 전화 한 통 걸어줄 수 있나요?\n"
     ]
    },
    {
     "name": "stderr",
     "output_type": "stream",
     "text": [
      " 39%|███▉      | 196/499 [15:29<19:13,  3.81s/it]"
     ]
    },
    {
     "name": "stdout",
     "output_type": "stream",
     "text": [
      "Person1이 앉을 수 있는지 묻고 Person2는 그들을 환영합니다. Person1은 그들이 캘리포니아 주 로스앤젤레스 출신이며 도시를 방문 중이라고 밝힙니다. Person2는 그들이 얼마나 오래 머물 계획인지 묻고 Person1은 그들이 두 날 더 있다고 말합니다. Person2는 그들에게 또 다른 음료를 제공하기로 합니다.\n"
     ]
    },
    {
     "name": "stderr",
     "output_type": "stream",
     "text": [
      " 39%|███▉      | 197/499 [15:31<16:18,  3.24s/it]"
     ]
    },
    {
     "name": "stdout",
     "output_type": "stream",
     "text": [
      "#Person2#은 이번 여름에 삼촌이 운영하는 회사에서 일하고 비즈니스 과정을 수강할 예정입니다. #Person1#은 졸업 후에 여행을 갈 예정입니다.\n"
     ]
    },
    {
     "name": "stderr",
     "output_type": "stream",
     "text": [
      " 40%|███▉      | 198/499 [15:32<13:23,  2.67s/it]"
     ]
    },
    {
     "name": "stdout",
     "output_type": "stream",
     "text": [
      "\n",
      "Person2는 우유를 배달하면서 개와 가까운 만남을 가졌고 우연한 사고로 나무 가지를 치게 되었습니다.\n"
     ]
    },
    {
     "name": "stderr",
     "output_type": "stream",
     "text": [
      " 40%|███▉      | 199/499 [15:36<14:52,  2.97s/it]"
     ]
    },
    {
     "name": "stdout",
     "output_type": "stream",
     "text": [
      "\n",
      "Person2는 회사에서 6년 동안 일해왔으며, 젊었을 때보다 지금은 일에 대한 열정이 덜합니다. 그들은 더 긴 시간을 일하고 더 많은 돈을 벌지만, 어머니의 돌봄에 대한 책임을 더 많이 맡아야 했습니다.\n"
     ]
    },
    {
     "name": "stderr",
     "output_type": "stream",
     "text": [
      " 40%|████      | 200/499 [15:37<12:17,  2.47s/it]"
     ]
    },
    {
     "name": "stdout",
     "output_type": "stream",
     "text": [
      "#Person1#은 은행에서 사업계좌를 개설했습니다. #Person2#는 그 과정을 도와줬습니다.\n"
     ]
    },
    {
     "name": "stderr",
     "output_type": "stream",
     "text": [
      " 40%|████      | 201/499 [15:44<18:17,  3.68s/it]"
     ]
    },
    {
     "name": "stdout",
     "output_type": "stream",
     "text": [
      "Person1은 배고파서 중국 음식을 먹어보고 싶어합니다. Person2는 다양한 지역 요리를 추천하지만 Person1은 매운 음식을 좋아하지 않습니다. 그들은 15분 도보 또는 5분 운전 거리에 있는 Quanjude 레스토랑에서 베이징 오리를 시도하기로 결정합니다. Person2는 Person1을 위해 레스토랑 이름을 종이에 적습니다.\n"
     ]
    },
    {
     "name": "stderr",
     "output_type": "stream",
     "text": [
      " 40%|████      | 202/499 [15:48<18:47,  3.80s/it]"
     ]
    },
    {
     "name": "stdout",
     "output_type": "stream",
     "text": [
      "Person1과 Person2는 운송 및 배송과 관련된 비즈니스 거래를 논의합니다. Person2는 배송이 늦어질까 걱정하지만 Person1은 다음 달에 떠나는 첫 번째 선적에 화물이 실릴 것이라고 확신합니다. 그들은 계약을 체결하기로 합의합니다.\n"
     ]
    },
    {
     "name": "stderr",
     "output_type": "stream",
     "text": [
      " 41%|████      | 203/499 [15:51<17:23,  3.52s/it]"
     ]
    },
    {
     "name": "stdout",
     "output_type": "stream",
     "text": [
      "Person1이 그들의 방에서 독서등을 깨뜨렸고 Person2는 그들의 방 번호를 물어보고 양식을 작성해달라고 요청합니다. Person1은 손상을 지불하겠다고 제안하고 Person2는 새 것으로 등을 교체하기로 동의합니다.\n"
     ]
    },
    {
     "name": "stderr",
     "output_type": "stream",
     "text": [
      " 41%|████      | 204/499 [16:01<27:53,  5.67s/it]"
     ]
    },
    {
     "name": "stdout",
     "output_type": "stream",
     "text": [
      "발표자는 2006 회계연도에 대한 마케팅 계획을 논의하고 있으며, 이는 젊은 소비자를 유치하고 해외 시장에서 유통을 늘리는 것을 목표로 하고 있습니다. 발표자는 이제 시장 초기 상태, 작년 마케팅 수치 및 올해 최종 판매 수치를 포함한 데이터를 기반으로 계획을 평가할 것입니다. 발표자는 2005년 판매를 나타내는 파란색 선과 2006년 판매를 나타내는 빨간색 선이 강한 판매 증가를 보여주는 그래프를 보여줍니다.\n"
     ]
    },
    {
     "name": "stderr",
     "output_type": "stream",
     "text": [
      " 41%|████      | 205/499 [16:05<24:20,  4.97s/it]"
     ]
    },
    {
     "name": "stdout",
     "output_type": "stream",
     "text": [
      "Person2는 유럽으로 휴가를 떠나 파리, 니스, 밀라노, 에든버러를 방문할 예정입니다. 그들은 박물관을 방문하고 에든버러에서 축제에 참석할 계획입니다. Person1은 기념품을 요청합니다.\n"
     ]
    },
    {
     "name": "stderr",
     "output_type": "stream",
     "text": [
      " 41%|████▏     | 206/499 [16:12<27:23,  5.61s/it]"
     ]
    },
    {
     "name": "stdout",
     "output_type": "stream",
     "text": [
      "#Person1#은 중형차를 예약했지만, 차량이 없다고 안내받았습니다. #Person2#는 대신 소형차나 SUV를 제안하고 불편을 끼쳐드려 죄송하다고 사과했습니다. #Person1#은 제안을 받아들였고, 차량에 대한 보험을 요청했습니다. #Person2#는 다시 한번 사과하고 보험료와 렌트비에 대한 할인을 제안했습니다.\n"
     ]
    },
    {
     "name": "stderr",
     "output_type": "stream",
     "text": [
      " 41%|████▏     | 207/499 [16:16<24:45,  5.09s/it]"
     ]
    },
    {
     "name": "stdout",
     "output_type": "stream",
     "text": [
      "Person1이 카드 게임을 할 수 있는지 묻지만, Person2는 그들의 아빠가 연구실에서 일하고 있고, 소음을 내지 말라고 경고하며 그들에게 상기시킵니다. Person1은 조용히 하겠다고 약속하고, Person2는 그들에게 5분 동안 게임을 할 수 있도록 허락합니다.\n"
     ]
    },
    {
     "name": "stderr",
     "output_type": "stream",
     "text": [
      " 42%|████▏     | 208/499 [16:19<21:42,  4.48s/it]"
     ]
    },
    {
     "name": "stdout",
     "output_type": "stream",
     "text": [
      "Person1은 Ann에게 커피를 요청하고 이번 주 회의에 대해 물어봅니다. Ann은 오늘 오후 5시에 회계사와 회의가 있고 수요일에는 런던으로 여행하고 목요일에는 Ms. Von과 회의가 있다고 알려줍니다.\n"
     ]
    },
    {
     "name": "stderr",
     "output_type": "stream",
     "text": [
      " 42%|████▏     | 209/499 [16:21<18:28,  3.82s/it]"
     ]
    },
    {
     "name": "stdout",
     "output_type": "stream",
     "text": [
      "Person2는 지리 수업을 위해 공부하고 있으며, Person1에게 세계의 지형도를 보여줍니다. 그들은 바다에 비해 국가의 크기와 지리가 기후에 미치는 영향에 대해 논의합니다.\n"
     ]
    },
    {
     "name": "stderr",
     "output_type": "stream",
     "text": [
      " 42%|████▏     | 210/499 [16:24<17:27,  3.62s/it]"
     ]
    },
    {
     "name": "stdout",
     "output_type": "stream",
     "text": [
      "고객은 흡연실 예약에도 불구하고 현재 머무는 방이 담배 냄새가 나기 때문에 방을 변경해야 합니다. 프런트 데스크에서 새로운 방을 준비하고 도어맨이 짐 운반을 도와줄 것입니다.\n"
     ]
    },
    {
     "name": "stderr",
     "output_type": "stream",
     "text": [
      " 42%|████▏     | 211/499 [16:26<14:32,  3.03s/it]"
     ]
    },
    {
     "name": "stdout",
     "output_type": "stream",
     "text": [
      "Bill은 실수로 젖은 페인트를 만집니다. John Sampson은 더 부주의합니다. 근로자들은 표지판에 주의를 기울이지 않습니다.\n"
     ]
    },
    {
     "name": "stderr",
     "output_type": "stream",
     "text": [
      " 42%|████▏     | 212/499 [16:33<20:15,  4.23s/it]"
     ]
    },
    {
     "name": "stdout",
     "output_type": "stream",
     "text": [
      "Person1과 Person2는 함께 즐거운 시간을 보낸 후 작별 인사를 하고 있습니다. Person1은 떠나고 Person2는 한 잔 더 할 수 있는지 묻습니다. Person1은 거절하고 Person2에게 멋진 시간을 보내줘서 고맙다고 합니다. 그들은 연락처 정보를 교환하고 곧 다시 만나기로 합의합니다. Person1은 작별 인사를 하고 Person2를 곧 다시 만나기를 바랍니다.\n"
     ]
    },
    {
     "name": "stderr",
     "output_type": "stream",
     "text": [
      " 43%|████▎     | 213/499 [16:35<16:54,  3.55s/it]"
     ]
    },
    {
     "name": "stdout",
     "output_type": "stream",
     "text": [
      "빌과 짐은 이탈리아에서 돌아온 후 아팠던 그들의 친구 딕에 대해 이야기하고 있다. 딕은 이제 기분이 좋아지고 다시 일할 수 있다.\n"
     ]
    },
    {
     "name": "stderr",
     "output_type": "stream",
     "text": [
      " 43%|████▎     | 214/499 [16:36<14:01,  2.95s/it]"
     ]
    },
    {
     "name": "stdout",
     "output_type": "stream",
     "text": [
      "\n",
      "Person2는 추가 수당 없이 장시간 근무하고 있으며, 그만두려고 생각하고 있지만 다른 직장을 찾는 것에 대해 걱정하고 있습니다.\n"
     ]
    },
    {
     "name": "stderr",
     "output_type": "stream",
     "text": [
      " 43%|████▎     | 215/499 [16:39<12:48,  2.70s/it]"
     ]
    },
    {
     "name": "stdout",
     "output_type": "stream",
     "text": [
      "리사의 남편 마크는 두 달 동안 그녀에게 바람을 피웠다. 그녀는 그에게 대면했고 그는 그것을 인정했다. 그녀는 그가 관계를 끝내지 않으면 이혼하겠다고 위협했다.\n"
     ]
    },
    {
     "name": "stderr",
     "output_type": "stream",
     "text": [
      " 43%|████▎     | 216/499 [16:40<11:08,  2.36s/it]"
     ]
    },
    {
     "name": "stdout",
     "output_type": "stream",
     "text": [
      "Person2의 의사는 그들에게 붉은 고기를 줄이고 식단을 정리하라고 조언했고, Person1은 그들이 식단을 시작하라고 제안합니다.\n"
     ]
    },
    {
     "name": "stderr",
     "output_type": "stream",
     "text": [
      " 43%|████▎     | 217/499 [16:43<11:12,  2.38s/it]"
     ]
    },
    {
     "name": "stdout",
     "output_type": "stream",
     "text": [
      "#Person1#은 떠나고 있지만 #Person2#는 그들이 머물기를 원합니다. #Person1#은 떠나기로 결심하고 #Person2#는 그들이 머물도록 설득하려고 합니다.\n"
     ]
    },
    {
     "name": "stderr",
     "output_type": "stream",
     "text": [
      " 44%|████▎     | 218/499 [16:44<10:15,  2.19s/it]"
     ]
    },
    {
     "name": "stdout",
     "output_type": "stream",
     "text": [
      "#Person2#은 도서관을 사용하는 방법을 설명합니다. 여기에는 대출 할 수있는 책의 수, 대출 기간 및 특정 주제에 대한 책을 찾는 곳이 포함됩니다.\n"
     ]
    },
    {
     "name": "stderr",
     "output_type": "stream",
     "text": [
      " 44%|████▍     | 219/499 [16:47<11:36,  2.49s/it]"
     ]
    },
    {
     "name": "stdout",
     "output_type": "stream",
     "text": [
      "날씨가 좋고 그들은 밖에서 점심을 먹는 것을 고려하고 있습니다. 그들은 콜로라도의 계절 변화를 그리워하지만 좋은 봄날을 즐깁니다. 그들은 구름을 발견하지만 비가 내리지 않습니다. 그들은 이번 주말에 해변에 갈 계획입니다.\n"
     ]
    },
    {
     "name": "stderr",
     "output_type": "stream",
     "text": [
      " 44%|████▍     | 220/499 [16:50<11:25,  2.46s/it]"
     ]
    },
    {
     "name": "stdout",
     "output_type": "stream",
     "text": [
      "박물관은 사진 촬영을 허용하지 않으며, 방문자는 카메라를 입구에 두고 가야 합니다. 방문자는 출구 근처의 기념품 가게에서 사진이나 우표를 구입할 수 있습니다.\n"
     ]
    },
    {
     "name": "stderr",
     "output_type": "stream",
     "text": [
      " 44%|████▍     | 221/499 [17:37<1:14:02, 15.98s/it]"
     ]
    },
    {
     "name": "stdout",
     "output_type": "stream",
     "text": [
      "#Person1#: 안녕하세요, 고객님. 도와드릴까요?\n",
      "#Person2#: 네. 대출 신청에 대한 정보를 좀 얻고 싶어요.\n",
      "#Person1#: 알겠습니다. 저희 대출 정책의 일반적인 조건을 알려드리겠습니다. 저희는 개인 대출에 대한 최저 이자율을 자랑스럽게 제공하고 있습니다.\n",
      "#Person2#: 알겠습니다. 더 잘 이해할 수 있도록 더 많은 정보를 들려주세요. 만약 제가 10,000달러를 빌린다면, 매월 얼마를 갚아야 하나요?\n",
      "#Person1#: 상환 기간에 따라 다릅니다. 연이율 10%로 48개월 동안 10,000달러를 빌린다면, 물론 연체가 없는 것을 가정하면, 매월 원금과 이자를 상환해야 합니다.\n",
      "#Person2#: 그건 좋은데, 문제가 있어요. 제 신용 점수가 너무 낮아요.\n",
      "#Person1#: 그게 큰 문제입니다. 은행은 대출 승인을 위해 귀하의 개인 정보, 과거 대출, 자산 및 신용 점수와 같은 관련 정보를 평가해야 합니다.\n",
      "#Person2#: 알겠습니다. 사실 돈이 별로 필요하지는 않아요. 어쨌든 감사합니다.\n",
      "\n"
     ]
    },
    {
     "name": "stderr",
     "output_type": "stream",
     "text": [
      " 44%|████▍     | 222/499 [17:42<57:23, 12.43s/it]  "
     ]
    },
    {
     "name": "stdout",
     "output_type": "stream",
     "text": [
      "Person1은 회의에서 성공적인 프레젠테이션을 한 Person2에게 축하를 전하고 회사에 기여한 것에 대해 감사를 표합니다. Person2는 동료들의 도움을 인정하고 경제 전문가로부터 받은 지원에 대해 언급합니다. Person1은 Person2의 열정과 헌신을 칭찬합니다.\n"
     ]
    },
    {
     "name": "stderr",
     "output_type": "stream",
     "text": [
      " 45%|████▍     | 223/499 [18:03<1:10:04, 15.23s/it]"
     ]
    },
    {
     "name": "stdout",
     "output_type": "stream",
     "text": [
      "Person1이 Person2에게 함께 달리기를 하고 싶냐고 묻습니다. Person2는 아침에 달리기를 선호하고 그날 이미 몇 마일을 달렸다고 말합니다. Person1은 아침에 달리기를 하고 싶지만 일찍 일어나는 것이 어렵다고 말합니다. Person2는 예전에는 그랬지만 익숙해졌다고 말합니다. Person1은 점심시간에는 너무 더워서 아침에 달리기를 하고 싶다고 말합니다. Person2는 다음날 함께 달리자고 제안하고 6시 30분에 데리러 오겠다고 말합니다. Person1은 함께 달릴 사람이 있으면 일찍 일어날 수 있을 것 같다고 말합니다. Person2는 6시에 전화하고 6시 30분에 데리러 오겠다고 말합니다. Person1은 내일 보자고 말합니다.\n"
     ]
    },
    {
     "name": "stderr",
     "output_type": "stream",
     "text": [
      " 45%|████▍     | 224/499 [18:04<50:03, 10.92s/it]  "
     ]
    },
    {
     "name": "stdout",
     "output_type": "stream",
     "text": [
      "대화는 일본 음식점과 그 메뉴, 영업 시간 및 고객의 방문 의도에 관한 것입니다.\n"
     ]
    },
    {
     "name": "stderr",
     "output_type": "stream",
     "text": [
      " 45%|████▌     | 225/499 [18:05<36:13,  7.93s/it]"
     ]
    },
    {
     "name": "stdout",
     "output_type": "stream",
     "text": [
      "심슨과 Person1은 목요일 12시 30분에 함께 점심을 먹습니다.\n"
     ]
    },
    {
     "name": "stderr",
     "output_type": "stream",
     "text": [
      " 45%|████▌     | 226/499 [18:09<30:04,  6.61s/it]"
     ]
    },
    {
     "name": "stdout",
     "output_type": "stream",
     "text": [
      "Person1이 데이트를 위한 레스토랑을 고르는 데 Person2에게 도움을 요청합니다. Person2는 호텔 레스토랑을 제안하지만 Person1은 다른 곳을 선호합니다. Person2는 Gramercy Tavern을 추천하고 Person1을 위해 예약합니다.\n"
     ]
    },
    {
     "name": "stderr",
     "output_type": "stream",
     "text": [
      " 45%|████▌     | 227/499 [18:10<22:57,  5.07s/it]"
     ]
    },
    {
     "name": "stdout",
     "output_type": "stream",
     "text": [
      "요리와 음료를 $42.50에 판매합니다. 고객은 $50을 지불했고 웨이터는 그에게 감사했습니다.\n"
     ]
    },
    {
     "name": "stderr",
     "output_type": "stream",
     "text": [
      " 46%|████▌     | 228/499 [18:17<25:36,  5.67s/it]"
     ]
    },
    {
     "name": "stdout",
     "output_type": "stream",
     "text": [
      "대화에서 Person1과 Person2는 각자의 나라에서 인기 있는 다양한 스포츠에 대해 논의합니다. Person1은 골프가 그 나라에서 인기가 있다고 언급하지만, 비용이 많이 들 수 있다고 말합니다. Person2는 극한 스포츠를 즐기는 사람들을 알고 있다고 언급하지만 대부분의 사람들은 그냥 관람한다고 말합니다. 그들은 또한 축구, 농구, 테니스, 수영, 럭비의 인기에 대해 논의합니다.\n"
     ]
    },
    {
     "name": "stderr",
     "output_type": "stream",
     "text": [
      " 46%|████▌     | 229/499 [18:21<23:34,  5.24s/it]"
     ]
    },
    {
     "name": "stdout",
     "output_type": "stream",
     "text": [
      "Person2는 이달 23일에 헬싱키로 가는 비행기를 예약하고 29일에 돌아오는 것을 원합니다. 그들은 가장 저렴한 비행기를 요청하고 가격이 $980라고 알려줍니다. 비행 스케줄이 확인되고 Person2는 채식 식사를 요청합니다.\n"
     ]
    },
    {
     "name": "stderr",
     "output_type": "stream",
     "text": [
      " 46%|████▌     | 230/499 [18:26<21:58,  4.90s/it]"
     ]
    },
    {
     "name": "stdout",
     "output_type": "stream",
     "text": [
      "Person1은 할머니를 방문하기 위해 플로리다로 갑니다. 그리고 그들은 디즈니 월드로 데려갈 것입니다. Person2는 이것이 처음인지 묻고 Person1은 그것이 맞다고 확인하지만, 그들의 할머니는 자주 방문하고 디즈니 월드에 대해 많이 알고 있습니다.\n"
     ]
    },
    {
     "name": "stderr",
     "output_type": "stream",
     "text": [
      " 46%|████▋     | 231/499 [18:29<20:27,  4.58s/it]"
     ]
    },
    {
     "name": "stdout",
     "output_type": "stream",
     "text": [
      "Person1이 Person2가 호주에 가봤는지 묻고, Person2는 아니라고 말한다. Person1은 호주에 가서 그레이트 배리어 리프를 보고 싶어하고, Person2도 친구들이 그 곳의 물고기들이 멋지다고 해서 보고 싶어한다.\n"
     ]
    },
    {
     "name": "stderr",
     "output_type": "stream",
     "text": [
      " 46%|████▋     | 232/499 [18:32<18:00,  4.05s/it]"
     ]
    },
    {
     "name": "stdout",
     "output_type": "stream",
     "text": [
      "Person1과 Person2는 운동 습관 및 선호도에 대해 논의합니다. Person1은 산책과 간헐적인 스포츠를 선호하는 반면, Person2는 체육관에 가고 친구들과 스포츠를 즐기는 것을 좋아합니다.\n"
     ]
    },
    {
     "name": "stderr",
     "output_type": "stream",
     "text": [
      " 47%|████▋     | 233/499 [18:35<16:22,  3.69s/it]"
     ]
    },
    {
     "name": "stdout",
     "output_type": "stream",
     "text": [
      "Person2는 시카고에서 태어나 14살 때 로스앤젤레스로 이사했습니다. 그들은 링컨 고등학교에 다녔고, 나중에 유럽으로 여행하여 거의 2년 동안 뮌헨에 살았습니다.\n"
     ]
    },
    {
     "name": "stderr",
     "output_type": "stream",
     "text": [
      " 47%|████▋     | 234/499 [18:40<17:29,  3.96s/it]"
     ]
    },
    {
     "name": "stdout",
     "output_type": "stream",
     "text": [
      "Person1은 새로운 정장을 자랑하며 Person2에게 의견을 묻습니다. Person2는 나쁘지 않다고 생각하지만 새로운 백화점에서 나온 것 같다고 생각합니다. Person1은 큰 쇼핑 센터에서 150달러에 샀다고 말합니다. Person2는 좋은 거래가 아니라고 생각합니다.\n"
     ]
    },
    {
     "name": "stderr",
     "output_type": "stream",
     "text": [
      " 47%|████▋     | 235/499 [18:51<26:38,  6.05s/it]"
     ]
    },
    {
     "name": "stdout",
     "output_type": "stream",
     "text": [
      "Ann은 Martha Bicycle Club의 회장인 Robin과 Mountain Lake Cycle Tour에 대해 인터뷰하고 있습니다. 이 투어는 경주가 아니라 사람들이 재미와 건강을 위해 참여하는 레크리에이션 행사입니다. 평균 사이클리스트에게는 7~9시간이 걸리고 빠른 사람들은 4시간이 걸립니다. 올해 등록된 사이클리스트는 1200명입니다. 사이클리스트들은 도로를 막지 않기 위해 단계적으로 출발할 것입니다. 첫 번째 그룹은 오전 7시에 오타와에서 출발합니다.\n"
     ]
    },
    {
     "name": "stderr",
     "output_type": "stream",
     "text": [
      " 47%|████▋     | 236/499 [19:01<31:53,  7.28s/it]"
     ]
    },
    {
     "name": "stdout",
     "output_type": "stream",
     "text": [
      "Person1이 Person2에게 음료를 제공하고 애피타이저를 제안합니다. Person2는 캠파리를 선택하고 저어달라고 요청합니다. Person1은 음료를 가져오고 Person2가 시그니처 음료를 시도해 보고 싶은지 묻습니다. Person2는 추천을 요청하고 Person1은 라임 주스와 그레나딘으로 만든 비알코올 칵테일인 Singer를 제안합니다. Person2는 음료를 즐기고 Person1은 즐기라고 말합니다.\n"
     ]
    },
    {
     "name": "stderr",
     "output_type": "stream",
     "text": [
      " 47%|████▋     | 237/499 [19:07<30:23,  6.96s/it]"
     ]
    },
    {
     "name": "stdout",
     "output_type": "stream",
     "text": [
      "Person1이 Person2를 점심에 초대하고 비용을 지불하겠다고 제안합니다. 그들은 Person1의 최근 번지점프 경험과 Person2의 시도 거부감에 대해 논의합니다. Person1은 Person2가 새로운 것을 시도해야 한다고 제안하고 번지점프를 어떻게 하는지 가르쳐 주겠다고 제안합니다. Person1은 지갑을 잃어버린 것을 깨닫습니다.\n"
     ]
    },
    {
     "name": "stderr",
     "output_type": "stream",
     "text": [
      " 48%|████▊     | 238/499 [19:12<27:42,  6.37s/it]"
     ]
    },
    {
     "name": "stdout",
     "output_type": "stream",
     "text": [
      "Person1이 Person2에게 제2차 세계대전, 특히 노르망디 상륙작전에 대한 정보를 찾는 데 도움을 요청합니다. Person2는 주제에 대해 검색하기 위해 Google을 사용하라고 제안하고 자세한 정보가 있는 웹사이트를 추천합니다. Person2는 또한 더 깊은 정보를 위해 역사책을 읽는 것을 제안합니다.\n"
     ]
    },
    {
     "name": "stderr",
     "output_type": "stream",
     "text": [
      " 48%|████▊     | 239/499 [19:14<21:25,  4.95s/it]"
     ]
    },
    {
     "name": "stdout",
     "output_type": "stream",
     "text": [
      "#Person1#은 체육관에 새로 온 #Person2#를 도와주고, 기계를 사용하는 방법과 운동하는 방법에 대한 팁을 제공합니다.\n"
     ]
    },
    {
     "name": "stderr",
     "output_type": "stream",
     "text": [
      " 48%|████▊     | 240/499 [19:17<19:18,  4.47s/it]"
     ]
    },
    {
     "name": "stdout",
     "output_type": "stream",
     "text": [
      "Person1이 주차할 곳을 묻습니다, Person2는 캠퍼스에 있는 주차 건물을 제안합니다, Person1이 만차인지 묻습니다, Person2는 오늘 아침에 갔을 때는 만차가 아니었지만 지금은 만차인지 확실하지 않다고 말합니다.\n"
     ]
    },
    {
     "name": "stderr",
     "output_type": "stream",
     "text": [
      " 48%|████▊     | 241/499 [19:26<24:59,  5.81s/it]"
     ]
    },
    {
     "name": "stdout",
     "output_type": "stream",
     "text": [
      "Emily는 첫 번째 미국 급여에 대해 혼란스러워합니다. Susan은 FICA가 연방 소득세, 사회 보장 및 메디케어라고 설명합니다. 이는 은퇴 또는 근무 불가능 시를 대비한 연방 지원 프로그램입니다. 메디케어는 지금 사용할 수 있는 건강 보험이 아닙니다. SUI는 주별 실업 및 장애 기금입니다. 두 개의 별도 소득세가 있습니다. 하나는 주 수준에서, 다른 하나는 연방 수준에서입니다.\n"
     ]
    },
    {
     "name": "stderr",
     "output_type": "stream",
     "text": [
      " 48%|████▊     | 242/499 [19:28<20:02,  4.68s/it]"
     ]
    },
    {
     "name": "stdout",
     "output_type": "stream",
     "text": [
      "Person1은 자판기에서 간식을 사려고 하지만 돈을 넣는 데 어려움을 겪고 있습니다. Person2는 그들이 돈을 넣고 항목을 선택하는 데 도움을 줍니다.\n"
     ]
    },
    {
     "name": "stderr",
     "output_type": "stream",
     "text": [
      " 49%|████▊     | 243/499 [19:29<15:22,  3.60s/it]"
     ]
    },
    {
     "name": "stdout",
     "output_type": "stream",
     "text": [
      "\n",
      "Person2는 처음으로 여자친구를 만나기 위해 태국에 갑니다. 그들은 약혼할 계획입니다.\n"
     ]
    },
    {
     "name": "stderr",
     "output_type": "stream",
     "text": [
      " 49%|████▉     | 244/499 [19:32<14:19,  3.37s/it]"
     ]
    },
    {
     "name": "stdout",
     "output_type": "stream",
     "text": [
      "Person1은 James를 그들의 집으로 환영하고 새로 구입한 가구와 장식품을 자랑합니다. Person2는 새로운 가구를 칭찬하고 카펫에 대해 묻습니다. Person1은 카펫을 두 번 청소했다고 인정합니다.\n"
     ]
    },
    {
     "name": "stderr",
     "output_type": "stream",
     "text": [
      " 49%|████▉     | 245/499 [19:34<12:35,  2.97s/it]"
     ]
    },
    {
     "name": "stdout",
     "output_type": "stream",
     "text": [
      "빌의 일일 운동 스케줄에는 조깅, 출근길 걷기, 체육관 세션, 계단 오르기, 수영, 그리고 댄스 수업이 포함되어 있습니다.\n"
     ]
    },
    {
     "name": "stderr",
     "output_type": "stream",
     "text": [
      " 49%|████▉     | 246/499 [19:37<12:31,  2.97s/it]"
     ]
    },
    {
     "name": "stdout",
     "output_type": "stream",
     "text": [
      "Person1이 과학 수업을 듣는 것을 고려하고 Person2에게 조언을 구합니다. Person2는 졸업하기 위해 과학 수업을 들어야 한다고 제안하고 몇 가지 과정을 추천합니다. Person1은 수학 실력에 대한 우려를 표현합니다.\n"
     ]
    },
    {
     "name": "stderr",
     "output_type": "stream",
     "text": [
      " 49%|████▉     | 247/499 [19:56<32:28,  7.73s/it]"
     ]
    },
    {
     "name": "stdout",
     "output_type": "stream",
     "text": [
      "팀은 더 환경 친화적인 삶을 사는 프로젝트를 하고 있습니다. 그는 과학 수업에서 환경에 대해 많이 배웠기 때문에 이 주제를 선택했습니다. 그는 많은 동료들이 환경을 돕기 위해 노력하고 있다는 것을 알게 되었습니다. 그는 학교에 운전했지만 그의 지역에 버스가 없어서 이제 자전거로 학교에 갑니다. 학교에서 그는 그들이 사용하는 종이가 재활용된다는 것을 알아차렸지만 대부분의 친구들이 종이의 양면을 사용합니다. 그는 그들이 종이를 덜 사용하고 대부분의 과제를 전자적으로 제출하도록 권장할 계획이라고 생각합니다. 그는 또한 학교가 육류 없는 날을 가져야 하고 지역 생산물을 사용해야 한다고 생각합니다. 그는 자동판매기가 음료를 팔지 말아야 한다고 생각합니다.\n"
     ]
    },
    {
     "name": "stderr",
     "output_type": "stream",
     "text": [
      " 50%|████▉     | 248/499 [19:58<25:23,  6.07s/it]"
     ]
    },
    {
     "name": "stdout",
     "output_type": "stream",
     "text": [
      "Person1은 장난감 부서에 근무하는 쇼핑센터에서 피곤하고 좌절감을 느끼고 있습니다. 그들은 크리스마스 시즌 동안 힘든 고객들과 함께 긴 시간 동안 일해야 합니다.\n"
     ]
    },
    {
     "name": "stderr",
     "output_type": "stream",
     "text": [
      " 50%|████▉     | 249/499 [20:00<20:43,  4.97s/it]"
     ]
    },
    {
     "name": "stdout",
     "output_type": "stream",
     "text": [
      "빌은 수지의 생일을 위해 케이크를 만들었지만, 그녀는 다이어트를 하고 있어서 먹을 수 없습니다. 빌은 근처 식당에서 그녀에게 샐러드나 수프를 사주겠다고 제안합니다.\n"
     ]
    },
    {
     "name": "stderr",
     "output_type": "stream",
     "text": [
      " 50%|█████     | 250/499 [20:05<20:36,  4.97s/it]"
     ]
    },
    {
     "name": "stdout",
     "output_type": "stream",
     "text": [
      "Person2는 여름 옷을 찾고 있고 Person1은 모든 여름 옷이 20% 할인된다고 알려줍니다. Person2는 셔츠를 찾고 매치하는 치마를 묻고, Person1은 그들이 그것을 찾는 것을 돕습니다. Person2는 160 위안으로 의상을 사기 결정합니다.\n"
     ]
    },
    {
     "name": "stderr",
     "output_type": "stream",
     "text": [
      " 50%|█████     | 251/499 [20:08<17:21,  4.20s/it]"
     ]
    },
    {
     "name": "stdout",
     "output_type": "stream",
     "text": [
      "#Person1#은 지난달에 예약한 표를 받으러 왔지만, 국제선은 72시간 내에 재확인하지 않으면 예약이 취소되므로 다른 티켓을 요청합니다.\n"
     ]
    },
    {
     "name": "stderr",
     "output_type": "stream",
     "text": [
      " 51%|█████     | 252/499 [20:09<13:32,  3.29s/it]"
     ]
    },
    {
     "name": "stdout",
     "output_type": "stream",
     "text": [
      "부활절을 맞아 가족들이 모이고, 교회 예배 후에 뷔페 점심 식사를 할 예정입니다. 아이들은 없습니다.\n"
     ]
    },
    {
     "name": "stderr",
     "output_type": "stream",
     "text": [
      " 51%|█████     | 253/499 [20:12<12:51,  3.14s/it]"
     ]
    },
    {
     "name": "stdout",
     "output_type": "stream",
     "text": [
      "Person1은 그들의 아들의 나쁜 습관인 해로운 말을 하는 것에 대해 걱정하고 있지만, Person2는 그들에게 사랑과 인내, 그리고 존중을 보여주고, 나쁜 행동을 처벌하는 대신 좋은 행동을 보상하라고 조언합니다.\n"
     ]
    },
    {
     "name": "stderr",
     "output_type": "stream",
     "text": [
      " 51%|█████     | 254/499 [20:19<18:35,  4.55s/it]"
     ]
    },
    {
     "name": "stdout",
     "output_type": "stream",
     "text": [
      "Person1은 친구인 Julie와 Alex가 결혼한다는 소식을 공유하게 되어 매우 기쁩니다. 그리고 Alex의 베스트맨이 남자 파티를 계획하고 있습니다. Person2는 부적절한 행동의 가능성에 대해 걱정하지만, Person1은 그것이 무해한 재미일 것이라고 확신합니다. Person2는 그 후 친구인 Wendy도 결혼한다고 밝히고, 그들은 그녀의 미혼 파티를 계획하고 있다고 밝힙니다.\n"
     ]
    },
    {
     "name": "stderr",
     "output_type": "stream",
     "text": [
      " 51%|█████     | 255/499 [20:20<13:56,  3.43s/it]"
     ]
    },
    {
     "name": "stdout",
     "output_type": "stream",
     "text": [
      "Person1은 Person2가 투표소를 찾을 수 있도록 도와주고 투표용지를 제공합니다.\n"
     ]
    },
    {
     "name": "stderr",
     "output_type": "stream",
     "text": [
      " 51%|█████▏    | 256/499 [20:22<12:27,  3.08s/it]"
     ]
    },
    {
     "name": "stdout",
     "output_type": "stream",
     "text": [
      "회사는 다운사이징을 하고 연사들은 누가 해고될지 논의하고 있습니다. 그들은 몇몇 직원들을 배제하고 결국에는 그들 중 한 명이 될 수도 있다고 결론 내립니다.\n"
     ]
    },
    {
     "name": "stderr",
     "output_type": "stream",
     "text": [
      " 52%|█████▏    | 257/499 [20:27<14:45,  3.66s/it]"
     ]
    },
    {
     "name": "stdout",
     "output_type": "stream",
     "text": [
      "Person1과 Person2는 그들의 삶과 현재 사건들에 대해 토론합니다. 여기에는 중국 드라마 \"중국 이혼\"을 시청하고 젊은 사람들 사이에서 이혼율이 증가하는 것도 포함됩니다. 그들은 젊은 세대가 관계와 결혼에 대한 지식이 부족하고 사랑이 종종 사라지는 열정으로만 여겨진다는 데 동의합니다.\n"
     ]
    },
    {
     "name": "stderr",
     "output_type": "stream",
     "text": [
      " 52%|█████▏    | 258/499 [20:32<15:56,  3.97s/it]"
     ]
    },
    {
     "name": "stdout",
     "output_type": "stream",
     "text": [
      "주디와 Person1은 다가오는 여행에 대한 예산을 논의합니다. 이는 13,000 RMB를 초과합니다. 그들은 교통비와 호텔 비용과 같은 비용을 논의하고, Person2는 숙박 시설의 품질을 유지하면서 돈을 절약하기 위해 유스 호스텔을 선택하는 것을 제안합니다.\n"
     ]
    },
    {
     "name": "stderr",
     "output_type": "stream",
     "text": [
      " 52%|█████▏    | 259/499 [20:34<12:46,  3.19s/it]"
     ]
    },
    {
     "name": "stdout",
     "output_type": "stream",
     "text": [
      "Person1은 Mary가 Paris에서 Jerry와 결혼했다는 것을 Person2에게 알려줍니다. Person2는 놀라고 충격을 받습니다.\n"
     ]
    },
    {
     "name": "stderr",
     "output_type": "stream",
     "text": [
      " 52%|█████▏    | 260/499 [20:36<11:33,  2.90s/it]"
     ]
    },
    {
     "name": "stdout",
     "output_type": "stream",
     "text": [
      "Person2가 지갑을 잃어버리고 Person1에게 금요일까지 $50을 빌려달라고 부탁합니다. Person1은 도움을 주기로 동의하고 나중에 만나기로 계획합니다.\n"
     ]
    },
    {
     "name": "stderr",
     "output_type": "stream",
     "text": [
      " 52%|█████▏    | 261/499 [20:38<10:46,  2.72s/it]"
     ]
    },
    {
     "name": "stdout",
     "output_type": "stream",
     "text": [
      "#Person1#: 뉴스 들었어? 우리 두 주요 공급업체인 머피 뮤직과 유튠이 합병했어! 우리 시장 전략에 큰 영향을 미칠 거야.\n"
     ]
    },
    {
     "name": "stderr",
     "output_type": "stream",
     "text": [
      " 53%|█████▎    | 262/499 [20:41<11:03,  2.80s/it]"
     ]
    },
    {
     "name": "stdout",
     "output_type": "stream",
     "text": [
      "#Person1#과 #Person2#는 #Person1#의 새로운 비서에 대해 이야기하고 있습니다. #Person2#는 비서가 거만하고 도움이 되지 않는다고 생각합니다. #Person1#은 비서가 모두에게 도움이 된다고 말합니다.\n"
     ]
    },
    {
     "name": "stderr",
     "output_type": "stream",
     "text": [
      " 53%|█████▎    | 263/499 [20:47<14:15,  3.62s/it]"
     ]
    },
    {
     "name": "stdout",
     "output_type": "stream",
     "text": [
      "사라는 회의에서 자신의 제안이 받아들여지지 않아 화가 났다. 회의는 사무실 업무 흐름을 개선하는 것에 관한 것이었는데, 밥은 자신의 아이디어에만 관심이 있었고 다른 사람들의 의견은 듣지 않았다. 사라는 간결하게 말하는 법을 배워야 하고 세부 사항에 얽매이지 않아야 한다. 다음 회의에서는 그렇게 할 것이다.\n"
     ]
    },
    {
     "name": "stderr",
     "output_type": "stream",
     "text": [
      " 53%|█████▎    | 264/499 [20:53<17:09,  4.38s/it]"
     ]
    },
    {
     "name": "stdout",
     "output_type": "stream",
     "text": [
      "Person1과 Person2는 이슬람교와 메카로의 하즈 순례에 관한 프로그램을 보고 있습니다. 그들은 이슬람 신앙의 영적 중심지인 메카의 중요성과 사고와 부상을 초래할 수 있는 하즈의 위험에 대해 논의합니다. 그들은 또한 기독교의 다른 순례지와 프랑스의 치유지에 대해서도 언급합니다.\n"
     ]
    },
    {
     "name": "stderr",
     "output_type": "stream",
     "text": [
      " 53%|█████▎    | 265/499 [21:03<23:51,  6.12s/it]"
     ]
    },
    {
     "name": "stdout",
     "output_type": "stream",
     "text": [
      "Person1이 Jenny가 함께 가는지 묻고, Person2가 왜 묻는지 묻고, Person1이 그냥 물어봤다고 말하고, Person2가 Person1이 Jenny를 좋아할지도 모른다고 놀리고, Person1이 부인하고, Person2가 Person1에게 Jenny에게 데이트 신청하라고 격려하고, Person1이 거절당할까봐 걱정하고, Person2가 시도하는 것이 더 낫고 거절이 세상의 끝이 아니라고 말하고, Person1은 여전히 어떻게 물어봐야 할지 확신하지 못합니다.\n"
     ]
    },
    {
     "name": "stderr",
     "output_type": "stream",
     "text": [
      " 53%|█████▎    | 266/499 [21:27<44:20, 11.42s/it]"
     ]
    },
    {
     "name": "stdout",
     "output_type": "stream",
     "text": [
      "\n",
      "\n",
      "\n",
      "\n",
      "\n",
      "\n",
      "\n",
      "\n",
      "\n",
      "\n",
      "\n",
      "\n",
      "\n",
      "\n",
      "\n",
      "\n",
      "\n",
      "\n",
      "\n",
      "\n",
      "\n",
      "\n",
      "\n",
      "\n",
      "\n",
      "\n",
      "\n",
      "\n",
      "\n",
      "\n",
      "\n",
      "\n",
      "\n",
      "\n",
      "\n",
      "\n",
      "\n",
      "\n",
      "\n",
      "\n",
      "\n",
      "\n",
      "\n",
      "\n",
      "\n",
      "\n",
      "\n",
      "\n",
      "\n",
      "\n",
      "\n",
      "\n",
      "\n",
      "\n",
      "\n",
      "\n",
      "\n",
      "\n",
      "\n",
      "\n",
      "\n",
      "\n",
      "\n",
      "\n",
      "\n",
      "\n",
      "\n",
      "\n",
      "\n",
      "\n",
      "\n",
      "\n",
      "\n",
      "\n",
      "\n",
      "\n",
      "\n",
      "\n",
      "\n",
      "\n",
      "\n",
      "\n",
      "\n",
      "\n",
      "\n",
      "\n",
      "\n",
      "\n",
      "\n",
      "\n",
      "\n",
      "\n",
      "\n",
      "\n",
      "\n",
      "\n",
      "\n",
      "\n",
      "\n",
      "\n",
      "\n",
      "\n",
      "\n",
      "\n",
      "\n",
      "\n",
      "\n",
      "\n",
      "\n",
      "\n",
      "\n",
      "\n",
      "\n",
      "\n",
      "\n",
      "\n",
      "\n",
      "\n",
      "\n",
      "\n",
      "\n",
      "\n",
      "\n",
      "\n",
      "\n",
      "\n",
      "\n",
      "\n",
      "\n",
      "\n",
      "\n",
      "\n",
      "\n",
      "\n",
      "\n",
      "\n",
      "\n",
      "\n",
      "\n",
      "\n",
      "\n",
      "\n",
      "\n",
      "\n",
      "\n",
      "\n",
      "\n",
      "\n",
      "\n",
      "\n",
      "\n",
      "\n",
      "\n",
      "\n",
      "\n",
      "\n",
      "\n",
      "\n",
      "\n",
      "\n",
      "\n",
      "\n",
      "\n",
      "\n",
      "\n",
      "\n",
      "\n",
      "\n",
      "\n",
      "\n",
      "\n",
      "\n",
      "\n",
      "\n",
      "\n",
      "\n",
      "\n",
      "\n",
      "\n",
      "\n",
      "\n",
      "\n",
      "\n",
      "\n",
      "\n",
      "\n",
      "\n",
      "\n",
      "\n",
      "\n",
      "\n",
      "\n",
      "\n",
      "\n",
      "\n",
      "\n",
      "\n",
      "\n",
      "\n",
      "\n",
      "\n",
      "\n",
      "\n",
      "\n",
      "\n",
      "\n",
      "\n",
      "\n",
      "\n",
      "\n",
      "\n",
      "\n",
      "\n",
      "\n",
      "\n",
      "\n",
      "\n",
      "\n",
      "\n",
      "\n",
      "\n",
      "\n",
      "\n",
      "\n",
      "\n",
      "\n",
      "\n",
      "\n",
      "\n",
      "\n",
      "\n",
      "\n",
      "\n",
      "\n",
      "\n",
      "\n",
      "\n",
      "\n",
      "\n",
      "\n",
      "\n",
      "\n",
      "\n",
      "\n",
      "\n",
      "\n",
      "\n",
      "\n",
      "\n",
      "\n",
      "\n",
      "\n",
      "\n",
      "\n",
      "\n",
      "\n",
      "\n"
     ]
    },
    {
     "name": "stderr",
     "output_type": "stream",
     "text": [
      " 54%|█████▎    | 267/499 [21:41<47:05, 12.18s/it]"
     ]
    },
    {
     "name": "stdout",
     "output_type": "stream",
     "text": [
      "Person1이 뉴질랜드에 있는 가족에 대해 묻습니다. Person2는 그들이 그들의 삼촌 빌, 그의 아내, 그리고 두 딸이라고 설명합니다. Person1은 빌이 그들의 아빠의 형제인지 묻고, Person2는 그들의 아빠의 형제가 잭이라고 명확히 하고, 빌은 그들의 엄마의 형제라고 설명합니다. Person1은 두 딸이 그들의 사촌인지 묻고, Person2는 그들이 맞지만, 그들은 이복 자매라고 설명합니다. Person1은 그들의 집에 대한 방문에 대해 묻고, Person2는 그들이 다음 해 유럽 여행 중에 방문할 계획이라고 말합니다.\n"
     ]
    },
    {
     "name": "stderr",
     "output_type": "stream",
     "text": [
      " 54%|█████▎    | 268/499 [21:41<33:47,  8.78s/it]"
     ]
    },
    {
     "name": "stdout",
     "output_type": "stream",
     "text": [
      "스튜어트는 시내 마라톤에서 우승했고 모두가 그를 자랑스러워합니다.\n"
     ]
    },
    {
     "name": "stderr",
     "output_type": "stream",
     "text": [
      " 54%|█████▍    | 269/499 [21:44<26:15,  6.85s/it]"
     ]
    },
    {
     "name": "stdout",
     "output_type": "stream",
     "text": [
      "Person2는 자녀와 아내를 위한 선물을 찾고 있습니다. Person1은 자녀들을 위한 운동화와 아내를 위한 DENY 향수를 추천합니다. Person2는 운동화와 향수를 구매합니다.\n"
     ]
    },
    {
     "name": "stderr",
     "output_type": "stream",
     "text": [
      " 54%|█████▍    | 270/499 [21:49<24:15,  6.35s/it]"
     ]
    },
    {
     "name": "stdout",
     "output_type": "stream",
     "text": [
      "Person1은 영국에 전화를 걸어야 하지만 로밍 요금에 대해 걱정하고 있습니다. Person2는 편의점에서 100 위안으로 구입할 수 있는 현지 SIM 카드를 사용하는 것을 제안합니다. 영국에 전화하는 비용은 분당 약 10 위안입니다. Person1은 조언에 감사하고 있습니다.\n"
     ]
    },
    {
     "name": "stderr",
     "output_type": "stream",
     "text": [
      " 54%|█████▍    | 271/499 [22:15<46:40, 12.28s/it]"
     ]
    },
    {
     "name": "stdout",
     "output_type": "stream",
     "text": [
      "\n",
      "\n",
      "\n",
      "\n",
      "\n",
      "\n",
      "\n",
      "\n",
      "\n",
      "\n",
      "\n",
      "\n",
      "\n",
      "\n",
      "\n",
      "\n",
      "\n",
      "\n",
      "\n",
      "\n",
      "\n",
      "\n",
      "\n",
      "\n",
      "\n",
      "\n",
      "\n",
      "\n",
      "\n",
      "\n",
      "\n",
      "\n",
      "\n",
      "\n",
      "\n",
      "\n",
      "\n",
      "\n",
      "\n",
      "\n",
      "\n",
      "\n",
      "\n",
      "\n",
      "\n",
      "\n",
      "\n",
      "\n",
      "\n",
      "\n",
      "\n",
      "\n",
      "\n",
      "\n",
      "\n",
      "\n",
      "\n",
      "\n",
      "\n",
      "\n",
      "\n",
      "\n",
      "\n",
      "\n",
      "\n",
      "\n",
      "\n",
      "\n",
      "\n",
      "\n",
      "\n",
      "\n",
      "\n",
      "\n",
      "\n",
      "\n",
      "\n",
      "\n",
      "\n",
      "\n",
      "\n",
      "\n",
      "\n",
      "\n",
      "\n",
      "\n",
      "\n",
      "\n",
      "\n",
      "\n",
      "\n",
      "\n",
      "\n",
      "\n",
      "\n",
      "\n",
      "\n",
      "\n",
      "\n",
      "\n",
      "\n",
      "\n",
      "\n",
      "\n",
      "\n",
      "\n",
      "\n",
      "\n",
      "\n",
      "\n",
      "\n",
      "\n",
      "\n",
      "\n",
      "\n",
      "\n",
      "\n",
      "\n",
      "\n",
      "\n",
      "\n",
      "\n",
      "\n",
      "\n",
      "\n",
      "\n",
      "\n",
      "\n",
      "\n",
      "\n",
      "\n",
      "\n",
      "\n",
      "\n",
      "\n",
      "\n",
      "\n",
      "\n",
      "\n",
      "\n",
      "\n",
      "\n",
      "\n",
      "\n",
      "\n",
      "\n",
      "\n",
      "\n",
      "\n",
      "\n",
      "\n",
      "\n",
      "\n",
      "\n",
      "\n",
      "\n",
      "\n",
      "\n",
      "\n",
      "\n",
      "\n",
      "\n",
      "\n",
      "\n",
      "\n",
      "\n",
      "\n",
      "\n",
      "\n",
      "\n",
      "\n",
      "\n",
      "\n",
      "\n",
      "\n",
      "\n",
      "\n",
      "\n",
      "\n",
      "\n",
      "\n",
      "\n",
      "\n",
      "\n",
      "\n",
      "\n",
      "\n",
      "\n",
      "\n",
      "\n",
      "\n",
      "\n",
      "\n",
      "\n",
      "\n",
      "\n",
      "\n",
      "\n",
      "\n",
      "\n",
      "\n",
      "\n",
      "\n",
      "\n",
      "\n",
      "\n",
      "\n",
      "\n",
      "\n",
      "\n",
      "\n",
      "\n",
      "\n",
      "\n",
      "\n",
      "\n",
      "\n",
      "\n",
      "\n",
      "\n",
      "\n",
      "\n",
      "\n",
      "\n",
      "\n",
      "\n",
      "\n",
      "\n",
      "\n",
      "\n",
      "\n",
      "\n",
      "\n",
      "\n",
      "\n",
      "\n",
      "\n",
      "\n",
      "\n",
      "\n",
      "\n",
      "\n",
      "\n",
      "\n",
      "\n",
      "\n",
      "\n",
      "\n",
      "\n",
      "\n",
      "\n",
      "\n",
      "\n",
      "\n",
      "\n",
      "\n",
      "\n"
     ]
    },
    {
     "name": "stderr",
     "output_type": "stream",
     "text": [
      " 55%|█████▍    | 272/499 [22:17<35:03,  9.27s/it]"
     ]
    },
    {
     "name": "stdout",
     "output_type": "stream",
     "text": [
      "Person1과 Person2는 Barry와 그의 형제 Paul에 대한 의견을 논의합니다. 그들은 또한 그들의 성격에 대해 이야기하고 금요일에 Person2의 생일 파티에 참석하기로 합의합니다.\n"
     ]
    },
    {
     "name": "stderr",
     "output_type": "stream",
     "text": [
      " 55%|█████▍    | 273/499 [22:39<49:11, 13.06s/it]"
     ]
    },
    {
     "name": "stdout",
     "output_type": "stream",
     "text": [
      "#Person1#은 집을 사려고 하고 몇 가지 정보가 필요합니다. #Person2#는 그들이 관심있는 지역이 어디인지 묻고 #Person1#은 패서디나 또는 아카디아를 언급합니다. #Person2#는 집의 크기를 묻고 #Person1#은 3개의 침실과 2개의 욕실이 있는 중간 크기의 집을 원합니다. #Person2#는 특정 학군에 관심이 있는지 묻고 #Person1#은 ABC 학군 내에 머물기를 원합니다. #Person2#는 호수 근처의 집이나 전망이 있는 집을 선호하는지 묻고 #Person1#은 전망이 있는 집을 원합니다. #Person2#는 완벽한 집을 찾을 것이고 며칠 후에 다시 전화할 것이라고 말합니다.\n"
     ]
    },
    {
     "name": "stderr",
     "output_type": "stream",
     "text": [
      " 55%|█████▍    | 274/499 [22:41<36:39,  9.78s/it]"
     ]
    },
    {
     "name": "stdout",
     "output_type": "stream",
     "text": [
      "Person1과 Person2는 샘플에 대해 논의하고 추가 고려를 위해 샘플을 남겨두기로 결정합니다. Person2는 다음 주에 Person1에게 연락할 것입니다.\n"
     ]
    },
    {
     "name": "stderr",
     "output_type": "stream",
     "text": [
      " 55%|█████▌    | 275/499 [22:45<29:58,  8.03s/it]"
     ]
    },
    {
     "name": "stdout",
     "output_type": "stream",
     "text": [
      "#Person1#은 PHS에서 Sons까지 가는 직행 버스를 찾고 있습니다. #Person2#는 그들에게 268번 버스를 타고 Fair Oaks와 Washington으로 간 다음 261번 버스를 타고 Sons으로 가야 한다고 알려줍니다.\n"
     ]
    },
    {
     "name": "stderr",
     "output_type": "stream",
     "text": [
      " 55%|█████▌    | 276/499 [22:47<22:35,  6.08s/it]"
     ]
    },
    {
     "name": "stdout",
     "output_type": "stream",
     "text": [
      "Person1이 Mrs. Word를 집까지 데려다주겠다고 제안하고, 그녀는 그 제안을 받아들인다. 그들은 나쁜 날씨에 대해 이야기한다.\n"
     ]
    },
    {
     "name": "stderr",
     "output_type": "stream",
     "text": [
      " 56%|█████▌    | 277/499 [22:58<28:18,  7.65s/it]"
     ]
    },
    {
     "name": "stdout",
     "output_type": "stream",
     "text": [
      "Person1이 Person2에게 자켓과 셔츠를 벗고 침대에 누워달라고 부탁합니다. 그들은 Person2의 어깨가 아픈지 묻고 Person2는 아프다고 말합니다. Person1은 다른 자세를 제안하고 Person2는 여전히 아프다고 말합니다. Person1은 Person2의 다리가 아픈지 묻고 Person2는 아프지 않다고 말합니다. Person1은 Person2의 어깨에 X-ray를 찍자고 제안하지만 아침에 할 수 있다고 말합니다. Person1은 Person2가 병원에 밤을 보내라고 추천합니다.\n"
     ]
    },
    {
     "name": "stderr",
     "output_type": "stream",
     "text": [
      " 56%|█████▌    | 278/499 [23:00<21:18,  5.78s/it]"
     ]
    },
    {
     "name": "stdout",
     "output_type": "stream",
     "text": [
      "\n",
      "    2번 사람이 도시에서 휴가를 보내던 중 신용카드를 잃어버렸고 IBA 고객 서비스의 도움이 필요합니다.\n"
     ]
    },
    {
     "name": "stderr",
     "output_type": "stream",
     "text": [
      " 56%|█████▌    | 279/499 [23:05<20:19,  5.54s/it]"
     ]
    },
    {
     "name": "stdout",
     "output_type": "stream",
     "text": [
      "Person1은 낮잠을 자고 Person2는 전화를 끕니다. Person2는 한 시간 후에 Person1을 깨울 것입니다. Person2는 6시에 저녁 준비를 시작할 것입니다. Person1은 그 시간에 일어날 것입니다. Person2는 저녁을 요리하고 Person1은 그 냄새를 맡을 것입니다.\n"
     ]
    },
    {
     "name": "stderr",
     "output_type": "stream",
     "text": [
      " 56%|█████▌    | 280/499 [23:21<31:32,  8.64s/it]"
     ]
    },
    {
     "name": "stdout",
     "output_type": "stream",
     "text": [
      "Person1이 Person2에게 중국 음식이나 서양 음식을 원하는지 묻고, Person2는 중국 음식을 선택한다. Person1이 Person2에게 먹을 것인지 포장할 것인지 묻고, Person2는 먹을 것을 선택한다. Person1은 편의상 앞쪽의 테이블을 제안한다. Person1이 Person2에게 음료를 원하는지 묻고, Person2는 두유(soy milk)를 요청한다. Person2는 두 개의 가치 메뉴(Value Meals)를 추가하고 고추장(gochujang)을 요청한다. Person1은 고기가 소고기인지 확인하고 Person2는 만족한다. Person1은 필요한 경우 도움을 제공한다.\n"
     ]
    },
    {
     "name": "stderr",
     "output_type": "stream",
     "text": [
      " 56%|█████▋    | 281/499 [23:22<23:42,  6.53s/it]"
     ]
    },
    {
     "name": "stdout",
     "output_type": "stream",
     "text": [
      "Person1과 Person2는 음식을 주문하기 위해 줄을 서 기다리고 있습니다. 그들은 음식에 대해 흥분하고 다른 요리를 주문할 계획입니다.\n"
     ]
    },
    {
     "name": "stderr",
     "output_type": "stream",
     "text": [
      " 57%|█████▋    | 282/499 [23:29<23:44,  6.56s/it]"
     ]
    },
    {
     "name": "stdout",
     "output_type": "stream",
     "text": [
      "Person1은 Lucy에게 노래할 준비가 되었는지 묻지만 Lucy는 망설입니다. Person1은 Lucy에게 아직 노래하지 않았다고 상기시키고 다른 사람이 노래하고 싶은지 묻습니다. Lucy는 Stanley가 여기에 있고 그가 노래하는 것을 듣고 싶다고 언급합니다. Person1은 Stanley를 위해 Elvis 노래를 연주하는 것을 제안하고 Lucy는 목록의 맨 위에 놓는 것에 동의합니다.\n"
     ]
    },
    {
     "name": "stderr",
     "output_type": "stream",
     "text": [
      " 57%|█████▋    | 283/499 [23:31<18:34,  5.16s/it]"
     ]
    },
    {
     "name": "stdout",
     "output_type": "stream",
     "text": [
      "이 사람은 영화관이 DVD 산업으로 인해 결국 사라질 것이라고 믿으며, 사람들이 영화를 보는 곳이 아니라 만나는 곳으로 개념을 혁신해야 한다고 생각합니다.\n"
     ]
    },
    {
     "name": "stderr",
     "output_type": "stream",
     "text": [
      " 57%|█████▋    | 284/499 [23:34<16:18,  4.55s/it]"
     ]
    },
    {
     "name": "stdout",
     "output_type": "stream",
     "text": [
      "Person1은 갈색 드레스를 제안하지만 Person2는 더 가볍고 봄에 어울리는 직물을 선호합니다. Person1은 다양한 색상의 실크와 면 드레스들을 제안하지만 Person2는 하얀색 드레스를 선택하기로 합니다.\n"
     ]
    },
    {
     "name": "stderr",
     "output_type": "stream",
     "text": [
      " 57%|█████▋    | 285/499 [23:36<13:56,  3.91s/it]"
     ]
    },
    {
     "name": "stdout",
     "output_type": "stream",
     "text": [
      "#Person2#는 #Person1#에게 일주일 동안 $13을 줄 것입니다. #Person2#는 #Person1#의 주간 용돈을 잊고 줬기 때문입니다.\n"
     ]
    },
    {
     "name": "stderr",
     "output_type": "stream",
     "text": [
      " 57%|█████▋    | 286/499 [23:42<15:51,  4.47s/it]"
     ]
    },
    {
     "name": "stdout",
     "output_type": "stream",
     "text": [
      "Person1과 Person2는 Mike의 생일 파티에 대해 이야기하고 있습니다. Person1은 초대장을 받았고 Person2도 받았는지 묻습니다. Person2는 초대장을 받았지만 시작 시간을 모른다고 확인합니다. Person1은 시작 시간을 알아보기 위해 Mike에게 전화하겠다고 제안하고 Person2가 함께 갈 것인지 묻습니다. Person2는 동의합니다.\n"
     ]
    },
    {
     "name": "stderr",
     "output_type": "stream",
     "text": [
      " 58%|█████▊    | 287/499 [23:50<19:39,  5.56s/it]"
     ]
    },
    {
     "name": "stdout",
     "output_type": "stream",
     "text": [
      "Person1은 우선순위 우편으로 패키지를 보내고 $50 보험을 요청합니다. 그들은 또한 책자 우표와 세 개의 항공 우표를 요청합니다. Person2는 우표를 우편창 옆의 우표 창에서 구매해야 한다고 알려줍니다. Person1은 그곳에서 돈주도 살 수 있는지 묻지만 Person2는 왼쪽 복도 끝에 있는 세 번째 창으로 가야 한다고 말합니다.\n"
     ]
    },
    {
     "name": "stderr",
     "output_type": "stream",
     "text": [
      " 58%|█████▊    | 288/499 [23:53<16:43,  4.75s/it]"
     ]
    },
    {
     "name": "stdout",
     "output_type": "stream",
     "text": [
      "대화는 자연재해, 특히 태풍과 지진에 관한 것입니다. 화자들은 재해의 심각성과 사람들의 삶에 미치는 영향에 대해 논의합니다. 그들은 또한 위기의 시기에 다른 사람들을 돕는 것의 중요성을 언급합니다.\n"
     ]
    },
    {
     "name": "stderr",
     "output_type": "stream",
     "text": [
      " 58%|█████▊    | 289/499 [23:55<13:25,  3.83s/it]"
     ]
    },
    {
     "name": "stdout",
     "output_type": "stream",
     "text": [
      "날씨가 나쁘고 비가 오지만 곧 끝날 것입니다. 장마철은 약 두 달 지속됩니다. 그 사람은 따뜻한 날씨를 선호합니다.\n"
     ]
    },
    {
     "name": "stderr",
     "output_type": "stream",
     "text": [
      " 58%|█████▊    | 290/499 [24:07<22:48,  6.55s/it]"
     ]
    },
    {
     "name": "stdout",
     "output_type": "stream",
     "text": [
      "Person1과 Person2는 배구 경기 후에 올림픽 기념품 가게를 방문하여 가족들에게 선물을 사기로 계획하고 있습니다. 그들은 특히 \"환환\"이라고 불리는 빨간색 마스코트에 관심이 있습니다. 마스코트는 크기에 따라 가격이 다른 5개 세트로 판매됩니다. Person1은 한 세트 이상 구매 시 할인이 있는지 묻지만 Person2는 인기가 많아 구할 수 없을 수도 있다고 말합니다. 그들은 또한 우표, 키 체인, 포스터, 예술 및 공예품과 같은 다른 아이템을 살펴볼 계획입니다.\n"
     ]
    },
    {
     "name": "stderr",
     "output_type": "stream",
     "text": [
      " 58%|█████▊    | 291/499 [24:15<23:19,  6.73s/it]"
     ]
    },
    {
     "name": "stdout",
     "output_type": "stream",
     "text": [
      "Person1은 팬을 사고 싶어하고 Person2는 16인치짜리 팬을 보여주지만 너무 무겁습니다. 그들은 Person1에게 나무 손잡이가 달린 알루미늄 팬을 보여주는데, Person1은 이것을 좋아하고 구매하기로 결정합니다. Person2는 현금으로 지불할지 묻고 Person1은 뚜껑에 대해 묻습니다. Person2는 그것을 보여줍니다.\n"
     ]
    },
    {
     "name": "stderr",
     "output_type": "stream",
     "text": [
      " 59%|█████▊    | 292/499 [24:16<17:24,  5.05s/it]"
     ]
    },
    {
     "name": "stdout",
     "output_type": "stream",
     "text": [
      "#Person1#과 #Person2#는 업무량을 논의하고 퇴근 후에 만나기로 계획합니다.\n"
     ]
    },
    {
     "name": "stderr",
     "output_type": "stream",
     "text": [
      " 59%|█████▊    | 293/499 [24:24<21:07,  6.15s/it]"
     ]
    },
    {
     "name": "stdout",
     "output_type": "stream",
     "text": [
      "Person1은 워싱턴 사무소의 현대적이고 편안한 시설에 감명을 받습니다. Person2는 많은 사람들이 성인 생활 내내 연방 정부에서 일하며, 이는 보람 있고 안정적인 경력이 될 수 있다고 설명합니다. Person1은 연방 공무원이 고도로 훈련된 전문가이며, 급여와 근무 조건이 매력적이라는 사실에 놀랍니다. Person2는 자신이 GS-15 직원으로, 좋은 급여를 받는 고위직이라는 사실을 밝힙니다.\n"
     ]
    },
    {
     "name": "stderr",
     "output_type": "stream",
     "text": [
      " 59%|█████▉    | 294/499 [24:26<16:43,  4.89s/it]"
     ]
    },
    {
     "name": "stdout",
     "output_type": "stream",
     "text": [
      "Pete와 Henry는 둘 다 뉴욕 출신이기 때문에 서로 소개됩니다. 그들은 유명한 만두 레스토랑에 가고 나서 가라오케 바에 갈 계획입니다.\n"
     ]
    },
    {
     "name": "stderr",
     "output_type": "stream",
     "text": [
      " 59%|█████▉    | 295/499 [24:29<14:40,  4.32s/it]"
     ]
    },
    {
     "name": "stdout",
     "output_type": "stream",
     "text": [
      "줄리는 일주일 동안 아팠고 학교를 빠졌다. 그녀는 친구들과 좋은 식사를 한 후 길거리 치킨에서 식중독을 얻은 것 같다고 생각한다. 그녀는 지금 기분이 나아지고 놓친 일을 따라잡을 수 있을 것이다.\n"
     ]
    },
    {
     "name": "stderr",
     "output_type": "stream",
     "text": [
      " 59%|█████▉    | 296/499 [24:32<13:04,  3.87s/it]"
     ]
    },
    {
     "name": "stdout",
     "output_type": "stream",
     "text": [
      "마이크의 엄마는 손님들을 기다리고 있으며 그에게 음료를 사오라고 부탁합니다. 마이크는 커피를 만들겠다고 제안하고 그의 엄마는 그에게 설탕을 사오라고 부탁합니다. 손님들은 한 시간 후에 도착할 예정입니다.\n"
     ]
    },
    {
     "name": "stderr",
     "output_type": "stream",
     "text": [
      " 60%|█████▉    | 297/499 [24:44<20:38,  6.13s/it]"
     ]
    },
    {
     "name": "stdout",
     "output_type": "stream",
     "text": [
      "Person1은 Person2를 베를린에 환영하고 그들은 서로의 소식을 묻습니다. Person2는 역에서 잠시 기다린 것을 언급하고 Person1은 추운 날씨를 피해 아파트로 가자고 제안합니다. Person2는 버스가 그렇게 나쁘지 않았다고 말하지만 Person1은 런던에서 비행기로 한 시간 반밖에 걸리지 않는다고 지적합니다. Person2는 더 환경 친화적이기 위해 버스를 탔다고 설명하지만 편안하지 않았다고 인정합니다. Person1은 불편함을 피하기 위해 다음 번에 비행기를 타는 것을 제안합니다.\n"
     ]
    },
    {
     "name": "stderr",
     "output_type": "stream",
     "text": [
      " 60%|█████▉    | 298/499 [24:46<16:21,  4.88s/it]"
     ]
    },
    {
     "name": "stdout",
     "output_type": "stream",
     "text": [
      "Person2는 이런 종류의 일을 해본 적이 없지만 시도해보고 주말에 일할 수 있습니다. 그들은 여행, 사람 만나기, 그리고 여러 언어를 말하는 것을 즐깁니다.\n"
     ]
    },
    {
     "name": "stderr",
     "output_type": "stream",
     "text": [
      " 60%|█████▉    | 299/499 [24:49<14:34,  4.37s/it]"
     ]
    },
    {
     "name": "stdout",
     "output_type": "stream",
     "text": [
      "제니와 빌이 주최한 피크닉에 Person2가 초대를 받아 베이하이 공원에 갔습니다. 그들은 좋은 시간을 보냈고 집으로 돌아오는 길에 교통 체증에 걸렸습니다. Person1은 Person2에게 책을 반납하고 싶어합니다.\n"
     ]
    },
    {
     "name": "stderr",
     "output_type": "stream",
     "text": [
      " 60%|██████    | 300/499 [24:50<11:08,  3.36s/it]"
     ]
    },
    {
     "name": "stdout",
     "output_type": "stream",
     "text": [
      "Peter는 정원을 물주고 있고 Peter의 친구는 차를 만들고 있습니다. 비가 내리기 시작합니다.\n"
     ]
    },
    {
     "name": "stderr",
     "output_type": "stream",
     "text": [
      " 60%|██████    | 301/499 [24:52<09:43,  2.94s/it]"
     ]
    },
    {
     "name": "stdout",
     "output_type": "stream",
     "text": [
      "Person1과 Person2는 가능한 한 빨리 긴급 회의를 해야 합니다. Person2는 공지를 보내고 Person1은 Ken이 돌아올 때 알려줄 것입니다.\n"
     ]
    },
    {
     "name": "stderr",
     "output_type": "stream",
     "text": [
      " 61%|██████    | 302/499 [24:54<09:14,  2.81s/it]"
     ]
    },
    {
     "name": "stdout",
     "output_type": "stream",
     "text": [
      "Person2는 편지에 우표를 필요로 합니다. Person1은 Person2가 올바른 우표를 선택할 수 있도록 도와주고 비용을 계산합니다. Person2는 총액을 지불하고 영수증과 잔돈을 받습니다.\n"
     ]
    },
    {
     "name": "stderr",
     "output_type": "stream",
     "text": [
      " 61%|██████    | 303/499 [24:57<09:10,  2.81s/it]"
     ]
    },
    {
     "name": "stdout",
     "output_type": "stream",
     "text": [
      "#Person1#과 #Person2#는 심각한 감염과 이를 치료하기 위한 항생제와 크림의 필요성에 대해 논의합니다. #Person2#는 4층 약국에서 처방전을 채우라고 지시받습니다.\n"
     ]
    },
    {
     "name": "stderr",
     "output_type": "stream",
     "text": [
      " 61%|██████    | 304/499 [25:00<09:41,  2.98s/it]"
     ]
    },
    {
     "name": "stdout",
     "output_type": "stream",
     "text": [
      "Person2는 기념품으로 살 중국 공예품을 찾고 추천을 요청합니다. Person1은 운반하기 쉬운 옵션으로 종이 공예, 자수, 그리고 바틱을 제안합니다. Person2는 자수를 살펴보기로 결정합니다.\n"
     ]
    },
    {
     "name": "stderr",
     "output_type": "stream",
     "text": [
      " 61%|██████    | 305/499 [25:04<10:02,  3.11s/it]"
     ]
    },
    {
     "name": "stdout",
     "output_type": "stream",
     "text": [
      "에펠탑은 1889년 만국박람회를 위해 지어졌으며 1930년까지 세계에서 가장 높은 구조물이었습니다. 그것은 디자이너인 구스타브 에펠의 이름을 따서 명명되었습니다.\n"
     ]
    },
    {
     "name": "stderr",
     "output_type": "stream",
     "text": [
      " 61%|██████▏   | 306/499 [25:07<09:37,  2.99s/it]"
     ]
    },
    {
     "name": "stdout",
     "output_type": "stream",
     "text": [
      "Brian은 대학에서 영어를 배웠고, 미국에 3주 동안 있었고, 아내와 함께 왔으며, 캘리포니아는 가본 적이 없지만 라스베이거스는 출장으로 한 번 가본 적이 있다.\n"
     ]
    },
    {
     "name": "stderr",
     "output_type": "stream",
     "text": [
      " 62%|██████▏   | 307/499 [25:08<08:18,  2.60s/it]"
     ]
    },
    {
     "name": "stdout",
     "output_type": "stream",
     "text": [
      "Person2는 한 시간 전에 여기에 있어야 했는데 늦어서 걱정하고 있지만, Person1은 그들이 괜찮을 거라고 안심시켜줍니다.\n"
     ]
    },
    {
     "name": "stderr",
     "output_type": "stream",
     "text": [
      " 62%|██████▏   | 308/499 [25:09<06:37,  2.08s/it]"
     ]
    },
    {
     "name": "stdout",
     "output_type": "stream",
     "text": [
      "#Person1#은 #Person2#에게 그들의 행동이 문제를 일으킬 것이라고 경고합니다.\n"
     ]
    },
    {
     "name": "stderr",
     "output_type": "stream",
     "text": [
      " 62%|██████▏   | 309/499 [25:33<26:57,  8.52s/it]"
     ]
    },
    {
     "name": "stdout",
     "output_type": "stream",
     "text": [
      "John은 일주일에 7번 그녀와 데이트한다.\n",
      "\n",
      "John은 일주일에 7번 그녀와 데이트한다.\n",
      "\n",
      "John은 일주일에 7번 그녀와 데이트한다.\n",
      "\n",
      "John은 일주일에 7번 그녀와 데이트한다.\n",
      "\n",
      "John은 일주일에 7번 그녀와 데이트한다.\n",
      "\n",
      "John은 일주일에 7번 그녀와 데이트한다.\n",
      "\n",
      "John은 일주일에 7번 그녀와 데이트한다.\n",
      "\n",
      "John은 일주일에 7번 그녀와 데이트한다.\n",
      "\n",
      "John은 일주일에 7번 그녀와 데이트한다.\n",
      "\n",
      "John은 일주일에 7번 그녀와 데이트한다.\n",
      "\n",
      "John은 일주일에 7번 그녀와 데이트한다.\n",
      "\n",
      "John은 일주일에 7번 그녀와 데이트한다.\n",
      "\n",
      "John은 일주일에 7번 그녀와 데이트한다.\n",
      "\n",
      "John은 일주일에 7번 그녀와 데이트한다.\n",
      "\n",
      "John은 일주일에 7번 그녀와 데이트한다.\n",
      "\n",
      "John은 일주일에 7번 그녀와 데이트한다.\n",
      "\n",
      "John은 일주일에 7번 그녀와 데이트한다.\n",
      "\n",
      "John\n"
     ]
    },
    {
     "name": "stderr",
     "output_type": "stream",
     "text": [
      " 62%|██████▏   | 310/499 [25:37<23:11,  7.36s/it]"
     ]
    },
    {
     "name": "stdout",
     "output_type": "stream",
     "text": [
      "Person1과 Person2는 넬슨 기념물, 웨스트민스터 사원, 보디세아 동상, 엘리자베스 1세, 마가렛 대처, 런던 타워, 그리고 마담 투소 왁스 박물관을 포함한 런던의 역사적 중요성을 논의하고 있습니다.\n"
     ]
    },
    {
     "name": "stderr",
     "output_type": "stream",
     "text": [
      " 62%|██████▏   | 311/499 [25:39<17:45,  5.67s/it]"
     ]
    },
    {
     "name": "stdout",
     "output_type": "stream",
     "text": [
      "Person1은 과학을 좋아하고 우리 주위에 있는 것들을 배우는 것이 흥미롭다고 생각합니다. Person2는 놀라고 Person1이 문제아라고 생각합니다.\n"
     ]
    },
    {
     "name": "stderr",
     "output_type": "stream",
     "text": [
      " 63%|██████▎   | 312/499 [25:44<16:38,  5.34s/it]"
     ]
    },
    {
     "name": "stdout",
     "output_type": "stream",
     "text": [
      "Person1은 베이비 샤워에 감사하며, 턱받이, 유모차, 고기 의자, 카시트, 놀이방, 그리고 침대를 포함한 선물을 연다. Person2는 아기의 출산 예정일을 맞추는 게임을 제안하지만, Person1의 양수가 터지고 병원으로 가야 한다.\n"
     ]
    },
    {
     "name": "stderr",
     "output_type": "stream",
     "text": [
      " 63%|██████▎   | 313/499 [25:46<13:33,  4.37s/it]"
     ]
    },
    {
     "name": "stdout",
     "output_type": "stream",
     "text": [
      "Person1은 중국으로 여행을 가고 싶어하고 Person2에게 같이 갈 수 있는지 묻습니다. Person2는 좋은 생각이라고 말하지만 너무 바빠서 갈 수 없다고 합니다.\n"
     ]
    },
    {
     "name": "stderr",
     "output_type": "stream",
     "text": [
      " 63%|██████▎   | 314/499 [25:47<10:08,  3.29s/it]"
     ]
    },
    {
     "name": "stdout",
     "output_type": "stream",
     "text": [
      "팀과 카렌은 즐거운 대화를 나누고 다시 만나기로 합의했습니다.\n"
     ]
    },
    {
     "name": "stderr",
     "output_type": "stream",
     "text": [
      " 63%|██████▎   | 315/499 [25:51<11:13,  3.66s/it]"
     ]
    },
    {
     "name": "stdout",
     "output_type": "stream",
     "text": [
      "Person2는 어젯밤에 Michael을 보러 갔고 그는 새로운 오토바이를 샀습니다. Person1은 그가 탈 수 있는지 물었고 그는 탔지만 무서웠습니다. Person2는 오토바이를 사고 싶지 않지만 대신 자전거를 사고 싶어합니다. 왜냐하면 더 안전하기 때문입니다.\n"
     ]
    },
    {
     "name": "stderr",
     "output_type": "stream",
     "text": [
      " 63%|██████▎   | 316/499 [25:53<09:09,  3.00s/it]"
     ]
    },
    {
     "name": "stdout",
     "output_type": "stream",
     "text": [
      "Person2는 영어, 프랑스어, 중국어를 할 수 있습니다. 그들은 미국 회사에서 일할 수 있을 정도로 영어를 잘 할 수 있습니다.\n"
     ]
    },
    {
     "name": "stderr",
     "output_type": "stream",
     "text": [
      " 64%|██████▎   | 317/499 [26:04<16:30,  5.44s/it]"
     ]
    },
    {
     "name": "stdout",
     "output_type": "stream",
     "text": [
      "Person1은 Tyler의 누나 Nancy이고 Person2는 Outmi에게 전화를 걸고 있습니다. Person2는 Person1이 Outmi인지 묻고 Person1은 그녀가 Outmi의 누나 Nancy라고 말합니다. Person2는 Person1의 목소리가 Outmi의 것과 비슷하다고 말합니다. Person1은 메시지를 남길 수 있는지 묻고 Person2는 예, Andy가 전화했다고 Outmi에게 전해달라고 말합니다. Person1은 Outmi에게 전하겠다고 말하고 Person2는 고맙다고 말합니다. Person1은 안녕히 계세요라고 말합니다.\n"
     ]
    },
    {
     "name": "stderr",
     "output_type": "stream",
     "text": [
      " 64%|██████▎   | 318/499 [26:08<15:22,  5.10s/it]"
     ]
    },
    {
     "name": "stdout",
     "output_type": "stream",
     "text": [
      "뉴욕행 513편 비행기가 취소되었습니다. 고객은 실망하고 다른 항공편에 좌석이 있는지 묻습니다. 에이전트는 다른 항공사로 예약하기 위해 줄을 서라고 제안하지만 고객은 망설입니다. 에이전트는 다음 날 비행기에 50% 할인을 제공합니다.\n"
     ]
    },
    {
     "name": "stderr",
     "output_type": "stream",
     "text": [
      " 64%|██████▍   | 319/499 [26:14<16:03,  5.35s/it]"
     ]
    },
    {
     "name": "stdout",
     "output_type": "stream",
     "text": [
      "Person1과 Person2는 치즈버거와 밀크셰이크를 좋아하기 때문에 점심에 버거 퀸에 갈 예정입니다. 그들은 음식을 위해 줄을 서는 것을 기꺼이 하고, 마요네즈 소스가 있는 감자를 시도하는 것에 대해 흥분하고 있습니다. 그들은 가끔씩 건강에 좋지 않은 음식을 즐기는 것이 괜찮다고 모두 동의합니다.\n"
     ]
    },
    {
     "name": "stderr",
     "output_type": "stream",
     "text": [
      " 64%|██████▍   | 320/499 [26:18<15:05,  5.06s/it]"
     ]
    },
    {
     "name": "stdout",
     "output_type": "stream",
     "text": [
      "Person1은 Person2에게 그들의 짐이 8킬로그램 초과되어 초과 수화물 수수료를 지불해야 한다고 알려줍니다. Person2는 처리 라벨을 요청하고 Person1은 그것을 제공하며, Person2에게 짐에 붙이고 지정된 지역에 놓으라고 지시합니다.\n"
     ]
    },
    {
     "name": "stderr",
     "output_type": "stream",
     "text": [
      " 64%|██████▍   | 321/499 [26:19<11:25,  3.85s/it]"
     ]
    },
    {
     "name": "stdout",
     "output_type": "stream",
     "text": [
      "Person1은 목이 마르고 음료를 원하지만, Person2는 소다 대신 물을 제안합니다.\n"
     ]
    },
    {
     "name": "stderr",
     "output_type": "stream",
     "text": [
      " 65%|██████▍   | 322/499 [26:21<09:39,  3.28s/it]"
     ]
    },
    {
     "name": "stdout",
     "output_type": "stream",
     "text": [
      "왕 미오는 AB 회사의 CEO인 그린 씨가 급한 일로 해외로 가야 해서 내일 아침 약속이 취소되었음을 량 씨에게 알려달라고 요청했습니다.\n"
     ]
    },
    {
     "name": "stderr",
     "output_type": "stream",
     "text": [
      " 65%|██████▍   | 323/499 [26:26<10:56,  3.73s/it]"
     ]
    },
    {
     "name": "stdout",
     "output_type": "stream",
     "text": [
      "Person1은 사이즈 30의 에나멜 가죽 신발을 찾고 있습니다. Person2는 한 켤레를 제안하지만 Person1은 굽이 조금 조이는 것을 발견합니다. Person2는 신발을 신으면 신축성이 있다고 Person1에게 확신시키고, Person1은 신발을 구매하기로 결정합니다.\n"
     ]
    },
    {
     "name": "stderr",
     "output_type": "stream",
     "text": [
      " 65%|██████▍   | 324/499 [26:36<16:46,  5.75s/it]"
     ]
    },
    {
     "name": "stdout",
     "output_type": "stream",
     "text": [
      "Person1이 Person2에게 프로젝트 보고서를 다 썼는지 묻지만, Person2는 시작도 하지 못했고 형식에 대해 고민 중이라고 고백한다. Person1은 보고서에 Person2의 올해 작업 요약, 내년 계획, 그리고 비상 사태 처리 예시를 포함한 결론 세부 사항이 포함되어야 한다고 설명한다. Person2는 보고서의 복잡성에 대해 우려를 표하고 형식에 대한 도움을 요청하지만, Person1은 다음 보고서를 위해 마이크로소프트 워드 사용법을 배우라고 제안한다.\n"
     ]
    },
    {
     "name": "stderr",
     "output_type": "stream",
     "text": [
      " 65%|██████▌   | 325/499 [26:46<19:43,  6.80s/it]"
     ]
    },
    {
     "name": "stdout",
     "output_type": "stream",
     "text": [
      "Person2는 중간 크기의 페퍼로니, 올리브, 그리고 추가 치즈 피자를 주문하고, 대형 피자에 대한 1+1 거래를 거절합니다. Person1은 특별 메뉴 항목에 대해 25% 할인을 제공하며, Person2는 얇은 도우의 해산물 피자를 선택합니다. 총 비용은 $21.50이며, 피자는 30분 이내에 배달되거나 무료입니다. Person2는 주소로 #Address#를 제공합니다.\n"
     ]
    },
    {
     "name": "stderr",
     "output_type": "stream",
     "text": [
      " 65%|██████▌   | 326/499 [26:49<16:35,  5.75s/it]"
     ]
    },
    {
     "name": "stdout",
     "output_type": "stream",
     "text": [
      "Person1은 저녁으로 새우 칵테일, 계란 수프, 양파가 들어간 스테이크, 블랙 커피, 그리고 미네랄 워터를 주문합니다. Person2는 제공되지 않는 토마토 수프 대신 계란 수프를 대안으로 제안합니다.\n"
     ]
    },
    {
     "name": "stderr",
     "output_type": "stream",
     "text": [
      " 66%|██████▌   | 327/499 [26:52<13:53,  4.85s/it]"
     ]
    },
    {
     "name": "stdout",
     "output_type": "stream",
     "text": [
      "이 집은 아늑한 거실, 큰 식사 공간, 그리고 세 개의 편안한 침실이 있습니다. 주방은 냉장고, 전기 스토브, 식기 세척기가 있는 현대적입니다. 집에 두 개의 욕실이 있습니다.\n"
     ]
    },
    {
     "name": "stderr",
     "output_type": "stream",
     "text": [
      " 66%|██████▌   | 328/499 [26:56<12:53,  4.52s/it]"
     ]
    },
    {
     "name": "stdout",
     "output_type": "stream",
     "text": [
      "3일 전에 Person2는 상점에서 개인 스테레오를 구입했지만 설명된 것과 같지 않습니다. 앞면에 큰 흠집이 있고 소리가 다른 사람들에게 들립니다. Person1은 다른 모델로 교환해 주겠다고 제안하지만 Person2는 환불을 원합니다.\n"
     ]
    },
    {
     "name": "stderr",
     "output_type": "stream",
     "text": [
      " 66%|██████▌   | 329/499 [26:59<11:48,  4.17s/it]"
     ]
    },
    {
     "name": "stdout",
     "output_type": "stream",
     "text": [
      "Person1과 Person2는 내년 기숙사 보증금 납부 기한에 대해 논의합니다. Person2는 캠퍼스 밖에서 살 생각을 하고 있지만 비용에 대해 확신이 없습니다. Person1은 돈을 절약하기 위해 도서관에서 공부하는 것을 제안합니다.\n"
     ]
    },
    {
     "name": "stderr",
     "output_type": "stream",
     "text": [
      " 66%|██████▌   | 330/499 [27:01<10:09,  3.60s/it]"
     ]
    },
    {
     "name": "stdout",
     "output_type": "stream",
     "text": [
      "Person1과 Person2는 중고 책의 가치와 희귀하거나 가치 있는 항목을 찾는 가능성에 대해 논의합니다. 그들은 또한 서명의 잠재적인 가치와 가치 있는 책을 찾는 가능성에 대해 언급합니다.\n"
     ]
    },
    {
     "name": "stderr",
     "output_type": "stream",
     "text": [
      " 66%|██████▋   | 331/499 [27:05<10:25,  3.72s/it]"
     ]
    },
    {
     "name": "stdout",
     "output_type": "stream",
     "text": [
      "\n",
      "    2번은 창가 자리를 요청하지만 이미 모두 차 있다고 하고 대신 중앙 테이블을 제안받습니다. 그들은 음식을 주문하고 베이징 덕을 제안받으며 이를 수락합니다. 그들은 친구가 도착하기를 기다리고 있기 때문에 음식을 20분 안에 준비해 달라고 요청합니다.\n"
     ]
    },
    {
     "name": "stderr",
     "output_type": "stream",
     "text": [
      " 67%|██████▋   | 332/499 [27:12<12:41,  4.56s/it]"
     ]
    },
    {
     "name": "stdout",
     "output_type": "stream",
     "text": [
      "Person1은 중요한 문서가 들어있는 편지를 아들에게 보내고 싶어합니다. Person2는 등록된 우편이나 배달 증명 우편을 사용하는 것을 제안하지만, 더 확실한 배달 확인을 위해 등록 우편을 추천합니다. Person1은 시계가 들어있는 패키지에 대해 묻고, Person2는 시계의 가치에 따라 보험을 들고 추가 안전성을 위해 등록 우편을 사용하는 것을 제안합니다.\n"
     ]
    },
    {
     "name": "stderr",
     "output_type": "stream",
     "text": [
      " 67%|██████▋   | 333/499 [27:14<10:48,  3.91s/it]"
     ]
    },
    {
     "name": "stdout",
     "output_type": "stream",
     "text": [
      "톰은 샐리와 존에게 편지를 보냈다. 그는 그들이 1월에 방문할 예정이라는 사실에 행복하다. 그는 그들을 역에서 데리러 갈 것이고 그들은 함께 저녁을 먹을 것이다.\n"
     ]
    },
    {
     "name": "stderr",
     "output_type": "stream",
     "text": [
      " 67%|██████▋   | 334/499 [27:16<09:01,  3.28s/it]"
     ]
    },
    {
     "name": "stdout",
     "output_type": "stream",
     "text": [
      "#Person1#과 #Person2#은 도서관에서 컴퓨터를 사용하는 데 어려움을 겪고 있으며, 자신의 컴퓨터가 있었으면 좋겠다고 생각합니다.\n"
     ]
    },
    {
     "name": "stderr",
     "output_type": "stream",
     "text": [
      " 67%|██████▋   | 335/499 [27:17<07:27,  2.73s/it]"
     ]
    },
    {
     "name": "stdout",
     "output_type": "stream",
     "text": [
      "날씨는 좋고 맑으며, 그들은 둘 다 가을을 선호합니다. 그들은 소풍을 가고 싶지만 비가 올 수도 있습니다.\n"
     ]
    },
    {
     "name": "stderr",
     "output_type": "stream",
     "text": [
      " 67%|██████▋   | 336/499 [27:24<10:51,  4.00s/it]"
     ]
    },
    {
     "name": "stdout",
     "output_type": "stream",
     "text": [
      "Person1이 Person2에게 참고 자료실에 있는지 물어보고 컴퓨터에 대한 일반적인 정보를 요청합니다. Person2는 특정 연구 프로젝트인지 아니면 일반적인 정보인지 묻고 Person1은 일반적인 정보라고 말합니다. Person2는 컴퓨터 잡지를 살펴보라고 제안하고 Person1은 제목을 볼 수 있는지 묻습니다. Person2는 어떻게 찾을 수 있는지 보여줄 것을 제안합니다.\n"
     ]
    },
    {
     "name": "stderr",
     "output_type": "stream",
     "text": [
      " 68%|██████▊   | 337/499 [27:26<08:49,  3.27s/it]"
     ]
    },
    {
     "name": "stdout",
     "output_type": "stream",
     "text": [
      "\n",
      "Person2는 프렌치 가든 레스토랑에 앉아 참치 샌드위치와 야채 수프, 그리고 물을 주문합니다.\n"
     ]
    },
    {
     "name": "stderr",
     "output_type": "stream",
     "text": [
      " 68%|██████▊   | 338/499 [27:33<11:31,  4.30s/it]"
     ]
    },
    {
     "name": "stdout",
     "output_type": "stream",
     "text": [
      "Person1이 Person2에게 음료를 서빙해 주겠다고 제안하고, 전채요리를 원하는지 묻습니다. Person2는 레모네이드와 바베큐 윙을 주문합니다. Person1이 더 필요한 것이 있는지 묻고, Person2는 지금은 괜찮다고 말합니다. Person1이 주문할 준비가 되었는지 묻고, Person2는 베이비 백 리브스를 주문합니다.\n"
     ]
    },
    {
     "name": "stderr",
     "output_type": "stream",
     "text": [
      " 68%|██████▊   | 339/499 [27:34<08:51,  3.32s/it]"
     ]
    },
    {
     "name": "stdout",
     "output_type": "stream",
     "text": [
      "Person1은 식사 중에 물과 커피를 제공하겠다고 제안하고, Person2는 나중에 디저트를 요청합니다.\n"
     ]
    },
    {
     "name": "stderr",
     "output_type": "stream",
     "text": [
      " 68%|██████▊   | 340/499 [27:39<10:42,  4.04s/it]"
     ]
    },
    {
     "name": "stdout",
     "output_type": "stream",
     "text": [
      "Person1과 Person2는 가상의 상황에 대해 대화를 나누고 있습니다. Person1은 에릭과 데이트를 할 것이라고 말하지만, 로또에 당첨되었다는 사실을 아빠에게 말하지 않을 것입니다. Person2는 로또에 당첨되면 Person1을 따라 세계 여행을 할 것입니다. Person1은 결혼한다고 말하면 엄마가 깜짝 놀랄 것이라고 생각합니다.\n"
     ]
    },
    {
     "name": "stderr",
     "output_type": "stream",
     "text": [
      " 68%|██████▊   | 341/499 [27:40<08:05,  3.07s/it]"
     ]
    },
    {
     "name": "stdout",
     "output_type": "stream",
     "text": [
      "Person1은 Person2에게 새 강아지의 사진을 보여주고 얼마나 사랑하는지 이야기합니다.\n"
     ]
    },
    {
     "name": "stderr",
     "output_type": "stream",
     "text": [
      " 69%|██████▊   | 342/499 [27:42<07:25,  2.84s/it]"
     ]
    },
    {
     "name": "stdout",
     "output_type": "stream",
     "text": [
      "Person1은 Tom의 새 자전거에 질투하고 버스가 늦는 것에 대해 불평합니다. Person2는 교통 체증을 피하기 위해 자동차나 비행기를 사는 것을 제안합니다.\n"
     ]
    },
    {
     "name": "stderr",
     "output_type": "stream",
     "text": [
      " 69%|██████▊   | 343/499 [27:45<07:05,  2.72s/it]"
     ]
    },
    {
     "name": "stdout",
     "output_type": "stream",
     "text": [
      "Person2는 치마를 찾고 최신 트렌드를 묻습니다. Person1은 치마를 보여주고 그들은 그것을 입어 봅니다. Person2는 그것을 좋아하고 가격, $400을 묻습니다.\n"
     ]
    },
    {
     "name": "stderr",
     "output_type": "stream",
     "text": [
      " 69%|██████▉   | 344/499 [27:51<09:19,  3.61s/it]"
     ]
    },
    {
     "name": "stdout",
     "output_type": "stream",
     "text": [
      "200년 전 이 도시는 작은 마을이었지만, 근처에 큰 석탄 매장지가 발견되면서 급속히 성장했습니다. 이는 여러 산업들을 끌어들였습니다. 도시는 인근 마을들을 흡수했고, 그 중 일부는 오늘날에도 여전히 사용됩니다. 그 당시의 건물들도 여전히 남아 있습니다. 여기에는 술집과 성이 포함됩니다.\n"
     ]
    },
    {
     "name": "stderr",
     "output_type": "stream",
     "text": [
      " 69%|██████▉   | 345/499 [27:55<10:05,  3.93s/it]"
     ]
    },
    {
     "name": "stdout",
     "output_type": "stream",
     "text": [
      "세계는 많은 환경 문제에 직면해 있으며, 너무 늦기 전에 해결할 수 있을지 불분명합니다. 단기적인 사고는 대기 오염, 산림 벌채 및 사막화 같은 문제를 야기하고 있습니다. 환경 보호에 중점을 둔 조직에 가입하는 것은 차이를 만드는 좋은 방법이 될 수 있습니다.\n"
     ]
    },
    {
     "name": "stderr",
     "output_type": "stream",
     "text": [
      " 69%|██████▉   | 346/499 [27:58<08:49,  3.46s/it]"
     ]
    },
    {
     "name": "stdout",
     "output_type": "stream",
     "text": [
      "Person1은 온라인에서 사람들과 많은 시간을 보내고 16세 소녀인 척하고 있습니다. Person2는 Person1의 행동에 대해 걱정하고 좋은 치료사를 찾는 것을 제안합니다.\n"
     ]
    },
    {
     "name": "stderr",
     "output_type": "stream",
     "text": [
      " 70%|██████▉   | 347/499 [28:05<11:23,  4.50s/it]"
     ]
    },
    {
     "name": "stdout",
     "output_type": "stream",
     "text": [
      "Nathan은 인턴십을 위해 시카고로 가고 어머니를 그리워할 것입니다. 그는 경험에 대해 흥분하고 학교 첫날에 제시간에 돌아올 것입니다. 그는 큰 신문에 일하는 것에 대해 걱정하지 않으며 다른 사람들로부터 배울 것입니다. 그는 단순히 복사하고 쓰레기를 버리는 것 이상의 일을 할 수 있을 것입니다. 그는 그에게 가르칠 수 있는 작가와 함께 일할 것입니다.\n"
     ]
    },
    {
     "name": "stderr",
     "output_type": "stream",
     "text": [
      " 70%|██████▉   | 348/499 [28:07<09:43,  3.87s/it]"
     ]
    },
    {
     "name": "stdout",
     "output_type": "stream",
     "text": [
      "Person2는 3일 동안 Toyota Corolla를 렌트하고 싶어합니다. 그들은 은색 차를 선택하고 신청서를 작성합니다. 그들은 세 번째 날 정오까지 차를 반납해야 합니다.\n"
     ]
    },
    {
     "name": "stderr",
     "output_type": "stream",
     "text": [
      " 70%|██████▉   | 349/499 [28:18<14:57,  5.99s/it]"
     ]
    },
    {
     "name": "stdout",
     "output_type": "stream",
     "text": [
      "Person1은 다음 주에 비즈니스 계약을 체결하기 위해 뉴욕에 갈 예정이며, Person2에게 추천을 요청합니다. Person2는 유엔 본부를 방문하고 브로드웨이로 걸어가는 것을 제안합니다. Person1은 또한 뉴욕의 대학과 그들의 과정에 대해 배우고 싶어하며, Person2는 콜롬비아 대학과 뉴욕 대학을 추천합니다. Person1은 도시 지도를 요청하고 Person2는 하나를 제공하겠다고 제안하지만, 더 최신 지도와 정보를 위해 기차역 근처의 관광 정보 센터를 방문하는 것을 제안합니다.\n"
     ]
    },
    {
     "name": "stderr",
     "output_type": "stream",
     "text": [
      " 70%|███████   | 350/499 [28:23<14:27,  5.83s/it]"
     ]
    },
    {
     "name": "stdout",
     "output_type": "stream",
     "text": [
      "#Person1#이 필름이 현상될 수 있는지 물었고 #Person2#는 가능하다고 말했습니다. #Person1#은 얼마나 걸릴지 물었고 #Person2#는 6시간이 걸리지만 급하면 3시간 안에 할 수 있다고 말했습니다. #Person1#은 필요하지 않다고 말하고 내일 다시 오겠다고 말했습니다.\n"
     ]
    },
    {
     "name": "stderr",
     "output_type": "stream",
     "text": [
      " 70%|███████   | 351/499 [28:52<31:21, 12.72s/it]"
     ]
    },
    {
     "name": "stdout",
     "output_type": "stream",
     "text": [
      "\n",
      "\n",
      "\n",
      "\n",
      "\n",
      "\n",
      "\n",
      "\n",
      "\n",
      "\n",
      "\n",
      "\n",
      "\n",
      "\n",
      "\n",
      "\n",
      "\n",
      "\n",
      "\n",
      "\n",
      "\n",
      "\n",
      "\n",
      "\n",
      "\n",
      "\n",
      "\n",
      "\n",
      "\n",
      "\n",
      "\n",
      "\n",
      "\n",
      "\n",
      "\n",
      "\n",
      "\n",
      "\n",
      "\n",
      "\n",
      "\n",
      "\n",
      "\n",
      "\n",
      "\n",
      "\n",
      "\n",
      "\n",
      "\n",
      "\n",
      "\n",
      "\n",
      "\n",
      "\n",
      "\n",
      "\n",
      "\n",
      "\n",
      "\n",
      "\n",
      "\n",
      "\n",
      "\n",
      "\n",
      "\n",
      "\n",
      "\n",
      "\n",
      "\n",
      "\n",
      "\n",
      "\n",
      "\n",
      "\n",
      "\n",
      "\n",
      "\n",
      "\n",
      "\n",
      "\n",
      "\n",
      "\n",
      "\n",
      "\n",
      "\n",
      "\n",
      "\n",
      "\n",
      "\n",
      "\n",
      "\n",
      "\n",
      "\n",
      "\n",
      "\n",
      "\n",
      "\n",
      "\n",
      "\n",
      "\n",
      "\n",
      "\n",
      "\n",
      "\n",
      "\n",
      "\n",
      "\n",
      "\n",
      "\n",
      "\n",
      "\n",
      "\n",
      "\n",
      "\n",
      "\n",
      "\n",
      "\n",
      "\n",
      "\n",
      "\n",
      "\n",
      "\n",
      "\n",
      "\n",
      "\n",
      "\n",
      "\n",
      "\n",
      "\n",
      "\n",
      "\n",
      "\n",
      "\n",
      "\n",
      "\n",
      "\n",
      "\n",
      "\n",
      "\n",
      "\n",
      "\n",
      "\n",
      "\n",
      "\n",
      "\n",
      "\n",
      "\n",
      "\n",
      "\n",
      "\n",
      "\n",
      "\n",
      "\n",
      "\n",
      "\n",
      "\n",
      "\n",
      "\n",
      "\n",
      "\n",
      "\n",
      "\n",
      "\n",
      "\n",
      "\n",
      "\n",
      "\n",
      "\n",
      "\n",
      "\n",
      "\n",
      "\n",
      "\n",
      "\n",
      "\n",
      "\n",
      "\n",
      "\n",
      "\n",
      "\n",
      "\n",
      "\n",
      "\n",
      "\n",
      "\n",
      "\n",
      "\n",
      "\n",
      "\n",
      "\n",
      "\n",
      "\n",
      "\n",
      "\n",
      "\n",
      "\n",
      "\n",
      "\n",
      "\n",
      "\n",
      "\n",
      "\n",
      "\n",
      "\n",
      "\n",
      "\n",
      "\n",
      "\n",
      "\n",
      "\n",
      "\n",
      "\n",
      "\n",
      "\n",
      "\n",
      "\n",
      "\n",
      "\n",
      "\n",
      "\n",
      "\n",
      "\n",
      "\n",
      "\n",
      "\n",
      "\n",
      "\n",
      "\n",
      "\n",
      "\n",
      "\n",
      "\n",
      "\n",
      "\n",
      "\n",
      "\n",
      "\n",
      "\n",
      "\n",
      "\n",
      "\n",
      "\n",
      "\n",
      "\n",
      "\n",
      "\n",
      "\n",
      "\n",
      "\n",
      "\n",
      "\n",
      "\n",
      "\n",
      "\n",
      "\n",
      "\n",
      "\n"
     ]
    },
    {
     "name": "stderr",
     "output_type": "stream",
     "text": [
      " 71%|███████   | 352/499 [28:54<23:19,  9.52s/it]"
     ]
    },
    {
     "name": "stdout",
     "output_type": "stream",
     "text": [
      "Person1이 북경대학교로 가는 길을 Person2에게 묻지만, Person2는 그 지역에 익숙하지 않아 Person1에게 근처 경찰관에게 도움을 요청하라고 제안합니다.\n"
     ]
    },
    {
     "name": "stderr",
     "output_type": "stream",
     "text": [
      " 71%|███████   | 353/499 [28:56<17:23,  7.15s/it]"
     ]
    },
    {
     "name": "stdout",
     "output_type": "stream",
     "text": [
      "대화는 날씨, 뉴스, 스포츠에 관한 것입니다. 화자는 은행 강도들과 스포츠 점수에 대해 묻고 있습니다.\n"
     ]
    },
    {
     "name": "stderr",
     "output_type": "stream",
     "text": [
      " 71%|███████   | 354/499 [28:57<13:21,  5.52s/it]"
     ]
    },
    {
     "name": "stdout",
     "output_type": "stream",
     "text": [
      "Person1은 컴퓨터 게임이 폭력적이고 역겨워서 싫어하지만, Person2는 좋은 게임도 있고 교육적일 수도 있다고 주장합니다.\n"
     ]
    },
    {
     "name": "stderr",
     "output_type": "stream",
     "text": [
      " 71%|███████   | 355/499 [28:59<10:22,  4.32s/it]"
     ]
    },
    {
     "name": "stdout",
     "output_type": "stream",
     "text": [
      "Person1과 Person2는 맥주를 마시는 대신에 친구인 Mary와 Sally와 함께 체육관에 가서 테니스를 치기로 결정했습니다.\n"
     ]
    },
    {
     "name": "stderr",
     "output_type": "stream",
     "text": [
      " 71%|███████▏  | 356/499 [29:01<08:36,  3.61s/it]"
     ]
    },
    {
     "name": "stdout",
     "output_type": "stream",
     "text": [
      "Person1과 Person2는 레스토랑에서 무엇을 주문할지 논의하고 있습니다. 그들은 닭발과 하우스 레드 와인 한 병을 주문하기로 결정합니다.\n"
     ]
    },
    {
     "name": "stderr",
     "output_type": "stream",
     "text": [
      " 72%|███████▏  | 357/499 [29:02<06:56,  2.93s/it]"
     ]
    },
    {
     "name": "stdout",
     "output_type": "stream",
     "text": [
      "\n",
      "#Person2#는 지난 겨울 중국을 여행하는 몇몇 외국 관광객들을 안내한 경험이 있습니다.\n"
     ]
    },
    {
     "name": "stderr",
     "output_type": "stream",
     "text": [
      " 72%|███████▏  | 358/499 [29:04<05:47,  2.47s/it]"
     ]
    },
    {
     "name": "stdout",
     "output_type": "stream",
     "text": [
      "#Person2#는 3박 숙박에 대한 예약과 함께 몇 가지 양식을 작성하라는 요청을 받았습니다.\n"
     ]
    },
    {
     "name": "stderr",
     "output_type": "stream",
     "text": [
      " 72%|███████▏  | 359/499 [29:08<07:03,  3.02s/it]"
     ]
    },
    {
     "name": "stdout",
     "output_type": "stream",
     "text": [
      "Person2가 Mark에게 전화를 걸어 왜 나타나지 않았는지 묻습니다. Mark는 전날 밤 파티에서 숙취가 있었다고 설명합니다. Person2는 동료의 딸의 출생에 대한 사무실 소문을 Mark에게 업데이트합니다. 그들은 내일 출생을 축하하기로 계획합니다.\n"
     ]
    },
    {
     "name": "stderr",
     "output_type": "stream",
     "text": [
      " 72%|███████▏  | 360/499 [29:13<08:35,  3.71s/it]"
     ]
    },
    {
     "name": "stdout",
     "output_type": "stream",
     "text": [
      "Person1이 오늘 밤 나가자고 Person2에게 제안하지만 Person2는 거절합니다. Person1은 내일 밤 나가자고 제안하지만 Person2는 다시 거절합니다. Person1은 영화를 보러 가자고 제안하고 Person2는 동의합니다. Person1은 전화번호를 요청하지만 Person2는 남편의 불만을 이유로 거절합니다.\n"
     ]
    },
    {
     "name": "stderr",
     "output_type": "stream",
     "text": [
      " 72%|███████▏  | 361/499 [29:16<08:03,  3.51s/it]"
     ]
    },
    {
     "name": "stdout",
     "output_type": "stream",
     "text": [
      "Person1과 Person2는 야구 경기를 보고 점수와 선수들에 대해 토론하고 있습니다. 그들은 볼티모어가 이기고 있고 팬들이 훌륭하다고 언급합니다. Person1은 야구가 미국의 국민 스포츠라고 말합니다.\n"
     ]
    },
    {
     "name": "stderr",
     "output_type": "stream",
     "text": [
      " 73%|███████▎  | 362/499 [29:17<06:14,  2.74s/it]"
     ]
    },
    {
     "name": "stdout",
     "output_type": "stream",
     "text": [
      "#Person1#은 #Person2#를 도왔고, 둘 다 감사를 표현했습니다.\n"
     ]
    },
    {
     "name": "stderr",
     "output_type": "stream",
     "text": [
      " 73%|███████▎  | 363/499 [29:23<08:01,  3.54s/it]"
     ]
    },
    {
     "name": "stdout",
     "output_type": "stream",
     "text": [
      "#Person2#는 유럽, 북미, 중국으로 구리와 석탄을 수출하고, 베네수엘라에서 석유를 수입하며, 인접 국가로부터 철을 수입하고, 알루미늄을 수입합니다. #Person2#의 나라는 최근에 금 매장지를 발견했고, 정부는 자금을 확보하기 위해 석유 시추에 집중하고 있습니다.\n"
     ]
    },
    {
     "name": "stderr",
     "output_type": "stream",
     "text": [
      " 73%|███████▎  | 364/499 [29:28<08:59,  4.00s/it]"
     ]
    },
    {
     "name": "stdout",
     "output_type": "stream",
     "text": [
      "Person1은 미술관에 가는 것을 좋아합니다, 특히 추상 미술 전시회가 있을 때. Person2는 예술에 그렇게 관심이 많지는 않지만 일년에 한두 번 정도 미술 전시회에 가는 것을 좋아합니다. 그들은 내일 12시 30분에 국립 미술관에서 그리스와 로마 조각 전시회에 갈 계획입니다.\n"
     ]
    },
    {
     "name": "stderr",
     "output_type": "stream",
     "text": [
      " 73%|███████▎  | 365/499 [29:53<23:07, 10.35s/it]"
     ]
    },
    {
     "name": "stdout",
     "output_type": "stream",
     "text": [
      "\n",
      "\n",
      "\n",
      "\n",
      "\n",
      "\n",
      "\n",
      "\n",
      "\n",
      "\n",
      "\n",
      "\n",
      "\n",
      "\n",
      "\n",
      "\n",
      "\n",
      "\n",
      "\n",
      "\n",
      "\n",
      "\n",
      "\n",
      "\n",
      "\n",
      "\n",
      "\n",
      "\n",
      "\n",
      "\n",
      "\n",
      "\n",
      "\n",
      "\n",
      "\n",
      "\n",
      "\n",
      "\n",
      "\n",
      "\n",
      "\n",
      "\n",
      "\n",
      "\n",
      "\n",
      "\n",
      "\n",
      "\n",
      "\n",
      "\n",
      "\n",
      "\n",
      "\n",
      "\n",
      "\n",
      "\n",
      "\n",
      "\n",
      "\n",
      "\n",
      "\n",
      "\n",
      "\n",
      "\n",
      "\n",
      "\n",
      "\n",
      "\n",
      "\n",
      "\n",
      "\n",
      "\n",
      "\n",
      "\n",
      "\n",
      "\n",
      "\n",
      "\n",
      "\n",
      "\n",
      "\n",
      "\n",
      "\n",
      "\n",
      "\n",
      "\n",
      "\n",
      "\n",
      "\n",
      "\n",
      "\n",
      "\n",
      "\n",
      "\n",
      "\n",
      "\n",
      "\n",
      "\n",
      "\n",
      "\n",
      "\n",
      "\n",
      "\n",
      "\n",
      "\n",
      "\n",
      "\n",
      "\n",
      "\n",
      "\n",
      "\n",
      "\n",
      "\n",
      "\n",
      "\n",
      "\n",
      "\n",
      "\n",
      "\n",
      "\n",
      "\n",
      "\n",
      "\n",
      "\n",
      "\n",
      "\n",
      "\n",
      "\n",
      "\n",
      "\n",
      "\n",
      "\n",
      "\n",
      "\n",
      "\n",
      "\n",
      "\n",
      "\n",
      "\n",
      "\n",
      "\n",
      "\n",
      "\n",
      "\n",
      "\n",
      "\n",
      "\n",
      "\n",
      "\n",
      "\n",
      "\n",
      "\n",
      "\n",
      "\n",
      "\n",
      "\n",
      "\n",
      "\n",
      "\n",
      "\n",
      "\n",
      "\n",
      "\n",
      "\n",
      "\n",
      "\n",
      "\n",
      "\n",
      "\n",
      "\n",
      "\n",
      "\n",
      "\n",
      "\n",
      "\n",
      "\n",
      "\n",
      "\n",
      "\n",
      "\n",
      "\n",
      "\n",
      "\n",
      "\n",
      "\n",
      "\n",
      "\n",
      "\n",
      "\n",
      "\n",
      "\n",
      "\n",
      "\n",
      "\n",
      "\n",
      "\n",
      "\n",
      "\n",
      "\n",
      "\n",
      "\n",
      "\n",
      "\n",
      "\n",
      "\n",
      "\n",
      "\n",
      "\n",
      "\n",
      "\n",
      "\n",
      "\n",
      "\n",
      "\n",
      "\n",
      "\n",
      "\n",
      "\n",
      "\n",
      "\n",
      "\n",
      "\n",
      "\n",
      "\n",
      "\n",
      "\n",
      "\n",
      "\n",
      "\n",
      "\n",
      "\n",
      "\n",
      "\n",
      "\n",
      "\n",
      "\n",
      "\n",
      "\n",
      "\n",
      "\n",
      "\n",
      "\n",
      "\n",
      "\n",
      "\n",
      "\n",
      "\n",
      "\n",
      "\n",
      "\n",
      "\n",
      "\n",
      "\n",
      "\n",
      "\n",
      "\n",
      "\n"
     ]
    },
    {
     "name": "stderr",
     "output_type": "stream",
     "text": [
      " 73%|███████▎  | 366/499 [29:58<19:38,  8.86s/it]"
     ]
    },
    {
     "name": "stdout",
     "output_type": "stream",
     "text": [
      "#Person1#과 #Person2#는 볼링의 규칙에 대해 토론하고 있습니다. #Person1#은 게임이 10개의 프레임으로 구성되어 있으며, 각 플레이어는 프레임당 두 번의 던지기 기회를 갖는다고 설명합니다. #Person2#는 \"라운드\"와 \"프레임\"의 차이점에 대한 설명을 요청합니다.\n"
     ]
    },
    {
     "name": "stderr",
     "output_type": "stream",
     "text": [
      " 74%|███████▎  | 367/499 [30:07<19:09,  8.71s/it]"
     ]
    },
    {
     "name": "stdout",
     "output_type": "stream",
     "text": [
      "#Person2#은 은행과 중개 회사 간의 자금 이체를 허용하는 새로운 서비스에 관심이 있습니다. 그들은 또한 주식 투자자에게 추가 혜택이 있는지 알고 싶어합니다. #Person1#은 최신 주식 시장 정보와 투자 계획 조언을 제공하는 맞춤형 상담 서비스가 가능하다고 확인했습니다. #Person2#는 상담 서비스가 전화 또는 인터넷을 통해 제공되는지 묻고 #Person1#은 그것이 가능하다고 확인했습니다.\n"
     ]
    },
    {
     "name": "stderr",
     "output_type": "stream",
     "text": [
      " 74%|███████▎  | 368/499 [30:09<15:03,  6.89s/it]"
     ]
    },
    {
     "name": "stdout",
     "output_type": "stream",
     "text": [
      "Person1은 30분 후에 체크아웃을 하고 짐을 맡겨야 합니다. Person2는 수수료와 보증금을 받고 짐을 보관해 주겠다고 제안하지만, Person1은 지불을 주저하고 있습니다.\n"
     ]
    },
    {
     "name": "stderr",
     "output_type": "stream",
     "text": [
      " 74%|███████▍  | 369/499 [30:19<16:39,  7.69s/it]"
     ]
    },
    {
     "name": "stdout",
     "output_type": "stream",
     "text": [
      "Person1이 그룹에 몇 명이 있는지 묻습니다, Person2는 세 명이라고 말합니다, Person1이 뷔페를 사용하고 있는지 묻습니다, Person2는 예라고 말합니다, Person1이 가격을 알려줍니다, Person2가 음식을 어디서 얻을 수 있는지 묻습니다, Person1이 그들을 테이블로 안내합니다, Person2가 음료에 대해 묻습니다, Person1은 소프트 드링크는 무료이지만 알코올은 한 잔에 10 위안이라고 말합니다.\n"
     ]
    },
    {
     "name": "stderr",
     "output_type": "stream",
     "text": [
      " 74%|███████▍  | 370/499 [30:21<12:38,  5.88s/it]"
     ]
    },
    {
     "name": "stdout",
     "output_type": "stream",
     "text": [
      "Person1은 유학 중 개인 대출을 제안하고 자격 요건을 설명합니다. Person2는 대출에 관심이 있고 부모님과 논의할 계획입니다.\n"
     ]
    },
    {
     "name": "stderr",
     "output_type": "stream",
     "text": [
      " 74%|███████▍  | 371/499 [30:25<11:40,  5.47s/it]"
     ]
    },
    {
     "name": "stdout",
     "output_type": "stream",
     "text": [
      "#Person1#은 #Person2#에게 영어 노래가 있는 책이 있는지 물었고, #Person2#는 그런 책이 있다고 대답했습니다. #Person1#은 #Person2#에게 감사했고, #Person2#는 영어 노래의 가수를 찾는 데 시간이 걸릴 수도 있다고 대답했습니다.\n"
     ]
    },
    {
     "name": "stderr",
     "output_type": "stream",
     "text": [
      " 75%|███████▍  | 372/499 [30:30<11:11,  5.29s/it]"
     ]
    },
    {
     "name": "stdout",
     "output_type": "stream",
     "text": [
      "#Person1#은 #Person2#를 자신의 사무실로 초대하여 그의 글쓰기 경력에 대해 물었습니다. #Person2#는 그가 몇몇 주요 신문에 글을 썼으며 현재 첫 번째 소설을 작업 중이라고 말했습니다. #Person1#은 #Person2#가 왜 그 직업을 신청했는지 물었습니다.\n"
     ]
    },
    {
     "name": "stderr",
     "output_type": "stream",
     "text": [
      " 75%|███████▍  | 373/499 [30:35<10:47,  5.14s/it]"
     ]
    },
    {
     "name": "stdout",
     "output_type": "stream",
     "text": [
      "Person1과 Person2는 면접 후속 조치에 대해 논의합니다. 그들은 회사에 짧은 이메일을 보내기로 결정하지만, Person2는 Person1에게 예의 바르고 긴 이메일을 보내지 말라고 상기시킵니다. 그들은 이메일을 약 100단어로 유지하고 응답을 확인하기로 합의합니다.\n"
     ]
    },
    {
     "name": "stderr",
     "output_type": "stream",
     "text": [
      " 75%|███████▍  | 374/499 [30:41<11:30,  5.52s/it]"
     ]
    },
    {
     "name": "stdout",
     "output_type": "stream",
     "text": [
      "Person1이 Person2의 집을 둘러보길 요청하고, Person2는 동의합니다. 그들은 마당을 걸으며 Person1은 그 크기에 대해 언급합니다. 그들은 나무 가지에 매달린 옥수수 수염을 발견하고 Person2는 그것들이 수확되어 말리기 위해 매달려있다고 설명합니다. Person1은 장식을 칭찬하고 그것이 집의 부를 보여준다고 언급합니다.\n"
     ]
    },
    {
     "name": "stderr",
     "output_type": "stream",
     "text": [
      " 75%|███████▌  | 375/499 [30:53<15:30,  7.51s/it]"
     ]
    },
    {
     "name": "stdout",
     "output_type": "stream",
     "text": [
      "Person1은 40분 후에 호텔에서 체크아웃할 예정입니다. Person2는 준비가 되어 있습니다. Person1은 뉴욕에서 하루를 시작하는 것에 대해 흥분하고 있습니다. Person1은 더 많은 명소를 관광하는 동안 짐을 보관하는 방법에 대해 묻습니다. Person2는 짐 보관소에 짐을 보관할 수 있다고 제안하지만 보증금이 필요합니다. Person1은 짐이 보증금으로 사용될 수 있는지 묻지만 Person2는 신용카드가 필요하다고 말합니다. Person1은 이에 대해 생각해 보겠다고 말하고 Person2는 체크아웃 전에 시간이 얼마 남지 않았다고 상기시킵니다.\n"
     ]
    },
    {
     "name": "stderr",
     "output_type": "stream",
     "text": [
      " 75%|███████▌  | 376/499 [30:59<14:09,  6.90s/it]"
     ]
    },
    {
     "name": "stdout",
     "output_type": "stream",
     "text": [
      "Person1과 Person2는 무료로 글쓰기 실력을 향상시켜준다는 새로운 웹사이트에 대해 논의하고 있습니다. Person2는 웹사이트에 가입하려고 하지만, Person1은 회의적이며 Person2에게 사기가 될 수 있다고 경고합니다. Person1은 결국 Person2의 컴퓨터를 꺼서 사기를 당하지 않도록 합니다.\n"
     ]
    },
    {
     "name": "stderr",
     "output_type": "stream",
     "text": [
      " 76%|███████▌  | 377/499 [31:04<13:14,  6.51s/it]"
     ]
    },
    {
     "name": "stdout",
     "output_type": "stream",
     "text": [
      "교장은 새로운 실험실 건물을 지을 계획일 수 있지만, 교사들은 아직 알려지지 않았습니다. 현재 실험실 건물은 교육 수요가 증가함에 따라 너무 작고 상태가 좋지 않아 충족할 수 없습니다. 주요 문제는 돈이지만 교장은 지방 정부에 도움을 요청할 수 있습니다. 학기말 전에 결정이 내려질 가능성이 높습니다.\n"
     ]
    },
    {
     "name": "stderr",
     "output_type": "stream",
     "text": [
      " 76%|███████▌  | 378/499 [31:07<10:30,  5.21s/it]"
     ]
    },
    {
     "name": "stdout",
     "output_type": "stream",
     "text": [
      "Person1은 은행에서 새로 받은 신용카드를 사용하기 위해 고기를 샀습니다. Person2는 그들에게 조심하라고 경고하고 그들이 지출한 돈을 갚아야 한다고 상기시킵니다.\n"
     ]
    },
    {
     "name": "stderr",
     "output_type": "stream",
     "text": [
      " 76%|███████▌  | 379/499 [31:12<10:45,  5.38s/it]"
     ]
    },
    {
     "name": "stdout",
     "output_type": "stream",
     "text": [
      "Person1은 내일 방문할 두 마을 중 하나를 선택하도록 Person2에게 요청합니다. 하나는 베이징에서 50킬로미터 떨어진 곳에 있고 다른 하나는 외딴 산악 지역에 100킬로미터 떨어져 있습니다. Person2는 산 마을을 선택하고, 그들은 아침 일찍 출발하여 저녁에 돌아올 계획입니다.\n"
     ]
    },
    {
     "name": "stderr",
     "output_type": "stream",
     "text": [
      " 76%|███████▌  | 380/499 [31:13<07:56,  4.00s/it]"
     ]
    },
    {
     "name": "stdout",
     "output_type": "stream",
     "text": [
      "\n",
      "Vet, a mother of one, shares her experiences and advice for young people.\n"
     ]
    },
    {
     "name": "stderr",
     "output_type": "stream",
     "text": [
      " 76%|███████▋  | 381/499 [31:15<06:21,  3.24s/it]"
     ]
    },
    {
     "name": "stdout",
     "output_type": "stream",
     "text": [
      "\n",
      "Person2는 10살 때부터 우표 수집에 관심이 있었고, 우표의 역사에 대한 흥미로운 사실을 공유합니다.\n"
     ]
    },
    {
     "name": "stderr",
     "output_type": "stream",
     "text": [
      " 77%|███████▋  | 382/499 [31:23<09:21,  4.80s/it]"
     ]
    },
    {
     "name": "stdout",
     "output_type": "stream",
     "text": [
      "톰은 고등학교에서 웹 디자인 회사를 시작했고 그 경험에서 많은 것을 배웠습니다. 그는 이제 50명의 투자자들로부터 1800만 달러를 모금한 친환경 제품을 판매하는 회사를 소유하고 있습니다. 그는 회사의 6%를 소유하고 있으며 모든 직원에게 주식을 제공합니다. 그는 완전히 녹색은 아니지만 자전거를 많이 타는 등 간단한 일을 합니다. 그는 실수를 통해 배우고 성장하는 좋은 방법이라고 생각합니다.\n"
     ]
    },
    {
     "name": "stderr",
     "output_type": "stream",
     "text": [
      " 77%|███████▋  | 383/499 [31:37<14:24,  7.45s/it]"
     ]
    },
    {
     "name": "stdout",
     "output_type": "stream",
     "text": [
      "40세 남성이 북런던의 보행자 지하도에서 숨진 채 발견되었으며, 경찰은 그의 죽음을 살인 사건으로 조사하고 있습니다. 이 남성은 새벽 1시 30분에 클럽을 떠난 것으로 마지막으로 목격되었으며, 새벽 2시 15분에 여러 차례 머리에 부상을 입은 채 발견되었습니다. 경찰은 공격 현장을 목격했을 가능성이 있는 술에 취한 남성과 두 명의 여성을 찾고 있습니다. 클럽과 지하도 사이의 거리는 약 50미터입니다. 경찰은 당시 그 지역에 있던 사람들을 아직 확인하지 못하고 있습니다.\n"
     ]
    },
    {
     "name": "stderr",
     "output_type": "stream",
     "text": [
      " 77%|███████▋  | 384/499 [31:39<11:20,  5.92s/it]"
     ]
    },
    {
     "name": "stdout",
     "output_type": "stream",
     "text": [
      "셰리는 다음 여름에 친구의 결혼식에 참석하기 위해 퀘벡으로 갈 예정이며, 관광 명소를 보고 싶어합니다. 밥은 그녀에게 가기 전에 프랑스어를 연습하라고 조언합니다.\n"
     ]
    },
    {
     "name": "stderr",
     "output_type": "stream",
     "text": [
      " 77%|███████▋  | 385/499 [31:41<09:16,  4.88s/it]"
     ]
    },
    {
     "name": "stdout",
     "output_type": "stream",
     "text": [
      "Person1과 Person2는 수영장에 가고 그릴에서 저녁을 먹는 등 하루 계획에 대해 논의합니다. 그들은 각자의 임무를 완료한 후 6시에 그릴에서 만나기로 합의합니다.\n"
     ]
    },
    {
     "name": "stderr",
     "output_type": "stream",
     "text": [
      " 77%|███████▋  | 386/499 [31:43<07:08,  3.79s/it]"
     ]
    },
    {
     "name": "stdout",
     "output_type": "stream",
     "text": [
      "#Person1#은 여전히 고통받고 있으며 #Person2#는 그들에게 하루에 세 번 약을 복용하도록 상기시킵니다.\n"
     ]
    },
    {
     "name": "stderr",
     "output_type": "stream",
     "text": [
      " 78%|███████▊  | 387/499 [31:45<06:27,  3.46s/it]"
     ]
    },
    {
     "name": "stdout",
     "output_type": "stream",
     "text": [
      "Person1은 새로운 컴퓨터를 사기 위해 200 위안을 필요로 하고 Person2에게 대출을 요청합니다. Person2는 돈을 빌려주기로 동의하고 Person1은 나중에 돈을 갚을 것을 약속합니다.\n"
     ]
    },
    {
     "name": "stderr",
     "output_type": "stream",
     "text": [
      " 78%|███████▊  | 388/499 [31:47<05:07,  2.77s/it]"
     ]
    },
    {
     "name": "stdout",
     "output_type": "stream",
     "text": [
      "#Person1#은 자신의 필체에 대해 좌절하고 있고 #Person2#는 그들에게 계속 연습하라고 격려합니다.\n"
     ]
    },
    {
     "name": "stderr",
     "output_type": "stream",
     "text": [
      " 78%|███████▊  | 389/499 [32:11<16:44,  9.13s/it]"
     ]
    },
    {
     "name": "stdout",
     "output_type": "stream",
     "text": [
      "#Person2#은 #Person1#의 속눈썹을 말리고 있습니다.\n",
      "\n",
      "\n",
      "\n",
      "\n",
      "\n",
      "\n",
      "\n",
      "\n",
      "\n",
      "\n",
      "\n",
      "\n",
      "\n",
      "\n",
      "\n",
      "\n",
      "\n",
      "\n",
      "\n",
      "\n",
      "\n",
      "\n",
      "\n",
      "\n",
      "\n",
      "\n",
      "\n",
      "\n",
      "\n",
      "\n",
      "\n",
      "\n",
      "\n",
      "\n",
      "\n",
      "\n",
      "\n",
      "\n",
      "\n",
      "\n",
      "\n",
      "\n",
      "\n",
      "\n",
      "\n",
      "\n",
      "\n",
      "\n",
      "\n",
      "\n",
      "\n",
      "\n",
      "\n",
      "\n",
      "\n",
      "\n",
      "\n",
      "\n",
      "\n",
      "\n",
      "\n",
      "\n",
      "\n",
      "\n",
      "\n",
      "\n",
      "\n",
      "\n",
      "\n",
      "\n",
      "\n",
      "\n",
      "\n",
      "\n",
      "\n",
      "\n",
      "\n",
      "\n",
      "\n",
      "\n",
      "\n",
      "\n",
      "\n",
      "\n",
      "\n",
      "\n",
      "\n",
      "\n",
      "\n",
      "\n",
      "\n",
      "\n",
      "\n",
      "\n",
      "\n",
      "\n",
      "\n",
      "\n",
      "\n",
      "\n",
      "\n",
      "\n",
      "\n",
      "\n",
      "\n",
      "\n",
      "\n",
      "\n",
      "\n",
      "\n",
      "\n",
      "\n",
      "\n",
      "\n",
      "\n",
      "\n",
      "\n",
      "\n",
      "\n",
      "\n",
      "\n",
      "\n",
      "\n",
      "\n",
      "\n",
      "\n",
      "\n",
      "\n",
      "\n",
      "\n",
      "\n",
      "\n",
      "\n",
      "\n",
      "\n",
      "\n",
      "\n",
      "\n",
      "\n",
      "\n",
      "\n",
      "\n",
      "\n",
      "\n",
      "\n",
      "\n",
      "\n",
      "\n",
      "\n",
      "\n",
      "\n",
      "\n",
      "\n",
      "\n",
      "\n",
      "\n",
      "\n",
      "\n",
      "\n",
      "\n",
      "\n",
      "\n",
      "\n",
      "\n",
      "\n",
      "\n",
      "\n",
      "\n",
      "\n",
      "\n",
      "\n",
      "\n",
      "\n",
      "\n",
      "\n",
      "\n",
      "\n",
      "\n",
      "\n",
      "\n",
      "\n",
      "\n",
      "\n",
      "\n",
      "\n",
      "\n",
      "\n",
      "\n",
      "\n",
      "\n",
      "\n",
      "\n",
      "\n",
      "\n",
      "\n",
      "\n",
      "\n",
      "\n",
      "\n",
      "\n",
      "\n",
      "\n",
      "\n",
      "\n",
      "\n",
      "\n",
      "\n",
      "\n",
      "\n",
      "\n",
      "\n",
      "\n",
      "\n",
      "\n",
      "\n",
      "\n",
      "\n",
      "\n",
      "\n",
      "\n",
      "\n",
      "\n",
      "\n",
      "\n",
      "\n",
      "\n",
      "\n",
      "\n",
      "\n",
      "\n",
      "\n",
      "\n",
      "\n",
      "\n",
      "\n",
      "\n",
      "\n",
      "\n"
     ]
    },
    {
     "name": "stderr",
     "output_type": "stream",
     "text": [
      " 78%|███████▊  | 390/499 [32:18<15:48,  8.70s/it]"
     ]
    },
    {
     "name": "stdout",
     "output_type": "stream",
     "text": [
      "Person2는 운전 수업에 관심이 있고 가능한 옵션에 대해 묻습니다. Person1은 토요일과 일요일 오전 8시에 시작하는 주말 코스가 있으며, 강사들이 경험이 풍부하고 높은 자격을 갖추고 있다고 설명합니다. Person2는 수업의 기간과 차당 학생 수에 대해 묻고, Person1은 정보를 제공합니다. Person2는 옵션에 만족하며 Person1에게 감사합니다.\n"
     ]
    },
    {
     "name": "stderr",
     "output_type": "stream",
     "text": [
      " 78%|███████▊  | 391/499 [32:23<13:29,  7.50s/it]"
     ]
    },
    {
     "name": "stdout",
     "output_type": "stream",
     "text": [
      "Tina는 7살 때부터 8년 동안 피아노 레슨을 받아왔습니다. 그녀는 여전히 매주 토요일 같은 선생님을 봅니다. Tina의 선생님은 매우 훌륭하고 많은 상을 받았습니다. Tina는 이번 토요일에 Person1을 그녀의 선생님께 소개할 것입니다.\n"
     ]
    },
    {
     "name": "stderr",
     "output_type": "stream",
     "text": [
      " 79%|███████▊  | 392/499 [32:27<11:33,  6.48s/it]"
     ]
    },
    {
     "name": "stdout",
     "output_type": "stream",
     "text": [
      "Person2는 많은 경험을 가지고 있으며 혼자 또는 팀으로 잘 일할 수 있지만, 처음에는 긴장하고 자신의 능력에 대해 확신하지 못할 때가 있습니다. 그들은 안정적인 수입과 직업을 더 배우기를 원합니다. Person1은 Person2가 해당 직책에 잘 맞는다고 생각합니다.\n"
     ]
    },
    {
     "name": "stderr",
     "output_type": "stream",
     "text": [
      " 79%|███████▉  | 393/499 [32:30<09:48,  5.55s/it]"
     ]
    },
    {
     "name": "stdout",
     "output_type": "stream",
     "text": [
      "스테파니는 몸이 좋지 않고 머리가 아프다. 그녀는 내일 미스 젠킨스에게 제출해야 하는 보고서 때문에 늦게까지 일하고 있었다. 조지는 그녀에게 마감일을 연장하는 것에 대해 미스 젠킨스와 상의할 것을 제안한다.\n"
     ]
    },
    {
     "name": "stderr",
     "output_type": "stream",
     "text": [
      " 79%|███████▉  | 394/499 [32:47<15:17,  8.74s/it]"
     ]
    },
    {
     "name": "stdout",
     "output_type": "stream",
     "text": [
      "Person1과 Person2는 얼어붙은 호수와 많은 사람들이 그 위에서 스케이트를 타는 사실에 대해 논의하고 있습니다. Person2는 그들과 함께하고 싶지 않고 그들이 도시로 돌아갈 수 있는 시기를 알고 싶어합니다. Person1은 1월 3일까지 떠날 수 없다고 언급합니다. 왜냐하면 그들의 아버지가 시골에서 크리스마스를 보내기로 했기 때문입니다. Person2는 파티를 위해 뉴욕에 있기를 원하지만 Person1은 그들의 아버지가 열심히 일하고 조용한 크리스마스를 받을 자격이 있다고 상기시킵니다. Person2는 흥분이 부족하다고 불평하지만 Person1은 그들에게 진정하라고 말합니다.\n"
     ]
    },
    {
     "name": "stderr",
     "output_type": "stream",
     "text": [
      " 79%|███████▉  | 395/499 [32:51<12:48,  7.39s/it]"
     ]
    },
    {
     "name": "stdout",
     "output_type": "stream",
     "text": [
      "Bob은 지난 주말에 친구 집에 가서 댄스 파티에 갔습니다. 너무 붐볐기 때문에 그는 그것을 즐기지 않았습니다. Person1은 토요일에 TV를 보고 쇼핑을 갔고 일요일에 테니스를 쳤습니다. 그들은 이번 주말에 함께 테니스를 칠 것입니다.\n"
     ]
    },
    {
     "name": "stderr",
     "output_type": "stream",
     "text": [
      " 79%|███████▉  | 396/499 [33:00<13:28,  7.85s/it]"
     ]
    },
    {
     "name": "stdout",
     "output_type": "stream",
     "text": [
      "Person1이 Person2에게 50달러를 빌려달라고 부탁하지만, Person2는 Person1이 언제 돈을 갚을지 묻습니다. Person1은 일자리가 없다고 불평하지만, 찾고 있다고 말합니다. Person2는 집에 가자고 제안하지만, Person1은 아버지의 농장에서 일하고 싶지 않다고 말합니다. Person2는 행운을 가져다 줄 것이라고 기대하며 Person1에게 돈을 빌려주기로 합니다. Person1은 Person2에게 감사합니다.\n"
     ]
    },
    {
     "name": "stderr",
     "output_type": "stream",
     "text": [
      " 80%|███████▉  | 397/499 [33:09<13:53,  8.17s/it]"
     ]
    },
    {
     "name": "stdout",
     "output_type": "stream",
     "text": [
      "Person1이 Person2에게 재킷과 넥타이를 입으라고 요청하지만 Person2는 가지고 있지 않습니다. Person1은 Person2의 부재를 수용하기 위해 회의를 재예약하는 것을 제안합니다. Person2는 9시 30분에 회의를 재예약하는 것에 동의합니다. Person1은 회의에 참석할 사람이 몇 명인지 묻고, Person2는 15명이라고 말합니다. Person1은 가능한 한 빨리 돌아오겠다고 말합니다.\n"
     ]
    },
    {
     "name": "stderr",
     "output_type": "stream",
     "text": [
      " 80%|███████▉  | 398/499 [33:11<11:03,  6.57s/it]"
     ]
    },
    {
     "name": "stdout",
     "output_type": "stream",
     "text": [
      "아이들은 캠프에서 훌륭한 시간을 보냈습니다. 처음에는 향수병과 새로운 친구 사귀는 데 약간의 어려움이 있었지만, 그들은 관광, 스포츠, 바베큐 파티와 같은 다양한 활동을 즐겼습니다.\n"
     ]
    },
    {
     "name": "stderr",
     "output_type": "stream",
     "text": [
      " 80%|███████▉  | 399/499 [33:14<08:44,  5.25s/it]"
     ]
    },
    {
     "name": "stdout",
     "output_type": "stream",
     "text": [
      "Person2는 컴퓨터 프로그래밍 사업을 시작하려고 고려하고 있으며 휴가 동안 수업을 듣고 싶어합니다. Person1은 지원적이며 그들이 함께 가족 사업을 시작하도록 제안합니다.\n"
     ]
    },
    {
     "name": "stderr",
     "output_type": "stream",
     "text": [
      " 80%|████████  | 400/499 [33:15<06:32,  3.97s/it]"
     ]
    },
    {
     "name": "stdout",
     "output_type": "stream",
     "text": [
      "칼리나는 어제 차로 나무를 들이받았고, 이번 주만 결석할 예정이다.\n"
     ]
    },
    {
     "name": "stderr",
     "output_type": "stream",
     "text": [
      " 80%|████████  | 401/499 [33:17<05:46,  3.53s/it]"
     ]
    },
    {
     "name": "stdout",
     "output_type": "stream",
     "text": [
      "#Person2#는 집주인과 수리 비용에 대한 분쟁이 있습니다. 그들은 아파트에 손상을 입힌 파티를 가졌지만 집주인은 수리 비용을 포함하지 않고는 임대료 지불을 거부하고 있습니다.\n"
     ]
    },
    {
     "name": "stderr",
     "output_type": "stream",
     "text": [
      " 81%|████████  | 402/499 [33:19<04:51,  3.01s/it]"
     ]
    },
    {
     "name": "stdout",
     "output_type": "stream",
     "text": [
      "Person1은 일본 도쿄에서 온 신용장 편지를 Person2에게 도와줍니다. Person2는 신용장 편지에 서명하고 Person1에게 감사합니다.\n"
     ]
    },
    {
     "name": "stderr",
     "output_type": "stream",
     "text": [
      " 81%|████████  | 403/499 [33:21<04:09,  2.60s/it]"
     ]
    },
    {
     "name": "stdout",
     "output_type": "stream",
     "text": [
      "Person1이 지갑을 잃어버렸고 Person2는 지갑이 있는지 확인하기 위해 핫도그 가게로 돌아가는 것을 제안합니다.\n"
     ]
    },
    {
     "name": "stderr",
     "output_type": "stream",
     "text": [
      " 81%|████████  | 404/499 [33:21<03:14,  2.05s/it]"
     ]
    },
    {
     "name": "stdout",
     "output_type": "stream",
     "text": [
      "Person1이 지난주 설거지를 했고 Person2가 이번 주에 할 거예요.\n"
     ]
    },
    {
     "name": "stderr",
     "output_type": "stream",
     "text": [
      " 81%|████████  | 405/499 [33:25<04:08,  2.64s/it]"
     ]
    },
    {
     "name": "stdout",
     "output_type": "stream",
     "text": [
      "Person1이 Person2와 이야기할 수 있는지 물어보고, Person2는 동의합니다. Person1은 Person2에 대한 사랑을 표현하고 관계의 방향을 묻습니다. Person2는 Person1을 칭찬하고 그들을 사랑한다고 말합니다. Person1도 Person2에 대한 사랑을 표현합니다.\n"
     ]
    },
    {
     "name": "stderr",
     "output_type": "stream",
     "text": [
      " 81%|████████▏ | 406/499 [33:26<03:18,  2.13s/it]"
     ]
    },
    {
     "name": "stdout",
     "output_type": "stream",
     "text": [
      "#Person1#과 #Person2#는 실업이 주요 사회 문제라는 데 동의합니다.\n"
     ]
    },
    {
     "name": "stderr",
     "output_type": "stream",
     "text": [
      " 82%|████████▏ | 407/499 [33:37<07:12,  4.70s/it]"
     ]
    },
    {
     "name": "stdout",
     "output_type": "stream",
     "text": [
      "Person1이 Person2에게 다음 토요일 마스크 무도회에 입을 의상을 고르는 데 도와줄 수 있는지 물어봅니다. Person2는 쇼핑을 함께 가기로 동의하고 파티를 주최하는 사람이 누구인지 묻습니다. Person1은 사무실에서 파티를 좋아하는 여성 동료라고 말합니다. Person2는 카우걸이나 캐나다 경찰관 의상을 제안하고 의상을 찾는 데 도움을 주겠다고 제안합니다. 그들은 Person2의 집 근처 쇼핑 센터에서 오전 10시에 만나기로 합의합니다.\n"
     ]
    },
    {
     "name": "stderr",
     "output_type": "stream",
     "text": [
      " 82%|████████▏ | 408/499 [33:45<08:34,  5.66s/it]"
     ]
    },
    {
     "name": "stdout",
     "output_type": "stream",
     "text": [
      "Person1과 Person2는 베이징의 밤문화에 대해 토론하고 나이트클럽에 가기로 결정합니다. 그들은 음악과 춤을 즐기고, Person1은 록 앤 롤을 연주하는 \"Four and One\"이라는 밴드를 추천합니다. 그들은 빠른 음악과 느린 음악에 맞춰 춤을 추고, Person1은 디스코를 선호한다고 표현합니다. Person2는 그들에게 음료를 사주겠다고 제안합니다.\n"
     ]
    },
    {
     "name": "stderr",
     "output_type": "stream",
     "text": [
      " 82%|████████▏ | 409/499 [33:53<09:37,  6.41s/it]"
     ]
    },
    {
     "name": "stdout",
     "output_type": "stream",
     "text": [
      "#Person1#은 농장을 가지고 싶어합니다. #Person2#는 그것이 힘든 일이라고 경고합니다. #Person1#은 일찍 일어나고 열심히 일하기를 원합니다. #Person2#는 농장 일이 #Person1#의 현재 직업과 매우 다르다고 경고합니다. #Person1#은 사무실에서 벗어나 시골에서 일하고 싶어합니다. #Person2#는 #Person1#의 농장을 방문할 것입니다.\n"
     ]
    },
    {
     "name": "stderr",
     "output_type": "stream",
     "text": [
      " 82%|████████▏ | 410/499 [33:55<07:41,  5.19s/it]"
     ]
    },
    {
     "name": "stdout",
     "output_type": "stream",
     "text": [
      "Person1은 하이네켄 맥주 한 잔과 버드와이저 맥주 반 잔, 그리고 나초와 모짜렐라 스틱을 주문하여 총 $80을 지불합니다.\n"
     ]
    },
    {
     "name": "stderr",
     "output_type": "stream",
     "text": [
      " 82%|████████▏ | 411/499 [33:57<06:12,  4.23s/it]"
     ]
    },
    {
     "name": "stdout",
     "output_type": "stream",
     "text": [
      "메리와 앤은 앤의 남자친구의 계획 때문에 취소된 해변 여행 때문에 싸웠습니다. 메리는 화해하기 위해 앤에게 전화를 걸 예정입니다.\n"
     ]
    },
    {
     "name": "stderr",
     "output_type": "stream",
     "text": [
      " 83%|████████▎ | 412/499 [34:04<07:03,  4.87s/it]"
     ]
    },
    {
     "name": "stdout",
     "output_type": "stream",
     "text": [
      "Person1이 담배를 어디서 살 수 있는지 묻습니다, Person2는 중국 담배와 외국 담배를 모두 파는 1층의 가게로 그들을 안내합니다, Person1이 기념품도 파는지 묻습니다, Person2는 기념품 카운터가 있다고 확인합니다, Person1이 화장실이 어디에 있는지 묻습니다, Person2는 복도의 끝에 있다고 안내합니다.\n"
     ]
    },
    {
     "name": "stderr",
     "output_type": "stream",
     "text": [
      " 83%|████████▎ | 413/499 [34:11<07:48,  5.44s/it]"
     ]
    },
    {
     "name": "stdout",
     "output_type": "stream",
     "text": [
      "Catherine과 Tom은 영화 \"Fast Food Nation\"과 미국 음식 문화의 어두운 면에 대해 논의합니다. 그들은 영화가 사려 깊고 미국이 맥도날드, KFC, 피자헛과 같은 패스트푸드 체인점으로 구성된 \"패스트푸드 국가\"라는 데 동의합니다. 그들은 또한 패스트푸드의 건강 영향과 더 건강한 옵션의 필요성에 대해 논의합니다.\n"
     ]
    },
    {
     "name": "stderr",
     "output_type": "stream",
     "text": [
      " 83%|████████▎ | 414/499 [34:23<10:46,  7.61s/it]"
     ]
    },
    {
     "name": "stdout",
     "output_type": "stream",
     "text": [
      "#Person1#은 승객들이 버스에서 내릴 수 있도록 #Person2#에게 비켜달라고 요청합니다. #Person2#는 요금이 얼마인지 묻고 1달러라고 대답받습니다. #Person2#는 버스가 5번가를 통해 그린위치 빌리지에 가는지 묻고 그렇다고 대답받습니다. #Person2#는 버스가 워싱턴 스퀘어 공원에 가는지 묻고 그렇다고 대답받습니다. #Person2#는 #Person1#이 도착했을 때 알려줄 것인지 묻고 스스로 확인해야 한다고 대답받습니다.\n"
     ]
    },
    {
     "name": "stderr",
     "output_type": "stream",
     "text": [
      " 83%|████████▎ | 415/499 [34:30<10:29,  7.49s/it]"
     ]
    },
    {
     "name": "stdout",
     "output_type": "stream",
     "text": [
      "Person1은 9/11에 뉴욕시티에 있었고, 그들의 부모님의 아파트 건물에서 공격의 여파를 목격했습니다. Person2는 베이징에 있었고 Person1이 쌍둥이 빌딩에 충돌하는 비행기를 보았는지 물었습니다. Person1의 삼촌은 그 건물 중 한 곳에서 일했고 불행히도 살아남지 못했습니다. Person2는 Person1과 그들의 가족에게 동정을 표했습니다.\n"
     ]
    },
    {
     "name": "stderr",
     "output_type": "stream",
     "text": [
      " 83%|████████▎ | 416/499 [34:33<08:18,  6.00s/it]"
     ]
    },
    {
     "name": "stdout",
     "output_type": "stream",
     "text": [
      "칼과 그의 아내는 찰리 존스 옆집으로 방금 이사했습니다. 칼은 시카고 출신이며 조용한 삶과 더 많은 공간을 위해 미네소타로 이사했습니다.\n"
     ]
    },
    {
     "name": "stderr",
     "output_type": "stream",
     "text": [
      " 84%|████████▎ | 417/499 [34:58<15:57, 11.68s/it]"
     ]
    },
    {
     "name": "stdout",
     "output_type": "stream",
     "text": [
      "\n",
      "\n",
      "\n",
      "\n",
      "\n",
      "\n",
      "\n",
      "\n",
      "\n",
      "\n",
      "\n",
      "\n",
      "\n",
      "\n",
      "\n",
      "\n",
      "\n",
      "\n",
      "\n",
      "\n",
      "\n",
      "\n",
      "\n",
      "\n",
      "\n",
      "\n",
      "\n",
      "\n",
      "\n",
      "\n",
      "\n",
      "\n",
      "\n",
      "\n",
      "\n",
      "\n",
      "\n",
      "\n",
      "\n",
      "\n",
      "\n",
      "\n",
      "\n",
      "\n",
      "\n",
      "\n",
      "\n",
      "\n",
      "\n",
      "\n",
      "\n",
      "\n",
      "\n",
      "\n",
      "\n",
      "\n",
      "\n",
      "\n",
      "\n",
      "\n",
      "\n",
      "\n",
      "\n",
      "\n",
      "\n",
      "\n",
      "\n",
      "\n",
      "\n",
      "\n",
      "\n",
      "\n",
      "\n",
      "\n",
      "\n",
      "\n",
      "\n",
      "\n",
      "\n",
      "\n",
      "\n",
      "\n",
      "\n",
      "\n",
      "\n",
      "\n",
      "\n",
      "\n",
      "\n",
      "\n",
      "\n",
      "\n",
      "\n",
      "\n",
      "\n",
      "\n",
      "\n",
      "\n",
      "\n",
      "\n",
      "\n",
      "\n",
      "\n",
      "\n",
      "\n",
      "\n",
      "\n",
      "\n",
      "\n",
      "\n",
      "\n",
      "\n",
      "\n",
      "\n",
      "\n",
      "\n",
      "\n",
      "\n",
      "\n",
      "\n",
      "\n",
      "\n",
      "\n",
      "\n",
      "\n",
      "\n",
      "\n",
      "\n",
      "\n",
      "\n",
      "\n",
      "\n",
      "\n",
      "\n",
      "\n",
      "\n",
      "\n",
      "\n",
      "\n",
      "\n",
      "\n",
      "\n",
      "\n",
      "\n",
      "\n",
      "\n",
      "\n",
      "\n",
      "\n",
      "\n",
      "\n",
      "\n",
      "\n",
      "\n",
      "\n",
      "\n",
      "\n",
      "\n",
      "\n",
      "\n",
      "\n",
      "\n",
      "\n",
      "\n",
      "\n",
      "\n",
      "\n",
      "\n",
      "\n",
      "\n",
      "\n",
      "\n",
      "\n",
      "\n",
      "\n",
      "\n",
      "\n",
      "\n",
      "\n",
      "\n",
      "\n",
      "\n",
      "\n",
      "\n",
      "\n",
      "\n",
      "\n",
      "\n",
      "\n",
      "\n",
      "\n",
      "\n",
      "\n",
      "\n",
      "\n",
      "\n",
      "\n",
      "\n",
      "\n",
      "\n",
      "\n",
      "\n",
      "\n",
      "\n",
      "\n",
      "\n",
      "\n",
      "\n",
      "\n",
      "\n",
      "\n",
      "\n",
      "\n",
      "\n",
      "\n",
      "\n",
      "\n",
      "\n",
      "\n",
      "\n",
      "\n",
      "\n",
      "\n",
      "\n",
      "\n",
      "\n",
      "\n",
      "\n",
      "\n",
      "\n",
      "\n",
      "\n",
      "\n",
      "\n",
      "\n",
      "\n",
      "\n",
      "\n",
      "\n",
      "\n",
      "\n",
      "\n",
      "\n",
      "\n",
      "\n",
      "\n",
      "\n",
      "\n",
      "\n",
      "\n",
      "\n",
      "\n",
      "\n",
      "\n",
      "\n",
      "\n",
      "\n"
     ]
    },
    {
     "name": "stderr",
     "output_type": "stream",
     "text": [
      " 84%|████████▍ | 418/499 [35:01<12:09,  9.01s/it]"
     ]
    },
    {
     "name": "stdout",
     "output_type": "stream",
     "text": [
      "Person1은 피곤하고 잠자리에 들고 싶지만, Person2는 예산을 확인해야 하고 내일 할 수 없습니다. Person1은 Person2에게 잠자리에 들기 전에 지하실 문을 닫아달라고 부탁합니다.\n"
     ]
    },
    {
     "name": "stderr",
     "output_type": "stream",
     "text": [
      " 84%|████████▍ | 419/499 [35:02<08:49,  6.62s/it]"
     ]
    },
    {
     "name": "stdout",
     "output_type": "stream",
     "text": [
      "Person1과 Person2는 다음 주 월요일 오후 3시에 아이디어를 논의하기 위해 만날 것입니다.\n"
     ]
    },
    {
     "name": "stderr",
     "output_type": "stream",
     "text": [
      " 84%|████████▍ | 420/499 [35:08<08:44,  6.64s/it]"
     ]
    },
    {
     "name": "stdout",
     "output_type": "stream",
     "text": [
      "Person2는 5주년 기념일을 맞이한 여자친구에게 선물을 찾고 있습니다. 진주 목걸이나 하트 모양의 펜던트를 고려하고 있습니다. Person1은 사파이어 목걸이나 장미 금과 파란색 토파즈 팔찌를 제안합니다. Person2는 또한 프로포즈를 고려하고 있으며 Person1은 약혼 반지 섹션을 살펴보라고 제안합니다.\n"
     ]
    },
    {
     "name": "stderr",
     "output_type": "stream",
     "text": [
      " 84%|████████▍ | 421/499 [35:18<09:43,  7.48s/it]"
     ]
    },
    {
     "name": "stdout",
     "output_type": "stream",
     "text": [
      "Person1은 오래된 Ford Pinto를 새 차로 바꾸려고 하고 Person2는 측면 에어백, 전동 조향 및 창문, 틴팅된 창문, 자동 또는 수동 변속기 중에서 선택할 수 있는 Ford Focus를 제안합니다. Person1은 연료 효율성과 강력한 엔진에 감명을 받고 Person2는 첫 해에 0%의 계약금과 이자 없는 금융을 제공합니다. Person1은 차를 시험 운전하고 서류를 작성하기로 결정합니다.\n"
     ]
    },
    {
     "name": "stderr",
     "output_type": "stream",
     "text": [
      " 85%|████████▍ | 422/499 [35:27<10:07,  7.90s/it]"
     ]
    },
    {
     "name": "stdout",
     "output_type": "stream",
     "text": [
      "\n",
      "Person1은 Ballam에게 월급 3,000 위안으로 컴퓨터 엔지니어로 일하도록 제안합니다. 6개월 동안 잘 수행하면 월급이 5,000 위안으로 증가합니다. Ballam은 가족을 지원하기 위해 월급 4,000 위안을 더 높은 초기 급여로 요청하고, Person1은 요청에 동의합니다. Ballam은 월요일 오전 8시에 일을 시작합니다.\n"
     ]
    },
    {
     "name": "stderr",
     "output_type": "stream",
     "text": [
      " 85%|████████▍ | 423/499 [35:30<08:12,  6.48s/it]"
     ]
    },
    {
     "name": "stdout",
     "output_type": "stream",
     "text": [
      "Person1은 Person2의 그룹 회사들이 자금을 신속하게 이체하고 관리를 중앙 집중화하여 내부 회계 문제를 해결할 수 있는 계약의 혜택을 제공합니다. 그들은 다음날 오전 10시에 서류 작업을 마무리하기 위해 만나기로 합의합니다.\n"
     ]
    },
    {
     "name": "stderr",
     "output_type": "stream",
     "text": [
      " 85%|████████▍ | 424/499 [35:32<06:23,  5.12s/it]"
     ]
    },
    {
     "name": "stdout",
     "output_type": "stream",
     "text": [
      "#Person1#이 배고파서 무언가를 먹고 싶어합니다. #Person2#는 땅콩버터와 잼 샌드위치를 만드는 것을 제안합니다.\n"
     ]
    },
    {
     "name": "stderr",
     "output_type": "stream",
     "text": [
      " 85%|████████▌ | 425/499 [35:33<04:59,  4.05s/it]"
     ]
    },
    {
     "name": "stdout",
     "output_type": "stream",
     "text": [
      "의사는 감염을 나타낼 수 있는 백혈구 수를 확인하고 싶어합니다. 혈액 검사는 약간 아프지만 빨리 끝납니다.\n"
     ]
    },
    {
     "name": "stderr",
     "output_type": "stream",
     "text": [
      " 85%|████████▌ | 426/499 [35:34<03:47,  3.12s/it]"
     ]
    },
    {
     "name": "stdout",
     "output_type": "stream",
     "text": [
      "스티븐의 전기가 나갔다. 그는 지하실에 있는 퓨즈 박스를 확인할 것이다.\n"
     ]
    },
    {
     "name": "stderr",
     "output_type": "stream",
     "text": [
      " 86%|████████▌ | 427/499 [35:37<03:25,  2.86s/it]"
     ]
    },
    {
     "name": "stdout",
     "output_type": "stream",
     "text": [
      "폴라는 폴라의 집주인인 콘너스 여사와 고장난 식기세척기와 미납 임대료에 관한 회의에 동행해달라고 폴라에게 부탁합니다.\n"
     ]
    },
    {
     "name": "stderr",
     "output_type": "stream",
     "text": [
      " 86%|████████▌ | 428/499 [35:40<03:25,  2.90s/it]"
     ]
    },
    {
     "name": "stdout",
     "output_type": "stream",
     "text": [
      "Person1과 Person2는 사무실의 에어컨, 화장실, 전기 배선을 수리하기 위해 수리공을 불러야 한다는 필요성에 대해 논의합니다. 그들은 또한 배수 시스템과 주차장의 침수 문제에 대해 언급합니다.\n"
     ]
    },
    {
     "name": "stderr",
     "output_type": "stream",
     "text": [
      " 86%|████████▌ | 429/499 [35:42<03:05,  2.66s/it]"
     ]
    },
    {
     "name": "stdout",
     "output_type": "stream",
     "text": [
      "#Person1#과 #Person2#는 모두 실업 상태이며 일자리를 찾고 있습니다. 그들은 전기 기술자 견습 프로그램에 대한 채용 공고를 논의합니다.\n"
     ]
    },
    {
     "name": "stderr",
     "output_type": "stream",
     "text": [
      " 86%|████████▌ | 430/499 [35:44<02:47,  2.42s/it]"
     ]
    },
    {
     "name": "stdout",
     "output_type": "stream",
     "text": [
      "상사와의 관계는 좋지만, 어려운 시기가 있었습니다. 상사의 강점은 뛰어난 정보 분석 기술과 도전적인 상황에서 올바른 결정을 내리는 능력입니다.\n"
     ]
    },
    {
     "name": "stderr",
     "output_type": "stream",
     "text": [
      " 86%|████████▋ | 431/499 [35:45<02:23,  2.11s/it]"
     ]
    },
    {
     "name": "stdout",
     "output_type": "stream",
     "text": [
      "Tang 씨는 관광 가이드 자격증을 가지고 있고, Youth International Travel Agency에서 일하고 있다. 그는 영어와 러시아어를 할 수 있다.\n"
     ]
    },
    {
     "name": "stderr",
     "output_type": "stream",
     "text": [
      " 87%|████████▋ | 432/499 [35:46<02:04,  1.86s/it]"
     ]
    },
    {
     "name": "stdout",
     "output_type": "stream",
     "text": [
      "Person2는 1000 위안으로 금시계를 사고 싶어하지만 Person1은 가격을 협상하지 않습니다.\n"
     ]
    },
    {
     "name": "stderr",
     "output_type": "stream",
     "text": [
      " 87%|████████▋ | 433/499 [35:49<02:23,  2.18s/it]"
     ]
    },
    {
     "name": "stdout",
     "output_type": "stream",
     "text": [
      "톰의 딸 마리아는 고열이 나고 그는 그녀를 병원에 데려가고 있습니다. 그는 사라에게 그가 없는 동안 그의 아들 켄을 돌봐달라고 부탁합니다. 사라는 동의하고 켄과 저녁을 먹자고 제안합니다.\n"
     ]
    },
    {
     "name": "stderr",
     "output_type": "stream",
     "text": [
      " 87%|████████▋ | 434/499 [35:51<02:17,  2.11s/it]"
     ]
    },
    {
     "name": "stdout",
     "output_type": "stream",
     "text": [
      "에이미는 인사 담당자로 승진하기 전에 2년 동안 부사장으로 일했습니다. 그녀는 그곳에서 1년을 일한 후 영업 직원으로 이직했습니다.\n"
     ]
    },
    {
     "name": "stderr",
     "output_type": "stream",
     "text": [
      " 87%|████████▋ | 435/499 [35:53<02:12,  2.07s/it]"
     ]
    },
    {
     "name": "stdout",
     "output_type": "stream",
     "text": [
      "Person1과 Person2는 Person2의 체중 증가에 대해 대화를 나누고, Person1은 Person2가 체중을 감량할 수 있도록 다이어트 계획을 제안합니다.\n"
     ]
    },
    {
     "name": "stderr",
     "output_type": "stream",
     "text": [
      " 87%|████████▋ | 436/499 [35:58<03:14,  3.09s/it]"
     ]
    },
    {
     "name": "stdout",
     "output_type": "stream",
     "text": [
      "Person1은 Mary에게 말하기 위해 Person2에게 전화를 걸었습니다. Person1은 Brown College의 Greg Saunders이며 Person2의 학업 및 스포츠 성과에 관심이 있습니다. Person2는 대학 스포츠에 관심이 있으며 농구 기록이 있습니다. Person1은 감명을 받았으며, 그들이 받아들여지면 Person2에게 알려줄 것입니다.\n"
     ]
    },
    {
     "name": "stderr",
     "output_type": "stream",
     "text": [
      " 88%|████████▊ | 437/499 [36:00<02:37,  2.54s/it]"
     ]
    },
    {
     "name": "stdout",
     "output_type": "stream",
     "text": [
      "그 사람은 기차역으로 택시를 타고 가고, 교통 상황과 거기에 도착하는 데 걸리는 시간에 대해 묻습니다.\n"
     ]
    },
    {
     "name": "stderr",
     "output_type": "stream",
     "text": [
      " 88%|████████▊ | 438/499 [36:02<02:38,  2.60s/it]"
     ]
    },
    {
     "name": "stdout",
     "output_type": "stream",
     "text": [
      "Brian은 대학에서 영어를 배웠고, 미국에 3주 동안 있었고, 아내와 함께 왔으며, 캘리포니아는 가본 적이 없지만 라스베가스는 출장으로 한 번 가본 적이 있다.\n"
     ]
    },
    {
     "name": "stderr",
     "output_type": "stream",
     "text": [
      " 88%|████████▊ | 439/499 [36:13<04:51,  4.86s/it]"
     ]
    },
    {
     "name": "stdout",
     "output_type": "stream",
     "text": [
      "#Person2#는 새로운 건강보험 계획을 위해 정기 건강 검진을 받고 있습니다. #Person1#은 가슴, 심장, 혈액 검사, 그리고 눈, 귀, 코 검사를 포함한 기본 검사를 수행할 것입니다. #Person2#는 호흡 문제가 있어 나중에 알레르기 검사 및 가능한 천식 검사를 받을 예정입니다. #Person1#은 혈액 검사 중 콜레스테롤, 혈당, 백혈구 수를 확인할 것입니다. #Person2#는 결과가 좋기를 바라며 건강을 돌보고 있습니다.\n"
     ]
    },
    {
     "name": "stderr",
     "output_type": "stream",
     "text": [
      " 88%|████████▊ | 440/499 [36:20<05:37,  5.72s/it]"
     ]
    },
    {
     "name": "stdout",
     "output_type": "stream",
     "text": [
      "Person1과 Person2는 복권에 당첨되면 무엇을 할지에 대해 논의합니다. Person1은 세계를 여행하고 싶어하지만 Person2는 가족을 위해 집을 사고 싶어합니다. 그들은 많은 돈을 가지고 있다면 일하지 않을 것이라는 데 동의합니다. 그들은 또한 세계를 여행하고 집을 산 후에 무엇을 할지에 대해 논의합니다. 그들은 복권에 당첨될 가능성이 낮다는 결론을 내리고 또 다른 음료를 마시기로 결정합니다.\n"
     ]
    },
    {
     "name": "stderr",
     "output_type": "stream",
     "text": [
      " 88%|████████▊ | 441/499 [36:22<04:18,  4.46s/it]"
     ]
    },
    {
     "name": "stdout",
     "output_type": "stream",
     "text": [
      "Person1은 겁을 먹고 결혼할 준비가 되지 않았다고 생각하지만, Person2는 그들을 설득하고 그들은 그것을 진행하기로 결정합니다.\n"
     ]
    },
    {
     "name": "stderr",
     "output_type": "stream",
     "text": [
      " 89%|████████▊ | 442/499 [36:26<04:13,  4.46s/it]"
     ]
    },
    {
     "name": "stdout",
     "output_type": "stream",
     "text": [
      "Person1은 2,000장의 새로운 명함을 인쇄해야 하고, 그 명함이 이전의 명함과 똑같이 보이기를 원합니다. Person2는 일주일 안에 준비할 수 있지만, Person1은 3일 안에 받고 싶어하고, 급행료를 지불할 의향이 있습니다.\n"
     ]
    },
    {
     "name": "stderr",
     "output_type": "stream",
     "text": [
      " 89%|████████▉ | 443/499 [36:34<05:04,  5.43s/it]"
     ]
    },
    {
     "name": "stdout",
     "output_type": "stream",
     "text": [
      "Person1과 Person2는 여행 계획에 대해 논의하고 있습니다. Person2는 예약이 되어 있고 6시에 Person1을 픽업하여 8시 30분 비행기를 탈 것입니다. Person1은 회의가 있고 Person2는 공항에서 대통령과 Person1이 만날 수 있도록 준비할 것입니다. 회의는 정오에 시작되며 Person2는 비행기에서 읽을 프로그램을 Person1에게 제공할 것입니다.\n"
     ]
    },
    {
     "name": "stderr",
     "output_type": "stream",
     "text": [
      " 89%|████████▉ | 444/499 [36:37<04:09,  4.54s/it]"
     ]
    },
    {
     "name": "stdout",
     "output_type": "stream",
     "text": [
      "폴은 #Person1#과 그들의 가족과 추수감사절을 보낼 것입니다. #Person1#은 잔치를 준비할 것이고, 폴은 호박 파이와 와인 한 병을 가져올 것입니다.\n"
     ]
    },
    {
     "name": "stderr",
     "output_type": "stream",
     "text": [
      " 89%|████████▉ | 445/499 [36:39<03:35,  3.99s/it]"
     ]
    },
    {
     "name": "stdout",
     "output_type": "stream",
     "text": [
      "존은 이번 주말에 수잔의 도움이 필요합니다. 그의 사촌이 목요일 오는데, 그는 그녀를 대학 주변을 구경시켜 주겠다고 약속했습니다. 수잔은 토요일에 그녀를 안내하고, 나중에 존과 만날 것입니다.\n"
     ]
    },
    {
     "name": "stderr",
     "output_type": "stream",
     "text": [
      " 89%|████████▉ | 446/499 [36:42<03:17,  3.73s/it]"
     ]
    },
    {
     "name": "stdout",
     "output_type": "stream",
     "text": [
      "Person1과 Person2는 꽃꽂이, 사진, 이탈리아 와인, 홈페이지 디자인, 인도 요리 등 다양한 저녁 수업을 논의합니다. 그들은 인도 요리 수업을 등록하기로 결정하고 저녁 파티를 주최하기로 계획합니다.\n"
     ]
    },
    {
     "name": "stderr",
     "output_type": "stream",
     "text": [
      " 90%|████████▉ | 447/499 [36:54<05:18,  6.12s/it]"
     ]
    },
    {
     "name": "stdout",
     "output_type": "stream",
     "text": [
      "Person1은 저녁으로 피자 경험에 가는 것을 제안하지만, Person2는 그들이 이미 지난 수요일 거기에 갔다고 지적합니다. Person1은 대신 스테이크 하우스에 가는 것을 제안하지만, Person2는 브리짓이 고기를 먹지 않는다고 상기시킵니다. Person1은 킹 피셔를 제안하지만, Person2는 아서가 생선을 먹지 않는다고 상기시킵니다. 그들은 대신 카로트의에 가기로 결정하지만, Person1은 그들이 목요일에는 문을 닫는다는 것을 깨닫습니다. 그들은 내일 저녁에 그곳에 가기로 합의합니다.\n"
     ]
    },
    {
     "name": "stderr",
     "output_type": "stream",
     "text": [
      " 90%|████████▉ | 448/499 [37:20<10:20, 12.17s/it]"
     ]
    },
    {
     "name": "stdout",
     "output_type": "stream",
     "text": [
      "\n",
      "\n",
      "\n",
      "\n",
      "\n",
      "\n",
      "\n",
      "\n",
      "\n",
      "\n",
      "\n",
      "\n",
      "\n",
      "\n",
      "\n",
      "\n",
      "\n",
      "\n",
      "\n",
      "\n",
      "\n",
      "\n",
      "\n",
      "\n",
      "\n",
      "\n",
      "\n",
      "\n",
      "\n",
      "\n",
      "\n",
      "\n",
      "\n",
      "\n",
      "\n",
      "\n",
      "\n",
      "\n",
      "\n",
      "\n",
      "\n",
      "\n",
      "\n",
      "\n",
      "\n",
      "\n",
      "\n",
      "\n",
      "\n",
      "\n",
      "\n",
      "\n",
      "\n",
      "\n",
      "\n",
      "\n",
      "\n",
      "\n",
      "\n",
      "\n",
      "\n",
      "\n",
      "\n",
      "\n",
      "\n",
      "\n",
      "\n",
      "\n",
      "\n",
      "\n",
      "\n",
      "\n",
      "\n",
      "\n",
      "\n",
      "\n",
      "\n",
      "\n",
      "\n",
      "\n",
      "\n",
      "\n",
      "\n",
      "\n",
      "\n",
      "\n",
      "\n",
      "\n",
      "\n",
      "\n",
      "\n",
      "\n",
      "\n",
      "\n",
      "\n",
      "\n",
      "\n",
      "\n",
      "\n",
      "\n",
      "\n",
      "\n",
      "\n",
      "\n",
      "\n",
      "\n",
      "\n",
      "\n",
      "\n",
      "\n",
      "\n",
      "\n",
      "\n",
      "\n",
      "\n",
      "\n",
      "\n",
      "\n",
      "\n",
      "\n",
      "\n",
      "\n",
      "\n",
      "\n",
      "\n",
      "\n",
      "\n",
      "\n",
      "\n",
      "\n",
      "\n",
      "\n",
      "\n",
      "\n",
      "\n",
      "\n",
      "\n",
      "\n",
      "\n",
      "\n",
      "\n",
      "\n",
      "\n",
      "\n",
      "\n",
      "\n",
      "\n",
      "\n",
      "\n",
      "\n",
      "\n",
      "\n",
      "\n",
      "\n",
      "\n",
      "\n",
      "\n",
      "\n",
      "\n",
      "\n",
      "\n",
      "\n",
      "\n",
      "\n",
      "\n",
      "\n",
      "\n",
      "\n",
      "\n",
      "\n",
      "\n",
      "\n",
      "\n",
      "\n",
      "\n",
      "\n",
      "\n",
      "\n",
      "\n",
      "\n",
      "\n",
      "\n",
      "\n",
      "\n",
      "\n",
      "\n",
      "\n",
      "\n",
      "\n",
      "\n",
      "\n",
      "\n",
      "\n",
      "\n",
      "\n",
      "\n",
      "\n",
      "\n",
      "\n",
      "\n",
      "\n",
      "\n",
      "\n",
      "\n",
      "\n",
      "\n",
      "\n",
      "\n",
      "\n",
      "\n",
      "\n",
      "\n",
      "\n",
      "\n",
      "\n",
      "\n",
      "\n",
      "\n",
      "\n",
      "\n",
      "\n",
      "\n",
      "\n",
      "\n",
      "\n",
      "\n",
      "\n",
      "\n",
      "\n",
      "\n",
      "\n",
      "\n",
      "\n",
      "\n",
      "\n",
      "\n",
      "\n",
      "\n",
      "\n",
      "\n",
      "\n",
      "\n",
      "\n",
      "\n",
      "\n",
      "\n",
      "\n",
      "\n",
      "\n",
      "\n",
      "\n",
      "\n",
      "\n",
      "\n",
      "\n",
      "\n",
      "\n"
     ]
    },
    {
     "name": "stderr",
     "output_type": "stream",
     "text": [
      " 90%|████████▉ | 449/499 [37:23<07:48,  9.38s/it]"
     ]
    },
    {
     "name": "stdout",
     "output_type": "stream",
     "text": [
      "Person1이 Person2에게 펜을 보여주라고 요청합니다. Person2가 잘못된 펜을 보여주면 Person1이 올바른 펜을 찾습니다. Person1이 그것을 시도하고 구매하기로 결정하면 Person2가 결제 방법을 묻습니다.\n"
     ]
    },
    {
     "name": "stderr",
     "output_type": "stream",
     "text": [
      " 90%|█████████ | 450/499 [37:27<06:10,  7.56s/it]"
     ]
    },
    {
     "name": "stdout",
     "output_type": "stream",
     "text": [
      "\n",
      "Person2의 회사는 몇몇 경쟁자들과 함께 마라톤을 후원하여 미국 암 협회에 자금을 모금했습니다. 참가자들에게 10달러를 받고 1마일당 1달러의 기부금을 모금함으로써 수천 달러를 모금했습니다.\n"
     ]
    },
    {
     "name": "stderr",
     "output_type": "stream",
     "text": [
      " 90%|█████████ | 451/499 [37:30<05:05,  6.36s/it]"
     ]
    },
    {
     "name": "stdout",
     "output_type": "stream",
     "text": [
      "Person1이 피크 트램으로 가는 길을 Person2에게 묻습니다. Person2는 힐튼 호텔에서 오른쪽으로 돌아서 교회를 지나가는 등 자세한 지시를 제공합니다. Person1은 지시를 반복해 달라고 요청하고, 그것을 적을 펜을 요청합니다.\n"
     ]
    },
    {
     "name": "stderr",
     "output_type": "stream",
     "text": [
      " 91%|█████████ | 452/499 [37:31<03:42,  4.72s/it]"
     ]
    },
    {
     "name": "stdout",
     "output_type": "stream",
     "text": [
      "Person2는 Person1에게서 작은 팬 두 개와 큰 팬 하나를 샀다.\n"
     ]
    },
    {
     "name": "stderr",
     "output_type": "stream",
     "text": [
      " 91%|█████████ | 453/499 [37:33<03:00,  3.92s/it]"
     ]
    },
    {
     "name": "stdout",
     "output_type": "stream",
     "text": [
      "외부 요인은 정치, 경제, 사회, 기술 등이며, 내부 요인은 인적 자원, 팀워크, 혁신 정신, 부서 간의 조정 등을 포함합니다.\n"
     ]
    },
    {
     "name": "stderr",
     "output_type": "stream",
     "text": [
      " 91%|█████████ | 454/499 [37:34<02:20,  3.13s/it]"
     ]
    },
    {
     "name": "stdout",
     "output_type": "stream",
     "text": [
      "대화는 최대 1년까지 걸릴 수 있는 프로젝트에 대해 논의하기 위한 회의 일정을 잡는 것에 관한 것입니다.\n"
     ]
    },
    {
     "name": "stderr",
     "output_type": "stream",
     "text": [
      " 91%|█████████ | 455/499 [37:36<02:00,  2.73s/it]"
     ]
    },
    {
     "name": "stdout",
     "output_type": "stream",
     "text": [
      "#Person2#은 짧은 여행 추천을 찾고 있고 #Person1#은 강을 따라 하는 하루 여행이 매우 아름답다고 제안합니다.\n"
     ]
    },
    {
     "name": "stderr",
     "output_type": "stream",
     "text": [
      " 91%|█████████▏| 456/499 [37:37<01:39,  2.33s/it]"
     ]
    },
    {
     "name": "stdout",
     "output_type": "stream",
     "text": [
      "#Person2# 는 소고기 버거, 프렌치 프라이, 그리고 바나나 밀크셰이크를 주문했습니다.\n"
     ]
    },
    {
     "name": "stderr",
     "output_type": "stream",
     "text": [
      " 92%|█████████▏| 457/499 [37:45<02:48,  4.00s/it]"
     ]
    },
    {
     "name": "stdout",
     "output_type": "stream",
     "text": [
      "Person1과 Person2는 등불 축제에 참석하여 아름다운 등불에 놀랐습니다. 그들은 중국어로 된 수수께끼가 적힌 등불 주위에 사람들이 모여드는 것을 알아차리고, Person2가 설명하는 대로 중국어로 된 수수께끼가 적힌 등불을 발견합니다. 그들은 또한 중국어로 된 시에서 행복한 장면들을 번역하는 불을 뿜는 입이 있는 큰 용 등불을 봅니다.\n"
     ]
    },
    {
     "name": "stderr",
     "output_type": "stream",
     "text": [
      " 92%|█████████▏| 458/499 [37:49<02:38,  3.86s/it]"
     ]
    },
    {
     "name": "stdout",
     "output_type": "stream",
     "text": [
      "ABC 회사 면접의 첫 두 라운드를 성공적으로 통과한 Person1은 다음 주 월요일 최종 라운드에 초대되었습니다. Person2는 Person1을 축하하고, 그들은 5시에 Person2의 사무실 건물 아래 카페에서 만나 축하하기로 계획합니다.\n"
     ]
    },
    {
     "name": "stderr",
     "output_type": "stream",
     "text": [
      " 92%|█████████▏| 459/499 [37:50<02:00,  3.01s/it]"
     ]
    },
    {
     "name": "stdout",
     "output_type": "stream",
     "text": [
      "팀과 카렌은 즐거운 대화 후에 작별 인사를 했다. 그들은 다시 만나기로 합의했다.\n"
     ]
    },
    {
     "name": "stderr",
     "output_type": "stream",
     "text": [
      " 92%|█████████▏| 460/499 [37:52<01:51,  2.86s/it]"
     ]
    },
    {
     "name": "stdout",
     "output_type": "stream",
     "text": [
      "회의는 10시에 있습니다. 줄리는 사무용품에 도움을 줄 수 있고, 복사기는 Person1의 사무실 근처에 있으며, 회의는 고객 업데이트와 작업 할당에 관한 것입니다.\n"
     ]
    },
    {
     "name": "stderr",
     "output_type": "stream",
     "text": [
      " 92%|█████████▏| 461/499 [37:54<01:38,  2.60s/it]"
     ]
    },
    {
     "name": "stdout",
     "output_type": "stream",
     "text": [
      "#Person1#은 #Person2#에게 욕조의 많은 버튼의 사용법을 설명해달라고 요청하고 다른 스위치를 사용하는 데 도움을 요청합니다.\n"
     ]
    },
    {
     "name": "stderr",
     "output_type": "stream",
     "text": [
      " 93%|█████████▎| 462/499 [37:58<01:47,  2.90s/it]"
     ]
    },
    {
     "name": "stdout",
     "output_type": "stream",
     "text": [
      "Person1이 베스트셀러 책이 어디에 있는지 묻고 Person2는 첫 번째 통로로 그들을 안내합니다. Person1이 기차 여행을 위한 책 추천을 요청하고 Person2는 일본 소설을 제안합니다. Person1은 Person2의 도움에 감사합니다.\n"
     ]
    },
    {
     "name": "stderr",
     "output_type": "stream",
     "text": [
      " 93%|█████████▎| 463/499 [38:07<02:44,  4.57s/it]"
     ]
    },
    {
     "name": "stdout",
     "output_type": "stream",
     "text": [
      "Person1은 친구에게 읽기를 가르치는 것을 제안하지만, Person2는 친구의 나이와 교육 부족을 의문시합니다. Person1은 친구가 남미에서 온 새로운 이민자이며 학교에 가본 적이 없다고 설명합니다. Person2는 친구가 영어를 할 수 있는지 묻고, Person1은 읽기 시작과 천천히 배우는 것을 제안합니다. Person2는 자원봉사에 대해 Person1에게 감사하고 도움을 주기로 동의하지만, 대가로 저녁을 요청합니다.\n"
     ]
    },
    {
     "name": "stderr",
     "output_type": "stream",
     "text": [
      " 93%|█████████▎| 464/499 [38:10<02:25,  4.17s/it]"
     ]
    },
    {
     "name": "stdout",
     "output_type": "stream",
     "text": [
      "Person1은 티켓을 픽업하고 가격을 묻습니다. Person2는 예약을 확인하고 티켓 예약 양식을 요청합니다. Person1은 양식을 제공하고 다시 가격을 묻습니다. Person2는 가격을 확인하고 신용 카드를 요청합니다.\n"
     ]
    },
    {
     "name": "stderr",
     "output_type": "stream",
     "text": [
      " 93%|█████████▎| 465/499 [38:12<02:03,  3.63s/it]"
     ]
    },
    {
     "name": "stdout",
     "output_type": "stream",
     "text": [
      "Person1은 함께 저녁을 만들어 먹자고 제안하고 Person2는 동의합니다. 그들은 매운 치킨 카레를 만들기로 결정하고 Person1은 Person2에게 재료를 준비하는 방법을 알려줍니다.\n"
     ]
    },
    {
     "name": "stderr",
     "output_type": "stream",
     "text": [
      " 93%|█████████▎| 466/499 [38:18<02:17,  4.18s/it]"
     ]
    },
    {
     "name": "stdout",
     "output_type": "stream",
     "text": [
      "부스에 있는 두 전화기는 서로 다릅니다. 하나는 IC 전화이고 다른 하나는 동전 전화입니다. IC 전화를 사용하려면 IC 카드를 삽입하고 통화하려는 사람의 번호를 누르세요. 동전 전화를 사용하려면 수화기를 들어, 번호를 누르고, 동전을 넣고, \"통화\" 버튼을 누르세요.\n"
     ]
    },
    {
     "name": "stderr",
     "output_type": "stream",
     "text": [
      " 94%|█████████▎| 467/499 [38:24<02:33,  4.79s/it]"
     ]
    },
    {
     "name": "stdout",
     "output_type": "stream",
     "text": [
      "Person1은 재정적 제약으로 인해 중고 컴퓨터를 구매하는 것을 고려하고 있습니다. Person2는 그들의 중고차가 여전히 좋은 상태이며 단지 $300에 불과하다고 언급합니다. Person1은 중고품이 새것만큼 좋은지 묻습니다. Person2는 상황에 따라 다르며 중고품을 구입할 때 주의를 기울여야 한다고 대답합니다.\n"
     ]
    },
    {
     "name": "stderr",
     "output_type": "stream",
     "text": [
      " 94%|█████████▍| 468/499 [38:26<02:06,  4.07s/it]"
     ]
    },
    {
     "name": "stdout",
     "output_type": "stream",
     "text": [
      "모건과 Person1은 중국 식사 문화와 남은 음식을 집으로 가져가는 관습에 대해 논의합니다. 그들은 또한 큰 포션을 주문하는 전통과 이상한 음식을 먹는 것에 대한 수용에 대해 이야기합니다.\n"
     ]
    },
    {
     "name": "stderr",
     "output_type": "stream",
     "text": [
      " 94%|█████████▍| 469/499 [38:27<01:33,  3.10s/it]"
     ]
    },
    {
     "name": "stdout",
     "output_type": "stream",
     "text": [
      "해리는 흥정 없이 시장에서 200달러에 가방을 샀다.\n"
     ]
    },
    {
     "name": "stderr",
     "output_type": "stream",
     "text": [
      " 94%|█████████▍| 470/499 [38:29<01:15,  2.62s/it]"
     ]
    },
    {
     "name": "stdout",
     "output_type": "stream",
     "text": [
      "#Person2#은 영어, 프랑스어, 일본어를 유창하게 구사하며, 중학교 때부터 영어를 공부해 왔습니다.\n"
     ]
    },
    {
     "name": "stderr",
     "output_type": "stream",
     "text": [
      " 94%|█████████▍| 471/499 [38:38<02:12,  4.73s/it]"
     ]
    },
    {
     "name": "stdout",
     "output_type": "stream",
     "text": [
      "Person2는 새로운 계좌를 개설하고 싶어하며, 과도한 인출 한도와 수수료에 대해 묻습니다. Person1은 최대 과도한 인출 한도가 $1000이며, 1%의 이자가 부과된다고 설명합니다. 이는 다른 대출보다 낮고 대부분의 신용 카드보다 유리합니다. Person2는 자신의 문서가 제대로 준비되어 있는지 확인하고 Person1은 신청서에 서명해 달라고 요청합니다. Person2는 Person1에게 감사하고 대화를 마칩니다.\n"
     ]
    },
    {
     "name": "stderr",
     "output_type": "stream",
     "text": [
      " 95%|█████████▍| 472/499 [39:18<06:55, 15.38s/it]"
     ]
    },
    {
     "name": "stdout",
     "output_type": "stream",
     "text": [
      "#Person1#은 특별 할인 쿠폰을 어떻게 얻을 수 있는지 알고 싶어합니다. #Person2#는 구매하는 항목이 많을수록 더 많은 쿠폰을 받을 수 있다고 설명합니다. #Person1#은 그들이 구매하는 항목에 대해 쿠폰을 받을 수 있는지 묻습니다. #Person2#는 설탕 3봉지를 구매할 때마다 한 장의 쿠폰을 받을 수 있다고 확인합니다. #Person1#은 다음번에 쿠폰을 사용하여 항목을 구매할 때 얼마나 할인받을 수 있는지 묻습니다. #Person2#는 10p 할인을 받을 수 있다고 말합니다. #Person1#은 쿠폰을 사용하여 슈퍼마켓에서 모든 항목을 구매할 수 있는지 묻습니다. #Person2#는 유효기간 내에 사용 가능하다고 확인합니다. #Person1#은 얼마나 오래 보관할 수 있는지 묻습니다. #Person2#는 쿠폰을 적어도 1년 동안 사용할 수 있다고 말합니다. #Person1#은 9봉지의 설탕을 구매하고 3개의 쿠폰을 받기로 동의합니다. #Person2#는 확인하고 준비할 것입니다.\n"
     ]
    },
    {
     "name": "stderr",
     "output_type": "stream",
     "text": [
      " 95%|█████████▍| 473/499 [39:20<04:48, 11.11s/it]"
     ]
    },
    {
     "name": "stdout",
     "output_type": "stream",
     "text": [
      "#Person2#는 #Person1#와 함께 Johnny를 돌보고 부엌을 청소하는 데 도움을 주었습니다.\n"
     ]
    },
    {
     "name": "stderr",
     "output_type": "stream",
     "text": [
      " 95%|█████████▍| 474/499 [39:24<03:48,  9.15s/it]"
     ]
    },
    {
     "name": "stdout",
     "output_type": "stream",
     "text": [
      "Person2는 기차표를 잃어버렸고 상하이에 가야 합니다. 그들은 티켓에 대한 영수증이 없으므로 새로운 것을 사야 합니다. 그들은 610 위안에 대한 부드러운 침대차를 선택합니다. 그들은 지갑을 찾고 티켓을 지불하기에 충분한 돈을 가지고 있습니다.\n"
     ]
    },
    {
     "name": "stderr",
     "output_type": "stream",
     "text": [
      " 95%|█████████▌| 475/499 [39:28<03:02,  7.59s/it]"
     ]
    },
    {
     "name": "stdout",
     "output_type": "stream",
     "text": [
      "Person2는 비행기 시차 적응을 위한 \"Wellbeing in the Air\" 프로그램을 추천합니다. 이 프로그램은 알코올과 카페인을 피하고, 가벼운 식사를 하며, 약간의 운동을 하는 것을 포함합니다. Person1은 이를 시도해보고 싶어합니다.\n"
     ]
    },
    {
     "name": "stderr",
     "output_type": "stream",
     "text": [
      " 95%|█████████▌| 476/499 [39:33<02:33,  6.68s/it]"
     ]
    },
    {
     "name": "stdout",
     "output_type": "stream",
     "text": [
      "메리와 톰은 서로의 삶을 따라잡고 있습니다. 메리는 맥도날드에서 새로운 직업을 가지고 있으며 더 나은 기회를 찾고 있습니다. 톰은 여름에 채용하고 있는 그의 아버지의 건설 회사를 제안합니다. 메리는 관심이 있고 톰은 그의 아버지에게 그것에 대해 이야기할 것입니다.\n"
     ]
    },
    {
     "name": "stderr",
     "output_type": "stream",
     "text": [
      " 96%|█████████▌| 477/499 [40:02<04:59, 13.63s/it]"
     ]
    },
    {
     "name": "stdout",
     "output_type": "stream",
     "text": [
      "\n",
      "\n",
      "\n",
      "\n",
      "\n",
      "\n",
      "\n",
      "\n",
      "\n",
      "\n",
      "\n",
      "\n",
      "\n",
      "\n",
      "\n",
      "\n",
      "\n",
      "\n",
      "\n",
      "\n",
      "\n",
      "\n",
      "\n",
      "\n",
      "\n",
      "\n",
      "\n",
      "\n",
      "\n",
      "\n",
      "\n",
      "\n",
      "\n",
      "\n",
      "\n",
      "\n",
      "\n",
      "\n",
      "\n",
      "\n",
      "\n",
      "\n",
      "\n",
      "\n",
      "\n",
      "\n",
      "\n",
      "\n",
      "\n",
      "\n",
      "\n",
      "\n",
      "\n",
      "\n",
      "\n",
      "\n",
      "\n",
      "\n",
      "\n",
      "\n",
      "\n",
      "\n",
      "\n",
      "\n",
      "\n",
      "\n",
      "\n",
      "\n",
      "\n",
      "\n",
      "\n",
      "\n",
      "\n",
      "\n",
      "\n",
      "\n",
      "\n",
      "\n",
      "\n",
      "\n",
      "\n",
      "\n",
      "\n",
      "\n",
      "\n",
      "\n",
      "\n",
      "\n",
      "\n",
      "\n",
      "\n",
      "\n",
      "\n",
      "\n",
      "\n",
      "\n",
      "\n",
      "\n",
      "\n",
      "\n",
      "\n",
      "\n",
      "\n",
      "\n",
      "\n",
      "\n",
      "\n",
      "\n",
      "\n",
      "\n",
      "\n",
      "\n",
      "\n",
      "\n",
      "\n",
      "\n",
      "\n",
      "\n",
      "\n",
      "\n",
      "\n",
      "\n",
      "\n",
      "\n",
      "\n",
      "\n",
      "\n",
      "\n",
      "\n",
      "\n",
      "\n",
      "\n",
      "\n",
      "\n",
      "\n",
      "\n",
      "\n",
      "\n",
      "\n",
      "\n",
      "\n",
      "\n",
      "\n",
      "\n",
      "\n",
      "\n",
      "\n",
      "\n",
      "\n",
      "\n",
      "\n",
      "\n",
      "\n",
      "\n",
      "\n",
      "\n",
      "\n",
      "\n",
      "\n",
      "\n",
      "\n",
      "\n",
      "\n",
      "\n",
      "\n",
      "\n",
      "\n",
      "\n",
      "\n",
      "\n",
      "\n",
      "\n",
      "\n",
      "\n",
      "\n",
      "\n",
      "\n",
      "\n",
      "\n",
      "\n",
      "\n",
      "\n",
      "\n",
      "\n",
      "\n",
      "\n",
      "\n",
      "\n",
      "\n",
      "\n",
      "\n",
      "\n",
      "\n",
      "\n",
      "\n",
      "\n",
      "\n",
      "\n",
      "\n",
      "\n",
      "\n",
      "\n",
      "\n",
      "\n",
      "\n",
      "\n",
      "\n",
      "\n",
      "\n",
      "\n",
      "\n",
      "\n",
      "\n",
      "\n",
      "\n",
      "\n",
      "\n",
      "\n",
      "\n",
      "\n",
      "\n",
      "\n",
      "\n",
      "\n",
      "\n",
      "\n",
      "\n",
      "\n",
      "\n",
      "\n",
      "\n",
      "\n",
      "\n",
      "\n",
      "\n",
      "\n",
      "\n",
      "\n",
      "\n",
      "\n",
      "\n",
      "\n",
      "\n",
      "\n",
      "\n",
      "\n",
      "\n",
      "\n",
      "\n",
      "\n",
      "\n",
      "\n",
      "\n",
      "\n",
      "\n",
      "\n",
      "\n"
     ]
    },
    {
     "name": "stderr",
     "output_type": "stream",
     "text": [
      " 96%|█████████▌| 478/499 [40:09<04:04, 11.62s/it]"
     ]
    },
    {
     "name": "stdout",
     "output_type": "stream",
     "text": [
      "Kayne은 자전거 경주와 수리에 대한 사랑이 있었기 때문에 자신의 자전거 가게를 시작했습니다. 그는 큰 회사에서 영업 사원으로 일했지만 취미에 시간을 낼 수 없었습니다. 그는 돈을 모으고 은행에서 대출을 받아 자신의 사업을 시작했습니다. 그는 이제 자신의 가게를 언제 열고 닫을지 결정할 수 있습니다. 그는 일주일에 몇 일 동안 그를 돕는 두 명의 친구가 있습니다.\n"
     ]
    },
    {
     "name": "stderr",
     "output_type": "stream",
     "text": [
      " 96%|█████████▌| 479/499 [40:12<02:57,  8.88s/it]"
     ]
    },
    {
     "name": "stdout",
     "output_type": "stream",
     "text": [
      "문제의 사람들은 좋은 중년 부부입니다. 그들은 중년이 아니라 중년의 가장자리입니다. 그들은 중년이 아니라 늙고 늙어가고 있습니다. 그들은 오후 내내 이것에 대해 논쟁할 수 있습니다.\n"
     ]
    },
    {
     "name": "stderr",
     "output_type": "stream",
     "text": [
      " 96%|█████████▌| 480/499 [40:16<02:20,  7.39s/it]"
     ]
    },
    {
     "name": "stdout",
     "output_type": "stream",
     "text": [
      "Person2는 식사를 즐겼고 친구들과 디저트를 나누고 싶어합니다. 그들은 매운 럼 사과 크리스프와 초콜릿 무스 케이크, 그리고 네 개의 디저트 포크와 네 잔의 차를 주문합니다. Person1은 곧 디저트와 차를 가져올 것입니다.\n"
     ]
    },
    {
     "name": "stderr",
     "output_type": "stream",
     "text": [
      " 96%|█████████▋| 481/499 [40:24<02:14,  7.49s/it]"
     ]
    },
    {
     "name": "stdout",
     "output_type": "stream",
     "text": [
      "Person1과 Person2는 그들의 방 배치를 논의하고 있습니다. 그들은 누가 밑침대 침대를 얻을지 결정하기 위해 동전을 던지기로 결정하고, Person2가 이깁니다. 그들은 또한 그들의 스테레오와 책상을 어디에 둘지 논의합니다. Person1은 Person2의 여자들과의 행운을 돕겠다고 제안하지만, Person2는 농담으로 넘깁니다. 그들은 나중에 상자를 풀기로 합의합니다.\n"
     ]
    },
    {
     "name": "stderr",
     "output_type": "stream",
     "text": [
      " 97%|█████████▋| 482/499 [40:32<02:12,  7.81s/it]"
     ]
    },
    {
     "name": "stdout",
     "output_type": "stream",
     "text": [
      "Person1은 도서관 카드를 받고 싶어합니다. Person2는 Person1에게 신청서를 제공하고 운전 면허증을 요구합니다. Person1은 면허증과 신청서를 제공합니다. Person2는 Person1이 양식을 올바르게 작성했는지 확인하고 도서관의 규칙과 벌금을 알려줍니다. Person1은 규칙과 벌금을 이해했다고 인정합니다. Person2는 도서관에 가입해 준 Person1에게 감사하고 서비스를 제공할 것을 기대한다고 표현합니다.\n"
     ]
    },
    {
     "name": "stderr",
     "output_type": "stream",
     "text": [
      " 97%|█████████▋| 483/499 [40:46<02:35,  9.70s/it]"
     ]
    },
    {
     "name": "stdout",
     "output_type": "stream",
     "text": [
      "Person2는 9시부터 5시까지 근무하며 가끔 야근을 하지만 야근 수당은 받지 않습니다. 대신, 그들은 고객과 계약하는 계약의 가치에 기반한 보너스를 받습니다. 그들은 1시간의 점심시간을 가지고 커피 브레이크를 취할 수 있습니다. Person1의 상사는 커피 브레이크를 싫어하고 Person2의 업무는 약간의 서류 작업이지만 주로 컴퓨터에 정보를 입력하고 이메일이나 네트워크를 통해 보내는 것을 포함합니다. Person1은 큐비클에서 일하고 싫어합니다. Person2도 큐비클에서 일하지만 신경 쓰지 않습니다.\n"
     ]
    },
    {
     "name": "stderr",
     "output_type": "stream",
     "text": [
      " 97%|█████████▋| 484/499 [41:17<03:59, 15.96s/it]"
     ]
    },
    {
     "name": "stdout",
     "output_type": "stream",
     "text": [
      "Person1은 세탁기에 처음이고 Person2에게 도움을 요청합니다. Person2는 세탁기 사용 방법을 설명하고 Person1은 세탁기에 비누가 있는지 묻습니다. Person2는 Person1이 자신의 비누를 가져와야 한다고 설명합니다. Person1은 비누가 없다고 말합니다. Person2는 자판기에서 비누를 사는 것을 제안합니다. Person1은 비누를 사고 Person2는 너무 많이 사용하지 말라고 경고합니다. Person1은 이것이 세탁을 처음 하는 것이라고 말하고 Person2는 놀랍니다. Person1은 엄마가 항상 세탁을 해왔고 대만 출신이라고 설명합니다. Person2는 Person1이 어떻게 혼자 살 것인지 묻고 Person1은 모른다고 말합니다. 하지만 배울 것이라고 말합니다. Person2는 Person1에게 세탁기 사용 방법을 가르쳐주겠다고 제안하고 Person1은 자신을 Nick이라고 소개합니다. Person2는 오늘 하루 동안 그의 엄마가 될 것이라고 말합니다.\n"
     ]
    },
    {
     "name": "stderr",
     "output_type": "stream",
     "text": [
      " 97%|█████████▋| 485/499 [41:18<02:40, 11.43s/it]"
     ]
    },
    {
     "name": "stdout",
     "output_type": "stream",
     "text": [
      "Person1과 Person2는 그들의 하루를 따라잡고 그 날 밤에 이야기하기로 계획합니다.\n"
     ]
    },
    {
     "name": "stderr",
     "output_type": "stream",
     "text": [
      " 97%|█████████▋| 486/499 [41:19<01:48,  8.32s/it]"
     ]
    },
    {
     "name": "stdout",
     "output_type": "stream",
     "text": [
      "Katie는 몇 번 늦었지만 개선되었습니다. 고객이 없을 때는 더 적극적으로 행동해야 합니다.\n"
     ]
    },
    {
     "name": "stderr",
     "output_type": "stream",
     "text": [
      " 98%|█████████▊| 487/499 [41:26<01:35,  7.97s/it]"
     ]
    },
    {
     "name": "stdout",
     "output_type": "stream",
     "text": [
      "Person1은 다음 주 할아버지의 생일 파티를 제안하고, Person2는 호텔에서 하는 것을 제안합니다. Person1은 대신 집에서 하는 것을 제안하고, 그들은 음식 옵션을 논의합니다. 그들은 피자와 케이크를 먹기로 결정하고, Person2는 샐러드를 가져올 것입니다. 그들은 또한 선물 옵션을 논의하고 책을 결정합니다. 그들은 토요일에 파티를 열기로 합의합니다.\n"
     ]
    },
    {
     "name": "stderr",
     "output_type": "stream",
     "text": [
      " 98%|█████████▊| 488/499 [41:31<01:18,  7.10s/it]"
     ]
    },
    {
     "name": "stdout",
     "output_type": "stream",
     "text": [
      "Gian Luca Donatelli는 스페인 출신이고, Gina는 핀란드 출신입니다. Gina는 프리랜서 기자로 인터넷 서비스 공급업체에 대한 기사를 조사하고 있습니다. Gian Luca는 Gina에게 이탈리아 서비스 공급업체에서 일하는 친구를 소개시켜 주기로 합니다.\n"
     ]
    },
    {
     "name": "stderr",
     "output_type": "stream",
     "text": [
      " 98%|█████████▊| 489/499 [41:40<01:17,  7.75s/it]"
     ]
    },
    {
     "name": "stdout",
     "output_type": "stream",
     "text": [
      "대화는 노스캐롤라이나 산맥의 새들의 소리에 관한 것입니다. 이는 17년마다 발생하는 현상입니다. 새들은 항상 시끄럽지는 않지만, 일년 중 특정 시기에만 그렇습니다. 새들은 하늘에 있는 것이 아니라 나무에 있습니다. 소음은 즐겁지 않으며, 그 사람은 숲을 걸을 것을 기대하지 않습니다. 새들은 조지아주 애틀랜타에 있는 것이 아니라, 오로지 나라의 동부 지역에만 있습니다.\n"
     ]
    },
    {
     "name": "stderr",
     "output_type": "stream",
     "text": [
      " 98%|█████████▊| 490/499 [41:42<00:53,  5.93s/it]"
     ]
    },
    {
     "name": "stdout",
     "output_type": "stream",
     "text": [
      "\n",
      "Person2는 점심으로 샌드위치, 수프, 그리고 다이어트 콜라를 주문했습니다. 총 비용은 $9입니다.\n"
     ]
    },
    {
     "name": "stderr",
     "output_type": "stream",
     "text": [
      " 98%|█████████▊| 491/499 [41:44<00:39,  4.91s/it]"
     ]
    },
    {
     "name": "stdout",
     "output_type": "stream",
     "text": [
      "제임스는 지난 주 빌린 데이비드의 재킷을 기다리고 있습니다. 그는 시골에서 카메라로 사진을 찍을 예정입니다. 그는 또한 할아버지 할머니를 위해 쿠키를 가져오고 있습니다.\n"
     ]
    },
    {
     "name": "stderr",
     "output_type": "stream",
     "text": [
      " 99%|█████████▊| 492/499 [41:47<00:29,  4.23s/it]"
     ]
    },
    {
     "name": "stdout",
     "output_type": "stream",
     "text": [
      "Person1과 Person2는 휴가 계획에 대해 논의합니다. Person2는 시댁 식구들과 시간을 보내고 싶지 않기 때문에 집에 머무르는 것을 고려하고 있으며, Person1은 남편과 함께 중국으로 갑니다.\n"
     ]
    },
    {
     "name": "stderr",
     "output_type": "stream",
     "text": [
      " 99%|█████████▉| 493/499 [41:56<00:33,  5.53s/it]"
     ]
    },
    {
     "name": "stdout",
     "output_type": "stream",
     "text": [
      "Person1이 아빠와 영화관에 갈 수 있는지 묻지만 Person2는 확신하지 못합니다. Person1은 그들의 이모 Helen이 항상 그들을 영화관에 데려간다고 언급합니다. Person2는 어떤 영화가 상영되고 있는지 묻고 Person1은 \"No Country for Old Men\"이라고 말합니다. Person2는 영화를 보고 싶어하고 엄마를 초대할 수 있는지 묻습니다. Person1은 동의하고 영화 후에 맥도날드에 가자고 제안합니다.\n"
     ]
    },
    {
     "name": "stderr",
     "output_type": "stream",
     "text": [
      " 99%|█████████▉| 494/499 [41:57<00:21,  4.34s/it]"
     ]
    },
    {
     "name": "stdout",
     "output_type": "stream",
     "text": [
      "어젯밤에 Person2의 집이 털렸고 모든 가구가 도난당했습니다. Person1은 경찰에 전화하는 것을 제안합니다.\n"
     ]
    },
    {
     "name": "stderr",
     "output_type": "stream",
     "text": [
      " 99%|█████████▉| 495/499 [41:59<00:14,  3.56s/it]"
     ]
    },
    {
     "name": "stdout",
     "output_type": "stream",
     "text": [
      "잭은 학교에서 산 새로운 게임을 하기 위해 찰리를 초대하지만, 그들은 6시에 잭의 아빠를 공항에서 데리러 가야 합니다.\n"
     ]
    },
    {
     "name": "stderr",
     "output_type": "stream",
     "text": [
      " 99%|█████████▉| 496/499 [42:01<00:09,  3.01s/it]"
     ]
    },
    {
     "name": "stdout",
     "output_type": "stream",
     "text": [
      "\n",
      "Person2는 아내와 함께 레코드 플레이어를 구입한 후 컨트리 음악을 듣기 시작했고 결국 라디오 방송국에서 일하게 되었습니다.\n"
     ]
    },
    {
     "name": "stderr",
     "output_type": "stream",
     "text": [
      "100%|█████████▉| 497/499 [42:35<00:24, 12.29s/it]"
     ]
    },
    {
     "name": "stdout",
     "output_type": "stream",
     "text": [
      "Person1은 세탁실에 새로 왔고 Person2에게 세탁기 사용 방법을 묻습니다. Person2는 큰 세탁기는 건조기이고 작은 세탁기는 세탁기라고 설명합니다. Person1은 세탁기에 비누가 있는지 묻고, Person2는 따로 추가해야 한다고 말합니다. Person1은 비누가 없다고 말하고, Person2는 비누를 어디서 살 수 있는지 알려줍니다. Person1은 고맙다고 말하고 많은 양의 비누를 샀다고 말하고, Person2는 너무 많이 사용하면 세균이 번식할 수 있다고 경고합니다. Person1은 세탁을 해본 적이 없고 엄마가 항상 해줬다고 말합니다. Person2는 12살 때부터 스스로 세탁을 했다고 말하고, Person1은 미국 아이들은 더 독립적이지만 엄마가 좋은 성적을 받기 위해 모든 것을 해줬다고 말합니다. Person2는 캠퍼스에서 어떻게 지낼지 묻고, Person1은 모르겠지만 배워야 한다고 말합니다.\n"
     ]
    },
    {
     "name": "stderr",
     "output_type": "stream",
     "text": [
      "100%|█████████▉| 498/499 [42:44<00:11, 11.53s/it]"
     ]
    },
    {
     "name": "stdout",
     "output_type": "stream",
     "text": [
      "#Person1#과 #Person2#는 1년 동안 서로 만나지 못했습니다. #Person1#의 현재 임대 계약이 다음 달에 만료되므로 #Person1#은 새로운 거주지를 찾고 있습니다. #Person2#는 이웃의 아파트를 살펴볼 것을 제안합니다. 이웃의 딸이 함께 살기로 결정했기 때문에 아파트가 비어 있습니다. #Person1#은 관심이 있고 #Person2#는 더 많은 정보를 #Person1#에게 알려줄 것입니다.\n"
     ]
    },
    {
     "name": "stderr",
     "output_type": "stream",
     "text": [
      "100%|██████████| 499/499 [42:46<00:00,  5.14s/it]"
     ]
    },
    {
     "name": "stdout",
     "output_type": "stream",
     "text": [
      "Frank가 승진하고 토요일에 150명의 사람들을 위한 파티를 열 예정입니다. Betsy는 초대되었습니다.\n"
     ]
    },
    {
     "name": "stderr",
     "output_type": "stream",
     "text": [
      "\n"
     ]
    }
   ],
   "source": [
    "if __name__ == \"__main__\":\n",
    "    output = translation()"
   ]
  },
  {
   "cell_type": "code",
   "execution_count": 26,
   "metadata": {},
   "outputs": [
    {
     "name": "stdout",
     "output_type": "stream",
     "text": [
      "파일 정리가 완료되어 /data/ephemeral/home/dev/code/outout_yanolja_clean.csv로 저장되었습니다.\n"
     ]
    }
   ],
   "source": [
    "import csv\n",
    "import re\n",
    "\n",
    "# 입력/출력 파일 경로\n",
    "input_file = '/data/ephemeral/home/dev/code/outout_yanolja.csv'\n",
    "output_file = '/data/ephemeral/home/dev/code/outout_yanolja_clean.csv'\n",
    "\n",
    "def clean_text(text):\n",
    "    # 기본 전처리: 양쪽 공백 제거, 줄바꿈 통일, 이중 공백 1개로\n",
    "    text = text.strip()\n",
    "    text = text.replace('\\r\\n', '\\n').replace('\\r', '\\n')  # 윈도우/맥 줄바꿈 통일\n",
    "    text = re.sub(r'\\n+', ' ', text)  # 줄바꿈을 공백 한 칸으로 변경\n",
    "    text = re.sub(r'\\s+', ' ', text)  # 다중 공백을 단일 공백으로 변경\n",
    "\n",
    "    # 추가 정리 (필요시 확장 가능)\n",
    "    # 예) 불필요한 특수문자 제거 등\n",
    "    # text = re.sub(r'[^\\S\\r\\n]+', ' ', text)\n",
    "\n",
    "    return text\n",
    "\n",
    "def main():\n",
    "    with open(input_file, 'r', encoding='utf-8-sig') as rf, \\\n",
    "         open(output_file, 'w', encoding='utf-8', newline='') as wf:\n",
    "        \n",
    "        reader = csv.DictReader(rf)\n",
    "        fieldnames = reader.fieldnames\n",
    "        writer = csv.DictWriter(wf, fieldnames=fieldnames)\n",
    "        writer.writeheader()\n",
    "\n",
    "        for row in reader:\n",
    "            # 텍스트 정리 (summary 칼럼)\n",
    "            if 'summary' in row:\n",
    "                row['summary'] = clean_text(row['summary'])\n",
    "            writer.writerow(row)\n",
    "\n",
    "    print(f\"파일 정리가 완료되어 {output_file}로 저장되었습니다.\")\n",
    "\n",
    "if __name__ == '__main__':\n",
    "    main()\n"
   ]
  },
  {
   "cell_type": "code",
   "execution_count": 30,
   "metadata": {},
   "outputs": [],
   "source": [
    "df = pd.read_csv(\"/data/ephemeral/home/dev/code/outout_yanolja_clean.csv\")"
   ]
  },
  {
   "cell_type": "markdown",
   "metadata": {},
   "source": [
    "## 3. Prompt Engineering\n",
    "- Prompt engineering을 통해 요약 성능 향상을 시도합니다."
   ]
  },
  {
   "cell_type": "code",
   "execution_count": null,
   "metadata": {},
   "outputs": [],
   "source": [
    "# Few-shot prompt를 생성하기 위해, train data의 일부를 사용합니다.\n",
    "few_shot_samples = train_df.sample(1)\n",
    "\n",
    "sample_dialogue1 = few_shot_samples.iloc[0]['dialogue']\n",
    "sample_summary1 = few_shot_samples.iloc[0]['summary']\n",
    "\n",
    "print(f\"Sample Dialogue1:\\n{sample_dialogue1}\\n\")\n",
    "print(f\"Sample Summary1: {sample_summary1}\\n\")"
   ]
  },
  {
   "cell_type": "code",
   "execution_count": null,
   "metadata": {},
   "outputs": [],
   "source": [
    "# Prompt를 생성하는 함수를 수정합니다.\n",
    "def build_prompt(dialogue):\n",
    "    system_prompt = \"You are a expert in the field of dialogue summarization, summarize the given dialogue in a concise manner. Follow the user's instruction carefully and provide a summary that is relevant to the dialogue.\"\n",
    "\n",
    "    user_prompt = (\n",
    "        \"Following the instructions below, summarize the given document.\\n\"\n",
    "        \"Instructions:\\n\"\n",
    "        \"1. Read the provided sample dialogue and corresponding summary.\\n\"\n",
    "        \"2. Read the dialogue carefully.\\n\"\n",
    "        \"3. Following the sample's style of summary, provide a concise summary of the given dialogue.\\n\\n\"\n",
    "        \"Sample Dialogue:\\n\"\n",
    "        f\"{sample_dialogue1}\\n\\n\"\n",
    "        \"Sample Summary:\\n\"\n",
    "        f\"{sample_summary1}\\n\\n\"\n",
    "        \"Dialogue:\\n\"\n",
    "        f\"{dialogue}\\n\\n\"\n",
    "        \"Summary:\\n\"\n",
    "    )\n",
    "    \n",
    "    return [\n",
    "        {\n",
    "            \"role\": \"system\",\n",
    "            \"content\": system_prompt\n",
    "        },\n",
    "        {\n",
    "            \"role\": \"user\",\n",
    "            \"content\": user_prompt\n",
    "        }\n",
    "    ]"
   ]
  },
  {
   "cell_type": "code",
   "execution_count": null,
   "metadata": {},
   "outputs": [],
   "source": [
    "# 변경된 prompt를 사용하여, train data 중 처음 3개의 대화를 요약하고, 결과를 확인합니다.\n",
    "if __name__ == \"__main__\":\n",
    "    test_on_train_data()"
   ]
  },
  {
   "cell_type": "code",
   "execution_count": null,
   "metadata": {},
   "outputs": [],
   "source": [
    "# 변경된 prompt를 사용하여, validation data의 대화를 요약하고, 점수를 측정합니다.\n",
    "if __name__ == \"__main__\":\n",
    "    validate(100)"
   ]
  },
  {
   "cell_type": "markdown",
   "metadata": {},
   "source": [
    "다른 방식으로 Few-shot sample을 제공하여 Prompt를 구성해 봅니다."
   ]
  },
  {
   "cell_type": "code",
   "execution_count": null,
   "metadata": {},
   "outputs": [],
   "source": [
    "# Few-shot sample을 다른 방식으로 사용하여 prompt를 생성합니다.\n",
    "def build_prompt(dialogue):\n",
    "    system_prompt = \"You are a expert in the field of dialogue summarization, summarize the given dialogue in a concise manner. Follow the user's instruction carefully and provide a summary that is relevant to the dialogue.\"\n",
    "\n",
    "    few_shot_user_prompt_1 = (\n",
    "        \"Following the instructions below, summarize the given document.\\n\"\n",
    "        \"Instructions:\\n\"\n",
    "        \"1. Read the provided sample dialogue and corresponding summary.\\n\"\n",
    "        \"2. Read the dialogue carefully.\\n\"\n",
    "        \"3. Following the sample's style of summary, provide a concise summary of the given dialogue. Be sure that the summary is simple but captures the essence of the dialogue.\\n\\n\"\n",
    "        \"Dialogue:\\n\"\n",
    "        f\"{sample_dialogue1}\\n\\n\"\n",
    "        \"Summary:\\n\"\n",
    "    )\n",
    "    \n",
    "    few_shot_assistant_prompt_1 = sample_summary1\n",
    "    \n",
    "    user_prompt = (\n",
    "        \"Dialogue:\\n\"\n",
    "        f\"{dialogue}\\n\\n\"\n",
    "        \"Summary:\\n\"\n",
    "    )\n",
    "    \n",
    "    return [\n",
    "        {\"role\": \"system\", \"content\": system_prompt},\n",
    "        {\"role\": \"user\", \"content\": few_shot_user_prompt_1},\n",
    "        {\"role\": \"assistant\", \"content\": few_shot_assistant_prompt_1},\n",
    "        {\"role\": \"user\", \"content\": user_prompt},\n",
    "    ]"
   ]
  },
  {
   "cell_type": "code",
   "execution_count": null,
   "metadata": {},
   "outputs": [],
   "source": [
    "# 변경된 prompt를 사용하여, train data 중 처음 3개의 대화를 요약하고, 결과를 확인합니다.\n",
    "if __name__ == \"__main__\":\n",
    "    test_on_train_data()"
   ]
  },
  {
   "cell_type": "code",
   "execution_count": null,
   "metadata": {},
   "outputs": [],
   "source": [
    "# 변경된 prompt를 사용하여, validation data의 대화를 요약하고, 점수를 측정합니다.\n",
    "if __name__ == \"__main__\":\n",
    "    validate(100)"
   ]
  },
  {
   "cell_type": "markdown",
   "metadata": {},
   "source": [
    "### (선택) 변경된 Prompt로 test dataset에 대한 요약을 진행합니다.\n",
    "- 변경된 prompt를 통해 점수가 개선되었다면, test dataset에 대한 요약을 진행하고 제출합니다."
   ]
  },
  {
   "cell_type": "code",
   "execution_count": null,
   "metadata": {},
   "outputs": [],
   "source": [
    "# 변경된 prompt를 사용하여, test data의 대화를 요약하고, 결과를 확인합니다.\n",
    "if __name__ == \"__main__\":\n",
    "    output = inference()"
   ]
  },
  {
   "cell_type": "code",
   "execution_count": null,
   "metadata": {},
   "outputs": [],
   "source": [
    "output"
   ]
  }
 ],
 "metadata": {
  "accelerator": "GPU",
  "colab": {
   "gpuType": "T4",
   "machine_shape": "hm",
   "provenance": [],
   "toc_visible": true
  },
  "kernelspec": {
   "display_name": "py12",
   "language": "python",
   "name": "python3"
  },
  "language_info": {
   "codemirror_mode": {
    "name": "ipython",
    "version": 3
   },
   "file_extension": ".py",
   "mimetype": "text/x-python",
   "name": "python",
   "nbconvert_exporter": "python",
   "pygments_lexer": "ipython3",
   "version": "3.12.10"
  },
  "widgets": {
   "application/vnd.jupyter.widget-state+json": {
    "083ea69907bb48d4a8fff919bac51aad": {
     "model_module": "@jupyter-widgets/base",
     "model_module_version": "1.2.0",
     "model_name": "LayoutModel",
     "state": {
      "_model_module": "@jupyter-widgets/base",
      "_model_module_version": "1.2.0",
      "_model_name": "LayoutModel",
      "_view_count": null,
      "_view_module": "@jupyter-widgets/base",
      "_view_module_version": "1.2.0",
      "_view_name": "LayoutView",
      "align_content": null,
      "align_items": null,
      "align_self": null,
      "border": null,
      "bottom": null,
      "display": null,
      "flex": null,
      "flex_flow": null,
      "grid_area": null,
      "grid_auto_columns": null,
      "grid_auto_flow": null,
      "grid_auto_rows": null,
      "grid_column": null,
      "grid_gap": null,
      "grid_row": null,
      "grid_template_areas": null,
      "grid_template_columns": null,
      "grid_template_rows": null,
      "height": null,
      "justify_content": null,
      "justify_items": null,
      "left": null,
      "margin": null,
      "max_height": null,
      "max_width": null,
      "min_height": null,
      "min_width": null,
      "object_fit": null,
      "object_position": null,
      "order": null,
      "overflow": null,
      "overflow_x": null,
      "overflow_y": null,
      "padding": null,
      "right": null,
      "top": null,
      "visibility": null,
      "width": null
     }
    },
    "08d05bc20a96432badd459e1ffaf868e": {
     "model_module": "@jupyter-widgets/controls",
     "model_module_version": "1.5.0",
     "model_name": "DescriptionStyleModel",
     "state": {
      "_model_module": "@jupyter-widgets/controls",
      "_model_module_version": "1.5.0",
      "_model_name": "DescriptionStyleModel",
      "_view_count": null,
      "_view_module": "@jupyter-widgets/base",
      "_view_module_version": "1.2.0",
      "_view_name": "StyleView",
      "description_width": ""
     }
    },
    "13651c09564a4337b8274c1cb436faa5": {
     "model_module": "@jupyter-widgets/controls",
     "model_module_version": "1.5.0",
     "model_name": "DescriptionStyleModel",
     "state": {
      "_model_module": "@jupyter-widgets/controls",
      "_model_module_version": "1.5.0",
      "_model_name": "DescriptionStyleModel",
      "_view_count": null,
      "_view_module": "@jupyter-widgets/base",
      "_view_module_version": "1.2.0",
      "_view_name": "StyleView",
      "description_width": ""
     }
    },
    "14f6c91d6c634379b498586c51e606e0": {
     "model_module": "@jupyter-widgets/base",
     "model_module_version": "1.2.0",
     "model_name": "LayoutModel",
     "state": {
      "_model_module": "@jupyter-widgets/base",
      "_model_module_version": "1.2.0",
      "_model_name": "LayoutModel",
      "_view_count": null,
      "_view_module": "@jupyter-widgets/base",
      "_view_module_version": "1.2.0",
      "_view_name": "LayoutView",
      "align_content": null,
      "align_items": null,
      "align_self": null,
      "border": null,
      "bottom": null,
      "display": null,
      "flex": null,
      "flex_flow": null,
      "grid_area": null,
      "grid_auto_columns": null,
      "grid_auto_flow": null,
      "grid_auto_rows": null,
      "grid_column": null,
      "grid_gap": null,
      "grid_row": null,
      "grid_template_areas": null,
      "grid_template_columns": null,
      "grid_template_rows": null,
      "height": null,
      "justify_content": null,
      "justify_items": null,
      "left": null,
      "margin": null,
      "max_height": null,
      "max_width": null,
      "min_height": null,
      "min_width": null,
      "object_fit": null,
      "object_position": null,
      "order": null,
      "overflow": null,
      "overflow_x": null,
      "overflow_y": null,
      "padding": null,
      "right": null,
      "top": null,
      "visibility": null,
      "width": null
     }
    },
    "21d2e54b5a0a4f79973a512105da43eb": {
     "model_module": "@jupyter-widgets/base",
     "model_module_version": "1.2.0",
     "model_name": "LayoutModel",
     "state": {
      "_model_module": "@jupyter-widgets/base",
      "_model_module_version": "1.2.0",
      "_model_name": "LayoutModel",
      "_view_count": null,
      "_view_module": "@jupyter-widgets/base",
      "_view_module_version": "1.2.0",
      "_view_name": "LayoutView",
      "align_content": null,
      "align_items": null,
      "align_self": null,
      "border": null,
      "bottom": null,
      "display": null,
      "flex": null,
      "flex_flow": null,
      "grid_area": null,
      "grid_auto_columns": null,
      "grid_auto_flow": null,
      "grid_auto_rows": null,
      "grid_column": null,
      "grid_gap": null,
      "grid_row": null,
      "grid_template_areas": null,
      "grid_template_columns": null,
      "grid_template_rows": null,
      "height": null,
      "justify_content": null,
      "justify_items": null,
      "left": null,
      "margin": null,
      "max_height": null,
      "max_width": null,
      "min_height": null,
      "min_width": null,
      "object_fit": null,
      "object_position": null,
      "order": null,
      "overflow": null,
      "overflow_x": null,
      "overflow_y": null,
      "padding": null,
      "right": null,
      "top": null,
      "visibility": null,
      "width": null
     }
    },
    "2307c6dcbe0141acb5e61baae19cade7": {
     "model_module": "@jupyter-widgets/base",
     "model_module_version": "1.2.0",
     "model_name": "LayoutModel",
     "state": {
      "_model_module": "@jupyter-widgets/base",
      "_model_module_version": "1.2.0",
      "_model_name": "LayoutModel",
      "_view_count": null,
      "_view_module": "@jupyter-widgets/base",
      "_view_module_version": "1.2.0",
      "_view_name": "LayoutView",
      "align_content": null,
      "align_items": null,
      "align_self": null,
      "border": null,
      "bottom": null,
      "display": null,
      "flex": null,
      "flex_flow": null,
      "grid_area": null,
      "grid_auto_columns": null,
      "grid_auto_flow": null,
      "grid_auto_rows": null,
      "grid_column": null,
      "grid_gap": null,
      "grid_row": null,
      "grid_template_areas": null,
      "grid_template_columns": null,
      "grid_template_rows": null,
      "height": null,
      "justify_content": null,
      "justify_items": null,
      "left": null,
      "margin": null,
      "max_height": null,
      "max_width": null,
      "min_height": null,
      "min_width": null,
      "object_fit": null,
      "object_position": null,
      "order": null,
      "overflow": null,
      "overflow_x": null,
      "overflow_y": null,
      "padding": null,
      "right": null,
      "top": null,
      "visibility": null,
      "width": null
     }
    },
    "285007b45236478ca147c6df752c8da4": {
     "model_module": "@jupyter-widgets/controls",
     "model_module_version": "1.5.0",
     "model_name": "DescriptionStyleModel",
     "state": {
      "_model_module": "@jupyter-widgets/controls",
      "_model_module_version": "1.5.0",
      "_model_name": "DescriptionStyleModel",
      "_view_count": null,
      "_view_module": "@jupyter-widgets/base",
      "_view_module_version": "1.2.0",
      "_view_name": "StyleView",
      "description_width": ""
     }
    },
    "2a190bda0b72407e9a953cd2104dd3b2": {
     "model_module": "@jupyter-widgets/controls",
     "model_module_version": "1.5.0",
     "model_name": "DescriptionStyleModel",
     "state": {
      "_model_module": "@jupyter-widgets/controls",
      "_model_module_version": "1.5.0",
      "_model_name": "DescriptionStyleModel",
      "_view_count": null,
      "_view_module": "@jupyter-widgets/base",
      "_view_module_version": "1.2.0",
      "_view_name": "StyleView",
      "description_width": ""
     }
    },
    "2fd3d7bbcd6948d8904d33001f95ea03": {
     "model_module": "@jupyter-widgets/controls",
     "model_module_version": "1.5.0",
     "model_name": "ProgressStyleModel",
     "state": {
      "_model_module": "@jupyter-widgets/controls",
      "_model_module_version": "1.5.0",
      "_model_name": "ProgressStyleModel",
      "_view_count": null,
      "_view_module": "@jupyter-widgets/base",
      "_view_module_version": "1.2.0",
      "_view_name": "StyleView",
      "bar_color": null,
      "description_width": ""
     }
    },
    "3645438ace1f4596a8dbc157b48c1521": {
     "model_module": "@jupyter-widgets/controls",
     "model_module_version": "1.5.0",
     "model_name": "HTMLModel",
     "state": {
      "_dom_classes": [],
      "_model_module": "@jupyter-widgets/controls",
      "_model_module_version": "1.5.0",
      "_model_name": "HTMLModel",
      "_view_count": null,
      "_view_module": "@jupyter-widgets/controls",
      "_view_module_version": "1.5.0",
      "_view_name": "HTMLView",
      "description": "",
      "description_tooltip": null,
      "layout": "IPY_MODEL_14f6c91d6c634379b498586c51e606e0",
      "placeholder": "​",
      "style": "IPY_MODEL_08d05bc20a96432badd459e1ffaf868e",
      "value": " 295/295 [00:00&lt;00:00, 21.3kB/s]"
     }
    },
    "3a04e871b74b45d7bf02fd33bb103577": {
     "model_module": "@jupyter-widgets/controls",
     "model_module_version": "1.5.0",
     "model_name": "ProgressStyleModel",
     "state": {
      "_model_module": "@jupyter-widgets/controls",
      "_model_module_version": "1.5.0",
      "_model_name": "ProgressStyleModel",
      "_view_count": null,
      "_view_module": "@jupyter-widgets/base",
      "_view_module_version": "1.2.0",
      "_view_name": "StyleView",
      "bar_color": null,
      "description_width": ""
     }
    },
    "3bcd6b6b956347b29e1efa20a1d00542": {
     "model_module": "@jupyter-widgets/base",
     "model_module_version": "1.2.0",
     "model_name": "LayoutModel",
     "state": {
      "_model_module": "@jupyter-widgets/base",
      "_model_module_version": "1.2.0",
      "_model_name": "LayoutModel",
      "_view_count": null,
      "_view_module": "@jupyter-widgets/base",
      "_view_module_version": "1.2.0",
      "_view_name": "LayoutView",
      "align_content": null,
      "align_items": null,
      "align_self": null,
      "border": null,
      "bottom": null,
      "display": null,
      "flex": null,
      "flex_flow": null,
      "grid_area": null,
      "grid_auto_columns": null,
      "grid_auto_flow": null,
      "grid_auto_rows": null,
      "grid_column": null,
      "grid_gap": null,
      "grid_row": null,
      "grid_template_areas": null,
      "grid_template_columns": null,
      "grid_template_rows": null,
      "height": null,
      "justify_content": null,
      "justify_items": null,
      "left": null,
      "margin": null,
      "max_height": null,
      "max_width": null,
      "min_height": null,
      "min_width": null,
      "object_fit": null,
      "object_position": null,
      "order": null,
      "overflow": null,
      "overflow_x": null,
      "overflow_y": null,
      "padding": null,
      "right": null,
      "top": null,
      "visibility": null,
      "width": null
     }
    },
    "3c284a826f6843f6aa47eacad478ac30": {
     "model_module": "@jupyter-widgets/controls",
     "model_module_version": "1.5.0",
     "model_name": "HTMLModel",
     "state": {
      "_dom_classes": [],
      "_model_module": "@jupyter-widgets/controls",
      "_model_module_version": "1.5.0",
      "_model_name": "HTMLModel",
      "_view_count": null,
      "_view_module": "@jupyter-widgets/controls",
      "_view_module_version": "1.5.0",
      "_view_name": "HTMLView",
      "description": "",
      "description_tooltip": null,
      "layout": "IPY_MODEL_affff1d8a89e4c14955d1b2aa39ff1ab",
      "placeholder": "​",
      "style": "IPY_MODEL_13651c09564a4337b8274c1cb436faa5",
      "value": "tokenizer.json: 100%"
     }
    },
    "45187decb58b4ad39ad532259c6277e5": {
     "model_module": "@jupyter-widgets/controls",
     "model_module_version": "1.5.0",
     "model_name": "DescriptionStyleModel",
     "state": {
      "_model_module": "@jupyter-widgets/controls",
      "_model_module_version": "1.5.0",
      "_model_name": "DescriptionStyleModel",
      "_view_count": null,
      "_view_module": "@jupyter-widgets/base",
      "_view_module_version": "1.2.0",
      "_view_name": "StyleView",
      "description_width": ""
     }
    },
    "4747b668e2fa4ab58a449446f80030f5": {
     "model_module": "@jupyter-widgets/controls",
     "model_module_version": "1.5.0",
     "model_name": "ProgressStyleModel",
     "state": {
      "_model_module": "@jupyter-widgets/controls",
      "_model_module_version": "1.5.0",
      "_model_name": "ProgressStyleModel",
      "_view_count": null,
      "_view_module": "@jupyter-widgets/base",
      "_view_module_version": "1.2.0",
      "_view_name": "StyleView",
      "bar_color": null,
      "description_width": ""
     }
    },
    "52095cc7087243ac916055e569fd22f3": {
     "model_module": "@jupyter-widgets/controls",
     "model_module_version": "1.5.0",
     "model_name": "FloatProgressModel",
     "state": {
      "_dom_classes": [],
      "_model_module": "@jupyter-widgets/controls",
      "_model_module_version": "1.5.0",
      "_model_name": "FloatProgressModel",
      "_view_count": null,
      "_view_module": "@jupyter-widgets/controls",
      "_view_module_version": "1.5.0",
      "_view_name": "ProgressView",
      "bar_style": "success",
      "description": "",
      "description_tooltip": null,
      "layout": "IPY_MODEL_c18f0e3bc35e44d9915c3f84cd282a26",
      "max": 109,
      "min": 0,
      "orientation": "horizontal",
      "style": "IPY_MODEL_3a04e871b74b45d7bf02fd33bb103577",
      "value": 109
     }
    },
    "58001a60eacc44d5b38a68648adccde4": {
     "model_module": "@jupyter-widgets/base",
     "model_module_version": "1.2.0",
     "model_name": "LayoutModel",
     "state": {
      "_model_module": "@jupyter-widgets/base",
      "_model_module_version": "1.2.0",
      "_model_name": "LayoutModel",
      "_view_count": null,
      "_view_module": "@jupyter-widgets/base",
      "_view_module_version": "1.2.0",
      "_view_name": "LayoutView",
      "align_content": null,
      "align_items": null,
      "align_self": null,
      "border": null,
      "bottom": null,
      "display": null,
      "flex": null,
      "flex_flow": null,
      "grid_area": null,
      "grid_auto_columns": null,
      "grid_auto_flow": null,
      "grid_auto_rows": null,
      "grid_column": null,
      "grid_gap": null,
      "grid_row": null,
      "grid_template_areas": null,
      "grid_template_columns": null,
      "grid_template_rows": null,
      "height": null,
      "justify_content": null,
      "justify_items": null,
      "left": null,
      "margin": null,
      "max_height": null,
      "max_width": null,
      "min_height": null,
      "min_width": null,
      "object_fit": null,
      "object_position": null,
      "order": null,
      "overflow": null,
      "overflow_x": null,
      "overflow_y": null,
      "padding": null,
      "right": null,
      "top": null,
      "visibility": null,
      "width": null
     }
    },
    "58c794fb7ce543a39fdf66d757f6eeab": {
     "model_module": "@jupyter-widgets/controls",
     "model_module_version": "1.5.0",
     "model_name": "HTMLModel",
     "state": {
      "_dom_classes": [],
      "_model_module": "@jupyter-widgets/controls",
      "_model_module_version": "1.5.0",
      "_model_name": "HTMLModel",
      "_view_count": null,
      "_view_module": "@jupyter-widgets/controls",
      "_view_module_version": "1.5.0",
      "_view_name": "HTMLView",
      "description": "",
      "description_tooltip": null,
      "layout": "IPY_MODEL_6f5fde5b0ac840a18bd5cc380e564ff6",
      "placeholder": "​",
      "style": "IPY_MODEL_45187decb58b4ad39ad532259c6277e5",
      "value": "tokenizer_config.json: 100%"
     }
    },
    "5dfcf310ca9e4e2794076098a5d69cea": {
     "model_module": "@jupyter-widgets/controls",
     "model_module_version": "1.5.0",
     "model_name": "HBoxModel",
     "state": {
      "_dom_classes": [],
      "_model_module": "@jupyter-widgets/controls",
      "_model_module_version": "1.5.0",
      "_model_name": "HBoxModel",
      "_view_count": null,
      "_view_module": "@jupyter-widgets/controls",
      "_view_module_version": "1.5.0",
      "_view_name": "HBoxView",
      "box_style": "",
      "children": [
       "IPY_MODEL_3c284a826f6843f6aa47eacad478ac30",
       "IPY_MODEL_6caedd60c6b747469c82930be1f95d6d",
       "IPY_MODEL_64f2218f899d446393cfea44f206f0a6"
      ],
      "layout": "IPY_MODEL_d068f541df3f438dbd5138863e64b2f2"
     }
    },
    "64f2218f899d446393cfea44f206f0a6": {
     "model_module": "@jupyter-widgets/controls",
     "model_module_version": "1.5.0",
     "model_name": "HTMLModel",
     "state": {
      "_dom_classes": [],
      "_model_module": "@jupyter-widgets/controls",
      "_model_module_version": "1.5.0",
      "_model_name": "HTMLModel",
      "_view_count": null,
      "_view_module": "@jupyter-widgets/controls",
      "_view_module_version": "1.5.0",
      "_view_name": "HTMLView",
      "description": "",
      "description_tooltip": null,
      "layout": "IPY_MODEL_d22fbc2c5dbf422399e496c9b500025a",
      "placeholder": "​",
      "style": "IPY_MODEL_775d8bbeceac4e2da4f21ab6235c89ed",
      "value": " 682k/682k [00:00&lt;00:00, 5.40MB/s]"
     }
    },
    "6caedd60c6b747469c82930be1f95d6d": {
     "model_module": "@jupyter-widgets/controls",
     "model_module_version": "1.5.0",
     "model_name": "FloatProgressModel",
     "state": {
      "_dom_classes": [],
      "_model_module": "@jupyter-widgets/controls",
      "_model_module_version": "1.5.0",
      "_model_name": "FloatProgressModel",
      "_view_count": null,
      "_view_module": "@jupyter-widgets/controls",
      "_view_module_version": "1.5.0",
      "_view_name": "ProgressView",
      "bar_style": "success",
      "description": "",
      "description_tooltip": null,
      "layout": "IPY_MODEL_3bcd6b6b956347b29e1efa20a1d00542",
      "max": 682133,
      "min": 0,
      "orientation": "horizontal",
      "style": "IPY_MODEL_2fd3d7bbcd6948d8904d33001f95ea03",
      "value": 682133
     }
    },
    "6f5fde5b0ac840a18bd5cc380e564ff6": {
     "model_module": "@jupyter-widgets/base",
     "model_module_version": "1.2.0",
     "model_name": "LayoutModel",
     "state": {
      "_model_module": "@jupyter-widgets/base",
      "_model_module_version": "1.2.0",
      "_model_name": "LayoutModel",
      "_view_count": null,
      "_view_module": "@jupyter-widgets/base",
      "_view_module_version": "1.2.0",
      "_view_name": "LayoutView",
      "align_content": null,
      "align_items": null,
      "align_self": null,
      "border": null,
      "bottom": null,
      "display": null,
      "flex": null,
      "flex_flow": null,
      "grid_area": null,
      "grid_auto_columns": null,
      "grid_auto_flow": null,
      "grid_auto_rows": null,
      "grid_column": null,
      "grid_gap": null,
      "grid_row": null,
      "grid_template_areas": null,
      "grid_template_columns": null,
      "grid_template_rows": null,
      "height": null,
      "justify_content": null,
      "justify_items": null,
      "left": null,
      "margin": null,
      "max_height": null,
      "max_width": null,
      "min_height": null,
      "min_width": null,
      "object_fit": null,
      "object_position": null,
      "order": null,
      "overflow": null,
      "overflow_x": null,
      "overflow_y": null,
      "padding": null,
      "right": null,
      "top": null,
      "visibility": null,
      "width": null
     }
    },
    "775d8bbeceac4e2da4f21ab6235c89ed": {
     "model_module": "@jupyter-widgets/controls",
     "model_module_version": "1.5.0",
     "model_name": "DescriptionStyleModel",
     "state": {
      "_model_module": "@jupyter-widgets/controls",
      "_model_module_version": "1.5.0",
      "_model_name": "DescriptionStyleModel",
      "_view_count": null,
      "_view_module": "@jupyter-widgets/base",
      "_view_module_version": "1.2.0",
      "_view_name": "StyleView",
      "description_width": ""
     }
    },
    "8a6464a355f7464c989033965d418a8a": {
     "model_module": "@jupyter-widgets/controls",
     "model_module_version": "1.5.0",
     "model_name": "FloatProgressModel",
     "state": {
      "_dom_classes": [],
      "_model_module": "@jupyter-widgets/controls",
      "_model_module_version": "1.5.0",
      "_model_name": "FloatProgressModel",
      "_view_count": null,
      "_view_module": "@jupyter-widgets/controls",
      "_view_module_version": "1.5.0",
      "_view_name": "ProgressView",
      "bar_style": "success",
      "description": "",
      "description_tooltip": null,
      "layout": "IPY_MODEL_2307c6dcbe0141acb5e61baae19cade7",
      "max": 295,
      "min": 0,
      "orientation": "horizontal",
      "style": "IPY_MODEL_4747b668e2fa4ab58a449446f80030f5",
      "value": 295
     }
    },
    "a15af9e8158f4903b9189f3d322a5ef3": {
     "model_module": "@jupyter-widgets/controls",
     "model_module_version": "1.5.0",
     "model_name": "HTMLModel",
     "state": {
      "_dom_classes": [],
      "_model_module": "@jupyter-widgets/controls",
      "_model_module_version": "1.5.0",
      "_model_name": "HTMLModel",
      "_view_count": null,
      "_view_module": "@jupyter-widgets/controls",
      "_view_module_version": "1.5.0",
      "_view_name": "HTMLView",
      "description": "",
      "description_tooltip": null,
      "layout": "IPY_MODEL_ac00d6c2cf974b33a628acb3f1471316",
      "placeholder": "​",
      "style": "IPY_MODEL_285007b45236478ca147c6df752c8da4",
      "value": " 109/109 [00:00&lt;00:00, 9.44kB/s]"
     }
    },
    "ac00d6c2cf974b33a628acb3f1471316": {
     "model_module": "@jupyter-widgets/base",
     "model_module_version": "1.2.0",
     "model_name": "LayoutModel",
     "state": {
      "_model_module": "@jupyter-widgets/base",
      "_model_module_version": "1.2.0",
      "_model_name": "LayoutModel",
      "_view_count": null,
      "_view_module": "@jupyter-widgets/base",
      "_view_module_version": "1.2.0",
      "_view_name": "LayoutView",
      "align_content": null,
      "align_items": null,
      "align_self": null,
      "border": null,
      "bottom": null,
      "display": null,
      "flex": null,
      "flex_flow": null,
      "grid_area": null,
      "grid_auto_columns": null,
      "grid_auto_flow": null,
      "grid_auto_rows": null,
      "grid_column": null,
      "grid_gap": null,
      "grid_row": null,
      "grid_template_areas": null,
      "grid_template_columns": null,
      "grid_template_rows": null,
      "height": null,
      "justify_content": null,
      "justify_items": null,
      "left": null,
      "margin": null,
      "max_height": null,
      "max_width": null,
      "min_height": null,
      "min_width": null,
      "object_fit": null,
      "object_position": null,
      "order": null,
      "overflow": null,
      "overflow_x": null,
      "overflow_y": null,
      "padding": null,
      "right": null,
      "top": null,
      "visibility": null,
      "width": null
     }
    },
    "affff1d8a89e4c14955d1b2aa39ff1ab": {
     "model_module": "@jupyter-widgets/base",
     "model_module_version": "1.2.0",
     "model_name": "LayoutModel",
     "state": {
      "_model_module": "@jupyter-widgets/base",
      "_model_module_version": "1.2.0",
      "_model_name": "LayoutModel",
      "_view_count": null,
      "_view_module": "@jupyter-widgets/base",
      "_view_module_version": "1.2.0",
      "_view_name": "LayoutView",
      "align_content": null,
      "align_items": null,
      "align_self": null,
      "border": null,
      "bottom": null,
      "display": null,
      "flex": null,
      "flex_flow": null,
      "grid_area": null,
      "grid_auto_columns": null,
      "grid_auto_flow": null,
      "grid_auto_rows": null,
      "grid_column": null,
      "grid_gap": null,
      "grid_row": null,
      "grid_template_areas": null,
      "grid_template_columns": null,
      "grid_template_rows": null,
      "height": null,
      "justify_content": null,
      "justify_items": null,
      "left": null,
      "margin": null,
      "max_height": null,
      "max_width": null,
      "min_height": null,
      "min_width": null,
      "object_fit": null,
      "object_position": null,
      "order": null,
      "overflow": null,
      "overflow_x": null,
      "overflow_y": null,
      "padding": null,
      "right": null,
      "top": null,
      "visibility": null,
      "width": null
     }
    },
    "c18f0e3bc35e44d9915c3f84cd282a26": {
     "model_module": "@jupyter-widgets/base",
     "model_module_version": "1.2.0",
     "model_name": "LayoutModel",
     "state": {
      "_model_module": "@jupyter-widgets/base",
      "_model_module_version": "1.2.0",
      "_model_name": "LayoutModel",
      "_view_count": null,
      "_view_module": "@jupyter-widgets/base",
      "_view_module_version": "1.2.0",
      "_view_name": "LayoutView",
      "align_content": null,
      "align_items": null,
      "align_self": null,
      "border": null,
      "bottom": null,
      "display": null,
      "flex": null,
      "flex_flow": null,
      "grid_area": null,
      "grid_auto_columns": null,
      "grid_auto_flow": null,
      "grid_auto_rows": null,
      "grid_column": null,
      "grid_gap": null,
      "grid_row": null,
      "grid_template_areas": null,
      "grid_template_columns": null,
      "grid_template_rows": null,
      "height": null,
      "justify_content": null,
      "justify_items": null,
      "left": null,
      "margin": null,
      "max_height": null,
      "max_width": null,
      "min_height": null,
      "min_width": null,
      "object_fit": null,
      "object_position": null,
      "order": null,
      "overflow": null,
      "overflow_x": null,
      "overflow_y": null,
      "padding": null,
      "right": null,
      "top": null,
      "visibility": null,
      "width": null
     }
    },
    "d068f541df3f438dbd5138863e64b2f2": {
     "model_module": "@jupyter-widgets/base",
     "model_module_version": "1.2.0",
     "model_name": "LayoutModel",
     "state": {
      "_model_module": "@jupyter-widgets/base",
      "_model_module_version": "1.2.0",
      "_model_name": "LayoutModel",
      "_view_count": null,
      "_view_module": "@jupyter-widgets/base",
      "_view_module_version": "1.2.0",
      "_view_name": "LayoutView",
      "align_content": null,
      "align_items": null,
      "align_self": null,
      "border": null,
      "bottom": null,
      "display": null,
      "flex": null,
      "flex_flow": null,
      "grid_area": null,
      "grid_auto_columns": null,
      "grid_auto_flow": null,
      "grid_auto_rows": null,
      "grid_column": null,
      "grid_gap": null,
      "grid_row": null,
      "grid_template_areas": null,
      "grid_template_columns": null,
      "grid_template_rows": null,
      "height": null,
      "justify_content": null,
      "justify_items": null,
      "left": null,
      "margin": null,
      "max_height": null,
      "max_width": null,
      "min_height": null,
      "min_width": null,
      "object_fit": null,
      "object_position": null,
      "order": null,
      "overflow": null,
      "overflow_x": null,
      "overflow_y": null,
      "padding": null,
      "right": null,
      "top": null,
      "visibility": null,
      "width": null
     }
    },
    "d22fbc2c5dbf422399e496c9b500025a": {
     "model_module": "@jupyter-widgets/base",
     "model_module_version": "1.2.0",
     "model_name": "LayoutModel",
     "state": {
      "_model_module": "@jupyter-widgets/base",
      "_model_module_version": "1.2.0",
      "_model_name": "LayoutModel",
      "_view_count": null,
      "_view_module": "@jupyter-widgets/base",
      "_view_module_version": "1.2.0",
      "_view_name": "LayoutView",
      "align_content": null,
      "align_items": null,
      "align_self": null,
      "border": null,
      "bottom": null,
      "display": null,
      "flex": null,
      "flex_flow": null,
      "grid_area": null,
      "grid_auto_columns": null,
      "grid_auto_flow": null,
      "grid_auto_rows": null,
      "grid_column": null,
      "grid_gap": null,
      "grid_row": null,
      "grid_template_areas": null,
      "grid_template_columns": null,
      "grid_template_rows": null,
      "height": null,
      "justify_content": null,
      "justify_items": null,
      "left": null,
      "margin": null,
      "max_height": null,
      "max_width": null,
      "min_height": null,
      "min_width": null,
      "object_fit": null,
      "object_position": null,
      "order": null,
      "overflow": null,
      "overflow_x": null,
      "overflow_y": null,
      "padding": null,
      "right": null,
      "top": null,
      "visibility": null,
      "width": null
     }
    },
    "de1a3f7701c243839fe03b930a9b9e30": {
     "model_module": "@jupyter-widgets/controls",
     "model_module_version": "1.5.0",
     "model_name": "HBoxModel",
     "state": {
      "_dom_classes": [],
      "_model_module": "@jupyter-widgets/controls",
      "_model_module_version": "1.5.0",
      "_model_name": "HBoxModel",
      "_view_count": null,
      "_view_module": "@jupyter-widgets/controls",
      "_view_module_version": "1.5.0",
      "_view_name": "HBoxView",
      "box_style": "",
      "children": [
       "IPY_MODEL_ebc22683058a4f229c5588e52fc93536",
       "IPY_MODEL_52095cc7087243ac916055e569fd22f3",
       "IPY_MODEL_a15af9e8158f4903b9189f3d322a5ef3"
      ],
      "layout": "IPY_MODEL_21d2e54b5a0a4f79973a512105da43eb"
     }
    },
    "e920dbc173c045d1a32143349f1dff8e": {
     "model_module": "@jupyter-widgets/controls",
     "model_module_version": "1.5.0",
     "model_name": "HBoxModel",
     "state": {
      "_dom_classes": [],
      "_model_module": "@jupyter-widgets/controls",
      "_model_module_version": "1.5.0",
      "_model_name": "HBoxModel",
      "_view_count": null,
      "_view_module": "@jupyter-widgets/controls",
      "_view_module_version": "1.5.0",
      "_view_name": "HBoxView",
      "box_style": "",
      "children": [
       "IPY_MODEL_58c794fb7ce543a39fdf66d757f6eeab",
       "IPY_MODEL_8a6464a355f7464c989033965d418a8a",
       "IPY_MODEL_3645438ace1f4596a8dbc157b48c1521"
      ],
      "layout": "IPY_MODEL_58001a60eacc44d5b38a68648adccde4"
     }
    },
    "ebc22683058a4f229c5588e52fc93536": {
     "model_module": "@jupyter-widgets/controls",
     "model_module_version": "1.5.0",
     "model_name": "HTMLModel",
     "state": {
      "_dom_classes": [],
      "_model_module": "@jupyter-widgets/controls",
      "_model_module_version": "1.5.0",
      "_model_name": "HTMLModel",
      "_view_count": null,
      "_view_module": "@jupyter-widgets/controls",
      "_view_module_version": "1.5.0",
      "_view_name": "HTMLView",
      "description": "",
      "description_tooltip": null,
      "layout": "IPY_MODEL_083ea69907bb48d4a8fff919bac51aad",
      "placeholder": "​",
      "style": "IPY_MODEL_2a190bda0b72407e9a953cd2104dd3b2",
      "value": "special_tokens_map.json: 100%"
     }
    }
   }
  }
 },
 "nbformat": 4,
 "nbformat_minor": 4
}
